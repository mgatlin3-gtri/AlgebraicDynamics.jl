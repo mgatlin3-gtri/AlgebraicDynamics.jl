{
 "cells": [
  {
   "cell_type": "code",
   "execution_count": 38,
   "id": "e5462132",
   "metadata": {},
   "outputs": [
    {
     "name": "stdout",
     "output_type": "stream",
     "text": [
      "Requirement already satisfied: trusspy in c:\\users\\mgatlin3\\anaconda3\\lib\\site-packages (20180816.post11)\n",
      "\n",
      "         _____                  ______      \n",
      "        |_   _|                 | ___ \\     \n",
      "          | |_ __ _   _ ___ ___ | |_/ /   _ \n",
      "          | | '__| | | / __/ __||  __/ | | |\n",
      "          | | |  | |_| \\__ \\__ \\| |  | |_| |\n",
      "          \\_/_|   \\__,_|___/___/\\_|   \\__, |\n",
      "                                       __/ |\n",
      "                                      |___/ \n",
      "        \n",
      "        TrussPy - Object Oriented Truss Solver for Python\n",
      "                  Version 2018.08 (Build 20180829)\n",
      "\n",
      "        Author: Dutzler A.\n",
      "                Graz University of Technology, 2018\n",
      "                \n",
      "        TrussPy  Copyright (C) 2018  Andreas Dutzler\n",
      "        This program comes with ABSOLUTELY NO WARRANTY; \n",
      "        for details type `trusspy.show_w()'.\n",
      "        This is free software, and you are welcome to redistribute it\n",
      "        under certain conditions; type `trusspy.show_c()' for details.\n",
      "        \n",
      "\n",
      "# Initialize Model\n",
      "* loading Managers\n",
      "\n",
      "    - finished.\n",
      "\n"
     ]
    }
   ],
   "source": [
    "# Install a pip package in the current Jupyter kernel\n",
    "import sys\n",
    "!{sys.executable} -m pip install trusspy\n",
    "import trusspy as tp\n",
    "\n",
    "# init model\n",
    "M = tp.Model()"
   ]
  },
  {
   "cell_type": "code",
   "execution_count": 39,
   "id": "ba04e262",
   "metadata": {},
   "outputs": [],
   "source": [
    "# create nodes\n",
    "#\n",
    "#    tp.Node( label,  coord  )\n",
    "# ----------------------------\n",
    "with M.Nodes as MN:\n",
    "    MN.add_node(     1, coord=(0,0,0) )\n",
    "    MN.add_node(     2, coord=(0,1,0) )\n",
    "    MN.add_node(     3, coord=(1,1,0) )\n",
    "    MN.add_node(     4, coord=(1,0,0) )\n",
    "    MN.add_node(     5, coord=(2,0,0) )\n",
    "    MN.add_node(     6, coord=(2,1,0) )\n",
    "    MN.add_node(     7, coord=(3,1,0) )\n",
    "    MN.add_node(     8, coord=(3,0,0) )\n",
    "    MN.add_node(     9, coord=(4,0,0) )\n",
    "    MN.add_node(    10, coord=(4,1,0) )\n",
    "    MN.add_node(    11, coord=(5,1,0) )\n",
    "    MN.add_node(    12, coord=(5,0,0) )\n",
    "    MN.add_node(    13, coord=(6,0,0) )\n",
    "    MN.add_node(    14, coord=(6,1,0) )\n",
    "    MN.add_node(    15, coord=(7,1,0) )\n",
    "    MN.add_node(    16, coord=(7,0,0) )\n",
    "    MN.add_node(    17, coord=(8,0,0) )\n",
    "    MN.add_node(    18, coord=(8,1,0) )\n",
    "    MN.add_node(    19, coord=(9,1,0) )\n",
    "    MN.add_node(    20, coord=(9,0,0) )\n",
    "    MN.add_node(    21, coord=(10,0,0) )\n",
    "    MN.add_node(    22, coord=(10,1,0) )\n",
    "\n",
    "# create elements\n",
    "element_type   = 1    # truss\n",
    "material_type  = 1    # linear-elastic\n",
    "\n",
    "youngs_modulus = 1.0\n",
    "\n",
    "with M.Elements as ME:\n",
    "    ME.add_element( 1, conn=(1,2), gprop=[1] )\n",
    "    ME.add_element( 2, conn=(2,3), gprop=[1]  )\n",
    "    ME.add_element( 3, conn=(1,4), gprop=[1]  )\n",
    "    ME.add_element( 4, conn=(2,4), gprop=[1]  )\n",
    "    ME.add_element( 5, conn=(3,4), gprop=[1]  )\n",
    "    ME.add_element( 6, conn=(4,5), gprop=[1]  )\n",
    "    ME.add_element( 7, conn=(3,6), gprop=[1]  )\n",
    "    ME.add_element( 8, conn=(4,6), gprop=[1]  )\n",
    "    ME.add_element( 9, conn=(5,6), gprop=[1]  )\n",
    "    ME.add_element( 10, conn=(5,7), gprop=[1]  )\n",
    "    ME.add_element( 11, conn=(6,7), gprop=[1]  )\n",
    "    ME.add_element( 12, conn=(5,8), gprop=[1]  )\n",
    "    ME.add_element( 13, conn=(7,8), gprop=[1]  )\n",
    "    ME.add_element( 14, conn=(7,9), gprop=[1]  )\n",
    "    ME.add_element( 15, conn=(8,9), gprop=[1]  )\n",
    "    ME.add_element( 16, conn=(7,10), gprop=[1]  )\n",
    "    ME.add_element( 17, conn=(9,10), gprop=[1]  )\n",
    "    ME.add_element( 18, conn=(10,11), gprop=[1]  )\n",
    "    ME.add_element( 19, conn=(9,12), gprop=[1]  )\n",
    "    ME.add_element( 20, conn=(10,12), gprop=[1]  )\n",
    "    ME.add_element( 21, conn=(11,12), gprop=[1]  )\n",
    "    ME.add_element( 22, conn=(12,13), gprop=[1]  )\n",
    "    ME.add_element( 23, conn=(11,14), gprop=[1]  )\n",
    "    ME.add_element( 24, conn=(12,14), gprop=[1]  )\n",
    "    ME.add_element( 25, conn=(13,14), gprop=[1]  )\n",
    "    ME.add_element( 26, conn=(14,15), gprop=[1]  )\n",
    "    ME.add_element( 27, conn=(13,16), gprop=[1]  )\n",
    "    ME.add_element( 28, conn=(14,16), gprop=[1]  )\n",
    "    ME.add_element( 29, conn=(15,16), gprop=[1]  )\n",
    "    ME.add_element( 30, conn=(16,17), gprop=[1]  )\n",
    "    ME.add_element( 31, conn=(15,18), gprop=[1]  )\n",
    "    ME.add_element( 32, conn=(16,18), gprop=[1]  )\n",
    "    ME.add_element( 33, conn=(17,18), gprop=[1]  )\n",
    "    ME.add_element( 34, conn=(17,19), gprop=[1]  )\n",
    "    ME.add_element( 35, conn=(18,19), gprop=[1]  )\n",
    "    ME.add_element( 36, conn=(17,20), gprop=[1]  )\n",
    "    ME.add_element( 37, conn=(19,20), gprop=[1]  )\n",
    "    ME.add_element( 38, conn=(19,21), gprop=[1]  )\n",
    "    ME.add_element( 39, conn=(20,21), gprop=[1]  )\n",
    "    ME.add_element( 40, conn=(19,22), gprop=[1]  )\n",
    "    ME.add_element( 41, conn=(21,22), gprop=[1]  )\n",
    "    \n",
    "    ME.assign_etype(    'all',   element_type   )\n",
    "    ME.assign_mtype(    'all',  material_type   )\n",
    "    ME.assign_material( 'all', [youngs_modulus] )\n",
    "\n",
    "# # create element\n",
    "# young = 5e6\n"
   ]
  },
  {
   "cell_type": "code",
   "execution_count": 40,
   "id": "ac6a0a36",
   "metadata": {},
   "outputs": [],
   "source": [
    "# create displacement (U) boundary conditions\n",
    "with M.Boundaries as MB:\n",
    "    MB.add_bound_U( 1, (0,0,0) )\n",
    "    MB.add_bound_U( 2, (0,0,0) )\n",
    "    MB.add_bound_U( 21, (1,0,0) )\n",
    "    MB.add_bound_U( 22, (1,0,0) )\n",
    "    \n",
    "\n",
    "with M.ExtForces as MF:\n",
    "    MF.add_force( 22, ( 1, 0, 0) )\n",
    "\n"
   ]
  },
  {
   "cell_type": "code",
   "execution_count": 41,
   "id": "b885e671",
   "metadata": {},
   "outputs": [],
   "source": [
    "M.Settings.dlpf = 0.02 # maximum allowed incremental load-proportionality-factor\n",
    "M.Settings.du   = 0.05 # maximum allowed incremental displacement component\n",
    "M.Settings.incs = 150   # maximum number of increments"
   ]
  },
  {
   "cell_type": "code",
   "execution_count": 42,
   "id": "e5e64494",
   "metadata": {},
   "outputs": [
    {
     "name": "stdout",
     "output_type": "stream",
     "text": [
      "\n",
      "# Model Summary\n",
      "    Analysis Dimension      \"ndim\": 3\n",
      "    Number of Nodes       \"nnodes\": 22\n",
      "    Number of Elements    \"nelems\": 41\n",
      " \n",
      "    System DOF              \"ndof\": 66\n",
      "    active DOF             \"ndof1\": 56\n",
      "    locked DOF             \"ndof2\": 10\n",
      " \n",
      "    active DOF          \"nproDOF1\": [ 6  7  8  9 10 11 12 13 14 15 16 17 18 19 20 21 22 23 24 25 26 27 28 29\n",
      " 30 31 32 33 34 35 36 37 38 39 40 41 42 43 44 45 46 47 48 49 50 51 52 53\n",
      " 54 55 56 57 58 59 60 63]\n",
      "    fixed  DOF          \"nproDOF0\": [ 0  1  2  3  4  5 61 62 64 65]\n",
      "\\pagebreak\n",
      " \n",
      "# Run Simulation\n",
      "\n",
      "## Summary of Analysis Parameters\n",
      "|Description                          |Parameter|Value|\n",
      "|:------------------------------------|:--------|:--|\n",
      "|Maximum increments                   |   `incs`| 50 |\n",
      "|Maximum increment recycles           |   `cycl`| 4 |\n",
      "|Maximum Newton-Rhapson iterations    |   `nfev`| 8 |\n",
      "|Maximum incremental displacement     |     `du`| 0.02 |\n",
      "|Maximum incremental LPF              |   `dlpf`| 0.02 |\n",
      "|Initial control component            |     `j0`| LPF|\n",
      "|Locked control component             |`j_fixed`| False |\n",
      "|Maximum incremental overshoot        |  `dxtol`| 1.000001 |\n",
      "|Tolerance for x                      |   `xtol`| 8 |\n",
      "|Tolerance for f                      |   `ftol`| 8 |\n",
      "\n",
      "\n",
      "## Step 1\n",
      "* i(1) is index with 1st-biggest component in abs(Dx/Dx,max).\n",
      "* i(2) is index with 2nd-biggest component in abs(Dx/Dx,max).\n",
      "* i(3) is index with 3rd-biggest component in abs(Dx/Dx,max).\n",
      "* i(4) is index with 4th-biggest component in abs(Dx/Dx,max).\n",
      "* Value(i) is value of i-th component in abs(Dx/Dx,max).\n",
      "$$\\text{Value}_i = \\left|\\frac{D_x}{D_{x,max}}\\right|_i$$\n",
      "\n",
      "### Increment 1\n",
      "|Cycle|NR-It.|Control| Norm(g) |i(1)|Value   |i(2)|Value   |i(3)|Value   |\n",
      "|:---:|:----:|:-----:|:-------:|:--:|:------:|:--:|:------:|:--:|:------:|\n"
     ]
    },
    {
     "ename": "ValueError",
     "evalue": "cannot convert float NaN to integer",
     "output_type": "error",
     "traceback": [
      "\u001b[1;31m---------------------------------------------------------------------------\u001b[0m",
      "\u001b[1;31mValueError\u001b[0m                                Traceback (most recent call last)",
      "\u001b[1;32m<ipython-input-42-5f509c436e9b>\u001b[0m in \u001b[0;36m<module>\u001b[1;34m\u001b[0m\n\u001b[0;32m      1\u001b[0m \u001b[1;31m# build model and run job\u001b[0m\u001b[1;33m\u001b[0m\u001b[1;33m\u001b[0m\u001b[1;33m\u001b[0m\u001b[0m\n\u001b[0;32m      2\u001b[0m \u001b[0mM\u001b[0m\u001b[1;33m.\u001b[0m\u001b[0mbuild\u001b[0m\u001b[1;33m(\u001b[0m\u001b[1;33m)\u001b[0m\u001b[1;33m\u001b[0m\u001b[1;33m\u001b[0m\u001b[0m\n\u001b[1;32m----> 3\u001b[1;33m \u001b[0mM\u001b[0m\u001b[1;33m.\u001b[0m\u001b[0mrun\u001b[0m\u001b[1;33m(\u001b[0m\u001b[1;33m)\u001b[0m\u001b[1;33m\u001b[0m\u001b[1;33m\u001b[0m\u001b[0m\n\u001b[0m",
      "\u001b[1;32m~\\Anaconda3\\lib\\site-packages\\trusspy\\model.py\u001b[0m in \u001b[0;36mrun\u001b[1;34m(self)\u001b[0m\n\u001b[0;32m    351\u001b[0m             \u001b[0mself\u001b[0m\u001b[1;33m.\u001b[0m\u001b[0mAnalysis\u001b[0m\u001b[1;33m.\u001b[0m\u001b[0mstep\u001b[0m \u001b[1;33m=\u001b[0m \u001b[1;36m1\u001b[0m\u001b[1;33m+\u001b[0m\u001b[0mstep\u001b[0m\u001b[1;33m\u001b[0m\u001b[1;33m\u001b[0m\u001b[0m\n\u001b[0;32m    352\u001b[0m \u001b[1;33m\u001b[0m\u001b[0m\n\u001b[1;32m--> 353\u001b[1;33m             res_V,res_a = pathfollow(self.equilibrium,self.stiffness, \n\u001b[0m\u001b[0;32m    354\u001b[0m                                      \u001b[0mself\u001b[0m\u001b[1;33m.\u001b[0m\u001b[0mAnalysis\u001b[0m\u001b[1;33m.\u001b[0m\u001b[0mUred\u001b[0m\u001b[1;33m,\u001b[0m \u001b[0mself\u001b[0m\u001b[1;33m.\u001b[0m\u001b[0mAnalysis\u001b[0m\u001b[1;33m,\u001b[0m\u001b[1;33m\u001b[0m\u001b[1;33m\u001b[0m\u001b[0m\n\u001b[0;32m    355\u001b[0m                                      \u001b[0mdxmax\u001b[0m\u001b[1;33m=\u001b[0m\u001b[1;33m[\u001b[0m\u001b[0mself\u001b[0m\u001b[1;33m.\u001b[0m\u001b[0mSettings\u001b[0m\u001b[1;33m.\u001b[0m\u001b[0mdu\u001b[0m\u001b[1;33m,\u001b[0m\u001b[0mself\u001b[0m\u001b[1;33m.\u001b[0m\u001b[0mSettings\u001b[0m\u001b[1;33m.\u001b[0m\u001b[0mdlpf\u001b[0m\u001b[1;33m]\u001b[0m\u001b[1;33m,\u001b[0m\u001b[1;33m\u001b[0m\u001b[1;33m\u001b[0m\u001b[0m\n",
      "\u001b[1;32m~\\Anaconda3\\lib\\site-packages\\trusspy\\solvers\\tpsolver.py\u001b[0m in \u001b[0;36mpathfollow\u001b[1;34m(g, dgdx, x, analysis, dxmax, j, j_fixed, j_pre, xlimit, incs, nfev, cycl, ftol, xtol, stepcontrol, maxfac, minfac, reduce, increase, dxtol, verbose)\u001b[0m\n\u001b[0;32m    343\u001b[0m             \u001b[0mDxs_pre\u001b[0m \u001b[1;33m=\u001b[0m \u001b[0mnp\u001b[0m\u001b[1;33m.\u001b[0m\u001b[0msort\u001b[0m\u001b[1;33m(\u001b[0m\u001b[0mabs\u001b[0m\u001b[1;33m(\u001b[0m\u001b[0mDx_pre\u001b[0m\u001b[1;33m/\u001b[0m\u001b[0mdxmax\u001b[0m\u001b[1;33m)\u001b[0m\u001b[1;33m)\u001b[0m\u001b[1;33m*\u001b[0m\u001b[0mnp\u001b[0m\u001b[1;33m.\u001b[0m\u001b[0msign\u001b[0m\u001b[1;33m(\u001b[0m \u001b[1;33m(\u001b[0m\u001b[0mDx_pre\u001b[0m\u001b[1;33m/\u001b[0m\u001b[0mdxmax\u001b[0m\u001b[1;33m)\u001b[0m\u001b[1;33m.\u001b[0m\u001b[0mT\u001b[0m\u001b[1;33m[\u001b[0m\u001b[0mDxi_pre\u001b[0m\u001b[1;33m-\u001b[0m\u001b[1;36m1\u001b[0m\u001b[1;33m]\u001b[0m \u001b[1;33m)\u001b[0m\u001b[1;33m\u001b[0m\u001b[1;33m\u001b[0m\u001b[0m\n\u001b[0;32m    344\u001b[0m             \u001b[0mi1\u001b[0m\u001b[1;33m,\u001b[0m\u001b[0mv1\u001b[0m \u001b[1;33m=\u001b[0m \u001b[0mDxi_pre\u001b[0m\u001b[1;33m[\u001b[0m\u001b[1;33m-\u001b[0m\u001b[1;36m1\u001b[0m\u001b[1;33m]\u001b[0m\u001b[1;33m,\u001b[0m \u001b[0mDxs_pre\u001b[0m\u001b[1;33m[\u001b[0m\u001b[1;33m-\u001b[0m\u001b[1;36m1\u001b[0m\u001b[1;33m]\u001b[0m\u001b[1;33m\u001b[0m\u001b[1;33m\u001b[0m\u001b[0m\n\u001b[1;32m--> 345\u001b[1;33m             \u001b[0mj_pre\u001b[0m \u001b[1;33m=\u001b[0m \u001b[0mint\u001b[0m\u001b[1;33m(\u001b[0m\u001b[0mi1\u001b[0m\u001b[1;33m*\u001b[0m\u001b[0mnp\u001b[0m\u001b[1;33m.\u001b[0m\u001b[0msign\u001b[0m\u001b[1;33m(\u001b[0m\u001b[0mv1\u001b[0m\u001b[1;33m)\u001b[0m\u001b[1;33m)\u001b[0m\u001b[1;33m\u001b[0m\u001b[1;33m\u001b[0m\u001b[0m\n\u001b[0m\u001b[0;32m    346\u001b[0m             \u001b[1;32mif\u001b[0m \u001b[0mverbose\u001b[0m \u001b[1;33m>\u001b[0m \u001b[1;36m1\u001b[0m\u001b[1;33m:\u001b[0m\u001b[1;33m\u001b[0m\u001b[1;33m\u001b[0m\u001b[0m\n\u001b[0;32m    347\u001b[0m                 print('| {0:2d}  |  {1:2d}  |  {2:2d}   |{3:1.3e}|{4:4d}|{5:8.1g}|    |        |    |        |'.format(\n",
      "\u001b[1;31mValueError\u001b[0m: cannot convert float NaN to integer"
     ]
    }
   ],
   "source": [
    "# build model and run job\n",
    "M.build()\n",
    "M.run()"
   ]
  },
  {
   "cell_type": "code",
   "execution_count": 32,
   "id": "88cecde5",
   "metadata": {},
   "outputs": [
    {
     "ename": "AttributeError",
     "evalue": "'Analysis' object has no attribute 'ExtForces'",
     "output_type": "error",
     "traceback": [
      "\u001b[1;31m---------------------------------------------------------------------------\u001b[0m",
      "\u001b[1;31mAttributeError\u001b[0m                            Traceback (most recent call last)",
      "\u001b[1;32m<ipython-input-32-a44c35ee0bae>\u001b[0m in \u001b[0;36m<module>\u001b[1;34m\u001b[0m\n\u001b[0;32m      1\u001b[0m \u001b[1;31m# show results\u001b[0m\u001b[1;33m\u001b[0m\u001b[1;33m\u001b[0m\u001b[1;33m\u001b[0m\u001b[0m\n\u001b[1;32m----> 2\u001b[1;33m M.plot_model(config=['deformed'],\n\u001b[0m\u001b[0;32m      3\u001b[0m              \u001b[0mview\u001b[0m\u001b[1;33m=\u001b[0m\u001b[1;34m'xy'\u001b[0m\u001b[1;33m,\u001b[0m\u001b[1;33m\u001b[0m\u001b[1;33m\u001b[0m\u001b[0m\n\u001b[0;32m      4\u001b[0m              \u001b[0mcontour\u001b[0m\u001b[1;33m=\u001b[0m\u001b[1;34m'force'\u001b[0m\u001b[1;33m,\u001b[0m\u001b[1;33m\u001b[0m\u001b[1;33m\u001b[0m\u001b[0m\n\u001b[0;32m      5\u001b[0m              \u001b[0mlim_scale\u001b[0m\u001b[1;33m=\u001b[0m\u001b[1;33m(\u001b[0m\u001b[1;33m-\u001b[0m\u001b[1;36m0.5\u001b[0m\u001b[1;33m,\u001b[0m\u001b[1;36m13\u001b[0m\u001b[1;33m,\u001b[0m\u001b[1;33m-\u001b[0m\u001b[1;36m2\u001b[0m\u001b[1;33m,\u001b[0m\u001b[1;36m2\u001b[0m\u001b[1;33m)\u001b[0m\u001b[1;33m,\u001b[0m\u001b[1;33m\u001b[0m\u001b[1;33m\u001b[0m\u001b[0m\n",
      "\u001b[1;32m~\\Anaconda3\\lib\\site-packages\\trusspy\\model.py\u001b[0m in \u001b[0;36mplot_model\u001b[1;34m(self, config, view, contour, lim_scale, force_scale, nodesize, cbar_limits, inc)\u001b[0m\n\u001b[0;32m    549\u001b[0m \u001b[1;33m\u001b[0m\u001b[0m\n\u001b[0;32m    550\u001b[0m     \u001b[1;32mdef\u001b[0m \u001b[0mplot_model\u001b[0m\u001b[1;33m(\u001b[0m\u001b[0mself\u001b[0m\u001b[1;33m,\u001b[0m\u001b[0mconfig\u001b[0m\u001b[1;33m=\u001b[0m\u001b[1;34m'both'\u001b[0m\u001b[1;33m,\u001b[0m\u001b[0mview\u001b[0m\u001b[1;33m=\u001b[0m\u001b[1;34m'xz'\u001b[0m\u001b[1;33m,\u001b[0m\u001b[0mcontour\u001b[0m\u001b[1;33m=\u001b[0m\u001b[1;32mNone\u001b[0m\u001b[1;33m,\u001b[0m\u001b[0mlim_scale\u001b[0m\u001b[1;33m=\u001b[0m\u001b[1;36m1.2\u001b[0m\u001b[1;33m,\u001b[0m\u001b[0mforce_scale\u001b[0m\u001b[1;33m=\u001b[0m\u001b[1;36m0.5\u001b[0m\u001b[1;33m,\u001b[0m\u001b[0mnodesize\u001b[0m\u001b[1;33m=\u001b[0m\u001b[1;36m10\u001b[0m\u001b[1;33m,\u001b[0m\u001b[0mcbar_limits\u001b[0m\u001b[1;33m=\u001b[0m\u001b[1;34m'auto'\u001b[0m\u001b[1;33m,\u001b[0m\u001b[0minc\u001b[0m\u001b[1;33m=\u001b[0m\u001b[1;33m-\u001b[0m\u001b[1;36m1\u001b[0m\u001b[1;33m)\u001b[0m\u001b[1;33m:\u001b[0m\u001b[1;33m\u001b[0m\u001b[1;33m\u001b[0m\u001b[0m\n\u001b[1;32m--> 551\u001b[1;33m         \u001b[0mfig\u001b[0m\u001b[1;33m,\u001b[0m \u001b[0max\u001b[0m \u001b[1;33m=\u001b[0m \u001b[0mp_model\u001b[0m\u001b[1;33m(\u001b[0m\u001b[0mself\u001b[0m\u001b[1;33m,\u001b[0m\u001b[0mconfig\u001b[0m\u001b[1;33m,\u001b[0m\u001b[0mview\u001b[0m\u001b[1;33m,\u001b[0m\u001b[0mcontour\u001b[0m\u001b[1;33m,\u001b[0m\u001b[0mlim_scale\u001b[0m\u001b[1;33m,\u001b[0m\u001b[0mforce_scale\u001b[0m\u001b[1;33m,\u001b[0m\u001b[0mnodesize\u001b[0m\u001b[1;33m,\u001b[0m\u001b[0mcbar_limits\u001b[0m\u001b[1;33m,\u001b[0m\u001b[0minc\u001b[0m\u001b[1;33m)\u001b[0m\u001b[1;33m\u001b[0m\u001b[1;33m\u001b[0m\u001b[0m\n\u001b[0m\u001b[0;32m    552\u001b[0m         \u001b[1;32mreturn\u001b[0m \u001b[0mfig\u001b[0m\u001b[1;33m,\u001b[0m \u001b[0max\u001b[0m\u001b[1;33m\u001b[0m\u001b[1;33m\u001b[0m\u001b[0m\n\u001b[0;32m    553\u001b[0m \u001b[1;33m\u001b[0m\u001b[0m\n",
      "\u001b[1;32m~\\Anaconda3\\lib\\site-packages\\trusspy\\tools\\plot_utilities.py\u001b[0m in \u001b[0;36mp_model\u001b[1;34m(self, config, view, contour, lim_scale, force_scale, nodesize, cbar_limits, inc, step)\u001b[0m\n\u001b[0;32m     84\u001b[0m         \u001b[1;32mif\u001b[0m \u001b[0mforce_scale\u001b[0m \u001b[1;32mis\u001b[0m \u001b[1;32mnot\u001b[0m \u001b[1;32mNone\u001b[0m\u001b[1;33m:\u001b[0m\u001b[1;33m\u001b[0m\u001b[1;33m\u001b[0m\u001b[0m\n\u001b[0;32m     85\u001b[0m             \u001b[0mtextstr\u001b[0m \u001b[1;33m=\u001b[0m \u001b[1;34mr'$\\mathbf{Plot}$ $\\mathbf{Scale}$ $\\lambda \\cdot [F_0] =$ '\u001b[0m\u001b[1;33m+\u001b[0m\u001b[1;34m'{:2.1g} '\u001b[0m\u001b[1;33m.\u001b[0m\u001b[0mformat\u001b[0m\u001b[1;33m(\u001b[0m\u001b[0mforce_scale\u001b[0m\u001b[1;33m)\u001b[0m\u001b[1;33m+\u001b[0m\u001b[1;34mr'$\\cdot [L]$'\u001b[0m\u001b[1;33m\u001b[0m\u001b[1;33m\u001b[0m\u001b[0m\n\u001b[1;32m---> 86\u001b[1;33m             \u001b[0mf0_const\u001b[0m \u001b[1;33m=\u001b[0m \u001b[0mself\u001b[0m\u001b[1;33m.\u001b[0m\u001b[0mResults\u001b[0m\u001b[1;33m.\u001b[0m\u001b[0mR\u001b[0m\u001b[1;33m[\u001b[0m\u001b[0minc\u001b[0m\u001b[1;33m]\u001b[0m\u001b[1;33m.\u001b[0m\u001b[0mExtForces\u001b[0m\u001b[1;33m.\u001b[0m\u001b[0mforces_const\u001b[0m\u001b[1;33m\u001b[0m\u001b[1;33m\u001b[0m\u001b[0m\n\u001b[0m\u001b[0;32m     87\u001b[0m             \u001b[0mstep\u001b[0m \u001b[1;33m=\u001b[0m \u001b[0mself\u001b[0m\u001b[1;33m.\u001b[0m\u001b[0mResults\u001b[0m\u001b[1;33m.\u001b[0m\u001b[0mR\u001b[0m\u001b[1;33m[\u001b[0m\u001b[0minc\u001b[0m\u001b[1;33m]\u001b[0m\u001b[1;33m.\u001b[0m\u001b[0mstep\u001b[0m\u001b[1;33m\u001b[0m\u001b[1;33m\u001b[0m\u001b[0m\n\u001b[0;32m     88\u001b[0m             fig,ax = plot_force(f0_const+self.Results.R[inc].lpf*self.ExtForces.forces[:,3*(step-1):3*step],\n",
      "\u001b[1;31mAttributeError\u001b[0m: 'Analysis' object has no attribute 'ExtForces'"
     ]
    },
    {
     "data": {
      "image/png": "[encoded data removed]",
      "text/plain": [
       "<Figure size 576x432 with 2 Axes>"
      ]
     },
     "metadata": {
      "needs_background": "light"
     },
     "output_type": "display_data"
    }
   ],
   "source": [
    "# show results\n",
    "M.plot_model(config=['deformed'],\n",
    "             view='xy',\n",
    "             contour='force',\n",
    "             lim_scale=(-0.5,13,-2,2),\n",
    "             force_scale=1.0,\n",
    "             inc=-1)\n",
    "M.plot_history(nodes=[21,22], X='Displacement Y', Y='Force Y')\n",
    "M.plot_show()\n",
    "\n",
    "\n",
    "# # show results\n",
    "# M.plot_model(config=['deformed'],\n",
    "#              view='xz',\n",
    "#              contour='force',\n",
    "#              lim_scale=(-0.5,11,-10e6,10e6),\n",
    "#              force_scale=-9e6,\n",
    "#              inc=-1)\n",
    "# M.plot_history(nodes=[2,2], X='Displacement X', Y='Force Z')\n",
    "# M.plot_show()\n"
   ]
  },
  {
   "cell_type": "code",
   "execution_count": null,
   "id": "b094b387",
   "metadata": {},
   "outputs": [],
   "source": []
  }
 ],
 "metadata": {
  "kernelspec": {
   "display_name": "Python 3",
   "language": "python",
   "name": "python3"
  },
  "language_info": {
   "codemirror_mode": {
    "name": "ipython",
    "version": 3
   },
   "file_extension": ".py",
   "mimetype": "text/x-python",
   "name": "python",
   "nbconvert_exporter": "python",
   "pygments_lexer": "ipython3",
   "version": "3.8.8"
  }
 },
 "nbformat": 4,
 "nbformat_minor": 5
}
