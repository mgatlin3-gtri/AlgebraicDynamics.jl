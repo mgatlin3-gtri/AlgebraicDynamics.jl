{
 "cells": [
  {
   "cell_type": "markdown",
   "id": "93ac89ce",
   "metadata": {},
   "source": [
    "# Benchmark for vibration of a string\n",
    "\n",
    "Assumptions made:\n",
    "- string is treated as perfectly flexible (no stiffness)\n",
    "- fixed-fixed condition so that reflections are perfectly inverted\n",
    "\n",
    "Goal: simulate the kink resulting from pluckign the string\n",
    "\n",
    "Constituitive equation: $\\frac{\\partial^2 y}{\\partial t^2} = c^2 \\frac{\\partial^2 y}{\\partial x^2}$"
   ]
  },
  {
   "cell_type": "code",
   "execution_count": 1,
   "id": "f4f0ac0b",
   "metadata": {},
   "outputs": [
    {
     "ename": "LoadError",
     "evalue": "UndefVarError: DiscreteExteriorCalculus not defined",
     "output_type": "error",
     "traceback": [
      "UndefVarError: DiscreteExteriorCalculus not defined",
      "",
      "Stacktrace:",
      " [1] eval",
      "   @ .\\boot.jl:360 [inlined]",
      " [2] include_string(mapexpr::typeof(REPL.softscope), mod::Module, code::String, filename::String)",
      "   @ Base .\\loading.jl:1094"
     ]
    }
   ],
   "source": [
    "using CombinatorialSpaces\n",
    "using CombinatorialSpaces.DiscreteExteriorCalculus: inv_hodge_star\n",
    "using DifferentialEquations\n",
    "using CairoMakie\n",
    "\n",
    "# dual subdivision \n",
    "function dual(s::EmbeddedDeltaSet2D{O, P}) where {O, P}\n",
    "  sd = EmbeddedDeltaDualComplex2D{O, eltype(P), P}(s)\n",
    "  subdivide_duals!(sd, Circumcenter())\n",
    "  sd\n",
    "end"
   ]
  },
  {
   "cell_type": "markdown",
   "id": "1ae78423",
   "metadata": {},
   "source": [
    "## Define mesh"
   ]
  },
  {
   "cell_type": "code",
   "execution_count": null,
   "id": "d70b6e3f",
   "metadata": {},
   "outputs": [],
   "source": [
    "# Define mesh\n",
    "s = EmbeddedDeltaSet2D(\"meshes/pipe_fine.stl\")\n",
    "sd = dual(s)\n",
    "\n",
    "figure, axis, ob = wireframe(s)\n",
    "axis.aspect = AxisAspect(10/1)\n",
    "figure"
   ]
  },
  {
   "cell_type": "markdown",
   "id": "cae585db",
   "metadata": {},
   "source": []
  }
 ],
 "metadata": {
  "kernelspec": {
   "display_name": "Julia 1.6.1",
   "language": "julia",
   "name": "julia-1.6"
  },
  "language_info": {
   "file_extension": ".jl",
   "mimetype": "application/julia",
   "name": "julia",
   "version": "1.6.1"
  }
 },
 "nbformat": 4,
 "nbformat_minor": 5
}
