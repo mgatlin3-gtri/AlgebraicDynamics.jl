{
 "cells": [
  {
   "cell_type": "markdown",
   "id": "f071ee30",
   "metadata": {},
   "source": [
    "# Benchmark for vibration of a string\n",
    "\n",
    "Assumptions made:\n",
    "- string is treated as perfectly flexible (no stiffness)\n",
    "- fixed-fixed condition so that reflections are perfectly inverted\n",
    "\n",
    "Goal: simulate the kink resulting from plucking the string\n",
    "\n",
    "Constituitive equation: $\\frac{\\partial^2 y}{\\partial t^2} = c^2 \\frac{\\partial^2 y}{\\partial x^2}$\n",
    "\n",
    "where,\n",
    "$\n",
    "y = displacement\\:of\\:the\\:string\\:from\\:equilibirum \\\\\n",
    "x = position\\:along\\:the\\:string \\\\\n",
    "t = time \\\\\n",
    "c = \\sqrt{\\frac{T}{\\mu}} = wave\\:speed \\\\\n",
    "T = tension \\\\\n",
    "\\mu = mass\\:per\\:unit\\:length \\\\\n",
    "$\n",
    "\n",
    "Citation(s):\n",
    "$@article\\:{giordano1998physics,\n",
    "  title={The physics of vibrating strings},\n",
    "  author={Giordano, Nicholas and Gould, Harvey and Tobochnik, Jan}, \n",
    "  journal={Computers in Physics}, \n",
    "  volume={12},\n",
    "  number={2}, \n",
    "  pages={138--145}, \n",
    "  year={1998},\n",
    "  publisher={American Institute of Physics}\n",
    "}$"
   ]
  },
  {
   "cell_type": "code",
   "execution_count": 2,
   "id": "af7e23cb",
   "metadata": {},
   "outputs": [
    {
     "data": {
      "text/plain": [
       "dual (generic function with 1 method)"
      ]
     },
     "execution_count": 2,
     "metadata": {},
     "output_type": "execute_result"
    }
   ],
   "source": [
    "using CombinatorialSpaces\n",
    "using CombinatorialSpaces.DiscreteExteriorCalculus: inv_hodge_star\n",
    "using DifferentialEquations\n",
    "using CairoMakie\n",
    "using Catlab.Graphs\n",
    "using Catlab.Graphics\n",
    "\n",
    "# dual subdivision \n",
    "function dual(s::EmbeddedDeltaSet2D{O, P}) where {O, P}\n",
    "  sd = EmbeddedDeltaDualComplex2D{O, eltype(P), P}(s)\n",
    "  subdivide_duals!(sd, Circumcenter())\n",
    "  sd\n",
    "end"
   ]
  },
  {
   "cell_type": "markdown",
   "id": "992c2164",
   "metadata": {},
   "source": [
    "## Define and plot mesh and boundary conditions"
   ]
  },
  {
   "cell_type": "code",
   "execution_count": 32,
   "id": "20cf3947",
   "metadata": {
    "scrolled": true
   },
   "outputs": [
    {
     "data": {
      "image/png": "[encoded data removed]",
      "text/plain": [
       "Figure()"
      ]
     },
     "execution_count": 32,
     "metadata": {},
     "output_type": "execute_result"
    }
   ],
   "source": [
    "# Define mesh\n",
    "s = EmbeddedDeltaSet2D(\"meshes/string.obj\")\n",
    "sd = dual(s)\n",
    "\n",
    "# Get boundary masks for BCs #\n",
    "boundary_e = findall(x -> x != 0, boundary(Val{2},s) * fill(1,ntriangles(s))) # mesh edges\n",
    "boundary_v = unique(vcat(s[boundary_e,:src],s[boundary_e,:tgt])) # mesh edge vertices\n",
    "\n",
    "# Define vertices for BC application \n",
    "left = 1\n",
    "right = 13\n",
    "\n",
    "boundary_indices = [left, right]\n",
    "colors = zeros(nv(s)) # Generate a 0-form (array with the same number of elements as there are points\n",
    "colors[boundary_indices] .= 1 # \"highlight\" the boundary vertices\n",
    "fig, ax, ob = mesh(s, color=colors)\n",
    "wireframe!(s)\n",
    "ax.aspect = AxisAspect(10/1)\n",
    "fig"
   ]
  },
  {
   "cell_type": "markdown",
   "id": "cd53b74a",
   "metadata": {},
   "source": [
    "## Add the physics"
   ]
  },
  {
   "cell_type": "code",
   "execution_count": null,
   "id": "c931e944",
   "metadata": {},
   "outputs": [],
   "source": [
    "# Define constants\n",
    "c = 200 # wave speed, m/s\n",
    "\n"
   ]
  }
 ],
 "metadata": {
  "kernelspec": {
   "display_name": "Julia 1.6.1",
   "language": "julia",
   "name": "julia-1.6"
  },
  "language_info": {
   "file_extension": ".jl",
   "mimetype": "application/julia",
   "name": "julia",
   "version": "1.6.1"
  }
 },
 "nbformat": 4,
 "nbformat_minor": 5
}
