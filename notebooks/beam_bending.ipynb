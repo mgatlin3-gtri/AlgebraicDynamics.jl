{
 "cells": [
  {
   "cell_type": "markdown",
   "id": "f071ee30",
   "metadata": {},
   "source": [
    "# Benchmark for beam deflection\n",
    "\n",
    "Assumptions made:\n",
    "- beam is linearly elastic\n",
    "- fixed-free boundary conditions with a constant distributed load\n",
    "    - $ @x = 0,\\: \\nu = 0,\\: \\frac{\\partial \\nu}{\\partial x} = 0 $\n",
    "    - $ @x = L,\\: \\frac{\\partial^2 \\nu}{\\partial x^2}EI = M = 0,\\: -\\frac{\\partial M}{\\partial x} = -\\frac{\\partial^3 \\nu}{\\partial x^3}EI = 0 $\n",
    "\n",
    "Goal: simulate the beam deflection, stress, and strain\n",
    "\n",
    "Constituitive equation: $M = EI \\frac{\\partial^2 \\nu}{\\partial x^2} $\n",
    "\n",
    "where,\n",
    "$\n",
    "\\nu = deflection\\:of\\:the\\:beam \\\\\n",
    "\\theta = \\frac{\\partial \\nu}{\\partial x} = curvature\\:of\\:the\\:beam \\\\\n",
    "x = position\\:along\\:the\\:string \\\\\n",
    "EI = rigidity \\\\\n",
    "\\epsilon = -y\\frac{\\partial \\theta}{\\partial x}= strain \\\\\n",
    "\\sigma = E\\epsilon = stress \\\\\n",
    "$\n",
    "\n",
    "Citation(s):"
   ]
  },
  {
   "cell_type": "code",
   "execution_count": 55,
   "id": "af7e23cb",
   "metadata": {},
   "outputs": [
    {
     "data": {
      "text/plain": [
       "dual (generic function with 1 method)"
      ]
     },
     "execution_count": 55,
     "metadata": {},
     "output_type": "execute_result"
    }
   ],
   "source": [
    "using CombinatorialSpaces, DifferentialEquations, CairoMakie\n",
    "using MeshIO\n",
    "using CombinatorialSpaces.DiscreteExteriorCalculus: inv_hodge_star\n",
    "using CombinatorialSpaces.SimplicialSets: d\n",
    "\n",
    "# dual subdivision \n",
    "function dual(s::EmbeddedDeltaSet2D{O, P}) where {O, P}\n",
    "  sd = EmbeddedDeltaDualComplex2D{O, eltype(P), P}(s)\n",
    "  subdivide_duals!(sd, Circumcenter())\n",
    "  sd\n",
    "end"
   ]
  },
  {
   "cell_type": "markdown",
   "id": "992c2164",
   "metadata": {},
   "source": [
    "## Define and plot mesh"
   ]
  },
  {
   "cell_type": "code",
   "execution_count": 79,
   "id": "20cf3947",
   "metadata": {
    "scrolled": true
   },
   "outputs": [
    {
     "data": {
      "image/png": "[encoded data removed]",
      "text/plain": [
       "Figure()"
      ]
     },
     "execution_count": 79,
     "metadata": {},
     "output_type": "execute_result"
    }
   ],
   "source": [
    "# Define mesh\n",
    "s = EmbeddedDeltaSet2D(\"meshes/truss.obj\")\n",
    "sd = dual(s);\n",
    "\n",
    "# Get boundary masks for BCs #\n",
    "boundary_e = findall(x -> x != 0, boundary(Val{2},s) * fill(1,ntriangles(s))) # mesh edges\n",
    "boundary_v = unique(vcat(s[boundary_e,:src],s[boundary_e,:tgt])) # mesh edge vertices\n",
    "\n",
    "# Define vertices for BC application \n",
    "left = filter(x->all((0.0,0.0,0.0) .<= s[x,:point] .<= (0.0,1.0,0.0)), boundary_v) # fixed end\n",
    "\n",
    "# Plot mesh\n",
    "fig, ax, ob = wireframe(s)\n",
    "ax.aspect = AxisAspect(10/1)\n",
    "fig"
   ]
  },
  {
   "cell_type": "code",
   "execution_count": 80,
   "id": "3846640b",
   "metadata": {},
   "outputs": [
    {
     "data": {
      "text/plain": [
       "41-element Vector{Float64}:\n",
       "      0.0\n",
       "     -0.0\n",
       " -53550.0\n",
       " -53550.0\n",
       "      0.0\n",
       "     -0.0\n",
       "  -7650.0\n",
       "  -7650.0\n",
       "      0.0\n",
       "  -6750.0\n",
       "     -0.0\n",
       "      0.0\n",
       "  -6750.0\n",
       "      ⋮\n",
       "     -0.0\n",
       "  -2250.0\n",
       "  -2250.0\n",
       "      0.0\n",
       "  -1350.0\n",
       "     -0.0\n",
       "      0.0\n",
       "  -1350.0\n",
       "   -450.0\n",
       "     -0.0\n",
       "      0.0\n",
       "   -450.0"
      ]
     },
     "execution_count": 80,
     "metadata": {},
     "output_type": "execute_result"
    }
   ],
   "source": [
    "# Define the physical constants\n",
    "q = 900 # prescribed free end point force (N/m)\n",
    "E = 500 # Elastic Young's modulus (N/m^2)\n",
    "I = 1/12; # Second moment of area (m^4)\n",
    "L = 10\n",
    "\n",
    "x = VForm([p[1] for p in s[:point]])\n",
    "y = VForm([p[2] for p in s[:point]])\n",
    "\n",
    "M = DualForm{2}([-((q*L^2)/2) + (q*L*p[1]) - ((q*p[1]^2)/2) for p in s[:point]])\n",
    "\n",
    "# DualOneForm = ⋆(Val{1}, sd, d(Val{0}, sd, inv_hodge_star(Val{0}, sd, M)));\n",
    "\n",
    "# θ = inv_hodge_star(Val{1}, sd, DualOneForm)\n",
    "\n",
    "# ν = inv_hodge_star(Val{0}, sd, dual_derivative(Val{1}, sd, ⋆(Val{1}, sd, θ)))\n",
    "\n",
    "# ν = inv_hodge_star(Val{0}, sd, M)"
   ]
  },
  {
   "cell_type": "markdown",
   "id": "cd53b74a",
   "metadata": {},
   "source": [
    "## Add the physics"
   ]
  },
  {
   "cell_type": "code",
   "execution_count": 15,
   "id": "07f93e71",
   "metadata": {},
   "outputs": [
    {
     "data": {
      "text/plain": [
       "vf (generic function with 1 method)"
      ]
     },
     "execution_count": 15,
     "metadata": {},
     "output_type": "execute_result"
    }
   ],
   "source": [
    "x_range = 1:length(x)\n",
    "y_range = (1:length(y)) .+ length(x)\n",
    "\n",
    "vf(du, u, p, t) = begin\n",
    "    du .= \n",
    "    du[y_range[left]] = 0.0\n",
    "end"
   ]
  },
  {
   "cell_type": "markdown",
   "id": "36a6a9a5",
   "metadata": {},
   "source": [
    "## Run the simulation(s)"
   ]
  },
  {
   "cell_type": "code",
   "execution_count": 17,
   "id": "579b004a",
   "metadata": {},
   "outputs": [
    {
     "ename": "LoadError",
     "evalue": "MethodError: no method matching ⋆(::Catlab.CSetDataStructures.AttributedCSet{Catlab.Theories.CatDesc{(:V, :E, :Tri, :DualV, :DualE, :DualTri), (:src, :tgt, :∂e0, :∂e1, :∂e2, :D_∂v0, :D_∂v1, :D_∂e0, :D_∂e1, :D_∂e2, :vertex_center, :edge_center, :tri_center), (2, 2, 3, 3, 3, 5, 5, 6, 6, 6, 1, 2, 3), (1, 1, 2, 2, 2, 4, 4, 5, 5, 5, 4, 4, 4)}, Catlab.Theories.AttrDesc{Catlab.Theories.CatDesc{(:V, :E, :Tri, :DualV, :DualE, :DualTri), (:src, :tgt, :∂e0, :∂e1, :∂e2, :D_∂v0, :D_∂v1, :D_∂e0, :D_∂e1, :D_∂e2, :vertex_center, :edge_center, :tri_center), (2, 2, 3, 3, 3, 5, 5, 6, 6, 6, 1, 2, 3), (1, 1, 2, 2, 2, 4, 4, 5, 5, 5, 4, 4, 4)}, (:Orientation, :Real, :Point), (:edge_orientation, :tri_orientation, :D_edge_orientation, :D_tri_orientation, :point, :length, :area, :dual_point, :dual_length, :dual_area), (2, 3, 5, 6, 1, 2, 3, 4, 5, 6), (1, 1, 1, 1, 3, 2, 2, 3, 2, 2)}, Tuple{Bool, Float32, Point{3, Float32}}, (:D_∂e0, :D_∂e1, :D_∂e2, :D_∂v0, :D_∂v1, :src, :tgt, :∂e0, :∂e1, :∂e2), (), NamedTuple{(:V, :E, :Tri, :DualV, :DualE, :DualTri), Tuple{TypedTables.Table{NamedTuple{(:vertex_center, :point), Tuple{Int64, Point{3, Float32}}}, 1, NamedTuple{(:vertex_center, :point), Tuple{Vector{Int64}, Vector{Point{3, Float32}}}}}, TypedTables.Table{NamedTuple{(:src, :tgt, :edge_center, :edge_orientation, :length), Tuple{Int64, Int64, Int64, Bool, Float32}}, 1, NamedTuple{(:src, :tgt, :edge_center, :edge_orientation, :length), Tuple{Vector{Int64}, Vector{Int64}, Vector{Int64}, Vector{Bool}, Vector{Float32}}}}, TypedTables.Table{NamedTuple{(:∂e0, :∂e1, :∂e2, :tri_center, :tri_orientation, :area), Tuple{Int64, Int64, Int64, Int64, Bool, Float32}}, 1, NamedTuple{(:∂e0, :∂e1, :∂e2, :tri_center, :tri_orientation, :area), Tuple{Vector{Int64}, Vector{Int64}, Vector{Int64}, Vector{Int64}, Vector{Bool}, Vector{Float32}}}}, TypedTables.Table{NamedTuple{(:dual_point,), Tuple{Point{3, Float32}}}, 1, NamedTuple{(:dual_point,), Tuple{Vector{Point{3, Float32}}}}}, TypedTables.Table{NamedTuple{(:D_∂v0, :D_∂v1, :D_edge_orientation, :dual_length), Tuple{Int64, Int64, Bool, Float32}}, 1, NamedTuple{(:D_∂v0, :D_∂v1, :D_edge_orientation, :dual_length), Tuple{Vector{Int64}, Vector{Int64}, Vector{Bool}, Vector{Float32}}}}, TypedTables.Table{NamedTuple{(:D_∂e0, :D_∂e1, :D_∂e2, :D_tri_orientation, :dual_area), Tuple{Int64, Int64, Int64, Bool, Float32}}, 1, NamedTuple{(:D_∂e0, :D_∂e1, :D_∂e2, :D_tri_orientation, :dual_area), Tuple{Vector{Int64}, Vector{Int64}, Vector{Int64}, Vector{Bool}, Vector{Float32}}}}}}, NamedTuple{(:D_∂e0, :D_∂e1, :D_∂e2, :D_∂v0, :D_∂v1, :src, :tgt, :∂e0, :∂e1, :∂e2), NTuple{10, Vector{Vector{Int64}}}}}, ::DualForm{2, Float64, Vector{Float64}})\n\u001b[0mClosest candidates are:\n\u001b[0m  ⋆(::Catlab.CSetDataStructures.AbstractAttributedCSet, \u001b[91m::SimplexForm{n, T, V} where {T, V<:AbstractVector{T}}\u001b[39m) where n at C:\\Users\\mgatlin3\\.julia\\packages\\CombinatorialSpaces\\9D0nF\\src\\DiscreteExteriorCalculus.jl:658",
     "output_type": "error",
     "traceback": [
      "MethodError: no method matching ⋆(::Catlab.CSetDataStructures.AttributedCSet{Catlab.Theories.CatDesc{(:V, :E, :Tri, :DualV, :DualE, :DualTri), (:src, :tgt, :∂e0, :∂e1, :∂e2, :D_∂v0, :D_∂v1, :D_∂e0, :D_∂e1, :D_∂e2, :vertex_center, :edge_center, :tri_center), (2, 2, 3, 3, 3, 5, 5, 6, 6, 6, 1, 2, 3), (1, 1, 2, 2, 2, 4, 4, 5, 5, 5, 4, 4, 4)}, Catlab.Theories.AttrDesc{Catlab.Theories.CatDesc{(:V, :E, :Tri, :DualV, :DualE, :DualTri), (:src, :tgt, :∂e0, :∂e1, :∂e2, :D_∂v0, :D_∂v1, :D_∂e0, :D_∂e1, :D_∂e2, :vertex_center, :edge_center, :tri_center), (2, 2, 3, 3, 3, 5, 5, 6, 6, 6, 1, 2, 3), (1, 1, 2, 2, 2, 4, 4, 5, 5, 5, 4, 4, 4)}, (:Orientation, :Real, :Point), (:edge_orientation, :tri_orientation, :D_edge_orientation, :D_tri_orientation, :point, :length, :area, :dual_point, :dual_length, :dual_area), (2, 3, 5, 6, 1, 2, 3, 4, 5, 6), (1, 1, 1, 1, 3, 2, 2, 3, 2, 2)}, Tuple{Bool, Float32, Point{3, Float32}}, (:D_∂e0, :D_∂e1, :D_∂e2, :D_∂v0, :D_∂v1, :src, :tgt, :∂e0, :∂e1, :∂e2), (), NamedTuple{(:V, :E, :Tri, :DualV, :DualE, :DualTri), Tuple{TypedTables.Table{NamedTuple{(:vertex_center, :point), Tuple{Int64, Point{3, Float32}}}, 1, NamedTuple{(:vertex_center, :point), Tuple{Vector{Int64}, Vector{Point{3, Float32}}}}}, TypedTables.Table{NamedTuple{(:src, :tgt, :edge_center, :edge_orientation, :length), Tuple{Int64, Int64, Int64, Bool, Float32}}, 1, NamedTuple{(:src, :tgt, :edge_center, :edge_orientation, :length), Tuple{Vector{Int64}, Vector{Int64}, Vector{Int64}, Vector{Bool}, Vector{Float32}}}}, TypedTables.Table{NamedTuple{(:∂e0, :∂e1, :∂e2, :tri_center, :tri_orientation, :area), Tuple{Int64, Int64, Int64, Int64, Bool, Float32}}, 1, NamedTuple{(:∂e0, :∂e1, :∂e2, :tri_center, :tri_orientation, :area), Tuple{Vector{Int64}, Vector{Int64}, Vector{Int64}, Vector{Int64}, Vector{Bool}, Vector{Float32}}}}, TypedTables.Table{NamedTuple{(:dual_point,), Tuple{Point{3, Float32}}}, 1, NamedTuple{(:dual_point,), Tuple{Vector{Point{3, Float32}}}}}, TypedTables.Table{NamedTuple{(:D_∂v0, :D_∂v1, :D_edge_orientation, :dual_length), Tuple{Int64, Int64, Bool, Float32}}, 1, NamedTuple{(:D_∂v0, :D_∂v1, :D_edge_orientation, :dual_length), Tuple{Vector{Int64}, Vector{Int64}, Vector{Bool}, Vector{Float32}}}}, TypedTables.Table{NamedTuple{(:D_∂e0, :D_∂e1, :D_∂e2, :D_tri_orientation, :dual_area), Tuple{Int64, Int64, Int64, Bool, Float32}}, 1, NamedTuple{(:D_∂e0, :D_∂e1, :D_∂e2, :D_tri_orientation, :dual_area), Tuple{Vector{Int64}, Vector{Int64}, Vector{Int64}, Vector{Bool}, Vector{Float32}}}}}}, NamedTuple{(:D_∂e0, :D_∂e1, :D_∂e2, :D_∂v0, :D_∂v1, :src, :tgt, :∂e0, :∂e1, :∂e2), NTuple{10, Vector{Vector{Int64}}}}}, ::DualForm{2, Float64, Vector{Float64}})\n\u001b[0mClosest candidates are:\n\u001b[0m  ⋆(::Catlab.CSetDataStructures.AbstractAttributedCSet, \u001b[91m::SimplexForm{n, T, V} where {T, V<:AbstractVector{T}}\u001b[39m) where n at C:\\Users\\mgatlin3\\.julia\\packages\\CombinatorialSpaces\\9D0nF\\src\\DiscreteExteriorCalculus.jl:658",
      "",
      "Stacktrace:",
      "  [1] vf(du::Vector{Float64}, u::Vector{Float64}, p::SciMLBase.NullParameters, t::Float64)",
      "    @ Main .\\In[15]:5",
      "  [2] ODEFunction",
      "    @ C:\\Users\\mgatlin3\\.julia\\packages\\SciMLBase\\UIp7W\\src\\scimlfunctions.jl:334 [inlined]",
      "  [3] initialize!(integrator::OrdinaryDiffEq.ODEIntegrator{CompositeAlgorithm{Tuple{Tsit5, Rosenbrock23{11, false, DefaultLinSolve, Val{:forward}}}, OrdinaryDiffEq.AutoSwitchCache{Tsit5, Rosenbrock23{0, false, DefaultLinSolve, Val{:forward}}, Rational{Int64}, Int64}}, true, Vector{Float64}, Nothing, Float64, SciMLBase.NullParameters, Float64, Float64, Float64, Float64, Vector{Vector{Float64}}, OrdinaryDiffEq.ODECompositeSolution{Float64, 2, Vector{Vector{Float64}}, Nothing, Nothing, Vector{Float64}, Vector{Vector{Vector{Float64}}}, ODEProblem{Vector{Float64}, Tuple{Float64, Float64}, true, SciMLBase.NullParameters, ODEFunction{true, typeof(vf), LinearAlgebra.UniformScaling{Bool}, Nothing, Nothing, Nothing, Nothing, Nothing, Nothing, Nothing, Nothing, Nothing, Nothing, Nothing, Nothing, typeof(SciMLBase.DEFAULT_OBSERVED), Nothing}, Base.Iterators.Pairs{Union{}, Union{}, Tuple{}, NamedTuple{(), Tuple{}}}, SciMLBase.StandardODEProblem}, CompositeAlgorithm{Tuple{Tsit5, Rosenbrock23{11, false, DefaultLinSolve, Val{:forward}}}, OrdinaryDiffEq.AutoSwitchCache{Tsit5, Rosenbrock23{0, false, DefaultLinSolve, Val{:forward}}, Rational{Int64}, Int64}}, OrdinaryDiffEq.CompositeInterpolationData{ODEFunction{true, typeof(vf), LinearAlgebra.UniformScaling{Bool}, Nothing, Nothing, Nothing, Nothing, Nothing, Nothing, Nothing, Nothing, Nothing, Nothing, Nothing, Nothing, typeof(SciMLBase.DEFAULT_OBSERVED), Nothing}, Vector{Vector{Float64}}, Vector{Float64}, Vector{Vector{Vector{Float64}}}, OrdinaryDiffEq.CompositeCache{Tuple{OrdinaryDiffEq.Tsit5Cache{Vector{Float64}, Vector{Float64}, Vector{Float64}, OrdinaryDiffEq.Tsit5ConstantCache{Float64, Float64}}, OrdinaryDiffEq.Rosenbrock23Cache{Vector{Float64}, Vector{Float64}, Vector{Float64}, Matrix{Float64}, Matrix{Float64}, OrdinaryDiffEq.Rosenbrock23Tableau{Float64}, SciMLBase.TimeGradientWrapper{ODEFunction{true, typeof(vf), LinearAlgebra.UniformScaling{Bool}, Nothing, Nothing, Nothing, Nothing, Nothing, Nothing, Nothing, Nothing, Nothing, Nothing, Nothing, Nothing, typeof(SciMLBase.DEFAULT_OBSERVED), Nothing}, Vector{Float64}, SciMLBase.NullParameters}, SciMLBase.UJacobianWrapper{ODEFunction{true, typeof(vf), LinearAlgebra.UniformScaling{Bool}, Nothing, Nothing, Nothing, Nothing, Nothing, Nothing, Nothing, Nothing, Nothing, Nothing, Nothing, Nothing, typeof(SciMLBase.DEFAULT_OBSERVED), Nothing}, Float64, SciMLBase.NullParameters}, DefaultLinSolve, FiniteDiff.JacobianCache{Vector{Float64}, Vector{Float64}, Vector{Float64}, UnitRange{Int64}, Nothing, Val{:forward}(), Float64}, FiniteDiff.GradientCache{Nothing, Vector{Float64}, Vector{Float64}, Float64, Val{:forward}(), Float64, Val{true}()}}}, OrdinaryDiffEq.AutoSwitchCache{Tsit5, Rosenbrock23{0, false, DefaultLinSolve, Val{:forward}}, Rational{Int64}, Int64}}}, DiffEqBase.DEStats}, ODEFunction{true, typeof(vf), LinearAlgebra.UniformScaling{Bool}, Nothing, Nothing, Nothing, Nothing, Nothing, Nothing, Nothing, Nothing, Nothing, Nothing, Nothing, Nothing, typeof(SciMLBase.DEFAULT_OBSERVED), Nothing}, OrdinaryDiffEq.CompositeCache{Tuple{OrdinaryDiffEq.Tsit5Cache{Vector{Float64}, Vector{Float64}, Vector{Float64}, OrdinaryDiffEq.Tsit5ConstantCache{Float64, Float64}}, OrdinaryDiffEq.Rosenbrock23Cache{Vector{Float64}, Vector{Float64}, Vector{Float64}, Matrix{Float64}, Matrix{Float64}, OrdinaryDiffEq.Rosenbrock23Tableau{Float64}, SciMLBase.TimeGradientWrapper{ODEFunction{true, typeof(vf), LinearAlgebra.UniformScaling{Bool}, Nothing, Nothing, Nothing, Nothing, Nothing, Nothing, Nothing, Nothing, Nothing, Nothing, Nothing, Nothing, typeof(SciMLBase.DEFAULT_OBSERVED), Nothing}, Vector{Float64}, SciMLBase.NullParameters}, SciMLBase.UJacobianWrapper{ODEFunction{true, typeof(vf), LinearAlgebra.UniformScaling{Bool}, Nothing, Nothing, Nothing, Nothing, Nothing, Nothing, Nothing, Nothing, Nothing, Nothing, Nothing, Nothing, typeof(SciMLBase.DEFAULT_OBSERVED), Nothing}, Float64, SciMLBase.NullParameters}, DefaultLinSolve, FiniteDiff.JacobianCache{Vector{Float64}, Vector{Float64}, Vector{Float64}, UnitRange{Int64}, Nothing, Val{:forward}(), Float64}, FiniteDiff.GradientCache{Nothing, Vector{Float64}, Vector{Float64}, Float64, Val{:forward}(), Float64, Val{true}()}}}, OrdinaryDiffEq.AutoSwitchCache{Tsit5, Rosenbrock23{0, false, DefaultLinSolve, Val{:forward}}, Rational{Int64}, Int64}}, OrdinaryDiffEq.DEOptions{Float64, Float64, Float64, Float64, PIController{Rational{Int64}}, typeof(DiffEqBase.ODE_DEFAULT_NORM), typeof(LinearAlgebra.opnorm), Nothing, CallbackSet{Tuple{}, Tuple{}}, typeof(DiffEqBase.ODE_DEFAULT_ISOUTOFDOMAIN), typeof(DiffEqBase.ODE_DEFAULT_PROG_MESSAGE), typeof(DiffEqBase.ODE_DEFAULT_UNSTABLE_CHECK), DataStructures.BinaryHeap{Float64, DataStructures.FasterForward}, DataStructures.BinaryHeap{Float64, DataStructures.FasterForward}, Nothing, Nothing, Int64, Tuple{}, Tuple{}, Tuple{}}, Vector{Float64}, Float64, Nothing, OrdinaryDiffEq.DefaultInit}, cache::OrdinaryDiffEq.Tsit5Cache{Vector{Float64}, Vector{Float64}, Vector{Float64}, OrdinaryDiffEq.Tsit5ConstantCache{Float64, Float64}})",
      "    @ OrdinaryDiffEq C:\\Users\\mgatlin3\\.julia\\packages\\OrdinaryDiffEq\\PZbGY\\src\\perform_step\\low_order_rk_perform_step.jl:623",
      "  [4] initialize!(integrator::OrdinaryDiffEq.ODEIntegrator{CompositeAlgorithm{Tuple{Tsit5, Rosenbrock23{11, false, DefaultLinSolve, Val{:forward}}}, OrdinaryDiffEq.AutoSwitchCache{Tsit5, Rosenbrock23{0, false, DefaultLinSolve, Val{:forward}}, Rational{Int64}, Int64}}, true, Vector{Float64}, Nothing, Float64, SciMLBase.NullParameters, Float64, Float64, Float64, Float64, Vector{Vector{Float64}}, OrdinaryDiffEq.ODECompositeSolution{Float64, 2, Vector{Vector{Float64}}, Nothing, Nothing, Vector{Float64}, Vector{Vector{Vector{Float64}}}, ODEProblem{Vector{Float64}, Tuple{Float64, Float64}, true, SciMLBase.NullParameters, ODEFunction{true, typeof(vf), LinearAlgebra.UniformScaling{Bool}, Nothing, Nothing, Nothing, Nothing, Nothing, Nothing, Nothing, Nothing, Nothing, Nothing, Nothing, Nothing, typeof(SciMLBase.DEFAULT_OBSERVED), Nothing}, Base.Iterators.Pairs{Union{}, Union{}, Tuple{}, NamedTuple{(), Tuple{}}}, SciMLBase.StandardODEProblem}, CompositeAlgorithm{Tuple{Tsit5, Rosenbrock23{11, false, DefaultLinSolve, Val{:forward}}}, OrdinaryDiffEq.AutoSwitchCache{Tsit5, Rosenbrock23{0, false, DefaultLinSolve, Val{:forward}}, Rational{Int64}, Int64}}, OrdinaryDiffEq.CompositeInterpolationData{ODEFunction{true, typeof(vf), LinearAlgebra.UniformScaling{Bool}, Nothing, Nothing, Nothing, Nothing, Nothing, Nothing, Nothing, Nothing, Nothing, Nothing, Nothing, Nothing, typeof(SciMLBase.DEFAULT_OBSERVED), Nothing}, Vector{Vector{Float64}}, Vector{Float64}, Vector{Vector{Vector{Float64}}}, OrdinaryDiffEq.CompositeCache{Tuple{OrdinaryDiffEq.Tsit5Cache{Vector{Float64}, Vector{Float64}, Vector{Float64}, OrdinaryDiffEq.Tsit5ConstantCache{Float64, Float64}}, OrdinaryDiffEq.Rosenbrock23Cache{Vector{Float64}, Vector{Float64}, Vector{Float64}, Matrix{Float64}, Matrix{Float64}, OrdinaryDiffEq.Rosenbrock23Tableau{Float64}, SciMLBase.TimeGradientWrapper{ODEFunction{true, typeof(vf), LinearAlgebra.UniformScaling{Bool}, Nothing, Nothing, Nothing, Nothing, Nothing, Nothing, Nothing, Nothing, Nothing, Nothing, Nothing, Nothing, typeof(SciMLBase.DEFAULT_OBSERVED), Nothing}, Vector{Float64}, SciMLBase.NullParameters}, SciMLBase.UJacobianWrapper{ODEFunction{true, typeof(vf), LinearAlgebra.UniformScaling{Bool}, Nothing, Nothing, Nothing, Nothing, Nothing, Nothing, Nothing, Nothing, Nothing, Nothing, Nothing, Nothing, typeof(SciMLBase.DEFAULT_OBSERVED), Nothing}, Float64, SciMLBase.NullParameters}, DefaultLinSolve, FiniteDiff.JacobianCache{Vector{Float64}, Vector{Float64}, Vector{Float64}, UnitRange{Int64}, Nothing, Val{:forward}(), Float64}, FiniteDiff.GradientCache{Nothing, Vector{Float64}, Vector{Float64}, Float64, Val{:forward}(), Float64, Val{true}()}}}, OrdinaryDiffEq.AutoSwitchCache{Tsit5, Rosenbrock23{0, false, DefaultLinSolve, Val{:forward}}, Rational{Int64}, Int64}}}, DiffEqBase.DEStats}, ODEFunction{true, typeof(vf), LinearAlgebra.UniformScaling{Bool}, Nothing, Nothing, Nothing, Nothing, Nothing, Nothing, Nothing, Nothing, Nothing, Nothing, Nothing, Nothing, typeof(SciMLBase.DEFAULT_OBSERVED), Nothing}, OrdinaryDiffEq.CompositeCache{Tuple{OrdinaryDiffEq.Tsit5Cache{Vector{Float64}, Vector{Float64}, Vector{Float64}, OrdinaryDiffEq.Tsit5ConstantCache{Float64, Float64}}, OrdinaryDiffEq.Rosenbrock23Cache{Vector{Float64}, Vector{Float64}, Vector{Float64}, Matrix{Float64}, Matrix{Float64}, OrdinaryDiffEq.Rosenbrock23Tableau{Float64}, SciMLBase.TimeGradientWrapper{ODEFunction{true, typeof(vf), LinearAlgebra.UniformScaling{Bool}, Nothing, Nothing, Nothing, Nothing, Nothing, Nothing, Nothing, Nothing, Nothing, Nothing, Nothing, Nothing, typeof(SciMLBase.DEFAULT_OBSERVED), Nothing}, Vector{Float64}, SciMLBase.NullParameters}, SciMLBase.UJacobianWrapper{ODEFunction{true, typeof(vf), LinearAlgebra.UniformScaling{Bool}, Nothing, Nothing, Nothing, Nothing, Nothing, Nothing, Nothing, Nothing, Nothing, Nothing, Nothing, Nothing, typeof(SciMLBase.DEFAULT_OBSERVED), Nothing}, Float64, SciMLBase.NullParameters}, DefaultLinSolve, FiniteDiff.JacobianCache{Vector{Float64}, Vector{Float64}, Vector{Float64}, UnitRange{Int64}, Nothing, Val{:forward}(), Float64}, FiniteDiff.GradientCache{Nothing, Vector{Float64}, Vector{Float64}, Float64, Val{:forward}(), Float64, Val{true}()}}}, OrdinaryDiffEq.AutoSwitchCache{Tsit5, Rosenbrock23{0, false, DefaultLinSolve, Val{:forward}}, Rational{Int64}, Int64}}, OrdinaryDiffEq.DEOptions{Float64, Float64, Float64, Float64, PIController{Rational{Int64}}, typeof(DiffEqBase.ODE_DEFAULT_NORM), typeof(LinearAlgebra.opnorm), Nothing, CallbackSet{Tuple{}, Tuple{}}, typeof(DiffEqBase.ODE_DEFAULT_ISOUTOFDOMAIN), typeof(DiffEqBase.ODE_DEFAULT_PROG_MESSAGE), typeof(DiffEqBase.ODE_DEFAULT_UNSTABLE_CHECK), DataStructures.BinaryHeap{Float64, DataStructures.FasterForward}, DataStructures.BinaryHeap{Float64, DataStructures.FasterForward}, Nothing, Nothing, Int64, Tuple{}, Tuple{}, Tuple{}}, Vector{Float64}, Float64, Nothing, OrdinaryDiffEq.DefaultInit}, cache::OrdinaryDiffEq.CompositeCache{Tuple{OrdinaryDiffEq.Tsit5Cache{Vector{Float64}, Vector{Float64}, Vector{Float64}, OrdinaryDiffEq.Tsit5ConstantCache{Float64, Float64}}, OrdinaryDiffEq.Rosenbrock23Cache{Vector{Float64}, Vector{Float64}, Vector{Float64}, Matrix{Float64}, Matrix{Float64}, OrdinaryDiffEq.Rosenbrock23Tableau{Float64}, SciMLBase.TimeGradientWrapper{ODEFunction{true, typeof(vf), LinearAlgebra.UniformScaling{Bool}, Nothing, Nothing, Nothing, Nothing, Nothing, Nothing, Nothing, Nothing, Nothing, Nothing, Nothing, Nothing, typeof(SciMLBase.DEFAULT_OBSERVED), Nothing}, Vector{Float64}, SciMLBase.NullParameters}, SciMLBase.UJacobianWrapper{ODEFunction{true, typeof(vf), LinearAlgebra.UniformScaling{Bool}, Nothing, Nothing, Nothing, Nothing, Nothing, Nothing, Nothing, Nothing, Nothing, Nothing, Nothing, Nothing, typeof(SciMLBase.DEFAULT_OBSERVED), Nothing}, Float64, SciMLBase.NullParameters}, DefaultLinSolve, FiniteDiff.JacobianCache{Vector{Float64}, Vector{Float64}, Vector{Float64}, UnitRange{Int64}, Nothing, Val{:forward}(), Float64}, FiniteDiff.GradientCache{Nothing, Vector{Float64}, Vector{Float64}, Float64, Val{:forward}(), Float64, Val{true}()}}}, OrdinaryDiffEq.AutoSwitchCache{Tsit5, Rosenbrock23{0, false, DefaultLinSolve, Val{:forward}}, Rational{Int64}, Int64}})",
      "    @ OrdinaryDiffEq C:\\Users\\mgatlin3\\.julia\\packages\\OrdinaryDiffEq\\PZbGY\\src\\perform_step\\composite_perform_step.jl:39",
      "  [5] __init(prob::ODEProblem{Vector{Float64}, Tuple{Float64, Float64}, true, SciMLBase.NullParameters, ODEFunction{true, typeof(vf), LinearAlgebra.UniformScaling{Bool}, Nothing, Nothing, Nothing, Nothing, Nothing, Nothing, Nothing, Nothing, Nothing, Nothing, Nothing, Nothing, typeof(SciMLBase.DEFAULT_OBSERVED), Nothing}, Base.Iterators.Pairs{Union{}, Union{}, Tuple{}, NamedTuple{(), Tuple{}}}, SciMLBase.StandardODEProblem}, alg::CompositeAlgorithm{Tuple{Tsit5, Rosenbrock23{11, false, DefaultLinSolve, Val{:forward}}}, AutoSwitch{Tsit5, Rosenbrock23{0, false, DefaultLinSolve, Val{:forward}}, Rational{Int64}, Int64}}, timeseries_init::Tuple{}, ts_init::Tuple{}, ks_init::Tuple{}, recompile::Type{Val{true}}; saveat::Tuple{}, tstops::Tuple{}, d_discontinuities::Tuple{}, save_idxs::Nothing, save_everystep::Bool, save_on::Bool, save_start::Bool, save_end::Nothing, callback::Nothing, dense::Bool, calck::Bool, dt::Float64, dtmin::Nothing, dtmax::Float64, force_dtmin::Bool, adaptive::Bool, gamma::Rational{Int64}, abstol::Nothing, reltol::Nothing, qmin::Rational{Int64}, qmax::Int64, qsteady_min::Int64, qsteady_max::Int64, beta1::Nothing, beta2::Nothing, qoldinit::Rational{Int64}, controller::Nothing, fullnormalize::Bool, failfactor::Int64, maxiters::Int64, internalnorm::typeof(DiffEqBase.ODE_DEFAULT_NORM), internalopnorm::typeof(LinearAlgebra.opnorm), isoutofdomain::typeof(DiffEqBase.ODE_DEFAULT_ISOUTOFDOMAIN), unstable_check::typeof(DiffEqBase.ODE_DEFAULT_UNSTABLE_CHECK), verbose::Bool, timeseries_errors::Bool, dense_errors::Bool, advance_to_tstop::Bool, stop_at_next_tstop::Bool, initialize_save::Bool, progress::Bool, progress_steps::Int64, progress_name::String, progress_message::typeof(DiffEqBase.ODE_DEFAULT_PROG_MESSAGE), userdata::Nothing, allow_extrapolation::Bool, initialize_integrator::Bool, alias_u0::Bool, alias_du0::Bool, initializealg::OrdinaryDiffEq.DefaultInit, kwargs::Base.Iterators.Pairs{Symbol, Bool, Tuple{Symbol, Symbol}, NamedTuple{(:default_set, :second_time), Tuple{Bool, Bool}}})",
      "    @ OrdinaryDiffEq C:\\Users\\mgatlin3\\.julia\\packages\\OrdinaryDiffEq\\PZbGY\\src\\solve.jl:456",
      "  [6] #__solve#471",
      "    @ C:\\Users\\mgatlin3\\.julia\\packages\\OrdinaryDiffEq\\PZbGY\\src\\solve.jl:4 [inlined]",
      "  [7] __solve(::ODEProblem{Vector{Float64}, Tuple{Float64, Float64}, true, SciMLBase.NullParameters, ODEFunction{true, typeof(vf), LinearAlgebra.UniformScaling{Bool}, Nothing, Nothing, Nothing, Nothing, Nothing, Nothing, Nothing, Nothing, Nothing, Nothing, Nothing, Nothing, typeof(SciMLBase.DEFAULT_OBSERVED), Nothing}, Base.Iterators.Pairs{Union{}, Union{}, Tuple{}, NamedTuple{(), Tuple{}}}, SciMLBase.StandardODEProblem}, ::Nothing; default_set::Bool, kwargs::Base.Iterators.Pairs{Symbol, Bool, Tuple{Symbol}, NamedTuple{(:second_time,), Tuple{Bool}}})",
      "    @ DifferentialEquations C:\\Users\\mgatlin3\\.julia\\packages\\DifferentialEquations\\7WPQg\\src\\default_solve.jl:8",
      "  [8] #__solve#57",
      "    @ C:\\Users\\mgatlin3\\.julia\\packages\\DiffEqBase\\Rmj4o\\src\\solve.jl:291 [inlined]",
      "  [9] __solve",
      "    @ C:\\Users\\mgatlin3\\.julia\\packages\\DiffEqBase\\Rmj4o\\src\\solve.jl:278 [inlined]",
      " [10] #solve_call#42",
      "    @ C:\\Users\\mgatlin3\\.julia\\packages\\DiffEqBase\\Rmj4o\\src\\solve.jl:61 [inlined]",
      " [11] solve_call",
      "    @ C:\\Users\\mgatlin3\\.julia\\packages\\DiffEqBase\\Rmj4o\\src\\solve.jl:48 [inlined]",
      " [12] #solve_up#44",
      "    @ C:\\Users\\mgatlin3\\.julia\\packages\\DiffEqBase\\Rmj4o\\src\\solve.jl:90 [inlined]",
      " [13] solve_up",
      "    @ C:\\Users\\mgatlin3\\.julia\\packages\\DiffEqBase\\Rmj4o\\src\\solve.jl:78 [inlined]",
      " [14] #solve#43",
      "    @ C:\\Users\\mgatlin3\\.julia\\packages\\DiffEqBase\\Rmj4o\\src\\solve.jl:73 [inlined]",
      " [15] solve(::ODEProblem{Vector{Float64}, Tuple{Float64, Float64}, true, SciMLBase.NullParameters, ODEFunction{true, typeof(vf), LinearAlgebra.UniformScaling{Bool}, Nothing, Nothing, Nothing, Nothing, Nothing, Nothing, Nothing, Nothing, Nothing, Nothing, Nothing, Nothing, typeof(SciMLBase.DEFAULT_OBSERVED), Nothing}, Base.Iterators.Pairs{Union{}, Union{}, Tuple{}, NamedTuple{(), Tuple{}}}, SciMLBase.StandardODEProblem})",
      "    @ DiffEqBase C:\\Users\\mgatlin3\\.julia\\packages\\DiffEqBase\\Rmj4o\\src\\solve.jl:68",
      " [16] top-level scope",
      "    @ In[17]:4",
      " [17] eval",
      "    @ .\\boot.jl:360 [inlined]",
      " [18] include_string(mapexpr::typeof(REPL.softscope), mod::Module, code::String, filename::String)",
      "    @ Base .\\loading.jl:1094"
     ]
    }
   ],
   "source": [
    "# WITHOUT damping \n",
    "tspan = (0.0,1.0)\n",
    "prob = ODEProblem(vf, M.data, tspan)\n",
    "sol = solve(prob);\n"
   ]
  },
  {
   "cell_type": "markdown",
   "id": "8dcea560",
   "metadata": {},
   "source": [
    "## Plot results"
   ]
  },
  {
   "cell_type": "code",
   "execution_count": null,
   "id": "4721610e",
   "metadata": {},
   "outputs": [],
   "source": [
    "x_loc = [p[1] for p in s[:point]]\n",
    "\n",
    "y_loc = [sol1(0)[y_range] sol1(1)[y_range] sol1(2)[y_range] sol1(3)[y_range] sol1(4)[y_range] sol1(5)[y_range] sol1(6)[y_range]] \n",
    "Plots.plot(x_loc, y_loc, \n",
    "    label = [\"t=0s\" \"t=1s\" \"t=2s\" \"t=3s\" \"t=4s\" \"t=5s\" \"t=6s\" \"t=7s\" \"t-8s\" \"t=9s\" \"t=10s\"],\n",
    "    xlabel=\"x-coordinate\", ylabel=\"y-coordinate\",\n",
    "#     title=\"Vibrating String System - Free\",\n",
    "    linewidth = 1.5)\n",
    "\n",
    "\n",
    "savefig(\"free_stringVib.png\")"
   ]
  },
  {
   "cell_type": "markdown",
   "id": "693c0b47",
   "metadata": {},
   "source": [
    "## Record results "
   ]
  },
  {
   "cell_type": "code",
   "execution_count": null,
   "id": "7868d436",
   "metadata": {},
   "outputs": [],
   "source": [
    "anim = @animate for t ∈ range(0,10.0, length=50)\n",
    "    x_loc = [p[1] for p in s[:point]]\n",
    "    y_loc1 = sol1(t)[y_range]\n",
    "    y_loc3 = sol3(t)[y_range]\n",
    "    Plots.plot(x_loc, [y_loc1 y_loc3], \n",
    "        label = [\"free vibration\" \"damped vibration\"],\n",
    "        ylim = [-5, 5],\n",
    "        linewidth = 1.5)\n",
    "end\n",
    "\n",
    "# gif(anim, \"string.gif\", fps = 5)"
   ]
  },
  {
   "cell_type": "markdown",
   "id": "3f52164c",
   "metadata": {},
   "source": [
    "# Exact Solution"
   ]
  },
  {
   "cell_type": "code",
   "execution_count": 56,
   "id": "6fb018dc",
   "metadata": {},
   "outputs": [],
   "source": [
    "M = -((q*L^2)/2) .+ (q.*L.*x) .- ((q.*x.^2)./2);"
   ]
  },
  {
   "cell_type": "code",
   "execution_count": null,
   "id": "cc1e65c8",
   "metadata": {},
   "outputs": [],
   "source": []
  }
 ],
 "metadata": {
  "kernelspec": {
   "display_name": "Julia 1.6.1",
   "language": "julia",
   "name": "julia-1.6"
  },
  "language_info": {
   "file_extension": ".jl",
   "mimetype": "application/julia",
   "name": "julia",
   "version": "1.6.1"
  }
 },
 "nbformat": 4,
 "nbformat_minor": 5
}
