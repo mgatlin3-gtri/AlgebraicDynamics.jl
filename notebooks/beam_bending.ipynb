{
 "cells": [
  {
   "cell_type": "markdown",
   "id": "f071ee30",
   "metadata": {},
   "source": [
    "# Benchmark for vibration of a string\n",
    "\n",
    "Assumptions made:\n",
    "- Deformation is linear elastic\n",
    "- fixed-free boundary conditions with point force on free end\n",
    "\n",
    "Goal: simulate the kink resulting from plucking the string\n",
    "\n",
    "Constituitive equations: \n",
    "\n",
    "$\\frac{\\partial^2 y}{\\partial t^2} = c^2 \\frac{\\partial^2 y}{\\partial x^2} \\\\\n",
    "\n",
    "\n",
    "\n",
    "\n",
    "$\n",
    "\n",
    "where,\n",
    "$\n",
    "y = displacement\\:of\\:the\\:string\\:from\\:equilibirum \\\\\n",
    "x = position\\:along\\:the\\:string \\\\\n",
    "t = time \\\\\n",
    "c = \\sqrt{\\frac{T}{\\mu}} = wave\\:speed \\\\\n",
    "T = tension \\\\\n",
    "\\mu = mass\\:per\\:unit\\:length \\\\\n",
    "$\n",
    "\n",
    "Citation(s):\n",
    "$@article\\:{giordano1998physics,\n",
    "  title={The physics of vibrating strings},\n",
    "  author={Giordano, Nicholas and Gould, Harvey and Tobochnik, Jan}, \n",
    "  journal={Computers in Physics}, \n",
    "  volume={12},\n",
    "  number={2}, \n",
    "  pages={138--145}, \n",
    "  year={1998},\n",
    "  publisher={American Institute of Physics}\n",
    "}$"
   ]
  },
  {
   "cell_type": "code",
   "execution_count": 1,
   "id": "af7e23cb",
   "metadata": {},
   "outputs": [
    {
     "data": {
      "text/plain": [
       "dual (generic function with 1 method)"
      ]
     },
     "execution_count": 1,
     "metadata": {},
     "output_type": "execute_result"
    }
   ],
   "source": [
    "using CombinatorialSpaces, DifferentialEquations, CairoMakie\n",
    "using MeshIO\n",
    "\n",
    "# dual subdivision \n",
    "function dual(s::EmbeddedDeltaSet2D{O, P}) where {O, P}\n",
    "  sd = EmbeddedDeltaDualComplex2D{O, eltype(P), P}(s)\n",
    "  subdivide_duals!(sd, Circumcenter())\n",
    "  sd\n",
    "end"
   ]
  },
  {
   "cell_type": "markdown",
   "id": "992c2164",
   "metadata": {},
   "source": [
    "## Define and plot mesh and boundary conditions"
   ]
  },
  {
   "cell_type": "code",
   "execution_count": 12,
   "id": "20cf3947",
   "metadata": {
    "scrolled": true
   },
   "outputs": [
    {
     "name": "stdout",
     "output_type": "stream",
     "text": [
      "[1, 2]"
     ]
    },
    {
     "data": {
      "image/png": "[encoded data removed]",
      "text/plain": [
       "Figure()"
      ]
     },
     "execution_count": 12,
     "metadata": {},
     "output_type": "execute_result"
    }
   ],
   "source": [
    "# Define mesh\n",
    "s = EmbeddedDeltaSet2D(\"meshes/truss.obj\")\n",
    "sd = dual(s);\n",
    "\n",
    "# Get boundary masks for BCs #\n",
    "boundary_e = findall(x -> x != 0, boundary(Val{2},s) * fill(1,ntriangles(s))) # mesh edges\n",
    "boundary_v = unique(vcat(s[boundary_e,:src],s[boundary_e,:tgt])) # mesh edge vertices\n",
    "\n",
    "# Define vertices for BC application \n",
    "left = filter(x->all((0.0,0.0,0.0) .<= s[x,:point] .<= (0.0,1.0,0.0)), boundary_v) # fixed end\n",
    "load_v = [22]; # free end load application point\n",
    "\n",
    "# Plot mesh\n",
    "fig, ax, ob = wireframe(s)\n",
    "ax.aspect = AxisAspect(10/1)\n",
    "fig"
   ]
  },
  {
   "cell_type": "markdown",
   "id": "3a00e2ee",
   "metadata": {},
   "source": [
    "## Plot initial string pluck distribution"
   ]
  },
  {
   "cell_type": "code",
   "execution_count": null,
   "id": "64f0c084",
   "metadata": {},
   "outputs": [],
   "source": [
    "x = VForm([p[1] for p in s[:point]]); # x-location along string\n",
    "y = VForm([p[2] for p in s[:point]]); # y-location \n",
    "\n",
    "y1 = collect(range(0.0, 5.0, length=200))\n",
    "y2 = collect(range(5.0, 0.0, length=(length(x)-200)))\n",
    "\n",
    "y = [y1; y2]\n",
    "\n",
    "Plots.plot(x, y, \n",
    "     label = \"plucked string distribution\",\n",
    "     xlabel=\"x-coordinate\", ylabel=\"y-coordinate\",\n",
    "     linewidth = 3)\n"
   ]
  },
  {
   "cell_type": "markdown",
   "id": "cd53b74a",
   "metadata": {},
   "source": [
    "## Add the physics"
   ]
  },
  {
   "cell_type": "code",
   "execution_count": null,
   "id": "c931e944",
   "metadata": {},
   "outputs": [],
   "source": [
    "c = 2 # wave speed, m/s\n",
    "γ = -0.75 # damping factor, N*s/m\n",
    "\n",
    "v = VForm(zeros(nv(s))) # y velocity\n",
    "\n",
    "lapl = ∇²(Val{0}, sd) # initialize the laplace de-Rham operator\n",
    "\n",
    "u0 = vcat(x.data, y, v.data) # initial condition for displacement\n",
    "\n",
    "x_range = 1:length(x)\n",
    "y_range = (1:length(y)) .+ length(x)\n",
    "v_range = (1:length(v)) .+ length(x) .+ length(y)\n",
    "\n",
    "# Physics WITHOUT damping\n",
    "vf1(du, u, p, t) = begin\n",
    "    du[v_range] .= (-1*p[1]^2) .* (lapl * u[y_range]) # wave equation\n",
    "    du[y_range] .= u[v_range] # updates velocity\n",
    "    du[y_range[left]] = 0.0\n",
    "    du[y_range[right]] = 0.0\n",
    "end\n",
    "\n",
    "# Physics with damping\n",
    "vf3(du, u, p, t) = begin\n",
    "    du[v_range] .= (-1*p[1]^2) .* (lapl * u[y_range]) \n",
    "    du[y_range] .= u[v_range] \n",
    "    du[v_range] .+= p[2] .* u[v_range] # add damping\n",
    "    du[y_range[left]] = 0.0\n",
    "    du[y_range[right]] = 0.0\n",
    "end\n"
   ]
  },
  {
   "cell_type": "markdown",
   "id": "36a6a9a5",
   "metadata": {},
   "source": [
    "## Run the simulation(s)"
   ]
  },
  {
   "cell_type": "code",
   "execution_count": null,
   "id": "579b004a",
   "metadata": {},
   "outputs": [],
   "source": [
    "# WITHOUT damping \n",
    "tspan = (0.0,6.0)\n",
    "prob = ODEProblem(vf1, u0, tspan, [c])\n",
    "sol1 = solve(prob);\n",
    "\n",
    "# with damping\n",
    "tspan = (0.0,6.0)\n",
    "prob = ODEProblem(vf3, u0, tspan, [c, γ])\n",
    "sol3 = solve(prob);"
   ]
  },
  {
   "cell_type": "markdown",
   "id": "8dcea560",
   "metadata": {},
   "source": [
    "## Plot results (undamped)"
   ]
  },
  {
   "cell_type": "code",
   "execution_count": null,
   "id": "4721610e",
   "metadata": {},
   "outputs": [],
   "source": [
    "x_loc = [p[1] for p in s[:point]]\n",
    "\n",
    "y_loc = [sol1(0)[y_range] sol1(1)[y_range] sol1(2)[y_range] sol1(3)[y_range] sol1(4)[y_range] sol1(5)[y_range] sol1(6)[y_range]] \n",
    "Plots.plot(x_loc, y_loc, \n",
    "    label = [\"t=0s\" \"t=1s\" \"t=2s\" \"t=3s\" \"t=4s\" \"t=5s\" \"t=6s\" \"t=7s\" \"t-8s\" \"t=9s\" \"t=10s\"],\n",
    "    xlabel=\"x-coordinate\", ylabel=\"y-coordinate\",\n",
    "#     title=\"Vibrating String System - Free\",\n",
    "    linewidth = 1.5)\n",
    "\n",
    "\n",
    "savefig(\"free_stringVib.png\")"
   ]
  },
  {
   "cell_type": "markdown",
   "id": "4315b8f6",
   "metadata": {},
   "source": [
    "## Plot results (damped)"
   ]
  },
  {
   "cell_type": "code",
   "execution_count": null,
   "id": "d71bbbcc",
   "metadata": {},
   "outputs": [],
   "source": [
    "x_loc = [p[1] for p in s[:point]]\n",
    "\n",
    "Plots.plot(x_loc, \n",
    "    [sol3(0)[y_range] sol3(1)[y_range] sol3(2)[y_range] sol3(3)[y_range] sol3(4)[y_range] sol3(5)[y_range] sol3(6)[y_range]], \n",
    "    label = [\"t=0s\" \"t=1s\" \"t=2s\" \"t=3s\" \"t=4s\" \"t=5s\" \"t=6s\" \"t=7s\" \"t=8s\" \"t=9s\" \"t=10s\"],\n",
    "    xlabel=\"x-coordinate\",ylabel=\"y-coordinate\",\n",
    "#     title=\"Vibrating String System - Damped\",\n",
    "    linewidth = 1.5)\n",
    "\n",
    "savefig(\"damped_stringVib.png\")"
   ]
  },
  {
   "cell_type": "markdown",
   "id": "693c0b47",
   "metadata": {},
   "source": [
    "## Record results "
   ]
  },
  {
   "cell_type": "code",
   "execution_count": null,
   "id": "7868d436",
   "metadata": {},
   "outputs": [],
   "source": [
    "anim = @animate for t ∈ range(0,10.0, length=50)\n",
    "    x_loc = [p[1] for p in s[:point]]\n",
    "    y_loc1 = sol1(t)[y_range]\n",
    "    y_loc3 = sol3(t)[y_range]\n",
    "    Plots.plot(x_loc, [y_loc1 y_loc3], \n",
    "        label = [\"free vibration\" \"damped vibration\"],\n",
    "        ylim = [-5, 5],\n",
    "        linewidth = 1.5)\n",
    "end\n",
    "\n",
    "# gif(anim, \"string.gif\", fps = 5)"
   ]
  }
 ],
 "metadata": {
  "kernelspec": {
   "display_name": "Julia 1.6.1",
   "language": "julia",
   "name": "julia-1.6"
  },
  "language_info": {
   "file_extension": ".jl",
   "mimetype": "application/julia",
   "name": "julia",
   "version": "1.6.1"
  }
 },
 "nbformat": 4,
 "nbformat_minor": 5
}
