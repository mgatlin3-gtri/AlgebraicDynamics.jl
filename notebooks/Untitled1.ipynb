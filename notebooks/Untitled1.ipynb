{
 "cells": [
  {
   "cell_type": "code",
   "execution_count": 2,
   "metadata": {},
   "outputs": [
    {
     "ename": "LoadError",
     "evalue": "ArgumentError: Package MeshIO not found in current path:\n- Run `import Pkg; Pkg.add(\"MeshIO\")` to install the MeshIO package.\n",
     "output_type": "error",
     "traceback": [
      "ArgumentError: Package MeshIO not found in current path:\n- Run `import Pkg; Pkg.add(\"MeshIO\")` to install the MeshIO package.\n",
      "",
      "Stacktrace:",
      " [1] require(into::Module, mod::Symbol)",
      "   @ Base .\\loading.jl:871",
      " [2] eval",
      "   @ .\\boot.jl:360 [inlined]",
      " [3] include_string(mapexpr::typeof(REPL.softscope), mod::Module, code::String, filename::String)",
      "   @ Base .\\loading.jl:1094"
     ]
    }
   ],
   "source": [
    "#== Import required libraries ==#\n",
    "using Catlab.Graphs\n",
    "using Catlab.Graphics\n",
    "using Catlab.CategoricalAlgebra\n",
    "using CombinatorialSpaces\n",
    "using Distributions\n",
    "using CairoMakie\n",
    "using DifferentialEquations\n",
    "using AlgebraicDynamics.TontiDiagrams\n",
    "using MeshIO"
   ]
  },
  {
   "cell_type": "code",
   "execution_count": 2,
   "metadata": {},
   "outputs": [
    {
     "data": {
      "text/plain": [
       "gen_form (generic function with 1 method)"
      ]
     },
     "execution_count": 2,
     "metadata": {},
     "output_type": "execute_result"
    }
   ],
   "source": [
    "# helper function for setting initial conditions\n",
    "function gen_form(s::EmbeddedDeltaSet2D, f::Function)\n",
    "  map(f, point(s))\n",
    "end"
   ]
  },
  {
   "cell_type": "code",
   "execution_count": 5,
   "metadata": {},
   "outputs": [
    {
     "ename": "LoadError",
     "evalue": "No applicable_loaders found for UNKNOWN",
     "output_type": "error",
     "traceback": [
      "No applicable_loaders found for UNKNOWN",
      "",
      "Stacktrace:",
      " [1] error(s::String)",
      "   @ Base .\\error.jl:33",
      " [2] applicable_loaders",
      "   @ C:\\Users\\mgatlin3\\.julia\\packages\\FileIO\\7CSs0\\src\\loadsave.jl:11 [inlined]",
      " [3] load(::String; options::Base.Iterators.Pairs{Union{}, Union{}, Tuple{}, NamedTuple{(), Tuple{}}})",
      "   @ FileIO C:\\Users\\mgatlin3\\.julia\\packages\\FileIO\\7CSs0\\src\\loadsave.jl:112",
      " [4] (Catlab.CSetDataStructures.AttributedCSet{Catlab.Theories.CatDesc{(:V, :E, :Tri), (:src, :tgt, :∂e0, :∂e1, :∂e2), (2, 2, 3, 3, 3), (1, 1, 2, 2, 2)}, Catlab.Theories.AttrDesc{Catlab.Theories.CatDesc{(:V, :E, :Tri), (:src, :tgt, :∂e0, :∂e1, :∂e2), (2, 2, 3, 3, 3), (1, 1, 2, 2, 2)}, (:Orientation, :Point), (:edge_orientation, :tri_orientation, :point), (2, 3, 1), (1, 1, 2)}, Tuple{Orientation, Point}, (:src, :tgt, :∂e0, :∂e1, :∂e2), (), Tables, Indices} where {Orientation, Point, Tables<:NamedTuple, Indices<:NamedTuple})(fn::String)",
      "   @ CombinatorialSpaces.MeshInterop C:\\Users\\mgatlin3\\.julia\\packages\\CombinatorialSpaces\\VXAlj\\src\\MeshInterop.jl:0",
      " [5] top-level scope",
      "   @ In[5]:1",
      " [6] eval",
      "   @ .\\boot.jl:360 [inlined]",
      " [7] include_string(mapexpr::typeof(REPL.softscope), mod::Module, code::String, filename::String)",
      "   @ Base .\\loading.jl:1094"
     ]
    }
   ],
   "source": [
    "s = EmbeddedDeltaSet2D(\"../notebooks/beam.stl\");\n",
    "sp = Space(s)\n",
    "sd = sp.sd;\n",
    "figure, axis, ob = wireframe(s)\n",
    "# axis.aspect = AxisAspect(100.0/30.0)\n",
    "figure"
   ]
  },
  {
   "cell_type": "code",
   "execution_count": null,
   "metadata": {},
   "outputs": [],
   "source": []
  }
 ],
 "metadata": {
  "kernelspec": {
   "display_name": "Julia 1.6.1",
   "language": "julia",
   "name": "julia-1.6"
  },
  "language_info": {
   "file_extension": ".jl",
   "mimetype": "application/julia",
   "name": "julia",
   "version": "1.6.1"
  }
 },
 "nbformat": 4,
 "nbformat_minor": 4
}
