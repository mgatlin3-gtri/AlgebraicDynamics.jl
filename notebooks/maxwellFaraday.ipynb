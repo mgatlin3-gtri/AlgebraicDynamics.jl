{
 "cells": [
  {
   "cell_type": "markdown",
   "id": "c420030e",
   "metadata": {},
   "source": [
    "# Benchmark for Maxwell-Faraday Equations\n",
    "\n",
    "\n",
    "Constituitive equation: $dE = -\\partial_tB$\n",
    "\n",
    "Other equations/parameters:\n",
    "\n",
    "$\n",
    "e_0 * E = D \\\\\n",
    "u_0 * H = B \\\\\n",
    "c = \\frac{1}{\\sqrt{m_0 * e_0}}\n",
    "$\n",
    "\n",
    "where,\n",
    "\n",
    "    - E = electric field (1-form)\n",
    "    - B = magnetic field (2-form)\n",
    "    - $u_0$ =\n",
    "    - $e_0$ =\n",
    "    - c = speed of light\n",
    "    \n"
   ]
  },
  {
   "cell_type": "code",
   "execution_count": 2,
   "id": "83aac573",
   "metadata": {},
   "outputs": [
    {
     "data": {
      "text/plain": [
       "dual (generic function with 2 methods)"
      ]
     },
     "execution_count": 2,
     "metadata": {},
     "output_type": "execute_result"
    }
   ],
   "source": [
    "using CombinatorialSpaces, DifferentialEquations, CairoMakie\n",
    "using MeshIO\n",
    "using CombinatorialSpaces.DiscreteExteriorCalculus: inv_hodge_star\n",
    "using CombinatorialSpaces.SimplicialSets: d\n",
    "\n",
    "# dual subdivision \n",
    "function dual(s::EmbeddedDeltaSet1D{O, P}) where {O, P}\n",
    "  sd = EmbeddedDeltaDualComplex1D{O, eltype(P), P}(s)\n",
    "  subdivide_duals!(sd, Circumcenter())\n",
    "  sd\n",
    "end"
   ]
  },
  {
   "cell_type": "code",
   "execution_count": 4,
   "id": "c5599781",
   "metadata": {},
   "outputs": [
    {
     "data": {
      "image/png": "[encoded data removed]",
      "text/plain": [
       "FigureAxisPlot()"
      ]
     },
     "execution_count": 4,
     "metadata": {},
     "output_type": "execute_result"
    }
   ],
   "source": [
    "# Define mesh\n",
    "s2D = EmbeddedDeltaSet2D(\"meshes/truss.obj\")\n",
    "s = EmbeddedDeltaSet1D{Bool, eltype(s2D[:point])}()\n",
    "\n",
    "add_vertices!(s, 650, point=[eltype(s2D[:point])(i,0.0,0.0) for i in range(0, 0.650, length=650)])\n",
    "add_edges!(s, [i for i in 1:(nv(s)-1)], [i+1 for i in 1:(nv(s)-1)], edge_orientation=true)\n",
    "orient!(s) # for laplacian\n",
    "\n",
    "sd = dual(s)\n",
    "\n",
    "# Define vertices for BC application (fixed-fixed)\n",
    "left = 1\n",
    "right = nv(s)\n",
    "\n",
    "# Plot mesh\n",
    "x_loc = [p[1] for p in s[:point]]\n",
    "y_loc = [p[2] for p in s[:point]]\n",
    "plot(x_loc, y_loc,\n",
    "     legend=:none, seriestype = :scatter,\n",
    "     ylims=[minimum(y_loc),0],\n",
    "     xlims=[minimum(x_loc),maximum(x_loc)])"
   ]
  },
  {
   "cell_type": "markdown",
   "id": "3df2e949",
   "metadata": {},
   "source": [
    "## Add the physics"
   ]
  },
  {
   "cell_type": "code",
   "execution_count": null,
   "id": "ae5e9785",
   "metadata": {},
   "outputs": [],
   "source": [
    "E = VForm(zeros(nv(s)))\n",
    "\n",
    "u0 = vcat(E.data) # initial condition\n",
    "\n",
    "vf(du, u, p, t) = begin\n",
    "    du .= -1 * d(E) \n",
    "end\n",
    "\n"
   ]
  },
  {
   "cell_type": "code",
   "execution_count": null,
   "id": "f9393bc4",
   "metadata": {},
   "outputs": [],
   "source": []
  }
 ],
 "metadata": {
  "kernelspec": {
   "display_name": "Julia 1.6.1",
   "language": "julia",
   "name": "julia-1.6"
  },
  "language_info": {
   "file_extension": ".jl",
   "mimetype": "application/julia",
   "name": "julia",
   "version": "1.6.1"
  }
 },
 "nbformat": 4,
 "nbformat_minor": 5
}
