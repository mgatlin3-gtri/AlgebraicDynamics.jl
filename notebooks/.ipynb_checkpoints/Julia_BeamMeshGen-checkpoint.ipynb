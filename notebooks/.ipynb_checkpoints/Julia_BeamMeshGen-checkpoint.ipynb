{
 "cells": [
  {
   "cell_type": "code",
   "execution_count": 26,
   "metadata": {},
   "outputs": [
    {
     "name": "stderr",
     "output_type": "stream",
     "text": [
      "WARNING: using GeometryBasics.width in module Main conflicts with an existing identifier.\n",
      "WARNING: using GeometryBasics.height in module Main conflicts with an existing identifier.\n"
     ]
    }
   ],
   "source": [
    "using CombinatorialSpaces\n",
    "using DifferentialEquations\n",
    "using CairoMakie\n",
    "using GeometryBasics\n",
    "\n",
    "AbstractPlotting.inline!(true)"
   ]
  },
  {
   "cell_type": "code",
   "execution_count": 36,
   "metadata": {},
   "outputs": [
    {
     "ename": "LoadError",
     "evalue": "UndefVarError: x not defined",
     "output_type": "error",
     "traceback": [
      "UndefVarError: x not defined",
      "",
      "Stacktrace:",
      " [1] top-level scope",
      "   @ .\\In[36]:29",
      " [2] eval",
      "   @ .\\boot.jl:360 [inlined]",
      " [3] include_string(mapexpr::typeof(REPL.softscope), mod::Module, code::String, filename::String)",
      "   @ Base .\\loading.jl:1094"
     ]
    }
   ],
   "source": [
    "# Dimensional constants for the complex\n",
    "w = 10\n",
    "h = 1\n",
    "num_points = 5\n",
    "total_points = num_points*num_points\n",
    "\n",
    "x_vals = range(0, w, length=num_points)\n",
    "y_vals = range(0, h, length=num_points)\n",
    "\n",
    "# Helper functions for keeping indexes straight\n",
    "ind(x,y) = x + (y-1)*(num_points)\n",
    "tri_ind(x,y) = x + (y-1)*(num_points-1)*2\n",
    "\n",
    "# Initialize embedded complex\n",
    "s = EmbeddedDeltaSet2D{Bool, Point{3, Float64}}()\n",
    "\n",
    "# Define point coordinates for each point in the complex\n",
    "points = Array{Point{3, Float64},1}(undef, total_points)\n",
    "for x in 1:num_points\n",
    "  for y in 1:num_points\n",
    "    points[ind(x,y)]=Point{3,Float64}(x_vals[x],y_vals[y],0)\n",
    "  end\n",
    "end\n",
    "add_vertices!(s, total_points, point=points)\n",
    "\n",
    "# Define the connections between points (surfaces) as triangles that cover the surface\n",
    "for y in 1:(num_points-1)\n",
    "    for x in 1:(num_points-1)\n",
    "        if (x+y) % 2 == 1\n",
    "            glue_sorted_triangle!(s, ind(x,y), ind(x+1,y), ind(x,y+1))\n",
    "            glue_sorted_triangle!(s, ind(x+1,y+1), ind(x,y+1), ind(x+1,y))\n",
    "        else\n",
    "            glue_sorted_triangle!(s, ind(x+1,y+1), ind(x,y+1), ind(x,y))\n",
    "            glue_sorted_triangle!(s, ind(x,y), ind(x+1,y+1), ind(x+1,y))\n",
    "        end\n",
    "    end\n",
    "end\n",
    "orient_component!(s, 1, true)\n",
    "\n",
    "# Draw the generated mesh\n",
    "# sd = EmbeddedDeltaDualComplex2D{Bool, Float64, Point{3,Float64}}(s)\n",
    "# subdivide_duals!(sd, Barycenter())\n",
    "# star0 = ⋆(0,sd)\n",
    "fig, ax, du = wireframe(s)\n",
    "ax.aspect = AxisAspect(1)\n",
    "fig"
   ]
  },
  {
   "cell_type": "code",
   "execution_count": null,
   "metadata": {},
   "outputs": [],
   "source": []
  }
 ],
 "metadata": {
  "kernelspec": {
   "display_name": "Julia 1.6.1",
   "language": "julia",
   "name": "julia-1.6"
  },
  "language_info": {
   "file_extension": ".jl",
   "mimetype": "application/julia",
   "name": "julia",
   "version": "1.6.1"
  }
 },
 "nbformat": 4,
 "nbformat_minor": 4
}
