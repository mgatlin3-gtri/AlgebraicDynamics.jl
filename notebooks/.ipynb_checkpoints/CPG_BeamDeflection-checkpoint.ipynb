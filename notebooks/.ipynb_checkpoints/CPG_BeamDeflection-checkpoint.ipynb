{
 "cells": [
  {
   "cell_type": "code",
   "execution_count": 1,
   "id": "f7973b0d",
   "metadata": {},
   "outputs": [
    {
     "name": "stderr",
     "output_type": "stream",
     "text": [
      "WARNING: using Plots.grid in module Main conflicts with an existing identifier.\n",
      "┌ Info: For saving to png with the Plotly backend PlotlyBase has to be installed.\n",
      "└ @ Plots C:\\Users\\mgatlin3\\.julia\\packages\\Plots\\QaOSg\\src\\backends.jl:372\n"
     ]
    },
    {
     "data": {
      "text/plain": [
       "Plots.PlotlyBackend()"
      ]
     },
     "execution_count": 1,
     "metadata": {},
     "output_type": "execute_result"
    }
   ],
   "source": [
    "using Catlab\n",
    "using Catlab.CategoricalAlgebra\n",
    "using Catlab.WiringDiagrams\n",
    "using Catlab.Programs\n",
    "using Catlab.Graphics\n",
    "using Catlab.Graphics: Graphviz\n",
    "\n",
    "using AlgebraicDynamics\n",
    "using AlgebraicDynamics.DWDDynam\n",
    "using AlgebraicDynamics.UWDDynam\n",
    "using AlgebraicDynamics.CPortGraphDynam\n",
    "using AlgebraicDynamics.CPortGraphDynam: grid\n",
    "\n",
    "using LabelledArrays\n",
    "\n",
    "using DynamicalSystems, OrdinaryDiffEq\n",
    "using Plots\n",
    "plotly()"
   ]
  },
  {
   "cell_type": "code",
   "execution_count": 2,
   "id": "6c7a2e4c",
   "metadata": {},
   "outputs": [
    {
     "data": {
      "text/html": [
       "<div class=\"c-set\">\n",
       "<span class=\"c-set-summary\">CSet with elements Box = 1:10, Port = 1:40, Wire = 1:18, OuterPort = 1:22</span>\n",
       "<table>\n",
       "  <tr class = \"header headerLastRow\">\n",
       "    <th class = \"rowNumber\">Port</th>\n",
       "    <th style = \"text-align: right;\">box</th>\n",
       "  </tr>\n",
       "  <tr>\n",
       "    <td class = \"rowNumber\">1</td>\n",
       "    <td style = \"text-align: right;\">1</td>\n",
       "  </tr>\n",
       "  <tr>\n",
       "    <td class = \"rowNumber\">2</td>\n",
       "    <td style = \"text-align: right;\">1</td>\n",
       "  </tr>\n",
       "  <tr>\n",
       "    <td class = \"rowNumber\">3</td>\n",
       "    <td style = \"text-align: right;\">1</td>\n",
       "  </tr>\n",
       "  <tr>\n",
       "    <td class = \"rowNumber\">4</td>\n",
       "    <td style = \"text-align: right;\">1</td>\n",
       "  </tr>\n",
       "  <tr>\n",
       "    <td class = \"rowNumber\">5</td>\n",
       "    <td style = \"text-align: right;\">2</td>\n",
       "  </tr>\n",
       "  <tr>\n",
       "    <td class = \"rowNumber\">6</td>\n",
       "    <td style = \"text-align: right;\">2</td>\n",
       "  </tr>\n",
       "  <tr>\n",
       "    <td class = \"rowNumber\">7</td>\n",
       "    <td style = \"text-align: right;\">2</td>\n",
       "  </tr>\n",
       "  <tr>\n",
       "    <td class = \"rowNumber\">8</td>\n",
       "    <td style = \"text-align: right;\">2</td>\n",
       "  </tr>\n",
       "  <tr>\n",
       "    <td class = \"rowNumber\">9</td>\n",
       "    <td style = \"text-align: right;\">3</td>\n",
       "  </tr>\n",
       "  <tr>\n",
       "    <td class = \"rowNumber\">10</td>\n",
       "    <td style = \"text-align: right;\">3</td>\n",
       "  </tr>\n",
       "  <tr>\n",
       "    <td class = \"rowNumber\">11</td>\n",
       "    <td style = \"text-align: right;\">3</td>\n",
       "  </tr>\n",
       "  <tr>\n",
       "    <td class = \"rowNumber\">12</td>\n",
       "    <td style = \"text-align: right;\">3</td>\n",
       "  </tr>\n",
       "  <tr>\n",
       "    <td class = \"rowNumber\">13</td>\n",
       "    <td style = \"text-align: right;\">4</td>\n",
       "  </tr>\n",
       "  <tr>\n",
       "    <td class = \"rowNumber\">14</td>\n",
       "    <td style = \"text-align: right;\">4</td>\n",
       "  </tr>\n",
       "  <tr>\n",
       "    <td class = \"rowNumber\">15</td>\n",
       "    <td style = \"text-align: right;\">4</td>\n",
       "  </tr>\n",
       "  <tr>\n",
       "    <td class = \"rowNumber\">16</td>\n",
       "    <td style = \"text-align: right;\">4</td>\n",
       "  </tr>\n",
       "  <tr>\n",
       "    <td class = \"rowNumber\">17</td>\n",
       "    <td style = \"text-align: right;\">5</td>\n",
       "  </tr>\n",
       "  <tr>\n",
       "    <td class = \"rowNumber\">18</td>\n",
       "    <td style = \"text-align: right;\">5</td>\n",
       "  </tr>\n",
       "  <tr>\n",
       "    <td class = \"rowNumber\">19</td>\n",
       "    <td style = \"text-align: right;\">5</td>\n",
       "  </tr>\n",
       "  <tr>\n",
       "    <td class = \"rowNumber\">20</td>\n",
       "    <td style = \"text-align: right;\">5</td>\n",
       "  </tr>\n",
       "  <tr>\n",
       "    <td class = \"rowNumber\">21</td>\n",
       "    <td style = \"text-align: right;\">6</td>\n",
       "  </tr>\n",
       "  <tr>\n",
       "    <td class = \"rowNumber\">22</td>\n",
       "    <td style = \"text-align: right;\">6</td>\n",
       "  </tr>\n",
       "  <tr>\n",
       "    <td class = \"rowNumber\">23</td>\n",
       "    <td style = \"text-align: right;\">6</td>\n",
       "  </tr>\n",
       "  <tr>\n",
       "    <td class = \"rowNumber\">24</td>\n",
       "    <td style = \"text-align: right;\">6</td>\n",
       "  </tr>\n",
       "  <tr>\n",
       "    <td class = \"rowNumber\">25</td>\n",
       "    <td style = \"text-align: right;\">7</td>\n",
       "  </tr>\n",
       "  <tr>\n",
       "    <td class = \"rowNumber\">26</td>\n",
       "    <td style = \"text-align: right;\">7</td>\n",
       "  </tr>\n",
       "  <tr>\n",
       "    <td class = \"rowNumber\">27</td>\n",
       "    <td style = \"text-align: right;\">7</td>\n",
       "  </tr>\n",
       "  <tr>\n",
       "    <td class = \"rowNumber\">28</td>\n",
       "    <td style = \"text-align: right;\">7</td>\n",
       "  </tr>\n",
       "  <tr>\n",
       "    <td class = \"rowNumber\">29</td>\n",
       "    <td style = \"text-align: right;\">8</td>\n",
       "  </tr>\n",
       "  <tr>\n",
       "    <td class = \"rowNumber\">30</td>\n",
       "    <td style = \"text-align: right;\">8</td>\n",
       "  </tr>\n",
       "  <tr>\n",
       "    <td class = \"rowNumber\">31</td>\n",
       "    <td style = \"text-align: right;\">8</td>\n",
       "  </tr>\n",
       "  <tr>\n",
       "    <td class = \"rowNumber\">32</td>\n",
       "    <td style = \"text-align: right;\">8</td>\n",
       "  </tr>\n",
       "  <tr>\n",
       "    <td class = \"rowNumber\">33</td>\n",
       "    <td style = \"text-align: right;\">9</td>\n",
       "  </tr>\n",
       "  <tr>\n",
       "    <td class = \"rowNumber\">34</td>\n",
       "    <td style = \"text-align: right;\">9</td>\n",
       "  </tr>\n",
       "  <tr>\n",
       "    <td class = \"rowNumber\">35</td>\n",
       "    <td style = \"text-align: right;\">9</td>\n",
       "  </tr>\n",
       "  <tr>\n",
       "    <td class = \"rowNumber\">36</td>\n",
       "    <td style = \"text-align: right;\">9</td>\n",
       "  </tr>\n",
       "  <tr>\n",
       "    <td class = \"rowNumber\">37</td>\n",
       "    <td style = \"text-align: right;\">10</td>\n",
       "  </tr>\n",
       "  <tr>\n",
       "    <td class = \"rowNumber\">38</td>\n",
       "    <td style = \"text-align: right;\">10</td>\n",
       "  </tr>\n",
       "  <tr>\n",
       "    <td class = \"rowNumber\">39</td>\n",
       "    <td style = \"text-align: right;\">10</td>\n",
       "  </tr>\n",
       "  <tr>\n",
       "    <td class = \"rowNumber\">40</td>\n",
       "    <td style = \"text-align: right;\">10</td>\n",
       "  </tr>\n",
       "</table>\n",
       "<table>\n",
       "  <tr class = \"header headerLastRow\">\n",
       "    <th class = \"rowNumber\">Wire</th>\n",
       "    <th style = \"text-align: right;\">src</th>\n",
       "    <th style = \"text-align: right;\">tgt</th>\n",
       "  </tr>\n",
       "  <tr>\n",
       "    <td class = \"rowNumber\">1</td>\n",
       "    <td style = \"text-align: right;\">2</td>\n",
       "    <td style = \"text-align: right;\">8</td>\n",
       "  </tr>\n",
       "  <tr>\n",
       "    <td class = \"rowNumber\">2</td>\n",
       "    <td style = \"text-align: right;\">8</td>\n",
       "    <td style = \"text-align: right;\">2</td>\n",
       "  </tr>\n",
       "  <tr>\n",
       "    <td class = \"rowNumber\">3</td>\n",
       "    <td style = \"text-align: right;\">6</td>\n",
       "    <td style = \"text-align: right;\">12</td>\n",
       "  </tr>\n",
       "  <tr>\n",
       "    <td class = \"rowNumber\">4</td>\n",
       "    <td style = \"text-align: right;\">12</td>\n",
       "    <td style = \"text-align: right;\">6</td>\n",
       "  </tr>\n",
       "  <tr>\n",
       "    <td class = \"rowNumber\">5</td>\n",
       "    <td style = \"text-align: right;\">10</td>\n",
       "    <td style = \"text-align: right;\">16</td>\n",
       "  </tr>\n",
       "  <tr>\n",
       "    <td class = \"rowNumber\">6</td>\n",
       "    <td style = \"text-align: right;\">16</td>\n",
       "    <td style = \"text-align: right;\">10</td>\n",
       "  </tr>\n",
       "  <tr>\n",
       "    <td class = \"rowNumber\">7</td>\n",
       "    <td style = \"text-align: right;\">14</td>\n",
       "    <td style = \"text-align: right;\">20</td>\n",
       "  </tr>\n",
       "  <tr>\n",
       "    <td class = \"rowNumber\">8</td>\n",
       "    <td style = \"text-align: right;\">20</td>\n",
       "    <td style = \"text-align: right;\">14</td>\n",
       "  </tr>\n",
       "  <tr>\n",
       "    <td class = \"rowNumber\">9</td>\n",
       "    <td style = \"text-align: right;\">18</td>\n",
       "    <td style = \"text-align: right;\">24</td>\n",
       "  </tr>\n",
       "  <tr>\n",
       "    <td class = \"rowNumber\">10</td>\n",
       "    <td style = \"text-align: right;\">24</td>\n",
       "    <td style = \"text-align: right;\">18</td>\n",
       "  </tr>\n",
       "  <tr>\n",
       "    <td class = \"rowNumber\">11</td>\n",
       "    <td style = \"text-align: right;\">22</td>\n",
       "    <td style = \"text-align: right;\">28</td>\n",
       "  </tr>\n",
       "  <tr>\n",
       "    <td class = \"rowNumber\">12</td>\n",
       "    <td style = \"text-align: right;\">28</td>\n",
       "    <td style = \"text-align: right;\">22</td>\n",
       "  </tr>\n",
       "  <tr>\n",
       "    <td class = \"rowNumber\">13</td>\n",
       "    <td style = \"text-align: right;\">26</td>\n",
       "    <td style = \"text-align: right;\">32</td>\n",
       "  </tr>\n",
       "  <tr>\n",
       "    <td class = \"rowNumber\">14</td>\n",
       "    <td style = \"text-align: right;\">32</td>\n",
       "    <td style = \"text-align: right;\">26</td>\n",
       "  </tr>\n",
       "  <tr>\n",
       "    <td class = \"rowNumber\">15</td>\n",
       "    <td style = \"text-align: right;\">30</td>\n",
       "    <td style = \"text-align: right;\">36</td>\n",
       "  </tr>\n",
       "  <tr>\n",
       "    <td class = \"rowNumber\">16</td>\n",
       "    <td style = \"text-align: right;\">36</td>\n",
       "    <td style = \"text-align: right;\">30</td>\n",
       "  </tr>\n",
       "  <tr>\n",
       "    <td class = \"rowNumber\">17</td>\n",
       "    <td style = \"text-align: right;\">34</td>\n",
       "    <td style = \"text-align: right;\">40</td>\n",
       "  </tr>\n",
       "  <tr>\n",
       "    <td class = \"rowNumber\">18</td>\n",
       "    <td style = \"text-align: right;\">40</td>\n",
       "    <td style = \"text-align: right;\">34</td>\n",
       "  </tr>\n",
       "</table>\n",
       "<table>\n",
       "  <tr class = \"header headerLastRow\">\n",
       "    <th class = \"rowNumber\">OuterPort</th>\n",
       "    <th style = \"text-align: right;\">con</th>\n",
       "  </tr>\n",
       "  <tr>\n",
       "    <td class = \"rowNumber\">1</td>\n",
       "    <td style = \"text-align: right;\">1</td>\n",
       "  </tr>\n",
       "  <tr>\n",
       "    <td class = \"rowNumber\">2</td>\n",
       "    <td style = \"text-align: right;\">5</td>\n",
       "  </tr>\n",
       "  <tr>\n",
       "    <td class = \"rowNumber\">3</td>\n",
       "    <td style = \"text-align: right;\">9</td>\n",
       "  </tr>\n",
       "  <tr>\n",
       "    <td class = \"rowNumber\">4</td>\n",
       "    <td style = \"text-align: right;\">13</td>\n",
       "  </tr>\n",
       "  <tr>\n",
       "    <td class = \"rowNumber\">5</td>\n",
       "    <td style = \"text-align: right;\">17</td>\n",
       "  </tr>\n",
       "  <tr>\n",
       "    <td class = \"rowNumber\">6</td>\n",
       "    <td style = \"text-align: right;\">21</td>\n",
       "  </tr>\n",
       "  <tr>\n",
       "    <td class = \"rowNumber\">7</td>\n",
       "    <td style = \"text-align: right;\">25</td>\n",
       "  </tr>\n",
       "  <tr>\n",
       "    <td class = \"rowNumber\">8</td>\n",
       "    <td style = \"text-align: right;\">29</td>\n",
       "  </tr>\n",
       "  <tr>\n",
       "    <td class = \"rowNumber\">9</td>\n",
       "    <td style = \"text-align: right;\">33</td>\n",
       "  </tr>\n",
       "  <tr>\n",
       "    <td class = \"rowNumber\">10</td>\n",
       "    <td style = \"text-align: right;\">37</td>\n",
       "  </tr>\n",
       "  <tr>\n",
       "    <td class = \"rowNumber\">11</td>\n",
       "    <td style = \"text-align: right;\">3</td>\n",
       "  </tr>\n",
       "  <tr>\n",
       "    <td class = \"rowNumber\">12</td>\n",
       "    <td style = \"text-align: right;\">7</td>\n",
       "  </tr>\n",
       "  <tr>\n",
       "    <td class = \"rowNumber\">13</td>\n",
       "    <td style = \"text-align: right;\">11</td>\n",
       "  </tr>\n",
       "  <tr>\n",
       "    <td class = \"rowNumber\">14</td>\n",
       "    <td style = \"text-align: right;\">15</td>\n",
       "  </tr>\n",
       "  <tr>\n",
       "    <td class = \"rowNumber\">15</td>\n",
       "    <td style = \"text-align: right;\">19</td>\n",
       "  </tr>\n",
       "  <tr>\n",
       "    <td class = \"rowNumber\">16</td>\n",
       "    <td style = \"text-align: right;\">23</td>\n",
       "  </tr>\n",
       "  <tr>\n",
       "    <td class = \"rowNumber\">17</td>\n",
       "    <td style = \"text-align: right;\">27</td>\n",
       "  </tr>\n",
       "  <tr>\n",
       "    <td class = \"rowNumber\">18</td>\n",
       "    <td style = \"text-align: right;\">31</td>\n",
       "  </tr>\n",
       "  <tr>\n",
       "    <td class = \"rowNumber\">19</td>\n",
       "    <td style = \"text-align: right;\">35</td>\n",
       "  </tr>\n",
       "  <tr>\n",
       "    <td class = \"rowNumber\">20</td>\n",
       "    <td style = \"text-align: right;\">39</td>\n",
       "  </tr>\n",
       "  <tr>\n",
       "    <td class = \"rowNumber\">21</td>\n",
       "    <td style = \"text-align: right;\">4</td>\n",
       "  </tr>\n",
       "  <tr>\n",
       "    <td class = \"rowNumber\">22</td>\n",
       "    <td style = \"text-align: right;\">38</td>\n",
       "  </tr>\n",
       "</table>\n",
       "</div>\n"
      ],
      "text/plain": [
       "CSet with elements Box = 1:10, Port = 1:40, Wire = 1:18, OuterPort = 1:22\n",
       "┌──────┬─────┐\n",
       "│\u001b[1m Port \u001b[0m│\u001b[1m box \u001b[0m│\n",
       "├──────┼─────┤\n",
       "│    1 │   1 │\n",
       "│    2 │   1 │\n",
       "│    3 │   1 │\n",
       "│    4 │   1 │\n",
       "│    5 │   2 │\n",
       "│    6 │   2 │\n",
       "│    7 │   2 │\n",
       "│    8 │   2 │\n",
       "│    9 │   3 │\n",
       "│   10 │   3 │\n",
       "│   11 │   3 │\n",
       "│   12 │   3 │\n",
       "│   13 │   4 │\n",
       "│   14 │   4 │\n",
       "│   15 │   4 │\n",
       "│   16 │   4 │\n",
       "│   17 │   5 │\n",
       "│   18 │   5 │\n",
       "│   19 │   5 │\n",
       "│   20 │   5 │\n",
       "│   21 │   6 │\n",
       "│   22 │   6 │\n",
       "│  ⋮   │  ⋮  │\n",
       "└──────┴─────┘\n",
       "\u001b[36m18 rows omitted\u001b[0m\n",
       "┌──────┬─────┬─────┐\n",
       "│\u001b[1m Wire \u001b[0m│\u001b[1m src \u001b[0m│\u001b[1m tgt \u001b[0m│\n",
       "├──────┼─────┼─────┤\n",
       "│    1 │   2 │   8 │\n",
       "│    2 │   8 │   2 │\n",
       "│    3 │   6 │  12 │\n",
       "│    4 │  12 │   6 │\n",
       "│    5 │  10 │  16 │\n",
       "│    6 │  16 │  10 │\n",
       "│    7 │  14 │  20 │\n",
       "│    8 │  20 │  14 │\n",
       "│    9 │  18 │  24 │\n",
       "│   10 │  24 │  18 │\n",
       "│   11 │  22 │  28 │\n",
       "│   12 │  28 │  22 │\n",
       "│   13 │  26 │  32 │\n",
       "│   14 │  32 │  26 │\n",
       "│   15 │  30 │  36 │\n",
       "│   16 │  36 │  30 │\n",
       "│   17 │  34 │  40 │\n",
       "│   18 │  40 │  34 │\n",
       "└──────┴─────┴─────┘\n",
       "┌───────────┬─────┐\n",
       "│\u001b[1m OuterPort \u001b[0m│\u001b[1m con \u001b[0m│\n",
       "├───────────┼─────┤\n",
       "│         1 │   1 │\n",
       "│         2 │   5 │\n",
       "│         3 │   9 │\n",
       "│         4 │  13 │\n",
       "│         5 │  17 │\n",
       "│         6 │  21 │\n",
       "│         7 │  25 │\n",
       "│         8 │  29 │\n",
       "│         9 │  33 │\n",
       "│        10 │  37 │\n",
       "│        11 │   3 │\n",
       "│        12 │   7 │\n",
       "│        13 │  11 │\n",
       "│        14 │  15 │\n",
       "│        15 │  19 │\n",
       "│        16 │  23 │\n",
       "│        17 │  27 │\n",
       "│        18 │  31 │\n",
       "│        19 │  35 │\n",
       "│        20 │  39 │\n",
       "│        21 │   4 │\n",
       "│        22 │  38 │\n",
       "└───────────┴─────┘\n"
      ]
     },
     "execution_count": 2,
     "metadata": {},
     "output_type": "execute_result"
    }
   ],
   "source": [
    "# Pick a composition syntax\n",
    "\n",
    "W = 10; H = 1  # we'll create a grid with width 10 and height 1\n",
    "\n",
    "# initialize the instance\n",
    "stencil = OpenCPortGraph()\n",
    "\n",
    "# add the boxes\n",
    "boxes = reshape(add_parts!(stencil, :Box, W*H), H, W) \n",
    "\n",
    "ports = map(i -> add_parts!(stencil, :Port, 4,  box = i), boxes)\n",
    "\n",
    "# add up/down wires\n",
    "map(view(boxes, 1:(H - 1), 1:W)) do b\n",
    "    add_part!(stencil, :Wire, src = ports[b][3], tgt = ports[b + 1][1])\n",
    "    add_part!(stencil, :Wire, tgt = ports[b][3], src = ports[b + 1][1])\n",
    "end\n",
    "\n",
    "# add left/right wires\n",
    "map(view(boxes, 1:H, 1:(W-1))) do b\n",
    "    add_part!(stencil, :Wire, src = ports[b][2], tgt = ports[b+H][4])\n",
    "    add_part!(stencil, :Wire, tgt = ports[b][2], src = ports[b+H][4])\n",
    "end\n",
    "\n",
    "# add outer ports\n",
    "add_parts!(stencil, :OuterPort, W, con = map(i -> ports[1,i][1], 1:W))\n",
    "add_parts!(stencil, :OuterPort, W, con = map(i -> ports[H,i][3], 1:W))\n",
    "add_parts!(stencil, :OuterPort, H, con = map(i -> ports[i,1][4], 1:H))\n",
    "add_parts!(stencil, :OuterPort, H, con = map(i -> ports[i,W][2], 1:H))\n",
    "\n",
    "stencil"
   ]
  },
  {
   "cell_type": "code",
   "execution_count": 32,
   "id": "edffea9b",
   "metadata": {},
   "outputs": [
    {
     "data": {
      "text/plain": []
     },
     "execution_count": 32,
     "metadata": {},
     "output_type": "execute_result"
    },
    {
     "name": "stdout",
     "output_type": "stream",
     "text": [
      "DiscreteMachine(ℝ^1 × ℝ^4 → ℝ^1)"
     ]
    }
   ],
   "source": [
    "# Choose a primitive model. We will fill each box with the same primitive model\n",
    "# We are attempting to encode the elastic curvature of a beam when presented with a load on the free end\n",
    "# Via trial and error the order of ports appears to be as follows\n",
    "#\n",
    "#                 1\n",
    "#                 |\n",
    "#            2---------4\n",
    "#                 |\n",
    "#                 3\n",
    "\n",
    "point_model = DiscreteMachine{Float64}(\n",
    "    4, # number of inputs, (x(left, right, top, bottom))\n",
    "    1, # number of states, x(i)\n",
    "    4, # number of outputs\n",
    "    # dynamics: u - the state vector (current node), x - the input vector (neighbors)\n",
    "    (u,x,p,t) -> [-1*(x[1])*(((p.γ*((x[4])^2)*(3*p.L-x[4])) - \n",
    "                (p.γ*((u[1])^2)*(3*p.L-u[1]))) /\n",
    "                (x[4]-u[1]))], # displacement, u(x,y)\n",
    "    u -> repeat(u, 4) # the read out function, for each machine \n",
    ")\n"
   ]
  },
  {
   "cell_type": "code",
   "execution_count": 33,
   "id": "23e78f30",
   "metadata": {},
   "outputs": [],
   "source": [
    "# Equations I want to encode:\n",
    "# v(i) = Px^2/6EI (3L-x)\n",
    "# θ(i) = dv/dx\n",
    "# u(i) = -y(i) * θ(i) \n",
    "# ϵ(i) = -y(i)* du/dx\n",
    "# sigma(x) = ϵ(i) * E\n",
    "\n",
    "# parameters\n",
    "P = 9e6; # load, N\n",
    "E = 5e6 # Young's modulus, N/m^2\n",
    "I = 1/12 # second moment of area, m^4\n",
    "γ = P/(6*E*I)\n",
    "x = 2\n",
    "u = 1\n",
    "# test:\n",
    "blah = -0.5*(((γ*((x^2)*(3*L-x)) - \n",
    "                (γ*((u)^2)*(3*L-u))) /\n",
    "                (x-u))"
   ]
  },
  {
   "cell_type": "code",
   "execution_count": 34,
   "id": "dae08556",
   "metadata": {},
   "outputs": [
    {
     "data": {
      "text/plain": []
     },
     "execution_count": 34,
     "metadata": {},
     "output_type": "execute_result"
    },
    {
     "name": "stdout",
     "output_type": "stream",
     "text": [
      "DiscreteMachine(ℝ^10 × ℝ^22 → ℝ^10)"
     ]
    }
   ],
   "source": [
    "# Compose!\n",
    "# Apply the point model to each box of the stencil\n",
    "displacement_eq = oapply(stencil, point_model)"
   ]
  },
  {
   "cell_type": "code",
   "execution_count": 35,
   "id": "cb75d869",
   "metadata": {},
   "outputs": [
    {
     "name": "stdout",
     "output_type": "stream",
     "text": [
      "[1.0, 2.0, 3.0, 4.0, 5.0, 6.0, 7.0, 8.0, 9.0, 10.0]"
     ]
    },
    {
     "data": {
      "text/plain": [
       "10-dimensional Dataset{Float64} with 101 points\n",
       "      1.0               2.0               3.0          …       10.0\n",
       " -10440.0          -29880.0          -47160.0             -107640.0\n",
       "      3.93504e10        4.73387e11        1.6302e12             1.22662e13\n",
       "      5.57445e23        8.79379e25        1.31521e27            1.52976e29\n",
       "      1.11868e50        2.80167e54        6.6714e56             2.1601e61\n",
       "      4.50521e102       2.82588e111       1.60903e116  …        3.52088e125\n",
       "     Inf              NaN               NaN                   NaN\n",
       "    NaN               NaN               NaN                   NaN\n",
       "    NaN               NaN               NaN                   NaN\n",
       "    NaN               NaN               NaN                   NaN\n",
       "    NaN               NaN               NaN            …      NaN\n",
       "    NaN               NaN               NaN                   NaN\n",
       "    NaN               NaN               NaN                   NaN\n",
       "      ⋮                                                ⋱  \n",
       "    NaN               NaN               NaN                   NaN\n",
       "    NaN               NaN               NaN                   NaN\n",
       "    NaN               NaN               NaN            …      NaN\n",
       "    NaN               NaN               NaN                   NaN\n",
       "    NaN               NaN               NaN                   NaN\n",
       "    NaN               NaN               NaN                   NaN\n",
       "    NaN               NaN               NaN                   NaN\n",
       "    NaN               NaN               NaN            …      NaN\n",
       "    NaN               NaN               NaN                   NaN\n",
       "    NaN               NaN               NaN                   NaN\n",
       "    NaN               NaN               NaN                   NaN\n",
       "    NaN               NaN               NaN                   NaN"
      ]
     },
     "execution_count": 35,
     "metadata": {},
     "output_type": "execute_result"
    }
   ],
   "source": [
    "# Solve and plot!\n",
    "\n",
    "# initial coundition\n",
    "a = Any[1., 2., 3., 4., 5., 6., 7., 8. ,9., 10.]\n",
    "u0 = convert(Array{Float64,1}, a) \n",
    "\n",
    "\n",
    "print(u0)\n",
    "# boundary condition\n",
    "xs = 100*vcat(ones(W), ones(W), zeros(H), ones(H)) # order: bottom, top, left, right\n",
    "\n",
    "\n",
    "# parameters\n",
    "P = 9e6; # load, N\n",
    "E = 5e6 # Young's modulus, N/m^2\n",
    "I = 1/12 # second moment of area, m^4\n",
    "\n",
    "length = 10 # beam length, m\n",
    "delta_t = 0.5\n",
    "gamma = P/(6*E*I) # just used to collect all the constants in one variable aside from length\n",
    "\n",
    "params = LVector(γ = gamma, L = length)\n",
    "nsteps = 100\n",
    "\n",
    "# find the trajectory\n",
    "traj = trajectory(displacement_eq, u0, xs, params, nsteps)"
   ]
  },
  {
   "cell_type": "code",
   "execution_count": 36,
   "id": "cb345e40",
   "metadata": {},
   "outputs": [
    {
     "data": {
      "application/vnd.plotly.v1+json": {
       "data": [
        {
         "colorbar": {
          "title": ""
         },
         "colorscale": [
          [
           0,
           "rgba(0, 0, 4, 1.000)"
          ],
          [
           0.00392156862745098,
           "rgba(1, 0, 5, 1.000)"
          ],
          [
           0.00784313725490196,
           "rgba(1, 1, 6, 1.000)"
          ],
          [
           0.011764705882352941,
           "rgba(1, 1, 8, 1.000)"
          ],
          [
           0.01568627450980392,
           "rgba(2, 1, 10, 1.000)"
          ],
          [
           0.0196078431372549,
           "rgba(2, 2, 12, 1.000)"
          ],
          [
           0.023529411764705882,
           "rgba(2, 2, 14, 1.000)"
          ],
          [
           0.027450980392156862,
           "rgba(3, 2, 16, 1.000)"
          ],
          [
           0.03137254901960784,
           "rgba(4, 3, 18, 1.000)"
          ],
          [
           0.03529411764705882,
           "rgba(4, 3, 20, 1.000)"
          ],
          [
           0.0392156862745098,
           "rgba(5, 4, 23, 1.000)"
          ],
          [
           0.043137254901960784,
           "rgba(6, 4, 25, 1.000)"
          ],
          [
           0.047058823529411764,
           "rgba(7, 5, 27, 1.000)"
          ],
          [
           0.050980392156862744,
           "rgba(8, 5, 29, 1.000)"
          ],
          [
           0.054901960784313725,
           "rgba(9, 6, 31, 1.000)"
          ],
          [
           0.058823529411764705,
           "rgba(10, 7, 34, 1.000)"
          ],
          [
           0.06274509803921569,
           "rgba(11, 7, 36, 1.000)"
          ],
          [
           0.06666666666666667,
           "rgba(12, 8, 38, 1.000)"
          ],
          [
           0.07058823529411765,
           "rgba(13, 8, 41, 1.000)"
          ],
          [
           0.07450980392156863,
           "rgba(14, 9, 43, 1.000)"
          ],
          [
           0.0784313725490196,
           "rgba(16, 9, 45, 1.000)"
          ],
          [
           0.08235294117647059,
           "rgba(17, 10, 48, 1.000)"
          ],
          [
           0.08627450980392157,
           "rgba(18, 10, 50, 1.000)"
          ],
          [
           0.09019607843137255,
           "rgba(20, 11, 52, 1.000)"
          ],
          [
           0.09411764705882353,
           "rgba(21, 11, 55, 1.000)"
          ],
          [
           0.09803921568627451,
           "rgba(22, 11, 57, 1.000)"
          ],
          [
           0.10196078431372549,
           "rgba(24, 12, 60, 1.000)"
          ],
          [
           0.10588235294117647,
           "rgba(25, 12, 62, 1.000)"
          ],
          [
           0.10980392156862745,
           "rgba(27, 12, 65, 1.000)"
          ],
          [
           0.11372549019607843,
           "rgba(28, 12, 67, 1.000)"
          ],
          [
           0.11764705882352941,
           "rgba(30, 12, 69, 1.000)"
          ],
          [
           0.12156862745098039,
           "rgba(31, 12, 72, 1.000)"
          ],
          [
           0.12549019607843137,
           "rgba(33, 12, 74, 1.000)"
          ],
          [
           0.12941176470588237,
           "rgba(35, 12, 76, 1.000)"
          ],
          [
           0.13333333333333333,
           "rgba(36, 12, 79, 1.000)"
          ],
          [
           0.13725490196078433,
           "rgba(38, 12, 81, 1.000)"
          ],
          [
           0.1411764705882353,
           "rgba(40, 11, 83, 1.000)"
          ],
          [
           0.1450980392156863,
           "rgba(41, 11, 85, 1.000)"
          ],
          [
           0.14901960784313725,
           "rgba(43, 11, 87, 1.000)"
          ],
          [
           0.15294117647058825,
           "rgba(45, 11, 89, 1.000)"
          ],
          [
           0.1568627450980392,
           "rgba(47, 10, 91, 1.000)"
          ],
          [
           0.1607843137254902,
           "rgba(49, 10, 92, 1.000)"
          ],
          [
           0.16470588235294117,
           "rgba(50, 10, 94, 1.000)"
          ],
          [
           0.16862745098039217,
           "rgba(52, 10, 95, 1.000)"
          ],
          [
           0.17254901960784313,
           "rgba(54, 9, 97, 1.000)"
          ],
          [
           0.17647058823529413,
           "rgba(56, 9, 98, 1.000)"
          ],
          [
           0.1803921568627451,
           "rgba(57, 9, 99, 1.000)"
          ],
          [
           0.1843137254901961,
           "rgba(59, 9, 100, 1.000)"
          ],
          [
           0.18823529411764706,
           "rgba(61, 9, 101, 1.000)"
          ],
          [
           0.19215686274509805,
           "rgba(62, 9, 102, 1.000)"
          ],
          [
           0.19607843137254902,
           "rgba(64, 10, 103, 1.000)"
          ],
          [
           0.2,
           "rgba(66, 10, 104, 1.000)"
          ],
          [
           0.20392156862745098,
           "rgba(68, 10, 104, 1.000)"
          ],
          [
           0.20784313725490197,
           "rgba(69, 10, 105, 1.000)"
          ],
          [
           0.21176470588235294,
           "rgba(71, 11, 106, 1.000)"
          ],
          [
           0.21568627450980393,
           "rgba(73, 11, 106, 1.000)"
          ],
          [
           0.2196078431372549,
           "rgba(74, 12, 107, 1.000)"
          ],
          [
           0.2235294117647059,
           "rgba(76, 12, 107, 1.000)"
          ],
          [
           0.22745098039215686,
           "rgba(77, 13, 108, 1.000)"
          ],
          [
           0.23137254901960785,
           "rgba(79, 13, 108, 1.000)"
          ],
          [
           0.23529411764705882,
           "rgba(81, 14, 108, 1.000)"
          ],
          [
           0.23921568627450981,
           "rgba(82, 14, 109, 1.000)"
          ],
          [
           0.24313725490196078,
           "rgba(84, 15, 109, 1.000)"
          ],
          [
           0.24705882352941178,
           "rgba(85, 15, 109, 1.000)"
          ],
          [
           0.25098039215686274,
           "rgba(87, 16, 110, 1.000)"
          ],
          [
           0.2549019607843137,
           "rgba(89, 16, 110, 1.000)"
          ],
          [
           0.25882352941176473,
           "rgba(90, 17, 110, 1.000)"
          ],
          [
           0.2627450980392157,
           "rgba(92, 18, 110, 1.000)"
          ],
          [
           0.26666666666666666,
           "rgba(93, 18, 110, 1.000)"
          ],
          [
           0.27058823529411763,
           "rgba(95, 19, 110, 1.000)"
          ],
          [
           0.27450980392156865,
           "rgba(97, 19, 110, 1.000)"
          ],
          [
           0.2784313725490196,
           "rgba(98, 20, 110, 1.000)"
          ],
          [
           0.2823529411764706,
           "rgba(100, 21, 110, 1.000)"
          ],
          [
           0.28627450980392155,
           "rgba(101, 21, 110, 1.000)"
          ],
          [
           0.2901960784313726,
           "rgba(103, 22, 110, 1.000)"
          ],
          [
           0.29411764705882354,
           "rgba(105, 22, 110, 1.000)"
          ],
          [
           0.2980392156862745,
           "rgba(106, 23, 110, 1.000)"
          ],
          [
           0.30196078431372547,
           "rgba(108, 24, 110, 1.000)"
          ],
          [
           0.3058823529411765,
           "rgba(109, 24, 110, 1.000)"
          ],
          [
           0.30980392156862746,
           "rgba(111, 25, 110, 1.000)"
          ],
          [
           0.3137254901960784,
           "rgba(113, 25, 110, 1.000)"
          ],
          [
           0.3176470588235294,
           "rgba(114, 26, 110, 1.000)"
          ],
          [
           0.3215686274509804,
           "rgba(116, 26, 110, 1.000)"
          ],
          [
           0.3254901960784314,
           "rgba(117, 27, 110, 1.000)"
          ],
          [
           0.32941176470588235,
           "rgba(119, 28, 109, 1.000)"
          ],
          [
           0.3333333333333333,
           "rgba(120, 28, 109, 1.000)"
          ],
          [
           0.33725490196078434,
           "rgba(122, 29, 109, 1.000)"
          ],
          [
           0.3411764705882353,
           "rgba(124, 29, 109, 1.000)"
          ],
          [
           0.34509803921568627,
           "rgba(125, 30, 109, 1.000)"
          ],
          [
           0.34901960784313724,
           "rgba(127, 30, 108, 1.000)"
          ],
          [
           0.35294117647058826,
           "rgba(128, 31, 108, 1.000)"
          ],
          [
           0.3568627450980392,
           "rgba(130, 32, 108, 1.000)"
          ],
          [
           0.3607843137254902,
           "rgba(132, 32, 107, 1.000)"
          ],
          [
           0.36470588235294116,
           "rgba(133, 33, 107, 1.000)"
          ],
          [
           0.3686274509803922,
           "rgba(135, 33, 107, 1.000)"
          ],
          [
           0.37254901960784315,
           "rgba(136, 34, 106, 1.000)"
          ],
          [
           0.3764705882352941,
           "rgba(138, 34, 106, 1.000)"
          ],
          [
           0.3803921568627451,
           "rgba(140, 35, 105, 1.000)"
          ],
          [
           0.3843137254901961,
           "rgba(141, 35, 105, 1.000)"
          ],
          [
           0.38823529411764707,
           "rgba(143, 36, 105, 1.000)"
          ],
          [
           0.39215686274509803,
           "rgba(144, 37, 104, 1.000)"
          ],
          [
           0.396078431372549,
           "rgba(146, 37, 104, 1.000)"
          ],
          [
           0.4,
           "rgba(147, 38, 103, 1.000)"
          ],
          [
           0.403921568627451,
           "rgba(149, 38, 103, 1.000)"
          ],
          [
           0.40784313725490196,
           "rgba(151, 39, 102, 1.000)"
          ],
          [
           0.4117647058823529,
           "rgba(152, 39, 102, 1.000)"
          ],
          [
           0.41568627450980394,
           "rgba(154, 40, 101, 1.000)"
          ],
          [
           0.4196078431372549,
           "rgba(155, 41, 100, 1.000)"
          ],
          [
           0.4235294117647059,
           "rgba(157, 41, 100, 1.000)"
          ],
          [
           0.42745098039215684,
           "rgba(159, 42, 99, 1.000)"
          ],
          [
           0.43137254901960786,
           "rgba(160, 42, 99, 1.000)"
          ],
          [
           0.43529411764705883,
           "rgba(162, 43, 98, 1.000)"
          ],
          [
           0.4392156862745098,
           "rgba(163, 44, 97, 1.000)"
          ],
          [
           0.44313725490196076,
           "rgba(165, 44, 96, 1.000)"
          ],
          [
           0.4470588235294118,
           "rgba(166, 45, 96, 1.000)"
          ],
          [
           0.45098039215686275,
           "rgba(168, 46, 95, 1.000)"
          ],
          [
           0.4549019607843137,
           "rgba(169, 46, 94, 1.000)"
          ],
          [
           0.4588235294117647,
           "rgba(171, 47, 94, 1.000)"
          ],
          [
           0.4627450980392157,
           "rgba(173, 48, 93, 1.000)"
          ],
          [
           0.4666666666666667,
           "rgba(174, 48, 92, 1.000)"
          ],
          [
           0.47058823529411764,
           "rgba(176, 49, 91, 1.000)"
          ],
          [
           0.4745098039215686,
           "rgba(177, 50, 90, 1.000)"
          ],
          [
           0.47843137254901963,
           "rgba(179, 50, 90, 1.000)"
          ],
          [
           0.4823529411764706,
           "rgba(180, 51, 89, 1.000)"
          ],
          [
           0.48627450980392156,
           "rgba(182, 52, 88, 1.000)"
          ],
          [
           0.49019607843137253,
           "rgba(183, 53, 87, 1.000)"
          ],
          [
           0.49411764705882355,
           "rgba(185, 53, 86, 1.000)"
          ],
          [
           0.4980392156862745,
           "rgba(186, 54, 85, 1.000)"
          ],
          [
           0.5019607843137255,
           "rgba(188, 55, 84, 1.000)"
          ],
          [
           0.5058823529411764,
           "rgba(189, 56, 83, 1.000)"
          ],
          [
           0.5098039215686274,
           "rgba(191, 57, 82, 1.000)"
          ],
          [
           0.5137254901960784,
           "rgba(192, 58, 81, 1.000)"
          ],
          [
           0.5176470588235295,
           "rgba(193, 58, 80, 1.000)"
          ],
          [
           0.5215686274509804,
           "rgba(195, 59, 79, 1.000)"
          ],
          [
           0.5254901960784314,
           "rgba(196, 60, 78, 1.000)"
          ],
          [
           0.5294117647058824,
           "rgba(198, 61, 77, 1.000)"
          ],
          [
           0.5333333333333333,
           "rgba(199, 62, 76, 1.000)"
          ],
          [
           0.5372549019607843,
           "rgba(200, 63, 75, 1.000)"
          ],
          [
           0.5411764705882353,
           "rgba(202, 64, 74, 1.000)"
          ],
          [
           0.5450980392156862,
           "rgba(203, 65, 73, 1.000)"
          ],
          [
           0.5490196078431373,
           "rgba(204, 66, 72, 1.000)"
          ],
          [
           0.5529411764705883,
           "rgba(206, 67, 71, 1.000)"
          ],
          [
           0.5568627450980392,
           "rgba(207, 68, 70, 1.000)"
          ],
          [
           0.5607843137254902,
           "rgba(208, 69, 69, 1.000)"
          ],
          [
           0.5647058823529412,
           "rgba(210, 70, 68, 1.000)"
          ],
          [
           0.5686274509803921,
           "rgba(211, 71, 67, 1.000)"
          ],
          [
           0.5725490196078431,
           "rgba(212, 72, 66, 1.000)"
          ],
          [
           0.5764705882352941,
           "rgba(213, 74, 65, 1.000)"
          ],
          [
           0.5803921568627451,
           "rgba(215, 75, 63, 1.000)"
          ],
          [
           0.5843137254901961,
           "rgba(216, 76, 62, 1.000)"
          ],
          [
           0.5882352941176471,
           "rgba(217, 77, 61, 1.000)"
          ],
          [
           0.592156862745098,
           "rgba(218, 78, 60, 1.000)"
          ],
          [
           0.596078431372549,
           "rgba(219, 80, 59, 1.000)"
          ],
          [
           0.6,
           "rgba(221, 81, 58, 1.000)"
          ],
          [
           0.6039215686274509,
           "rgba(222, 82, 56, 1.000)"
          ],
          [
           0.6078431372549019,
           "rgba(223, 83, 55, 1.000)"
          ],
          [
           0.611764705882353,
           "rgba(224, 85, 54, 1.000)"
          ],
          [
           0.615686274509804,
           "rgba(225, 86, 53, 1.000)"
          ],
          [
           0.6196078431372549,
           "rgba(226, 87, 52, 1.000)"
          ],
          [
           0.6235294117647059,
           "rgba(227, 89, 51, 1.000)"
          ],
          [
           0.6274509803921569,
           "rgba(228, 90, 49, 1.000)"
          ],
          [
           0.6313725490196078,
           "rgba(229, 92, 48, 1.000)"
          ],
          [
           0.6352941176470588,
           "rgba(230, 93, 47, 1.000)"
          ],
          [
           0.6392156862745098,
           "rgba(231, 94, 46, 1.000)"
          ],
          [
           0.6431372549019608,
           "rgba(232, 96, 45, 1.000)"
          ],
          [
           0.6470588235294118,
           "rgba(233, 97, 43, 1.000)"
          ],
          [
           0.6509803921568628,
           "rgba(234, 99, 42, 1.000)"
          ],
          [
           0.6549019607843137,
           "rgba(235, 100, 41, 1.000)"
          ],
          [
           0.6588235294117647,
           "rgba(235, 102, 40, 1.000)"
          ],
          [
           0.6627450980392157,
           "rgba(236, 103, 38, 1.000)"
          ],
          [
           0.6666666666666666,
           "rgba(237, 105, 37, 1.000)"
          ],
          [
           0.6705882352941176,
           "rgba(238, 106, 36, 1.000)"
          ],
          [
           0.6745098039215687,
           "rgba(239, 108, 35, 1.000)"
          ],
          [
           0.6784313725490196,
           "rgba(239, 110, 33, 1.000)"
          ],
          [
           0.6823529411764706,
           "rgba(240, 111, 32, 1.000)"
          ],
          [
           0.6862745098039216,
           "rgba(241, 113, 31, 1.000)"
          ],
          [
           0.6901960784313725,
           "rgba(241, 115, 29, 1.000)"
          ],
          [
           0.6941176470588235,
           "rgba(242, 116, 28, 1.000)"
          ],
          [
           0.6980392156862745,
           "rgba(243, 118, 27, 1.000)"
          ],
          [
           0.7019607843137254,
           "rgba(243, 120, 25, 1.000)"
          ],
          [
           0.7058823529411765,
           "rgba(244, 121, 24, 1.000)"
          ],
          [
           0.7098039215686275,
           "rgba(245, 123, 23, 1.000)"
          ],
          [
           0.7137254901960784,
           "rgba(245, 125, 21, 1.000)"
          ],
          [
           0.7176470588235294,
           "rgba(246, 126, 20, 1.000)"
          ],
          [
           0.7215686274509804,
           "rgba(246, 128, 19, 1.000)"
          ],
          [
           0.7254901960784313,
           "rgba(247, 130, 18, 1.000)"
          ],
          [
           0.7294117647058823,
           "rgba(247, 132, 16, 1.000)"
          ],
          [
           0.7333333333333333,
           "rgba(248, 133, 15, 1.000)"
          ],
          [
           0.7372549019607844,
           "rgba(248, 135, 14, 1.000)"
          ],
          [
           0.7411764705882353,
           "rgba(248, 137, 12, 1.000)"
          ],
          [
           0.7450980392156863,
           "rgba(249, 139, 11, 1.000)"
          ],
          [
           0.7490196078431373,
           "rgba(249, 140, 10, 1.000)"
          ],
          [
           0.7529411764705882,
           "rgba(249, 142, 9, 1.000)"
          ],
          [
           0.7568627450980392,
           "rgba(250, 144, 8, 1.000)"
          ],
          [
           0.7607843137254902,
           "rgba(250, 146, 7, 1.000)"
          ],
          [
           0.7647058823529411,
           "rgba(250, 148, 7, 1.000)"
          ],
          [
           0.7686274509803922,
           "rgba(251, 150, 6, 1.000)"
          ],
          [
           0.7725490196078432,
           "rgba(251, 151, 6, 1.000)"
          ],
          [
           0.7764705882352941,
           "rgba(251, 153, 6, 1.000)"
          ],
          [
           0.7803921568627451,
           "rgba(251, 155, 6, 1.000)"
          ],
          [
           0.7843137254901961,
           "rgba(251, 157, 7, 1.000)"
          ],
          [
           0.788235294117647,
           "rgba(252, 159, 7, 1.000)"
          ],
          [
           0.792156862745098,
           "rgba(252, 161, 8, 1.000)"
          ],
          [
           0.796078431372549,
           "rgba(252, 163, 9, 1.000)"
          ],
          [
           0.8,
           "rgba(252, 165, 10, 1.000)"
          ],
          [
           0.803921568627451,
           "rgba(252, 166, 12, 1.000)"
          ],
          [
           0.807843137254902,
           "rgba(252, 168, 13, 1.000)"
          ],
          [
           0.8117647058823529,
           "rgba(252, 170, 15, 1.000)"
          ],
          [
           0.8156862745098039,
           "rgba(252, 172, 17, 1.000)"
          ],
          [
           0.8196078431372549,
           "rgba(252, 174, 18, 1.000)"
          ],
          [
           0.8235294117647058,
           "rgba(252, 176, 20, 1.000)"
          ],
          [
           0.8274509803921568,
           "rgba(252, 178, 22, 1.000)"
          ],
          [
           0.8313725490196079,
           "rgba(252, 180, 24, 1.000)"
          ],
          [
           0.8352941176470589,
           "rgba(251, 182, 26, 1.000)"
          ],
          [
           0.8392156862745098,
           "rgba(251, 184, 29, 1.000)"
          ],
          [
           0.8431372549019608,
           "rgba(251, 186, 31, 1.000)"
          ],
          [
           0.8470588235294118,
           "rgba(251, 188, 33, 1.000)"
          ],
          [
           0.8509803921568627,
           "rgba(251, 190, 35, 1.000)"
          ],
          [
           0.8549019607843137,
           "rgba(250, 192, 38, 1.000)"
          ],
          [
           0.8588235294117647,
           "rgba(250, 194, 40, 1.000)"
          ],
          [
           0.8627450980392157,
           "rgba(250, 196, 42, 1.000)"
          ],
          [
           0.8666666666666667,
           "rgba(250, 198, 45, 1.000)"
          ],
          [
           0.8705882352941177,
           "rgba(249, 199, 47, 1.000)"
          ],
          [
           0.8745098039215686,
           "rgba(249, 201, 50, 1.000)"
          ],
          [
           0.8784313725490196,
           "rgba(249, 203, 53, 1.000)"
          ],
          [
           0.8823529411764706,
           "rgba(248, 205, 55, 1.000)"
          ],
          [
           0.8862745098039215,
           "rgba(248, 207, 58, 1.000)"
          ],
          [
           0.8901960784313725,
           "rgba(247, 209, 61, 1.000)"
          ],
          [
           0.8941176470588236,
           "rgba(247, 211, 64, 1.000)"
          ],
          [
           0.8980392156862745,
           "rgba(246, 213, 67, 1.000)"
          ],
          [
           0.9019607843137255,
           "rgba(246, 215, 70, 1.000)"
          ],
          [
           0.9058823529411765,
           "rgba(245, 217, 73, 1.000)"
          ],
          [
           0.9098039215686274,
           "rgba(245, 219, 76, 1.000)"
          ],
          [
           0.9137254901960784,
           "rgba(244, 221, 79, 1.000)"
          ],
          [
           0.9176470588235294,
           "rgba(244, 223, 83, 1.000)"
          ],
          [
           0.9215686274509803,
           "rgba(244, 225, 86, 1.000)"
          ],
          [
           0.9254901960784314,
           "rgba(243, 227, 90, 1.000)"
          ],
          [
           0.9294117647058824,
           "rgba(243, 229, 93, 1.000)"
          ],
          [
           0.9333333333333333,
           "rgba(242, 230, 97, 1.000)"
          ],
          [
           0.9372549019607843,
           "rgba(242, 232, 101, 1.000)"
          ],
          [
           0.9411764705882353,
           "rgba(242, 234, 105, 1.000)"
          ],
          [
           0.9450980392156862,
           "rgba(241, 236, 109, 1.000)"
          ],
          [
           0.9490196078431372,
           "rgba(241, 237, 113, 1.000)"
          ],
          [
           0.9529411764705882,
           "rgba(241, 239, 117, 1.000)"
          ],
          [
           0.9568627450980393,
           "rgba(241, 241, 121, 1.000)"
          ],
          [
           0.9607843137254902,
           "rgba(242, 242, 125, 1.000)"
          ],
          [
           0.9647058823529412,
           "rgba(242, 244, 130, 1.000)"
          ],
          [
           0.9686274509803922,
           "rgba(243, 245, 134, 1.000)"
          ],
          [
           0.9725490196078431,
           "rgba(243, 246, 138, 1.000)"
          ],
          [
           0.9764705882352941,
           "rgba(244, 248, 142, 1.000)"
          ],
          [
           0.9803921568627451,
           "rgba(245, 249, 146, 1.000)"
          ],
          [
           0.984313725490196,
           "rgba(246, 250, 150, 1.000)"
          ],
          [
           0.9882352941176471,
           "rgba(248, 251, 154, 1.000)"
          ],
          [
           0.9921568627450981,
           "rgba(249, 252, 157, 1.000)"
          ],
          [
           0.996078431372549,
           "rgba(250, 253, 161, 1.000)"
          ],
          [
           1,
           "rgba(252, 255, 164, 1.000)"
          ]
         ],
         "hoverinfo": "none",
         "name": "y1",
         "showlegend": false,
         "showscale": false,
         "type": "heatmap",
         "x": [
          0.5,
          1.5,
          2.5,
          3.5,
          4.5,
          5.5,
          6.5,
          7.5,
          8.5,
          9.5,
          10.5
         ],
         "xaxis": "x1",
         "y": [
          0.5,
          1.5
         ],
         "yaxis": "y1",
         "z": [
          [
           -10440,
           -29879.999999999996,
           -47160,
           -62280.000000000015,
           -75239.99999999999,
           -86039.99999999997,
           -94680.00000000006,
           -101159.99999999999,
           -105480.00000000001,
           -107639.99999999997
          ]
         ],
         "zmax": 100,
         "zmin": 0
        },
        {
         "colorbar": {
          "title": ""
         },
         "colorscale": [
          [
           0,
           "rgba(0, 0, 4, 1.000)"
          ],
          [
           0.00392156862745098,
           "rgba(1, 0, 5, 1.000)"
          ],
          [
           0.00784313725490196,
           "rgba(1, 1, 6, 1.000)"
          ],
          [
           0.011764705882352941,
           "rgba(1, 1, 8, 1.000)"
          ],
          [
           0.01568627450980392,
           "rgba(2, 1, 10, 1.000)"
          ],
          [
           0.0196078431372549,
           "rgba(2, 2, 12, 1.000)"
          ],
          [
           0.023529411764705882,
           "rgba(2, 2, 14, 1.000)"
          ],
          [
           0.027450980392156862,
           "rgba(3, 2, 16, 1.000)"
          ],
          [
           0.03137254901960784,
           "rgba(4, 3, 18, 1.000)"
          ],
          [
           0.03529411764705882,
           "rgba(4, 3, 20, 1.000)"
          ],
          [
           0.0392156862745098,
           "rgba(5, 4, 23, 1.000)"
          ],
          [
           0.043137254901960784,
           "rgba(6, 4, 25, 1.000)"
          ],
          [
           0.047058823529411764,
           "rgba(7, 5, 27, 1.000)"
          ],
          [
           0.050980392156862744,
           "rgba(8, 5, 29, 1.000)"
          ],
          [
           0.054901960784313725,
           "rgba(9, 6, 31, 1.000)"
          ],
          [
           0.058823529411764705,
           "rgba(10, 7, 34, 1.000)"
          ],
          [
           0.06274509803921569,
           "rgba(11, 7, 36, 1.000)"
          ],
          [
           0.06666666666666667,
           "rgba(12, 8, 38, 1.000)"
          ],
          [
           0.07058823529411765,
           "rgba(13, 8, 41, 1.000)"
          ],
          [
           0.07450980392156863,
           "rgba(14, 9, 43, 1.000)"
          ],
          [
           0.0784313725490196,
           "rgba(16, 9, 45, 1.000)"
          ],
          [
           0.08235294117647059,
           "rgba(17, 10, 48, 1.000)"
          ],
          [
           0.08627450980392157,
           "rgba(18, 10, 50, 1.000)"
          ],
          [
           0.09019607843137255,
           "rgba(20, 11, 52, 1.000)"
          ],
          [
           0.09411764705882353,
           "rgba(21, 11, 55, 1.000)"
          ],
          [
           0.09803921568627451,
           "rgba(22, 11, 57, 1.000)"
          ],
          [
           0.10196078431372549,
           "rgba(24, 12, 60, 1.000)"
          ],
          [
           0.10588235294117647,
           "rgba(25, 12, 62, 1.000)"
          ],
          [
           0.10980392156862745,
           "rgba(27, 12, 65, 1.000)"
          ],
          [
           0.11372549019607843,
           "rgba(28, 12, 67, 1.000)"
          ],
          [
           0.11764705882352941,
           "rgba(30, 12, 69, 1.000)"
          ],
          [
           0.12156862745098039,
           "rgba(31, 12, 72, 1.000)"
          ],
          [
           0.12549019607843137,
           "rgba(33, 12, 74, 1.000)"
          ],
          [
           0.12941176470588237,
           "rgba(35, 12, 76, 1.000)"
          ],
          [
           0.13333333333333333,
           "rgba(36, 12, 79, 1.000)"
          ],
          [
           0.13725490196078433,
           "rgba(38, 12, 81, 1.000)"
          ],
          [
           0.1411764705882353,
           "rgba(40, 11, 83, 1.000)"
          ],
          [
           0.1450980392156863,
           "rgba(41, 11, 85, 1.000)"
          ],
          [
           0.14901960784313725,
           "rgba(43, 11, 87, 1.000)"
          ],
          [
           0.15294117647058825,
           "rgba(45, 11, 89, 1.000)"
          ],
          [
           0.1568627450980392,
           "rgba(47, 10, 91, 1.000)"
          ],
          [
           0.1607843137254902,
           "rgba(49, 10, 92, 1.000)"
          ],
          [
           0.16470588235294117,
           "rgba(50, 10, 94, 1.000)"
          ],
          [
           0.16862745098039217,
           "rgba(52, 10, 95, 1.000)"
          ],
          [
           0.17254901960784313,
           "rgba(54, 9, 97, 1.000)"
          ],
          [
           0.17647058823529413,
           "rgba(56, 9, 98, 1.000)"
          ],
          [
           0.1803921568627451,
           "rgba(57, 9, 99, 1.000)"
          ],
          [
           0.1843137254901961,
           "rgba(59, 9, 100, 1.000)"
          ],
          [
           0.18823529411764706,
           "rgba(61, 9, 101, 1.000)"
          ],
          [
           0.19215686274509805,
           "rgba(62, 9, 102, 1.000)"
          ],
          [
           0.19607843137254902,
           "rgba(64, 10, 103, 1.000)"
          ],
          [
           0.2,
           "rgba(66, 10, 104, 1.000)"
          ],
          [
           0.20392156862745098,
           "rgba(68, 10, 104, 1.000)"
          ],
          [
           0.20784313725490197,
           "rgba(69, 10, 105, 1.000)"
          ],
          [
           0.21176470588235294,
           "rgba(71, 11, 106, 1.000)"
          ],
          [
           0.21568627450980393,
           "rgba(73, 11, 106, 1.000)"
          ],
          [
           0.2196078431372549,
           "rgba(74, 12, 107, 1.000)"
          ],
          [
           0.2235294117647059,
           "rgba(76, 12, 107, 1.000)"
          ],
          [
           0.22745098039215686,
           "rgba(77, 13, 108, 1.000)"
          ],
          [
           0.23137254901960785,
           "rgba(79, 13, 108, 1.000)"
          ],
          [
           0.23529411764705882,
           "rgba(81, 14, 108, 1.000)"
          ],
          [
           0.23921568627450981,
           "rgba(82, 14, 109, 1.000)"
          ],
          [
           0.24313725490196078,
           "rgba(84, 15, 109, 1.000)"
          ],
          [
           0.24705882352941178,
           "rgba(85, 15, 109, 1.000)"
          ],
          [
           0.25098039215686274,
           "rgba(87, 16, 110, 1.000)"
          ],
          [
           0.2549019607843137,
           "rgba(89, 16, 110, 1.000)"
          ],
          [
           0.25882352941176473,
           "rgba(90, 17, 110, 1.000)"
          ],
          [
           0.2627450980392157,
           "rgba(92, 18, 110, 1.000)"
          ],
          [
           0.26666666666666666,
           "rgba(93, 18, 110, 1.000)"
          ],
          [
           0.27058823529411763,
           "rgba(95, 19, 110, 1.000)"
          ],
          [
           0.27450980392156865,
           "rgba(97, 19, 110, 1.000)"
          ],
          [
           0.2784313725490196,
           "rgba(98, 20, 110, 1.000)"
          ],
          [
           0.2823529411764706,
           "rgba(100, 21, 110, 1.000)"
          ],
          [
           0.28627450980392155,
           "rgba(101, 21, 110, 1.000)"
          ],
          [
           0.2901960784313726,
           "rgba(103, 22, 110, 1.000)"
          ],
          [
           0.29411764705882354,
           "rgba(105, 22, 110, 1.000)"
          ],
          [
           0.2980392156862745,
           "rgba(106, 23, 110, 1.000)"
          ],
          [
           0.30196078431372547,
           "rgba(108, 24, 110, 1.000)"
          ],
          [
           0.3058823529411765,
           "rgba(109, 24, 110, 1.000)"
          ],
          [
           0.30980392156862746,
           "rgba(111, 25, 110, 1.000)"
          ],
          [
           0.3137254901960784,
           "rgba(113, 25, 110, 1.000)"
          ],
          [
           0.3176470588235294,
           "rgba(114, 26, 110, 1.000)"
          ],
          [
           0.3215686274509804,
           "rgba(116, 26, 110, 1.000)"
          ],
          [
           0.3254901960784314,
           "rgba(117, 27, 110, 1.000)"
          ],
          [
           0.32941176470588235,
           "rgba(119, 28, 109, 1.000)"
          ],
          [
           0.3333333333333333,
           "rgba(120, 28, 109, 1.000)"
          ],
          [
           0.33725490196078434,
           "rgba(122, 29, 109, 1.000)"
          ],
          [
           0.3411764705882353,
           "rgba(124, 29, 109, 1.000)"
          ],
          [
           0.34509803921568627,
           "rgba(125, 30, 109, 1.000)"
          ],
          [
           0.34901960784313724,
           "rgba(127, 30, 108, 1.000)"
          ],
          [
           0.35294117647058826,
           "rgba(128, 31, 108, 1.000)"
          ],
          [
           0.3568627450980392,
           "rgba(130, 32, 108, 1.000)"
          ],
          [
           0.3607843137254902,
           "rgba(132, 32, 107, 1.000)"
          ],
          [
           0.36470588235294116,
           "rgba(133, 33, 107, 1.000)"
          ],
          [
           0.3686274509803922,
           "rgba(135, 33, 107, 1.000)"
          ],
          [
           0.37254901960784315,
           "rgba(136, 34, 106, 1.000)"
          ],
          [
           0.3764705882352941,
           "rgba(138, 34, 106, 1.000)"
          ],
          [
           0.3803921568627451,
           "rgba(140, 35, 105, 1.000)"
          ],
          [
           0.3843137254901961,
           "rgba(141, 35, 105, 1.000)"
          ],
          [
           0.38823529411764707,
           "rgba(143, 36, 105, 1.000)"
          ],
          [
           0.39215686274509803,
           "rgba(144, 37, 104, 1.000)"
          ],
          [
           0.396078431372549,
           "rgba(146, 37, 104, 1.000)"
          ],
          [
           0.4,
           "rgba(147, 38, 103, 1.000)"
          ],
          [
           0.403921568627451,
           "rgba(149, 38, 103, 1.000)"
          ],
          [
           0.40784313725490196,
           "rgba(151, 39, 102, 1.000)"
          ],
          [
           0.4117647058823529,
           "rgba(152, 39, 102, 1.000)"
          ],
          [
           0.41568627450980394,
           "rgba(154, 40, 101, 1.000)"
          ],
          [
           0.4196078431372549,
           "rgba(155, 41, 100, 1.000)"
          ],
          [
           0.4235294117647059,
           "rgba(157, 41, 100, 1.000)"
          ],
          [
           0.42745098039215684,
           "rgba(159, 42, 99, 1.000)"
          ],
          [
           0.43137254901960786,
           "rgba(160, 42, 99, 1.000)"
          ],
          [
           0.43529411764705883,
           "rgba(162, 43, 98, 1.000)"
          ],
          [
           0.4392156862745098,
           "rgba(163, 44, 97, 1.000)"
          ],
          [
           0.44313725490196076,
           "rgba(165, 44, 96, 1.000)"
          ],
          [
           0.4470588235294118,
           "rgba(166, 45, 96, 1.000)"
          ],
          [
           0.45098039215686275,
           "rgba(168, 46, 95, 1.000)"
          ],
          [
           0.4549019607843137,
           "rgba(169, 46, 94, 1.000)"
          ],
          [
           0.4588235294117647,
           "rgba(171, 47, 94, 1.000)"
          ],
          [
           0.4627450980392157,
           "rgba(173, 48, 93, 1.000)"
          ],
          [
           0.4666666666666667,
           "rgba(174, 48, 92, 1.000)"
          ],
          [
           0.47058823529411764,
           "rgba(176, 49, 91, 1.000)"
          ],
          [
           0.4745098039215686,
           "rgba(177, 50, 90, 1.000)"
          ],
          [
           0.47843137254901963,
           "rgba(179, 50, 90, 1.000)"
          ],
          [
           0.4823529411764706,
           "rgba(180, 51, 89, 1.000)"
          ],
          [
           0.48627450980392156,
           "rgba(182, 52, 88, 1.000)"
          ],
          [
           0.49019607843137253,
           "rgba(183, 53, 87, 1.000)"
          ],
          [
           0.49411764705882355,
           "rgba(185, 53, 86, 1.000)"
          ],
          [
           0.4980392156862745,
           "rgba(186, 54, 85, 1.000)"
          ],
          [
           0.5019607843137255,
           "rgba(188, 55, 84, 1.000)"
          ],
          [
           0.5058823529411764,
           "rgba(189, 56, 83, 1.000)"
          ],
          [
           0.5098039215686274,
           "rgba(191, 57, 82, 1.000)"
          ],
          [
           0.5137254901960784,
           "rgba(192, 58, 81, 1.000)"
          ],
          [
           0.5176470588235295,
           "rgba(193, 58, 80, 1.000)"
          ],
          [
           0.5215686274509804,
           "rgba(195, 59, 79, 1.000)"
          ],
          [
           0.5254901960784314,
           "rgba(196, 60, 78, 1.000)"
          ],
          [
           0.5294117647058824,
           "rgba(198, 61, 77, 1.000)"
          ],
          [
           0.5333333333333333,
           "rgba(199, 62, 76, 1.000)"
          ],
          [
           0.5372549019607843,
           "rgba(200, 63, 75, 1.000)"
          ],
          [
           0.5411764705882353,
           "rgba(202, 64, 74, 1.000)"
          ],
          [
           0.5450980392156862,
           "rgba(203, 65, 73, 1.000)"
          ],
          [
           0.5490196078431373,
           "rgba(204, 66, 72, 1.000)"
          ],
          [
           0.5529411764705883,
           "rgba(206, 67, 71, 1.000)"
          ],
          [
           0.5568627450980392,
           "rgba(207, 68, 70, 1.000)"
          ],
          [
           0.5607843137254902,
           "rgba(208, 69, 69, 1.000)"
          ],
          [
           0.5647058823529412,
           "rgba(210, 70, 68, 1.000)"
          ],
          [
           0.5686274509803921,
           "rgba(211, 71, 67, 1.000)"
          ],
          [
           0.5725490196078431,
           "rgba(212, 72, 66, 1.000)"
          ],
          [
           0.5764705882352941,
           "rgba(213, 74, 65, 1.000)"
          ],
          [
           0.5803921568627451,
           "rgba(215, 75, 63, 1.000)"
          ],
          [
           0.5843137254901961,
           "rgba(216, 76, 62, 1.000)"
          ],
          [
           0.5882352941176471,
           "rgba(217, 77, 61, 1.000)"
          ],
          [
           0.592156862745098,
           "rgba(218, 78, 60, 1.000)"
          ],
          [
           0.596078431372549,
           "rgba(219, 80, 59, 1.000)"
          ],
          [
           0.6,
           "rgba(221, 81, 58, 1.000)"
          ],
          [
           0.6039215686274509,
           "rgba(222, 82, 56, 1.000)"
          ],
          [
           0.6078431372549019,
           "rgba(223, 83, 55, 1.000)"
          ],
          [
           0.611764705882353,
           "rgba(224, 85, 54, 1.000)"
          ],
          [
           0.615686274509804,
           "rgba(225, 86, 53, 1.000)"
          ],
          [
           0.6196078431372549,
           "rgba(226, 87, 52, 1.000)"
          ],
          [
           0.6235294117647059,
           "rgba(227, 89, 51, 1.000)"
          ],
          [
           0.6274509803921569,
           "rgba(228, 90, 49, 1.000)"
          ],
          [
           0.6313725490196078,
           "rgba(229, 92, 48, 1.000)"
          ],
          [
           0.6352941176470588,
           "rgba(230, 93, 47, 1.000)"
          ],
          [
           0.6392156862745098,
           "rgba(231, 94, 46, 1.000)"
          ],
          [
           0.6431372549019608,
           "rgba(232, 96, 45, 1.000)"
          ],
          [
           0.6470588235294118,
           "rgba(233, 97, 43, 1.000)"
          ],
          [
           0.6509803921568628,
           "rgba(234, 99, 42, 1.000)"
          ],
          [
           0.6549019607843137,
           "rgba(235, 100, 41, 1.000)"
          ],
          [
           0.6588235294117647,
           "rgba(235, 102, 40, 1.000)"
          ],
          [
           0.6627450980392157,
           "rgba(236, 103, 38, 1.000)"
          ],
          [
           0.6666666666666666,
           "rgba(237, 105, 37, 1.000)"
          ],
          [
           0.6705882352941176,
           "rgba(238, 106, 36, 1.000)"
          ],
          [
           0.6745098039215687,
           "rgba(239, 108, 35, 1.000)"
          ],
          [
           0.6784313725490196,
           "rgba(239, 110, 33, 1.000)"
          ],
          [
           0.6823529411764706,
           "rgba(240, 111, 32, 1.000)"
          ],
          [
           0.6862745098039216,
           "rgba(241, 113, 31, 1.000)"
          ],
          [
           0.6901960784313725,
           "rgba(241, 115, 29, 1.000)"
          ],
          [
           0.6941176470588235,
           "rgba(242, 116, 28, 1.000)"
          ],
          [
           0.6980392156862745,
           "rgba(243, 118, 27, 1.000)"
          ],
          [
           0.7019607843137254,
           "rgba(243, 120, 25, 1.000)"
          ],
          [
           0.7058823529411765,
           "rgba(244, 121, 24, 1.000)"
          ],
          [
           0.7098039215686275,
           "rgba(245, 123, 23, 1.000)"
          ],
          [
           0.7137254901960784,
           "rgba(245, 125, 21, 1.000)"
          ],
          [
           0.7176470588235294,
           "rgba(246, 126, 20, 1.000)"
          ],
          [
           0.7215686274509804,
           "rgba(246, 128, 19, 1.000)"
          ],
          [
           0.7254901960784313,
           "rgba(247, 130, 18, 1.000)"
          ],
          [
           0.7294117647058823,
           "rgba(247, 132, 16, 1.000)"
          ],
          [
           0.7333333333333333,
           "rgba(248, 133, 15, 1.000)"
          ],
          [
           0.7372549019607844,
           "rgba(248, 135, 14, 1.000)"
          ],
          [
           0.7411764705882353,
           "rgba(248, 137, 12, 1.000)"
          ],
          [
           0.7450980392156863,
           "rgba(249, 139, 11, 1.000)"
          ],
          [
           0.7490196078431373,
           "rgba(249, 140, 10, 1.000)"
          ],
          [
           0.7529411764705882,
           "rgba(249, 142, 9, 1.000)"
          ],
          [
           0.7568627450980392,
           "rgba(250, 144, 8, 1.000)"
          ],
          [
           0.7607843137254902,
           "rgba(250, 146, 7, 1.000)"
          ],
          [
           0.7647058823529411,
           "rgba(250, 148, 7, 1.000)"
          ],
          [
           0.7686274509803922,
           "rgba(251, 150, 6, 1.000)"
          ],
          [
           0.7725490196078432,
           "rgba(251, 151, 6, 1.000)"
          ],
          [
           0.7764705882352941,
           "rgba(251, 153, 6, 1.000)"
          ],
          [
           0.7803921568627451,
           "rgba(251, 155, 6, 1.000)"
          ],
          [
           0.7843137254901961,
           "rgba(251, 157, 7, 1.000)"
          ],
          [
           0.788235294117647,
           "rgba(252, 159, 7, 1.000)"
          ],
          [
           0.792156862745098,
           "rgba(252, 161, 8, 1.000)"
          ],
          [
           0.796078431372549,
           "rgba(252, 163, 9, 1.000)"
          ],
          [
           0.8,
           "rgba(252, 165, 10, 1.000)"
          ],
          [
           0.803921568627451,
           "rgba(252, 166, 12, 1.000)"
          ],
          [
           0.807843137254902,
           "rgba(252, 168, 13, 1.000)"
          ],
          [
           0.8117647058823529,
           "rgba(252, 170, 15, 1.000)"
          ],
          [
           0.8156862745098039,
           "rgba(252, 172, 17, 1.000)"
          ],
          [
           0.8196078431372549,
           "rgba(252, 174, 18, 1.000)"
          ],
          [
           0.8235294117647058,
           "rgba(252, 176, 20, 1.000)"
          ],
          [
           0.8274509803921568,
           "rgba(252, 178, 22, 1.000)"
          ],
          [
           0.8313725490196079,
           "rgba(252, 180, 24, 1.000)"
          ],
          [
           0.8352941176470589,
           "rgba(251, 182, 26, 1.000)"
          ],
          [
           0.8392156862745098,
           "rgba(251, 184, 29, 1.000)"
          ],
          [
           0.8431372549019608,
           "rgba(251, 186, 31, 1.000)"
          ],
          [
           0.8470588235294118,
           "rgba(251, 188, 33, 1.000)"
          ],
          [
           0.8509803921568627,
           "rgba(251, 190, 35, 1.000)"
          ],
          [
           0.8549019607843137,
           "rgba(250, 192, 38, 1.000)"
          ],
          [
           0.8588235294117647,
           "rgba(250, 194, 40, 1.000)"
          ],
          [
           0.8627450980392157,
           "rgba(250, 196, 42, 1.000)"
          ],
          [
           0.8666666666666667,
           "rgba(250, 198, 45, 1.000)"
          ],
          [
           0.8705882352941177,
           "rgba(249, 199, 47, 1.000)"
          ],
          [
           0.8745098039215686,
           "rgba(249, 201, 50, 1.000)"
          ],
          [
           0.8784313725490196,
           "rgba(249, 203, 53, 1.000)"
          ],
          [
           0.8823529411764706,
           "rgba(248, 205, 55, 1.000)"
          ],
          [
           0.8862745098039215,
           "rgba(248, 207, 58, 1.000)"
          ],
          [
           0.8901960784313725,
           "rgba(247, 209, 61, 1.000)"
          ],
          [
           0.8941176470588236,
           "rgba(247, 211, 64, 1.000)"
          ],
          [
           0.8980392156862745,
           "rgba(246, 213, 67, 1.000)"
          ],
          [
           0.9019607843137255,
           "rgba(246, 215, 70, 1.000)"
          ],
          [
           0.9058823529411765,
           "rgba(245, 217, 73, 1.000)"
          ],
          [
           0.9098039215686274,
           "rgba(245, 219, 76, 1.000)"
          ],
          [
           0.9137254901960784,
           "rgba(244, 221, 79, 1.000)"
          ],
          [
           0.9176470588235294,
           "rgba(244, 223, 83, 1.000)"
          ],
          [
           0.9215686274509803,
           "rgba(244, 225, 86, 1.000)"
          ],
          [
           0.9254901960784314,
           "rgba(243, 227, 90, 1.000)"
          ],
          [
           0.9294117647058824,
           "rgba(243, 229, 93, 1.000)"
          ],
          [
           0.9333333333333333,
           "rgba(242, 230, 97, 1.000)"
          ],
          [
           0.9372549019607843,
           "rgba(242, 232, 101, 1.000)"
          ],
          [
           0.9411764705882353,
           "rgba(242, 234, 105, 1.000)"
          ],
          [
           0.9450980392156862,
           "rgba(241, 236, 109, 1.000)"
          ],
          [
           0.9490196078431372,
           "rgba(241, 237, 113, 1.000)"
          ],
          [
           0.9529411764705882,
           "rgba(241, 239, 117, 1.000)"
          ],
          [
           0.9568627450980393,
           "rgba(241, 241, 121, 1.000)"
          ],
          [
           0.9607843137254902,
           "rgba(242, 242, 125, 1.000)"
          ],
          [
           0.9647058823529412,
           "rgba(242, 244, 130, 1.000)"
          ],
          [
           0.9686274509803922,
           "rgba(243, 245, 134, 1.000)"
          ],
          [
           0.9725490196078431,
           "rgba(243, 246, 138, 1.000)"
          ],
          [
           0.9764705882352941,
           "rgba(244, 248, 142, 1.000)"
          ],
          [
           0.9803921568627451,
           "rgba(245, 249, 146, 1.000)"
          ],
          [
           0.984313725490196,
           "rgba(246, 250, 150, 1.000)"
          ],
          [
           0.9882352941176471,
           "rgba(248, 251, 154, 1.000)"
          ],
          [
           0.9921568627450981,
           "rgba(249, 252, 157, 1.000)"
          ],
          [
           0.996078431372549,
           "rgba(250, 253, 161, 1.000)"
          ],
          [
           1,
           "rgba(252, 255, 164, 1.000)"
          ]
         ],
         "hoverinfo": "none",
         "name": "y1",
         "showlegend": false,
         "showscale": false,
         "type": "heatmap",
         "x": [
          0.5,
          1.5,
          2.5,
          3.5,
          4.5,
          5.5,
          6.5,
          7.5,
          8.5,
          9.5,
          10.5
         ],
         "xaxis": "x2",
         "y": [
          0.5,
          1.5
         ],
         "yaxis": "y2",
         "z": [
          [
           null,
           null,
           null,
           null,
           null,
           null,
           null,
           null,
           null,
           null
          ]
         ],
         "zmax": 100,
         "zmin": 0
        },
        {
         "colorbar": {
          "title": ""
         },
         "colorscale": [
          [
           0,
           "rgba(0, 0, 4, 1.000)"
          ],
          [
           0.00392156862745098,
           "rgba(1, 0, 5, 1.000)"
          ],
          [
           0.00784313725490196,
           "rgba(1, 1, 6, 1.000)"
          ],
          [
           0.011764705882352941,
           "rgba(1, 1, 8, 1.000)"
          ],
          [
           0.01568627450980392,
           "rgba(2, 1, 10, 1.000)"
          ],
          [
           0.0196078431372549,
           "rgba(2, 2, 12, 1.000)"
          ],
          [
           0.023529411764705882,
           "rgba(2, 2, 14, 1.000)"
          ],
          [
           0.027450980392156862,
           "rgba(3, 2, 16, 1.000)"
          ],
          [
           0.03137254901960784,
           "rgba(4, 3, 18, 1.000)"
          ],
          [
           0.03529411764705882,
           "rgba(4, 3, 20, 1.000)"
          ],
          [
           0.0392156862745098,
           "rgba(5, 4, 23, 1.000)"
          ],
          [
           0.043137254901960784,
           "rgba(6, 4, 25, 1.000)"
          ],
          [
           0.047058823529411764,
           "rgba(7, 5, 27, 1.000)"
          ],
          [
           0.050980392156862744,
           "rgba(8, 5, 29, 1.000)"
          ],
          [
           0.054901960784313725,
           "rgba(9, 6, 31, 1.000)"
          ],
          [
           0.058823529411764705,
           "rgba(10, 7, 34, 1.000)"
          ],
          [
           0.06274509803921569,
           "rgba(11, 7, 36, 1.000)"
          ],
          [
           0.06666666666666667,
           "rgba(12, 8, 38, 1.000)"
          ],
          [
           0.07058823529411765,
           "rgba(13, 8, 41, 1.000)"
          ],
          [
           0.07450980392156863,
           "rgba(14, 9, 43, 1.000)"
          ],
          [
           0.0784313725490196,
           "rgba(16, 9, 45, 1.000)"
          ],
          [
           0.08235294117647059,
           "rgba(17, 10, 48, 1.000)"
          ],
          [
           0.08627450980392157,
           "rgba(18, 10, 50, 1.000)"
          ],
          [
           0.09019607843137255,
           "rgba(20, 11, 52, 1.000)"
          ],
          [
           0.09411764705882353,
           "rgba(21, 11, 55, 1.000)"
          ],
          [
           0.09803921568627451,
           "rgba(22, 11, 57, 1.000)"
          ],
          [
           0.10196078431372549,
           "rgba(24, 12, 60, 1.000)"
          ],
          [
           0.10588235294117647,
           "rgba(25, 12, 62, 1.000)"
          ],
          [
           0.10980392156862745,
           "rgba(27, 12, 65, 1.000)"
          ],
          [
           0.11372549019607843,
           "rgba(28, 12, 67, 1.000)"
          ],
          [
           0.11764705882352941,
           "rgba(30, 12, 69, 1.000)"
          ],
          [
           0.12156862745098039,
           "rgba(31, 12, 72, 1.000)"
          ],
          [
           0.12549019607843137,
           "rgba(33, 12, 74, 1.000)"
          ],
          [
           0.12941176470588237,
           "rgba(35, 12, 76, 1.000)"
          ],
          [
           0.13333333333333333,
           "rgba(36, 12, 79, 1.000)"
          ],
          [
           0.13725490196078433,
           "rgba(38, 12, 81, 1.000)"
          ],
          [
           0.1411764705882353,
           "rgba(40, 11, 83, 1.000)"
          ],
          [
           0.1450980392156863,
           "rgba(41, 11, 85, 1.000)"
          ],
          [
           0.14901960784313725,
           "rgba(43, 11, 87, 1.000)"
          ],
          [
           0.15294117647058825,
           "rgba(45, 11, 89, 1.000)"
          ],
          [
           0.1568627450980392,
           "rgba(47, 10, 91, 1.000)"
          ],
          [
           0.1607843137254902,
           "rgba(49, 10, 92, 1.000)"
          ],
          [
           0.16470588235294117,
           "rgba(50, 10, 94, 1.000)"
          ],
          [
           0.16862745098039217,
           "rgba(52, 10, 95, 1.000)"
          ],
          [
           0.17254901960784313,
           "rgba(54, 9, 97, 1.000)"
          ],
          [
           0.17647058823529413,
           "rgba(56, 9, 98, 1.000)"
          ],
          [
           0.1803921568627451,
           "rgba(57, 9, 99, 1.000)"
          ],
          [
           0.1843137254901961,
           "rgba(59, 9, 100, 1.000)"
          ],
          [
           0.18823529411764706,
           "rgba(61, 9, 101, 1.000)"
          ],
          [
           0.19215686274509805,
           "rgba(62, 9, 102, 1.000)"
          ],
          [
           0.19607843137254902,
           "rgba(64, 10, 103, 1.000)"
          ],
          [
           0.2,
           "rgba(66, 10, 104, 1.000)"
          ],
          [
           0.20392156862745098,
           "rgba(68, 10, 104, 1.000)"
          ],
          [
           0.20784313725490197,
           "rgba(69, 10, 105, 1.000)"
          ],
          [
           0.21176470588235294,
           "rgba(71, 11, 106, 1.000)"
          ],
          [
           0.21568627450980393,
           "rgba(73, 11, 106, 1.000)"
          ],
          [
           0.2196078431372549,
           "rgba(74, 12, 107, 1.000)"
          ],
          [
           0.2235294117647059,
           "rgba(76, 12, 107, 1.000)"
          ],
          [
           0.22745098039215686,
           "rgba(77, 13, 108, 1.000)"
          ],
          [
           0.23137254901960785,
           "rgba(79, 13, 108, 1.000)"
          ],
          [
           0.23529411764705882,
           "rgba(81, 14, 108, 1.000)"
          ],
          [
           0.23921568627450981,
           "rgba(82, 14, 109, 1.000)"
          ],
          [
           0.24313725490196078,
           "rgba(84, 15, 109, 1.000)"
          ],
          [
           0.24705882352941178,
           "rgba(85, 15, 109, 1.000)"
          ],
          [
           0.25098039215686274,
           "rgba(87, 16, 110, 1.000)"
          ],
          [
           0.2549019607843137,
           "rgba(89, 16, 110, 1.000)"
          ],
          [
           0.25882352941176473,
           "rgba(90, 17, 110, 1.000)"
          ],
          [
           0.2627450980392157,
           "rgba(92, 18, 110, 1.000)"
          ],
          [
           0.26666666666666666,
           "rgba(93, 18, 110, 1.000)"
          ],
          [
           0.27058823529411763,
           "rgba(95, 19, 110, 1.000)"
          ],
          [
           0.27450980392156865,
           "rgba(97, 19, 110, 1.000)"
          ],
          [
           0.2784313725490196,
           "rgba(98, 20, 110, 1.000)"
          ],
          [
           0.2823529411764706,
           "rgba(100, 21, 110, 1.000)"
          ],
          [
           0.28627450980392155,
           "rgba(101, 21, 110, 1.000)"
          ],
          [
           0.2901960784313726,
           "rgba(103, 22, 110, 1.000)"
          ],
          [
           0.29411764705882354,
           "rgba(105, 22, 110, 1.000)"
          ],
          [
           0.2980392156862745,
           "rgba(106, 23, 110, 1.000)"
          ],
          [
           0.30196078431372547,
           "rgba(108, 24, 110, 1.000)"
          ],
          [
           0.3058823529411765,
           "rgba(109, 24, 110, 1.000)"
          ],
          [
           0.30980392156862746,
           "rgba(111, 25, 110, 1.000)"
          ],
          [
           0.3137254901960784,
           "rgba(113, 25, 110, 1.000)"
          ],
          [
           0.3176470588235294,
           "rgba(114, 26, 110, 1.000)"
          ],
          [
           0.3215686274509804,
           "rgba(116, 26, 110, 1.000)"
          ],
          [
           0.3254901960784314,
           "rgba(117, 27, 110, 1.000)"
          ],
          [
           0.32941176470588235,
           "rgba(119, 28, 109, 1.000)"
          ],
          [
           0.3333333333333333,
           "rgba(120, 28, 109, 1.000)"
          ],
          [
           0.33725490196078434,
           "rgba(122, 29, 109, 1.000)"
          ],
          [
           0.3411764705882353,
           "rgba(124, 29, 109, 1.000)"
          ],
          [
           0.34509803921568627,
           "rgba(125, 30, 109, 1.000)"
          ],
          [
           0.34901960784313724,
           "rgba(127, 30, 108, 1.000)"
          ],
          [
           0.35294117647058826,
           "rgba(128, 31, 108, 1.000)"
          ],
          [
           0.3568627450980392,
           "rgba(130, 32, 108, 1.000)"
          ],
          [
           0.3607843137254902,
           "rgba(132, 32, 107, 1.000)"
          ],
          [
           0.36470588235294116,
           "rgba(133, 33, 107, 1.000)"
          ],
          [
           0.3686274509803922,
           "rgba(135, 33, 107, 1.000)"
          ],
          [
           0.37254901960784315,
           "rgba(136, 34, 106, 1.000)"
          ],
          [
           0.3764705882352941,
           "rgba(138, 34, 106, 1.000)"
          ],
          [
           0.3803921568627451,
           "rgba(140, 35, 105, 1.000)"
          ],
          [
           0.3843137254901961,
           "rgba(141, 35, 105, 1.000)"
          ],
          [
           0.38823529411764707,
           "rgba(143, 36, 105, 1.000)"
          ],
          [
           0.39215686274509803,
           "rgba(144, 37, 104, 1.000)"
          ],
          [
           0.396078431372549,
           "rgba(146, 37, 104, 1.000)"
          ],
          [
           0.4,
           "rgba(147, 38, 103, 1.000)"
          ],
          [
           0.403921568627451,
           "rgba(149, 38, 103, 1.000)"
          ],
          [
           0.40784313725490196,
           "rgba(151, 39, 102, 1.000)"
          ],
          [
           0.4117647058823529,
           "rgba(152, 39, 102, 1.000)"
          ],
          [
           0.41568627450980394,
           "rgba(154, 40, 101, 1.000)"
          ],
          [
           0.4196078431372549,
           "rgba(155, 41, 100, 1.000)"
          ],
          [
           0.4235294117647059,
           "rgba(157, 41, 100, 1.000)"
          ],
          [
           0.42745098039215684,
           "rgba(159, 42, 99, 1.000)"
          ],
          [
           0.43137254901960786,
           "rgba(160, 42, 99, 1.000)"
          ],
          [
           0.43529411764705883,
           "rgba(162, 43, 98, 1.000)"
          ],
          [
           0.4392156862745098,
           "rgba(163, 44, 97, 1.000)"
          ],
          [
           0.44313725490196076,
           "rgba(165, 44, 96, 1.000)"
          ],
          [
           0.4470588235294118,
           "rgba(166, 45, 96, 1.000)"
          ],
          [
           0.45098039215686275,
           "rgba(168, 46, 95, 1.000)"
          ],
          [
           0.4549019607843137,
           "rgba(169, 46, 94, 1.000)"
          ],
          [
           0.4588235294117647,
           "rgba(171, 47, 94, 1.000)"
          ],
          [
           0.4627450980392157,
           "rgba(173, 48, 93, 1.000)"
          ],
          [
           0.4666666666666667,
           "rgba(174, 48, 92, 1.000)"
          ],
          [
           0.47058823529411764,
           "rgba(176, 49, 91, 1.000)"
          ],
          [
           0.4745098039215686,
           "rgba(177, 50, 90, 1.000)"
          ],
          [
           0.47843137254901963,
           "rgba(179, 50, 90, 1.000)"
          ],
          [
           0.4823529411764706,
           "rgba(180, 51, 89, 1.000)"
          ],
          [
           0.48627450980392156,
           "rgba(182, 52, 88, 1.000)"
          ],
          [
           0.49019607843137253,
           "rgba(183, 53, 87, 1.000)"
          ],
          [
           0.49411764705882355,
           "rgba(185, 53, 86, 1.000)"
          ],
          [
           0.4980392156862745,
           "rgba(186, 54, 85, 1.000)"
          ],
          [
           0.5019607843137255,
           "rgba(188, 55, 84, 1.000)"
          ],
          [
           0.5058823529411764,
           "rgba(189, 56, 83, 1.000)"
          ],
          [
           0.5098039215686274,
           "rgba(191, 57, 82, 1.000)"
          ],
          [
           0.5137254901960784,
           "rgba(192, 58, 81, 1.000)"
          ],
          [
           0.5176470588235295,
           "rgba(193, 58, 80, 1.000)"
          ],
          [
           0.5215686274509804,
           "rgba(195, 59, 79, 1.000)"
          ],
          [
           0.5254901960784314,
           "rgba(196, 60, 78, 1.000)"
          ],
          [
           0.5294117647058824,
           "rgba(198, 61, 77, 1.000)"
          ],
          [
           0.5333333333333333,
           "rgba(199, 62, 76, 1.000)"
          ],
          [
           0.5372549019607843,
           "rgba(200, 63, 75, 1.000)"
          ],
          [
           0.5411764705882353,
           "rgba(202, 64, 74, 1.000)"
          ],
          [
           0.5450980392156862,
           "rgba(203, 65, 73, 1.000)"
          ],
          [
           0.5490196078431373,
           "rgba(204, 66, 72, 1.000)"
          ],
          [
           0.5529411764705883,
           "rgba(206, 67, 71, 1.000)"
          ],
          [
           0.5568627450980392,
           "rgba(207, 68, 70, 1.000)"
          ],
          [
           0.5607843137254902,
           "rgba(208, 69, 69, 1.000)"
          ],
          [
           0.5647058823529412,
           "rgba(210, 70, 68, 1.000)"
          ],
          [
           0.5686274509803921,
           "rgba(211, 71, 67, 1.000)"
          ],
          [
           0.5725490196078431,
           "rgba(212, 72, 66, 1.000)"
          ],
          [
           0.5764705882352941,
           "rgba(213, 74, 65, 1.000)"
          ],
          [
           0.5803921568627451,
           "rgba(215, 75, 63, 1.000)"
          ],
          [
           0.5843137254901961,
           "rgba(216, 76, 62, 1.000)"
          ],
          [
           0.5882352941176471,
           "rgba(217, 77, 61, 1.000)"
          ],
          [
           0.592156862745098,
           "rgba(218, 78, 60, 1.000)"
          ],
          [
           0.596078431372549,
           "rgba(219, 80, 59, 1.000)"
          ],
          [
           0.6,
           "rgba(221, 81, 58, 1.000)"
          ],
          [
           0.6039215686274509,
           "rgba(222, 82, 56, 1.000)"
          ],
          [
           0.6078431372549019,
           "rgba(223, 83, 55, 1.000)"
          ],
          [
           0.611764705882353,
           "rgba(224, 85, 54, 1.000)"
          ],
          [
           0.615686274509804,
           "rgba(225, 86, 53, 1.000)"
          ],
          [
           0.6196078431372549,
           "rgba(226, 87, 52, 1.000)"
          ],
          [
           0.6235294117647059,
           "rgba(227, 89, 51, 1.000)"
          ],
          [
           0.6274509803921569,
           "rgba(228, 90, 49, 1.000)"
          ],
          [
           0.6313725490196078,
           "rgba(229, 92, 48, 1.000)"
          ],
          [
           0.6352941176470588,
           "rgba(230, 93, 47, 1.000)"
          ],
          [
           0.6392156862745098,
           "rgba(231, 94, 46, 1.000)"
          ],
          [
           0.6431372549019608,
           "rgba(232, 96, 45, 1.000)"
          ],
          [
           0.6470588235294118,
           "rgba(233, 97, 43, 1.000)"
          ],
          [
           0.6509803921568628,
           "rgba(234, 99, 42, 1.000)"
          ],
          [
           0.6549019607843137,
           "rgba(235, 100, 41, 1.000)"
          ],
          [
           0.6588235294117647,
           "rgba(235, 102, 40, 1.000)"
          ],
          [
           0.6627450980392157,
           "rgba(236, 103, 38, 1.000)"
          ],
          [
           0.6666666666666666,
           "rgba(237, 105, 37, 1.000)"
          ],
          [
           0.6705882352941176,
           "rgba(238, 106, 36, 1.000)"
          ],
          [
           0.6745098039215687,
           "rgba(239, 108, 35, 1.000)"
          ],
          [
           0.6784313725490196,
           "rgba(239, 110, 33, 1.000)"
          ],
          [
           0.6823529411764706,
           "rgba(240, 111, 32, 1.000)"
          ],
          [
           0.6862745098039216,
           "rgba(241, 113, 31, 1.000)"
          ],
          [
           0.6901960784313725,
           "rgba(241, 115, 29, 1.000)"
          ],
          [
           0.6941176470588235,
           "rgba(242, 116, 28, 1.000)"
          ],
          [
           0.6980392156862745,
           "rgba(243, 118, 27, 1.000)"
          ],
          [
           0.7019607843137254,
           "rgba(243, 120, 25, 1.000)"
          ],
          [
           0.7058823529411765,
           "rgba(244, 121, 24, 1.000)"
          ],
          [
           0.7098039215686275,
           "rgba(245, 123, 23, 1.000)"
          ],
          [
           0.7137254901960784,
           "rgba(245, 125, 21, 1.000)"
          ],
          [
           0.7176470588235294,
           "rgba(246, 126, 20, 1.000)"
          ],
          [
           0.7215686274509804,
           "rgba(246, 128, 19, 1.000)"
          ],
          [
           0.7254901960784313,
           "rgba(247, 130, 18, 1.000)"
          ],
          [
           0.7294117647058823,
           "rgba(247, 132, 16, 1.000)"
          ],
          [
           0.7333333333333333,
           "rgba(248, 133, 15, 1.000)"
          ],
          [
           0.7372549019607844,
           "rgba(248, 135, 14, 1.000)"
          ],
          [
           0.7411764705882353,
           "rgba(248, 137, 12, 1.000)"
          ],
          [
           0.7450980392156863,
           "rgba(249, 139, 11, 1.000)"
          ],
          [
           0.7490196078431373,
           "rgba(249, 140, 10, 1.000)"
          ],
          [
           0.7529411764705882,
           "rgba(249, 142, 9, 1.000)"
          ],
          [
           0.7568627450980392,
           "rgba(250, 144, 8, 1.000)"
          ],
          [
           0.7607843137254902,
           "rgba(250, 146, 7, 1.000)"
          ],
          [
           0.7647058823529411,
           "rgba(250, 148, 7, 1.000)"
          ],
          [
           0.7686274509803922,
           "rgba(251, 150, 6, 1.000)"
          ],
          [
           0.7725490196078432,
           "rgba(251, 151, 6, 1.000)"
          ],
          [
           0.7764705882352941,
           "rgba(251, 153, 6, 1.000)"
          ],
          [
           0.7803921568627451,
           "rgba(251, 155, 6, 1.000)"
          ],
          [
           0.7843137254901961,
           "rgba(251, 157, 7, 1.000)"
          ],
          [
           0.788235294117647,
           "rgba(252, 159, 7, 1.000)"
          ],
          [
           0.792156862745098,
           "rgba(252, 161, 8, 1.000)"
          ],
          [
           0.796078431372549,
           "rgba(252, 163, 9, 1.000)"
          ],
          [
           0.8,
           "rgba(252, 165, 10, 1.000)"
          ],
          [
           0.803921568627451,
           "rgba(252, 166, 12, 1.000)"
          ],
          [
           0.807843137254902,
           "rgba(252, 168, 13, 1.000)"
          ],
          [
           0.8117647058823529,
           "rgba(252, 170, 15, 1.000)"
          ],
          [
           0.8156862745098039,
           "rgba(252, 172, 17, 1.000)"
          ],
          [
           0.8196078431372549,
           "rgba(252, 174, 18, 1.000)"
          ],
          [
           0.8235294117647058,
           "rgba(252, 176, 20, 1.000)"
          ],
          [
           0.8274509803921568,
           "rgba(252, 178, 22, 1.000)"
          ],
          [
           0.8313725490196079,
           "rgba(252, 180, 24, 1.000)"
          ],
          [
           0.8352941176470589,
           "rgba(251, 182, 26, 1.000)"
          ],
          [
           0.8392156862745098,
           "rgba(251, 184, 29, 1.000)"
          ],
          [
           0.8431372549019608,
           "rgba(251, 186, 31, 1.000)"
          ],
          [
           0.8470588235294118,
           "rgba(251, 188, 33, 1.000)"
          ],
          [
           0.8509803921568627,
           "rgba(251, 190, 35, 1.000)"
          ],
          [
           0.8549019607843137,
           "rgba(250, 192, 38, 1.000)"
          ],
          [
           0.8588235294117647,
           "rgba(250, 194, 40, 1.000)"
          ],
          [
           0.8627450980392157,
           "rgba(250, 196, 42, 1.000)"
          ],
          [
           0.8666666666666667,
           "rgba(250, 198, 45, 1.000)"
          ],
          [
           0.8705882352941177,
           "rgba(249, 199, 47, 1.000)"
          ],
          [
           0.8745098039215686,
           "rgba(249, 201, 50, 1.000)"
          ],
          [
           0.8784313725490196,
           "rgba(249, 203, 53, 1.000)"
          ],
          [
           0.8823529411764706,
           "rgba(248, 205, 55, 1.000)"
          ],
          [
           0.8862745098039215,
           "rgba(248, 207, 58, 1.000)"
          ],
          [
           0.8901960784313725,
           "rgba(247, 209, 61, 1.000)"
          ],
          [
           0.8941176470588236,
           "rgba(247, 211, 64, 1.000)"
          ],
          [
           0.8980392156862745,
           "rgba(246, 213, 67, 1.000)"
          ],
          [
           0.9019607843137255,
           "rgba(246, 215, 70, 1.000)"
          ],
          [
           0.9058823529411765,
           "rgba(245, 217, 73, 1.000)"
          ],
          [
           0.9098039215686274,
           "rgba(245, 219, 76, 1.000)"
          ],
          [
           0.9137254901960784,
           "rgba(244, 221, 79, 1.000)"
          ],
          [
           0.9176470588235294,
           "rgba(244, 223, 83, 1.000)"
          ],
          [
           0.9215686274509803,
           "rgba(244, 225, 86, 1.000)"
          ],
          [
           0.9254901960784314,
           "rgba(243, 227, 90, 1.000)"
          ],
          [
           0.9294117647058824,
           "rgba(243, 229, 93, 1.000)"
          ],
          [
           0.9333333333333333,
           "rgba(242, 230, 97, 1.000)"
          ],
          [
           0.9372549019607843,
           "rgba(242, 232, 101, 1.000)"
          ],
          [
           0.9411764705882353,
           "rgba(242, 234, 105, 1.000)"
          ],
          [
           0.9450980392156862,
           "rgba(241, 236, 109, 1.000)"
          ],
          [
           0.9490196078431372,
           "rgba(241, 237, 113, 1.000)"
          ],
          [
           0.9529411764705882,
           "rgba(241, 239, 117, 1.000)"
          ],
          [
           0.9568627450980393,
           "rgba(241, 241, 121, 1.000)"
          ],
          [
           0.9607843137254902,
           "rgba(242, 242, 125, 1.000)"
          ],
          [
           0.9647058823529412,
           "rgba(242, 244, 130, 1.000)"
          ],
          [
           0.9686274509803922,
           "rgba(243, 245, 134, 1.000)"
          ],
          [
           0.9725490196078431,
           "rgba(243, 246, 138, 1.000)"
          ],
          [
           0.9764705882352941,
           "rgba(244, 248, 142, 1.000)"
          ],
          [
           0.9803921568627451,
           "rgba(245, 249, 146, 1.000)"
          ],
          [
           0.984313725490196,
           "rgba(246, 250, 150, 1.000)"
          ],
          [
           0.9882352941176471,
           "rgba(248, 251, 154, 1.000)"
          ],
          [
           0.9921568627450981,
           "rgba(249, 252, 157, 1.000)"
          ],
          [
           0.996078431372549,
           "rgba(250, 253, 161, 1.000)"
          ],
          [
           1,
           "rgba(252, 255, 164, 1.000)"
          ]
         ],
         "hoverinfo": "none",
         "name": "y1",
         "showlegend": false,
         "showscale": false,
         "type": "heatmap",
         "x": [
          0.5,
          1.5,
          2.5,
          3.5,
          4.5,
          5.5,
          6.5,
          7.5,
          8.5,
          9.5,
          10.5
         ],
         "xaxis": "x3",
         "y": [
          0.5,
          1.5
         ],
         "yaxis": "y3",
         "z": [
          [
           null,
           null,
           null,
           null,
           null,
           null,
           null,
           null,
           null,
           null
          ]
         ],
         "zmax": 100,
         "zmin": 0
        },
        {
         "colorbar": {
          "title": ""
         },
         "colorscale": [
          [
           0,
           "rgba(0, 0, 4, 1.000)"
          ],
          [
           0.00392156862745098,
           "rgba(1, 0, 5, 1.000)"
          ],
          [
           0.00784313725490196,
           "rgba(1, 1, 6, 1.000)"
          ],
          [
           0.011764705882352941,
           "rgba(1, 1, 8, 1.000)"
          ],
          [
           0.01568627450980392,
           "rgba(2, 1, 10, 1.000)"
          ],
          [
           0.0196078431372549,
           "rgba(2, 2, 12, 1.000)"
          ],
          [
           0.023529411764705882,
           "rgba(2, 2, 14, 1.000)"
          ],
          [
           0.027450980392156862,
           "rgba(3, 2, 16, 1.000)"
          ],
          [
           0.03137254901960784,
           "rgba(4, 3, 18, 1.000)"
          ],
          [
           0.03529411764705882,
           "rgba(4, 3, 20, 1.000)"
          ],
          [
           0.0392156862745098,
           "rgba(5, 4, 23, 1.000)"
          ],
          [
           0.043137254901960784,
           "rgba(6, 4, 25, 1.000)"
          ],
          [
           0.047058823529411764,
           "rgba(7, 5, 27, 1.000)"
          ],
          [
           0.050980392156862744,
           "rgba(8, 5, 29, 1.000)"
          ],
          [
           0.054901960784313725,
           "rgba(9, 6, 31, 1.000)"
          ],
          [
           0.058823529411764705,
           "rgba(10, 7, 34, 1.000)"
          ],
          [
           0.06274509803921569,
           "rgba(11, 7, 36, 1.000)"
          ],
          [
           0.06666666666666667,
           "rgba(12, 8, 38, 1.000)"
          ],
          [
           0.07058823529411765,
           "rgba(13, 8, 41, 1.000)"
          ],
          [
           0.07450980392156863,
           "rgba(14, 9, 43, 1.000)"
          ],
          [
           0.0784313725490196,
           "rgba(16, 9, 45, 1.000)"
          ],
          [
           0.08235294117647059,
           "rgba(17, 10, 48, 1.000)"
          ],
          [
           0.08627450980392157,
           "rgba(18, 10, 50, 1.000)"
          ],
          [
           0.09019607843137255,
           "rgba(20, 11, 52, 1.000)"
          ],
          [
           0.09411764705882353,
           "rgba(21, 11, 55, 1.000)"
          ],
          [
           0.09803921568627451,
           "rgba(22, 11, 57, 1.000)"
          ],
          [
           0.10196078431372549,
           "rgba(24, 12, 60, 1.000)"
          ],
          [
           0.10588235294117647,
           "rgba(25, 12, 62, 1.000)"
          ],
          [
           0.10980392156862745,
           "rgba(27, 12, 65, 1.000)"
          ],
          [
           0.11372549019607843,
           "rgba(28, 12, 67, 1.000)"
          ],
          [
           0.11764705882352941,
           "rgba(30, 12, 69, 1.000)"
          ],
          [
           0.12156862745098039,
           "rgba(31, 12, 72, 1.000)"
          ],
          [
           0.12549019607843137,
           "rgba(33, 12, 74, 1.000)"
          ],
          [
           0.12941176470588237,
           "rgba(35, 12, 76, 1.000)"
          ],
          [
           0.13333333333333333,
           "rgba(36, 12, 79, 1.000)"
          ],
          [
           0.13725490196078433,
           "rgba(38, 12, 81, 1.000)"
          ],
          [
           0.1411764705882353,
           "rgba(40, 11, 83, 1.000)"
          ],
          [
           0.1450980392156863,
           "rgba(41, 11, 85, 1.000)"
          ],
          [
           0.14901960784313725,
           "rgba(43, 11, 87, 1.000)"
          ],
          [
           0.15294117647058825,
           "rgba(45, 11, 89, 1.000)"
          ],
          [
           0.1568627450980392,
           "rgba(47, 10, 91, 1.000)"
          ],
          [
           0.1607843137254902,
           "rgba(49, 10, 92, 1.000)"
          ],
          [
           0.16470588235294117,
           "rgba(50, 10, 94, 1.000)"
          ],
          [
           0.16862745098039217,
           "rgba(52, 10, 95, 1.000)"
          ],
          [
           0.17254901960784313,
           "rgba(54, 9, 97, 1.000)"
          ],
          [
           0.17647058823529413,
           "rgba(56, 9, 98, 1.000)"
          ],
          [
           0.1803921568627451,
           "rgba(57, 9, 99, 1.000)"
          ],
          [
           0.1843137254901961,
           "rgba(59, 9, 100, 1.000)"
          ],
          [
           0.18823529411764706,
           "rgba(61, 9, 101, 1.000)"
          ],
          [
           0.19215686274509805,
           "rgba(62, 9, 102, 1.000)"
          ],
          [
           0.19607843137254902,
           "rgba(64, 10, 103, 1.000)"
          ],
          [
           0.2,
           "rgba(66, 10, 104, 1.000)"
          ],
          [
           0.20392156862745098,
           "rgba(68, 10, 104, 1.000)"
          ],
          [
           0.20784313725490197,
           "rgba(69, 10, 105, 1.000)"
          ],
          [
           0.21176470588235294,
           "rgba(71, 11, 106, 1.000)"
          ],
          [
           0.21568627450980393,
           "rgba(73, 11, 106, 1.000)"
          ],
          [
           0.2196078431372549,
           "rgba(74, 12, 107, 1.000)"
          ],
          [
           0.2235294117647059,
           "rgba(76, 12, 107, 1.000)"
          ],
          [
           0.22745098039215686,
           "rgba(77, 13, 108, 1.000)"
          ],
          [
           0.23137254901960785,
           "rgba(79, 13, 108, 1.000)"
          ],
          [
           0.23529411764705882,
           "rgba(81, 14, 108, 1.000)"
          ],
          [
           0.23921568627450981,
           "rgba(82, 14, 109, 1.000)"
          ],
          [
           0.24313725490196078,
           "rgba(84, 15, 109, 1.000)"
          ],
          [
           0.24705882352941178,
           "rgba(85, 15, 109, 1.000)"
          ],
          [
           0.25098039215686274,
           "rgba(87, 16, 110, 1.000)"
          ],
          [
           0.2549019607843137,
           "rgba(89, 16, 110, 1.000)"
          ],
          [
           0.25882352941176473,
           "rgba(90, 17, 110, 1.000)"
          ],
          [
           0.2627450980392157,
           "rgba(92, 18, 110, 1.000)"
          ],
          [
           0.26666666666666666,
           "rgba(93, 18, 110, 1.000)"
          ],
          [
           0.27058823529411763,
           "rgba(95, 19, 110, 1.000)"
          ],
          [
           0.27450980392156865,
           "rgba(97, 19, 110, 1.000)"
          ],
          [
           0.2784313725490196,
           "rgba(98, 20, 110, 1.000)"
          ],
          [
           0.2823529411764706,
           "rgba(100, 21, 110, 1.000)"
          ],
          [
           0.28627450980392155,
           "rgba(101, 21, 110, 1.000)"
          ],
          [
           0.2901960784313726,
           "rgba(103, 22, 110, 1.000)"
          ],
          [
           0.29411764705882354,
           "rgba(105, 22, 110, 1.000)"
          ],
          [
           0.2980392156862745,
           "rgba(106, 23, 110, 1.000)"
          ],
          [
           0.30196078431372547,
           "rgba(108, 24, 110, 1.000)"
          ],
          [
           0.3058823529411765,
           "rgba(109, 24, 110, 1.000)"
          ],
          [
           0.30980392156862746,
           "rgba(111, 25, 110, 1.000)"
          ],
          [
           0.3137254901960784,
           "rgba(113, 25, 110, 1.000)"
          ],
          [
           0.3176470588235294,
           "rgba(114, 26, 110, 1.000)"
          ],
          [
           0.3215686274509804,
           "rgba(116, 26, 110, 1.000)"
          ],
          [
           0.3254901960784314,
           "rgba(117, 27, 110, 1.000)"
          ],
          [
           0.32941176470588235,
           "rgba(119, 28, 109, 1.000)"
          ],
          [
           0.3333333333333333,
           "rgba(120, 28, 109, 1.000)"
          ],
          [
           0.33725490196078434,
           "rgba(122, 29, 109, 1.000)"
          ],
          [
           0.3411764705882353,
           "rgba(124, 29, 109, 1.000)"
          ],
          [
           0.34509803921568627,
           "rgba(125, 30, 109, 1.000)"
          ],
          [
           0.34901960784313724,
           "rgba(127, 30, 108, 1.000)"
          ],
          [
           0.35294117647058826,
           "rgba(128, 31, 108, 1.000)"
          ],
          [
           0.3568627450980392,
           "rgba(130, 32, 108, 1.000)"
          ],
          [
           0.3607843137254902,
           "rgba(132, 32, 107, 1.000)"
          ],
          [
           0.36470588235294116,
           "rgba(133, 33, 107, 1.000)"
          ],
          [
           0.3686274509803922,
           "rgba(135, 33, 107, 1.000)"
          ],
          [
           0.37254901960784315,
           "rgba(136, 34, 106, 1.000)"
          ],
          [
           0.3764705882352941,
           "rgba(138, 34, 106, 1.000)"
          ],
          [
           0.3803921568627451,
           "rgba(140, 35, 105, 1.000)"
          ],
          [
           0.3843137254901961,
           "rgba(141, 35, 105, 1.000)"
          ],
          [
           0.38823529411764707,
           "rgba(143, 36, 105, 1.000)"
          ],
          [
           0.39215686274509803,
           "rgba(144, 37, 104, 1.000)"
          ],
          [
           0.396078431372549,
           "rgba(146, 37, 104, 1.000)"
          ],
          [
           0.4,
           "rgba(147, 38, 103, 1.000)"
          ],
          [
           0.403921568627451,
           "rgba(149, 38, 103, 1.000)"
          ],
          [
           0.40784313725490196,
           "rgba(151, 39, 102, 1.000)"
          ],
          [
           0.4117647058823529,
           "rgba(152, 39, 102, 1.000)"
          ],
          [
           0.41568627450980394,
           "rgba(154, 40, 101, 1.000)"
          ],
          [
           0.4196078431372549,
           "rgba(155, 41, 100, 1.000)"
          ],
          [
           0.4235294117647059,
           "rgba(157, 41, 100, 1.000)"
          ],
          [
           0.42745098039215684,
           "rgba(159, 42, 99, 1.000)"
          ],
          [
           0.43137254901960786,
           "rgba(160, 42, 99, 1.000)"
          ],
          [
           0.43529411764705883,
           "rgba(162, 43, 98, 1.000)"
          ],
          [
           0.4392156862745098,
           "rgba(163, 44, 97, 1.000)"
          ],
          [
           0.44313725490196076,
           "rgba(165, 44, 96, 1.000)"
          ],
          [
           0.4470588235294118,
           "rgba(166, 45, 96, 1.000)"
          ],
          [
           0.45098039215686275,
           "rgba(168, 46, 95, 1.000)"
          ],
          [
           0.4549019607843137,
           "rgba(169, 46, 94, 1.000)"
          ],
          [
           0.4588235294117647,
           "rgba(171, 47, 94, 1.000)"
          ],
          [
           0.4627450980392157,
           "rgba(173, 48, 93, 1.000)"
          ],
          [
           0.4666666666666667,
           "rgba(174, 48, 92, 1.000)"
          ],
          [
           0.47058823529411764,
           "rgba(176, 49, 91, 1.000)"
          ],
          [
           0.4745098039215686,
           "rgba(177, 50, 90, 1.000)"
          ],
          [
           0.47843137254901963,
           "rgba(179, 50, 90, 1.000)"
          ],
          [
           0.4823529411764706,
           "rgba(180, 51, 89, 1.000)"
          ],
          [
           0.48627450980392156,
           "rgba(182, 52, 88, 1.000)"
          ],
          [
           0.49019607843137253,
           "rgba(183, 53, 87, 1.000)"
          ],
          [
           0.49411764705882355,
           "rgba(185, 53, 86, 1.000)"
          ],
          [
           0.4980392156862745,
           "rgba(186, 54, 85, 1.000)"
          ],
          [
           0.5019607843137255,
           "rgba(188, 55, 84, 1.000)"
          ],
          [
           0.5058823529411764,
           "rgba(189, 56, 83, 1.000)"
          ],
          [
           0.5098039215686274,
           "rgba(191, 57, 82, 1.000)"
          ],
          [
           0.5137254901960784,
           "rgba(192, 58, 81, 1.000)"
          ],
          [
           0.5176470588235295,
           "rgba(193, 58, 80, 1.000)"
          ],
          [
           0.5215686274509804,
           "rgba(195, 59, 79, 1.000)"
          ],
          [
           0.5254901960784314,
           "rgba(196, 60, 78, 1.000)"
          ],
          [
           0.5294117647058824,
           "rgba(198, 61, 77, 1.000)"
          ],
          [
           0.5333333333333333,
           "rgba(199, 62, 76, 1.000)"
          ],
          [
           0.5372549019607843,
           "rgba(200, 63, 75, 1.000)"
          ],
          [
           0.5411764705882353,
           "rgba(202, 64, 74, 1.000)"
          ],
          [
           0.5450980392156862,
           "rgba(203, 65, 73, 1.000)"
          ],
          [
           0.5490196078431373,
           "rgba(204, 66, 72, 1.000)"
          ],
          [
           0.5529411764705883,
           "rgba(206, 67, 71, 1.000)"
          ],
          [
           0.5568627450980392,
           "rgba(207, 68, 70, 1.000)"
          ],
          [
           0.5607843137254902,
           "rgba(208, 69, 69, 1.000)"
          ],
          [
           0.5647058823529412,
           "rgba(210, 70, 68, 1.000)"
          ],
          [
           0.5686274509803921,
           "rgba(211, 71, 67, 1.000)"
          ],
          [
           0.5725490196078431,
           "rgba(212, 72, 66, 1.000)"
          ],
          [
           0.5764705882352941,
           "rgba(213, 74, 65, 1.000)"
          ],
          [
           0.5803921568627451,
           "rgba(215, 75, 63, 1.000)"
          ],
          [
           0.5843137254901961,
           "rgba(216, 76, 62, 1.000)"
          ],
          [
           0.5882352941176471,
           "rgba(217, 77, 61, 1.000)"
          ],
          [
           0.592156862745098,
           "rgba(218, 78, 60, 1.000)"
          ],
          [
           0.596078431372549,
           "rgba(219, 80, 59, 1.000)"
          ],
          [
           0.6,
           "rgba(221, 81, 58, 1.000)"
          ],
          [
           0.6039215686274509,
           "rgba(222, 82, 56, 1.000)"
          ],
          [
           0.6078431372549019,
           "rgba(223, 83, 55, 1.000)"
          ],
          [
           0.611764705882353,
           "rgba(224, 85, 54, 1.000)"
          ],
          [
           0.615686274509804,
           "rgba(225, 86, 53, 1.000)"
          ],
          [
           0.6196078431372549,
           "rgba(226, 87, 52, 1.000)"
          ],
          [
           0.6235294117647059,
           "rgba(227, 89, 51, 1.000)"
          ],
          [
           0.6274509803921569,
           "rgba(228, 90, 49, 1.000)"
          ],
          [
           0.6313725490196078,
           "rgba(229, 92, 48, 1.000)"
          ],
          [
           0.6352941176470588,
           "rgba(230, 93, 47, 1.000)"
          ],
          [
           0.6392156862745098,
           "rgba(231, 94, 46, 1.000)"
          ],
          [
           0.6431372549019608,
           "rgba(232, 96, 45, 1.000)"
          ],
          [
           0.6470588235294118,
           "rgba(233, 97, 43, 1.000)"
          ],
          [
           0.6509803921568628,
           "rgba(234, 99, 42, 1.000)"
          ],
          [
           0.6549019607843137,
           "rgba(235, 100, 41, 1.000)"
          ],
          [
           0.6588235294117647,
           "rgba(235, 102, 40, 1.000)"
          ],
          [
           0.6627450980392157,
           "rgba(236, 103, 38, 1.000)"
          ],
          [
           0.6666666666666666,
           "rgba(237, 105, 37, 1.000)"
          ],
          [
           0.6705882352941176,
           "rgba(238, 106, 36, 1.000)"
          ],
          [
           0.6745098039215687,
           "rgba(239, 108, 35, 1.000)"
          ],
          [
           0.6784313725490196,
           "rgba(239, 110, 33, 1.000)"
          ],
          [
           0.6823529411764706,
           "rgba(240, 111, 32, 1.000)"
          ],
          [
           0.6862745098039216,
           "rgba(241, 113, 31, 1.000)"
          ],
          [
           0.6901960784313725,
           "rgba(241, 115, 29, 1.000)"
          ],
          [
           0.6941176470588235,
           "rgba(242, 116, 28, 1.000)"
          ],
          [
           0.6980392156862745,
           "rgba(243, 118, 27, 1.000)"
          ],
          [
           0.7019607843137254,
           "rgba(243, 120, 25, 1.000)"
          ],
          [
           0.7058823529411765,
           "rgba(244, 121, 24, 1.000)"
          ],
          [
           0.7098039215686275,
           "rgba(245, 123, 23, 1.000)"
          ],
          [
           0.7137254901960784,
           "rgba(245, 125, 21, 1.000)"
          ],
          [
           0.7176470588235294,
           "rgba(246, 126, 20, 1.000)"
          ],
          [
           0.7215686274509804,
           "rgba(246, 128, 19, 1.000)"
          ],
          [
           0.7254901960784313,
           "rgba(247, 130, 18, 1.000)"
          ],
          [
           0.7294117647058823,
           "rgba(247, 132, 16, 1.000)"
          ],
          [
           0.7333333333333333,
           "rgba(248, 133, 15, 1.000)"
          ],
          [
           0.7372549019607844,
           "rgba(248, 135, 14, 1.000)"
          ],
          [
           0.7411764705882353,
           "rgba(248, 137, 12, 1.000)"
          ],
          [
           0.7450980392156863,
           "rgba(249, 139, 11, 1.000)"
          ],
          [
           0.7490196078431373,
           "rgba(249, 140, 10, 1.000)"
          ],
          [
           0.7529411764705882,
           "rgba(249, 142, 9, 1.000)"
          ],
          [
           0.7568627450980392,
           "rgba(250, 144, 8, 1.000)"
          ],
          [
           0.7607843137254902,
           "rgba(250, 146, 7, 1.000)"
          ],
          [
           0.7647058823529411,
           "rgba(250, 148, 7, 1.000)"
          ],
          [
           0.7686274509803922,
           "rgba(251, 150, 6, 1.000)"
          ],
          [
           0.7725490196078432,
           "rgba(251, 151, 6, 1.000)"
          ],
          [
           0.7764705882352941,
           "rgba(251, 153, 6, 1.000)"
          ],
          [
           0.7803921568627451,
           "rgba(251, 155, 6, 1.000)"
          ],
          [
           0.7843137254901961,
           "rgba(251, 157, 7, 1.000)"
          ],
          [
           0.788235294117647,
           "rgba(252, 159, 7, 1.000)"
          ],
          [
           0.792156862745098,
           "rgba(252, 161, 8, 1.000)"
          ],
          [
           0.796078431372549,
           "rgba(252, 163, 9, 1.000)"
          ],
          [
           0.8,
           "rgba(252, 165, 10, 1.000)"
          ],
          [
           0.803921568627451,
           "rgba(252, 166, 12, 1.000)"
          ],
          [
           0.807843137254902,
           "rgba(252, 168, 13, 1.000)"
          ],
          [
           0.8117647058823529,
           "rgba(252, 170, 15, 1.000)"
          ],
          [
           0.8156862745098039,
           "rgba(252, 172, 17, 1.000)"
          ],
          [
           0.8196078431372549,
           "rgba(252, 174, 18, 1.000)"
          ],
          [
           0.8235294117647058,
           "rgba(252, 176, 20, 1.000)"
          ],
          [
           0.8274509803921568,
           "rgba(252, 178, 22, 1.000)"
          ],
          [
           0.8313725490196079,
           "rgba(252, 180, 24, 1.000)"
          ],
          [
           0.8352941176470589,
           "rgba(251, 182, 26, 1.000)"
          ],
          [
           0.8392156862745098,
           "rgba(251, 184, 29, 1.000)"
          ],
          [
           0.8431372549019608,
           "rgba(251, 186, 31, 1.000)"
          ],
          [
           0.8470588235294118,
           "rgba(251, 188, 33, 1.000)"
          ],
          [
           0.8509803921568627,
           "rgba(251, 190, 35, 1.000)"
          ],
          [
           0.8549019607843137,
           "rgba(250, 192, 38, 1.000)"
          ],
          [
           0.8588235294117647,
           "rgba(250, 194, 40, 1.000)"
          ],
          [
           0.8627450980392157,
           "rgba(250, 196, 42, 1.000)"
          ],
          [
           0.8666666666666667,
           "rgba(250, 198, 45, 1.000)"
          ],
          [
           0.8705882352941177,
           "rgba(249, 199, 47, 1.000)"
          ],
          [
           0.8745098039215686,
           "rgba(249, 201, 50, 1.000)"
          ],
          [
           0.8784313725490196,
           "rgba(249, 203, 53, 1.000)"
          ],
          [
           0.8823529411764706,
           "rgba(248, 205, 55, 1.000)"
          ],
          [
           0.8862745098039215,
           "rgba(248, 207, 58, 1.000)"
          ],
          [
           0.8901960784313725,
           "rgba(247, 209, 61, 1.000)"
          ],
          [
           0.8941176470588236,
           "rgba(247, 211, 64, 1.000)"
          ],
          [
           0.8980392156862745,
           "rgba(246, 213, 67, 1.000)"
          ],
          [
           0.9019607843137255,
           "rgba(246, 215, 70, 1.000)"
          ],
          [
           0.9058823529411765,
           "rgba(245, 217, 73, 1.000)"
          ],
          [
           0.9098039215686274,
           "rgba(245, 219, 76, 1.000)"
          ],
          [
           0.9137254901960784,
           "rgba(244, 221, 79, 1.000)"
          ],
          [
           0.9176470588235294,
           "rgba(244, 223, 83, 1.000)"
          ],
          [
           0.9215686274509803,
           "rgba(244, 225, 86, 1.000)"
          ],
          [
           0.9254901960784314,
           "rgba(243, 227, 90, 1.000)"
          ],
          [
           0.9294117647058824,
           "rgba(243, 229, 93, 1.000)"
          ],
          [
           0.9333333333333333,
           "rgba(242, 230, 97, 1.000)"
          ],
          [
           0.9372549019607843,
           "rgba(242, 232, 101, 1.000)"
          ],
          [
           0.9411764705882353,
           "rgba(242, 234, 105, 1.000)"
          ],
          [
           0.9450980392156862,
           "rgba(241, 236, 109, 1.000)"
          ],
          [
           0.9490196078431372,
           "rgba(241, 237, 113, 1.000)"
          ],
          [
           0.9529411764705882,
           "rgba(241, 239, 117, 1.000)"
          ],
          [
           0.9568627450980393,
           "rgba(241, 241, 121, 1.000)"
          ],
          [
           0.9607843137254902,
           "rgba(242, 242, 125, 1.000)"
          ],
          [
           0.9647058823529412,
           "rgba(242, 244, 130, 1.000)"
          ],
          [
           0.9686274509803922,
           "rgba(243, 245, 134, 1.000)"
          ],
          [
           0.9725490196078431,
           "rgba(243, 246, 138, 1.000)"
          ],
          [
           0.9764705882352941,
           "rgba(244, 248, 142, 1.000)"
          ],
          [
           0.9803921568627451,
           "rgba(245, 249, 146, 1.000)"
          ],
          [
           0.984313725490196,
           "rgba(246, 250, 150, 1.000)"
          ],
          [
           0.9882352941176471,
           "rgba(248, 251, 154, 1.000)"
          ],
          [
           0.9921568627450981,
           "rgba(249, 252, 157, 1.000)"
          ],
          [
           0.996078431372549,
           "rgba(250, 253, 161, 1.000)"
          ],
          [
           1,
           "rgba(252, 255, 164, 1.000)"
          ]
         ],
         "hoverinfo": "none",
         "name": "y1",
         "showlegend": false,
         "showscale": false,
         "type": "heatmap",
         "x": [
          0.5,
          1.5,
          2.5,
          3.5,
          4.5,
          5.5,
          6.5,
          7.5,
          8.5,
          9.5,
          10.5
         ],
         "xaxis": "x4",
         "y": [
          0.5,
          1.5
         ],
         "yaxis": "y4",
         "z": [
          [
           null,
           null,
           null,
           null,
           null,
           null,
           null,
           null,
           null,
           null
          ]
         ],
         "zmax": 100,
         "zmin": 0
        },
        {
         "colorbar": {
          "title": ""
         },
         "colorscale": [
          [
           0,
           "rgba(0, 0, 4, 1.000)"
          ],
          [
           0.00392156862745098,
           "rgba(1, 0, 5, 1.000)"
          ],
          [
           0.00784313725490196,
           "rgba(1, 1, 6, 1.000)"
          ],
          [
           0.011764705882352941,
           "rgba(1, 1, 8, 1.000)"
          ],
          [
           0.01568627450980392,
           "rgba(2, 1, 10, 1.000)"
          ],
          [
           0.0196078431372549,
           "rgba(2, 2, 12, 1.000)"
          ],
          [
           0.023529411764705882,
           "rgba(2, 2, 14, 1.000)"
          ],
          [
           0.027450980392156862,
           "rgba(3, 2, 16, 1.000)"
          ],
          [
           0.03137254901960784,
           "rgba(4, 3, 18, 1.000)"
          ],
          [
           0.03529411764705882,
           "rgba(4, 3, 20, 1.000)"
          ],
          [
           0.0392156862745098,
           "rgba(5, 4, 23, 1.000)"
          ],
          [
           0.043137254901960784,
           "rgba(6, 4, 25, 1.000)"
          ],
          [
           0.047058823529411764,
           "rgba(7, 5, 27, 1.000)"
          ],
          [
           0.050980392156862744,
           "rgba(8, 5, 29, 1.000)"
          ],
          [
           0.054901960784313725,
           "rgba(9, 6, 31, 1.000)"
          ],
          [
           0.058823529411764705,
           "rgba(10, 7, 34, 1.000)"
          ],
          [
           0.06274509803921569,
           "rgba(11, 7, 36, 1.000)"
          ],
          [
           0.06666666666666667,
           "rgba(12, 8, 38, 1.000)"
          ],
          [
           0.07058823529411765,
           "rgba(13, 8, 41, 1.000)"
          ],
          [
           0.07450980392156863,
           "rgba(14, 9, 43, 1.000)"
          ],
          [
           0.0784313725490196,
           "rgba(16, 9, 45, 1.000)"
          ],
          [
           0.08235294117647059,
           "rgba(17, 10, 48, 1.000)"
          ],
          [
           0.08627450980392157,
           "rgba(18, 10, 50, 1.000)"
          ],
          [
           0.09019607843137255,
           "rgba(20, 11, 52, 1.000)"
          ],
          [
           0.09411764705882353,
           "rgba(21, 11, 55, 1.000)"
          ],
          [
           0.09803921568627451,
           "rgba(22, 11, 57, 1.000)"
          ],
          [
           0.10196078431372549,
           "rgba(24, 12, 60, 1.000)"
          ],
          [
           0.10588235294117647,
           "rgba(25, 12, 62, 1.000)"
          ],
          [
           0.10980392156862745,
           "rgba(27, 12, 65, 1.000)"
          ],
          [
           0.11372549019607843,
           "rgba(28, 12, 67, 1.000)"
          ],
          [
           0.11764705882352941,
           "rgba(30, 12, 69, 1.000)"
          ],
          [
           0.12156862745098039,
           "rgba(31, 12, 72, 1.000)"
          ],
          [
           0.12549019607843137,
           "rgba(33, 12, 74, 1.000)"
          ],
          [
           0.12941176470588237,
           "rgba(35, 12, 76, 1.000)"
          ],
          [
           0.13333333333333333,
           "rgba(36, 12, 79, 1.000)"
          ],
          [
           0.13725490196078433,
           "rgba(38, 12, 81, 1.000)"
          ],
          [
           0.1411764705882353,
           "rgba(40, 11, 83, 1.000)"
          ],
          [
           0.1450980392156863,
           "rgba(41, 11, 85, 1.000)"
          ],
          [
           0.14901960784313725,
           "rgba(43, 11, 87, 1.000)"
          ],
          [
           0.15294117647058825,
           "rgba(45, 11, 89, 1.000)"
          ],
          [
           0.1568627450980392,
           "rgba(47, 10, 91, 1.000)"
          ],
          [
           0.1607843137254902,
           "rgba(49, 10, 92, 1.000)"
          ],
          [
           0.16470588235294117,
           "rgba(50, 10, 94, 1.000)"
          ],
          [
           0.16862745098039217,
           "rgba(52, 10, 95, 1.000)"
          ],
          [
           0.17254901960784313,
           "rgba(54, 9, 97, 1.000)"
          ],
          [
           0.17647058823529413,
           "rgba(56, 9, 98, 1.000)"
          ],
          [
           0.1803921568627451,
           "rgba(57, 9, 99, 1.000)"
          ],
          [
           0.1843137254901961,
           "rgba(59, 9, 100, 1.000)"
          ],
          [
           0.18823529411764706,
           "rgba(61, 9, 101, 1.000)"
          ],
          [
           0.19215686274509805,
           "rgba(62, 9, 102, 1.000)"
          ],
          [
           0.19607843137254902,
           "rgba(64, 10, 103, 1.000)"
          ],
          [
           0.2,
           "rgba(66, 10, 104, 1.000)"
          ],
          [
           0.20392156862745098,
           "rgba(68, 10, 104, 1.000)"
          ],
          [
           0.20784313725490197,
           "rgba(69, 10, 105, 1.000)"
          ],
          [
           0.21176470588235294,
           "rgba(71, 11, 106, 1.000)"
          ],
          [
           0.21568627450980393,
           "rgba(73, 11, 106, 1.000)"
          ],
          [
           0.2196078431372549,
           "rgba(74, 12, 107, 1.000)"
          ],
          [
           0.2235294117647059,
           "rgba(76, 12, 107, 1.000)"
          ],
          [
           0.22745098039215686,
           "rgba(77, 13, 108, 1.000)"
          ],
          [
           0.23137254901960785,
           "rgba(79, 13, 108, 1.000)"
          ],
          [
           0.23529411764705882,
           "rgba(81, 14, 108, 1.000)"
          ],
          [
           0.23921568627450981,
           "rgba(82, 14, 109, 1.000)"
          ],
          [
           0.24313725490196078,
           "rgba(84, 15, 109, 1.000)"
          ],
          [
           0.24705882352941178,
           "rgba(85, 15, 109, 1.000)"
          ],
          [
           0.25098039215686274,
           "rgba(87, 16, 110, 1.000)"
          ],
          [
           0.2549019607843137,
           "rgba(89, 16, 110, 1.000)"
          ],
          [
           0.25882352941176473,
           "rgba(90, 17, 110, 1.000)"
          ],
          [
           0.2627450980392157,
           "rgba(92, 18, 110, 1.000)"
          ],
          [
           0.26666666666666666,
           "rgba(93, 18, 110, 1.000)"
          ],
          [
           0.27058823529411763,
           "rgba(95, 19, 110, 1.000)"
          ],
          [
           0.27450980392156865,
           "rgba(97, 19, 110, 1.000)"
          ],
          [
           0.2784313725490196,
           "rgba(98, 20, 110, 1.000)"
          ],
          [
           0.2823529411764706,
           "rgba(100, 21, 110, 1.000)"
          ],
          [
           0.28627450980392155,
           "rgba(101, 21, 110, 1.000)"
          ],
          [
           0.2901960784313726,
           "rgba(103, 22, 110, 1.000)"
          ],
          [
           0.29411764705882354,
           "rgba(105, 22, 110, 1.000)"
          ],
          [
           0.2980392156862745,
           "rgba(106, 23, 110, 1.000)"
          ],
          [
           0.30196078431372547,
           "rgba(108, 24, 110, 1.000)"
          ],
          [
           0.3058823529411765,
           "rgba(109, 24, 110, 1.000)"
          ],
          [
           0.30980392156862746,
           "rgba(111, 25, 110, 1.000)"
          ],
          [
           0.3137254901960784,
           "rgba(113, 25, 110, 1.000)"
          ],
          [
           0.3176470588235294,
           "rgba(114, 26, 110, 1.000)"
          ],
          [
           0.3215686274509804,
           "rgba(116, 26, 110, 1.000)"
          ],
          [
           0.3254901960784314,
           "rgba(117, 27, 110, 1.000)"
          ],
          [
           0.32941176470588235,
           "rgba(119, 28, 109, 1.000)"
          ],
          [
           0.3333333333333333,
           "rgba(120, 28, 109, 1.000)"
          ],
          [
           0.33725490196078434,
           "rgba(122, 29, 109, 1.000)"
          ],
          [
           0.3411764705882353,
           "rgba(124, 29, 109, 1.000)"
          ],
          [
           0.34509803921568627,
           "rgba(125, 30, 109, 1.000)"
          ],
          [
           0.34901960784313724,
           "rgba(127, 30, 108, 1.000)"
          ],
          [
           0.35294117647058826,
           "rgba(128, 31, 108, 1.000)"
          ],
          [
           0.3568627450980392,
           "rgba(130, 32, 108, 1.000)"
          ],
          [
           0.3607843137254902,
           "rgba(132, 32, 107, 1.000)"
          ],
          [
           0.36470588235294116,
           "rgba(133, 33, 107, 1.000)"
          ],
          [
           0.3686274509803922,
           "rgba(135, 33, 107, 1.000)"
          ],
          [
           0.37254901960784315,
           "rgba(136, 34, 106, 1.000)"
          ],
          [
           0.3764705882352941,
           "rgba(138, 34, 106, 1.000)"
          ],
          [
           0.3803921568627451,
           "rgba(140, 35, 105, 1.000)"
          ],
          [
           0.3843137254901961,
           "rgba(141, 35, 105, 1.000)"
          ],
          [
           0.38823529411764707,
           "rgba(143, 36, 105, 1.000)"
          ],
          [
           0.39215686274509803,
           "rgba(144, 37, 104, 1.000)"
          ],
          [
           0.396078431372549,
           "rgba(146, 37, 104, 1.000)"
          ],
          [
           0.4,
           "rgba(147, 38, 103, 1.000)"
          ],
          [
           0.403921568627451,
           "rgba(149, 38, 103, 1.000)"
          ],
          [
           0.40784313725490196,
           "rgba(151, 39, 102, 1.000)"
          ],
          [
           0.4117647058823529,
           "rgba(152, 39, 102, 1.000)"
          ],
          [
           0.41568627450980394,
           "rgba(154, 40, 101, 1.000)"
          ],
          [
           0.4196078431372549,
           "rgba(155, 41, 100, 1.000)"
          ],
          [
           0.4235294117647059,
           "rgba(157, 41, 100, 1.000)"
          ],
          [
           0.42745098039215684,
           "rgba(159, 42, 99, 1.000)"
          ],
          [
           0.43137254901960786,
           "rgba(160, 42, 99, 1.000)"
          ],
          [
           0.43529411764705883,
           "rgba(162, 43, 98, 1.000)"
          ],
          [
           0.4392156862745098,
           "rgba(163, 44, 97, 1.000)"
          ],
          [
           0.44313725490196076,
           "rgba(165, 44, 96, 1.000)"
          ],
          [
           0.4470588235294118,
           "rgba(166, 45, 96, 1.000)"
          ],
          [
           0.45098039215686275,
           "rgba(168, 46, 95, 1.000)"
          ],
          [
           0.4549019607843137,
           "rgba(169, 46, 94, 1.000)"
          ],
          [
           0.4588235294117647,
           "rgba(171, 47, 94, 1.000)"
          ],
          [
           0.4627450980392157,
           "rgba(173, 48, 93, 1.000)"
          ],
          [
           0.4666666666666667,
           "rgba(174, 48, 92, 1.000)"
          ],
          [
           0.47058823529411764,
           "rgba(176, 49, 91, 1.000)"
          ],
          [
           0.4745098039215686,
           "rgba(177, 50, 90, 1.000)"
          ],
          [
           0.47843137254901963,
           "rgba(179, 50, 90, 1.000)"
          ],
          [
           0.4823529411764706,
           "rgba(180, 51, 89, 1.000)"
          ],
          [
           0.48627450980392156,
           "rgba(182, 52, 88, 1.000)"
          ],
          [
           0.49019607843137253,
           "rgba(183, 53, 87, 1.000)"
          ],
          [
           0.49411764705882355,
           "rgba(185, 53, 86, 1.000)"
          ],
          [
           0.4980392156862745,
           "rgba(186, 54, 85, 1.000)"
          ],
          [
           0.5019607843137255,
           "rgba(188, 55, 84, 1.000)"
          ],
          [
           0.5058823529411764,
           "rgba(189, 56, 83, 1.000)"
          ],
          [
           0.5098039215686274,
           "rgba(191, 57, 82, 1.000)"
          ],
          [
           0.5137254901960784,
           "rgba(192, 58, 81, 1.000)"
          ],
          [
           0.5176470588235295,
           "rgba(193, 58, 80, 1.000)"
          ],
          [
           0.5215686274509804,
           "rgba(195, 59, 79, 1.000)"
          ],
          [
           0.5254901960784314,
           "rgba(196, 60, 78, 1.000)"
          ],
          [
           0.5294117647058824,
           "rgba(198, 61, 77, 1.000)"
          ],
          [
           0.5333333333333333,
           "rgba(199, 62, 76, 1.000)"
          ],
          [
           0.5372549019607843,
           "rgba(200, 63, 75, 1.000)"
          ],
          [
           0.5411764705882353,
           "rgba(202, 64, 74, 1.000)"
          ],
          [
           0.5450980392156862,
           "rgba(203, 65, 73, 1.000)"
          ],
          [
           0.5490196078431373,
           "rgba(204, 66, 72, 1.000)"
          ],
          [
           0.5529411764705883,
           "rgba(206, 67, 71, 1.000)"
          ],
          [
           0.5568627450980392,
           "rgba(207, 68, 70, 1.000)"
          ],
          [
           0.5607843137254902,
           "rgba(208, 69, 69, 1.000)"
          ],
          [
           0.5647058823529412,
           "rgba(210, 70, 68, 1.000)"
          ],
          [
           0.5686274509803921,
           "rgba(211, 71, 67, 1.000)"
          ],
          [
           0.5725490196078431,
           "rgba(212, 72, 66, 1.000)"
          ],
          [
           0.5764705882352941,
           "rgba(213, 74, 65, 1.000)"
          ],
          [
           0.5803921568627451,
           "rgba(215, 75, 63, 1.000)"
          ],
          [
           0.5843137254901961,
           "rgba(216, 76, 62, 1.000)"
          ],
          [
           0.5882352941176471,
           "rgba(217, 77, 61, 1.000)"
          ],
          [
           0.592156862745098,
           "rgba(218, 78, 60, 1.000)"
          ],
          [
           0.596078431372549,
           "rgba(219, 80, 59, 1.000)"
          ],
          [
           0.6,
           "rgba(221, 81, 58, 1.000)"
          ],
          [
           0.6039215686274509,
           "rgba(222, 82, 56, 1.000)"
          ],
          [
           0.6078431372549019,
           "rgba(223, 83, 55, 1.000)"
          ],
          [
           0.611764705882353,
           "rgba(224, 85, 54, 1.000)"
          ],
          [
           0.615686274509804,
           "rgba(225, 86, 53, 1.000)"
          ],
          [
           0.6196078431372549,
           "rgba(226, 87, 52, 1.000)"
          ],
          [
           0.6235294117647059,
           "rgba(227, 89, 51, 1.000)"
          ],
          [
           0.6274509803921569,
           "rgba(228, 90, 49, 1.000)"
          ],
          [
           0.6313725490196078,
           "rgba(229, 92, 48, 1.000)"
          ],
          [
           0.6352941176470588,
           "rgba(230, 93, 47, 1.000)"
          ],
          [
           0.6392156862745098,
           "rgba(231, 94, 46, 1.000)"
          ],
          [
           0.6431372549019608,
           "rgba(232, 96, 45, 1.000)"
          ],
          [
           0.6470588235294118,
           "rgba(233, 97, 43, 1.000)"
          ],
          [
           0.6509803921568628,
           "rgba(234, 99, 42, 1.000)"
          ],
          [
           0.6549019607843137,
           "rgba(235, 100, 41, 1.000)"
          ],
          [
           0.6588235294117647,
           "rgba(235, 102, 40, 1.000)"
          ],
          [
           0.6627450980392157,
           "rgba(236, 103, 38, 1.000)"
          ],
          [
           0.6666666666666666,
           "rgba(237, 105, 37, 1.000)"
          ],
          [
           0.6705882352941176,
           "rgba(238, 106, 36, 1.000)"
          ],
          [
           0.6745098039215687,
           "rgba(239, 108, 35, 1.000)"
          ],
          [
           0.6784313725490196,
           "rgba(239, 110, 33, 1.000)"
          ],
          [
           0.6823529411764706,
           "rgba(240, 111, 32, 1.000)"
          ],
          [
           0.6862745098039216,
           "rgba(241, 113, 31, 1.000)"
          ],
          [
           0.6901960784313725,
           "rgba(241, 115, 29, 1.000)"
          ],
          [
           0.6941176470588235,
           "rgba(242, 116, 28, 1.000)"
          ],
          [
           0.6980392156862745,
           "rgba(243, 118, 27, 1.000)"
          ],
          [
           0.7019607843137254,
           "rgba(243, 120, 25, 1.000)"
          ],
          [
           0.7058823529411765,
           "rgba(244, 121, 24, 1.000)"
          ],
          [
           0.7098039215686275,
           "rgba(245, 123, 23, 1.000)"
          ],
          [
           0.7137254901960784,
           "rgba(245, 125, 21, 1.000)"
          ],
          [
           0.7176470588235294,
           "rgba(246, 126, 20, 1.000)"
          ],
          [
           0.7215686274509804,
           "rgba(246, 128, 19, 1.000)"
          ],
          [
           0.7254901960784313,
           "rgba(247, 130, 18, 1.000)"
          ],
          [
           0.7294117647058823,
           "rgba(247, 132, 16, 1.000)"
          ],
          [
           0.7333333333333333,
           "rgba(248, 133, 15, 1.000)"
          ],
          [
           0.7372549019607844,
           "rgba(248, 135, 14, 1.000)"
          ],
          [
           0.7411764705882353,
           "rgba(248, 137, 12, 1.000)"
          ],
          [
           0.7450980392156863,
           "rgba(249, 139, 11, 1.000)"
          ],
          [
           0.7490196078431373,
           "rgba(249, 140, 10, 1.000)"
          ],
          [
           0.7529411764705882,
           "rgba(249, 142, 9, 1.000)"
          ],
          [
           0.7568627450980392,
           "rgba(250, 144, 8, 1.000)"
          ],
          [
           0.7607843137254902,
           "rgba(250, 146, 7, 1.000)"
          ],
          [
           0.7647058823529411,
           "rgba(250, 148, 7, 1.000)"
          ],
          [
           0.7686274509803922,
           "rgba(251, 150, 6, 1.000)"
          ],
          [
           0.7725490196078432,
           "rgba(251, 151, 6, 1.000)"
          ],
          [
           0.7764705882352941,
           "rgba(251, 153, 6, 1.000)"
          ],
          [
           0.7803921568627451,
           "rgba(251, 155, 6, 1.000)"
          ],
          [
           0.7843137254901961,
           "rgba(251, 157, 7, 1.000)"
          ],
          [
           0.788235294117647,
           "rgba(252, 159, 7, 1.000)"
          ],
          [
           0.792156862745098,
           "rgba(252, 161, 8, 1.000)"
          ],
          [
           0.796078431372549,
           "rgba(252, 163, 9, 1.000)"
          ],
          [
           0.8,
           "rgba(252, 165, 10, 1.000)"
          ],
          [
           0.803921568627451,
           "rgba(252, 166, 12, 1.000)"
          ],
          [
           0.807843137254902,
           "rgba(252, 168, 13, 1.000)"
          ],
          [
           0.8117647058823529,
           "rgba(252, 170, 15, 1.000)"
          ],
          [
           0.8156862745098039,
           "rgba(252, 172, 17, 1.000)"
          ],
          [
           0.8196078431372549,
           "rgba(252, 174, 18, 1.000)"
          ],
          [
           0.8235294117647058,
           "rgba(252, 176, 20, 1.000)"
          ],
          [
           0.8274509803921568,
           "rgba(252, 178, 22, 1.000)"
          ],
          [
           0.8313725490196079,
           "rgba(252, 180, 24, 1.000)"
          ],
          [
           0.8352941176470589,
           "rgba(251, 182, 26, 1.000)"
          ],
          [
           0.8392156862745098,
           "rgba(251, 184, 29, 1.000)"
          ],
          [
           0.8431372549019608,
           "rgba(251, 186, 31, 1.000)"
          ],
          [
           0.8470588235294118,
           "rgba(251, 188, 33, 1.000)"
          ],
          [
           0.8509803921568627,
           "rgba(251, 190, 35, 1.000)"
          ],
          [
           0.8549019607843137,
           "rgba(250, 192, 38, 1.000)"
          ],
          [
           0.8588235294117647,
           "rgba(250, 194, 40, 1.000)"
          ],
          [
           0.8627450980392157,
           "rgba(250, 196, 42, 1.000)"
          ],
          [
           0.8666666666666667,
           "rgba(250, 198, 45, 1.000)"
          ],
          [
           0.8705882352941177,
           "rgba(249, 199, 47, 1.000)"
          ],
          [
           0.8745098039215686,
           "rgba(249, 201, 50, 1.000)"
          ],
          [
           0.8784313725490196,
           "rgba(249, 203, 53, 1.000)"
          ],
          [
           0.8823529411764706,
           "rgba(248, 205, 55, 1.000)"
          ],
          [
           0.8862745098039215,
           "rgba(248, 207, 58, 1.000)"
          ],
          [
           0.8901960784313725,
           "rgba(247, 209, 61, 1.000)"
          ],
          [
           0.8941176470588236,
           "rgba(247, 211, 64, 1.000)"
          ],
          [
           0.8980392156862745,
           "rgba(246, 213, 67, 1.000)"
          ],
          [
           0.9019607843137255,
           "rgba(246, 215, 70, 1.000)"
          ],
          [
           0.9058823529411765,
           "rgba(245, 217, 73, 1.000)"
          ],
          [
           0.9098039215686274,
           "rgba(245, 219, 76, 1.000)"
          ],
          [
           0.9137254901960784,
           "rgba(244, 221, 79, 1.000)"
          ],
          [
           0.9176470588235294,
           "rgba(244, 223, 83, 1.000)"
          ],
          [
           0.9215686274509803,
           "rgba(244, 225, 86, 1.000)"
          ],
          [
           0.9254901960784314,
           "rgba(243, 227, 90, 1.000)"
          ],
          [
           0.9294117647058824,
           "rgba(243, 229, 93, 1.000)"
          ],
          [
           0.9333333333333333,
           "rgba(242, 230, 97, 1.000)"
          ],
          [
           0.9372549019607843,
           "rgba(242, 232, 101, 1.000)"
          ],
          [
           0.9411764705882353,
           "rgba(242, 234, 105, 1.000)"
          ],
          [
           0.9450980392156862,
           "rgba(241, 236, 109, 1.000)"
          ],
          [
           0.9490196078431372,
           "rgba(241, 237, 113, 1.000)"
          ],
          [
           0.9529411764705882,
           "rgba(241, 239, 117, 1.000)"
          ],
          [
           0.9568627450980393,
           "rgba(241, 241, 121, 1.000)"
          ],
          [
           0.9607843137254902,
           "rgba(242, 242, 125, 1.000)"
          ],
          [
           0.9647058823529412,
           "rgba(242, 244, 130, 1.000)"
          ],
          [
           0.9686274509803922,
           "rgba(243, 245, 134, 1.000)"
          ],
          [
           0.9725490196078431,
           "rgba(243, 246, 138, 1.000)"
          ],
          [
           0.9764705882352941,
           "rgba(244, 248, 142, 1.000)"
          ],
          [
           0.9803921568627451,
           "rgba(245, 249, 146, 1.000)"
          ],
          [
           0.984313725490196,
           "rgba(246, 250, 150, 1.000)"
          ],
          [
           0.9882352941176471,
           "rgba(248, 251, 154, 1.000)"
          ],
          [
           0.9921568627450981,
           "rgba(249, 252, 157, 1.000)"
          ],
          [
           0.996078431372549,
           "rgba(250, 253, 161, 1.000)"
          ],
          [
           1,
           "rgba(252, 255, 164, 1.000)"
          ]
         ],
         "hoverinfo": "none",
         "name": "y1",
         "showlegend": false,
         "showscale": false,
         "type": "heatmap",
         "x": [
          0.5,
          1.5,
          2.5,
          3.5,
          4.5,
          5.5,
          6.5,
          7.5,
          8.5,
          9.5,
          10.5
         ],
         "xaxis": "x5",
         "y": [
          0.5,
          1.5
         ],
         "yaxis": "y5",
         "z": [
          [
           null,
           null,
           null,
           null,
           null,
           null,
           null,
           null,
           null,
           null
          ]
         ],
         "zmax": 100,
         "zmin": 0
        }
       ],
       "layout": {
        "annotations": [
         {
          "font": {
           "color": "rgba(0, 0, 0, 1.000)",
           "family": "sans-serif",
           "size": 11
          },
          "rotation": 0,
          "showarrow": false,
          "text": "t = 1",
          "x": 0.1,
          "xanchor": "center",
          "xref": "paper",
          "y": 1,
          "yanchor": "top",
          "yref": "paper"
         },
         {
          "font": {
           "color": "rgba(0, 0, 0, 1.000)",
           "family": "sans-serif",
           "size": 11
          },
          "rotation": 0,
          "showarrow": false,
          "text": "t = 10",
          "x": 0.3,
          "xanchor": "center",
          "xref": "paper",
          "y": 1,
          "yanchor": "top",
          "yref": "paper"
         },
         {
          "font": {
           "color": "rgba(0, 0, 0, 1.000)",
           "family": "sans-serif",
           "size": 11
          },
          "rotation": 0,
          "showarrow": false,
          "text": "t = 20",
          "x": 0.5,
          "xanchor": "center",
          "xref": "paper",
          "y": 1,
          "yanchor": "top",
          "yref": "paper"
         },
         {
          "font": {
           "color": "rgba(0, 0, 0, 1.000)",
           "family": "sans-serif",
           "size": 11
          },
          "rotation": 0,
          "showarrow": false,
          "text": "t = 30",
          "x": 0.7000000000000001,
          "xanchor": "center",
          "xref": "paper",
          "y": 1,
          "yanchor": "top",
          "yref": "paper"
         },
         {
          "font": {
           "color": "rgba(0, 0, 0, 1.000)",
           "family": "sans-serif",
           "size": 11
          },
          "rotation": 0,
          "showarrow": false,
          "text": "t = 100",
          "x": 0.9000000000000001,
          "xanchor": "center",
          "xref": "paper",
          "y": 1,
          "yanchor": "top",
          "yref": "paper"
         }
        ],
        "height": 200,
        "legend": {
         "bgcolor": "rgba(255, 255, 255, 1.000)",
         "bordercolor": "rgba(0, 0, 0, 1.000)",
         "borderwidth": 1,
         "font": {
          "color": "rgba(0, 0, 0, 1.000)",
          "family": "sans-serif",
          "size": 11
         },
         "title": {
          "font": {
           "color": "rgba(0, 0, 0, 1.000)",
           "family": "sans-serif",
           "size": 15
          },
          "text": ""
         },
         "tracegroupgap": 0,
         "traceorder": "normal",
         "x": 1,
         "xanchor": "auto",
         "y": 1,
         "yanchor": "auto"
        },
        "margin": {
         "b": 20,
         "l": 0,
         "r": 0,
         "t": 20
        },
        "paper_bgcolor": "rgba(255, 255, 255, 1.000)",
        "plot_bgcolor": "rgba(255, 255, 255, 1.000)",
        "showlegend": true,
        "width": 1000,
        "xaxis1": {
         "anchor": "y1",
         "domain": [
          0.003937007874015748,
          0.19606299212598427
         ],
         "gridcolor": "rgba(0, 0, 0, 0.100)",
         "gridwidth": 0.5,
         "linecolor": "rgba(0, 0, 0, 1.000)",
         "mirror": false,
         "range": [
          0.5,
          10.5
         ],
         "showgrid": false,
         "showline": true,
         "showticklabels": false,
         "tickangle": 0,
         "ticks": "inside",
         "title": "",
         "type": "-",
         "visible": true,
         "zeroline": false,
         "zerolinecolor": "rgba(0, 0, 0, 1.000)"
        },
        "xaxis2": {
         "anchor": "y2",
         "domain": [
          0.20393700787401575,
          0.3960629921259843
         ],
         "gridcolor": "rgba(0, 0, 0, 0.100)",
         "gridwidth": 0.5,
         "linecolor": "rgba(0, 0, 0, 1.000)",
         "mirror": false,
         "range": [
          0.5,
          10.5
         ],
         "showgrid": false,
         "showline": true,
         "showticklabels": false,
         "tickangle": 0,
         "ticks": "inside",
         "title": "",
         "type": "-",
         "visible": true,
         "zeroline": false,
         "zerolinecolor": "rgba(0, 0, 0, 1.000)"
        },
        "xaxis3": {
         "anchor": "y3",
         "domain": [
          0.40393700787401576,
          0.5960629921259843
         ],
         "gridcolor": "rgba(0, 0, 0, 0.100)",
         "gridwidth": 0.5,
         "linecolor": "rgba(0, 0, 0, 1.000)",
         "mirror": false,
         "range": [
          0.5,
          10.5
         ],
         "showgrid": false,
         "showline": true,
         "showticklabels": false,
         "tickangle": 0,
         "ticks": "inside",
         "title": "",
         "type": "-",
         "visible": true,
         "zeroline": false,
         "zerolinecolor": "rgba(0, 0, 0, 1.000)"
        },
        "xaxis4": {
         "anchor": "y4",
         "domain": [
          0.6039370078740157,
          0.7960629921259843
         ],
         "gridcolor": "rgba(0, 0, 0, 0.100)",
         "gridwidth": 0.5,
         "linecolor": "rgba(0, 0, 0, 1.000)",
         "mirror": false,
         "range": [
          0.5,
          10.5
         ],
         "showgrid": false,
         "showline": true,
         "showticklabels": false,
         "tickangle": 0,
         "ticks": "inside",
         "title": "",
         "type": "-",
         "visible": true,
         "zeroline": false,
         "zerolinecolor": "rgba(0, 0, 0, 1.000)"
        },
        "xaxis5": {
         "anchor": "y5",
         "domain": [
          0.8039370078740158,
          0.9960629921259843
         ],
         "gridcolor": "rgba(0, 0, 0, 0.100)",
         "gridwidth": 0.5,
         "linecolor": "rgba(0, 0, 0, 1.000)",
         "mirror": false,
         "range": [
          0.5,
          10.5
         ],
         "showgrid": false,
         "showline": true,
         "showticklabels": false,
         "tickangle": 0,
         "ticks": "inside",
         "title": "",
         "type": "-",
         "visible": true,
         "zeroline": false,
         "zerolinecolor": "rgba(0, 0, 0, 1.000)"
        },
        "yaxis1": {
         "anchor": "x1",
         "domain": [
          0.01968503937007874,
          0.9247594050743656
         ],
         "gridcolor": "rgba(0, 0, 0, 0.100)",
         "gridwidth": 0.5,
         "linecolor": "rgba(0, 0, 0, 1.000)",
         "mirror": false,
         "range": [
          0.5,
          1.5
         ],
         "showgrid": false,
         "showline": true,
         "showticklabels": false,
         "tickangle": 0,
         "ticks": "inside",
         "title": "",
         "type": "-",
         "visible": true,
         "zeroline": false,
         "zerolinecolor": "rgba(0, 0, 0, 1.000)"
        },
        "yaxis2": {
         "anchor": "x2",
         "domain": [
          0.01968503937007874,
          0.9247594050743656
         ],
         "gridcolor": "rgba(0, 0, 0, 0.100)",
         "gridwidth": 0.5,
         "linecolor": "rgba(0, 0, 0, 1.000)",
         "mirror": false,
         "range": [
          0.5,
          1.5
         ],
         "showgrid": false,
         "showline": true,
         "showticklabels": false,
         "tickangle": 0,
         "ticks": "inside",
         "title": "",
         "type": "-",
         "visible": true,
         "zeroline": false,
         "zerolinecolor": "rgba(0, 0, 0, 1.000)"
        },
        "yaxis3": {
         "anchor": "x3",
         "domain": [
          0.01968503937007874,
          0.9247594050743656
         ],
         "gridcolor": "rgba(0, 0, 0, 0.100)",
         "gridwidth": 0.5,
         "linecolor": "rgba(0, 0, 0, 1.000)",
         "mirror": false,
         "range": [
          0.5,
          1.5
         ],
         "showgrid": false,
         "showline": true,
         "showticklabels": false,
         "tickangle": 0,
         "ticks": "inside",
         "title": "",
         "type": "-",
         "visible": true,
         "zeroline": false,
         "zerolinecolor": "rgba(0, 0, 0, 1.000)"
        },
        "yaxis4": {
         "anchor": "x4",
         "domain": [
          0.01968503937007874,
          0.9247594050743656
         ],
         "gridcolor": "rgba(0, 0, 0, 0.100)",
         "gridwidth": 0.5,
         "linecolor": "rgba(0, 0, 0, 1.000)",
         "mirror": false,
         "range": [
          0.5,
          1.5
         ],
         "showgrid": false,
         "showline": true,
         "showticklabels": false,
         "tickangle": 0,
         "ticks": "inside",
         "title": "",
         "type": "-",
         "visible": true,
         "zeroline": false,
         "zerolinecolor": "rgba(0, 0, 0, 1.000)"
        },
        "yaxis5": {
         "anchor": "x5",
         "domain": [
          0.01968503937007874,
          0.9247594050743656
         ],
         "gridcolor": "rgba(0, 0, 0, 0.100)",
         "gridwidth": 0.5,
         "linecolor": "rgba(0, 0, 0, 1.000)",
         "mirror": false,
         "range": [
          0.5,
          1.5
         ],
         "showgrid": false,
         "showline": true,
         "showticklabels": false,
         "tickangle": 0,
         "ticks": "inside",
         "title": "",
         "type": "-",
         "visible": true,
         "zeroline": false,
         "zerolinecolor": "rgba(0, 0, 0, 1.000)"
        }
       }
      },
      "text/html": [
       "<!DOCTYPE html>\n",
       "<html>\n",
       "    <head>\n",
       "        <title>Plots.jl</title>\n",
       "        <meta http-equiv=\"content-type\" content=\"text/html; charset=UTF-8\">\n",
       "        \n",
       "    </head>\n",
       "    <body>\n",
       "            <div id=\"53de024a-7e0e-40f8-b463-41f38d1c67b9\" style=\"width:1000px;height:200px;\"></div>\n",
       "    <script>\n",
       "        requirejs.config({\n",
       "        paths: {\n",
       "            Plotly: 'https://cdn.plot.ly/plotly-1.57.1.min'\n",
       "        }\n",
       "    });\n",
       "    require(['Plotly'], function (Plotly) {\n",
       "\n",
       "        var PLOT = document.getElementById('53de024a-7e0e-40f8-b463-41f38d1c67b9');\n",
       "    Plotly.plot(PLOT, [\n",
       "    {\n",
       "        \"xaxis\": \"x1\",\n",
       "        \"colorbar\": {\n",
       "            \"title\": \"\"\n",
       "        },\n",
       "        \"colorscale\": [\n",
       "            [\n",
       "                0.0,\n",
       "                \"rgba(0, 0, 4, 1.000)\"\n",
       "            ],\n",
       "            [\n",
       "                0.00392156862745098,\n",
       "                \"rgba(1, 0, 5, 1.000)\"\n",
       "            ],\n",
       "            [\n",
       "                0.00784313725490196,\n",
       "                \"rgba(1, 1, 6, 1.000)\"\n",
       "            ],\n",
       "            [\n",
       "                0.011764705882352941,\n",
       "                \"rgba(1, 1, 8, 1.000)\"\n",
       "            ],\n",
       "            [\n",
       "                0.01568627450980392,\n",
       "                \"rgba(2, 1, 10, 1.000)\"\n",
       "            ],\n",
       "            [\n",
       "                0.0196078431372549,\n",
       "                \"rgba(2, 2, 12, 1.000)\"\n",
       "            ],\n",
       "            [\n",
       "                0.023529411764705882,\n",
       "                \"rgba(2, 2, 14, 1.000)\"\n",
       "            ],\n",
       "            [\n",
       "                0.027450980392156862,\n",
       "                \"rgba(3, 2, 16, 1.000)\"\n",
       "            ],\n",
       "            [\n",
       "                0.03137254901960784,\n",
       "                \"rgba(4, 3, 18, 1.000)\"\n",
       "            ],\n",
       "            [\n",
       "                0.03529411764705882,\n",
       "                \"rgba(4, 3, 20, 1.000)\"\n",
       "            ],\n",
       "            [\n",
       "                0.0392156862745098,\n",
       "                \"rgba(5, 4, 23, 1.000)\"\n",
       "            ],\n",
       "            [\n",
       "                0.043137254901960784,\n",
       "                \"rgba(6, 4, 25, 1.000)\"\n",
       "            ],\n",
       "            [\n",
       "                0.047058823529411764,\n",
       "                \"rgba(7, 5, 27, 1.000)\"\n",
       "            ],\n",
       "            [\n",
       "                0.050980392156862744,\n",
       "                \"rgba(8, 5, 29, 1.000)\"\n",
       "            ],\n",
       "            [\n",
       "                0.054901960784313725,\n",
       "                \"rgba(9, 6, 31, 1.000)\"\n",
       "            ],\n",
       "            [\n",
       "                0.058823529411764705,\n",
       "                \"rgba(10, 7, 34, 1.000)\"\n",
       "            ],\n",
       "            [\n",
       "                0.06274509803921569,\n",
       "                \"rgba(11, 7, 36, 1.000)\"\n",
       "            ],\n",
       "            [\n",
       "                0.06666666666666667,\n",
       "                \"rgba(12, 8, 38, 1.000)\"\n",
       "            ],\n",
       "            [\n",
       "                0.07058823529411765,\n",
       "                \"rgba(13, 8, 41, 1.000)\"\n",
       "            ],\n",
       "            [\n",
       "                0.07450980392156863,\n",
       "                \"rgba(14, 9, 43, 1.000)\"\n",
       "            ],\n",
       "            [\n",
       "                0.0784313725490196,\n",
       "                \"rgba(16, 9, 45, 1.000)\"\n",
       "            ],\n",
       "            [\n",
       "                0.08235294117647059,\n",
       "                \"rgba(17, 10, 48, 1.000)\"\n",
       "            ],\n",
       "            [\n",
       "                0.08627450980392157,\n",
       "                \"rgba(18, 10, 50, 1.000)\"\n",
       "            ],\n",
       "            [\n",
       "                0.09019607843137255,\n",
       "                \"rgba(20, 11, 52, 1.000)\"\n",
       "            ],\n",
       "            [\n",
       "                0.09411764705882353,\n",
       "                \"rgba(21, 11, 55, 1.000)\"\n",
       "            ],\n",
       "            [\n",
       "                0.09803921568627451,\n",
       "                \"rgba(22, 11, 57, 1.000)\"\n",
       "            ],\n",
       "            [\n",
       "                0.10196078431372549,\n",
       "                \"rgba(24, 12, 60, 1.000)\"\n",
       "            ],\n",
       "            [\n",
       "                0.10588235294117647,\n",
       "                \"rgba(25, 12, 62, 1.000)\"\n",
       "            ],\n",
       "            [\n",
       "                0.10980392156862745,\n",
       "                \"rgba(27, 12, 65, 1.000)\"\n",
       "            ],\n",
       "            [\n",
       "                0.11372549019607843,\n",
       "                \"rgba(28, 12, 67, 1.000)\"\n",
       "            ],\n",
       "            [\n",
       "                0.11764705882352941,\n",
       "                \"rgba(30, 12, 69, 1.000)\"\n",
       "            ],\n",
       "            [\n",
       "                0.12156862745098039,\n",
       "                \"rgba(31, 12, 72, 1.000)\"\n",
       "            ],\n",
       "            [\n",
       "                0.12549019607843137,\n",
       "                \"rgba(33, 12, 74, 1.000)\"\n",
       "            ],\n",
       "            [\n",
       "                0.12941176470588237,\n",
       "                \"rgba(35, 12, 76, 1.000)\"\n",
       "            ],\n",
       "            [\n",
       "                0.13333333333333333,\n",
       "                \"rgba(36, 12, 79, 1.000)\"\n",
       "            ],\n",
       "            [\n",
       "                0.13725490196078433,\n",
       "                \"rgba(38, 12, 81, 1.000)\"\n",
       "            ],\n",
       "            [\n",
       "                0.1411764705882353,\n",
       "                \"rgba(40, 11, 83, 1.000)\"\n",
       "            ],\n",
       "            [\n",
       "                0.1450980392156863,\n",
       "                \"rgba(41, 11, 85, 1.000)\"\n",
       "            ],\n",
       "            [\n",
       "                0.14901960784313725,\n",
       "                \"rgba(43, 11, 87, 1.000)\"\n",
       "            ],\n",
       "            [\n",
       "                0.15294117647058825,\n",
       "                \"rgba(45, 11, 89, 1.000)\"\n",
       "            ],\n",
       "            [\n",
       "                0.1568627450980392,\n",
       "                \"rgba(47, 10, 91, 1.000)\"\n",
       "            ],\n",
       "            [\n",
       "                0.1607843137254902,\n",
       "                \"rgba(49, 10, 92, 1.000)\"\n",
       "            ],\n",
       "            [\n",
       "                0.16470588235294117,\n",
       "                \"rgba(50, 10, 94, 1.000)\"\n",
       "            ],\n",
       "            [\n",
       "                0.16862745098039217,\n",
       "                \"rgba(52, 10, 95, 1.000)\"\n",
       "            ],\n",
       "            [\n",
       "                0.17254901960784313,\n",
       "                \"rgba(54, 9, 97, 1.000)\"\n",
       "            ],\n",
       "            [\n",
       "                0.17647058823529413,\n",
       "                \"rgba(56, 9, 98, 1.000)\"\n",
       "            ],\n",
       "            [\n",
       "                0.1803921568627451,\n",
       "                \"rgba(57, 9, 99, 1.000)\"\n",
       "            ],\n",
       "            [\n",
       "                0.1843137254901961,\n",
       "                \"rgba(59, 9, 100, 1.000)\"\n",
       "            ],\n",
       "            [\n",
       "                0.18823529411764706,\n",
       "                \"rgba(61, 9, 101, 1.000)\"\n",
       "            ],\n",
       "            [\n",
       "                0.19215686274509805,\n",
       "                \"rgba(62, 9, 102, 1.000)\"\n",
       "            ],\n",
       "            [\n",
       "                0.19607843137254902,\n",
       "                \"rgba(64, 10, 103, 1.000)\"\n",
       "            ],\n",
       "            [\n",
       "                0.2,\n",
       "                \"rgba(66, 10, 104, 1.000)\"\n",
       "            ],\n",
       "            [\n",
       "                0.20392156862745098,\n",
       "                \"rgba(68, 10, 104, 1.000)\"\n",
       "            ],\n",
       "            [\n",
       "                0.20784313725490197,\n",
       "                \"rgba(69, 10, 105, 1.000)\"\n",
       "            ],\n",
       "            [\n",
       "                0.21176470588235294,\n",
       "                \"rgba(71, 11, 106, 1.000)\"\n",
       "            ],\n",
       "            [\n",
       "                0.21568627450980393,\n",
       "                \"rgba(73, 11, 106, 1.000)\"\n",
       "            ],\n",
       "            [\n",
       "                0.2196078431372549,\n",
       "                \"rgba(74, 12, 107, 1.000)\"\n",
       "            ],\n",
       "            [\n",
       "                0.2235294117647059,\n",
       "                \"rgba(76, 12, 107, 1.000)\"\n",
       "            ],\n",
       "            [\n",
       "                0.22745098039215686,\n",
       "                \"rgba(77, 13, 108, 1.000)\"\n",
       "            ],\n",
       "            [\n",
       "                0.23137254901960785,\n",
       "                \"rgba(79, 13, 108, 1.000)\"\n",
       "            ],\n",
       "            [\n",
       "                0.23529411764705882,\n",
       "                \"rgba(81, 14, 108, 1.000)\"\n",
       "            ],\n",
       "            [\n",
       "                0.23921568627450981,\n",
       "                \"rgba(82, 14, 109, 1.000)\"\n",
       "            ],\n",
       "            [\n",
       "                0.24313725490196078,\n",
       "                \"rgba(84, 15, 109, 1.000)\"\n",
       "            ],\n",
       "            [\n",
       "                0.24705882352941178,\n",
       "                \"rgba(85, 15, 109, 1.000)\"\n",
       "            ],\n",
       "            [\n",
       "                0.25098039215686274,\n",
       "                \"rgba(87, 16, 110, 1.000)\"\n",
       "            ],\n",
       "            [\n",
       "                0.2549019607843137,\n",
       "                \"rgba(89, 16, 110, 1.000)\"\n",
       "            ],\n",
       "            [\n",
       "                0.25882352941176473,\n",
       "                \"rgba(90, 17, 110, 1.000)\"\n",
       "            ],\n",
       "            [\n",
       "                0.2627450980392157,\n",
       "                \"rgba(92, 18, 110, 1.000)\"\n",
       "            ],\n",
       "            [\n",
       "                0.26666666666666666,\n",
       "                \"rgba(93, 18, 110, 1.000)\"\n",
       "            ],\n",
       "            [\n",
       "                0.27058823529411763,\n",
       "                \"rgba(95, 19, 110, 1.000)\"\n",
       "            ],\n",
       "            [\n",
       "                0.27450980392156865,\n",
       "                \"rgba(97, 19, 110, 1.000)\"\n",
       "            ],\n",
       "            [\n",
       "                0.2784313725490196,\n",
       "                \"rgba(98, 20, 110, 1.000)\"\n",
       "            ],\n",
       "            [\n",
       "                0.2823529411764706,\n",
       "                \"rgba(100, 21, 110, 1.000)\"\n",
       "            ],\n",
       "            [\n",
       "                0.28627450980392155,\n",
       "                \"rgba(101, 21, 110, 1.000)\"\n",
       "            ],\n",
       "            [\n",
       "                0.2901960784313726,\n",
       "                \"rgba(103, 22, 110, 1.000)\"\n",
       "            ],\n",
       "            [\n",
       "                0.29411764705882354,\n",
       "                \"rgba(105, 22, 110, 1.000)\"\n",
       "            ],\n",
       "            [\n",
       "                0.2980392156862745,\n",
       "                \"rgba(106, 23, 110, 1.000)\"\n",
       "            ],\n",
       "            [\n",
       "                0.30196078431372547,\n",
       "                \"rgba(108, 24, 110, 1.000)\"\n",
       "            ],\n",
       "            [\n",
       "                0.3058823529411765,\n",
       "                \"rgba(109, 24, 110, 1.000)\"\n",
       "            ],\n",
       "            [\n",
       "                0.30980392156862746,\n",
       "                \"rgba(111, 25, 110, 1.000)\"\n",
       "            ],\n",
       "            [\n",
       "                0.3137254901960784,\n",
       "                \"rgba(113, 25, 110, 1.000)\"\n",
       "            ],\n",
       "            [\n",
       "                0.3176470588235294,\n",
       "                \"rgba(114, 26, 110, 1.000)\"\n",
       "            ],\n",
       "            [\n",
       "                0.3215686274509804,\n",
       "                \"rgba(116, 26, 110, 1.000)\"\n",
       "            ],\n",
       "            [\n",
       "                0.3254901960784314,\n",
       "                \"rgba(117, 27, 110, 1.000)\"\n",
       "            ],\n",
       "            [\n",
       "                0.32941176470588235,\n",
       "                \"rgba(119, 28, 109, 1.000)\"\n",
       "            ],\n",
       "            [\n",
       "                0.3333333333333333,\n",
       "                \"rgba(120, 28, 109, 1.000)\"\n",
       "            ],\n",
       "            [\n",
       "                0.33725490196078434,\n",
       "                \"rgba(122, 29, 109, 1.000)\"\n",
       "            ],\n",
       "            [\n",
       "                0.3411764705882353,\n",
       "                \"rgba(124, 29, 109, 1.000)\"\n",
       "            ],\n",
       "            [\n",
       "                0.34509803921568627,\n",
       "                \"rgba(125, 30, 109, 1.000)\"\n",
       "            ],\n",
       "            [\n",
       "                0.34901960784313724,\n",
       "                \"rgba(127, 30, 108, 1.000)\"\n",
       "            ],\n",
       "            [\n",
       "                0.35294117647058826,\n",
       "                \"rgba(128, 31, 108, 1.000)\"\n",
       "            ],\n",
       "            [\n",
       "                0.3568627450980392,\n",
       "                \"rgba(130, 32, 108, 1.000)\"\n",
       "            ],\n",
       "            [\n",
       "                0.3607843137254902,\n",
       "                \"rgba(132, 32, 107, 1.000)\"\n",
       "            ],\n",
       "            [\n",
       "                0.36470588235294116,\n",
       "                \"rgba(133, 33, 107, 1.000)\"\n",
       "            ],\n",
       "            [\n",
       "                0.3686274509803922,\n",
       "                \"rgba(135, 33, 107, 1.000)\"\n",
       "            ],\n",
       "            [\n",
       "                0.37254901960784315,\n",
       "                \"rgba(136, 34, 106, 1.000)\"\n",
       "            ],\n",
       "            [\n",
       "                0.3764705882352941,\n",
       "                \"rgba(138, 34, 106, 1.000)\"\n",
       "            ],\n",
       "            [\n",
       "                0.3803921568627451,\n",
       "                \"rgba(140, 35, 105, 1.000)\"\n",
       "            ],\n",
       "            [\n",
       "                0.3843137254901961,\n",
       "                \"rgba(141, 35, 105, 1.000)\"\n",
       "            ],\n",
       "            [\n",
       "                0.38823529411764707,\n",
       "                \"rgba(143, 36, 105, 1.000)\"\n",
       "            ],\n",
       "            [\n",
       "                0.39215686274509803,\n",
       "                \"rgba(144, 37, 104, 1.000)\"\n",
       "            ],\n",
       "            [\n",
       "                0.396078431372549,\n",
       "                \"rgba(146, 37, 104, 1.000)\"\n",
       "            ],\n",
       "            [\n",
       "                0.4,\n",
       "                \"rgba(147, 38, 103, 1.000)\"\n",
       "            ],\n",
       "            [\n",
       "                0.403921568627451,\n",
       "                \"rgba(149, 38, 103, 1.000)\"\n",
       "            ],\n",
       "            [\n",
       "                0.40784313725490196,\n",
       "                \"rgba(151, 39, 102, 1.000)\"\n",
       "            ],\n",
       "            [\n",
       "                0.4117647058823529,\n",
       "                \"rgba(152, 39, 102, 1.000)\"\n",
       "            ],\n",
       "            [\n",
       "                0.41568627450980394,\n",
       "                \"rgba(154, 40, 101, 1.000)\"\n",
       "            ],\n",
       "            [\n",
       "                0.4196078431372549,\n",
       "                \"rgba(155, 41, 100, 1.000)\"\n",
       "            ],\n",
       "            [\n",
       "                0.4235294117647059,\n",
       "                \"rgba(157, 41, 100, 1.000)\"\n",
       "            ],\n",
       "            [\n",
       "                0.42745098039215684,\n",
       "                \"rgba(159, 42, 99, 1.000)\"\n",
       "            ],\n",
       "            [\n",
       "                0.43137254901960786,\n",
       "                \"rgba(160, 42, 99, 1.000)\"\n",
       "            ],\n",
       "            [\n",
       "                0.43529411764705883,\n",
       "                \"rgba(162, 43, 98, 1.000)\"\n",
       "            ],\n",
       "            [\n",
       "                0.4392156862745098,\n",
       "                \"rgba(163, 44, 97, 1.000)\"\n",
       "            ],\n",
       "            [\n",
       "                0.44313725490196076,\n",
       "                \"rgba(165, 44, 96, 1.000)\"\n",
       "            ],\n",
       "            [\n",
       "                0.4470588235294118,\n",
       "                \"rgba(166, 45, 96, 1.000)\"\n",
       "            ],\n",
       "            [\n",
       "                0.45098039215686275,\n",
       "                \"rgba(168, 46, 95, 1.000)\"\n",
       "            ],\n",
       "            [\n",
       "                0.4549019607843137,\n",
       "                \"rgba(169, 46, 94, 1.000)\"\n",
       "            ],\n",
       "            [\n",
       "                0.4588235294117647,\n",
       "                \"rgba(171, 47, 94, 1.000)\"\n",
       "            ],\n",
       "            [\n",
       "                0.4627450980392157,\n",
       "                \"rgba(173, 48, 93, 1.000)\"\n",
       "            ],\n",
       "            [\n",
       "                0.4666666666666667,\n",
       "                \"rgba(174, 48, 92, 1.000)\"\n",
       "            ],\n",
       "            [\n",
       "                0.47058823529411764,\n",
       "                \"rgba(176, 49, 91, 1.000)\"\n",
       "            ],\n",
       "            [\n",
       "                0.4745098039215686,\n",
       "                \"rgba(177, 50, 90, 1.000)\"\n",
       "            ],\n",
       "            [\n",
       "                0.47843137254901963,\n",
       "                \"rgba(179, 50, 90, 1.000)\"\n",
       "            ],\n",
       "            [\n",
       "                0.4823529411764706,\n",
       "                \"rgba(180, 51, 89, 1.000)\"\n",
       "            ],\n",
       "            [\n",
       "                0.48627450980392156,\n",
       "                \"rgba(182, 52, 88, 1.000)\"\n",
       "            ],\n",
       "            [\n",
       "                0.49019607843137253,\n",
       "                \"rgba(183, 53, 87, 1.000)\"\n",
       "            ],\n",
       "            [\n",
       "                0.49411764705882355,\n",
       "                \"rgba(185, 53, 86, 1.000)\"\n",
       "            ],\n",
       "            [\n",
       "                0.4980392156862745,\n",
       "                \"rgba(186, 54, 85, 1.000)\"\n",
       "            ],\n",
       "            [\n",
       "                0.5019607843137255,\n",
       "                \"rgba(188, 55, 84, 1.000)\"\n",
       "            ],\n",
       "            [\n",
       "                0.5058823529411764,\n",
       "                \"rgba(189, 56, 83, 1.000)\"\n",
       "            ],\n",
       "            [\n",
       "                0.5098039215686274,\n",
       "                \"rgba(191, 57, 82, 1.000)\"\n",
       "            ],\n",
       "            [\n",
       "                0.5137254901960784,\n",
       "                \"rgba(192, 58, 81, 1.000)\"\n",
       "            ],\n",
       "            [\n",
       "                0.5176470588235295,\n",
       "                \"rgba(193, 58, 80, 1.000)\"\n",
       "            ],\n",
       "            [\n",
       "                0.5215686274509804,\n",
       "                \"rgba(195, 59, 79, 1.000)\"\n",
       "            ],\n",
       "            [\n",
       "                0.5254901960784314,\n",
       "                \"rgba(196, 60, 78, 1.000)\"\n",
       "            ],\n",
       "            [\n",
       "                0.5294117647058824,\n",
       "                \"rgba(198, 61, 77, 1.000)\"\n",
       "            ],\n",
       "            [\n",
       "                0.5333333333333333,\n",
       "                \"rgba(199, 62, 76, 1.000)\"\n",
       "            ],\n",
       "            [\n",
       "                0.5372549019607843,\n",
       "                \"rgba(200, 63, 75, 1.000)\"\n",
       "            ],\n",
       "            [\n",
       "                0.5411764705882353,\n",
       "                \"rgba(202, 64, 74, 1.000)\"\n",
       "            ],\n",
       "            [\n",
       "                0.5450980392156862,\n",
       "                \"rgba(203, 65, 73, 1.000)\"\n",
       "            ],\n",
       "            [\n",
       "                0.5490196078431373,\n",
       "                \"rgba(204, 66, 72, 1.000)\"\n",
       "            ],\n",
       "            [\n",
       "                0.5529411764705883,\n",
       "                \"rgba(206, 67, 71, 1.000)\"\n",
       "            ],\n",
       "            [\n",
       "                0.5568627450980392,\n",
       "                \"rgba(207, 68, 70, 1.000)\"\n",
       "            ],\n",
       "            [\n",
       "                0.5607843137254902,\n",
       "                \"rgba(208, 69, 69, 1.000)\"\n",
       "            ],\n",
       "            [\n",
       "                0.5647058823529412,\n",
       "                \"rgba(210, 70, 68, 1.000)\"\n",
       "            ],\n",
       "            [\n",
       "                0.5686274509803921,\n",
       "                \"rgba(211, 71, 67, 1.000)\"\n",
       "            ],\n",
       "            [\n",
       "                0.5725490196078431,\n",
       "                \"rgba(212, 72, 66, 1.000)\"\n",
       "            ],\n",
       "            [\n",
       "                0.5764705882352941,\n",
       "                \"rgba(213, 74, 65, 1.000)\"\n",
       "            ],\n",
       "            [\n",
       "                0.5803921568627451,\n",
       "                \"rgba(215, 75, 63, 1.000)\"\n",
       "            ],\n",
       "            [\n",
       "                0.5843137254901961,\n",
       "                \"rgba(216, 76, 62, 1.000)\"\n",
       "            ],\n",
       "            [\n",
       "                0.5882352941176471,\n",
       "                \"rgba(217, 77, 61, 1.000)\"\n",
       "            ],\n",
       "            [\n",
       "                0.592156862745098,\n",
       "                \"rgba(218, 78, 60, 1.000)\"\n",
       "            ],\n",
       "            [\n",
       "                0.596078431372549,\n",
       "                \"rgba(219, 80, 59, 1.000)\"\n",
       "            ],\n",
       "            [\n",
       "                0.6,\n",
       "                \"rgba(221, 81, 58, 1.000)\"\n",
       "            ],\n",
       "            [\n",
       "                0.6039215686274509,\n",
       "                \"rgba(222, 82, 56, 1.000)\"\n",
       "            ],\n",
       "            [\n",
       "                0.6078431372549019,\n",
       "                \"rgba(223, 83, 55, 1.000)\"\n",
       "            ],\n",
       "            [\n",
       "                0.611764705882353,\n",
       "                \"rgba(224, 85, 54, 1.000)\"\n",
       "            ],\n",
       "            [\n",
       "                0.615686274509804,\n",
       "                \"rgba(225, 86, 53, 1.000)\"\n",
       "            ],\n",
       "            [\n",
       "                0.6196078431372549,\n",
       "                \"rgba(226, 87, 52, 1.000)\"\n",
       "            ],\n",
       "            [\n",
       "                0.6235294117647059,\n",
       "                \"rgba(227, 89, 51, 1.000)\"\n",
       "            ],\n",
       "            [\n",
       "                0.6274509803921569,\n",
       "                \"rgba(228, 90, 49, 1.000)\"\n",
       "            ],\n",
       "            [\n",
       "                0.6313725490196078,\n",
       "                \"rgba(229, 92, 48, 1.000)\"\n",
       "            ],\n",
       "            [\n",
       "                0.6352941176470588,\n",
       "                \"rgba(230, 93, 47, 1.000)\"\n",
       "            ],\n",
       "            [\n",
       "                0.6392156862745098,\n",
       "                \"rgba(231, 94, 46, 1.000)\"\n",
       "            ],\n",
       "            [\n",
       "                0.6431372549019608,\n",
       "                \"rgba(232, 96, 45, 1.000)\"\n",
       "            ],\n",
       "            [\n",
       "                0.6470588235294118,\n",
       "                \"rgba(233, 97, 43, 1.000)\"\n",
       "            ],\n",
       "            [\n",
       "                0.6509803921568628,\n",
       "                \"rgba(234, 99, 42, 1.000)\"\n",
       "            ],\n",
       "            [\n",
       "                0.6549019607843137,\n",
       "                \"rgba(235, 100, 41, 1.000)\"\n",
       "            ],\n",
       "            [\n",
       "                0.6588235294117647,\n",
       "                \"rgba(235, 102, 40, 1.000)\"\n",
       "            ],\n",
       "            [\n",
       "                0.6627450980392157,\n",
       "                \"rgba(236, 103, 38, 1.000)\"\n",
       "            ],\n",
       "            [\n",
       "                0.6666666666666666,\n",
       "                \"rgba(237, 105, 37, 1.000)\"\n",
       "            ],\n",
       "            [\n",
       "                0.6705882352941176,\n",
       "                \"rgba(238, 106, 36, 1.000)\"\n",
       "            ],\n",
       "            [\n",
       "                0.6745098039215687,\n",
       "                \"rgba(239, 108, 35, 1.000)\"\n",
       "            ],\n",
       "            [\n",
       "                0.6784313725490196,\n",
       "                \"rgba(239, 110, 33, 1.000)\"\n",
       "            ],\n",
       "            [\n",
       "                0.6823529411764706,\n",
       "                \"rgba(240, 111, 32, 1.000)\"\n",
       "            ],\n",
       "            [\n",
       "                0.6862745098039216,\n",
       "                \"rgba(241, 113, 31, 1.000)\"\n",
       "            ],\n",
       "            [\n",
       "                0.6901960784313725,\n",
       "                \"rgba(241, 115, 29, 1.000)\"\n",
       "            ],\n",
       "            [\n",
       "                0.6941176470588235,\n",
       "                \"rgba(242, 116, 28, 1.000)\"\n",
       "            ],\n",
       "            [\n",
       "                0.6980392156862745,\n",
       "                \"rgba(243, 118, 27, 1.000)\"\n",
       "            ],\n",
       "            [\n",
       "                0.7019607843137254,\n",
       "                \"rgba(243, 120, 25, 1.000)\"\n",
       "            ],\n",
       "            [\n",
       "                0.7058823529411765,\n",
       "                \"rgba(244, 121, 24, 1.000)\"\n",
       "            ],\n",
       "            [\n",
       "                0.7098039215686275,\n",
       "                \"rgba(245, 123, 23, 1.000)\"\n",
       "            ],\n",
       "            [\n",
       "                0.7137254901960784,\n",
       "                \"rgba(245, 125, 21, 1.000)\"\n",
       "            ],\n",
       "            [\n",
       "                0.7176470588235294,\n",
       "                \"rgba(246, 126, 20, 1.000)\"\n",
       "            ],\n",
       "            [\n",
       "                0.7215686274509804,\n",
       "                \"rgba(246, 128, 19, 1.000)\"\n",
       "            ],\n",
       "            [\n",
       "                0.7254901960784313,\n",
       "                \"rgba(247, 130, 18, 1.000)\"\n",
       "            ],\n",
       "            [\n",
       "                0.7294117647058823,\n",
       "                \"rgba(247, 132, 16, 1.000)\"\n",
       "            ],\n",
       "            [\n",
       "                0.7333333333333333,\n",
       "                \"rgba(248, 133, 15, 1.000)\"\n",
       "            ],\n",
       "            [\n",
       "                0.7372549019607844,\n",
       "                \"rgba(248, 135, 14, 1.000)\"\n",
       "            ],\n",
       "            [\n",
       "                0.7411764705882353,\n",
       "                \"rgba(248, 137, 12, 1.000)\"\n",
       "            ],\n",
       "            [\n",
       "                0.7450980392156863,\n",
       "                \"rgba(249, 139, 11, 1.000)\"\n",
       "            ],\n",
       "            [\n",
       "                0.7490196078431373,\n",
       "                \"rgba(249, 140, 10, 1.000)\"\n",
       "            ],\n",
       "            [\n",
       "                0.7529411764705882,\n",
       "                \"rgba(249, 142, 9, 1.000)\"\n",
       "            ],\n",
       "            [\n",
       "                0.7568627450980392,\n",
       "                \"rgba(250, 144, 8, 1.000)\"\n",
       "            ],\n",
       "            [\n",
       "                0.7607843137254902,\n",
       "                \"rgba(250, 146, 7, 1.000)\"\n",
       "            ],\n",
       "            [\n",
       "                0.7647058823529411,\n",
       "                \"rgba(250, 148, 7, 1.000)\"\n",
       "            ],\n",
       "            [\n",
       "                0.7686274509803922,\n",
       "                \"rgba(251, 150, 6, 1.000)\"\n",
       "            ],\n",
       "            [\n",
       "                0.7725490196078432,\n",
       "                \"rgba(251, 151, 6, 1.000)\"\n",
       "            ],\n",
       "            [\n",
       "                0.7764705882352941,\n",
       "                \"rgba(251, 153, 6, 1.000)\"\n",
       "            ],\n",
       "            [\n",
       "                0.7803921568627451,\n",
       "                \"rgba(251, 155, 6, 1.000)\"\n",
       "            ],\n",
       "            [\n",
       "                0.7843137254901961,\n",
       "                \"rgba(251, 157, 7, 1.000)\"\n",
       "            ],\n",
       "            [\n",
       "                0.788235294117647,\n",
       "                \"rgba(252, 159, 7, 1.000)\"\n",
       "            ],\n",
       "            [\n",
       "                0.792156862745098,\n",
       "                \"rgba(252, 161, 8, 1.000)\"\n",
       "            ],\n",
       "            [\n",
       "                0.796078431372549,\n",
       "                \"rgba(252, 163, 9, 1.000)\"\n",
       "            ],\n",
       "            [\n",
       "                0.8,\n",
       "                \"rgba(252, 165, 10, 1.000)\"\n",
       "            ],\n",
       "            [\n",
       "                0.803921568627451,\n",
       "                \"rgba(252, 166, 12, 1.000)\"\n",
       "            ],\n",
       "            [\n",
       "                0.807843137254902,\n",
       "                \"rgba(252, 168, 13, 1.000)\"\n",
       "            ],\n",
       "            [\n",
       "                0.8117647058823529,\n",
       "                \"rgba(252, 170, 15, 1.000)\"\n",
       "            ],\n",
       "            [\n",
       "                0.8156862745098039,\n",
       "                \"rgba(252, 172, 17, 1.000)\"\n",
       "            ],\n",
       "            [\n",
       "                0.8196078431372549,\n",
       "                \"rgba(252, 174, 18, 1.000)\"\n",
       "            ],\n",
       "            [\n",
       "                0.8235294117647058,\n",
       "                \"rgba(252, 176, 20, 1.000)\"\n",
       "            ],\n",
       "            [\n",
       "                0.8274509803921568,\n",
       "                \"rgba(252, 178, 22, 1.000)\"\n",
       "            ],\n",
       "            [\n",
       "                0.8313725490196079,\n",
       "                \"rgba(252, 180, 24, 1.000)\"\n",
       "            ],\n",
       "            [\n",
       "                0.8352941176470589,\n",
       "                \"rgba(251, 182, 26, 1.000)\"\n",
       "            ],\n",
       "            [\n",
       "                0.8392156862745098,\n",
       "                \"rgba(251, 184, 29, 1.000)\"\n",
       "            ],\n",
       "            [\n",
       "                0.8431372549019608,\n",
       "                \"rgba(251, 186, 31, 1.000)\"\n",
       "            ],\n",
       "            [\n",
       "                0.8470588235294118,\n",
       "                \"rgba(251, 188, 33, 1.000)\"\n",
       "            ],\n",
       "            [\n",
       "                0.8509803921568627,\n",
       "                \"rgba(251, 190, 35, 1.000)\"\n",
       "            ],\n",
       "            [\n",
       "                0.8549019607843137,\n",
       "                \"rgba(250, 192, 38, 1.000)\"\n",
       "            ],\n",
       "            [\n",
       "                0.8588235294117647,\n",
       "                \"rgba(250, 194, 40, 1.000)\"\n",
       "            ],\n",
       "            [\n",
       "                0.8627450980392157,\n",
       "                \"rgba(250, 196, 42, 1.000)\"\n",
       "            ],\n",
       "            [\n",
       "                0.8666666666666667,\n",
       "                \"rgba(250, 198, 45, 1.000)\"\n",
       "            ],\n",
       "            [\n",
       "                0.8705882352941177,\n",
       "                \"rgba(249, 199, 47, 1.000)\"\n",
       "            ],\n",
       "            [\n",
       "                0.8745098039215686,\n",
       "                \"rgba(249, 201, 50, 1.000)\"\n",
       "            ],\n",
       "            [\n",
       "                0.8784313725490196,\n",
       "                \"rgba(249, 203, 53, 1.000)\"\n",
       "            ],\n",
       "            [\n",
       "                0.8823529411764706,\n",
       "                \"rgba(248, 205, 55, 1.000)\"\n",
       "            ],\n",
       "            [\n",
       "                0.8862745098039215,\n",
       "                \"rgba(248, 207, 58, 1.000)\"\n",
       "            ],\n",
       "            [\n",
       "                0.8901960784313725,\n",
       "                \"rgba(247, 209, 61, 1.000)\"\n",
       "            ],\n",
       "            [\n",
       "                0.8941176470588236,\n",
       "                \"rgba(247, 211, 64, 1.000)\"\n",
       "            ],\n",
       "            [\n",
       "                0.8980392156862745,\n",
       "                \"rgba(246, 213, 67, 1.000)\"\n",
       "            ],\n",
       "            [\n",
       "                0.9019607843137255,\n",
       "                \"rgba(246, 215, 70, 1.000)\"\n",
       "            ],\n",
       "            [\n",
       "                0.9058823529411765,\n",
       "                \"rgba(245, 217, 73, 1.000)\"\n",
       "            ],\n",
       "            [\n",
       "                0.9098039215686274,\n",
       "                \"rgba(245, 219, 76, 1.000)\"\n",
       "            ],\n",
       "            [\n",
       "                0.9137254901960784,\n",
       "                \"rgba(244, 221, 79, 1.000)\"\n",
       "            ],\n",
       "            [\n",
       "                0.9176470588235294,\n",
       "                \"rgba(244, 223, 83, 1.000)\"\n",
       "            ],\n",
       "            [\n",
       "                0.9215686274509803,\n",
       "                \"rgba(244, 225, 86, 1.000)\"\n",
       "            ],\n",
       "            [\n",
       "                0.9254901960784314,\n",
       "                \"rgba(243, 227, 90, 1.000)\"\n",
       "            ],\n",
       "            [\n",
       "                0.9294117647058824,\n",
       "                \"rgba(243, 229, 93, 1.000)\"\n",
       "            ],\n",
       "            [\n",
       "                0.9333333333333333,\n",
       "                \"rgba(242, 230, 97, 1.000)\"\n",
       "            ],\n",
       "            [\n",
       "                0.9372549019607843,\n",
       "                \"rgba(242, 232, 101, 1.000)\"\n",
       "            ],\n",
       "            [\n",
       "                0.9411764705882353,\n",
       "                \"rgba(242, 234, 105, 1.000)\"\n",
       "            ],\n",
       "            [\n",
       "                0.9450980392156862,\n",
       "                \"rgba(241, 236, 109, 1.000)\"\n",
       "            ],\n",
       "            [\n",
       "                0.9490196078431372,\n",
       "                \"rgba(241, 237, 113, 1.000)\"\n",
       "            ],\n",
       "            [\n",
       "                0.9529411764705882,\n",
       "                \"rgba(241, 239, 117, 1.000)\"\n",
       "            ],\n",
       "            [\n",
       "                0.9568627450980393,\n",
       "                \"rgba(241, 241, 121, 1.000)\"\n",
       "            ],\n",
       "            [\n",
       "                0.9607843137254902,\n",
       "                \"rgba(242, 242, 125, 1.000)\"\n",
       "            ],\n",
       "            [\n",
       "                0.9647058823529412,\n",
       "                \"rgba(242, 244, 130, 1.000)\"\n",
       "            ],\n",
       "            [\n",
       "                0.9686274509803922,\n",
       "                \"rgba(243, 245, 134, 1.000)\"\n",
       "            ],\n",
       "            [\n",
       "                0.9725490196078431,\n",
       "                \"rgba(243, 246, 138, 1.000)\"\n",
       "            ],\n",
       "            [\n",
       "                0.9764705882352941,\n",
       "                \"rgba(244, 248, 142, 1.000)\"\n",
       "            ],\n",
       "            [\n",
       "                0.9803921568627451,\n",
       "                \"rgba(245, 249, 146, 1.000)\"\n",
       "            ],\n",
       "            [\n",
       "                0.984313725490196,\n",
       "                \"rgba(246, 250, 150, 1.000)\"\n",
       "            ],\n",
       "            [\n",
       "                0.9882352941176471,\n",
       "                \"rgba(248, 251, 154, 1.000)\"\n",
       "            ],\n",
       "            [\n",
       "                0.9921568627450981,\n",
       "                \"rgba(249, 252, 157, 1.000)\"\n",
       "            ],\n",
       "            [\n",
       "                0.996078431372549,\n",
       "                \"rgba(250, 253, 161, 1.000)\"\n",
       "            ],\n",
       "            [\n",
       "                1.0,\n",
       "                \"rgba(252, 255, 164, 1.000)\"\n",
       "            ]\n",
       "        ],\n",
       "        \"yaxis\": \"y1\",\n",
       "        \"showscale\": false,\n",
       "        \"x\": [\n",
       "            0.5,\n",
       "            1.5,\n",
       "            2.5,\n",
       "            3.5,\n",
       "            4.5,\n",
       "            5.5,\n",
       "            6.5,\n",
       "            7.5,\n",
       "            8.5,\n",
       "            9.5,\n",
       "            10.5\n",
       "        ],\n",
       "        \"showlegend\": false,\n",
       "        \"name\": \"y1\",\n",
       "        \"zmin\": 0.0,\n",
       "        \"z\": [\n",
       "            [\n",
       "                -10440.0,\n",
       "                -29879.999999999996,\n",
       "                -47160.0,\n",
       "                -62280.000000000015,\n",
       "                -75239.99999999999,\n",
       "                -86039.99999999997,\n",
       "                -94680.00000000006,\n",
       "                -101159.99999999999,\n",
       "                -105480.00000000001,\n",
       "                -107639.99999999997\n",
       "            ]\n",
       "        ],\n",
       "        \"zmax\": 100.0,\n",
       "        \"y\": [\n",
       "            0.5,\n",
       "            1.5\n",
       "        ],\n",
       "        \"type\": \"heatmap\",\n",
       "        \"hoverinfo\": \"none\"\n",
       "    },\n",
       "    {\n",
       "        \"xaxis\": \"x2\",\n",
       "        \"colorbar\": {\n",
       "            \"title\": \"\"\n",
       "        },\n",
       "        \"colorscale\": [\n",
       "            [\n",
       "                0.0,\n",
       "                \"rgba(0, 0, 4, 1.000)\"\n",
       "            ],\n",
       "            [\n",
       "                0.00392156862745098,\n",
       "                \"rgba(1, 0, 5, 1.000)\"\n",
       "            ],\n",
       "            [\n",
       "                0.00784313725490196,\n",
       "                \"rgba(1, 1, 6, 1.000)\"\n",
       "            ],\n",
       "            [\n",
       "                0.011764705882352941,\n",
       "                \"rgba(1, 1, 8, 1.000)\"\n",
       "            ],\n",
       "            [\n",
       "                0.01568627450980392,\n",
       "                \"rgba(2, 1, 10, 1.000)\"\n",
       "            ],\n",
       "            [\n",
       "                0.0196078431372549,\n",
       "                \"rgba(2, 2, 12, 1.000)\"\n",
       "            ],\n",
       "            [\n",
       "                0.023529411764705882,\n",
       "                \"rgba(2, 2, 14, 1.000)\"\n",
       "            ],\n",
       "            [\n",
       "                0.027450980392156862,\n",
       "                \"rgba(3, 2, 16, 1.000)\"\n",
       "            ],\n",
       "            [\n",
       "                0.03137254901960784,\n",
       "                \"rgba(4, 3, 18, 1.000)\"\n",
       "            ],\n",
       "            [\n",
       "                0.03529411764705882,\n",
       "                \"rgba(4, 3, 20, 1.000)\"\n",
       "            ],\n",
       "            [\n",
       "                0.0392156862745098,\n",
       "                \"rgba(5, 4, 23, 1.000)\"\n",
       "            ],\n",
       "            [\n",
       "                0.043137254901960784,\n",
       "                \"rgba(6, 4, 25, 1.000)\"\n",
       "            ],\n",
       "            [\n",
       "                0.047058823529411764,\n",
       "                \"rgba(7, 5, 27, 1.000)\"\n",
       "            ],\n",
       "            [\n",
       "                0.050980392156862744,\n",
       "                \"rgba(8, 5, 29, 1.000)\"\n",
       "            ],\n",
       "            [\n",
       "                0.054901960784313725,\n",
       "                \"rgba(9, 6, 31, 1.000)\"\n",
       "            ],\n",
       "            [\n",
       "                0.058823529411764705,\n",
       "                \"rgba(10, 7, 34, 1.000)\"\n",
       "            ],\n",
       "            [\n",
       "                0.06274509803921569,\n",
       "                \"rgba(11, 7, 36, 1.000)\"\n",
       "            ],\n",
       "            [\n",
       "                0.06666666666666667,\n",
       "                \"rgba(12, 8, 38, 1.000)\"\n",
       "            ],\n",
       "            [\n",
       "                0.07058823529411765,\n",
       "                \"rgba(13, 8, 41, 1.000)\"\n",
       "            ],\n",
       "            [\n",
       "                0.07450980392156863,\n",
       "                \"rgba(14, 9, 43, 1.000)\"\n",
       "            ],\n",
       "            [\n",
       "                0.0784313725490196,\n",
       "                \"rgba(16, 9, 45, 1.000)\"\n",
       "            ],\n",
       "            [\n",
       "                0.08235294117647059,\n",
       "                \"rgba(17, 10, 48, 1.000)\"\n",
       "            ],\n",
       "            [\n",
       "                0.08627450980392157,\n",
       "                \"rgba(18, 10, 50, 1.000)\"\n",
       "            ],\n",
       "            [\n",
       "                0.09019607843137255,\n",
       "                \"rgba(20, 11, 52, 1.000)\"\n",
       "            ],\n",
       "            [\n",
       "                0.09411764705882353,\n",
       "                \"rgba(21, 11, 55, 1.000)\"\n",
       "            ],\n",
       "            [\n",
       "                0.09803921568627451,\n",
       "                \"rgba(22, 11, 57, 1.000)\"\n",
       "            ],\n",
       "            [\n",
       "                0.10196078431372549,\n",
       "                \"rgba(24, 12, 60, 1.000)\"\n",
       "            ],\n",
       "            [\n",
       "                0.10588235294117647,\n",
       "                \"rgba(25, 12, 62, 1.000)\"\n",
       "            ],\n",
       "            [\n",
       "                0.10980392156862745,\n",
       "                \"rgba(27, 12, 65, 1.000)\"\n",
       "            ],\n",
       "            [\n",
       "                0.11372549019607843,\n",
       "                \"rgba(28, 12, 67, 1.000)\"\n",
       "            ],\n",
       "            [\n",
       "                0.11764705882352941,\n",
       "                \"rgba(30, 12, 69, 1.000)\"\n",
       "            ],\n",
       "            [\n",
       "                0.12156862745098039,\n",
       "                \"rgba(31, 12, 72, 1.000)\"\n",
       "            ],\n",
       "            [\n",
       "                0.12549019607843137,\n",
       "                \"rgba(33, 12, 74, 1.000)\"\n",
       "            ],\n",
       "            [\n",
       "                0.12941176470588237,\n",
       "                \"rgba(35, 12, 76, 1.000)\"\n",
       "            ],\n",
       "            [\n",
       "                0.13333333333333333,\n",
       "                \"rgba(36, 12, 79, 1.000)\"\n",
       "            ],\n",
       "            [\n",
       "                0.13725490196078433,\n",
       "                \"rgba(38, 12, 81, 1.000)\"\n",
       "            ],\n",
       "            [\n",
       "                0.1411764705882353,\n",
       "                \"rgba(40, 11, 83, 1.000)\"\n",
       "            ],\n",
       "            [\n",
       "                0.1450980392156863,\n",
       "                \"rgba(41, 11, 85, 1.000)\"\n",
       "            ],\n",
       "            [\n",
       "                0.14901960784313725,\n",
       "                \"rgba(43, 11, 87, 1.000)\"\n",
       "            ],\n",
       "            [\n",
       "                0.15294117647058825,\n",
       "                \"rgba(45, 11, 89, 1.000)\"\n",
       "            ],\n",
       "            [\n",
       "                0.1568627450980392,\n",
       "                \"rgba(47, 10, 91, 1.000)\"\n",
       "            ],\n",
       "            [\n",
       "                0.1607843137254902,\n",
       "                \"rgba(49, 10, 92, 1.000)\"\n",
       "            ],\n",
       "            [\n",
       "                0.16470588235294117,\n",
       "                \"rgba(50, 10, 94, 1.000)\"\n",
       "            ],\n",
       "            [\n",
       "                0.16862745098039217,\n",
       "                \"rgba(52, 10, 95, 1.000)\"\n",
       "            ],\n",
       "            [\n",
       "                0.17254901960784313,\n",
       "                \"rgba(54, 9, 97, 1.000)\"\n",
       "            ],\n",
       "            [\n",
       "                0.17647058823529413,\n",
       "                \"rgba(56, 9, 98, 1.000)\"\n",
       "            ],\n",
       "            [\n",
       "                0.1803921568627451,\n",
       "                \"rgba(57, 9, 99, 1.000)\"\n",
       "            ],\n",
       "            [\n",
       "                0.1843137254901961,\n",
       "                \"rgba(59, 9, 100, 1.000)\"\n",
       "            ],\n",
       "            [\n",
       "                0.18823529411764706,\n",
       "                \"rgba(61, 9, 101, 1.000)\"\n",
       "            ],\n",
       "            [\n",
       "                0.19215686274509805,\n",
       "                \"rgba(62, 9, 102, 1.000)\"\n",
       "            ],\n",
       "            [\n",
       "                0.19607843137254902,\n",
       "                \"rgba(64, 10, 103, 1.000)\"\n",
       "            ],\n",
       "            [\n",
       "                0.2,\n",
       "                \"rgba(66, 10, 104, 1.000)\"\n",
       "            ],\n",
       "            [\n",
       "                0.20392156862745098,\n",
       "                \"rgba(68, 10, 104, 1.000)\"\n",
       "            ],\n",
       "            [\n",
       "                0.20784313725490197,\n",
       "                \"rgba(69, 10, 105, 1.000)\"\n",
       "            ],\n",
       "            [\n",
       "                0.21176470588235294,\n",
       "                \"rgba(71, 11, 106, 1.000)\"\n",
       "            ],\n",
       "            [\n",
       "                0.21568627450980393,\n",
       "                \"rgba(73, 11, 106, 1.000)\"\n",
       "            ],\n",
       "            [\n",
       "                0.2196078431372549,\n",
       "                \"rgba(74, 12, 107, 1.000)\"\n",
       "            ],\n",
       "            [\n",
       "                0.2235294117647059,\n",
       "                \"rgba(76, 12, 107, 1.000)\"\n",
       "            ],\n",
       "            [\n",
       "                0.22745098039215686,\n",
       "                \"rgba(77, 13, 108, 1.000)\"\n",
       "            ],\n",
       "            [\n",
       "                0.23137254901960785,\n",
       "                \"rgba(79, 13, 108, 1.000)\"\n",
       "            ],\n",
       "            [\n",
       "                0.23529411764705882,\n",
       "                \"rgba(81, 14, 108, 1.000)\"\n",
       "            ],\n",
       "            [\n",
       "                0.23921568627450981,\n",
       "                \"rgba(82, 14, 109, 1.000)\"\n",
       "            ],\n",
       "            [\n",
       "                0.24313725490196078,\n",
       "                \"rgba(84, 15, 109, 1.000)\"\n",
       "            ],\n",
       "            [\n",
       "                0.24705882352941178,\n",
       "                \"rgba(85, 15, 109, 1.000)\"\n",
       "            ],\n",
       "            [\n",
       "                0.25098039215686274,\n",
       "                \"rgba(87, 16, 110, 1.000)\"\n",
       "            ],\n",
       "            [\n",
       "                0.2549019607843137,\n",
       "                \"rgba(89, 16, 110, 1.000)\"\n",
       "            ],\n",
       "            [\n",
       "                0.25882352941176473,\n",
       "                \"rgba(90, 17, 110, 1.000)\"\n",
       "            ],\n",
       "            [\n",
       "                0.2627450980392157,\n",
       "                \"rgba(92, 18, 110, 1.000)\"\n",
       "            ],\n",
       "            [\n",
       "                0.26666666666666666,\n",
       "                \"rgba(93, 18, 110, 1.000)\"\n",
       "            ],\n",
       "            [\n",
       "                0.27058823529411763,\n",
       "                \"rgba(95, 19, 110, 1.000)\"\n",
       "            ],\n",
       "            [\n",
       "                0.27450980392156865,\n",
       "                \"rgba(97, 19, 110, 1.000)\"\n",
       "            ],\n",
       "            [\n",
       "                0.2784313725490196,\n",
       "                \"rgba(98, 20, 110, 1.000)\"\n",
       "            ],\n",
       "            [\n",
       "                0.2823529411764706,\n",
       "                \"rgba(100, 21, 110, 1.000)\"\n",
       "            ],\n",
       "            [\n",
       "                0.28627450980392155,\n",
       "                \"rgba(101, 21, 110, 1.000)\"\n",
       "            ],\n",
       "            [\n",
       "                0.2901960784313726,\n",
       "                \"rgba(103, 22, 110, 1.000)\"\n",
       "            ],\n",
       "            [\n",
       "                0.29411764705882354,\n",
       "                \"rgba(105, 22, 110, 1.000)\"\n",
       "            ],\n",
       "            [\n",
       "                0.2980392156862745,\n",
       "                \"rgba(106, 23, 110, 1.000)\"\n",
       "            ],\n",
       "            [\n",
       "                0.30196078431372547,\n",
       "                \"rgba(108, 24, 110, 1.000)\"\n",
       "            ],\n",
       "            [\n",
       "                0.3058823529411765,\n",
       "                \"rgba(109, 24, 110, 1.000)\"\n",
       "            ],\n",
       "            [\n",
       "                0.30980392156862746,\n",
       "                \"rgba(111, 25, 110, 1.000)\"\n",
       "            ],\n",
       "            [\n",
       "                0.3137254901960784,\n",
       "                \"rgba(113, 25, 110, 1.000)\"\n",
       "            ],\n",
       "            [\n",
       "                0.3176470588235294,\n",
       "                \"rgba(114, 26, 110, 1.000)\"\n",
       "            ],\n",
       "            [\n",
       "                0.3215686274509804,\n",
       "                \"rgba(116, 26, 110, 1.000)\"\n",
       "            ],\n",
       "            [\n",
       "                0.3254901960784314,\n",
       "                \"rgba(117, 27, 110, 1.000)\"\n",
       "            ],\n",
       "            [\n",
       "                0.32941176470588235,\n",
       "                \"rgba(119, 28, 109, 1.000)\"\n",
       "            ],\n",
       "            [\n",
       "                0.3333333333333333,\n",
       "                \"rgba(120, 28, 109, 1.000)\"\n",
       "            ],\n",
       "            [\n",
       "                0.33725490196078434,\n",
       "                \"rgba(122, 29, 109, 1.000)\"\n",
       "            ],\n",
       "            [\n",
       "                0.3411764705882353,\n",
       "                \"rgba(124, 29, 109, 1.000)\"\n",
       "            ],\n",
       "            [\n",
       "                0.34509803921568627,\n",
       "                \"rgba(125, 30, 109, 1.000)\"\n",
       "            ],\n",
       "            [\n",
       "                0.34901960784313724,\n",
       "                \"rgba(127, 30, 108, 1.000)\"\n",
       "            ],\n",
       "            [\n",
       "                0.35294117647058826,\n",
       "                \"rgba(128, 31, 108, 1.000)\"\n",
       "            ],\n",
       "            [\n",
       "                0.3568627450980392,\n",
       "                \"rgba(130, 32, 108, 1.000)\"\n",
       "            ],\n",
       "            [\n",
       "                0.3607843137254902,\n",
       "                \"rgba(132, 32, 107, 1.000)\"\n",
       "            ],\n",
       "            [\n",
       "                0.36470588235294116,\n",
       "                \"rgba(133, 33, 107, 1.000)\"\n",
       "            ],\n",
       "            [\n",
       "                0.3686274509803922,\n",
       "                \"rgba(135, 33, 107, 1.000)\"\n",
       "            ],\n",
       "            [\n",
       "                0.37254901960784315,\n",
       "                \"rgba(136, 34, 106, 1.000)\"\n",
       "            ],\n",
       "            [\n",
       "                0.3764705882352941,\n",
       "                \"rgba(138, 34, 106, 1.000)\"\n",
       "            ],\n",
       "            [\n",
       "                0.3803921568627451,\n",
       "                \"rgba(140, 35, 105, 1.000)\"\n",
       "            ],\n",
       "            [\n",
       "                0.3843137254901961,\n",
       "                \"rgba(141, 35, 105, 1.000)\"\n",
       "            ],\n",
       "            [\n",
       "                0.38823529411764707,\n",
       "                \"rgba(143, 36, 105, 1.000)\"\n",
       "            ],\n",
       "            [\n",
       "                0.39215686274509803,\n",
       "                \"rgba(144, 37, 104, 1.000)\"\n",
       "            ],\n",
       "            [\n",
       "                0.396078431372549,\n",
       "                \"rgba(146, 37, 104, 1.000)\"\n",
       "            ],\n",
       "            [\n",
       "                0.4,\n",
       "                \"rgba(147, 38, 103, 1.000)\"\n",
       "            ],\n",
       "            [\n",
       "                0.403921568627451,\n",
       "                \"rgba(149, 38, 103, 1.000)\"\n",
       "            ],\n",
       "            [\n",
       "                0.40784313725490196,\n",
       "                \"rgba(151, 39, 102, 1.000)\"\n",
       "            ],\n",
       "            [\n",
       "                0.4117647058823529,\n",
       "                \"rgba(152, 39, 102, 1.000)\"\n",
       "            ],\n",
       "            [\n",
       "                0.41568627450980394,\n",
       "                \"rgba(154, 40, 101, 1.000)\"\n",
       "            ],\n",
       "            [\n",
       "                0.4196078431372549,\n",
       "                \"rgba(155, 41, 100, 1.000)\"\n",
       "            ],\n",
       "            [\n",
       "                0.4235294117647059,\n",
       "                \"rgba(157, 41, 100, 1.000)\"\n",
       "            ],\n",
       "            [\n",
       "                0.42745098039215684,\n",
       "                \"rgba(159, 42, 99, 1.000)\"\n",
       "            ],\n",
       "            [\n",
       "                0.43137254901960786,\n",
       "                \"rgba(160, 42, 99, 1.000)\"\n",
       "            ],\n",
       "            [\n",
       "                0.43529411764705883,\n",
       "                \"rgba(162, 43, 98, 1.000)\"\n",
       "            ],\n",
       "            [\n",
       "                0.4392156862745098,\n",
       "                \"rgba(163, 44, 97, 1.000)\"\n",
       "            ],\n",
       "            [\n",
       "                0.44313725490196076,\n",
       "                \"rgba(165, 44, 96, 1.000)\"\n",
       "            ],\n",
       "            [\n",
       "                0.4470588235294118,\n",
       "                \"rgba(166, 45, 96, 1.000)\"\n",
       "            ],\n",
       "            [\n",
       "                0.45098039215686275,\n",
       "                \"rgba(168, 46, 95, 1.000)\"\n",
       "            ],\n",
       "            [\n",
       "                0.4549019607843137,\n",
       "                \"rgba(169, 46, 94, 1.000)\"\n",
       "            ],\n",
       "            [\n",
       "                0.4588235294117647,\n",
       "                \"rgba(171, 47, 94, 1.000)\"\n",
       "            ],\n",
       "            [\n",
       "                0.4627450980392157,\n",
       "                \"rgba(173, 48, 93, 1.000)\"\n",
       "            ],\n",
       "            [\n",
       "                0.4666666666666667,\n",
       "                \"rgba(174, 48, 92, 1.000)\"\n",
       "            ],\n",
       "            [\n",
       "                0.47058823529411764,\n",
       "                \"rgba(176, 49, 91, 1.000)\"\n",
       "            ],\n",
       "            [\n",
       "                0.4745098039215686,\n",
       "                \"rgba(177, 50, 90, 1.000)\"\n",
       "            ],\n",
       "            [\n",
       "                0.47843137254901963,\n",
       "                \"rgba(179, 50, 90, 1.000)\"\n",
       "            ],\n",
       "            [\n",
       "                0.4823529411764706,\n",
       "                \"rgba(180, 51, 89, 1.000)\"\n",
       "            ],\n",
       "            [\n",
       "                0.48627450980392156,\n",
       "                \"rgba(182, 52, 88, 1.000)\"\n",
       "            ],\n",
       "            [\n",
       "                0.49019607843137253,\n",
       "                \"rgba(183, 53, 87, 1.000)\"\n",
       "            ],\n",
       "            [\n",
       "                0.49411764705882355,\n",
       "                \"rgba(185, 53, 86, 1.000)\"\n",
       "            ],\n",
       "            [\n",
       "                0.4980392156862745,\n",
       "                \"rgba(186, 54, 85, 1.000)\"\n",
       "            ],\n",
       "            [\n",
       "                0.5019607843137255,\n",
       "                \"rgba(188, 55, 84, 1.000)\"\n",
       "            ],\n",
       "            [\n",
       "                0.5058823529411764,\n",
       "                \"rgba(189, 56, 83, 1.000)\"\n",
       "            ],\n",
       "            [\n",
       "                0.5098039215686274,\n",
       "                \"rgba(191, 57, 82, 1.000)\"\n",
       "            ],\n",
       "            [\n",
       "                0.5137254901960784,\n",
       "                \"rgba(192, 58, 81, 1.000)\"\n",
       "            ],\n",
       "            [\n",
       "                0.5176470588235295,\n",
       "                \"rgba(193, 58, 80, 1.000)\"\n",
       "            ],\n",
       "            [\n",
       "                0.5215686274509804,\n",
       "                \"rgba(195, 59, 79, 1.000)\"\n",
       "            ],\n",
       "            [\n",
       "                0.5254901960784314,\n",
       "                \"rgba(196, 60, 78, 1.000)\"\n",
       "            ],\n",
       "            [\n",
       "                0.5294117647058824,\n",
       "                \"rgba(198, 61, 77, 1.000)\"\n",
       "            ],\n",
       "            [\n",
       "                0.5333333333333333,\n",
       "                \"rgba(199, 62, 76, 1.000)\"\n",
       "            ],\n",
       "            [\n",
       "                0.5372549019607843,\n",
       "                \"rgba(200, 63, 75, 1.000)\"\n",
       "            ],\n",
       "            [\n",
       "                0.5411764705882353,\n",
       "                \"rgba(202, 64, 74, 1.000)\"\n",
       "            ],\n",
       "            [\n",
       "                0.5450980392156862,\n",
       "                \"rgba(203, 65, 73, 1.000)\"\n",
       "            ],\n",
       "            [\n",
       "                0.5490196078431373,\n",
       "                \"rgba(204, 66, 72, 1.000)\"\n",
       "            ],\n",
       "            [\n",
       "                0.5529411764705883,\n",
       "                \"rgba(206, 67, 71, 1.000)\"\n",
       "            ],\n",
       "            [\n",
       "                0.5568627450980392,\n",
       "                \"rgba(207, 68, 70, 1.000)\"\n",
       "            ],\n",
       "            [\n",
       "                0.5607843137254902,\n",
       "                \"rgba(208, 69, 69, 1.000)\"\n",
       "            ],\n",
       "            [\n",
       "                0.5647058823529412,\n",
       "                \"rgba(210, 70, 68, 1.000)\"\n",
       "            ],\n",
       "            [\n",
       "                0.5686274509803921,\n",
       "                \"rgba(211, 71, 67, 1.000)\"\n",
       "            ],\n",
       "            [\n",
       "                0.5725490196078431,\n",
       "                \"rgba(212, 72, 66, 1.000)\"\n",
       "            ],\n",
       "            [\n",
       "                0.5764705882352941,\n",
       "                \"rgba(213, 74, 65, 1.000)\"\n",
       "            ],\n",
       "            [\n",
       "                0.5803921568627451,\n",
       "                \"rgba(215, 75, 63, 1.000)\"\n",
       "            ],\n",
       "            [\n",
       "                0.5843137254901961,\n",
       "                \"rgba(216, 76, 62, 1.000)\"\n",
       "            ],\n",
       "            [\n",
       "                0.5882352941176471,\n",
       "                \"rgba(217, 77, 61, 1.000)\"\n",
       "            ],\n",
       "            [\n",
       "                0.592156862745098,\n",
       "                \"rgba(218, 78, 60, 1.000)\"\n",
       "            ],\n",
       "            [\n",
       "                0.596078431372549,\n",
       "                \"rgba(219, 80, 59, 1.000)\"\n",
       "            ],\n",
       "            [\n",
       "                0.6,\n",
       "                \"rgba(221, 81, 58, 1.000)\"\n",
       "            ],\n",
       "            [\n",
       "                0.6039215686274509,\n",
       "                \"rgba(222, 82, 56, 1.000)\"\n",
       "            ],\n",
       "            [\n",
       "                0.6078431372549019,\n",
       "                \"rgba(223, 83, 55, 1.000)\"\n",
       "            ],\n",
       "            [\n",
       "                0.611764705882353,\n",
       "                \"rgba(224, 85, 54, 1.000)\"\n",
       "            ],\n",
       "            [\n",
       "                0.615686274509804,\n",
       "                \"rgba(225, 86, 53, 1.000)\"\n",
       "            ],\n",
       "            [\n",
       "                0.6196078431372549,\n",
       "                \"rgba(226, 87, 52, 1.000)\"\n",
       "            ],\n",
       "            [\n",
       "                0.6235294117647059,\n",
       "                \"rgba(227, 89, 51, 1.000)\"\n",
       "            ],\n",
       "            [\n",
       "                0.6274509803921569,\n",
       "                \"rgba(228, 90, 49, 1.000)\"\n",
       "            ],\n",
       "            [\n",
       "                0.6313725490196078,\n",
       "                \"rgba(229, 92, 48, 1.000)\"\n",
       "            ],\n",
       "            [\n",
       "                0.6352941176470588,\n",
       "                \"rgba(230, 93, 47, 1.000)\"\n",
       "            ],\n",
       "            [\n",
       "                0.6392156862745098,\n",
       "                \"rgba(231, 94, 46, 1.000)\"\n",
       "            ],\n",
       "            [\n",
       "                0.6431372549019608,\n",
       "                \"rgba(232, 96, 45, 1.000)\"\n",
       "            ],\n",
       "            [\n",
       "                0.6470588235294118,\n",
       "                \"rgba(233, 97, 43, 1.000)\"\n",
       "            ],\n",
       "            [\n",
       "                0.6509803921568628,\n",
       "                \"rgba(234, 99, 42, 1.000)\"\n",
       "            ],\n",
       "            [\n",
       "                0.6549019607843137,\n",
       "                \"rgba(235, 100, 41, 1.000)\"\n",
       "            ],\n",
       "            [\n",
       "                0.6588235294117647,\n",
       "                \"rgba(235, 102, 40, 1.000)\"\n",
       "            ],\n",
       "            [\n",
       "                0.6627450980392157,\n",
       "                \"rgba(236, 103, 38, 1.000)\"\n",
       "            ],\n",
       "            [\n",
       "                0.6666666666666666,\n",
       "                \"rgba(237, 105, 37, 1.000)\"\n",
       "            ],\n",
       "            [\n",
       "                0.6705882352941176,\n",
       "                \"rgba(238, 106, 36, 1.000)\"\n",
       "            ],\n",
       "            [\n",
       "                0.6745098039215687,\n",
       "                \"rgba(239, 108, 35, 1.000)\"\n",
       "            ],\n",
       "            [\n",
       "                0.6784313725490196,\n",
       "                \"rgba(239, 110, 33, 1.000)\"\n",
       "            ],\n",
       "            [\n",
       "                0.6823529411764706,\n",
       "                \"rgba(240, 111, 32, 1.000)\"\n",
       "            ],\n",
       "            [\n",
       "                0.6862745098039216,\n",
       "                \"rgba(241, 113, 31, 1.000)\"\n",
       "            ],\n",
       "            [\n",
       "                0.6901960784313725,\n",
       "                \"rgba(241, 115, 29, 1.000)\"\n",
       "            ],\n",
       "            [\n",
       "                0.6941176470588235,\n",
       "                \"rgba(242, 116, 28, 1.000)\"\n",
       "            ],\n",
       "            [\n",
       "                0.6980392156862745,\n",
       "                \"rgba(243, 118, 27, 1.000)\"\n",
       "            ],\n",
       "            [\n",
       "                0.7019607843137254,\n",
       "                \"rgba(243, 120, 25, 1.000)\"\n",
       "            ],\n",
       "            [\n",
       "                0.7058823529411765,\n",
       "                \"rgba(244, 121, 24, 1.000)\"\n",
       "            ],\n",
       "            [\n",
       "                0.7098039215686275,\n",
       "                \"rgba(245, 123, 23, 1.000)\"\n",
       "            ],\n",
       "            [\n",
       "                0.7137254901960784,\n",
       "                \"rgba(245, 125, 21, 1.000)\"\n",
       "            ],\n",
       "            [\n",
       "                0.7176470588235294,\n",
       "                \"rgba(246, 126, 20, 1.000)\"\n",
       "            ],\n",
       "            [\n",
       "                0.7215686274509804,\n",
       "                \"rgba(246, 128, 19, 1.000)\"\n",
       "            ],\n",
       "            [\n",
       "                0.7254901960784313,\n",
       "                \"rgba(247, 130, 18, 1.000)\"\n",
       "            ],\n",
       "            [\n",
       "                0.7294117647058823,\n",
       "                \"rgba(247, 132, 16, 1.000)\"\n",
       "            ],\n",
       "            [\n",
       "                0.7333333333333333,\n",
       "                \"rgba(248, 133, 15, 1.000)\"\n",
       "            ],\n",
       "            [\n",
       "                0.7372549019607844,\n",
       "                \"rgba(248, 135, 14, 1.000)\"\n",
       "            ],\n",
       "            [\n",
       "                0.7411764705882353,\n",
       "                \"rgba(248, 137, 12, 1.000)\"\n",
       "            ],\n",
       "            [\n",
       "                0.7450980392156863,\n",
       "                \"rgba(249, 139, 11, 1.000)\"\n",
       "            ],\n",
       "            [\n",
       "                0.7490196078431373,\n",
       "                \"rgba(249, 140, 10, 1.000)\"\n",
       "            ],\n",
       "            [\n",
       "                0.7529411764705882,\n",
       "                \"rgba(249, 142, 9, 1.000)\"\n",
       "            ],\n",
       "            [\n",
       "                0.7568627450980392,\n",
       "                \"rgba(250, 144, 8, 1.000)\"\n",
       "            ],\n",
       "            [\n",
       "                0.7607843137254902,\n",
       "                \"rgba(250, 146, 7, 1.000)\"\n",
       "            ],\n",
       "            [\n",
       "                0.7647058823529411,\n",
       "                \"rgba(250, 148, 7, 1.000)\"\n",
       "            ],\n",
       "            [\n",
       "                0.7686274509803922,\n",
       "                \"rgba(251, 150, 6, 1.000)\"\n",
       "            ],\n",
       "            [\n",
       "                0.7725490196078432,\n",
       "                \"rgba(251, 151, 6, 1.000)\"\n",
       "            ],\n",
       "            [\n",
       "                0.7764705882352941,\n",
       "                \"rgba(251, 153, 6, 1.000)\"\n",
       "            ],\n",
       "            [\n",
       "                0.7803921568627451,\n",
       "                \"rgba(251, 155, 6, 1.000)\"\n",
       "            ],\n",
       "            [\n",
       "                0.7843137254901961,\n",
       "                \"rgba(251, 157, 7, 1.000)\"\n",
       "            ],\n",
       "            [\n",
       "                0.788235294117647,\n",
       "                \"rgba(252, 159, 7, 1.000)\"\n",
       "            ],\n",
       "            [\n",
       "                0.792156862745098,\n",
       "                \"rgba(252, 161, 8, 1.000)\"\n",
       "            ],\n",
       "            [\n",
       "                0.796078431372549,\n",
       "                \"rgba(252, 163, 9, 1.000)\"\n",
       "            ],\n",
       "            [\n",
       "                0.8,\n",
       "                \"rgba(252, 165, 10, 1.000)\"\n",
       "            ],\n",
       "            [\n",
       "                0.803921568627451,\n",
       "                \"rgba(252, 166, 12, 1.000)\"\n",
       "            ],\n",
       "            [\n",
       "                0.807843137254902,\n",
       "                \"rgba(252, 168, 13, 1.000)\"\n",
       "            ],\n",
       "            [\n",
       "                0.8117647058823529,\n",
       "                \"rgba(252, 170, 15, 1.000)\"\n",
       "            ],\n",
       "            [\n",
       "                0.8156862745098039,\n",
       "                \"rgba(252, 172, 17, 1.000)\"\n",
       "            ],\n",
       "            [\n",
       "                0.8196078431372549,\n",
       "                \"rgba(252, 174, 18, 1.000)\"\n",
       "            ],\n",
       "            [\n",
       "                0.8235294117647058,\n",
       "                \"rgba(252, 176, 20, 1.000)\"\n",
       "            ],\n",
       "            [\n",
       "                0.8274509803921568,\n",
       "                \"rgba(252, 178, 22, 1.000)\"\n",
       "            ],\n",
       "            [\n",
       "                0.8313725490196079,\n",
       "                \"rgba(252, 180, 24, 1.000)\"\n",
       "            ],\n",
       "            [\n",
       "                0.8352941176470589,\n",
       "                \"rgba(251, 182, 26, 1.000)\"\n",
       "            ],\n",
       "            [\n",
       "                0.8392156862745098,\n",
       "                \"rgba(251, 184, 29, 1.000)\"\n",
       "            ],\n",
       "            [\n",
       "                0.8431372549019608,\n",
       "                \"rgba(251, 186, 31, 1.000)\"\n",
       "            ],\n",
       "            [\n",
       "                0.8470588235294118,\n",
       "                \"rgba(251, 188, 33, 1.000)\"\n",
       "            ],\n",
       "            [\n",
       "                0.8509803921568627,\n",
       "                \"rgba(251, 190, 35, 1.000)\"\n",
       "            ],\n",
       "            [\n",
       "                0.8549019607843137,\n",
       "                \"rgba(250, 192, 38, 1.000)\"\n",
       "            ],\n",
       "            [\n",
       "                0.8588235294117647,\n",
       "                \"rgba(250, 194, 40, 1.000)\"\n",
       "            ],\n",
       "            [\n",
       "                0.8627450980392157,\n",
       "                \"rgba(250, 196, 42, 1.000)\"\n",
       "            ],\n",
       "            [\n",
       "                0.8666666666666667,\n",
       "                \"rgba(250, 198, 45, 1.000)\"\n",
       "            ],\n",
       "            [\n",
       "                0.8705882352941177,\n",
       "                \"rgba(249, 199, 47, 1.000)\"\n",
       "            ],\n",
       "            [\n",
       "                0.8745098039215686,\n",
       "                \"rgba(249, 201, 50, 1.000)\"\n",
       "            ],\n",
       "            [\n",
       "                0.8784313725490196,\n",
       "                \"rgba(249, 203, 53, 1.000)\"\n",
       "            ],\n",
       "            [\n",
       "                0.8823529411764706,\n",
       "                \"rgba(248, 205, 55, 1.000)\"\n",
       "            ],\n",
       "            [\n",
       "                0.8862745098039215,\n",
       "                \"rgba(248, 207, 58, 1.000)\"\n",
       "            ],\n",
       "            [\n",
       "                0.8901960784313725,\n",
       "                \"rgba(247, 209, 61, 1.000)\"\n",
       "            ],\n",
       "            [\n",
       "                0.8941176470588236,\n",
       "                \"rgba(247, 211, 64, 1.000)\"\n",
       "            ],\n",
       "            [\n",
       "                0.8980392156862745,\n",
       "                \"rgba(246, 213, 67, 1.000)\"\n",
       "            ],\n",
       "            [\n",
       "                0.9019607843137255,\n",
       "                \"rgba(246, 215, 70, 1.000)\"\n",
       "            ],\n",
       "            [\n",
       "                0.9058823529411765,\n",
       "                \"rgba(245, 217, 73, 1.000)\"\n",
       "            ],\n",
       "            [\n",
       "                0.9098039215686274,\n",
       "                \"rgba(245, 219, 76, 1.000)\"\n",
       "            ],\n",
       "            [\n",
       "                0.9137254901960784,\n",
       "                \"rgba(244, 221, 79, 1.000)\"\n",
       "            ],\n",
       "            [\n",
       "                0.9176470588235294,\n",
       "                \"rgba(244, 223, 83, 1.000)\"\n",
       "            ],\n",
       "            [\n",
       "                0.9215686274509803,\n",
       "                \"rgba(244, 225, 86, 1.000)\"\n",
       "            ],\n",
       "            [\n",
       "                0.9254901960784314,\n",
       "                \"rgba(243, 227, 90, 1.000)\"\n",
       "            ],\n",
       "            [\n",
       "                0.9294117647058824,\n",
       "                \"rgba(243, 229, 93, 1.000)\"\n",
       "            ],\n",
       "            [\n",
       "                0.9333333333333333,\n",
       "                \"rgba(242, 230, 97, 1.000)\"\n",
       "            ],\n",
       "            [\n",
       "                0.9372549019607843,\n",
       "                \"rgba(242, 232, 101, 1.000)\"\n",
       "            ],\n",
       "            [\n",
       "                0.9411764705882353,\n",
       "                \"rgba(242, 234, 105, 1.000)\"\n",
       "            ],\n",
       "            [\n",
       "                0.9450980392156862,\n",
       "                \"rgba(241, 236, 109, 1.000)\"\n",
       "            ],\n",
       "            [\n",
       "                0.9490196078431372,\n",
       "                \"rgba(241, 237, 113, 1.000)\"\n",
       "            ],\n",
       "            [\n",
       "                0.9529411764705882,\n",
       "                \"rgba(241, 239, 117, 1.000)\"\n",
       "            ],\n",
       "            [\n",
       "                0.9568627450980393,\n",
       "                \"rgba(241, 241, 121, 1.000)\"\n",
       "            ],\n",
       "            [\n",
       "                0.9607843137254902,\n",
       "                \"rgba(242, 242, 125, 1.000)\"\n",
       "            ],\n",
       "            [\n",
       "                0.9647058823529412,\n",
       "                \"rgba(242, 244, 130, 1.000)\"\n",
       "            ],\n",
       "            [\n",
       "                0.9686274509803922,\n",
       "                \"rgba(243, 245, 134, 1.000)\"\n",
       "            ],\n",
       "            [\n",
       "                0.9725490196078431,\n",
       "                \"rgba(243, 246, 138, 1.000)\"\n",
       "            ],\n",
       "            [\n",
       "                0.9764705882352941,\n",
       "                \"rgba(244, 248, 142, 1.000)\"\n",
       "            ],\n",
       "            [\n",
       "                0.9803921568627451,\n",
       "                \"rgba(245, 249, 146, 1.000)\"\n",
       "            ],\n",
       "            [\n",
       "                0.984313725490196,\n",
       "                \"rgba(246, 250, 150, 1.000)\"\n",
       "            ],\n",
       "            [\n",
       "                0.9882352941176471,\n",
       "                \"rgba(248, 251, 154, 1.000)\"\n",
       "            ],\n",
       "            [\n",
       "                0.9921568627450981,\n",
       "                \"rgba(249, 252, 157, 1.000)\"\n",
       "            ],\n",
       "            [\n",
       "                0.996078431372549,\n",
       "                \"rgba(250, 253, 161, 1.000)\"\n",
       "            ],\n",
       "            [\n",
       "                1.0,\n",
       "                \"rgba(252, 255, 164, 1.000)\"\n",
       "            ]\n",
       "        ],\n",
       "        \"yaxis\": \"y2\",\n",
       "        \"showscale\": false,\n",
       "        \"x\": [\n",
       "            0.5,\n",
       "            1.5,\n",
       "            2.5,\n",
       "            3.5,\n",
       "            4.5,\n",
       "            5.5,\n",
       "            6.5,\n",
       "            7.5,\n",
       "            8.5,\n",
       "            9.5,\n",
       "            10.5\n",
       "        ],\n",
       "        \"showlegend\": false,\n",
       "        \"name\": \"y1\",\n",
       "        \"zmin\": 0.0,\n",
       "        \"z\": [\n",
       "            [\n",
       "                null,\n",
       "                null,\n",
       "                null,\n",
       "                null,\n",
       "                null,\n",
       "                null,\n",
       "                null,\n",
       "                null,\n",
       "                null,\n",
       "                null\n",
       "            ]\n",
       "        ],\n",
       "        \"zmax\": 100.0,\n",
       "        \"y\": [\n",
       "            0.5,\n",
       "            1.5\n",
       "        ],\n",
       "        \"type\": \"heatmap\",\n",
       "        \"hoverinfo\": \"none\"\n",
       "    },\n",
       "    {\n",
       "        \"xaxis\": \"x3\",\n",
       "        \"colorbar\": {\n",
       "            \"title\": \"\"\n",
       "        },\n",
       "        \"colorscale\": [\n",
       "            [\n",
       "                0.0,\n",
       "                \"rgba(0, 0, 4, 1.000)\"\n",
       "            ],\n",
       "            [\n",
       "                0.00392156862745098,\n",
       "                \"rgba(1, 0, 5, 1.000)\"\n",
       "            ],\n",
       "            [\n",
       "                0.00784313725490196,\n",
       "                \"rgba(1, 1, 6, 1.000)\"\n",
       "            ],\n",
       "            [\n",
       "                0.011764705882352941,\n",
       "                \"rgba(1, 1, 8, 1.000)\"\n",
       "            ],\n",
       "            [\n",
       "                0.01568627450980392,\n",
       "                \"rgba(2, 1, 10, 1.000)\"\n",
       "            ],\n",
       "            [\n",
       "                0.0196078431372549,\n",
       "                \"rgba(2, 2, 12, 1.000)\"\n",
       "            ],\n",
       "            [\n",
       "                0.023529411764705882,\n",
       "                \"rgba(2, 2, 14, 1.000)\"\n",
       "            ],\n",
       "            [\n",
       "                0.027450980392156862,\n",
       "                \"rgba(3, 2, 16, 1.000)\"\n",
       "            ],\n",
       "            [\n",
       "                0.03137254901960784,\n",
       "                \"rgba(4, 3, 18, 1.000)\"\n",
       "            ],\n",
       "            [\n",
       "                0.03529411764705882,\n",
       "                \"rgba(4, 3, 20, 1.000)\"\n",
       "            ],\n",
       "            [\n",
       "                0.0392156862745098,\n",
       "                \"rgba(5, 4, 23, 1.000)\"\n",
       "            ],\n",
       "            [\n",
       "                0.043137254901960784,\n",
       "                \"rgba(6, 4, 25, 1.000)\"\n",
       "            ],\n",
       "            [\n",
       "                0.047058823529411764,\n",
       "                \"rgba(7, 5, 27, 1.000)\"\n",
       "            ],\n",
       "            [\n",
       "                0.050980392156862744,\n",
       "                \"rgba(8, 5, 29, 1.000)\"\n",
       "            ],\n",
       "            [\n",
       "                0.054901960784313725,\n",
       "                \"rgba(9, 6, 31, 1.000)\"\n",
       "            ],\n",
       "            [\n",
       "                0.058823529411764705,\n",
       "                \"rgba(10, 7, 34, 1.000)\"\n",
       "            ],\n",
       "            [\n",
       "                0.06274509803921569,\n",
       "                \"rgba(11, 7, 36, 1.000)\"\n",
       "            ],\n",
       "            [\n",
       "                0.06666666666666667,\n",
       "                \"rgba(12, 8, 38, 1.000)\"\n",
       "            ],\n",
       "            [\n",
       "                0.07058823529411765,\n",
       "                \"rgba(13, 8, 41, 1.000)\"\n",
       "            ],\n",
       "            [\n",
       "                0.07450980392156863,\n",
       "                \"rgba(14, 9, 43, 1.000)\"\n",
       "            ],\n",
       "            [\n",
       "                0.0784313725490196,\n",
       "                \"rgba(16, 9, 45, 1.000)\"\n",
       "            ],\n",
       "            [\n",
       "                0.08235294117647059,\n",
       "                \"rgba(17, 10, 48, 1.000)\"\n",
       "            ],\n",
       "            [\n",
       "                0.08627450980392157,\n",
       "                \"rgba(18, 10, 50, 1.000)\"\n",
       "            ],\n",
       "            [\n",
       "                0.09019607843137255,\n",
       "                \"rgba(20, 11, 52, 1.000)\"\n",
       "            ],\n",
       "            [\n",
       "                0.09411764705882353,\n",
       "                \"rgba(21, 11, 55, 1.000)\"\n",
       "            ],\n",
       "            [\n",
       "                0.09803921568627451,\n",
       "                \"rgba(22, 11, 57, 1.000)\"\n",
       "            ],\n",
       "            [\n",
       "                0.10196078431372549,\n",
       "                \"rgba(24, 12, 60, 1.000)\"\n",
       "            ],\n",
       "            [\n",
       "                0.10588235294117647,\n",
       "                \"rgba(25, 12, 62, 1.000)\"\n",
       "            ],\n",
       "            [\n",
       "                0.10980392156862745,\n",
       "                \"rgba(27, 12, 65, 1.000)\"\n",
       "            ],\n",
       "            [\n",
       "                0.11372549019607843,\n",
       "                \"rgba(28, 12, 67, 1.000)\"\n",
       "            ],\n",
       "            [\n",
       "                0.11764705882352941,\n",
       "                \"rgba(30, 12, 69, 1.000)\"\n",
       "            ],\n",
       "            [\n",
       "                0.12156862745098039,\n",
       "                \"rgba(31, 12, 72, 1.000)\"\n",
       "            ],\n",
       "            [\n",
       "                0.12549019607843137,\n",
       "                \"rgba(33, 12, 74, 1.000)\"\n",
       "            ],\n",
       "            [\n",
       "                0.12941176470588237,\n",
       "                \"rgba(35, 12, 76, 1.000)\"\n",
       "            ],\n",
       "            [\n",
       "                0.13333333333333333,\n",
       "                \"rgba(36, 12, 79, 1.000)\"\n",
       "            ],\n",
       "            [\n",
       "                0.13725490196078433,\n",
       "                \"rgba(38, 12, 81, 1.000)\"\n",
       "            ],\n",
       "            [\n",
       "                0.1411764705882353,\n",
       "                \"rgba(40, 11, 83, 1.000)\"\n",
       "            ],\n",
       "            [\n",
       "                0.1450980392156863,\n",
       "                \"rgba(41, 11, 85, 1.000)\"\n",
       "            ],\n",
       "            [\n",
       "                0.14901960784313725,\n",
       "                \"rgba(43, 11, 87, 1.000)\"\n",
       "            ],\n",
       "            [\n",
       "                0.15294117647058825,\n",
       "                \"rgba(45, 11, 89, 1.000)\"\n",
       "            ],\n",
       "            [\n",
       "                0.1568627450980392,\n",
       "                \"rgba(47, 10, 91, 1.000)\"\n",
       "            ],\n",
       "            [\n",
       "                0.1607843137254902,\n",
       "                \"rgba(49, 10, 92, 1.000)\"\n",
       "            ],\n",
       "            [\n",
       "                0.16470588235294117,\n",
       "                \"rgba(50, 10, 94, 1.000)\"\n",
       "            ],\n",
       "            [\n",
       "                0.16862745098039217,\n",
       "                \"rgba(52, 10, 95, 1.000)\"\n",
       "            ],\n",
       "            [\n",
       "                0.17254901960784313,\n",
       "                \"rgba(54, 9, 97, 1.000)\"\n",
       "            ],\n",
       "            [\n",
       "                0.17647058823529413,\n",
       "                \"rgba(56, 9, 98, 1.000)\"\n",
       "            ],\n",
       "            [\n",
       "                0.1803921568627451,\n",
       "                \"rgba(57, 9, 99, 1.000)\"\n",
       "            ],\n",
       "            [\n",
       "                0.1843137254901961,\n",
       "                \"rgba(59, 9, 100, 1.000)\"\n",
       "            ],\n",
       "            [\n",
       "                0.18823529411764706,\n",
       "                \"rgba(61, 9, 101, 1.000)\"\n",
       "            ],\n",
       "            [\n",
       "                0.19215686274509805,\n",
       "                \"rgba(62, 9, 102, 1.000)\"\n",
       "            ],\n",
       "            [\n",
       "                0.19607843137254902,\n",
       "                \"rgba(64, 10, 103, 1.000)\"\n",
       "            ],\n",
       "            [\n",
       "                0.2,\n",
       "                \"rgba(66, 10, 104, 1.000)\"\n",
       "            ],\n",
       "            [\n",
       "                0.20392156862745098,\n",
       "                \"rgba(68, 10, 104, 1.000)\"\n",
       "            ],\n",
       "            [\n",
       "                0.20784313725490197,\n",
       "                \"rgba(69, 10, 105, 1.000)\"\n",
       "            ],\n",
       "            [\n",
       "                0.21176470588235294,\n",
       "                \"rgba(71, 11, 106, 1.000)\"\n",
       "            ],\n",
       "            [\n",
       "                0.21568627450980393,\n",
       "                \"rgba(73, 11, 106, 1.000)\"\n",
       "            ],\n",
       "            [\n",
       "                0.2196078431372549,\n",
       "                \"rgba(74, 12, 107, 1.000)\"\n",
       "            ],\n",
       "            [\n",
       "                0.2235294117647059,\n",
       "                \"rgba(76, 12, 107, 1.000)\"\n",
       "            ],\n",
       "            [\n",
       "                0.22745098039215686,\n",
       "                \"rgba(77, 13, 108, 1.000)\"\n",
       "            ],\n",
       "            [\n",
       "                0.23137254901960785,\n",
       "                \"rgba(79, 13, 108, 1.000)\"\n",
       "            ],\n",
       "            [\n",
       "                0.23529411764705882,\n",
       "                \"rgba(81, 14, 108, 1.000)\"\n",
       "            ],\n",
       "            [\n",
       "                0.23921568627450981,\n",
       "                \"rgba(82, 14, 109, 1.000)\"\n",
       "            ],\n",
       "            [\n",
       "                0.24313725490196078,\n",
       "                \"rgba(84, 15, 109, 1.000)\"\n",
       "            ],\n",
       "            [\n",
       "                0.24705882352941178,\n",
       "                \"rgba(85, 15, 109, 1.000)\"\n",
       "            ],\n",
       "            [\n",
       "                0.25098039215686274,\n",
       "                \"rgba(87, 16, 110, 1.000)\"\n",
       "            ],\n",
       "            [\n",
       "                0.2549019607843137,\n",
       "                \"rgba(89, 16, 110, 1.000)\"\n",
       "            ],\n",
       "            [\n",
       "                0.25882352941176473,\n",
       "                \"rgba(90, 17, 110, 1.000)\"\n",
       "            ],\n",
       "            [\n",
       "                0.2627450980392157,\n",
       "                \"rgba(92, 18, 110, 1.000)\"\n",
       "            ],\n",
       "            [\n",
       "                0.26666666666666666,\n",
       "                \"rgba(93, 18, 110, 1.000)\"\n",
       "            ],\n",
       "            [\n",
       "                0.27058823529411763,\n",
       "                \"rgba(95, 19, 110, 1.000)\"\n",
       "            ],\n",
       "            [\n",
       "                0.27450980392156865,\n",
       "                \"rgba(97, 19, 110, 1.000)\"\n",
       "            ],\n",
       "            [\n",
       "                0.2784313725490196,\n",
       "                \"rgba(98, 20, 110, 1.000)\"\n",
       "            ],\n",
       "            [\n",
       "                0.2823529411764706,\n",
       "                \"rgba(100, 21, 110, 1.000)\"\n",
       "            ],\n",
       "            [\n",
       "                0.28627450980392155,\n",
       "                \"rgba(101, 21, 110, 1.000)\"\n",
       "            ],\n",
       "            [\n",
       "                0.2901960784313726,\n",
       "                \"rgba(103, 22, 110, 1.000)\"\n",
       "            ],\n",
       "            [\n",
       "                0.29411764705882354,\n",
       "                \"rgba(105, 22, 110, 1.000)\"\n",
       "            ],\n",
       "            [\n",
       "                0.2980392156862745,\n",
       "                \"rgba(106, 23, 110, 1.000)\"\n",
       "            ],\n",
       "            [\n",
       "                0.30196078431372547,\n",
       "                \"rgba(108, 24, 110, 1.000)\"\n",
       "            ],\n",
       "            [\n",
       "                0.3058823529411765,\n",
       "                \"rgba(109, 24, 110, 1.000)\"\n",
       "            ],\n",
       "            [\n",
       "                0.30980392156862746,\n",
       "                \"rgba(111, 25, 110, 1.000)\"\n",
       "            ],\n",
       "            [\n",
       "                0.3137254901960784,\n",
       "                \"rgba(113, 25, 110, 1.000)\"\n",
       "            ],\n",
       "            [\n",
       "                0.3176470588235294,\n",
       "                \"rgba(114, 26, 110, 1.000)\"\n",
       "            ],\n",
       "            [\n",
       "                0.3215686274509804,\n",
       "                \"rgba(116, 26, 110, 1.000)\"\n",
       "            ],\n",
       "            [\n",
       "                0.3254901960784314,\n",
       "                \"rgba(117, 27, 110, 1.000)\"\n",
       "            ],\n",
       "            [\n",
       "                0.32941176470588235,\n",
       "                \"rgba(119, 28, 109, 1.000)\"\n",
       "            ],\n",
       "            [\n",
       "                0.3333333333333333,\n",
       "                \"rgba(120, 28, 109, 1.000)\"\n",
       "            ],\n",
       "            [\n",
       "                0.33725490196078434,\n",
       "                \"rgba(122, 29, 109, 1.000)\"\n",
       "            ],\n",
       "            [\n",
       "                0.3411764705882353,\n",
       "                \"rgba(124, 29, 109, 1.000)\"\n",
       "            ],\n",
       "            [\n",
       "                0.34509803921568627,\n",
       "                \"rgba(125, 30, 109, 1.000)\"\n",
       "            ],\n",
       "            [\n",
       "                0.34901960784313724,\n",
       "                \"rgba(127, 30, 108, 1.000)\"\n",
       "            ],\n",
       "            [\n",
       "                0.35294117647058826,\n",
       "                \"rgba(128, 31, 108, 1.000)\"\n",
       "            ],\n",
       "            [\n",
       "                0.3568627450980392,\n",
       "                \"rgba(130, 32, 108, 1.000)\"\n",
       "            ],\n",
       "            [\n",
       "                0.3607843137254902,\n",
       "                \"rgba(132, 32, 107, 1.000)\"\n",
       "            ],\n",
       "            [\n",
       "                0.36470588235294116,\n",
       "                \"rgba(133, 33, 107, 1.000)\"\n",
       "            ],\n",
       "            [\n",
       "                0.3686274509803922,\n",
       "                \"rgba(135, 33, 107, 1.000)\"\n",
       "            ],\n",
       "            [\n",
       "                0.37254901960784315,\n",
       "                \"rgba(136, 34, 106, 1.000)\"\n",
       "            ],\n",
       "            [\n",
       "                0.3764705882352941,\n",
       "                \"rgba(138, 34, 106, 1.000)\"\n",
       "            ],\n",
       "            [\n",
       "                0.3803921568627451,\n",
       "                \"rgba(140, 35, 105, 1.000)\"\n",
       "            ],\n",
       "            [\n",
       "                0.3843137254901961,\n",
       "                \"rgba(141, 35, 105, 1.000)\"\n",
       "            ],\n",
       "            [\n",
       "                0.38823529411764707,\n",
       "                \"rgba(143, 36, 105, 1.000)\"\n",
       "            ],\n",
       "            [\n",
       "                0.39215686274509803,\n",
       "                \"rgba(144, 37, 104, 1.000)\"\n",
       "            ],\n",
       "            [\n",
       "                0.396078431372549,\n",
       "                \"rgba(146, 37, 104, 1.000)\"\n",
       "            ],\n",
       "            [\n",
       "                0.4,\n",
       "                \"rgba(147, 38, 103, 1.000)\"\n",
       "            ],\n",
       "            [\n",
       "                0.403921568627451,\n",
       "                \"rgba(149, 38, 103, 1.000)\"\n",
       "            ],\n",
       "            [\n",
       "                0.40784313725490196,\n",
       "                \"rgba(151, 39, 102, 1.000)\"\n",
       "            ],\n",
       "            [\n",
       "                0.4117647058823529,\n",
       "                \"rgba(152, 39, 102, 1.000)\"\n",
       "            ],\n",
       "            [\n",
       "                0.41568627450980394,\n",
       "                \"rgba(154, 40, 101, 1.000)\"\n",
       "            ],\n",
       "            [\n",
       "                0.4196078431372549,\n",
       "                \"rgba(155, 41, 100, 1.000)\"\n",
       "            ],\n",
       "            [\n",
       "                0.4235294117647059,\n",
       "                \"rgba(157, 41, 100, 1.000)\"\n",
       "            ],\n",
       "            [\n",
       "                0.42745098039215684,\n",
       "                \"rgba(159, 42, 99, 1.000)\"\n",
       "            ],\n",
       "            [\n",
       "                0.43137254901960786,\n",
       "                \"rgba(160, 42, 99, 1.000)\"\n",
       "            ],\n",
       "            [\n",
       "                0.43529411764705883,\n",
       "                \"rgba(162, 43, 98, 1.000)\"\n",
       "            ],\n",
       "            [\n",
       "                0.4392156862745098,\n",
       "                \"rgba(163, 44, 97, 1.000)\"\n",
       "            ],\n",
       "            [\n",
       "                0.44313725490196076,\n",
       "                \"rgba(165, 44, 96, 1.000)\"\n",
       "            ],\n",
       "            [\n",
       "                0.4470588235294118,\n",
       "                \"rgba(166, 45, 96, 1.000)\"\n",
       "            ],\n",
       "            [\n",
       "                0.45098039215686275,\n",
       "                \"rgba(168, 46, 95, 1.000)\"\n",
       "            ],\n",
       "            [\n",
       "                0.4549019607843137,\n",
       "                \"rgba(169, 46, 94, 1.000)\"\n",
       "            ],\n",
       "            [\n",
       "                0.4588235294117647,\n",
       "                \"rgba(171, 47, 94, 1.000)\"\n",
       "            ],\n",
       "            [\n",
       "                0.4627450980392157,\n",
       "                \"rgba(173, 48, 93, 1.000)\"\n",
       "            ],\n",
       "            [\n",
       "                0.4666666666666667,\n",
       "                \"rgba(174, 48, 92, 1.000)\"\n",
       "            ],\n",
       "            [\n",
       "                0.47058823529411764,\n",
       "                \"rgba(176, 49, 91, 1.000)\"\n",
       "            ],\n",
       "            [\n",
       "                0.4745098039215686,\n",
       "                \"rgba(177, 50, 90, 1.000)\"\n",
       "            ],\n",
       "            [\n",
       "                0.47843137254901963,\n",
       "                \"rgba(179, 50, 90, 1.000)\"\n",
       "            ],\n",
       "            [\n",
       "                0.4823529411764706,\n",
       "                \"rgba(180, 51, 89, 1.000)\"\n",
       "            ],\n",
       "            [\n",
       "                0.48627450980392156,\n",
       "                \"rgba(182, 52, 88, 1.000)\"\n",
       "            ],\n",
       "            [\n",
       "                0.49019607843137253,\n",
       "                \"rgba(183, 53, 87, 1.000)\"\n",
       "            ],\n",
       "            [\n",
       "                0.49411764705882355,\n",
       "                \"rgba(185, 53, 86, 1.000)\"\n",
       "            ],\n",
       "            [\n",
       "                0.4980392156862745,\n",
       "                \"rgba(186, 54, 85, 1.000)\"\n",
       "            ],\n",
       "            [\n",
       "                0.5019607843137255,\n",
       "                \"rgba(188, 55, 84, 1.000)\"\n",
       "            ],\n",
       "            [\n",
       "                0.5058823529411764,\n",
       "                \"rgba(189, 56, 83, 1.000)\"\n",
       "            ],\n",
       "            [\n",
       "                0.5098039215686274,\n",
       "                \"rgba(191, 57, 82, 1.000)\"\n",
       "            ],\n",
       "            [\n",
       "                0.5137254901960784,\n",
       "                \"rgba(192, 58, 81, 1.000)\"\n",
       "            ],\n",
       "            [\n",
       "                0.5176470588235295,\n",
       "                \"rgba(193, 58, 80, 1.000)\"\n",
       "            ],\n",
       "            [\n",
       "                0.5215686274509804,\n",
       "                \"rgba(195, 59, 79, 1.000)\"\n",
       "            ],\n",
       "            [\n",
       "                0.5254901960784314,\n",
       "                \"rgba(196, 60, 78, 1.000)\"\n",
       "            ],\n",
       "            [\n",
       "                0.5294117647058824,\n",
       "                \"rgba(198, 61, 77, 1.000)\"\n",
       "            ],\n",
       "            [\n",
       "                0.5333333333333333,\n",
       "                \"rgba(199, 62, 76, 1.000)\"\n",
       "            ],\n",
       "            [\n",
       "                0.5372549019607843,\n",
       "                \"rgba(200, 63, 75, 1.000)\"\n",
       "            ],\n",
       "            [\n",
       "                0.5411764705882353,\n",
       "                \"rgba(202, 64, 74, 1.000)\"\n",
       "            ],\n",
       "            [\n",
       "                0.5450980392156862,\n",
       "                \"rgba(203, 65, 73, 1.000)\"\n",
       "            ],\n",
       "            [\n",
       "                0.5490196078431373,\n",
       "                \"rgba(204, 66, 72, 1.000)\"\n",
       "            ],\n",
       "            [\n",
       "                0.5529411764705883,\n",
       "                \"rgba(206, 67, 71, 1.000)\"\n",
       "            ],\n",
       "            [\n",
       "                0.5568627450980392,\n",
       "                \"rgba(207, 68, 70, 1.000)\"\n",
       "            ],\n",
       "            [\n",
       "                0.5607843137254902,\n",
       "                \"rgba(208, 69, 69, 1.000)\"\n",
       "            ],\n",
       "            [\n",
       "                0.5647058823529412,\n",
       "                \"rgba(210, 70, 68, 1.000)\"\n",
       "            ],\n",
       "            [\n",
       "                0.5686274509803921,\n",
       "                \"rgba(211, 71, 67, 1.000)\"\n",
       "            ],\n",
       "            [\n",
       "                0.5725490196078431,\n",
       "                \"rgba(212, 72, 66, 1.000)\"\n",
       "            ],\n",
       "            [\n",
       "                0.5764705882352941,\n",
       "                \"rgba(213, 74, 65, 1.000)\"\n",
       "            ],\n",
       "            [\n",
       "                0.5803921568627451,\n",
       "                \"rgba(215, 75, 63, 1.000)\"\n",
       "            ],\n",
       "            [\n",
       "                0.5843137254901961,\n",
       "                \"rgba(216, 76, 62, 1.000)\"\n",
       "            ],\n",
       "            [\n",
       "                0.5882352941176471,\n",
       "                \"rgba(217, 77, 61, 1.000)\"\n",
       "            ],\n",
       "            [\n",
       "                0.592156862745098,\n",
       "                \"rgba(218, 78, 60, 1.000)\"\n",
       "            ],\n",
       "            [\n",
       "                0.596078431372549,\n",
       "                \"rgba(219, 80, 59, 1.000)\"\n",
       "            ],\n",
       "            [\n",
       "                0.6,\n",
       "                \"rgba(221, 81, 58, 1.000)\"\n",
       "            ],\n",
       "            [\n",
       "                0.6039215686274509,\n",
       "                \"rgba(222, 82, 56, 1.000)\"\n",
       "            ],\n",
       "            [\n",
       "                0.6078431372549019,\n",
       "                \"rgba(223, 83, 55, 1.000)\"\n",
       "            ],\n",
       "            [\n",
       "                0.611764705882353,\n",
       "                \"rgba(224, 85, 54, 1.000)\"\n",
       "            ],\n",
       "            [\n",
       "                0.615686274509804,\n",
       "                \"rgba(225, 86, 53, 1.000)\"\n",
       "            ],\n",
       "            [\n",
       "                0.6196078431372549,\n",
       "                \"rgba(226, 87, 52, 1.000)\"\n",
       "            ],\n",
       "            [\n",
       "                0.6235294117647059,\n",
       "                \"rgba(227, 89, 51, 1.000)\"\n",
       "            ],\n",
       "            [\n",
       "                0.6274509803921569,\n",
       "                \"rgba(228, 90, 49, 1.000)\"\n",
       "            ],\n",
       "            [\n",
       "                0.6313725490196078,\n",
       "                \"rgba(229, 92, 48, 1.000)\"\n",
       "            ],\n",
       "            [\n",
       "                0.6352941176470588,\n",
       "                \"rgba(230, 93, 47, 1.000)\"\n",
       "            ],\n",
       "            [\n",
       "                0.6392156862745098,\n",
       "                \"rgba(231, 94, 46, 1.000)\"\n",
       "            ],\n",
       "            [\n",
       "                0.6431372549019608,\n",
       "                \"rgba(232, 96, 45, 1.000)\"\n",
       "            ],\n",
       "            [\n",
       "                0.6470588235294118,\n",
       "                \"rgba(233, 97, 43, 1.000)\"\n",
       "            ],\n",
       "            [\n",
       "                0.6509803921568628,\n",
       "                \"rgba(234, 99, 42, 1.000)\"\n",
       "            ],\n",
       "            [\n",
       "                0.6549019607843137,\n",
       "                \"rgba(235, 100, 41, 1.000)\"\n",
       "            ],\n",
       "            [\n",
       "                0.6588235294117647,\n",
       "                \"rgba(235, 102, 40, 1.000)\"\n",
       "            ],\n",
       "            [\n",
       "                0.6627450980392157,\n",
       "                \"rgba(236, 103, 38, 1.000)\"\n",
       "            ],\n",
       "            [\n",
       "                0.6666666666666666,\n",
       "                \"rgba(237, 105, 37, 1.000)\"\n",
       "            ],\n",
       "            [\n",
       "                0.6705882352941176,\n",
       "                \"rgba(238, 106, 36, 1.000)\"\n",
       "            ],\n",
       "            [\n",
       "                0.6745098039215687,\n",
       "                \"rgba(239, 108, 35, 1.000)\"\n",
       "            ],\n",
       "            [\n",
       "                0.6784313725490196,\n",
       "                \"rgba(239, 110, 33, 1.000)\"\n",
       "            ],\n",
       "            [\n",
       "                0.6823529411764706,\n",
       "                \"rgba(240, 111, 32, 1.000)\"\n",
       "            ],\n",
       "            [\n",
       "                0.6862745098039216,\n",
       "                \"rgba(241, 113, 31, 1.000)\"\n",
       "            ],\n",
       "            [\n",
       "                0.6901960784313725,\n",
       "                \"rgba(241, 115, 29, 1.000)\"\n",
       "            ],\n",
       "            [\n",
       "                0.6941176470588235,\n",
       "                \"rgba(242, 116, 28, 1.000)\"\n",
       "            ],\n",
       "            [\n",
       "                0.6980392156862745,\n",
       "                \"rgba(243, 118, 27, 1.000)\"\n",
       "            ],\n",
       "            [\n",
       "                0.7019607843137254,\n",
       "                \"rgba(243, 120, 25, 1.000)\"\n",
       "            ],\n",
       "            [\n",
       "                0.7058823529411765,\n",
       "                \"rgba(244, 121, 24, 1.000)\"\n",
       "            ],\n",
       "            [\n",
       "                0.7098039215686275,\n",
       "                \"rgba(245, 123, 23, 1.000)\"\n",
       "            ],\n",
       "            [\n",
       "                0.7137254901960784,\n",
       "                \"rgba(245, 125, 21, 1.000)\"\n",
       "            ],\n",
       "            [\n",
       "                0.7176470588235294,\n",
       "                \"rgba(246, 126, 20, 1.000)\"\n",
       "            ],\n",
       "            [\n",
       "                0.7215686274509804,\n",
       "                \"rgba(246, 128, 19, 1.000)\"\n",
       "            ],\n",
       "            [\n",
       "                0.7254901960784313,\n",
       "                \"rgba(247, 130, 18, 1.000)\"\n",
       "            ],\n",
       "            [\n",
       "                0.7294117647058823,\n",
       "                \"rgba(247, 132, 16, 1.000)\"\n",
       "            ],\n",
       "            [\n",
       "                0.7333333333333333,\n",
       "                \"rgba(248, 133, 15, 1.000)\"\n",
       "            ],\n",
       "            [\n",
       "                0.7372549019607844,\n",
       "                \"rgba(248, 135, 14, 1.000)\"\n",
       "            ],\n",
       "            [\n",
       "                0.7411764705882353,\n",
       "                \"rgba(248, 137, 12, 1.000)\"\n",
       "            ],\n",
       "            [\n",
       "                0.7450980392156863,\n",
       "                \"rgba(249, 139, 11, 1.000)\"\n",
       "            ],\n",
       "            [\n",
       "                0.7490196078431373,\n",
       "                \"rgba(249, 140, 10, 1.000)\"\n",
       "            ],\n",
       "            [\n",
       "                0.7529411764705882,\n",
       "                \"rgba(249, 142, 9, 1.000)\"\n",
       "            ],\n",
       "            [\n",
       "                0.7568627450980392,\n",
       "                \"rgba(250, 144, 8, 1.000)\"\n",
       "            ],\n",
       "            [\n",
       "                0.7607843137254902,\n",
       "                \"rgba(250, 146, 7, 1.000)\"\n",
       "            ],\n",
       "            [\n",
       "                0.7647058823529411,\n",
       "                \"rgba(250, 148, 7, 1.000)\"\n",
       "            ],\n",
       "            [\n",
       "                0.7686274509803922,\n",
       "                \"rgba(251, 150, 6, 1.000)\"\n",
       "            ],\n",
       "            [\n",
       "                0.7725490196078432,\n",
       "                \"rgba(251, 151, 6, 1.000)\"\n",
       "            ],\n",
       "            [\n",
       "                0.7764705882352941,\n",
       "                \"rgba(251, 153, 6, 1.000)\"\n",
       "            ],\n",
       "            [\n",
       "                0.7803921568627451,\n",
       "                \"rgba(251, 155, 6, 1.000)\"\n",
       "            ],\n",
       "            [\n",
       "                0.7843137254901961,\n",
       "                \"rgba(251, 157, 7, 1.000)\"\n",
       "            ],\n",
       "            [\n",
       "                0.788235294117647,\n",
       "                \"rgba(252, 159, 7, 1.000)\"\n",
       "            ],\n",
       "            [\n",
       "                0.792156862745098,\n",
       "                \"rgba(252, 161, 8, 1.000)\"\n",
       "            ],\n",
       "            [\n",
       "                0.796078431372549,\n",
       "                \"rgba(252, 163, 9, 1.000)\"\n",
       "            ],\n",
       "            [\n",
       "                0.8,\n",
       "                \"rgba(252, 165, 10, 1.000)\"\n",
       "            ],\n",
       "            [\n",
       "                0.803921568627451,\n",
       "                \"rgba(252, 166, 12, 1.000)\"\n",
       "            ],\n",
       "            [\n",
       "                0.807843137254902,\n",
       "                \"rgba(252, 168, 13, 1.000)\"\n",
       "            ],\n",
       "            [\n",
       "                0.8117647058823529,\n",
       "                \"rgba(252, 170, 15, 1.000)\"\n",
       "            ],\n",
       "            [\n",
       "                0.8156862745098039,\n",
       "                \"rgba(252, 172, 17, 1.000)\"\n",
       "            ],\n",
       "            [\n",
       "                0.8196078431372549,\n",
       "                \"rgba(252, 174, 18, 1.000)\"\n",
       "            ],\n",
       "            [\n",
       "                0.8235294117647058,\n",
       "                \"rgba(252, 176, 20, 1.000)\"\n",
       "            ],\n",
       "            [\n",
       "                0.8274509803921568,\n",
       "                \"rgba(252, 178, 22, 1.000)\"\n",
       "            ],\n",
       "            [\n",
       "                0.8313725490196079,\n",
       "                \"rgba(252, 180, 24, 1.000)\"\n",
       "            ],\n",
       "            [\n",
       "                0.8352941176470589,\n",
       "                \"rgba(251, 182, 26, 1.000)\"\n",
       "            ],\n",
       "            [\n",
       "                0.8392156862745098,\n",
       "                \"rgba(251, 184, 29, 1.000)\"\n",
       "            ],\n",
       "            [\n",
       "                0.8431372549019608,\n",
       "                \"rgba(251, 186, 31, 1.000)\"\n",
       "            ],\n",
       "            [\n",
       "                0.8470588235294118,\n",
       "                \"rgba(251, 188, 33, 1.000)\"\n",
       "            ],\n",
       "            [\n",
       "                0.8509803921568627,\n",
       "                \"rgba(251, 190, 35, 1.000)\"\n",
       "            ],\n",
       "            [\n",
       "                0.8549019607843137,\n",
       "                \"rgba(250, 192, 38, 1.000)\"\n",
       "            ],\n",
       "            [\n",
       "                0.8588235294117647,\n",
       "                \"rgba(250, 194, 40, 1.000)\"\n",
       "            ],\n",
       "            [\n",
       "                0.8627450980392157,\n",
       "                \"rgba(250, 196, 42, 1.000)\"\n",
       "            ],\n",
       "            [\n",
       "                0.8666666666666667,\n",
       "                \"rgba(250, 198, 45, 1.000)\"\n",
       "            ],\n",
       "            [\n",
       "                0.8705882352941177,\n",
       "                \"rgba(249, 199, 47, 1.000)\"\n",
       "            ],\n",
       "            [\n",
       "                0.8745098039215686,\n",
       "                \"rgba(249, 201, 50, 1.000)\"\n",
       "            ],\n",
       "            [\n",
       "                0.8784313725490196,\n",
       "                \"rgba(249, 203, 53, 1.000)\"\n",
       "            ],\n",
       "            [\n",
       "                0.8823529411764706,\n",
       "                \"rgba(248, 205, 55, 1.000)\"\n",
       "            ],\n",
       "            [\n",
       "                0.8862745098039215,\n",
       "                \"rgba(248, 207, 58, 1.000)\"\n",
       "            ],\n",
       "            [\n",
       "                0.8901960784313725,\n",
       "                \"rgba(247, 209, 61, 1.000)\"\n",
       "            ],\n",
       "            [\n",
       "                0.8941176470588236,\n",
       "                \"rgba(247, 211, 64, 1.000)\"\n",
       "            ],\n",
       "            [\n",
       "                0.8980392156862745,\n",
       "                \"rgba(246, 213, 67, 1.000)\"\n",
       "            ],\n",
       "            [\n",
       "                0.9019607843137255,\n",
       "                \"rgba(246, 215, 70, 1.000)\"\n",
       "            ],\n",
       "            [\n",
       "                0.9058823529411765,\n",
       "                \"rgba(245, 217, 73, 1.000)\"\n",
       "            ],\n",
       "            [\n",
       "                0.9098039215686274,\n",
       "                \"rgba(245, 219, 76, 1.000)\"\n",
       "            ],\n",
       "            [\n",
       "                0.9137254901960784,\n",
       "                \"rgba(244, 221, 79, 1.000)\"\n",
       "            ],\n",
       "            [\n",
       "                0.9176470588235294,\n",
       "                \"rgba(244, 223, 83, 1.000)\"\n",
       "            ],\n",
       "            [\n",
       "                0.9215686274509803,\n",
       "                \"rgba(244, 225, 86, 1.000)\"\n",
       "            ],\n",
       "            [\n",
       "                0.9254901960784314,\n",
       "                \"rgba(243, 227, 90, 1.000)\"\n",
       "            ],\n",
       "            [\n",
       "                0.9294117647058824,\n",
       "                \"rgba(243, 229, 93, 1.000)\"\n",
       "            ],\n",
       "            [\n",
       "                0.9333333333333333,\n",
       "                \"rgba(242, 230, 97, 1.000)\"\n",
       "            ],\n",
       "            [\n",
       "                0.9372549019607843,\n",
       "                \"rgba(242, 232, 101, 1.000)\"\n",
       "            ],\n",
       "            [\n",
       "                0.9411764705882353,\n",
       "                \"rgba(242, 234, 105, 1.000)\"\n",
       "            ],\n",
       "            [\n",
       "                0.9450980392156862,\n",
       "                \"rgba(241, 236, 109, 1.000)\"\n",
       "            ],\n",
       "            [\n",
       "                0.9490196078431372,\n",
       "                \"rgba(241, 237, 113, 1.000)\"\n",
       "            ],\n",
       "            [\n",
       "                0.9529411764705882,\n",
       "                \"rgba(241, 239, 117, 1.000)\"\n",
       "            ],\n",
       "            [\n",
       "                0.9568627450980393,\n",
       "                \"rgba(241, 241, 121, 1.000)\"\n",
       "            ],\n",
       "            [\n",
       "                0.9607843137254902,\n",
       "                \"rgba(242, 242, 125, 1.000)\"\n",
       "            ],\n",
       "            [\n",
       "                0.9647058823529412,\n",
       "                \"rgba(242, 244, 130, 1.000)\"\n",
       "            ],\n",
       "            [\n",
       "                0.9686274509803922,\n",
       "                \"rgba(243, 245, 134, 1.000)\"\n",
       "            ],\n",
       "            [\n",
       "                0.9725490196078431,\n",
       "                \"rgba(243, 246, 138, 1.000)\"\n",
       "            ],\n",
       "            [\n",
       "                0.9764705882352941,\n",
       "                \"rgba(244, 248, 142, 1.000)\"\n",
       "            ],\n",
       "            [\n",
       "                0.9803921568627451,\n",
       "                \"rgba(245, 249, 146, 1.000)\"\n",
       "            ],\n",
       "            [\n",
       "                0.984313725490196,\n",
       "                \"rgba(246, 250, 150, 1.000)\"\n",
       "            ],\n",
       "            [\n",
       "                0.9882352941176471,\n",
       "                \"rgba(248, 251, 154, 1.000)\"\n",
       "            ],\n",
       "            [\n",
       "                0.9921568627450981,\n",
       "                \"rgba(249, 252, 157, 1.000)\"\n",
       "            ],\n",
       "            [\n",
       "                0.996078431372549,\n",
       "                \"rgba(250, 253, 161, 1.000)\"\n",
       "            ],\n",
       "            [\n",
       "                1.0,\n",
       "                \"rgba(252, 255, 164, 1.000)\"\n",
       "            ]\n",
       "        ],\n",
       "        \"yaxis\": \"y3\",\n",
       "        \"showscale\": false,\n",
       "        \"x\": [\n",
       "            0.5,\n",
       "            1.5,\n",
       "            2.5,\n",
       "            3.5,\n",
       "            4.5,\n",
       "            5.5,\n",
       "            6.5,\n",
       "            7.5,\n",
       "            8.5,\n",
       "            9.5,\n",
       "            10.5\n",
       "        ],\n",
       "        \"showlegend\": false,\n",
       "        \"name\": \"y1\",\n",
       "        \"zmin\": 0.0,\n",
       "        \"z\": [\n",
       "            [\n",
       "                null,\n",
       "                null,\n",
       "                null,\n",
       "                null,\n",
       "                null,\n",
       "                null,\n",
       "                null,\n",
       "                null,\n",
       "                null,\n",
       "                null\n",
       "            ]\n",
       "        ],\n",
       "        \"zmax\": 100.0,\n",
       "        \"y\": [\n",
       "            0.5,\n",
       "            1.5\n",
       "        ],\n",
       "        \"type\": \"heatmap\",\n",
       "        \"hoverinfo\": \"none\"\n",
       "    },\n",
       "    {\n",
       "        \"xaxis\": \"x4\",\n",
       "        \"colorbar\": {\n",
       "            \"title\": \"\"\n",
       "        },\n",
       "        \"colorscale\": [\n",
       "            [\n",
       "                0.0,\n",
       "                \"rgba(0, 0, 4, 1.000)\"\n",
       "            ],\n",
       "            [\n",
       "                0.00392156862745098,\n",
       "                \"rgba(1, 0, 5, 1.000)\"\n",
       "            ],\n",
       "            [\n",
       "                0.00784313725490196,\n",
       "                \"rgba(1, 1, 6, 1.000)\"\n",
       "            ],\n",
       "            [\n",
       "                0.011764705882352941,\n",
       "                \"rgba(1, 1, 8, 1.000)\"\n",
       "            ],\n",
       "            [\n",
       "                0.01568627450980392,\n",
       "                \"rgba(2, 1, 10, 1.000)\"\n",
       "            ],\n",
       "            [\n",
       "                0.0196078431372549,\n",
       "                \"rgba(2, 2, 12, 1.000)\"\n",
       "            ],\n",
       "            [\n",
       "                0.023529411764705882,\n",
       "                \"rgba(2, 2, 14, 1.000)\"\n",
       "            ],\n",
       "            [\n",
       "                0.027450980392156862,\n",
       "                \"rgba(3, 2, 16, 1.000)\"\n",
       "            ],\n",
       "            [\n",
       "                0.03137254901960784,\n",
       "                \"rgba(4, 3, 18, 1.000)\"\n",
       "            ],\n",
       "            [\n",
       "                0.03529411764705882,\n",
       "                \"rgba(4, 3, 20, 1.000)\"\n",
       "            ],\n",
       "            [\n",
       "                0.0392156862745098,\n",
       "                \"rgba(5, 4, 23, 1.000)\"\n",
       "            ],\n",
       "            [\n",
       "                0.043137254901960784,\n",
       "                \"rgba(6, 4, 25, 1.000)\"\n",
       "            ],\n",
       "            [\n",
       "                0.047058823529411764,\n",
       "                \"rgba(7, 5, 27, 1.000)\"\n",
       "            ],\n",
       "            [\n",
       "                0.050980392156862744,\n",
       "                \"rgba(8, 5, 29, 1.000)\"\n",
       "            ],\n",
       "            [\n",
       "                0.054901960784313725,\n",
       "                \"rgba(9, 6, 31, 1.000)\"\n",
       "            ],\n",
       "            [\n",
       "                0.058823529411764705,\n",
       "                \"rgba(10, 7, 34, 1.000)\"\n",
       "            ],\n",
       "            [\n",
       "                0.06274509803921569,\n",
       "                \"rgba(11, 7, 36, 1.000)\"\n",
       "            ],\n",
       "            [\n",
       "                0.06666666666666667,\n",
       "                \"rgba(12, 8, 38, 1.000)\"\n",
       "            ],\n",
       "            [\n",
       "                0.07058823529411765,\n",
       "                \"rgba(13, 8, 41, 1.000)\"\n",
       "            ],\n",
       "            [\n",
       "                0.07450980392156863,\n",
       "                \"rgba(14, 9, 43, 1.000)\"\n",
       "            ],\n",
       "            [\n",
       "                0.0784313725490196,\n",
       "                \"rgba(16, 9, 45, 1.000)\"\n",
       "            ],\n",
       "            [\n",
       "                0.08235294117647059,\n",
       "                \"rgba(17, 10, 48, 1.000)\"\n",
       "            ],\n",
       "            [\n",
       "                0.08627450980392157,\n",
       "                \"rgba(18, 10, 50, 1.000)\"\n",
       "            ],\n",
       "            [\n",
       "                0.09019607843137255,\n",
       "                \"rgba(20, 11, 52, 1.000)\"\n",
       "            ],\n",
       "            [\n",
       "                0.09411764705882353,\n",
       "                \"rgba(21, 11, 55, 1.000)\"\n",
       "            ],\n",
       "            [\n",
       "                0.09803921568627451,\n",
       "                \"rgba(22, 11, 57, 1.000)\"\n",
       "            ],\n",
       "            [\n",
       "                0.10196078431372549,\n",
       "                \"rgba(24, 12, 60, 1.000)\"\n",
       "            ],\n",
       "            [\n",
       "                0.10588235294117647,\n",
       "                \"rgba(25, 12, 62, 1.000)\"\n",
       "            ],\n",
       "            [\n",
       "                0.10980392156862745,\n",
       "                \"rgba(27, 12, 65, 1.000)\"\n",
       "            ],\n",
       "            [\n",
       "                0.11372549019607843,\n",
       "                \"rgba(28, 12, 67, 1.000)\"\n",
       "            ],\n",
       "            [\n",
       "                0.11764705882352941,\n",
       "                \"rgba(30, 12, 69, 1.000)\"\n",
       "            ],\n",
       "            [\n",
       "                0.12156862745098039,\n",
       "                \"rgba(31, 12, 72, 1.000)\"\n",
       "            ],\n",
       "            [\n",
       "                0.12549019607843137,\n",
       "                \"rgba(33, 12, 74, 1.000)\"\n",
       "            ],\n",
       "            [\n",
       "                0.12941176470588237,\n",
       "                \"rgba(35, 12, 76, 1.000)\"\n",
       "            ],\n",
       "            [\n",
       "                0.13333333333333333,\n",
       "                \"rgba(36, 12, 79, 1.000)\"\n",
       "            ],\n",
       "            [\n",
       "                0.13725490196078433,\n",
       "                \"rgba(38, 12, 81, 1.000)\"\n",
       "            ],\n",
       "            [\n",
       "                0.1411764705882353,\n",
       "                \"rgba(40, 11, 83, 1.000)\"\n",
       "            ],\n",
       "            [\n",
       "                0.1450980392156863,\n",
       "                \"rgba(41, 11, 85, 1.000)\"\n",
       "            ],\n",
       "            [\n",
       "                0.14901960784313725,\n",
       "                \"rgba(43, 11, 87, 1.000)\"\n",
       "            ],\n",
       "            [\n",
       "                0.15294117647058825,\n",
       "                \"rgba(45, 11, 89, 1.000)\"\n",
       "            ],\n",
       "            [\n",
       "                0.1568627450980392,\n",
       "                \"rgba(47, 10, 91, 1.000)\"\n",
       "            ],\n",
       "            [\n",
       "                0.1607843137254902,\n",
       "                \"rgba(49, 10, 92, 1.000)\"\n",
       "            ],\n",
       "            [\n",
       "                0.16470588235294117,\n",
       "                \"rgba(50, 10, 94, 1.000)\"\n",
       "            ],\n",
       "            [\n",
       "                0.16862745098039217,\n",
       "                \"rgba(52, 10, 95, 1.000)\"\n",
       "            ],\n",
       "            [\n",
       "                0.17254901960784313,\n",
       "                \"rgba(54, 9, 97, 1.000)\"\n",
       "            ],\n",
       "            [\n",
       "                0.17647058823529413,\n",
       "                \"rgba(56, 9, 98, 1.000)\"\n",
       "            ],\n",
       "            [\n",
       "                0.1803921568627451,\n",
       "                \"rgba(57, 9, 99, 1.000)\"\n",
       "            ],\n",
       "            [\n",
       "                0.1843137254901961,\n",
       "                \"rgba(59, 9, 100, 1.000)\"\n",
       "            ],\n",
       "            [\n",
       "                0.18823529411764706,\n",
       "                \"rgba(61, 9, 101, 1.000)\"\n",
       "            ],\n",
       "            [\n",
       "                0.19215686274509805,\n",
       "                \"rgba(62, 9, 102, 1.000)\"\n",
       "            ],\n",
       "            [\n",
       "                0.19607843137254902,\n",
       "                \"rgba(64, 10, 103, 1.000)\"\n",
       "            ],\n",
       "            [\n",
       "                0.2,\n",
       "                \"rgba(66, 10, 104, 1.000)\"\n",
       "            ],\n",
       "            [\n",
       "                0.20392156862745098,\n",
       "                \"rgba(68, 10, 104, 1.000)\"\n",
       "            ],\n",
       "            [\n",
       "                0.20784313725490197,\n",
       "                \"rgba(69, 10, 105, 1.000)\"\n",
       "            ],\n",
       "            [\n",
       "                0.21176470588235294,\n",
       "                \"rgba(71, 11, 106, 1.000)\"\n",
       "            ],\n",
       "            [\n",
       "                0.21568627450980393,\n",
       "                \"rgba(73, 11, 106, 1.000)\"\n",
       "            ],\n",
       "            [\n",
       "                0.2196078431372549,\n",
       "                \"rgba(74, 12, 107, 1.000)\"\n",
       "            ],\n",
       "            [\n",
       "                0.2235294117647059,\n",
       "                \"rgba(76, 12, 107, 1.000)\"\n",
       "            ],\n",
       "            [\n",
       "                0.22745098039215686,\n",
       "                \"rgba(77, 13, 108, 1.000)\"\n",
       "            ],\n",
       "            [\n",
       "                0.23137254901960785,\n",
       "                \"rgba(79, 13, 108, 1.000)\"\n",
       "            ],\n",
       "            [\n",
       "                0.23529411764705882,\n",
       "                \"rgba(81, 14, 108, 1.000)\"\n",
       "            ],\n",
       "            [\n",
       "                0.23921568627450981,\n",
       "                \"rgba(82, 14, 109, 1.000)\"\n",
       "            ],\n",
       "            [\n",
       "                0.24313725490196078,\n",
       "                \"rgba(84, 15, 109, 1.000)\"\n",
       "            ],\n",
       "            [\n",
       "                0.24705882352941178,\n",
       "                \"rgba(85, 15, 109, 1.000)\"\n",
       "            ],\n",
       "            [\n",
       "                0.25098039215686274,\n",
       "                \"rgba(87, 16, 110, 1.000)\"\n",
       "            ],\n",
       "            [\n",
       "                0.2549019607843137,\n",
       "                \"rgba(89, 16, 110, 1.000)\"\n",
       "            ],\n",
       "            [\n",
       "                0.25882352941176473,\n",
       "                \"rgba(90, 17, 110, 1.000)\"\n",
       "            ],\n",
       "            [\n",
       "                0.2627450980392157,\n",
       "                \"rgba(92, 18, 110, 1.000)\"\n",
       "            ],\n",
       "            [\n",
       "                0.26666666666666666,\n",
       "                \"rgba(93, 18, 110, 1.000)\"\n",
       "            ],\n",
       "            [\n",
       "                0.27058823529411763,\n",
       "                \"rgba(95, 19, 110, 1.000)\"\n",
       "            ],\n",
       "            [\n",
       "                0.27450980392156865,\n",
       "                \"rgba(97, 19, 110, 1.000)\"\n",
       "            ],\n",
       "            [\n",
       "                0.2784313725490196,\n",
       "                \"rgba(98, 20, 110, 1.000)\"\n",
       "            ],\n",
       "            [\n",
       "                0.2823529411764706,\n",
       "                \"rgba(100, 21, 110, 1.000)\"\n",
       "            ],\n",
       "            [\n",
       "                0.28627450980392155,\n",
       "                \"rgba(101, 21, 110, 1.000)\"\n",
       "            ],\n",
       "            [\n",
       "                0.2901960784313726,\n",
       "                \"rgba(103, 22, 110, 1.000)\"\n",
       "            ],\n",
       "            [\n",
       "                0.29411764705882354,\n",
       "                \"rgba(105, 22, 110, 1.000)\"\n",
       "            ],\n",
       "            [\n",
       "                0.2980392156862745,\n",
       "                \"rgba(106, 23, 110, 1.000)\"\n",
       "            ],\n",
       "            [\n",
       "                0.30196078431372547,\n",
       "                \"rgba(108, 24, 110, 1.000)\"\n",
       "            ],\n",
       "            [\n",
       "                0.3058823529411765,\n",
       "                \"rgba(109, 24, 110, 1.000)\"\n",
       "            ],\n",
       "            [\n",
       "                0.30980392156862746,\n",
       "                \"rgba(111, 25, 110, 1.000)\"\n",
       "            ],\n",
       "            [\n",
       "                0.3137254901960784,\n",
       "                \"rgba(113, 25, 110, 1.000)\"\n",
       "            ],\n",
       "            [\n",
       "                0.3176470588235294,\n",
       "                \"rgba(114, 26, 110, 1.000)\"\n",
       "            ],\n",
       "            [\n",
       "                0.3215686274509804,\n",
       "                \"rgba(116, 26, 110, 1.000)\"\n",
       "            ],\n",
       "            [\n",
       "                0.3254901960784314,\n",
       "                \"rgba(117, 27, 110, 1.000)\"\n",
       "            ],\n",
       "            [\n",
       "                0.32941176470588235,\n",
       "                \"rgba(119, 28, 109, 1.000)\"\n",
       "            ],\n",
       "            [\n",
       "                0.3333333333333333,\n",
       "                \"rgba(120, 28, 109, 1.000)\"\n",
       "            ],\n",
       "            [\n",
       "                0.33725490196078434,\n",
       "                \"rgba(122, 29, 109, 1.000)\"\n",
       "            ],\n",
       "            [\n",
       "                0.3411764705882353,\n",
       "                \"rgba(124, 29, 109, 1.000)\"\n",
       "            ],\n",
       "            [\n",
       "                0.34509803921568627,\n",
       "                \"rgba(125, 30, 109, 1.000)\"\n",
       "            ],\n",
       "            [\n",
       "                0.34901960784313724,\n",
       "                \"rgba(127, 30, 108, 1.000)\"\n",
       "            ],\n",
       "            [\n",
       "                0.35294117647058826,\n",
       "                \"rgba(128, 31, 108, 1.000)\"\n",
       "            ],\n",
       "            [\n",
       "                0.3568627450980392,\n",
       "                \"rgba(130, 32, 108, 1.000)\"\n",
       "            ],\n",
       "            [\n",
       "                0.3607843137254902,\n",
       "                \"rgba(132, 32, 107, 1.000)\"\n",
       "            ],\n",
       "            [\n",
       "                0.36470588235294116,\n",
       "                \"rgba(133, 33, 107, 1.000)\"\n",
       "            ],\n",
       "            [\n",
       "                0.3686274509803922,\n",
       "                \"rgba(135, 33, 107, 1.000)\"\n",
       "            ],\n",
       "            [\n",
       "                0.37254901960784315,\n",
       "                \"rgba(136, 34, 106, 1.000)\"\n",
       "            ],\n",
       "            [\n",
       "                0.3764705882352941,\n",
       "                \"rgba(138, 34, 106, 1.000)\"\n",
       "            ],\n",
       "            [\n",
       "                0.3803921568627451,\n",
       "                \"rgba(140, 35, 105, 1.000)\"\n",
       "            ],\n",
       "            [\n",
       "                0.3843137254901961,\n",
       "                \"rgba(141, 35, 105, 1.000)\"\n",
       "            ],\n",
       "            [\n",
       "                0.38823529411764707,\n",
       "                \"rgba(143, 36, 105, 1.000)\"\n",
       "            ],\n",
       "            [\n",
       "                0.39215686274509803,\n",
       "                \"rgba(144, 37, 104, 1.000)\"\n",
       "            ],\n",
       "            [\n",
       "                0.396078431372549,\n",
       "                \"rgba(146, 37, 104, 1.000)\"\n",
       "            ],\n",
       "            [\n",
       "                0.4,\n",
       "                \"rgba(147, 38, 103, 1.000)\"\n",
       "            ],\n",
       "            [\n",
       "                0.403921568627451,\n",
       "                \"rgba(149, 38, 103, 1.000)\"\n",
       "            ],\n",
       "            [\n",
       "                0.40784313725490196,\n",
       "                \"rgba(151, 39, 102, 1.000)\"\n",
       "            ],\n",
       "            [\n",
       "                0.4117647058823529,\n",
       "                \"rgba(152, 39, 102, 1.000)\"\n",
       "            ],\n",
       "            [\n",
       "                0.41568627450980394,\n",
       "                \"rgba(154, 40, 101, 1.000)\"\n",
       "            ],\n",
       "            [\n",
       "                0.4196078431372549,\n",
       "                \"rgba(155, 41, 100, 1.000)\"\n",
       "            ],\n",
       "            [\n",
       "                0.4235294117647059,\n",
       "                \"rgba(157, 41, 100, 1.000)\"\n",
       "            ],\n",
       "            [\n",
       "                0.42745098039215684,\n",
       "                \"rgba(159, 42, 99, 1.000)\"\n",
       "            ],\n",
       "            [\n",
       "                0.43137254901960786,\n",
       "                \"rgba(160, 42, 99, 1.000)\"\n",
       "            ],\n",
       "            [\n",
       "                0.43529411764705883,\n",
       "                \"rgba(162, 43, 98, 1.000)\"\n",
       "            ],\n",
       "            [\n",
       "                0.4392156862745098,\n",
       "                \"rgba(163, 44, 97, 1.000)\"\n",
       "            ],\n",
       "            [\n",
       "                0.44313725490196076,\n",
       "                \"rgba(165, 44, 96, 1.000)\"\n",
       "            ],\n",
       "            [\n",
       "                0.4470588235294118,\n",
       "                \"rgba(166, 45, 96, 1.000)\"\n",
       "            ],\n",
       "            [\n",
       "                0.45098039215686275,\n",
       "                \"rgba(168, 46, 95, 1.000)\"\n",
       "            ],\n",
       "            [\n",
       "                0.4549019607843137,\n",
       "                \"rgba(169, 46, 94, 1.000)\"\n",
       "            ],\n",
       "            [\n",
       "                0.4588235294117647,\n",
       "                \"rgba(171, 47, 94, 1.000)\"\n",
       "            ],\n",
       "            [\n",
       "                0.4627450980392157,\n",
       "                \"rgba(173, 48, 93, 1.000)\"\n",
       "            ],\n",
       "            [\n",
       "                0.4666666666666667,\n",
       "                \"rgba(174, 48, 92, 1.000)\"\n",
       "            ],\n",
       "            [\n",
       "                0.47058823529411764,\n",
       "                \"rgba(176, 49, 91, 1.000)\"\n",
       "            ],\n",
       "            [\n",
       "                0.4745098039215686,\n",
       "                \"rgba(177, 50, 90, 1.000)\"\n",
       "            ],\n",
       "            [\n",
       "                0.47843137254901963,\n",
       "                \"rgba(179, 50, 90, 1.000)\"\n",
       "            ],\n",
       "            [\n",
       "                0.4823529411764706,\n",
       "                \"rgba(180, 51, 89, 1.000)\"\n",
       "            ],\n",
       "            [\n",
       "                0.48627450980392156,\n",
       "                \"rgba(182, 52, 88, 1.000)\"\n",
       "            ],\n",
       "            [\n",
       "                0.49019607843137253,\n",
       "                \"rgba(183, 53, 87, 1.000)\"\n",
       "            ],\n",
       "            [\n",
       "                0.49411764705882355,\n",
       "                \"rgba(185, 53, 86, 1.000)\"\n",
       "            ],\n",
       "            [\n",
       "                0.4980392156862745,\n",
       "                \"rgba(186, 54, 85, 1.000)\"\n",
       "            ],\n",
       "            [\n",
       "                0.5019607843137255,\n",
       "                \"rgba(188, 55, 84, 1.000)\"\n",
       "            ],\n",
       "            [\n",
       "                0.5058823529411764,\n",
       "                \"rgba(189, 56, 83, 1.000)\"\n",
       "            ],\n",
       "            [\n",
       "                0.5098039215686274,\n",
       "                \"rgba(191, 57, 82, 1.000)\"\n",
       "            ],\n",
       "            [\n",
       "                0.5137254901960784,\n",
       "                \"rgba(192, 58, 81, 1.000)\"\n",
       "            ],\n",
       "            [\n",
       "                0.5176470588235295,\n",
       "                \"rgba(193, 58, 80, 1.000)\"\n",
       "            ],\n",
       "            [\n",
       "                0.5215686274509804,\n",
       "                \"rgba(195, 59, 79, 1.000)\"\n",
       "            ],\n",
       "            [\n",
       "                0.5254901960784314,\n",
       "                \"rgba(196, 60, 78, 1.000)\"\n",
       "            ],\n",
       "            [\n",
       "                0.5294117647058824,\n",
       "                \"rgba(198, 61, 77, 1.000)\"\n",
       "            ],\n",
       "            [\n",
       "                0.5333333333333333,\n",
       "                \"rgba(199, 62, 76, 1.000)\"\n",
       "            ],\n",
       "            [\n",
       "                0.5372549019607843,\n",
       "                \"rgba(200, 63, 75, 1.000)\"\n",
       "            ],\n",
       "            [\n",
       "                0.5411764705882353,\n",
       "                \"rgba(202, 64, 74, 1.000)\"\n",
       "            ],\n",
       "            [\n",
       "                0.5450980392156862,\n",
       "                \"rgba(203, 65, 73, 1.000)\"\n",
       "            ],\n",
       "            [\n",
       "                0.5490196078431373,\n",
       "                \"rgba(204, 66, 72, 1.000)\"\n",
       "            ],\n",
       "            [\n",
       "                0.5529411764705883,\n",
       "                \"rgba(206, 67, 71, 1.000)\"\n",
       "            ],\n",
       "            [\n",
       "                0.5568627450980392,\n",
       "                \"rgba(207, 68, 70, 1.000)\"\n",
       "            ],\n",
       "            [\n",
       "                0.5607843137254902,\n",
       "                \"rgba(208, 69, 69, 1.000)\"\n",
       "            ],\n",
       "            [\n",
       "                0.5647058823529412,\n",
       "                \"rgba(210, 70, 68, 1.000)\"\n",
       "            ],\n",
       "            [\n",
       "                0.5686274509803921,\n",
       "                \"rgba(211, 71, 67, 1.000)\"\n",
       "            ],\n",
       "            [\n",
       "                0.5725490196078431,\n",
       "                \"rgba(212, 72, 66, 1.000)\"\n",
       "            ],\n",
       "            [\n",
       "                0.5764705882352941,\n",
       "                \"rgba(213, 74, 65, 1.000)\"\n",
       "            ],\n",
       "            [\n",
       "                0.5803921568627451,\n",
       "                \"rgba(215, 75, 63, 1.000)\"\n",
       "            ],\n",
       "            [\n",
       "                0.5843137254901961,\n",
       "                \"rgba(216, 76, 62, 1.000)\"\n",
       "            ],\n",
       "            [\n",
       "                0.5882352941176471,\n",
       "                \"rgba(217, 77, 61, 1.000)\"\n",
       "            ],\n",
       "            [\n",
       "                0.592156862745098,\n",
       "                \"rgba(218, 78, 60, 1.000)\"\n",
       "            ],\n",
       "            [\n",
       "                0.596078431372549,\n",
       "                \"rgba(219, 80, 59, 1.000)\"\n",
       "            ],\n",
       "            [\n",
       "                0.6,\n",
       "                \"rgba(221, 81, 58, 1.000)\"\n",
       "            ],\n",
       "            [\n",
       "                0.6039215686274509,\n",
       "                \"rgba(222, 82, 56, 1.000)\"\n",
       "            ],\n",
       "            [\n",
       "                0.6078431372549019,\n",
       "                \"rgba(223, 83, 55, 1.000)\"\n",
       "            ],\n",
       "            [\n",
       "                0.611764705882353,\n",
       "                \"rgba(224, 85, 54, 1.000)\"\n",
       "            ],\n",
       "            [\n",
       "                0.615686274509804,\n",
       "                \"rgba(225, 86, 53, 1.000)\"\n",
       "            ],\n",
       "            [\n",
       "                0.6196078431372549,\n",
       "                \"rgba(226, 87, 52, 1.000)\"\n",
       "            ],\n",
       "            [\n",
       "                0.6235294117647059,\n",
       "                \"rgba(227, 89, 51, 1.000)\"\n",
       "            ],\n",
       "            [\n",
       "                0.6274509803921569,\n",
       "                \"rgba(228, 90, 49, 1.000)\"\n",
       "            ],\n",
       "            [\n",
       "                0.6313725490196078,\n",
       "                \"rgba(229, 92, 48, 1.000)\"\n",
       "            ],\n",
       "            [\n",
       "                0.6352941176470588,\n",
       "                \"rgba(230, 93, 47, 1.000)\"\n",
       "            ],\n",
       "            [\n",
       "                0.6392156862745098,\n",
       "                \"rgba(231, 94, 46, 1.000)\"\n",
       "            ],\n",
       "            [\n",
       "                0.6431372549019608,\n",
       "                \"rgba(232, 96, 45, 1.000)\"\n",
       "            ],\n",
       "            [\n",
       "                0.6470588235294118,\n",
       "                \"rgba(233, 97, 43, 1.000)\"\n",
       "            ],\n",
       "            [\n",
       "                0.6509803921568628,\n",
       "                \"rgba(234, 99, 42, 1.000)\"\n",
       "            ],\n",
       "            [\n",
       "                0.6549019607843137,\n",
       "                \"rgba(235, 100, 41, 1.000)\"\n",
       "            ],\n",
       "            [\n",
       "                0.6588235294117647,\n",
       "                \"rgba(235, 102, 40, 1.000)\"\n",
       "            ],\n",
       "            [\n",
       "                0.6627450980392157,\n",
       "                \"rgba(236, 103, 38, 1.000)\"\n",
       "            ],\n",
       "            [\n",
       "                0.6666666666666666,\n",
       "                \"rgba(237, 105, 37, 1.000)\"\n",
       "            ],\n",
       "            [\n",
       "                0.6705882352941176,\n",
       "                \"rgba(238, 106, 36, 1.000)\"\n",
       "            ],\n",
       "            [\n",
       "                0.6745098039215687,\n",
       "                \"rgba(239, 108, 35, 1.000)\"\n",
       "            ],\n",
       "            [\n",
       "                0.6784313725490196,\n",
       "                \"rgba(239, 110, 33, 1.000)\"\n",
       "            ],\n",
       "            [\n",
       "                0.6823529411764706,\n",
       "                \"rgba(240, 111, 32, 1.000)\"\n",
       "            ],\n",
       "            [\n",
       "                0.6862745098039216,\n",
       "                \"rgba(241, 113, 31, 1.000)\"\n",
       "            ],\n",
       "            [\n",
       "                0.6901960784313725,\n",
       "                \"rgba(241, 115, 29, 1.000)\"\n",
       "            ],\n",
       "            [\n",
       "                0.6941176470588235,\n",
       "                \"rgba(242, 116, 28, 1.000)\"\n",
       "            ],\n",
       "            [\n",
       "                0.6980392156862745,\n",
       "                \"rgba(243, 118, 27, 1.000)\"\n",
       "            ],\n",
       "            [\n",
       "                0.7019607843137254,\n",
       "                \"rgba(243, 120, 25, 1.000)\"\n",
       "            ],\n",
       "            [\n",
       "                0.7058823529411765,\n",
       "                \"rgba(244, 121, 24, 1.000)\"\n",
       "            ],\n",
       "            [\n",
       "                0.7098039215686275,\n",
       "                \"rgba(245, 123, 23, 1.000)\"\n",
       "            ],\n",
       "            [\n",
       "                0.7137254901960784,\n",
       "                \"rgba(245, 125, 21, 1.000)\"\n",
       "            ],\n",
       "            [\n",
       "                0.7176470588235294,\n",
       "                \"rgba(246, 126, 20, 1.000)\"\n",
       "            ],\n",
       "            [\n",
       "                0.7215686274509804,\n",
       "                \"rgba(246, 128, 19, 1.000)\"\n",
       "            ],\n",
       "            [\n",
       "                0.7254901960784313,\n",
       "                \"rgba(247, 130, 18, 1.000)\"\n",
       "            ],\n",
       "            [\n",
       "                0.7294117647058823,\n",
       "                \"rgba(247, 132, 16, 1.000)\"\n",
       "            ],\n",
       "            [\n",
       "                0.7333333333333333,\n",
       "                \"rgba(248, 133, 15, 1.000)\"\n",
       "            ],\n",
       "            [\n",
       "                0.7372549019607844,\n",
       "                \"rgba(248, 135, 14, 1.000)\"\n",
       "            ],\n",
       "            [\n",
       "                0.7411764705882353,\n",
       "                \"rgba(248, 137, 12, 1.000)\"\n",
       "            ],\n",
       "            [\n",
       "                0.7450980392156863,\n",
       "                \"rgba(249, 139, 11, 1.000)\"\n",
       "            ],\n",
       "            [\n",
       "                0.7490196078431373,\n",
       "                \"rgba(249, 140, 10, 1.000)\"\n",
       "            ],\n",
       "            [\n",
       "                0.7529411764705882,\n",
       "                \"rgba(249, 142, 9, 1.000)\"\n",
       "            ],\n",
       "            [\n",
       "                0.7568627450980392,\n",
       "                \"rgba(250, 144, 8, 1.000)\"\n",
       "            ],\n",
       "            [\n",
       "                0.7607843137254902,\n",
       "                \"rgba(250, 146, 7, 1.000)\"\n",
       "            ],\n",
       "            [\n",
       "                0.7647058823529411,\n",
       "                \"rgba(250, 148, 7, 1.000)\"\n",
       "            ],\n",
       "            [\n",
       "                0.7686274509803922,\n",
       "                \"rgba(251, 150, 6, 1.000)\"\n",
       "            ],\n",
       "            [\n",
       "                0.7725490196078432,\n",
       "                \"rgba(251, 151, 6, 1.000)\"\n",
       "            ],\n",
       "            [\n",
       "                0.7764705882352941,\n",
       "                \"rgba(251, 153, 6, 1.000)\"\n",
       "            ],\n",
       "            [\n",
       "                0.7803921568627451,\n",
       "                \"rgba(251, 155, 6, 1.000)\"\n",
       "            ],\n",
       "            [\n",
       "                0.7843137254901961,\n",
       "                \"rgba(251, 157, 7, 1.000)\"\n",
       "            ],\n",
       "            [\n",
       "                0.788235294117647,\n",
       "                \"rgba(252, 159, 7, 1.000)\"\n",
       "            ],\n",
       "            [\n",
       "                0.792156862745098,\n",
       "                \"rgba(252, 161, 8, 1.000)\"\n",
       "            ],\n",
       "            [\n",
       "                0.796078431372549,\n",
       "                \"rgba(252, 163, 9, 1.000)\"\n",
       "            ],\n",
       "            [\n",
       "                0.8,\n",
       "                \"rgba(252, 165, 10, 1.000)\"\n",
       "            ],\n",
       "            [\n",
       "                0.803921568627451,\n",
       "                \"rgba(252, 166, 12, 1.000)\"\n",
       "            ],\n",
       "            [\n",
       "                0.807843137254902,\n",
       "                \"rgba(252, 168, 13, 1.000)\"\n",
       "            ],\n",
       "            [\n",
       "                0.8117647058823529,\n",
       "                \"rgba(252, 170, 15, 1.000)\"\n",
       "            ],\n",
       "            [\n",
       "                0.8156862745098039,\n",
       "                \"rgba(252, 172, 17, 1.000)\"\n",
       "            ],\n",
       "            [\n",
       "                0.8196078431372549,\n",
       "                \"rgba(252, 174, 18, 1.000)\"\n",
       "            ],\n",
       "            [\n",
       "                0.8235294117647058,\n",
       "                \"rgba(252, 176, 20, 1.000)\"\n",
       "            ],\n",
       "            [\n",
       "                0.8274509803921568,\n",
       "                \"rgba(252, 178, 22, 1.000)\"\n",
       "            ],\n",
       "            [\n",
       "                0.8313725490196079,\n",
       "                \"rgba(252, 180, 24, 1.000)\"\n",
       "            ],\n",
       "            [\n",
       "                0.8352941176470589,\n",
       "                \"rgba(251, 182, 26, 1.000)\"\n",
       "            ],\n",
       "            [\n",
       "                0.8392156862745098,\n",
       "                \"rgba(251, 184, 29, 1.000)\"\n",
       "            ],\n",
       "            [\n",
       "                0.8431372549019608,\n",
       "                \"rgba(251, 186, 31, 1.000)\"\n",
       "            ],\n",
       "            [\n",
       "                0.8470588235294118,\n",
       "                \"rgba(251, 188, 33, 1.000)\"\n",
       "            ],\n",
       "            [\n",
       "                0.8509803921568627,\n",
       "                \"rgba(251, 190, 35, 1.000)\"\n",
       "            ],\n",
       "            [\n",
       "                0.8549019607843137,\n",
       "                \"rgba(250, 192, 38, 1.000)\"\n",
       "            ],\n",
       "            [\n",
       "                0.8588235294117647,\n",
       "                \"rgba(250, 194, 40, 1.000)\"\n",
       "            ],\n",
       "            [\n",
       "                0.8627450980392157,\n",
       "                \"rgba(250, 196, 42, 1.000)\"\n",
       "            ],\n",
       "            [\n",
       "                0.8666666666666667,\n",
       "                \"rgba(250, 198, 45, 1.000)\"\n",
       "            ],\n",
       "            [\n",
       "                0.8705882352941177,\n",
       "                \"rgba(249, 199, 47, 1.000)\"\n",
       "            ],\n",
       "            [\n",
       "                0.8745098039215686,\n",
       "                \"rgba(249, 201, 50, 1.000)\"\n",
       "            ],\n",
       "            [\n",
       "                0.8784313725490196,\n",
       "                \"rgba(249, 203, 53, 1.000)\"\n",
       "            ],\n",
       "            [\n",
       "                0.8823529411764706,\n",
       "                \"rgba(248, 205, 55, 1.000)\"\n",
       "            ],\n",
       "            [\n",
       "                0.8862745098039215,\n",
       "                \"rgba(248, 207, 58, 1.000)\"\n",
       "            ],\n",
       "            [\n",
       "                0.8901960784313725,\n",
       "                \"rgba(247, 209, 61, 1.000)\"\n",
       "            ],\n",
       "            [\n",
       "                0.8941176470588236,\n",
       "                \"rgba(247, 211, 64, 1.000)\"\n",
       "            ],\n",
       "            [\n",
       "                0.8980392156862745,\n",
       "                \"rgba(246, 213, 67, 1.000)\"\n",
       "            ],\n",
       "            [\n",
       "                0.9019607843137255,\n",
       "                \"rgba(246, 215, 70, 1.000)\"\n",
       "            ],\n",
       "            [\n",
       "                0.9058823529411765,\n",
       "                \"rgba(245, 217, 73, 1.000)\"\n",
       "            ],\n",
       "            [\n",
       "                0.9098039215686274,\n",
       "                \"rgba(245, 219, 76, 1.000)\"\n",
       "            ],\n",
       "            [\n",
       "                0.9137254901960784,\n",
       "                \"rgba(244, 221, 79, 1.000)\"\n",
       "            ],\n",
       "            [\n",
       "                0.9176470588235294,\n",
       "                \"rgba(244, 223, 83, 1.000)\"\n",
       "            ],\n",
       "            [\n",
       "                0.9215686274509803,\n",
       "                \"rgba(244, 225, 86, 1.000)\"\n",
       "            ],\n",
       "            [\n",
       "                0.9254901960784314,\n",
       "                \"rgba(243, 227, 90, 1.000)\"\n",
       "            ],\n",
       "            [\n",
       "                0.9294117647058824,\n",
       "                \"rgba(243, 229, 93, 1.000)\"\n",
       "            ],\n",
       "            [\n",
       "                0.9333333333333333,\n",
       "                \"rgba(242, 230, 97, 1.000)\"\n",
       "            ],\n",
       "            [\n",
       "                0.9372549019607843,\n",
       "                \"rgba(242, 232, 101, 1.000)\"\n",
       "            ],\n",
       "            [\n",
       "                0.9411764705882353,\n",
       "                \"rgba(242, 234, 105, 1.000)\"\n",
       "            ],\n",
       "            [\n",
       "                0.9450980392156862,\n",
       "                \"rgba(241, 236, 109, 1.000)\"\n",
       "            ],\n",
       "            [\n",
       "                0.9490196078431372,\n",
       "                \"rgba(241, 237, 113, 1.000)\"\n",
       "            ],\n",
       "            [\n",
       "                0.9529411764705882,\n",
       "                \"rgba(241, 239, 117, 1.000)\"\n",
       "            ],\n",
       "            [\n",
       "                0.9568627450980393,\n",
       "                \"rgba(241, 241, 121, 1.000)\"\n",
       "            ],\n",
       "            [\n",
       "                0.9607843137254902,\n",
       "                \"rgba(242, 242, 125, 1.000)\"\n",
       "            ],\n",
       "            [\n",
       "                0.9647058823529412,\n",
       "                \"rgba(242, 244, 130, 1.000)\"\n",
       "            ],\n",
       "            [\n",
       "                0.9686274509803922,\n",
       "                \"rgba(243, 245, 134, 1.000)\"\n",
       "            ],\n",
       "            [\n",
       "                0.9725490196078431,\n",
       "                \"rgba(243, 246, 138, 1.000)\"\n",
       "            ],\n",
       "            [\n",
       "                0.9764705882352941,\n",
       "                \"rgba(244, 248, 142, 1.000)\"\n",
       "            ],\n",
       "            [\n",
       "                0.9803921568627451,\n",
       "                \"rgba(245, 249, 146, 1.000)\"\n",
       "            ],\n",
       "            [\n",
       "                0.984313725490196,\n",
       "                \"rgba(246, 250, 150, 1.000)\"\n",
       "            ],\n",
       "            [\n",
       "                0.9882352941176471,\n",
       "                \"rgba(248, 251, 154, 1.000)\"\n",
       "            ],\n",
       "            [\n",
       "                0.9921568627450981,\n",
       "                \"rgba(249, 252, 157, 1.000)\"\n",
       "            ],\n",
       "            [\n",
       "                0.996078431372549,\n",
       "                \"rgba(250, 253, 161, 1.000)\"\n",
       "            ],\n",
       "            [\n",
       "                1.0,\n",
       "                \"rgba(252, 255, 164, 1.000)\"\n",
       "            ]\n",
       "        ],\n",
       "        \"yaxis\": \"y4\",\n",
       "        \"showscale\": false,\n",
       "        \"x\": [\n",
       "            0.5,\n",
       "            1.5,\n",
       "            2.5,\n",
       "            3.5,\n",
       "            4.5,\n",
       "            5.5,\n",
       "            6.5,\n",
       "            7.5,\n",
       "            8.5,\n",
       "            9.5,\n",
       "            10.5\n",
       "        ],\n",
       "        \"showlegend\": false,\n",
       "        \"name\": \"y1\",\n",
       "        \"zmin\": 0.0,\n",
       "        \"z\": [\n",
       "            [\n",
       "                null,\n",
       "                null,\n",
       "                null,\n",
       "                null,\n",
       "                null,\n",
       "                null,\n",
       "                null,\n",
       "                null,\n",
       "                null,\n",
       "                null\n",
       "            ]\n",
       "        ],\n",
       "        \"zmax\": 100.0,\n",
       "        \"y\": [\n",
       "            0.5,\n",
       "            1.5\n",
       "        ],\n",
       "        \"type\": \"heatmap\",\n",
       "        \"hoverinfo\": \"none\"\n",
       "    },\n",
       "    {\n",
       "        \"xaxis\": \"x5\",\n",
       "        \"colorbar\": {\n",
       "            \"title\": \"\"\n",
       "        },\n",
       "        \"colorscale\": [\n",
       "            [\n",
       "                0.0,\n",
       "                \"rgba(0, 0, 4, 1.000)\"\n",
       "            ],\n",
       "            [\n",
       "                0.00392156862745098,\n",
       "                \"rgba(1, 0, 5, 1.000)\"\n",
       "            ],\n",
       "            [\n",
       "                0.00784313725490196,\n",
       "                \"rgba(1, 1, 6, 1.000)\"\n",
       "            ],\n",
       "            [\n",
       "                0.011764705882352941,\n",
       "                \"rgba(1, 1, 8, 1.000)\"\n",
       "            ],\n",
       "            [\n",
       "                0.01568627450980392,\n",
       "                \"rgba(2, 1, 10, 1.000)\"\n",
       "            ],\n",
       "            [\n",
       "                0.0196078431372549,\n",
       "                \"rgba(2, 2, 12, 1.000)\"\n",
       "            ],\n",
       "            [\n",
       "                0.023529411764705882,\n",
       "                \"rgba(2, 2, 14, 1.000)\"\n",
       "            ],\n",
       "            [\n",
       "                0.027450980392156862,\n",
       "                \"rgba(3, 2, 16, 1.000)\"\n",
       "            ],\n",
       "            [\n",
       "                0.03137254901960784,\n",
       "                \"rgba(4, 3, 18, 1.000)\"\n",
       "            ],\n",
       "            [\n",
       "                0.03529411764705882,\n",
       "                \"rgba(4, 3, 20, 1.000)\"\n",
       "            ],\n",
       "            [\n",
       "                0.0392156862745098,\n",
       "                \"rgba(5, 4, 23, 1.000)\"\n",
       "            ],\n",
       "            [\n",
       "                0.043137254901960784,\n",
       "                \"rgba(6, 4, 25, 1.000)\"\n",
       "            ],\n",
       "            [\n",
       "                0.047058823529411764,\n",
       "                \"rgba(7, 5, 27, 1.000)\"\n",
       "            ],\n",
       "            [\n",
       "                0.050980392156862744,\n",
       "                \"rgba(8, 5, 29, 1.000)\"\n",
       "            ],\n",
       "            [\n",
       "                0.054901960784313725,\n",
       "                \"rgba(9, 6, 31, 1.000)\"\n",
       "            ],\n",
       "            [\n",
       "                0.058823529411764705,\n",
       "                \"rgba(10, 7, 34, 1.000)\"\n",
       "            ],\n",
       "            [\n",
       "                0.06274509803921569,\n",
       "                \"rgba(11, 7, 36, 1.000)\"\n",
       "            ],\n",
       "            [\n",
       "                0.06666666666666667,\n",
       "                \"rgba(12, 8, 38, 1.000)\"\n",
       "            ],\n",
       "            [\n",
       "                0.07058823529411765,\n",
       "                \"rgba(13, 8, 41, 1.000)\"\n",
       "            ],\n",
       "            [\n",
       "                0.07450980392156863,\n",
       "                \"rgba(14, 9, 43, 1.000)\"\n",
       "            ],\n",
       "            [\n",
       "                0.0784313725490196,\n",
       "                \"rgba(16, 9, 45, 1.000)\"\n",
       "            ],\n",
       "            [\n",
       "                0.08235294117647059,\n",
       "                \"rgba(17, 10, 48, 1.000)\"\n",
       "            ],\n",
       "            [\n",
       "                0.08627450980392157,\n",
       "                \"rgba(18, 10, 50, 1.000)\"\n",
       "            ],\n",
       "            [\n",
       "                0.09019607843137255,\n",
       "                \"rgba(20, 11, 52, 1.000)\"\n",
       "            ],\n",
       "            [\n",
       "                0.09411764705882353,\n",
       "                \"rgba(21, 11, 55, 1.000)\"\n",
       "            ],\n",
       "            [\n",
       "                0.09803921568627451,\n",
       "                \"rgba(22, 11, 57, 1.000)\"\n",
       "            ],\n",
       "            [\n",
       "                0.10196078431372549,\n",
       "                \"rgba(24, 12, 60, 1.000)\"\n",
       "            ],\n",
       "            [\n",
       "                0.10588235294117647,\n",
       "                \"rgba(25, 12, 62, 1.000)\"\n",
       "            ],\n",
       "            [\n",
       "                0.10980392156862745,\n",
       "                \"rgba(27, 12, 65, 1.000)\"\n",
       "            ],\n",
       "            [\n",
       "                0.11372549019607843,\n",
       "                \"rgba(28, 12, 67, 1.000)\"\n",
       "            ],\n",
       "            [\n",
       "                0.11764705882352941,\n",
       "                \"rgba(30, 12, 69, 1.000)\"\n",
       "            ],\n",
       "            [\n",
       "                0.12156862745098039,\n",
       "                \"rgba(31, 12, 72, 1.000)\"\n",
       "            ],\n",
       "            [\n",
       "                0.12549019607843137,\n",
       "                \"rgba(33, 12, 74, 1.000)\"\n",
       "            ],\n",
       "            [\n",
       "                0.12941176470588237,\n",
       "                \"rgba(35, 12, 76, 1.000)\"\n",
       "            ],\n",
       "            [\n",
       "                0.13333333333333333,\n",
       "                \"rgba(36, 12, 79, 1.000)\"\n",
       "            ],\n",
       "            [\n",
       "                0.13725490196078433,\n",
       "                \"rgba(38, 12, 81, 1.000)\"\n",
       "            ],\n",
       "            [\n",
       "                0.1411764705882353,\n",
       "                \"rgba(40, 11, 83, 1.000)\"\n",
       "            ],\n",
       "            [\n",
       "                0.1450980392156863,\n",
       "                \"rgba(41, 11, 85, 1.000)\"\n",
       "            ],\n",
       "            [\n",
       "                0.14901960784313725,\n",
       "                \"rgba(43, 11, 87, 1.000)\"\n",
       "            ],\n",
       "            [\n",
       "                0.15294117647058825,\n",
       "                \"rgba(45, 11, 89, 1.000)\"\n",
       "            ],\n",
       "            [\n",
       "                0.1568627450980392,\n",
       "                \"rgba(47, 10, 91, 1.000)\"\n",
       "            ],\n",
       "            [\n",
       "                0.1607843137254902,\n",
       "                \"rgba(49, 10, 92, 1.000)\"\n",
       "            ],\n",
       "            [\n",
       "                0.16470588235294117,\n",
       "                \"rgba(50, 10, 94, 1.000)\"\n",
       "            ],\n",
       "            [\n",
       "                0.16862745098039217,\n",
       "                \"rgba(52, 10, 95, 1.000)\"\n",
       "            ],\n",
       "            [\n",
       "                0.17254901960784313,\n",
       "                \"rgba(54, 9, 97, 1.000)\"\n",
       "            ],\n",
       "            [\n",
       "                0.17647058823529413,\n",
       "                \"rgba(56, 9, 98, 1.000)\"\n",
       "            ],\n",
       "            [\n",
       "                0.1803921568627451,\n",
       "                \"rgba(57, 9, 99, 1.000)\"\n",
       "            ],\n",
       "            [\n",
       "                0.1843137254901961,\n",
       "                \"rgba(59, 9, 100, 1.000)\"\n",
       "            ],\n",
       "            [\n",
       "                0.18823529411764706,\n",
       "                \"rgba(61, 9, 101, 1.000)\"\n",
       "            ],\n",
       "            [\n",
       "                0.19215686274509805,\n",
       "                \"rgba(62, 9, 102, 1.000)\"\n",
       "            ],\n",
       "            [\n",
       "                0.19607843137254902,\n",
       "                \"rgba(64, 10, 103, 1.000)\"\n",
       "            ],\n",
       "            [\n",
       "                0.2,\n",
       "                \"rgba(66, 10, 104, 1.000)\"\n",
       "            ],\n",
       "            [\n",
       "                0.20392156862745098,\n",
       "                \"rgba(68, 10, 104, 1.000)\"\n",
       "            ],\n",
       "            [\n",
       "                0.20784313725490197,\n",
       "                \"rgba(69, 10, 105, 1.000)\"\n",
       "            ],\n",
       "            [\n",
       "                0.21176470588235294,\n",
       "                \"rgba(71, 11, 106, 1.000)\"\n",
       "            ],\n",
       "            [\n",
       "                0.21568627450980393,\n",
       "                \"rgba(73, 11, 106, 1.000)\"\n",
       "            ],\n",
       "            [\n",
       "                0.2196078431372549,\n",
       "                \"rgba(74, 12, 107, 1.000)\"\n",
       "            ],\n",
       "            [\n",
       "                0.2235294117647059,\n",
       "                \"rgba(76, 12, 107, 1.000)\"\n",
       "            ],\n",
       "            [\n",
       "                0.22745098039215686,\n",
       "                \"rgba(77, 13, 108, 1.000)\"\n",
       "            ],\n",
       "            [\n",
       "                0.23137254901960785,\n",
       "                \"rgba(79, 13, 108, 1.000)\"\n",
       "            ],\n",
       "            [\n",
       "                0.23529411764705882,\n",
       "                \"rgba(81, 14, 108, 1.000)\"\n",
       "            ],\n",
       "            [\n",
       "                0.23921568627450981,\n",
       "                \"rgba(82, 14, 109, 1.000)\"\n",
       "            ],\n",
       "            [\n",
       "                0.24313725490196078,\n",
       "                \"rgba(84, 15, 109, 1.000)\"\n",
       "            ],\n",
       "            [\n",
       "                0.24705882352941178,\n",
       "                \"rgba(85, 15, 109, 1.000)\"\n",
       "            ],\n",
       "            [\n",
       "                0.25098039215686274,\n",
       "                \"rgba(87, 16, 110, 1.000)\"\n",
       "            ],\n",
       "            [\n",
       "                0.2549019607843137,\n",
       "                \"rgba(89, 16, 110, 1.000)\"\n",
       "            ],\n",
       "            [\n",
       "                0.25882352941176473,\n",
       "                \"rgba(90, 17, 110, 1.000)\"\n",
       "            ],\n",
       "            [\n",
       "                0.2627450980392157,\n",
       "                \"rgba(92, 18, 110, 1.000)\"\n",
       "            ],\n",
       "            [\n",
       "                0.26666666666666666,\n",
       "                \"rgba(93, 18, 110, 1.000)\"\n",
       "            ],\n",
       "            [\n",
       "                0.27058823529411763,\n",
       "                \"rgba(95, 19, 110, 1.000)\"\n",
       "            ],\n",
       "            [\n",
       "                0.27450980392156865,\n",
       "                \"rgba(97, 19, 110, 1.000)\"\n",
       "            ],\n",
       "            [\n",
       "                0.2784313725490196,\n",
       "                \"rgba(98, 20, 110, 1.000)\"\n",
       "            ],\n",
       "            [\n",
       "                0.2823529411764706,\n",
       "                \"rgba(100, 21, 110, 1.000)\"\n",
       "            ],\n",
       "            [\n",
       "                0.28627450980392155,\n",
       "                \"rgba(101, 21, 110, 1.000)\"\n",
       "            ],\n",
       "            [\n",
       "                0.2901960784313726,\n",
       "                \"rgba(103, 22, 110, 1.000)\"\n",
       "            ],\n",
       "            [\n",
       "                0.29411764705882354,\n",
       "                \"rgba(105, 22, 110, 1.000)\"\n",
       "            ],\n",
       "            [\n",
       "                0.2980392156862745,\n",
       "                \"rgba(106, 23, 110, 1.000)\"\n",
       "            ],\n",
       "            [\n",
       "                0.30196078431372547,\n",
       "                \"rgba(108, 24, 110, 1.000)\"\n",
       "            ],\n",
       "            [\n",
       "                0.3058823529411765,\n",
       "                \"rgba(109, 24, 110, 1.000)\"\n",
       "            ],\n",
       "            [\n",
       "                0.30980392156862746,\n",
       "                \"rgba(111, 25, 110, 1.000)\"\n",
       "            ],\n",
       "            [\n",
       "                0.3137254901960784,\n",
       "                \"rgba(113, 25, 110, 1.000)\"\n",
       "            ],\n",
       "            [\n",
       "                0.3176470588235294,\n",
       "                \"rgba(114, 26, 110, 1.000)\"\n",
       "            ],\n",
       "            [\n",
       "                0.3215686274509804,\n",
       "                \"rgba(116, 26, 110, 1.000)\"\n",
       "            ],\n",
       "            [\n",
       "                0.3254901960784314,\n",
       "                \"rgba(117, 27, 110, 1.000)\"\n",
       "            ],\n",
       "            [\n",
       "                0.32941176470588235,\n",
       "                \"rgba(119, 28, 109, 1.000)\"\n",
       "            ],\n",
       "            [\n",
       "                0.3333333333333333,\n",
       "                \"rgba(120, 28, 109, 1.000)\"\n",
       "            ],\n",
       "            [\n",
       "                0.33725490196078434,\n",
       "                \"rgba(122, 29, 109, 1.000)\"\n",
       "            ],\n",
       "            [\n",
       "                0.3411764705882353,\n",
       "                \"rgba(124, 29, 109, 1.000)\"\n",
       "            ],\n",
       "            [\n",
       "                0.34509803921568627,\n",
       "                \"rgba(125, 30, 109, 1.000)\"\n",
       "            ],\n",
       "            [\n",
       "                0.34901960784313724,\n",
       "                \"rgba(127, 30, 108, 1.000)\"\n",
       "            ],\n",
       "            [\n",
       "                0.35294117647058826,\n",
       "                \"rgba(128, 31, 108, 1.000)\"\n",
       "            ],\n",
       "            [\n",
       "                0.3568627450980392,\n",
       "                \"rgba(130, 32, 108, 1.000)\"\n",
       "            ],\n",
       "            [\n",
       "                0.3607843137254902,\n",
       "                \"rgba(132, 32, 107, 1.000)\"\n",
       "            ],\n",
       "            [\n",
       "                0.36470588235294116,\n",
       "                \"rgba(133, 33, 107, 1.000)\"\n",
       "            ],\n",
       "            [\n",
       "                0.3686274509803922,\n",
       "                \"rgba(135, 33, 107, 1.000)\"\n",
       "            ],\n",
       "            [\n",
       "                0.37254901960784315,\n",
       "                \"rgba(136, 34, 106, 1.000)\"\n",
       "            ],\n",
       "            [\n",
       "                0.3764705882352941,\n",
       "                \"rgba(138, 34, 106, 1.000)\"\n",
       "            ],\n",
       "            [\n",
       "                0.3803921568627451,\n",
       "                \"rgba(140, 35, 105, 1.000)\"\n",
       "            ],\n",
       "            [\n",
       "                0.3843137254901961,\n",
       "                \"rgba(141, 35, 105, 1.000)\"\n",
       "            ],\n",
       "            [\n",
       "                0.38823529411764707,\n",
       "                \"rgba(143, 36, 105, 1.000)\"\n",
       "            ],\n",
       "            [\n",
       "                0.39215686274509803,\n",
       "                \"rgba(144, 37, 104, 1.000)\"\n",
       "            ],\n",
       "            [\n",
       "                0.396078431372549,\n",
       "                \"rgba(146, 37, 104, 1.000)\"\n",
       "            ],\n",
       "            [\n",
       "                0.4,\n",
       "                \"rgba(147, 38, 103, 1.000)\"\n",
       "            ],\n",
       "            [\n",
       "                0.403921568627451,\n",
       "                \"rgba(149, 38, 103, 1.000)\"\n",
       "            ],\n",
       "            [\n",
       "                0.40784313725490196,\n",
       "                \"rgba(151, 39, 102, 1.000)\"\n",
       "            ],\n",
       "            [\n",
       "                0.4117647058823529,\n",
       "                \"rgba(152, 39, 102, 1.000)\"\n",
       "            ],\n",
       "            [\n",
       "                0.41568627450980394,\n",
       "                \"rgba(154, 40, 101, 1.000)\"\n",
       "            ],\n",
       "            [\n",
       "                0.4196078431372549,\n",
       "                \"rgba(155, 41, 100, 1.000)\"\n",
       "            ],\n",
       "            [\n",
       "                0.4235294117647059,\n",
       "                \"rgba(157, 41, 100, 1.000)\"\n",
       "            ],\n",
       "            [\n",
       "                0.42745098039215684,\n",
       "                \"rgba(159, 42, 99, 1.000)\"\n",
       "            ],\n",
       "            [\n",
       "                0.43137254901960786,\n",
       "                \"rgba(160, 42, 99, 1.000)\"\n",
       "            ],\n",
       "            [\n",
       "                0.43529411764705883,\n",
       "                \"rgba(162, 43, 98, 1.000)\"\n",
       "            ],\n",
       "            [\n",
       "                0.4392156862745098,\n",
       "                \"rgba(163, 44, 97, 1.000)\"\n",
       "            ],\n",
       "            [\n",
       "                0.44313725490196076,\n",
       "                \"rgba(165, 44, 96, 1.000)\"\n",
       "            ],\n",
       "            [\n",
       "                0.4470588235294118,\n",
       "                \"rgba(166, 45, 96, 1.000)\"\n",
       "            ],\n",
       "            [\n",
       "                0.45098039215686275,\n",
       "                \"rgba(168, 46, 95, 1.000)\"\n",
       "            ],\n",
       "            [\n",
       "                0.4549019607843137,\n",
       "                \"rgba(169, 46, 94, 1.000)\"\n",
       "            ],\n",
       "            [\n",
       "                0.4588235294117647,\n",
       "                \"rgba(171, 47, 94, 1.000)\"\n",
       "            ],\n",
       "            [\n",
       "                0.4627450980392157,\n",
       "                \"rgba(173, 48, 93, 1.000)\"\n",
       "            ],\n",
       "            [\n",
       "                0.4666666666666667,\n",
       "                \"rgba(174, 48, 92, 1.000)\"\n",
       "            ],\n",
       "            [\n",
       "                0.47058823529411764,\n",
       "                \"rgba(176, 49, 91, 1.000)\"\n",
       "            ],\n",
       "            [\n",
       "                0.4745098039215686,\n",
       "                \"rgba(177, 50, 90, 1.000)\"\n",
       "            ],\n",
       "            [\n",
       "                0.47843137254901963,\n",
       "                \"rgba(179, 50, 90, 1.000)\"\n",
       "            ],\n",
       "            [\n",
       "                0.4823529411764706,\n",
       "                \"rgba(180, 51, 89, 1.000)\"\n",
       "            ],\n",
       "            [\n",
       "                0.48627450980392156,\n",
       "                \"rgba(182, 52, 88, 1.000)\"\n",
       "            ],\n",
       "            [\n",
       "                0.49019607843137253,\n",
       "                \"rgba(183, 53, 87, 1.000)\"\n",
       "            ],\n",
       "            [\n",
       "                0.49411764705882355,\n",
       "                \"rgba(185, 53, 86, 1.000)\"\n",
       "            ],\n",
       "            [\n",
       "                0.4980392156862745,\n",
       "                \"rgba(186, 54, 85, 1.000)\"\n",
       "            ],\n",
       "            [\n",
       "                0.5019607843137255,\n",
       "                \"rgba(188, 55, 84, 1.000)\"\n",
       "            ],\n",
       "            [\n",
       "                0.5058823529411764,\n",
       "                \"rgba(189, 56, 83, 1.000)\"\n",
       "            ],\n",
       "            [\n",
       "                0.5098039215686274,\n",
       "                \"rgba(191, 57, 82, 1.000)\"\n",
       "            ],\n",
       "            [\n",
       "                0.5137254901960784,\n",
       "                \"rgba(192, 58, 81, 1.000)\"\n",
       "            ],\n",
       "            [\n",
       "                0.5176470588235295,\n",
       "                \"rgba(193, 58, 80, 1.000)\"\n",
       "            ],\n",
       "            [\n",
       "                0.5215686274509804,\n",
       "                \"rgba(195, 59, 79, 1.000)\"\n",
       "            ],\n",
       "            [\n",
       "                0.5254901960784314,\n",
       "                \"rgba(196, 60, 78, 1.000)\"\n",
       "            ],\n",
       "            [\n",
       "                0.5294117647058824,\n",
       "                \"rgba(198, 61, 77, 1.000)\"\n",
       "            ],\n",
       "            [\n",
       "                0.5333333333333333,\n",
       "                \"rgba(199, 62, 76, 1.000)\"\n",
       "            ],\n",
       "            [\n",
       "                0.5372549019607843,\n",
       "                \"rgba(200, 63, 75, 1.000)\"\n",
       "            ],\n",
       "            [\n",
       "                0.5411764705882353,\n",
       "                \"rgba(202, 64, 74, 1.000)\"\n",
       "            ],\n",
       "            [\n",
       "                0.5450980392156862,\n",
       "                \"rgba(203, 65, 73, 1.000)\"\n",
       "            ],\n",
       "            [\n",
       "                0.5490196078431373,\n",
       "                \"rgba(204, 66, 72, 1.000)\"\n",
       "            ],\n",
       "            [\n",
       "                0.5529411764705883,\n",
       "                \"rgba(206, 67, 71, 1.000)\"\n",
       "            ],\n",
       "            [\n",
       "                0.5568627450980392,\n",
       "                \"rgba(207, 68, 70, 1.000)\"\n",
       "            ],\n",
       "            [\n",
       "                0.5607843137254902,\n",
       "                \"rgba(208, 69, 69, 1.000)\"\n",
       "            ],\n",
       "            [\n",
       "                0.5647058823529412,\n",
       "                \"rgba(210, 70, 68, 1.000)\"\n",
       "            ],\n",
       "            [\n",
       "                0.5686274509803921,\n",
       "                \"rgba(211, 71, 67, 1.000)\"\n",
       "            ],\n",
       "            [\n",
       "                0.5725490196078431,\n",
       "                \"rgba(212, 72, 66, 1.000)\"\n",
       "            ],\n",
       "            [\n",
       "                0.5764705882352941,\n",
       "                \"rgba(213, 74, 65, 1.000)\"\n",
       "            ],\n",
       "            [\n",
       "                0.5803921568627451,\n",
       "                \"rgba(215, 75, 63, 1.000)\"\n",
       "            ],\n",
       "            [\n",
       "                0.5843137254901961,\n",
       "                \"rgba(216, 76, 62, 1.000)\"\n",
       "            ],\n",
       "            [\n",
       "                0.5882352941176471,\n",
       "                \"rgba(217, 77, 61, 1.000)\"\n",
       "            ],\n",
       "            [\n",
       "                0.592156862745098,\n",
       "                \"rgba(218, 78, 60, 1.000)\"\n",
       "            ],\n",
       "            [\n",
       "                0.596078431372549,\n",
       "                \"rgba(219, 80, 59, 1.000)\"\n",
       "            ],\n",
       "            [\n",
       "                0.6,\n",
       "                \"rgba(221, 81, 58, 1.000)\"\n",
       "            ],\n",
       "            [\n",
       "                0.6039215686274509,\n",
       "                \"rgba(222, 82, 56, 1.000)\"\n",
       "            ],\n",
       "            [\n",
       "                0.6078431372549019,\n",
       "                \"rgba(223, 83, 55, 1.000)\"\n",
       "            ],\n",
       "            [\n",
       "                0.611764705882353,\n",
       "                \"rgba(224, 85, 54, 1.000)\"\n",
       "            ],\n",
       "            [\n",
       "                0.615686274509804,\n",
       "                \"rgba(225, 86, 53, 1.000)\"\n",
       "            ],\n",
       "            [\n",
       "                0.6196078431372549,\n",
       "                \"rgba(226, 87, 52, 1.000)\"\n",
       "            ],\n",
       "            [\n",
       "                0.6235294117647059,\n",
       "                \"rgba(227, 89, 51, 1.000)\"\n",
       "            ],\n",
       "            [\n",
       "                0.6274509803921569,\n",
       "                \"rgba(228, 90, 49, 1.000)\"\n",
       "            ],\n",
       "            [\n",
       "                0.6313725490196078,\n",
       "                \"rgba(229, 92, 48, 1.000)\"\n",
       "            ],\n",
       "            [\n",
       "                0.6352941176470588,\n",
       "                \"rgba(230, 93, 47, 1.000)\"\n",
       "            ],\n",
       "            [\n",
       "                0.6392156862745098,\n",
       "                \"rgba(231, 94, 46, 1.000)\"\n",
       "            ],\n",
       "            [\n",
       "                0.6431372549019608,\n",
       "                \"rgba(232, 96, 45, 1.000)\"\n",
       "            ],\n",
       "            [\n",
       "                0.6470588235294118,\n",
       "                \"rgba(233, 97, 43, 1.000)\"\n",
       "            ],\n",
       "            [\n",
       "                0.6509803921568628,\n",
       "                \"rgba(234, 99, 42, 1.000)\"\n",
       "            ],\n",
       "            [\n",
       "                0.6549019607843137,\n",
       "                \"rgba(235, 100, 41, 1.000)\"\n",
       "            ],\n",
       "            [\n",
       "                0.6588235294117647,\n",
       "                \"rgba(235, 102, 40, 1.000)\"\n",
       "            ],\n",
       "            [\n",
       "                0.6627450980392157,\n",
       "                \"rgba(236, 103, 38, 1.000)\"\n",
       "            ],\n",
       "            [\n",
       "                0.6666666666666666,\n",
       "                \"rgba(237, 105, 37, 1.000)\"\n",
       "            ],\n",
       "            [\n",
       "                0.6705882352941176,\n",
       "                \"rgba(238, 106, 36, 1.000)\"\n",
       "            ],\n",
       "            [\n",
       "                0.6745098039215687,\n",
       "                \"rgba(239, 108, 35, 1.000)\"\n",
       "            ],\n",
       "            [\n",
       "                0.6784313725490196,\n",
       "                \"rgba(239, 110, 33, 1.000)\"\n",
       "            ],\n",
       "            [\n",
       "                0.6823529411764706,\n",
       "                \"rgba(240, 111, 32, 1.000)\"\n",
       "            ],\n",
       "            [\n",
       "                0.6862745098039216,\n",
       "                \"rgba(241, 113, 31, 1.000)\"\n",
       "            ],\n",
       "            [\n",
       "                0.6901960784313725,\n",
       "                \"rgba(241, 115, 29, 1.000)\"\n",
       "            ],\n",
       "            [\n",
       "                0.6941176470588235,\n",
       "                \"rgba(242, 116, 28, 1.000)\"\n",
       "            ],\n",
       "            [\n",
       "                0.6980392156862745,\n",
       "                \"rgba(243, 118, 27, 1.000)\"\n",
       "            ],\n",
       "            [\n",
       "                0.7019607843137254,\n",
       "                \"rgba(243, 120, 25, 1.000)\"\n",
       "            ],\n",
       "            [\n",
       "                0.7058823529411765,\n",
       "                \"rgba(244, 121, 24, 1.000)\"\n",
       "            ],\n",
       "            [\n",
       "                0.7098039215686275,\n",
       "                \"rgba(245, 123, 23, 1.000)\"\n",
       "            ],\n",
       "            [\n",
       "                0.7137254901960784,\n",
       "                \"rgba(245, 125, 21, 1.000)\"\n",
       "            ],\n",
       "            [\n",
       "                0.7176470588235294,\n",
       "                \"rgba(246, 126, 20, 1.000)\"\n",
       "            ],\n",
       "            [\n",
       "                0.7215686274509804,\n",
       "                \"rgba(246, 128, 19, 1.000)\"\n",
       "            ],\n",
       "            [\n",
       "                0.7254901960784313,\n",
       "                \"rgba(247, 130, 18, 1.000)\"\n",
       "            ],\n",
       "            [\n",
       "                0.7294117647058823,\n",
       "                \"rgba(247, 132, 16, 1.000)\"\n",
       "            ],\n",
       "            [\n",
       "                0.7333333333333333,\n",
       "                \"rgba(248, 133, 15, 1.000)\"\n",
       "            ],\n",
       "            [\n",
       "                0.7372549019607844,\n",
       "                \"rgba(248, 135, 14, 1.000)\"\n",
       "            ],\n",
       "            [\n",
       "                0.7411764705882353,\n",
       "                \"rgba(248, 137, 12, 1.000)\"\n",
       "            ],\n",
       "            [\n",
       "                0.7450980392156863,\n",
       "                \"rgba(249, 139, 11, 1.000)\"\n",
       "            ],\n",
       "            [\n",
       "                0.7490196078431373,\n",
       "                \"rgba(249, 140, 10, 1.000)\"\n",
       "            ],\n",
       "            [\n",
       "                0.7529411764705882,\n",
       "                \"rgba(249, 142, 9, 1.000)\"\n",
       "            ],\n",
       "            [\n",
       "                0.7568627450980392,\n",
       "                \"rgba(250, 144, 8, 1.000)\"\n",
       "            ],\n",
       "            [\n",
       "                0.7607843137254902,\n",
       "                \"rgba(250, 146, 7, 1.000)\"\n",
       "            ],\n",
       "            [\n",
       "                0.7647058823529411,\n",
       "                \"rgba(250, 148, 7, 1.000)\"\n",
       "            ],\n",
       "            [\n",
       "                0.7686274509803922,\n",
       "                \"rgba(251, 150, 6, 1.000)\"\n",
       "            ],\n",
       "            [\n",
       "                0.7725490196078432,\n",
       "                \"rgba(251, 151, 6, 1.000)\"\n",
       "            ],\n",
       "            [\n",
       "                0.7764705882352941,\n",
       "                \"rgba(251, 153, 6, 1.000)\"\n",
       "            ],\n",
       "            [\n",
       "                0.7803921568627451,\n",
       "                \"rgba(251, 155, 6, 1.000)\"\n",
       "            ],\n",
       "            [\n",
       "                0.7843137254901961,\n",
       "                \"rgba(251, 157, 7, 1.000)\"\n",
       "            ],\n",
       "            [\n",
       "                0.788235294117647,\n",
       "                \"rgba(252, 159, 7, 1.000)\"\n",
       "            ],\n",
       "            [\n",
       "                0.792156862745098,\n",
       "                \"rgba(252, 161, 8, 1.000)\"\n",
       "            ],\n",
       "            [\n",
       "                0.796078431372549,\n",
       "                \"rgba(252, 163, 9, 1.000)\"\n",
       "            ],\n",
       "            [\n",
       "                0.8,\n",
       "                \"rgba(252, 165, 10, 1.000)\"\n",
       "            ],\n",
       "            [\n",
       "                0.803921568627451,\n",
       "                \"rgba(252, 166, 12, 1.000)\"\n",
       "            ],\n",
       "            [\n",
       "                0.807843137254902,\n",
       "                \"rgba(252, 168, 13, 1.000)\"\n",
       "            ],\n",
       "            [\n",
       "                0.8117647058823529,\n",
       "                \"rgba(252, 170, 15, 1.000)\"\n",
       "            ],\n",
       "            [\n",
       "                0.8156862745098039,\n",
       "                \"rgba(252, 172, 17, 1.000)\"\n",
       "            ],\n",
       "            [\n",
       "                0.8196078431372549,\n",
       "                \"rgba(252, 174, 18, 1.000)\"\n",
       "            ],\n",
       "            [\n",
       "                0.8235294117647058,\n",
       "                \"rgba(252, 176, 20, 1.000)\"\n",
       "            ],\n",
       "            [\n",
       "                0.8274509803921568,\n",
       "                \"rgba(252, 178, 22, 1.000)\"\n",
       "            ],\n",
       "            [\n",
       "                0.8313725490196079,\n",
       "                \"rgba(252, 180, 24, 1.000)\"\n",
       "            ],\n",
       "            [\n",
       "                0.8352941176470589,\n",
       "                \"rgba(251, 182, 26, 1.000)\"\n",
       "            ],\n",
       "            [\n",
       "                0.8392156862745098,\n",
       "                \"rgba(251, 184, 29, 1.000)\"\n",
       "            ],\n",
       "            [\n",
       "                0.8431372549019608,\n",
       "                \"rgba(251, 186, 31, 1.000)\"\n",
       "            ],\n",
       "            [\n",
       "                0.8470588235294118,\n",
       "                \"rgba(251, 188, 33, 1.000)\"\n",
       "            ],\n",
       "            [\n",
       "                0.8509803921568627,\n",
       "                \"rgba(251, 190, 35, 1.000)\"\n",
       "            ],\n",
       "            [\n",
       "                0.8549019607843137,\n",
       "                \"rgba(250, 192, 38, 1.000)\"\n",
       "            ],\n",
       "            [\n",
       "                0.8588235294117647,\n",
       "                \"rgba(250, 194, 40, 1.000)\"\n",
       "            ],\n",
       "            [\n",
       "                0.8627450980392157,\n",
       "                \"rgba(250, 196, 42, 1.000)\"\n",
       "            ],\n",
       "            [\n",
       "                0.8666666666666667,\n",
       "                \"rgba(250, 198, 45, 1.000)\"\n",
       "            ],\n",
       "            [\n",
       "                0.8705882352941177,\n",
       "                \"rgba(249, 199, 47, 1.000)\"\n",
       "            ],\n",
       "            [\n",
       "                0.8745098039215686,\n",
       "                \"rgba(249, 201, 50, 1.000)\"\n",
       "            ],\n",
       "            [\n",
       "                0.8784313725490196,\n",
       "                \"rgba(249, 203, 53, 1.000)\"\n",
       "            ],\n",
       "            [\n",
       "                0.8823529411764706,\n",
       "                \"rgba(248, 205, 55, 1.000)\"\n",
       "            ],\n",
       "            [\n",
       "                0.8862745098039215,\n",
       "                \"rgba(248, 207, 58, 1.000)\"\n",
       "            ],\n",
       "            [\n",
       "                0.8901960784313725,\n",
       "                \"rgba(247, 209, 61, 1.000)\"\n",
       "            ],\n",
       "            [\n",
       "                0.8941176470588236,\n",
       "                \"rgba(247, 211, 64, 1.000)\"\n",
       "            ],\n",
       "            [\n",
       "                0.8980392156862745,\n",
       "                \"rgba(246, 213, 67, 1.000)\"\n",
       "            ],\n",
       "            [\n",
       "                0.9019607843137255,\n",
       "                \"rgba(246, 215, 70, 1.000)\"\n",
       "            ],\n",
       "            [\n",
       "                0.9058823529411765,\n",
       "                \"rgba(245, 217, 73, 1.000)\"\n",
       "            ],\n",
       "            [\n",
       "                0.9098039215686274,\n",
       "                \"rgba(245, 219, 76, 1.000)\"\n",
       "            ],\n",
       "            [\n",
       "                0.9137254901960784,\n",
       "                \"rgba(244, 221, 79, 1.000)\"\n",
       "            ],\n",
       "            [\n",
       "                0.9176470588235294,\n",
       "                \"rgba(244, 223, 83, 1.000)\"\n",
       "            ],\n",
       "            [\n",
       "                0.9215686274509803,\n",
       "                \"rgba(244, 225, 86, 1.000)\"\n",
       "            ],\n",
       "            [\n",
       "                0.9254901960784314,\n",
       "                \"rgba(243, 227, 90, 1.000)\"\n",
       "            ],\n",
       "            [\n",
       "                0.9294117647058824,\n",
       "                \"rgba(243, 229, 93, 1.000)\"\n",
       "            ],\n",
       "            [\n",
       "                0.9333333333333333,\n",
       "                \"rgba(242, 230, 97, 1.000)\"\n",
       "            ],\n",
       "            [\n",
       "                0.9372549019607843,\n",
       "                \"rgba(242, 232, 101, 1.000)\"\n",
       "            ],\n",
       "            [\n",
       "                0.9411764705882353,\n",
       "                \"rgba(242, 234, 105, 1.000)\"\n",
       "            ],\n",
       "            [\n",
       "                0.9450980392156862,\n",
       "                \"rgba(241, 236, 109, 1.000)\"\n",
       "            ],\n",
       "            [\n",
       "                0.9490196078431372,\n",
       "                \"rgba(241, 237, 113, 1.000)\"\n",
       "            ],\n",
       "            [\n",
       "                0.9529411764705882,\n",
       "                \"rgba(241, 239, 117, 1.000)\"\n",
       "            ],\n",
       "            [\n",
       "                0.9568627450980393,\n",
       "                \"rgba(241, 241, 121, 1.000)\"\n",
       "            ],\n",
       "            [\n",
       "                0.9607843137254902,\n",
       "                \"rgba(242, 242, 125, 1.000)\"\n",
       "            ],\n",
       "            [\n",
       "                0.9647058823529412,\n",
       "                \"rgba(242, 244, 130, 1.000)\"\n",
       "            ],\n",
       "            [\n",
       "                0.9686274509803922,\n",
       "                \"rgba(243, 245, 134, 1.000)\"\n",
       "            ],\n",
       "            [\n",
       "                0.9725490196078431,\n",
       "                \"rgba(243, 246, 138, 1.000)\"\n",
       "            ],\n",
       "            [\n",
       "                0.9764705882352941,\n",
       "                \"rgba(244, 248, 142, 1.000)\"\n",
       "            ],\n",
       "            [\n",
       "                0.9803921568627451,\n",
       "                \"rgba(245, 249, 146, 1.000)\"\n",
       "            ],\n",
       "            [\n",
       "                0.984313725490196,\n",
       "                \"rgba(246, 250, 150, 1.000)\"\n",
       "            ],\n",
       "            [\n",
       "                0.9882352941176471,\n",
       "                \"rgba(248, 251, 154, 1.000)\"\n",
       "            ],\n",
       "            [\n",
       "                0.9921568627450981,\n",
       "                \"rgba(249, 252, 157, 1.000)\"\n",
       "            ],\n",
       "            [\n",
       "                0.996078431372549,\n",
       "                \"rgba(250, 253, 161, 1.000)\"\n",
       "            ],\n",
       "            [\n",
       "                1.0,\n",
       "                \"rgba(252, 255, 164, 1.000)\"\n",
       "            ]\n",
       "        ],\n",
       "        \"yaxis\": \"y5\",\n",
       "        \"showscale\": false,\n",
       "        \"x\": [\n",
       "            0.5,\n",
       "            1.5,\n",
       "            2.5,\n",
       "            3.5,\n",
       "            4.5,\n",
       "            5.5,\n",
       "            6.5,\n",
       "            7.5,\n",
       "            8.5,\n",
       "            9.5,\n",
       "            10.5\n",
       "        ],\n",
       "        \"showlegend\": false,\n",
       "        \"name\": \"y1\",\n",
       "        \"zmin\": 0.0,\n",
       "        \"z\": [\n",
       "            [\n",
       "                null,\n",
       "                null,\n",
       "                null,\n",
       "                null,\n",
       "                null,\n",
       "                null,\n",
       "                null,\n",
       "                null,\n",
       "                null,\n",
       "                null\n",
       "            ]\n",
       "        ],\n",
       "        \"zmax\": 100.0,\n",
       "        \"y\": [\n",
       "            0.5,\n",
       "            1.5\n",
       "        ],\n",
       "        \"type\": \"heatmap\",\n",
       "        \"hoverinfo\": \"none\"\n",
       "    }\n",
       "]\n",
       ", {\n",
       "    \"showlegend\": true,\n",
       "    \"paper_bgcolor\": \"rgba(255, 255, 255, 1.000)\",\n",
       "    \"xaxis1\": {\n",
       "        \"tickangle\": 0,\n",
       "        \"showline\": true,\n",
       "        \"gridcolor\": \"rgba(0, 0, 0, 0.100)\",\n",
       "        \"showticklabels\": false,\n",
       "        \"gridwidth\": 0.5,\n",
       "        \"visible\": true,\n",
       "        \"ticks\": \"inside\",\n",
       "        \"range\": [\n",
       "            0.5,\n",
       "            10.5\n",
       "        ],\n",
       "        \"domain\": [\n",
       "            0.003937007874015748,\n",
       "            0.19606299212598427\n",
       "        ],\n",
       "        \"linecolor\": \"rgba(0, 0, 0, 1.000)\",\n",
       "        \"showgrid\": false,\n",
       "        \"zeroline\": false,\n",
       "        \"type\": \"-\",\n",
       "        \"title\": \"\",\n",
       "        \"zerolinecolor\": \"rgba(0, 0, 0, 1.000)\",\n",
       "        \"mirror\": false,\n",
       "        \"anchor\": \"y1\"\n",
       "    },\n",
       "    \"legend\": {\n",
       "        \"yanchor\": \"auto\",\n",
       "        \"xanchor\": \"auto\",\n",
       "        \"bordercolor\": \"rgba(0, 0, 0, 1.000)\",\n",
       "        \"bgcolor\": \"rgba(255, 255, 255, 1.000)\",\n",
       "        \"borderwidth\": 1,\n",
       "        \"tracegroupgap\": 0,\n",
       "        \"y\": 1.0,\n",
       "        \"font\": {\n",
       "            \"color\": \"rgba(0, 0, 0, 1.000)\",\n",
       "            \"family\": \"sans-serif\",\n",
       "            \"size\": 11\n",
       "        },\n",
       "        \"title\": {\n",
       "            \"font\": {\n",
       "                \"color\": \"rgba(0, 0, 0, 1.000)\",\n",
       "                \"family\": \"sans-serif\",\n",
       "                \"size\": 15\n",
       "            },\n",
       "            \"text\": \"\"\n",
       "        },\n",
       "        \"traceorder\": \"normal\",\n",
       "        \"x\": 1.0\n",
       "    },\n",
       "    \"height\": 200,\n",
       "    \"yaxis4\": {\n",
       "        \"tickangle\": 0,\n",
       "        \"showline\": true,\n",
       "        \"gridcolor\": \"rgba(0, 0, 0, 0.100)\",\n",
       "        \"showticklabels\": false,\n",
       "        \"gridwidth\": 0.5,\n",
       "        \"visible\": true,\n",
       "        \"ticks\": \"inside\",\n",
       "        \"range\": [\n",
       "            0.5,\n",
       "            1.5\n",
       "        ],\n",
       "        \"domain\": [\n",
       "            0.01968503937007874,\n",
       "            0.9247594050743656\n",
       "        ],\n",
       "        \"linecolor\": \"rgba(0, 0, 0, 1.000)\",\n",
       "        \"showgrid\": false,\n",
       "        \"zeroline\": false,\n",
       "        \"type\": \"-\",\n",
       "        \"title\": \"\",\n",
       "        \"zerolinecolor\": \"rgba(0, 0, 0, 1.000)\",\n",
       "        \"mirror\": false,\n",
       "        \"anchor\": \"x4\"\n",
       "    },\n",
       "    \"yaxis2\": {\n",
       "        \"tickangle\": 0,\n",
       "        \"showline\": true,\n",
       "        \"gridcolor\": \"rgba(0, 0, 0, 0.100)\",\n",
       "        \"showticklabels\": false,\n",
       "        \"gridwidth\": 0.5,\n",
       "        \"visible\": true,\n",
       "        \"ticks\": \"inside\",\n",
       "        \"range\": [\n",
       "            0.5,\n",
       "            1.5\n",
       "        ],\n",
       "        \"domain\": [\n",
       "            0.01968503937007874,\n",
       "            0.9247594050743656\n",
       "        ],\n",
       "        \"linecolor\": \"rgba(0, 0, 0, 1.000)\",\n",
       "        \"showgrid\": false,\n",
       "        \"zeroline\": false,\n",
       "        \"type\": \"-\",\n",
       "        \"title\": \"\",\n",
       "        \"zerolinecolor\": \"rgba(0, 0, 0, 1.000)\",\n",
       "        \"mirror\": false,\n",
       "        \"anchor\": \"x2\"\n",
       "    },\n",
       "    \"xaxis3\": {\n",
       "        \"tickangle\": 0,\n",
       "        \"showline\": true,\n",
       "        \"gridcolor\": \"rgba(0, 0, 0, 0.100)\",\n",
       "        \"showticklabels\": false,\n",
       "        \"gridwidth\": 0.5,\n",
       "        \"visible\": true,\n",
       "        \"ticks\": \"inside\",\n",
       "        \"range\": [\n",
       "            0.5,\n",
       "            10.5\n",
       "        ],\n",
       "        \"domain\": [\n",
       "            0.40393700787401576,\n",
       "            0.5960629921259843\n",
       "        ],\n",
       "        \"linecolor\": \"rgba(0, 0, 0, 1.000)\",\n",
       "        \"showgrid\": false,\n",
       "        \"zeroline\": false,\n",
       "        \"type\": \"-\",\n",
       "        \"title\": \"\",\n",
       "        \"zerolinecolor\": \"rgba(0, 0, 0, 1.000)\",\n",
       "        \"mirror\": false,\n",
       "        \"anchor\": \"y3\"\n",
       "    },\n",
       "    \"yaxis3\": {\n",
       "        \"tickangle\": 0,\n",
       "        \"showline\": true,\n",
       "        \"gridcolor\": \"rgba(0, 0, 0, 0.100)\",\n",
       "        \"showticklabels\": false,\n",
       "        \"gridwidth\": 0.5,\n",
       "        \"visible\": true,\n",
       "        \"ticks\": \"inside\",\n",
       "        \"range\": [\n",
       "            0.5,\n",
       "            1.5\n",
       "        ],\n",
       "        \"domain\": [\n",
       "            0.01968503937007874,\n",
       "            0.9247594050743656\n",
       "        ],\n",
       "        \"linecolor\": \"rgba(0, 0, 0, 1.000)\",\n",
       "        \"showgrid\": false,\n",
       "        \"zeroline\": false,\n",
       "        \"type\": \"-\",\n",
       "        \"title\": \"\",\n",
       "        \"zerolinecolor\": \"rgba(0, 0, 0, 1.000)\",\n",
       "        \"mirror\": false,\n",
       "        \"anchor\": \"x3\"\n",
       "    },\n",
       "    \"yaxis5\": {\n",
       "        \"tickangle\": 0,\n",
       "        \"showline\": true,\n",
       "        \"gridcolor\": \"rgba(0, 0, 0, 0.100)\",\n",
       "        \"showticklabels\": false,\n",
       "        \"gridwidth\": 0.5,\n",
       "        \"visible\": true,\n",
       "        \"ticks\": \"inside\",\n",
       "        \"range\": [\n",
       "            0.5,\n",
       "            1.5\n",
       "        ],\n",
       "        \"domain\": [\n",
       "            0.01968503937007874,\n",
       "            0.9247594050743656\n",
       "        ],\n",
       "        \"linecolor\": \"rgba(0, 0, 0, 1.000)\",\n",
       "        \"showgrid\": false,\n",
       "        \"zeroline\": false,\n",
       "        \"type\": \"-\",\n",
       "        \"title\": \"\",\n",
       "        \"zerolinecolor\": \"rgba(0, 0, 0, 1.000)\",\n",
       "        \"mirror\": false,\n",
       "        \"anchor\": \"x5\"\n",
       "    },\n",
       "    \"xaxis4\": {\n",
       "        \"tickangle\": 0,\n",
       "        \"showline\": true,\n",
       "        \"gridcolor\": \"rgba(0, 0, 0, 0.100)\",\n",
       "        \"showticklabels\": false,\n",
       "        \"gridwidth\": 0.5,\n",
       "        \"visible\": true,\n",
       "        \"ticks\": \"inside\",\n",
       "        \"range\": [\n",
       "            0.5,\n",
       "            10.5\n",
       "        ],\n",
       "        \"domain\": [\n",
       "            0.6039370078740157,\n",
       "            0.7960629921259843\n",
       "        ],\n",
       "        \"linecolor\": \"rgba(0, 0, 0, 1.000)\",\n",
       "        \"showgrid\": false,\n",
       "        \"zeroline\": false,\n",
       "        \"type\": \"-\",\n",
       "        \"title\": \"\",\n",
       "        \"zerolinecolor\": \"rgba(0, 0, 0, 1.000)\",\n",
       "        \"mirror\": false,\n",
       "        \"anchor\": \"y4\"\n",
       "    },\n",
       "    \"yaxis1\": {\n",
       "        \"tickangle\": 0,\n",
       "        \"showline\": true,\n",
       "        \"gridcolor\": \"rgba(0, 0, 0, 0.100)\",\n",
       "        \"showticklabels\": false,\n",
       "        \"gridwidth\": 0.5,\n",
       "        \"visible\": true,\n",
       "        \"ticks\": \"inside\",\n",
       "        \"range\": [\n",
       "            0.5,\n",
       "            1.5\n",
       "        ],\n",
       "        \"domain\": [\n",
       "            0.01968503937007874,\n",
       "            0.9247594050743656\n",
       "        ],\n",
       "        \"linecolor\": \"rgba(0, 0, 0, 1.000)\",\n",
       "        \"showgrid\": false,\n",
       "        \"zeroline\": false,\n",
       "        \"type\": \"-\",\n",
       "        \"title\": \"\",\n",
       "        \"zerolinecolor\": \"rgba(0, 0, 0, 1.000)\",\n",
       "        \"mirror\": false,\n",
       "        \"anchor\": \"x1\"\n",
       "    },\n",
       "    \"annotations\": [\n",
       "        {\n",
       "            \"yanchor\": \"top\",\n",
       "            \"xanchor\": \"center\",\n",
       "            \"rotation\": -0.0,\n",
       "            \"y\": 1.0,\n",
       "            \"font\": {\n",
       "                \"color\": \"rgba(0, 0, 0, 1.000)\",\n",
       "                \"family\": \"sans-serif\",\n",
       "                \"size\": 11\n",
       "            },\n",
       "            \"yref\": \"paper\",\n",
       "            \"showarrow\": false,\n",
       "            \"text\": \"t = 1\",\n",
       "            \"xref\": \"paper\",\n",
       "            \"x\": 0.1\n",
       "        },\n",
       "        {\n",
       "            \"yanchor\": \"top\",\n",
       "            \"xanchor\": \"center\",\n",
       "            \"rotation\": -0.0,\n",
       "            \"y\": 1.0,\n",
       "            \"font\": {\n",
       "                \"color\": \"rgba(0, 0, 0, 1.000)\",\n",
       "                \"family\": \"sans-serif\",\n",
       "                \"size\": 11\n",
       "            },\n",
       "            \"yref\": \"paper\",\n",
       "            \"showarrow\": false,\n",
       "            \"text\": \"t = 10\",\n",
       "            \"xref\": \"paper\",\n",
       "            \"x\": 0.3\n",
       "        },\n",
       "        {\n",
       "            \"yanchor\": \"top\",\n",
       "            \"xanchor\": \"center\",\n",
       "            \"rotation\": -0.0,\n",
       "            \"y\": 1.0,\n",
       "            \"font\": {\n",
       "                \"color\": \"rgba(0, 0, 0, 1.000)\",\n",
       "                \"family\": \"sans-serif\",\n",
       "                \"size\": 11\n",
       "            },\n",
       "            \"yref\": \"paper\",\n",
       "            \"showarrow\": false,\n",
       "            \"text\": \"t = 20\",\n",
       "            \"xref\": \"paper\",\n",
       "            \"x\": 0.5\n",
       "        },\n",
       "        {\n",
       "            \"yanchor\": \"top\",\n",
       "            \"xanchor\": \"center\",\n",
       "            \"rotation\": -0.0,\n",
       "            \"y\": 1.0,\n",
       "            \"font\": {\n",
       "                \"color\": \"rgba(0, 0, 0, 1.000)\",\n",
       "                \"family\": \"sans-serif\",\n",
       "                \"size\": 11\n",
       "            },\n",
       "            \"yref\": \"paper\",\n",
       "            \"showarrow\": false,\n",
       "            \"text\": \"t = 30\",\n",
       "            \"xref\": \"paper\",\n",
       "            \"x\": 0.7000000000000001\n",
       "        },\n",
       "        {\n",
       "            \"yanchor\": \"top\",\n",
       "            \"xanchor\": \"center\",\n",
       "            \"rotation\": -0.0,\n",
       "            \"y\": 1.0,\n",
       "            \"font\": {\n",
       "                \"color\": \"rgba(0, 0, 0, 1.000)\",\n",
       "                \"family\": \"sans-serif\",\n",
       "                \"size\": 11\n",
       "            },\n",
       "            \"yref\": \"paper\",\n",
       "            \"showarrow\": false,\n",
       "            \"text\": \"t = 100\",\n",
       "            \"xref\": \"paper\",\n",
       "            \"x\": 0.9000000000000001\n",
       "        }\n",
       "    ],\n",
       "    \"xaxis2\": {\n",
       "        \"tickangle\": 0,\n",
       "        \"showline\": true,\n",
       "        \"gridcolor\": \"rgba(0, 0, 0, 0.100)\",\n",
       "        \"showticklabels\": false,\n",
       "        \"gridwidth\": 0.5,\n",
       "        \"visible\": true,\n",
       "        \"ticks\": \"inside\",\n",
       "        \"range\": [\n",
       "            0.5,\n",
       "            10.5\n",
       "        ],\n",
       "        \"domain\": [\n",
       "            0.20393700787401575,\n",
       "            0.3960629921259843\n",
       "        ],\n",
       "        \"linecolor\": \"rgba(0, 0, 0, 1.000)\",\n",
       "        \"showgrid\": false,\n",
       "        \"zeroline\": false,\n",
       "        \"type\": \"-\",\n",
       "        \"title\": \"\",\n",
       "        \"zerolinecolor\": \"rgba(0, 0, 0, 1.000)\",\n",
       "        \"mirror\": false,\n",
       "        \"anchor\": \"y2\"\n",
       "    },\n",
       "    \"plot_bgcolor\": \"rgba(255, 255, 255, 1.000)\",\n",
       "    \"margin\": {\n",
       "        \"l\": 0,\n",
       "        \"b\": 20,\n",
       "        \"r\": 0,\n",
       "        \"t\": 20\n",
       "    },\n",
       "    \"xaxis5\": {\n",
       "        \"tickangle\": 0,\n",
       "        \"showline\": true,\n",
       "        \"gridcolor\": \"rgba(0, 0, 0, 0.100)\",\n",
       "        \"showticklabels\": false,\n",
       "        \"gridwidth\": 0.5,\n",
       "        \"visible\": true,\n",
       "        \"ticks\": \"inside\",\n",
       "        \"range\": [\n",
       "            0.5,\n",
       "            10.5\n",
       "        ],\n",
       "        \"domain\": [\n",
       "            0.8039370078740158,\n",
       "            0.9960629921259843\n",
       "        ],\n",
       "        \"linecolor\": \"rgba(0, 0, 0, 1.000)\",\n",
       "        \"showgrid\": false,\n",
       "        \"zeroline\": false,\n",
       "        \"type\": \"-\",\n",
       "        \"title\": \"\",\n",
       "        \"zerolinecolor\": \"rgba(0, 0, 0, 1.000)\",\n",
       "        \"mirror\": false,\n",
       "        \"anchor\": \"y5\"\n",
       "    },\n",
       "    \"width\": 1000\n",
       "}\n",
       ");\n",
       "\n",
       "    });\n",
       "    </script>\n",
       "\n",
       "    </body>\n",
       "</html>\n"
      ]
     },
     "execution_count": 36,
     "metadata": {},
     "output_type": "execute_result"
    }
   ],
   "source": [
    "# ... I'm sure there are better ways to do this ...\n",
    "\n",
    "ts = [2, 11, 21, 31, 101] # time steps to plot\n",
    "\n",
    "\n",
    "hms = map(ts) do t \n",
    "    heatmap(reshape(traj[t], (H, W)), clim = (0, 100.0))\n",
    "end\n",
    "\n",
    "\n",
    "plot(hms..., layout = (1,5), colorbar = false, \n",
    "       title = [\"t = 1\" \"t = 10\" \"t = 20\" \"t = 30\" \"t = 100\"], titlefont = font(8))\n",
    "plot!(size=(W*100,H*200))\n",
    "plot!(xticks = false)\n",
    "plot!(yticks = false)"
   ]
  },
  {
   "cell_type": "code",
   "execution_count": null,
   "id": "fc702676",
   "metadata": {},
   "outputs": [],
   "source": []
  }
 ],
 "metadata": {
  "kernelspec": {
   "display_name": "Julia 1.6.1",
   "language": "julia",
   "name": "julia-1.6"
  },
  "language_info": {
   "file_extension": ".jl",
   "mimetype": "application/julia",
   "name": "julia",
   "version": "1.6.1"
  }
 },
 "nbformat": 4,
 "nbformat_minor": 5
}
