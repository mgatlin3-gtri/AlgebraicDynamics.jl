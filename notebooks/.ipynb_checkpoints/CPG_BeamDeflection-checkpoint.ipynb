{
 "cells": [
  {
   "cell_type": "code",
   "execution_count": 36,
   "id": "f7973b0d",
   "metadata": {},
   "outputs": [
    {
     "name": "stderr",
     "output_type": "stream",
     "text": [
      "WARNING: using PyPlot.spy in module Main conflicts with an existing identifier.\n",
      "WARNING: using PyPlot.plot in module Main conflicts with an existing identifier.\n",
      "WARNING: using PyPlot.grid in module Main conflicts with an existing identifier.\n"
     ]
    }
   ],
   "source": [
    "using Catlab\n",
    "using Catlab.CategoricalAlgebra\n",
    "using Catlab.WiringDiagrams\n",
    "using Catlab.Programs\n",
    "using Catlab.Graphics\n",
    "using Catlab.Graphics: Graphviz\n",
    "\n",
    "using AlgebraicDynamics\n",
    "using AlgebraicDynamics.DWDDynam\n",
    "using AlgebraicDynamics.UWDDynam\n",
    "using AlgebraicDynamics.CPortGraphDynam\n",
    "using AlgebraicDynamics.CPortGraphDynam: grid\n",
    "\n",
    "using LabelledArrays\n",
    "\n",
    "using DynamicalSystems, OrdinaryDiffEq\n",
    "using Plots\n",
    "plotly()\n",
    "using PyPlot"
   ]
  },
  {
   "cell_type": "code",
   "execution_count": 32,
   "id": "6c7a2e4c",
   "metadata": {},
   "outputs": [
    {
     "data": {
      "text/html": [
       "<div class=\"c-set\">\n",
       "<span class=\"c-set-summary\">CSet with elements Box = 1:10, Port = 1:40, Wire = 1:18, OuterPort = 1:22</span>\n",
       "<table>\n",
       "  <tr class = \"header headerLastRow\">\n",
       "    <th class = \"rowNumber\">Port</th>\n",
       "    <th style = \"text-align: right;\">box</th>\n",
       "  </tr>\n",
       "  <tr>\n",
       "    <td class = \"rowNumber\">1</td>\n",
       "    <td style = \"text-align: right;\">1</td>\n",
       "  </tr>\n",
       "  <tr>\n",
       "    <td class = \"rowNumber\">2</td>\n",
       "    <td style = \"text-align: right;\">1</td>\n",
       "  </tr>\n",
       "  <tr>\n",
       "    <td class = \"rowNumber\">3</td>\n",
       "    <td style = \"text-align: right;\">1</td>\n",
       "  </tr>\n",
       "  <tr>\n",
       "    <td class = \"rowNumber\">4</td>\n",
       "    <td style = \"text-align: right;\">1</td>\n",
       "  </tr>\n",
       "  <tr>\n",
       "    <td class = \"rowNumber\">5</td>\n",
       "    <td style = \"text-align: right;\">2</td>\n",
       "  </tr>\n",
       "  <tr>\n",
       "    <td class = \"rowNumber\">6</td>\n",
       "    <td style = \"text-align: right;\">2</td>\n",
       "  </tr>\n",
       "  <tr>\n",
       "    <td class = \"rowNumber\">7</td>\n",
       "    <td style = \"text-align: right;\">2</td>\n",
       "  </tr>\n",
       "  <tr>\n",
       "    <td class = \"rowNumber\">8</td>\n",
       "    <td style = \"text-align: right;\">2</td>\n",
       "  </tr>\n",
       "  <tr>\n",
       "    <td class = \"rowNumber\">9</td>\n",
       "    <td style = \"text-align: right;\">3</td>\n",
       "  </tr>\n",
       "  <tr>\n",
       "    <td class = \"rowNumber\">10</td>\n",
       "    <td style = \"text-align: right;\">3</td>\n",
       "  </tr>\n",
       "  <tr>\n",
       "    <td class = \"rowNumber\">11</td>\n",
       "    <td style = \"text-align: right;\">3</td>\n",
       "  </tr>\n",
       "  <tr>\n",
       "    <td class = \"rowNumber\">12</td>\n",
       "    <td style = \"text-align: right;\">3</td>\n",
       "  </tr>\n",
       "  <tr>\n",
       "    <td class = \"rowNumber\">13</td>\n",
       "    <td style = \"text-align: right;\">4</td>\n",
       "  </tr>\n",
       "  <tr>\n",
       "    <td class = \"rowNumber\">14</td>\n",
       "    <td style = \"text-align: right;\">4</td>\n",
       "  </tr>\n",
       "  <tr>\n",
       "    <td class = \"rowNumber\">15</td>\n",
       "    <td style = \"text-align: right;\">4</td>\n",
       "  </tr>\n",
       "  <tr>\n",
       "    <td class = \"rowNumber\">16</td>\n",
       "    <td style = \"text-align: right;\">4</td>\n",
       "  </tr>\n",
       "  <tr>\n",
       "    <td class = \"rowNumber\">17</td>\n",
       "    <td style = \"text-align: right;\">5</td>\n",
       "  </tr>\n",
       "  <tr>\n",
       "    <td class = \"rowNumber\">18</td>\n",
       "    <td style = \"text-align: right;\">5</td>\n",
       "  </tr>\n",
       "  <tr>\n",
       "    <td class = \"rowNumber\">19</td>\n",
       "    <td style = \"text-align: right;\">5</td>\n",
       "  </tr>\n",
       "  <tr>\n",
       "    <td class = \"rowNumber\">20</td>\n",
       "    <td style = \"text-align: right;\">5</td>\n",
       "  </tr>\n",
       "  <tr>\n",
       "    <td class = \"rowNumber\">21</td>\n",
       "    <td style = \"text-align: right;\">6</td>\n",
       "  </tr>\n",
       "  <tr>\n",
       "    <td class = \"rowNumber\">22</td>\n",
       "    <td style = \"text-align: right;\">6</td>\n",
       "  </tr>\n",
       "  <tr>\n",
       "    <td class = \"rowNumber\">23</td>\n",
       "    <td style = \"text-align: right;\">6</td>\n",
       "  </tr>\n",
       "  <tr>\n",
       "    <td class = \"rowNumber\">24</td>\n",
       "    <td style = \"text-align: right;\">6</td>\n",
       "  </tr>\n",
       "  <tr>\n",
       "    <td class = \"rowNumber\">25</td>\n",
       "    <td style = \"text-align: right;\">7</td>\n",
       "  </tr>\n",
       "  <tr>\n",
       "    <td class = \"rowNumber\">26</td>\n",
       "    <td style = \"text-align: right;\">7</td>\n",
       "  </tr>\n",
       "  <tr>\n",
       "    <td class = \"rowNumber\">27</td>\n",
       "    <td style = \"text-align: right;\">7</td>\n",
       "  </tr>\n",
       "  <tr>\n",
       "    <td class = \"rowNumber\">28</td>\n",
       "    <td style = \"text-align: right;\">7</td>\n",
       "  </tr>\n",
       "  <tr>\n",
       "    <td class = \"rowNumber\">29</td>\n",
       "    <td style = \"text-align: right;\">8</td>\n",
       "  </tr>\n",
       "  <tr>\n",
       "    <td class = \"rowNumber\">30</td>\n",
       "    <td style = \"text-align: right;\">8</td>\n",
       "  </tr>\n",
       "  <tr>\n",
       "    <td class = \"rowNumber\">31</td>\n",
       "    <td style = \"text-align: right;\">8</td>\n",
       "  </tr>\n",
       "  <tr>\n",
       "    <td class = \"rowNumber\">32</td>\n",
       "    <td style = \"text-align: right;\">8</td>\n",
       "  </tr>\n",
       "  <tr>\n",
       "    <td class = \"rowNumber\">33</td>\n",
       "    <td style = \"text-align: right;\">9</td>\n",
       "  </tr>\n",
       "  <tr>\n",
       "    <td class = \"rowNumber\">34</td>\n",
       "    <td style = \"text-align: right;\">9</td>\n",
       "  </tr>\n",
       "  <tr>\n",
       "    <td class = \"rowNumber\">35</td>\n",
       "    <td style = \"text-align: right;\">9</td>\n",
       "  </tr>\n",
       "  <tr>\n",
       "    <td class = \"rowNumber\">36</td>\n",
       "    <td style = \"text-align: right;\">9</td>\n",
       "  </tr>\n",
       "  <tr>\n",
       "    <td class = \"rowNumber\">37</td>\n",
       "    <td style = \"text-align: right;\">10</td>\n",
       "  </tr>\n",
       "  <tr>\n",
       "    <td class = \"rowNumber\">38</td>\n",
       "    <td style = \"text-align: right;\">10</td>\n",
       "  </tr>\n",
       "  <tr>\n",
       "    <td class = \"rowNumber\">39</td>\n",
       "    <td style = \"text-align: right;\">10</td>\n",
       "  </tr>\n",
       "  <tr>\n",
       "    <td class = \"rowNumber\">40</td>\n",
       "    <td style = \"text-align: right;\">10</td>\n",
       "  </tr>\n",
       "</table>\n",
       "<table>\n",
       "  <tr class = \"header headerLastRow\">\n",
       "    <th class = \"rowNumber\">Wire</th>\n",
       "    <th style = \"text-align: right;\">src</th>\n",
       "    <th style = \"text-align: right;\">tgt</th>\n",
       "  </tr>\n",
       "  <tr>\n",
       "    <td class = \"rowNumber\">1</td>\n",
       "    <td style = \"text-align: right;\">2</td>\n",
       "    <td style = \"text-align: right;\">8</td>\n",
       "  </tr>\n",
       "  <tr>\n",
       "    <td class = \"rowNumber\">2</td>\n",
       "    <td style = \"text-align: right;\">8</td>\n",
       "    <td style = \"text-align: right;\">2</td>\n",
       "  </tr>\n",
       "  <tr>\n",
       "    <td class = \"rowNumber\">3</td>\n",
       "    <td style = \"text-align: right;\">6</td>\n",
       "    <td style = \"text-align: right;\">12</td>\n",
       "  </tr>\n",
       "  <tr>\n",
       "    <td class = \"rowNumber\">4</td>\n",
       "    <td style = \"text-align: right;\">12</td>\n",
       "    <td style = \"text-align: right;\">6</td>\n",
       "  </tr>\n",
       "  <tr>\n",
       "    <td class = \"rowNumber\">5</td>\n",
       "    <td style = \"text-align: right;\">10</td>\n",
       "    <td style = \"text-align: right;\">16</td>\n",
       "  </tr>\n",
       "  <tr>\n",
       "    <td class = \"rowNumber\">6</td>\n",
       "    <td style = \"text-align: right;\">16</td>\n",
       "    <td style = \"text-align: right;\">10</td>\n",
       "  </tr>\n",
       "  <tr>\n",
       "    <td class = \"rowNumber\">7</td>\n",
       "    <td style = \"text-align: right;\">14</td>\n",
       "    <td style = \"text-align: right;\">20</td>\n",
       "  </tr>\n",
       "  <tr>\n",
       "    <td class = \"rowNumber\">8</td>\n",
       "    <td style = \"text-align: right;\">20</td>\n",
       "    <td style = \"text-align: right;\">14</td>\n",
       "  </tr>\n",
       "  <tr>\n",
       "    <td class = \"rowNumber\">9</td>\n",
       "    <td style = \"text-align: right;\">18</td>\n",
       "    <td style = \"text-align: right;\">24</td>\n",
       "  </tr>\n",
       "  <tr>\n",
       "    <td class = \"rowNumber\">10</td>\n",
       "    <td style = \"text-align: right;\">24</td>\n",
       "    <td style = \"text-align: right;\">18</td>\n",
       "  </tr>\n",
       "  <tr>\n",
       "    <td class = \"rowNumber\">11</td>\n",
       "    <td style = \"text-align: right;\">22</td>\n",
       "    <td style = \"text-align: right;\">28</td>\n",
       "  </tr>\n",
       "  <tr>\n",
       "    <td class = \"rowNumber\">12</td>\n",
       "    <td style = \"text-align: right;\">28</td>\n",
       "    <td style = \"text-align: right;\">22</td>\n",
       "  </tr>\n",
       "  <tr>\n",
       "    <td class = \"rowNumber\">13</td>\n",
       "    <td style = \"text-align: right;\">26</td>\n",
       "    <td style = \"text-align: right;\">32</td>\n",
       "  </tr>\n",
       "  <tr>\n",
       "    <td class = \"rowNumber\">14</td>\n",
       "    <td style = \"text-align: right;\">32</td>\n",
       "    <td style = \"text-align: right;\">26</td>\n",
       "  </tr>\n",
       "  <tr>\n",
       "    <td class = \"rowNumber\">15</td>\n",
       "    <td style = \"text-align: right;\">30</td>\n",
       "    <td style = \"text-align: right;\">36</td>\n",
       "  </tr>\n",
       "  <tr>\n",
       "    <td class = \"rowNumber\">16</td>\n",
       "    <td style = \"text-align: right;\">36</td>\n",
       "    <td style = \"text-align: right;\">30</td>\n",
       "  </tr>\n",
       "  <tr>\n",
       "    <td class = \"rowNumber\">17</td>\n",
       "    <td style = \"text-align: right;\">34</td>\n",
       "    <td style = \"text-align: right;\">40</td>\n",
       "  </tr>\n",
       "  <tr>\n",
       "    <td class = \"rowNumber\">18</td>\n",
       "    <td style = \"text-align: right;\">40</td>\n",
       "    <td style = \"text-align: right;\">34</td>\n",
       "  </tr>\n",
       "</table>\n",
       "<table>\n",
       "  <tr class = \"header headerLastRow\">\n",
       "    <th class = \"rowNumber\">OuterPort</th>\n",
       "    <th style = \"text-align: right;\">con</th>\n",
       "  </tr>\n",
       "  <tr>\n",
       "    <td class = \"rowNumber\">1</td>\n",
       "    <td style = \"text-align: right;\">1</td>\n",
       "  </tr>\n",
       "  <tr>\n",
       "    <td class = \"rowNumber\">2</td>\n",
       "    <td style = \"text-align: right;\">5</td>\n",
       "  </tr>\n",
       "  <tr>\n",
       "    <td class = \"rowNumber\">3</td>\n",
       "    <td style = \"text-align: right;\">9</td>\n",
       "  </tr>\n",
       "  <tr>\n",
       "    <td class = \"rowNumber\">4</td>\n",
       "    <td style = \"text-align: right;\">13</td>\n",
       "  </tr>\n",
       "  <tr>\n",
       "    <td class = \"rowNumber\">5</td>\n",
       "    <td style = \"text-align: right;\">17</td>\n",
       "  </tr>\n",
       "  <tr>\n",
       "    <td class = \"rowNumber\">6</td>\n",
       "    <td style = \"text-align: right;\">21</td>\n",
       "  </tr>\n",
       "  <tr>\n",
       "    <td class = \"rowNumber\">7</td>\n",
       "    <td style = \"text-align: right;\">25</td>\n",
       "  </tr>\n",
       "  <tr>\n",
       "    <td class = \"rowNumber\">8</td>\n",
       "    <td style = \"text-align: right;\">29</td>\n",
       "  </tr>\n",
       "  <tr>\n",
       "    <td class = \"rowNumber\">9</td>\n",
       "    <td style = \"text-align: right;\">33</td>\n",
       "  </tr>\n",
       "  <tr>\n",
       "    <td class = \"rowNumber\">10</td>\n",
       "    <td style = \"text-align: right;\">37</td>\n",
       "  </tr>\n",
       "  <tr>\n",
       "    <td class = \"rowNumber\">11</td>\n",
       "    <td style = \"text-align: right;\">3</td>\n",
       "  </tr>\n",
       "  <tr>\n",
       "    <td class = \"rowNumber\">12</td>\n",
       "    <td style = \"text-align: right;\">7</td>\n",
       "  </tr>\n",
       "  <tr>\n",
       "    <td class = \"rowNumber\">13</td>\n",
       "    <td style = \"text-align: right;\">11</td>\n",
       "  </tr>\n",
       "  <tr>\n",
       "    <td class = \"rowNumber\">14</td>\n",
       "    <td style = \"text-align: right;\">15</td>\n",
       "  </tr>\n",
       "  <tr>\n",
       "    <td class = \"rowNumber\">15</td>\n",
       "    <td style = \"text-align: right;\">19</td>\n",
       "  </tr>\n",
       "  <tr>\n",
       "    <td class = \"rowNumber\">16</td>\n",
       "    <td style = \"text-align: right;\">23</td>\n",
       "  </tr>\n",
       "  <tr>\n",
       "    <td class = \"rowNumber\">17</td>\n",
       "    <td style = \"text-align: right;\">27</td>\n",
       "  </tr>\n",
       "  <tr>\n",
       "    <td class = \"rowNumber\">18</td>\n",
       "    <td style = \"text-align: right;\">31</td>\n",
       "  </tr>\n",
       "  <tr>\n",
       "    <td class = \"rowNumber\">19</td>\n",
       "    <td style = \"text-align: right;\">35</td>\n",
       "  </tr>\n",
       "  <tr>\n",
       "    <td class = \"rowNumber\">20</td>\n",
       "    <td style = \"text-align: right;\">39</td>\n",
       "  </tr>\n",
       "  <tr>\n",
       "    <td class = \"rowNumber\">21</td>\n",
       "    <td style = \"text-align: right;\">4</td>\n",
       "  </tr>\n",
       "  <tr>\n",
       "    <td class = \"rowNumber\">22</td>\n",
       "    <td style = \"text-align: right;\">38</td>\n",
       "  </tr>\n",
       "</table>\n",
       "</div>\n"
      ],
      "text/plain": [
       "CSet with elements Box = 1:10, Port = 1:40, Wire = 1:18, OuterPort = 1:22\n",
       "┌──────┬─────┐\n",
       "│\u001b[1m Port \u001b[0m│\u001b[1m box \u001b[0m│\n",
       "├──────┼─────┤\n",
       "│    1 │   1 │\n",
       "│    2 │   1 │\n",
       "│    3 │   1 │\n",
       "│    4 │   1 │\n",
       "│    5 │   2 │\n",
       "│    6 │   2 │\n",
       "│    7 │   2 │\n",
       "│    8 │   2 │\n",
       "│    9 │   3 │\n",
       "│   10 │   3 │\n",
       "│   11 │   3 │\n",
       "│   12 │   3 │\n",
       "│   13 │   4 │\n",
       "│   14 │   4 │\n",
       "│   15 │   4 │\n",
       "│   16 │   4 │\n",
       "│   17 │   5 │\n",
       "│   18 │   5 │\n",
       "│   19 │   5 │\n",
       "│   20 │   5 │\n",
       "│   21 │   6 │\n",
       "│   22 │   6 │\n",
       "│  ⋮   │  ⋮  │\n",
       "└──────┴─────┘\n",
       "\u001b[36m18 rows omitted\u001b[0m\n",
       "┌──────┬─────┬─────┐\n",
       "│\u001b[1m Wire \u001b[0m│\u001b[1m src \u001b[0m│\u001b[1m tgt \u001b[0m│\n",
       "├──────┼─────┼─────┤\n",
       "│    1 │   2 │   8 │\n",
       "│    2 │   8 │   2 │\n",
       "│    3 │   6 │  12 │\n",
       "│    4 │  12 │   6 │\n",
       "│    5 │  10 │  16 │\n",
       "│    6 │  16 │  10 │\n",
       "│    7 │  14 │  20 │\n",
       "│    8 │  20 │  14 │\n",
       "│    9 │  18 │  24 │\n",
       "│   10 │  24 │  18 │\n",
       "│   11 │  22 │  28 │\n",
       "│   12 │  28 │  22 │\n",
       "│   13 │  26 │  32 │\n",
       "│   14 │  32 │  26 │\n",
       "│   15 │  30 │  36 │\n",
       "│   16 │  36 │  30 │\n",
       "│   17 │  34 │  40 │\n",
       "│   18 │  40 │  34 │\n",
       "└──────┴─────┴─────┘\n",
       "┌───────────┬─────┐\n",
       "│\u001b[1m OuterPort \u001b[0m│\u001b[1m con \u001b[0m│\n",
       "├───────────┼─────┤\n",
       "│         1 │   1 │\n",
       "│         2 │   5 │\n",
       "│         3 │   9 │\n",
       "│         4 │  13 │\n",
       "│         5 │  17 │\n",
       "│         6 │  21 │\n",
       "│         7 │  25 │\n",
       "│         8 │  29 │\n",
       "│         9 │  33 │\n",
       "│        10 │  37 │\n",
       "│        11 │   3 │\n",
       "│        12 │   7 │\n",
       "│        13 │  11 │\n",
       "│        14 │  15 │\n",
       "│        15 │  19 │\n",
       "│        16 │  23 │\n",
       "│        17 │  27 │\n",
       "│        18 │  31 │\n",
       "│        19 │  35 │\n",
       "│        20 │  39 │\n",
       "│        21 │   4 │\n",
       "│        22 │  38 │\n",
       "└───────────┴─────┘\n"
      ]
     },
     "execution_count": 32,
     "metadata": {},
     "output_type": "execute_result"
    }
   ],
   "source": [
    "# Pick a composition syntax\n",
    "\n",
    "W = 10; H = 1  # we'll create a grid with width 10 and height 1\n",
    "\n",
    "# initialize the instance\n",
    "stencil = OpenCPortGraph()\n",
    "\n",
    "# add the boxes\n",
    "boxes = reshape(add_parts!(stencil, :Box, W*H), H, W) \n",
    "\n",
    "ports = map(i -> add_parts!(stencil, :Port, 4,  box = i), boxes)\n",
    "\n",
    "# add up/down wires\n",
    "map(view(boxes, 1:(H - 1), 1:W)) do b\n",
    "    add_part!(stencil, :Wire, src = ports[b][3], tgt = ports[b + 1][1])\n",
    "    add_part!(stencil, :Wire, tgt = ports[b][3], src = ports[b + 1][1])\n",
    "end\n",
    "\n",
    "# add left/right wires\n",
    "map(view(boxes, 1:H, 1:(W-1))) do b\n",
    "    add_part!(stencil, :Wire, src = ports[b][2], tgt = ports[b+H][4])\n",
    "    add_part!(stencil, :Wire, tgt = ports[b][2], src = ports[b+H][4])\n",
    "end\n",
    "\n",
    "# add outer ports\n",
    "add_parts!(stencil, :OuterPort, W, con = map(i -> ports[1,i][1], 1:W))\n",
    "add_parts!(stencil, :OuterPort, W, con = map(i -> ports[H,i][3], 1:W))\n",
    "add_parts!(stencil, :OuterPort, H, con = map(i -> ports[i,1][4], 1:H))\n",
    "add_parts!(stencil, :OuterPort, H, con = map(i -> ports[i,W][2], 1:H))\n",
    "\n",
    "stencil"
   ]
  },
  {
   "cell_type": "code",
   "execution_count": 19,
   "id": "edffea9b",
   "metadata": {
    "scrolled": true
   },
   "outputs": [],
   "source": [
    "# # Choose a primitive model. We will fill each box with the same primitive model\n",
    "# # We are attempting to encode the elastic curvature of a beam when presented with a load on the free end\n",
    "# # Via trial and error the order of ports appears to be as follows\n",
    "# #\n",
    "# #                 1\n",
    "# #                 |\n",
    "# #            2---------4\n",
    "# #                 |\n",
    "# #                 3\n",
    "\n",
    "# point_model = DiscreteMachine{Float64}(\n",
    "#     4, # number of inputs, (x(left, right, top, bottom))\n",
    "#     1, # number of states, x(i)\n",
    "#     4, # number of outputs\n",
    "#     # dynamics: u - the state vector (current node), x - the input vector (neighbors)\n",
    "#     (u,x,p,t) -> [-1*(x[1])*(((p.γ*((x[4])^2)*(3*p.L-x[4])) - \n",
    "#                 (p.γ*((u[1])^2)*(3*p.L-u[1]))) /\n",
    "#                 (x[4]-u[1]))], # displacement, u(x,y)\n",
    "#     u -> repeat(u, 4) # the read out function, for each machine \n",
    "# )\n"
   ]
  },
  {
   "cell_type": "code",
   "execution_count": 21,
   "id": "632c1ade",
   "metadata": {},
   "outputs": [
    {
     "data": {
      "text/plain": []
     },
     "execution_count": 21,
     "metadata": {},
     "output_type": "execute_result"
    },
    {
     "name": "stdout",
     "output_type": "stream",
     "text": [
      "DiscreteMachine(ℝ^1 × ℝ^4 → ℝ^1)"
     ]
    }
   ],
   "source": [
    "g(u,x,p) = (p.γ*((x[4])^2)*(3*p.L-x[4]))\n",
    "\n",
    "f(u,x,p,t) = begin\n",
    "    du = [\n",
    "        -1*(x[1])*((g(u,x,p) -\n",
    "        (p.γ*((u[1])^2)*(3*p.L-u[1]))) /\n",
    "        (x[4]-u[1]))\n",
    "   ]\n",
    "    return du\n",
    "end\n",
    "\n",
    "point_model = DiscreteMachine{Float64}(\n",
    "    4, # number of inputs, (x(left, right, top, bottom))\n",
    "    1, # number of states, x(i)\n",
    "    4, # number of outputs\n",
    "    # dynamics: u - the state vector (current node), x - the input vector (neighbors)\n",
    "    f,\n",
    "    u -> repeat(u, 4) # the read out function, for each machine\n",
    ")"
   ]
  },
  {
   "cell_type": "code",
   "execution_count": 33,
   "id": "23e78f30",
   "metadata": {},
   "outputs": [],
   "source": [
    "# Equations I want to encode:\n",
    "# v(i) = Px^2/6EI (3L-x)\n",
    "# θ(i) = dv/dx\n",
    "# u(i) = -y * θ(i) \n",
    "# ϵ(i) = -y(i)* du/dx\n",
    "# sigma(x) = ϵ(i) * E\n"
   ]
  },
  {
   "cell_type": "code",
   "execution_count": 30,
   "id": "dae08556",
   "metadata": {},
   "outputs": [
    {
     "ename": "LoadError",
     "evalue": "MethodError: no method matching (Matrix{T} where T)(::DiscreteMachine{Float64})\n\u001b[0mClosest candidates are:\n\u001b[0m  (Matrix{T} where T)(\u001b[91m::Union{LinearAlgebra.QR, LinearAlgebra.QRCompactWY}\u001b[39m) at C:\\buildbot\\worker\\package_win64\\build\\usr\\share\\julia\\stdlib\\v1.6\\LinearAlgebra\\src\\qr.jl:400\n\u001b[0m  (Matrix{T} where T)(\u001b[91m::AbstractAlgebra.MatrixElem{T} where T\u001b[39m) at C:\\Users\\mgatlin3\\.julia\\packages\\AbstractAlgebra\\2tNNk\\src\\generic\\Matrix.jl:6157\n\u001b[0m  (Matrix{T} where T)(\u001b[91m::SciMLBase.FactorizedDiffEqArrayOperator\u001b[39m) at C:\\Users\\mgatlin3\\.julia\\packages\\SciMLBase\\grNUR\\src\\operators\\basic_operators.jl:130\n\u001b[0m  ...",
     "output_type": "error",
     "traceback": [
      "MethodError: no method matching (Matrix{T} where T)(::DiscreteMachine{Float64})\n\u001b[0mClosest candidates are:\n\u001b[0m  (Matrix{T} where T)(\u001b[91m::Union{LinearAlgebra.QR, LinearAlgebra.QRCompactWY}\u001b[39m) at C:\\buildbot\\worker\\package_win64\\build\\usr\\share\\julia\\stdlib\\v1.6\\LinearAlgebra\\src\\qr.jl:400\n\u001b[0m  (Matrix{T} where T)(\u001b[91m::AbstractAlgebra.MatrixElem{T} where T\u001b[39m) at C:\\Users\\mgatlin3\\.julia\\packages\\AbstractAlgebra\\2tNNk\\src\\generic\\Matrix.jl:6157\n\u001b[0m  (Matrix{T} where T)(\u001b[91m::SciMLBase.FactorizedDiffEqArrayOperator\u001b[39m) at C:\\Users\\mgatlin3\\.julia\\packages\\SciMLBase\\grNUR\\src\\operators\\basic_operators.jl:130\n\u001b[0m  ...",
      "",
      "Stacktrace:",
      " [1] top-level scope",
      "   @ In[30]:4",
      " [2] eval",
      "   @ .\\boot.jl:360 [inlined]",
      " [3] include_string(mapexpr::typeof(REPL.softscope), mod::Module, code::String, filename::String)",
      "   @ Base .\\loading.jl:1094"
     ]
    }
   ],
   "source": [
    "# Compose!\n",
    "# Apply the point model to each box of the stencil\n",
    "displacement_eq = oapply(stencil, point_model)"
   ]
  },
  {
   "cell_type": "code",
   "execution_count": 42,
   "id": "cb75d869",
   "metadata": {
    "scrolled": true
   },
   "outputs": [
    {
     "data": {
      "application/vnd.plotly.v1+json": {
       "data": [
        {
         "colorbar": {
          "title": ""
         },
         "legendgroup": "",
         "marker": {
          "color": "rgba(0, 0, 4, 1.000)",
          "line": {
           "color": "rgba(0, 0, 0, 1.000)",
           "width": 0
          },
          "size": 2,
          "symbol": "circle"
         },
         "mode": "markers",
         "name": "",
         "showlegend": false,
         "type": "scatter",
         "x": [
          1
         ],
         "xaxis": "x",
         "y": [
          1
         ],
         "yaxis": "y",
         "zmax": 6.339465910901892e+200,
         "zmin": -1076.3999999999996
        },
        {
         "colorbar": {
          "title": ""
         },
         "legendgroup": "",
         "marker": {
          "color": "rgba(0, 0, 4, 1.000)",
          "line": {
           "color": "rgba(0, 0, 0, 1.000)",
           "width": 0
          },
          "size": 2,
          "symbol": "circle"
         },
         "mode": "markers",
         "name": "",
         "showlegend": false,
         "type": "scatter",
         "x": [
          1
         ],
         "xaxis": "x",
         "y": [
          2
         ],
         "yaxis": "y",
         "zmax": 6.339465910901892e+200,
         "zmin": -1076.3999999999996
        },
        {
         "colorbar": {
          "title": ""
         },
         "legendgroup": "",
         "marker": {
          "color": "rgba(0, 0, 4, 1.000)",
          "line": {
           "color": "rgba(0, 0, 0, 1.000)",
           "width": 0
          },
          "size": 2,
          "symbol": "circle"
         },
         "mode": "markers",
         "name": "",
         "showlegend": false,
         "type": "scatter",
         "x": [
          1
         ],
         "xaxis": "x",
         "y": [
          3
         ],
         "yaxis": "y",
         "zmax": 6.339465910901892e+200,
         "zmin": -1076.3999999999996
        },
        {
         "colorbar": {
          "title": ""
         },
         "legendgroup": "",
         "marker": {
          "color": "rgba(0, 0, 4, 1.000)",
          "line": {
           "color": "rgba(0, 0, 0, 1.000)",
           "width": 0
          },
          "size": 2,
          "symbol": "circle"
         },
         "mode": "markers",
         "name": "",
         "showlegend": false,
         "type": "scatter",
         "x": [
          1
         ],
         "xaxis": "x",
         "y": [
          4
         ],
         "yaxis": "y",
         "zmax": 6.339465910901892e+200,
         "zmin": -1076.3999999999996
        },
        {
         "colorbar": {
          "title": ""
         },
         "legendgroup": "",
         "marker": {
          "color": "rgba(0, 0, 4, 1.000)",
          "line": {
           "color": "rgba(0, 0, 0, 1.000)",
           "width": 0
          },
          "size": 2,
          "symbol": "circle"
         },
         "mode": "markers",
         "name": "",
         "showlegend": false,
         "type": "scatter",
         "x": [
          1
         ],
         "xaxis": "x",
         "y": [
          5
         ],
         "yaxis": "y",
         "zmax": 6.339465910901892e+200,
         "zmin": -1076.3999999999996
        },
        {
         "colorbar": {
          "title": ""
         },
         "legendgroup": "",
         "marker": {
          "color": "rgba(0, 0, 4, 1.000)",
          "line": {
           "color": "rgba(0, 0, 0, 1.000)",
           "width": 0
          },
          "size": 2,
          "symbol": "circle"
         },
         "mode": "markers",
         "name": "",
         "showlegend": false,
         "type": "scatter",
         "x": [
          1
         ],
         "xaxis": "x",
         "y": [
          6
         ],
         "yaxis": "y",
         "zmax": 6.339465910901892e+200,
         "zmin": -1076.3999999999996
        },
        {
         "colorbar": {
          "title": ""
         },
         "legendgroup": "",
         "marker": {
          "color": "rgba(0, 0, 4, 1.000)",
          "line": {
           "color": "rgba(0, 0, 0, 1.000)",
           "width": 0
          },
          "size": 2,
          "symbol": "circle"
         },
         "mode": "markers",
         "name": "",
         "showlegend": false,
         "type": "scatter",
         "x": [
          1
         ],
         "xaxis": "x",
         "y": [
          7
         ],
         "yaxis": "y",
         "zmax": 6.339465910901892e+200,
         "zmin": -1076.3999999999996
        },
        {
         "colorbar": {
          "title": ""
         },
         "legendgroup": "",
         "marker": {
          "color": "rgba(0, 0, 4, 1.000)",
          "line": {
           "color": "rgba(0, 0, 0, 1.000)",
           "width": 0
          },
          "size": 2,
          "symbol": "circle"
         },
         "mode": "markers",
         "name": "",
         "showlegend": false,
         "type": "scatter",
         "x": [
          1
         ],
         "xaxis": "x",
         "y": [
          8
         ],
         "yaxis": "y",
         "zmax": 6.339465910901892e+200,
         "zmin": -1076.3999999999996
        },
        {
         "colorbar": {
          "title": ""
         },
         "legendgroup": "",
         "marker": {
          "color": "rgba(0, 0, 0, 0.000)",
          "line": {
           "color": "rgba(0, 0, 0, 1.000)",
           "width": 0
          },
          "size": 2,
          "symbol": "circle"
         },
         "mode": "markers",
         "name": "",
         "showlegend": false,
         "type": "scatter",
         "x": [
          1
         ],
         "xaxis": "x",
         "y": [
          9
         ],
         "yaxis": "y",
         "zmax": 6.339465910901892e+200,
         "zmin": -1076.3999999999996
        },
        {
         "colorbar": {
          "title": ""
         },
         "legendgroup": "",
         "marker": {
          "color": "rgba(0, 0, 0, 0.000)",
          "line": {
           "color": "rgba(0, 0, 0, 1.000)",
           "width": 0
          },
          "size": 2,
          "symbol": "circle"
         },
         "mode": "markers",
         "name": "",
         "showlegend": false,
         "type": "scatter",
         "x": [
          1
         ],
         "xaxis": "x",
         "y": [
          10
         ],
         "yaxis": "y",
         "zmax": 6.339465910901892e+200,
         "zmin": -1076.3999999999996
        },
        {
         "colorbar": {
          "title": ""
         },
         "legendgroup": "",
         "marker": {
          "color": "rgba(0, 0, 0, 0.000)",
          "line": {
           "color": "rgba(0, 0, 0, 1.000)",
           "width": 0
          },
          "size": 2,
          "symbol": "circle"
         },
         "mode": "markers",
         "name": "",
         "showlegend": false,
         "type": "scatter",
         "x": [
          1
         ],
         "xaxis": "x",
         "y": [
          11
         ],
         "yaxis": "y",
         "zmax": 6.339465910901892e+200,
         "zmin": -1076.3999999999996
        },
        {
         "colorbar": {
          "title": ""
         },
         "legendgroup": "",
         "marker": {
          "color": "rgba(0, 0, 0, 0.000)",
          "line": {
           "color": "rgba(0, 0, 0, 1.000)",
           "width": 0
          },
          "size": 2,
          "symbol": "circle"
         },
         "mode": "markers",
         "name": "",
         "showlegend": false,
         "type": "scatter",
         "x": [
          1
         ],
         "xaxis": "x",
         "y": [
          12
         ],
         "yaxis": "y",
         "zmax": 6.339465910901892e+200,
         "zmin": -1076.3999999999996
        },
        {
         "colorbar": {
          "title": ""
         },
         "legendgroup": "",
         "marker": {
          "color": "rgba(0, 0, 0, 0.000)",
          "line": {
           "color": "rgba(0, 0, 0, 1.000)",
           "width": 0
          },
          "size": 2,
          "symbol": "circle"
         },
         "mode": "markers",
         "name": "",
         "showlegend": false,
         "type": "scatter",
         "x": [
          1
         ],
         "xaxis": "x",
         "y": [
          13
         ],
         "yaxis": "y",
         "zmax": 6.339465910901892e+200,
         "zmin": -1076.3999999999996
        },
        {
         "colorbar": {
          "title": ""
         },
         "legendgroup": "",
         "marker": {
          "color": "rgba(0, 0, 0, 0.000)",
          "line": {
           "color": "rgba(0, 0, 0, 1.000)",
           "width": 0
          },
          "size": 2,
          "symbol": "circle"
         },
         "mode": "markers",
         "name": "",
         "showlegend": false,
         "type": "scatter",
         "x": [
          1
         ],
         "xaxis": "x",
         "y": [
          14
         ],
         "yaxis": "y",
         "zmax": 6.339465910901892e+200,
         "zmin": -1076.3999999999996
        },
        {
         "colorbar": {
          "title": ""
         },
         "legendgroup": "",
         "marker": {
          "color": "rgba(0, 0, 0, 0.000)",
          "line": {
           "color": "rgba(0, 0, 0, 1.000)",
           "width": 0
          },
          "size": 2,
          "symbol": "circle"
         },
         "mode": "markers",
         "name": "",
         "showlegend": false,
         "type": "scatter",
         "x": [
          1
         ],
         "xaxis": "x",
         "y": [
          15
         ],
         "yaxis": "y",
         "zmax": 6.339465910901892e+200,
         "zmin": -1076.3999999999996
        },
        {
         "colorbar": {
          "title": ""
         },
         "legendgroup": "",
         "marker": {
          "color": "rgba(0, 0, 0, 0.000)",
          "line": {
           "color": "rgba(0, 0, 0, 1.000)",
           "width": 0
          },
          "size": 2,
          "symbol": "circle"
         },
         "mode": "markers",
         "name": "",
         "showlegend": false,
         "type": "scatter",
         "x": [
          1
         ],
         "xaxis": "x",
         "y": [
          16
         ],
         "yaxis": "y",
         "zmax": 6.339465910901892e+200,
         "zmin": -1076.3999999999996
        },
        {
         "colorbar": {
          "title": ""
         },
         "legendgroup": "",
         "marker": {
          "color": "rgba(0, 0, 0, 0.000)",
          "line": {
           "color": "rgba(0, 0, 0, 1.000)",
           "width": 0
          },
          "size": 2,
          "symbol": "circle"
         },
         "mode": "markers",
         "name": "",
         "showlegend": false,
         "type": "scatter",
         "x": [
          1
         ],
         "xaxis": "x",
         "y": [
          17
         ],
         "yaxis": "y",
         "zmax": 6.339465910901892e+200,
         "zmin": -1076.3999999999996
        },
        {
         "colorbar": {
          "title": ""
         },
         "legendgroup": "",
         "marker": {
          "color": "rgba(0, 0, 0, 0.000)",
          "line": {
           "color": "rgba(0, 0, 0, 1.000)",
           "width": 0
          },
          "size": 2,
          "symbol": "circle"
         },
         "mode": "markers",
         "name": "",
         "showlegend": false,
         "type": "scatter",
         "x": [
          1
         ],
         "xaxis": "x",
         "y": [
          18
         ],
         "yaxis": "y",
         "zmax": 6.339465910901892e+200,
         "zmin": -1076.3999999999996
        },
        {
         "colorbar": {
          "title": ""
         },
         "legendgroup": "",
         "marker": {
          "color": "rgba(0, 0, 0, 0.000)",
          "line": {
           "color": "rgba(0, 0, 0, 1.000)",
           "width": 0
          },
          "size": 2,
          "symbol": "circle"
         },
         "mode": "markers",
         "name": "",
         "showlegend": false,
         "type": "scatter",
         "x": [
          1
         ],
         "xaxis": "x",
         "y": [
          19
         ],
         "yaxis": "y",
         "zmax": 6.339465910901892e+200,
         "zmin": -1076.3999999999996
        },
        {
         "colorbar": {
          "title": ""
         },
         "legendgroup": "",
         "marker": {
          "color": "rgba(0, 0, 0, 0.000)",
          "line": {
           "color": "rgba(0, 0, 0, 1.000)",
           "width": 0
          },
          "size": 2,
          "symbol": "circle"
         },
         "mode": "markers",
         "name": "",
         "showlegend": false,
         "type": "scatter",
         "x": [
          1
         ],
         "xaxis": "x",
         "y": [
          20
         ],
         "yaxis": "y",
         "zmax": 6.339465910901892e+200,
         "zmin": -1076.3999999999996
        },
        {
         "colorbar": {
          "title": ""
         },
         "legendgroup": "",
         "marker": {
          "color": "rgba(0, 0, 0, 0.000)",
          "line": {
           "color": "rgba(0, 0, 0, 1.000)",
           "width": 0
          },
          "size": 2,
          "symbol": "circle"
         },
         "mode": "markers",
         "name": "",
         "showlegend": false,
         "type": "scatter",
         "x": [
          1
         ],
         "xaxis": "x",
         "y": [
          21
         ],
         "yaxis": "y",
         "zmax": 6.339465910901892e+200,
         "zmin": -1076.3999999999996
        },
        {
         "colorbar": {
          "title": ""
         },
         "legendgroup": "",
         "marker": {
          "color": "rgba(0, 0, 0, 0.000)",
          "line": {
           "color": "rgba(0, 0, 0, 1.000)",
           "width": 0
          },
          "size": 2,
          "symbol": "circle"
         },
         "mode": "markers",
         "name": "",
         "showlegend": false,
         "type": "scatter",
         "x": [
          1
         ],
         "xaxis": "x",
         "y": [
          22
         ],
         "yaxis": "y",
         "zmax": 6.339465910901892e+200,
         "zmin": -1076.3999999999996
        },
        {
         "colorbar": {
          "title": ""
         },
         "legendgroup": "",
         "marker": {
          "color": "rgba(0, 0, 0, 0.000)",
          "line": {
           "color": "rgba(0, 0, 0, 1.000)",
           "width": 0
          },
          "size": 2,
          "symbol": "circle"
         },
         "mode": "markers",
         "name": "",
         "showlegend": false,
         "type": "scatter",
         "x": [
          1
         ],
         "xaxis": "x",
         "y": [
          23
         ],
         "yaxis": "y",
         "zmax": 6.339465910901892e+200,
         "zmin": -1076.3999999999996
        },
        {
         "colorbar": {
          "title": ""
         },
         "legendgroup": "",
         "marker": {
          "color": "rgba(0, 0, 0, 0.000)",
          "line": {
           "color": "rgba(0, 0, 0, 1.000)",
           "width": 0
          },
          "size": 2,
          "symbol": "circle"
         },
         "mode": "markers",
         "name": "",
         "showlegend": false,
         "type": "scatter",
         "x": [
          1
         ],
         "xaxis": "x",
         "y": [
          24
         ],
         "yaxis": "y",
         "zmax": 6.339465910901892e+200,
         "zmin": -1076.3999999999996
        },
        {
         "colorbar": {
          "title": ""
         },
         "legendgroup": "",
         "marker": {
          "color": "rgba(0, 0, 0, 0.000)",
          "line": {
           "color": "rgba(0, 0, 0, 1.000)",
           "width": 0
          },
          "size": 2,
          "symbol": "circle"
         },
         "mode": "markers",
         "name": "",
         "showlegend": false,
         "type": "scatter",
         "x": [
          1
         ],
         "xaxis": "x",
         "y": [
          25
         ],
         "yaxis": "y",
         "zmax": 6.339465910901892e+200,
         "zmin": -1076.3999999999996
        },
        {
         "colorbar": {
          "title": ""
         },
         "legendgroup": "",
         "marker": {
          "color": "rgba(0, 0, 0, 0.000)",
          "line": {
           "color": "rgba(0, 0, 0, 1.000)",
           "width": 0
          },
          "size": 2,
          "symbol": "circle"
         },
         "mode": "markers",
         "name": "",
         "showlegend": false,
         "type": "scatter",
         "x": [
          1
         ],
         "xaxis": "x",
         "y": [
          26
         ],
         "yaxis": "y",
         "zmax": 6.339465910901892e+200,
         "zmin": -1076.3999999999996
        },
        {
         "colorbar": {
          "title": ""
         },
         "legendgroup": "",
         "marker": {
          "color": "rgba(0, 0, 4, 1.000)",
          "line": {
           "color": "rgba(0, 0, 0, 1.000)",
           "width": 0
          },
          "size": 2,
          "symbol": "circle"
         },
         "mode": "markers",
         "name": "",
         "showlegend": false,
         "type": "scatter",
         "x": [
          2
         ],
         "xaxis": "x",
         "y": [
          1
         ],
         "yaxis": "y",
         "zmax": 6.339465910901892e+200,
         "zmin": -1076.3999999999996
        },
        {
         "colorbar": {
          "title": ""
         },
         "legendgroup": "",
         "marker": {
          "color": "rgba(0, 0, 4, 1.000)",
          "line": {
           "color": "rgba(0, 0, 0, 1.000)",
           "width": 0
          },
          "size": 2,
          "symbol": "circle"
         },
         "mode": "markers",
         "name": "",
         "showlegend": false,
         "type": "scatter",
         "x": [
          2
         ],
         "xaxis": "x",
         "y": [
          2
         ],
         "yaxis": "y",
         "zmax": 6.339465910901892e+200,
         "zmin": -1076.3999999999996
        },
        {
         "colorbar": {
          "title": ""
         },
         "legendgroup": "",
         "marker": {
          "color": "rgba(0, 0, 4, 1.000)",
          "line": {
           "color": "rgba(0, 0, 0, 1.000)",
           "width": 0
          },
          "size": 2,
          "symbol": "circle"
         },
         "mode": "markers",
         "name": "",
         "showlegend": false,
         "type": "scatter",
         "x": [
          2
         ],
         "xaxis": "x",
         "y": [
          3
         ],
         "yaxis": "y",
         "zmax": 6.339465910901892e+200,
         "zmin": -1076.3999999999996
        },
        {
         "colorbar": {
          "title": ""
         },
         "legendgroup": "",
         "marker": {
          "color": "rgba(0, 0, 4, 1.000)",
          "line": {
           "color": "rgba(0, 0, 0, 1.000)",
           "width": 0
          },
          "size": 2,
          "symbol": "circle"
         },
         "mode": "markers",
         "name": "",
         "showlegend": false,
         "type": "scatter",
         "x": [
          2
         ],
         "xaxis": "x",
         "y": [
          4
         ],
         "yaxis": "y",
         "zmax": 6.339465910901892e+200,
         "zmin": -1076.3999999999996
        },
        {
         "colorbar": {
          "title": ""
         },
         "legendgroup": "",
         "marker": {
          "color": "rgba(0, 0, 4, 1.000)",
          "line": {
           "color": "rgba(0, 0, 0, 1.000)",
           "width": 0
          },
          "size": 2,
          "symbol": "circle"
         },
         "mode": "markers",
         "name": "",
         "showlegend": false,
         "type": "scatter",
         "x": [
          2
         ],
         "xaxis": "x",
         "y": [
          5
         ],
         "yaxis": "y",
         "zmax": 6.339465910901892e+200,
         "zmin": -1076.3999999999996
        },
        {
         "colorbar": {
          "title": ""
         },
         "legendgroup": "",
         "marker": {
          "color": "rgba(0, 0, 4, 1.000)",
          "line": {
           "color": "rgba(0, 0, 0, 1.000)",
           "width": 0
          },
          "size": 2,
          "symbol": "circle"
         },
         "mode": "markers",
         "name": "",
         "showlegend": false,
         "type": "scatter",
         "x": [
          2
         ],
         "xaxis": "x",
         "y": [
          6
         ],
         "yaxis": "y",
         "zmax": 6.339465910901892e+200,
         "zmin": -1076.3999999999996
        },
        {
         "colorbar": {
          "title": ""
         },
         "legendgroup": "",
         "marker": {
          "color": "rgba(0, 0, 4, 1.000)",
          "line": {
           "color": "rgba(0, 0, 0, 1.000)",
           "width": 0
          },
          "size": 2,
          "symbol": "circle"
         },
         "mode": "markers",
         "name": "",
         "showlegend": false,
         "type": "scatter",
         "x": [
          2
         ],
         "xaxis": "x",
         "y": [
          7
         ],
         "yaxis": "y",
         "zmax": 6.339465910901892e+200,
         "zmin": -1076.3999999999996
        },
        {
         "colorbar": {
          "title": ""
         },
         "legendgroup": "",
         "marker": {
          "color": "rgba(252, 255, 164, 1.000)",
          "line": {
           "color": "rgba(0, 0, 0, 1.000)",
           "width": 0
          },
          "size": 2,
          "symbol": "circle"
         },
         "mode": "markers",
         "name": "",
         "showlegend": false,
         "type": "scatter",
         "x": [
          2
         ],
         "xaxis": "x",
         "y": [
          8
         ],
         "yaxis": "y",
         "zmax": 6.339465910901892e+200,
         "zmin": -1076.3999999999996
        },
        {
         "colorbar": {
          "title": ""
         },
         "legendgroup": "",
         "marker": {
          "color": "rgba(0, 0, 0, 0.000)",
          "line": {
           "color": "rgba(0, 0, 0, 1.000)",
           "width": 0
          },
          "size": 2,
          "symbol": "circle"
         },
         "mode": "markers",
         "name": "",
         "showlegend": false,
         "type": "scatter",
         "x": [
          2
         ],
         "xaxis": "x",
         "y": [
          9
         ],
         "yaxis": "y",
         "zmax": 6.339465910901892e+200,
         "zmin": -1076.3999999999996
        },
        {
         "colorbar": {
          "title": ""
         },
         "legendgroup": "",
         "marker": {
          "color": "rgba(0, 0, 0, 0.000)",
          "line": {
           "color": "rgba(0, 0, 0, 1.000)",
           "width": 0
          },
          "size": 2,
          "symbol": "circle"
         },
         "mode": "markers",
         "name": "",
         "showlegend": false,
         "type": "scatter",
         "x": [
          2
         ],
         "xaxis": "x",
         "y": [
          10
         ],
         "yaxis": "y",
         "zmax": 6.339465910901892e+200,
         "zmin": -1076.3999999999996
        },
        {
         "colorbar": {
          "title": ""
         },
         "legendgroup": "",
         "marker": {
          "color": "rgba(0, 0, 0, 0.000)",
          "line": {
           "color": "rgba(0, 0, 0, 1.000)",
           "width": 0
          },
          "size": 2,
          "symbol": "circle"
         },
         "mode": "markers",
         "name": "",
         "showlegend": false,
         "type": "scatter",
         "x": [
          2
         ],
         "xaxis": "x",
         "y": [
          11
         ],
         "yaxis": "y",
         "zmax": 6.339465910901892e+200,
         "zmin": -1076.3999999999996
        },
        {
         "colorbar": {
          "title": ""
         },
         "legendgroup": "",
         "marker": {
          "color": "rgba(0, 0, 0, 0.000)",
          "line": {
           "color": "rgba(0, 0, 0, 1.000)",
           "width": 0
          },
          "size": 2,
          "symbol": "circle"
         },
         "mode": "markers",
         "name": "",
         "showlegend": false,
         "type": "scatter",
         "x": [
          2
         ],
         "xaxis": "x",
         "y": [
          12
         ],
         "yaxis": "y",
         "zmax": 6.339465910901892e+200,
         "zmin": -1076.3999999999996
        },
        {
         "colorbar": {
          "title": ""
         },
         "legendgroup": "",
         "marker": {
          "color": "rgba(0, 0, 0, 0.000)",
          "line": {
           "color": "rgba(0, 0, 0, 1.000)",
           "width": 0
          },
          "size": 2,
          "symbol": "circle"
         },
         "mode": "markers",
         "name": "",
         "showlegend": false,
         "type": "scatter",
         "x": [
          2
         ],
         "xaxis": "x",
         "y": [
          13
         ],
         "yaxis": "y",
         "zmax": 6.339465910901892e+200,
         "zmin": -1076.3999999999996
        },
        {
         "colorbar": {
          "title": ""
         },
         "legendgroup": "",
         "marker": {
          "color": "rgba(0, 0, 0, 0.000)",
          "line": {
           "color": "rgba(0, 0, 0, 1.000)",
           "width": 0
          },
          "size": 2,
          "symbol": "circle"
         },
         "mode": "markers",
         "name": "",
         "showlegend": false,
         "type": "scatter",
         "x": [
          2
         ],
         "xaxis": "x",
         "y": [
          14
         ],
         "yaxis": "y",
         "zmax": 6.339465910901892e+200,
         "zmin": -1076.3999999999996
        },
        {
         "colorbar": {
          "title": ""
         },
         "legendgroup": "",
         "marker": {
          "color": "rgba(0, 0, 0, 0.000)",
          "line": {
           "color": "rgba(0, 0, 0, 1.000)",
           "width": 0
          },
          "size": 2,
          "symbol": "circle"
         },
         "mode": "markers",
         "name": "",
         "showlegend": false,
         "type": "scatter",
         "x": [
          2
         ],
         "xaxis": "x",
         "y": [
          15
         ],
         "yaxis": "y",
         "zmax": 6.339465910901892e+200,
         "zmin": -1076.3999999999996
        },
        {
         "colorbar": {
          "title": ""
         },
         "legendgroup": "",
         "marker": {
          "color": "rgba(0, 0, 0, 0.000)",
          "line": {
           "color": "rgba(0, 0, 0, 1.000)",
           "width": 0
          },
          "size": 2,
          "symbol": "circle"
         },
         "mode": "markers",
         "name": "",
         "showlegend": false,
         "type": "scatter",
         "x": [
          2
         ],
         "xaxis": "x",
         "y": [
          16
         ],
         "yaxis": "y",
         "zmax": 6.339465910901892e+200,
         "zmin": -1076.3999999999996
        },
        {
         "colorbar": {
          "title": ""
         },
         "legendgroup": "",
         "marker": {
          "color": "rgba(0, 0, 0, 0.000)",
          "line": {
           "color": "rgba(0, 0, 0, 1.000)",
           "width": 0
          },
          "size": 2,
          "symbol": "circle"
         },
         "mode": "markers",
         "name": "",
         "showlegend": false,
         "type": "scatter",
         "x": [
          2
         ],
         "xaxis": "x",
         "y": [
          17
         ],
         "yaxis": "y",
         "zmax": 6.339465910901892e+200,
         "zmin": -1076.3999999999996
        },
        {
         "colorbar": {
          "title": ""
         },
         "legendgroup": "",
         "marker": {
          "color": "rgba(0, 0, 0, 0.000)",
          "line": {
           "color": "rgba(0, 0, 0, 1.000)",
           "width": 0
          },
          "size": 2,
          "symbol": "circle"
         },
         "mode": "markers",
         "name": "",
         "showlegend": false,
         "type": "scatter",
         "x": [
          2
         ],
         "xaxis": "x",
         "y": [
          18
         ],
         "yaxis": "y",
         "zmax": 6.339465910901892e+200,
         "zmin": -1076.3999999999996
        },
        {
         "colorbar": {
          "title": ""
         },
         "legendgroup": "",
         "marker": {
          "color": "rgba(0, 0, 0, 0.000)",
          "line": {
           "color": "rgba(0, 0, 0, 1.000)",
           "width": 0
          },
          "size": 2,
          "symbol": "circle"
         },
         "mode": "markers",
         "name": "",
         "showlegend": false,
         "type": "scatter",
         "x": [
          2
         ],
         "xaxis": "x",
         "y": [
          19
         ],
         "yaxis": "y",
         "zmax": 6.339465910901892e+200,
         "zmin": -1076.3999999999996
        },
        {
         "colorbar": {
          "title": ""
         },
         "legendgroup": "",
         "marker": {
          "color": "rgba(0, 0, 0, 0.000)",
          "line": {
           "color": "rgba(0, 0, 0, 1.000)",
           "width": 0
          },
          "size": 2,
          "symbol": "circle"
         },
         "mode": "markers",
         "name": "",
         "showlegend": false,
         "type": "scatter",
         "x": [
          2
         ],
         "xaxis": "x",
         "y": [
          20
         ],
         "yaxis": "y",
         "zmax": 6.339465910901892e+200,
         "zmin": -1076.3999999999996
        },
        {
         "colorbar": {
          "title": ""
         },
         "legendgroup": "",
         "marker": {
          "color": "rgba(0, 0, 0, 0.000)",
          "line": {
           "color": "rgba(0, 0, 0, 1.000)",
           "width": 0
          },
          "size": 2,
          "symbol": "circle"
         },
         "mode": "markers",
         "name": "",
         "showlegend": false,
         "type": "scatter",
         "x": [
          2
         ],
         "xaxis": "x",
         "y": [
          21
         ],
         "yaxis": "y",
         "zmax": 6.339465910901892e+200,
         "zmin": -1076.3999999999996
        },
        {
         "colorbar": {
          "title": ""
         },
         "legendgroup": "",
         "marker": {
          "color": "rgba(0, 0, 0, 0.000)",
          "line": {
           "color": "rgba(0, 0, 0, 1.000)",
           "width": 0
          },
          "size": 2,
          "symbol": "circle"
         },
         "mode": "markers",
         "name": "",
         "showlegend": false,
         "type": "scatter",
         "x": [
          2
         ],
         "xaxis": "x",
         "y": [
          22
         ],
         "yaxis": "y",
         "zmax": 6.339465910901892e+200,
         "zmin": -1076.3999999999996
        },
        {
         "colorbar": {
          "title": ""
         },
         "legendgroup": "",
         "marker": {
          "color": "rgba(0, 0, 0, 0.000)",
          "line": {
           "color": "rgba(0, 0, 0, 1.000)",
           "width": 0
          },
          "size": 2,
          "symbol": "circle"
         },
         "mode": "markers",
         "name": "",
         "showlegend": false,
         "type": "scatter",
         "x": [
          2
         ],
         "xaxis": "x",
         "y": [
          23
         ],
         "yaxis": "y",
         "zmax": 6.339465910901892e+200,
         "zmin": -1076.3999999999996
        },
        {
         "colorbar": {
          "title": ""
         },
         "legendgroup": "",
         "marker": {
          "color": "rgba(0, 0, 0, 0.000)",
          "line": {
           "color": "rgba(0, 0, 0, 1.000)",
           "width": 0
          },
          "size": 2,
          "symbol": "circle"
         },
         "mode": "markers",
         "name": "",
         "showlegend": false,
         "type": "scatter",
         "x": [
          2
         ],
         "xaxis": "x",
         "y": [
          24
         ],
         "yaxis": "y",
         "zmax": 6.339465910901892e+200,
         "zmin": -1076.3999999999996
        },
        {
         "colorbar": {
          "title": ""
         },
         "legendgroup": "",
         "marker": {
          "color": "rgba(0, 0, 0, 0.000)",
          "line": {
           "color": "rgba(0, 0, 0, 1.000)",
           "width": 0
          },
          "size": 2,
          "symbol": "circle"
         },
         "mode": "markers",
         "name": "",
         "showlegend": false,
         "type": "scatter",
         "x": [
          2
         ],
         "xaxis": "x",
         "y": [
          25
         ],
         "yaxis": "y",
         "zmax": 6.339465910901892e+200,
         "zmin": -1076.3999999999996
        },
        {
         "colorbar": {
          "title": ""
         },
         "legendgroup": "",
         "marker": {
          "color": "rgba(0, 0, 0, 0.000)",
          "line": {
           "color": "rgba(0, 0, 0, 1.000)",
           "width": 0
          },
          "size": 2,
          "symbol": "circle"
         },
         "mode": "markers",
         "name": "",
         "showlegend": false,
         "type": "scatter",
         "x": [
          2
         ],
         "xaxis": "x",
         "y": [
          26
         ],
         "yaxis": "y",
         "zmax": 6.339465910901892e+200,
         "zmin": -1076.3999999999996
        },
        {
         "colorbar": {
          "title": ""
         },
         "legendgroup": "",
         "marker": {
          "color": "rgba(0, 0, 4, 1.000)",
          "line": {
           "color": "rgba(0, 0, 0, 1.000)",
           "width": 0
          },
          "size": 2,
          "symbol": "circle"
         },
         "mode": "markers",
         "name": "",
         "showlegend": false,
         "type": "scatter",
         "x": [
          3
         ],
         "xaxis": "x",
         "y": [
          1
         ],
         "yaxis": "y",
         "zmax": 6.339465910901892e+200,
         "zmin": -1076.3999999999996
        },
        {
         "colorbar": {
          "title": ""
         },
         "legendgroup": "",
         "marker": {
          "color": "rgba(0, 0, 4, 1.000)",
          "line": {
           "color": "rgba(0, 0, 0, 1.000)",
           "width": 0
          },
          "size": 2,
          "symbol": "circle"
         },
         "mode": "markers",
         "name": "",
         "showlegend": false,
         "type": "scatter",
         "x": [
          3
         ],
         "xaxis": "x",
         "y": [
          2
         ],
         "yaxis": "y",
         "zmax": 6.339465910901892e+200,
         "zmin": -1076.3999999999996
        },
        {
         "colorbar": {
          "title": ""
         },
         "legendgroup": "",
         "marker": {
          "color": "rgba(0, 0, 4, 1.000)",
          "line": {
           "color": "rgba(0, 0, 0, 1.000)",
           "width": 0
          },
          "size": 2,
          "symbol": "circle"
         },
         "mode": "markers",
         "name": "",
         "showlegend": false,
         "type": "scatter",
         "x": [
          3
         ],
         "xaxis": "x",
         "y": [
          3
         ],
         "yaxis": "y",
         "zmax": 6.339465910901892e+200,
         "zmin": -1076.3999999999996
        },
        {
         "colorbar": {
          "title": ""
         },
         "legendgroup": "",
         "marker": {
          "color": "rgba(0, 0, 4, 1.000)",
          "line": {
           "color": "rgba(0, 0, 0, 1.000)",
           "width": 0
          },
          "size": 2,
          "symbol": "circle"
         },
         "mode": "markers",
         "name": "",
         "showlegend": false,
         "type": "scatter",
         "x": [
          3
         ],
         "xaxis": "x",
         "y": [
          4
         ],
         "yaxis": "y",
         "zmax": 6.339465910901892e+200,
         "zmin": -1076.3999999999996
        },
        {
         "colorbar": {
          "title": ""
         },
         "legendgroup": "",
         "marker": {
          "color": "rgba(0, 0, 4, 1.000)",
          "line": {
           "color": "rgba(0, 0, 0, 1.000)",
           "width": 0
          },
          "size": 2,
          "symbol": "circle"
         },
         "mode": "markers",
         "name": "",
         "showlegend": false,
         "type": "scatter",
         "x": [
          3
         ],
         "xaxis": "x",
         "y": [
          5
         ],
         "yaxis": "y",
         "zmax": 6.339465910901892e+200,
         "zmin": -1076.3999999999996
        },
        {
         "colorbar": {
          "title": ""
         },
         "legendgroup": "",
         "marker": {
          "color": "rgba(0, 0, 4, 1.000)",
          "line": {
           "color": "rgba(0, 0, 0, 1.000)",
           "width": 0
          },
          "size": 2,
          "symbol": "circle"
         },
         "mode": "markers",
         "name": "",
         "showlegend": false,
         "type": "scatter",
         "x": [
          3
         ],
         "xaxis": "x",
         "y": [
          6
         ],
         "yaxis": "y",
         "zmax": 6.339465910901892e+200,
         "zmin": -1076.3999999999996
        },
        {
         "colorbar": {
          "title": ""
         },
         "legendgroup": "",
         "marker": {
          "color": "rgba(0, 0, 4, 1.000)",
          "line": {
           "color": "rgba(0, 0, 0, 1.000)",
           "width": 0
          },
          "size": 2,
          "symbol": "circle"
         },
         "mode": "markers",
         "name": "",
         "showlegend": false,
         "type": "scatter",
         "x": [
          3
         ],
         "xaxis": "x",
         "y": [
          7
         ],
         "yaxis": "y",
         "zmax": 6.339465910901892e+200,
         "zmin": -1076.3999999999996
        },
        {
         "colorbar": {
          "title": ""
         },
         "legendgroup": "",
         "marker": {
          "color": "rgba(0, 0, 0, 0.000)",
          "line": {
           "color": "rgba(0, 0, 0, 1.000)",
           "width": 0
          },
          "size": 2,
          "symbol": "circle"
         },
         "mode": "markers",
         "name": "",
         "showlegend": false,
         "type": "scatter",
         "x": [
          3
         ],
         "xaxis": "x",
         "y": [
          8
         ],
         "yaxis": "y",
         "zmax": 6.339465910901892e+200,
         "zmin": -1076.3999999999996
        },
        {
         "colorbar": {
          "title": ""
         },
         "legendgroup": "",
         "marker": {
          "color": "rgba(0, 0, 0, 0.000)",
          "line": {
           "color": "rgba(0, 0, 0, 1.000)",
           "width": 0
          },
          "size": 2,
          "symbol": "circle"
         },
         "mode": "markers",
         "name": "",
         "showlegend": false,
         "type": "scatter",
         "x": [
          3
         ],
         "xaxis": "x",
         "y": [
          9
         ],
         "yaxis": "y",
         "zmax": 6.339465910901892e+200,
         "zmin": -1076.3999999999996
        },
        {
         "colorbar": {
          "title": ""
         },
         "legendgroup": "",
         "marker": {
          "color": "rgba(0, 0, 0, 0.000)",
          "line": {
           "color": "rgba(0, 0, 0, 1.000)",
           "width": 0
          },
          "size": 2,
          "symbol": "circle"
         },
         "mode": "markers",
         "name": "",
         "showlegend": false,
         "type": "scatter",
         "x": [
          3
         ],
         "xaxis": "x",
         "y": [
          10
         ],
         "yaxis": "y",
         "zmax": 6.339465910901892e+200,
         "zmin": -1076.3999999999996
        },
        {
         "colorbar": {
          "title": ""
         },
         "legendgroup": "",
         "marker": {
          "color": "rgba(0, 0, 0, 0.000)",
          "line": {
           "color": "rgba(0, 0, 0, 1.000)",
           "width": 0
          },
          "size": 2,
          "symbol": "circle"
         },
         "mode": "markers",
         "name": "",
         "showlegend": false,
         "type": "scatter",
         "x": [
          3
         ],
         "xaxis": "x",
         "y": [
          11
         ],
         "yaxis": "y",
         "zmax": 6.339465910901892e+200,
         "zmin": -1076.3999999999996
        },
        {
         "colorbar": {
          "title": ""
         },
         "legendgroup": "",
         "marker": {
          "color": "rgba(0, 0, 0, 0.000)",
          "line": {
           "color": "rgba(0, 0, 0, 1.000)",
           "width": 0
          },
          "size": 2,
          "symbol": "circle"
         },
         "mode": "markers",
         "name": "",
         "showlegend": false,
         "type": "scatter",
         "x": [
          3
         ],
         "xaxis": "x",
         "y": [
          12
         ],
         "yaxis": "y",
         "zmax": 6.339465910901892e+200,
         "zmin": -1076.3999999999996
        },
        {
         "colorbar": {
          "title": ""
         },
         "legendgroup": "",
         "marker": {
          "color": "rgba(0, 0, 0, 0.000)",
          "line": {
           "color": "rgba(0, 0, 0, 1.000)",
           "width": 0
          },
          "size": 2,
          "symbol": "circle"
         },
         "mode": "markers",
         "name": "",
         "showlegend": false,
         "type": "scatter",
         "x": [
          3
         ],
         "xaxis": "x",
         "y": [
          13
         ],
         "yaxis": "y",
         "zmax": 6.339465910901892e+200,
         "zmin": -1076.3999999999996
        },
        {
         "colorbar": {
          "title": ""
         },
         "legendgroup": "",
         "marker": {
          "color": "rgba(0, 0, 0, 0.000)",
          "line": {
           "color": "rgba(0, 0, 0, 1.000)",
           "width": 0
          },
          "size": 2,
          "symbol": "circle"
         },
         "mode": "markers",
         "name": "",
         "showlegend": false,
         "type": "scatter",
         "x": [
          3
         ],
         "xaxis": "x",
         "y": [
          14
         ],
         "yaxis": "y",
         "zmax": 6.339465910901892e+200,
         "zmin": -1076.3999999999996
        },
        {
         "colorbar": {
          "title": ""
         },
         "legendgroup": "",
         "marker": {
          "color": "rgba(0, 0, 0, 0.000)",
          "line": {
           "color": "rgba(0, 0, 0, 1.000)",
           "width": 0
          },
          "size": 2,
          "symbol": "circle"
         },
         "mode": "markers",
         "name": "",
         "showlegend": false,
         "type": "scatter",
         "x": [
          3
         ],
         "xaxis": "x",
         "y": [
          15
         ],
         "yaxis": "y",
         "zmax": 6.339465910901892e+200,
         "zmin": -1076.3999999999996
        },
        {
         "colorbar": {
          "title": ""
         },
         "legendgroup": "",
         "marker": {
          "color": "rgba(0, 0, 0, 0.000)",
          "line": {
           "color": "rgba(0, 0, 0, 1.000)",
           "width": 0
          },
          "size": 2,
          "symbol": "circle"
         },
         "mode": "markers",
         "name": "",
         "showlegend": false,
         "type": "scatter",
         "x": [
          3
         ],
         "xaxis": "x",
         "y": [
          16
         ],
         "yaxis": "y",
         "zmax": 6.339465910901892e+200,
         "zmin": -1076.3999999999996
        },
        {
         "colorbar": {
          "title": ""
         },
         "legendgroup": "",
         "marker": {
          "color": "rgba(0, 0, 0, 0.000)",
          "line": {
           "color": "rgba(0, 0, 0, 1.000)",
           "width": 0
          },
          "size": 2,
          "symbol": "circle"
         },
         "mode": "markers",
         "name": "",
         "showlegend": false,
         "type": "scatter",
         "x": [
          3
         ],
         "xaxis": "x",
         "y": [
          17
         ],
         "yaxis": "y",
         "zmax": 6.339465910901892e+200,
         "zmin": -1076.3999999999996
        },
        {
         "colorbar": {
          "title": ""
         },
         "legendgroup": "",
         "marker": {
          "color": "rgba(0, 0, 0, 0.000)",
          "line": {
           "color": "rgba(0, 0, 0, 1.000)",
           "width": 0
          },
          "size": 2,
          "symbol": "circle"
         },
         "mode": "markers",
         "name": "",
         "showlegend": false,
         "type": "scatter",
         "x": [
          3
         ],
         "xaxis": "x",
         "y": [
          18
         ],
         "yaxis": "y",
         "zmax": 6.339465910901892e+200,
         "zmin": -1076.3999999999996
        },
        {
         "colorbar": {
          "title": ""
         },
         "legendgroup": "",
         "marker": {
          "color": "rgba(0, 0, 0, 0.000)",
          "line": {
           "color": "rgba(0, 0, 0, 1.000)",
           "width": 0
          },
          "size": 2,
          "symbol": "circle"
         },
         "mode": "markers",
         "name": "",
         "showlegend": false,
         "type": "scatter",
         "x": [
          3
         ],
         "xaxis": "x",
         "y": [
          19
         ],
         "yaxis": "y",
         "zmax": 6.339465910901892e+200,
         "zmin": -1076.3999999999996
        },
        {
         "colorbar": {
          "title": ""
         },
         "legendgroup": "",
         "marker": {
          "color": "rgba(0, 0, 0, 0.000)",
          "line": {
           "color": "rgba(0, 0, 0, 1.000)",
           "width": 0
          },
          "size": 2,
          "symbol": "circle"
         },
         "mode": "markers",
         "name": "",
         "showlegend": false,
         "type": "scatter",
         "x": [
          3
         ],
         "xaxis": "x",
         "y": [
          20
         ],
         "yaxis": "y",
         "zmax": 6.339465910901892e+200,
         "zmin": -1076.3999999999996
        },
        {
         "colorbar": {
          "title": ""
         },
         "legendgroup": "",
         "marker": {
          "color": "rgba(0, 0, 0, 0.000)",
          "line": {
           "color": "rgba(0, 0, 0, 1.000)",
           "width": 0
          },
          "size": 2,
          "symbol": "circle"
         },
         "mode": "markers",
         "name": "",
         "showlegend": false,
         "type": "scatter",
         "x": [
          3
         ],
         "xaxis": "x",
         "y": [
          21
         ],
         "yaxis": "y",
         "zmax": 6.339465910901892e+200,
         "zmin": -1076.3999999999996
        },
        {
         "colorbar": {
          "title": ""
         },
         "legendgroup": "",
         "marker": {
          "color": "rgba(0, 0, 0, 0.000)",
          "line": {
           "color": "rgba(0, 0, 0, 1.000)",
           "width": 0
          },
          "size": 2,
          "symbol": "circle"
         },
         "mode": "markers",
         "name": "",
         "showlegend": false,
         "type": "scatter",
         "x": [
          3
         ],
         "xaxis": "x",
         "y": [
          22
         ],
         "yaxis": "y",
         "zmax": 6.339465910901892e+200,
         "zmin": -1076.3999999999996
        },
        {
         "colorbar": {
          "title": ""
         },
         "legendgroup": "",
         "marker": {
          "color": "rgba(0, 0, 0, 0.000)",
          "line": {
           "color": "rgba(0, 0, 0, 1.000)",
           "width": 0
          },
          "size": 2,
          "symbol": "circle"
         },
         "mode": "markers",
         "name": "",
         "showlegend": false,
         "type": "scatter",
         "x": [
          3
         ],
         "xaxis": "x",
         "y": [
          23
         ],
         "yaxis": "y",
         "zmax": 6.339465910901892e+200,
         "zmin": -1076.3999999999996
        },
        {
         "colorbar": {
          "title": ""
         },
         "legendgroup": "",
         "marker": {
          "color": "rgba(0, 0, 0, 0.000)",
          "line": {
           "color": "rgba(0, 0, 0, 1.000)",
           "width": 0
          },
          "size": 2,
          "symbol": "circle"
         },
         "mode": "markers",
         "name": "",
         "showlegend": false,
         "type": "scatter",
         "x": [
          3
         ],
         "xaxis": "x",
         "y": [
          24
         ],
         "yaxis": "y",
         "zmax": 6.339465910901892e+200,
         "zmin": -1076.3999999999996
        },
        {
         "colorbar": {
          "title": ""
         },
         "legendgroup": "",
         "marker": {
          "color": "rgba(0, 0, 0, 0.000)",
          "line": {
           "color": "rgba(0, 0, 0, 1.000)",
           "width": 0
          },
          "size": 2,
          "symbol": "circle"
         },
         "mode": "markers",
         "name": "",
         "showlegend": false,
         "type": "scatter",
         "x": [
          3
         ],
         "xaxis": "x",
         "y": [
          25
         ],
         "yaxis": "y",
         "zmax": 6.339465910901892e+200,
         "zmin": -1076.3999999999996
        },
        {
         "colorbar": {
          "title": ""
         },
         "legendgroup": "",
         "marker": {
          "color": "rgba(0, 0, 0, 0.000)",
          "line": {
           "color": "rgba(0, 0, 0, 1.000)",
           "width": 0
          },
          "size": 2,
          "symbol": "circle"
         },
         "mode": "markers",
         "name": "",
         "showlegend": false,
         "type": "scatter",
         "x": [
          3
         ],
         "xaxis": "x",
         "y": [
          26
         ],
         "yaxis": "y",
         "zmax": 6.339465910901892e+200,
         "zmin": -1076.3999999999996
        },
        {
         "colorbar": {
          "title": ""
         },
         "legendgroup": "",
         "marker": {
          "color": "rgba(0, 0, 4, 1.000)",
          "line": {
           "color": "rgba(0, 0, 0, 1.000)",
           "width": 0
          },
          "size": 2,
          "symbol": "circle"
         },
         "mode": "markers",
         "name": "",
         "showlegend": false,
         "type": "scatter",
         "x": [
          4
         ],
         "xaxis": "x",
         "y": [
          1
         ],
         "yaxis": "y",
         "zmax": 6.339465910901892e+200,
         "zmin": -1076.3999999999996
        },
        {
         "colorbar": {
          "title": ""
         },
         "legendgroup": "",
         "marker": {
          "color": "rgba(0, 0, 4, 1.000)",
          "line": {
           "color": "rgba(0, 0, 0, 1.000)",
           "width": 0
          },
          "size": 2,
          "symbol": "circle"
         },
         "mode": "markers",
         "name": "",
         "showlegend": false,
         "type": "scatter",
         "x": [
          4
         ],
         "xaxis": "x",
         "y": [
          2
         ],
         "yaxis": "y",
         "zmax": 6.339465910901892e+200,
         "zmin": -1076.3999999999996
        },
        {
         "colorbar": {
          "title": ""
         },
         "legendgroup": "",
         "marker": {
          "color": "rgba(0, 0, 4, 1.000)",
          "line": {
           "color": "rgba(0, 0, 0, 1.000)",
           "width": 0
          },
          "size": 2,
          "symbol": "circle"
         },
         "mode": "markers",
         "name": "",
         "showlegend": false,
         "type": "scatter",
         "x": [
          4
         ],
         "xaxis": "x",
         "y": [
          3
         ],
         "yaxis": "y",
         "zmax": 6.339465910901892e+200,
         "zmin": -1076.3999999999996
        },
        {
         "colorbar": {
          "title": ""
         },
         "legendgroup": "",
         "marker": {
          "color": "rgba(0, 0, 4, 1.000)",
          "line": {
           "color": "rgba(0, 0, 0, 1.000)",
           "width": 0
          },
          "size": 2,
          "symbol": "circle"
         },
         "mode": "markers",
         "name": "",
         "showlegend": false,
         "type": "scatter",
         "x": [
          4
         ],
         "xaxis": "x",
         "y": [
          4
         ],
         "yaxis": "y",
         "zmax": 6.339465910901892e+200,
         "zmin": -1076.3999999999996
        },
        {
         "colorbar": {
          "title": ""
         },
         "legendgroup": "",
         "marker": {
          "color": "rgba(0, 0, 4, 1.000)",
          "line": {
           "color": "rgba(0, 0, 0, 1.000)",
           "width": 0
          },
          "size": 2,
          "symbol": "circle"
         },
         "mode": "markers",
         "name": "",
         "showlegend": false,
         "type": "scatter",
         "x": [
          4
         ],
         "xaxis": "x",
         "y": [
          5
         ],
         "yaxis": "y",
         "zmax": 6.339465910901892e+200,
         "zmin": -1076.3999999999996
        },
        {
         "colorbar": {
          "title": ""
         },
         "legendgroup": "",
         "marker": {
          "color": "rgba(0, 0, 4, 1.000)",
          "line": {
           "color": "rgba(0, 0, 0, 1.000)",
           "width": 0
          },
          "size": 2,
          "symbol": "circle"
         },
         "mode": "markers",
         "name": "",
         "showlegend": false,
         "type": "scatter",
         "x": [
          4
         ],
         "xaxis": "x",
         "y": [
          6
         ],
         "yaxis": "y",
         "zmax": 6.339465910901892e+200,
         "zmin": -1076.3999999999996
        },
        {
         "colorbar": {
          "title": ""
         },
         "legendgroup": "",
         "marker": {
          "color": "rgba(0, 0, 4, 1.000)",
          "line": {
           "color": "rgba(0, 0, 0, 1.000)",
           "width": 0
          },
          "size": 2,
          "symbol": "circle"
         },
         "mode": "markers",
         "name": "",
         "showlegend": false,
         "type": "scatter",
         "x": [
          4
         ],
         "xaxis": "x",
         "y": [
          7
         ],
         "yaxis": "y",
         "zmax": 6.339465910901892e+200,
         "zmin": -1076.3999999999996
        },
        {
         "colorbar": {
          "title": ""
         },
         "legendgroup": "",
         "marker": {
          "color": "rgba(0, 0, 0, 0.000)",
          "line": {
           "color": "rgba(0, 0, 0, 1.000)",
           "width": 0
          },
          "size": 2,
          "symbol": "circle"
         },
         "mode": "markers",
         "name": "",
         "showlegend": false,
         "type": "scatter",
         "x": [
          4
         ],
         "xaxis": "x",
         "y": [
          8
         ],
         "yaxis": "y",
         "zmax": 6.339465910901892e+200,
         "zmin": -1076.3999999999996
        },
        {
         "colorbar": {
          "title": ""
         },
         "legendgroup": "",
         "marker": {
          "color": "rgba(0, 0, 0, 0.000)",
          "line": {
           "color": "rgba(0, 0, 0, 1.000)",
           "width": 0
          },
          "size": 2,
          "symbol": "circle"
         },
         "mode": "markers",
         "name": "",
         "showlegend": false,
         "type": "scatter",
         "x": [
          4
         ],
         "xaxis": "x",
         "y": [
          9
         ],
         "yaxis": "y",
         "zmax": 6.339465910901892e+200,
         "zmin": -1076.3999999999996
        },
        {
         "colorbar": {
          "title": ""
         },
         "legendgroup": "",
         "marker": {
          "color": "rgba(0, 0, 0, 0.000)",
          "line": {
           "color": "rgba(0, 0, 0, 1.000)",
           "width": 0
          },
          "size": 2,
          "symbol": "circle"
         },
         "mode": "markers",
         "name": "",
         "showlegend": false,
         "type": "scatter",
         "x": [
          4
         ],
         "xaxis": "x",
         "y": [
          10
         ],
         "yaxis": "y",
         "zmax": 6.339465910901892e+200,
         "zmin": -1076.3999999999996
        },
        {
         "colorbar": {
          "title": ""
         },
         "legendgroup": "",
         "marker": {
          "color": "rgba(0, 0, 0, 0.000)",
          "line": {
           "color": "rgba(0, 0, 0, 1.000)",
           "width": 0
          },
          "size": 2,
          "symbol": "circle"
         },
         "mode": "markers",
         "name": "",
         "showlegend": false,
         "type": "scatter",
         "x": [
          4
         ],
         "xaxis": "x",
         "y": [
          11
         ],
         "yaxis": "y",
         "zmax": 6.339465910901892e+200,
         "zmin": -1076.3999999999996
        },
        {
         "colorbar": {
          "title": ""
         },
         "legendgroup": "",
         "marker": {
          "color": "rgba(0, 0, 0, 0.000)",
          "line": {
           "color": "rgba(0, 0, 0, 1.000)",
           "width": 0
          },
          "size": 2,
          "symbol": "circle"
         },
         "mode": "markers",
         "name": "",
         "showlegend": false,
         "type": "scatter",
         "x": [
          4
         ],
         "xaxis": "x",
         "y": [
          12
         ],
         "yaxis": "y",
         "zmax": 6.339465910901892e+200,
         "zmin": -1076.3999999999996
        },
        {
         "colorbar": {
          "title": ""
         },
         "legendgroup": "",
         "marker": {
          "color": "rgba(0, 0, 0, 0.000)",
          "line": {
           "color": "rgba(0, 0, 0, 1.000)",
           "width": 0
          },
          "size": 2,
          "symbol": "circle"
         },
         "mode": "markers",
         "name": "",
         "showlegend": false,
         "type": "scatter",
         "x": [
          4
         ],
         "xaxis": "x",
         "y": [
          13
         ],
         "yaxis": "y",
         "zmax": 6.339465910901892e+200,
         "zmin": -1076.3999999999996
        },
        {
         "colorbar": {
          "title": ""
         },
         "legendgroup": "",
         "marker": {
          "color": "rgba(0, 0, 0, 0.000)",
          "line": {
           "color": "rgba(0, 0, 0, 1.000)",
           "width": 0
          },
          "size": 2,
          "symbol": "circle"
         },
         "mode": "markers",
         "name": "",
         "showlegend": false,
         "type": "scatter",
         "x": [
          4
         ],
         "xaxis": "x",
         "y": [
          14
         ],
         "yaxis": "y",
         "zmax": 6.339465910901892e+200,
         "zmin": -1076.3999999999996
        },
        {
         "colorbar": {
          "title": ""
         },
         "legendgroup": "",
         "marker": {
          "color": "rgba(0, 0, 0, 0.000)",
          "line": {
           "color": "rgba(0, 0, 0, 1.000)",
           "width": 0
          },
          "size": 2,
          "symbol": "circle"
         },
         "mode": "markers",
         "name": "",
         "showlegend": false,
         "type": "scatter",
         "x": [
          4
         ],
         "xaxis": "x",
         "y": [
          15
         ],
         "yaxis": "y",
         "zmax": 6.339465910901892e+200,
         "zmin": -1076.3999999999996
        },
        {
         "colorbar": {
          "title": ""
         },
         "legendgroup": "",
         "marker": {
          "color": "rgba(0, 0, 0, 0.000)",
          "line": {
           "color": "rgba(0, 0, 0, 1.000)",
           "width": 0
          },
          "size": 2,
          "symbol": "circle"
         },
         "mode": "markers",
         "name": "",
         "showlegend": false,
         "type": "scatter",
         "x": [
          4
         ],
         "xaxis": "x",
         "y": [
          16
         ],
         "yaxis": "y",
         "zmax": 6.339465910901892e+200,
         "zmin": -1076.3999999999996
        },
        {
         "colorbar": {
          "title": ""
         },
         "legendgroup": "",
         "marker": {
          "color": "rgba(0, 0, 0, 0.000)",
          "line": {
           "color": "rgba(0, 0, 0, 1.000)",
           "width": 0
          },
          "size": 2,
          "symbol": "circle"
         },
         "mode": "markers",
         "name": "",
         "showlegend": false,
         "type": "scatter",
         "x": [
          4
         ],
         "xaxis": "x",
         "y": [
          17
         ],
         "yaxis": "y",
         "zmax": 6.339465910901892e+200,
         "zmin": -1076.3999999999996
        },
        {
         "colorbar": {
          "title": ""
         },
         "legendgroup": "",
         "marker": {
          "color": "rgba(0, 0, 0, 0.000)",
          "line": {
           "color": "rgba(0, 0, 0, 1.000)",
           "width": 0
          },
          "size": 2,
          "symbol": "circle"
         },
         "mode": "markers",
         "name": "",
         "showlegend": false,
         "type": "scatter",
         "x": [
          4
         ],
         "xaxis": "x",
         "y": [
          18
         ],
         "yaxis": "y",
         "zmax": 6.339465910901892e+200,
         "zmin": -1076.3999999999996
        },
        {
         "colorbar": {
          "title": ""
         },
         "legendgroup": "",
         "marker": {
          "color": "rgba(0, 0, 0, 0.000)",
          "line": {
           "color": "rgba(0, 0, 0, 1.000)",
           "width": 0
          },
          "size": 2,
          "symbol": "circle"
         },
         "mode": "markers",
         "name": "",
         "showlegend": false,
         "type": "scatter",
         "x": [
          4
         ],
         "xaxis": "x",
         "y": [
          19
         ],
         "yaxis": "y",
         "zmax": 6.339465910901892e+200,
         "zmin": -1076.3999999999996
        },
        {
         "colorbar": {
          "title": ""
         },
         "legendgroup": "",
         "marker": {
          "color": "rgba(0, 0, 0, 0.000)",
          "line": {
           "color": "rgba(0, 0, 0, 1.000)",
           "width": 0
          },
          "size": 2,
          "symbol": "circle"
         },
         "mode": "markers",
         "name": "",
         "showlegend": false,
         "type": "scatter",
         "x": [
          4
         ],
         "xaxis": "x",
         "y": [
          20
         ],
         "yaxis": "y",
         "zmax": 6.339465910901892e+200,
         "zmin": -1076.3999999999996
        },
        {
         "colorbar": {
          "title": ""
         },
         "legendgroup": "",
         "marker": {
          "color": "rgba(0, 0, 0, 0.000)",
          "line": {
           "color": "rgba(0, 0, 0, 1.000)",
           "width": 0
          },
          "size": 2,
          "symbol": "circle"
         },
         "mode": "markers",
         "name": "",
         "showlegend": false,
         "type": "scatter",
         "x": [
          4
         ],
         "xaxis": "x",
         "y": [
          21
         ],
         "yaxis": "y",
         "zmax": 6.339465910901892e+200,
         "zmin": -1076.3999999999996
        },
        {
         "colorbar": {
          "title": ""
         },
         "legendgroup": "",
         "marker": {
          "color": "rgba(0, 0, 0, 0.000)",
          "line": {
           "color": "rgba(0, 0, 0, 1.000)",
           "width": 0
          },
          "size": 2,
          "symbol": "circle"
         },
         "mode": "markers",
         "name": "",
         "showlegend": false,
         "type": "scatter",
         "x": [
          4
         ],
         "xaxis": "x",
         "y": [
          22
         ],
         "yaxis": "y",
         "zmax": 6.339465910901892e+200,
         "zmin": -1076.3999999999996
        },
        {
         "colorbar": {
          "title": ""
         },
         "legendgroup": "",
         "marker": {
          "color": "rgba(0, 0, 0, 0.000)",
          "line": {
           "color": "rgba(0, 0, 0, 1.000)",
           "width": 0
          },
          "size": 2,
          "symbol": "circle"
         },
         "mode": "markers",
         "name": "",
         "showlegend": false,
         "type": "scatter",
         "x": [
          4
         ],
         "xaxis": "x",
         "y": [
          23
         ],
         "yaxis": "y",
         "zmax": 6.339465910901892e+200,
         "zmin": -1076.3999999999996
        },
        {
         "colorbar": {
          "title": ""
         },
         "legendgroup": "",
         "marker": {
          "color": "rgba(0, 0, 0, 0.000)",
          "line": {
           "color": "rgba(0, 0, 0, 1.000)",
           "width": 0
          },
          "size": 2,
          "symbol": "circle"
         },
         "mode": "markers",
         "name": "",
         "showlegend": false,
         "type": "scatter",
         "x": [
          4
         ],
         "xaxis": "x",
         "y": [
          24
         ],
         "yaxis": "y",
         "zmax": 6.339465910901892e+200,
         "zmin": -1076.3999999999996
        },
        {
         "colorbar": {
          "title": ""
         },
         "legendgroup": "",
         "marker": {
          "color": "rgba(0, 0, 0, 0.000)",
          "line": {
           "color": "rgba(0, 0, 0, 1.000)",
           "width": 0
          },
          "size": 2,
          "symbol": "circle"
         },
         "mode": "markers",
         "name": "",
         "showlegend": false,
         "type": "scatter",
         "x": [
          4
         ],
         "xaxis": "x",
         "y": [
          25
         ],
         "yaxis": "y",
         "zmax": 6.339465910901892e+200,
         "zmin": -1076.3999999999996
        },
        {
         "colorbar": {
          "title": ""
         },
         "legendgroup": "",
         "marker": {
          "color": "rgba(0, 0, 0, 0.000)",
          "line": {
           "color": "rgba(0, 0, 0, 1.000)",
           "width": 0
          },
          "size": 2,
          "symbol": "circle"
         },
         "mode": "markers",
         "name": "",
         "showlegend": false,
         "type": "scatter",
         "x": [
          4
         ],
         "xaxis": "x",
         "y": [
          26
         ],
         "yaxis": "y",
         "zmax": 6.339465910901892e+200,
         "zmin": -1076.3999999999996
        },
        {
         "colorbar": {
          "title": ""
         },
         "legendgroup": "",
         "marker": {
          "color": "rgba(0, 0, 4, 1.000)",
          "line": {
           "color": "rgba(0, 0, 0, 1.000)",
           "width": 0
          },
          "size": 2,
          "symbol": "circle"
         },
         "mode": "markers",
         "name": "",
         "showlegend": false,
         "type": "scatter",
         "x": [
          5
         ],
         "xaxis": "x",
         "y": [
          1
         ],
         "yaxis": "y",
         "zmax": 6.339465910901892e+200,
         "zmin": -1076.3999999999996
        },
        {
         "colorbar": {
          "title": ""
         },
         "legendgroup": "",
         "marker": {
          "color": "rgba(0, 0, 4, 1.000)",
          "line": {
           "color": "rgba(0, 0, 0, 1.000)",
           "width": 0
          },
          "size": 2,
          "symbol": "circle"
         },
         "mode": "markers",
         "name": "",
         "showlegend": false,
         "type": "scatter",
         "x": [
          5
         ],
         "xaxis": "x",
         "y": [
          2
         ],
         "yaxis": "y",
         "zmax": 6.339465910901892e+200,
         "zmin": -1076.3999999999996
        },
        {
         "colorbar": {
          "title": ""
         },
         "legendgroup": "",
         "marker": {
          "color": "rgba(0, 0, 4, 1.000)",
          "line": {
           "color": "rgba(0, 0, 0, 1.000)",
           "width": 0
          },
          "size": 2,
          "symbol": "circle"
         },
         "mode": "markers",
         "name": "",
         "showlegend": false,
         "type": "scatter",
         "x": [
          5
         ],
         "xaxis": "x",
         "y": [
          3
         ],
         "yaxis": "y",
         "zmax": 6.339465910901892e+200,
         "zmin": -1076.3999999999996
        },
        {
         "colorbar": {
          "title": ""
         },
         "legendgroup": "",
         "marker": {
          "color": "rgba(0, 0, 4, 1.000)",
          "line": {
           "color": "rgba(0, 0, 0, 1.000)",
           "width": 0
          },
          "size": 2,
          "symbol": "circle"
         },
         "mode": "markers",
         "name": "",
         "showlegend": false,
         "type": "scatter",
         "x": [
          5
         ],
         "xaxis": "x",
         "y": [
          4
         ],
         "yaxis": "y",
         "zmax": 6.339465910901892e+200,
         "zmin": -1076.3999999999996
        },
        {
         "colorbar": {
          "title": ""
         },
         "legendgroup": "",
         "marker": {
          "color": "rgba(0, 0, 4, 1.000)",
          "line": {
           "color": "rgba(0, 0, 0, 1.000)",
           "width": 0
          },
          "size": 2,
          "symbol": "circle"
         },
         "mode": "markers",
         "name": "",
         "showlegend": false,
         "type": "scatter",
         "x": [
          5
         ],
         "xaxis": "x",
         "y": [
          5
         ],
         "yaxis": "y",
         "zmax": 6.339465910901892e+200,
         "zmin": -1076.3999999999996
        },
        {
         "colorbar": {
          "title": ""
         },
         "legendgroup": "",
         "marker": {
          "color": "rgba(0, 0, 4, 1.000)",
          "line": {
           "color": "rgba(0, 0, 0, 1.000)",
           "width": 0
          },
          "size": 2,
          "symbol": "circle"
         },
         "mode": "markers",
         "name": "",
         "showlegend": false,
         "type": "scatter",
         "x": [
          5
         ],
         "xaxis": "x",
         "y": [
          6
         ],
         "yaxis": "y",
         "zmax": 6.339465910901892e+200,
         "zmin": -1076.3999999999996
        },
        {
         "colorbar": {
          "title": ""
         },
         "legendgroup": "",
         "marker": {
          "color": "rgba(0, 0, 4, 1.000)",
          "line": {
           "color": "rgba(0, 0, 0, 1.000)",
           "width": 0
          },
          "size": 2,
          "symbol": "circle"
         },
         "mode": "markers",
         "name": "",
         "showlegend": false,
         "type": "scatter",
         "x": [
          5
         ],
         "xaxis": "x",
         "y": [
          7
         ],
         "yaxis": "y",
         "zmax": 6.339465910901892e+200,
         "zmin": -1076.3999999999996
        },
        {
         "colorbar": {
          "title": ""
         },
         "legendgroup": "",
         "marker": {
          "color": "rgba(0, 0, 0, 0.000)",
          "line": {
           "color": "rgba(0, 0, 0, 1.000)",
           "width": 0
          },
          "size": 2,
          "symbol": "circle"
         },
         "mode": "markers",
         "name": "",
         "showlegend": false,
         "type": "scatter",
         "x": [
          5
         ],
         "xaxis": "x",
         "y": [
          8
         ],
         "yaxis": "y",
         "zmax": 6.339465910901892e+200,
         "zmin": -1076.3999999999996
        },
        {
         "colorbar": {
          "title": ""
         },
         "legendgroup": "",
         "marker": {
          "color": "rgba(0, 0, 0, 0.000)",
          "line": {
           "color": "rgba(0, 0, 0, 1.000)",
           "width": 0
          },
          "size": 2,
          "symbol": "circle"
         },
         "mode": "markers",
         "name": "",
         "showlegend": false,
         "type": "scatter",
         "x": [
          5
         ],
         "xaxis": "x",
         "y": [
          9
         ],
         "yaxis": "y",
         "zmax": 6.339465910901892e+200,
         "zmin": -1076.3999999999996
        },
        {
         "colorbar": {
          "title": ""
         },
         "legendgroup": "",
         "marker": {
          "color": "rgba(0, 0, 0, 0.000)",
          "line": {
           "color": "rgba(0, 0, 0, 1.000)",
           "width": 0
          },
          "size": 2,
          "symbol": "circle"
         },
         "mode": "markers",
         "name": "",
         "showlegend": false,
         "type": "scatter",
         "x": [
          5
         ],
         "xaxis": "x",
         "y": [
          10
         ],
         "yaxis": "y",
         "zmax": 6.339465910901892e+200,
         "zmin": -1076.3999999999996
        },
        {
         "colorbar": {
          "title": ""
         },
         "legendgroup": "",
         "marker": {
          "color": "rgba(0, 0, 0, 0.000)",
          "line": {
           "color": "rgba(0, 0, 0, 1.000)",
           "width": 0
          },
          "size": 2,
          "symbol": "circle"
         },
         "mode": "markers",
         "name": "",
         "showlegend": false,
         "type": "scatter",
         "x": [
          5
         ],
         "xaxis": "x",
         "y": [
          11
         ],
         "yaxis": "y",
         "zmax": 6.339465910901892e+200,
         "zmin": -1076.3999999999996
        },
        {
         "colorbar": {
          "title": ""
         },
         "legendgroup": "",
         "marker": {
          "color": "rgba(0, 0, 0, 0.000)",
          "line": {
           "color": "rgba(0, 0, 0, 1.000)",
           "width": 0
          },
          "size": 2,
          "symbol": "circle"
         },
         "mode": "markers",
         "name": "",
         "showlegend": false,
         "type": "scatter",
         "x": [
          5
         ],
         "xaxis": "x",
         "y": [
          12
         ],
         "yaxis": "y",
         "zmax": 6.339465910901892e+200,
         "zmin": -1076.3999999999996
        },
        {
         "colorbar": {
          "title": ""
         },
         "legendgroup": "",
         "marker": {
          "color": "rgba(0, 0, 0, 0.000)",
          "line": {
           "color": "rgba(0, 0, 0, 1.000)",
           "width": 0
          },
          "size": 2,
          "symbol": "circle"
         },
         "mode": "markers",
         "name": "",
         "showlegend": false,
         "type": "scatter",
         "x": [
          5
         ],
         "xaxis": "x",
         "y": [
          13
         ],
         "yaxis": "y",
         "zmax": 6.339465910901892e+200,
         "zmin": -1076.3999999999996
        },
        {
         "colorbar": {
          "title": ""
         },
         "legendgroup": "",
         "marker": {
          "color": "rgba(0, 0, 0, 0.000)",
          "line": {
           "color": "rgba(0, 0, 0, 1.000)",
           "width": 0
          },
          "size": 2,
          "symbol": "circle"
         },
         "mode": "markers",
         "name": "",
         "showlegend": false,
         "type": "scatter",
         "x": [
          5
         ],
         "xaxis": "x",
         "y": [
          14
         ],
         "yaxis": "y",
         "zmax": 6.339465910901892e+200,
         "zmin": -1076.3999999999996
        },
        {
         "colorbar": {
          "title": ""
         },
         "legendgroup": "",
         "marker": {
          "color": "rgba(0, 0, 0, 0.000)",
          "line": {
           "color": "rgba(0, 0, 0, 1.000)",
           "width": 0
          },
          "size": 2,
          "symbol": "circle"
         },
         "mode": "markers",
         "name": "",
         "showlegend": false,
         "type": "scatter",
         "x": [
          5
         ],
         "xaxis": "x",
         "y": [
          15
         ],
         "yaxis": "y",
         "zmax": 6.339465910901892e+200,
         "zmin": -1076.3999999999996
        },
        {
         "colorbar": {
          "title": ""
         },
         "legendgroup": "",
         "marker": {
          "color": "rgba(0, 0, 0, 0.000)",
          "line": {
           "color": "rgba(0, 0, 0, 1.000)",
           "width": 0
          },
          "size": 2,
          "symbol": "circle"
         },
         "mode": "markers",
         "name": "",
         "showlegend": false,
         "type": "scatter",
         "x": [
          5
         ],
         "xaxis": "x",
         "y": [
          16
         ],
         "yaxis": "y",
         "zmax": 6.339465910901892e+200,
         "zmin": -1076.3999999999996
        },
        {
         "colorbar": {
          "title": ""
         },
         "legendgroup": "",
         "marker": {
          "color": "rgba(0, 0, 0, 0.000)",
          "line": {
           "color": "rgba(0, 0, 0, 1.000)",
           "width": 0
          },
          "size": 2,
          "symbol": "circle"
         },
         "mode": "markers",
         "name": "",
         "showlegend": false,
         "type": "scatter",
         "x": [
          5
         ],
         "xaxis": "x",
         "y": [
          17
         ],
         "yaxis": "y",
         "zmax": 6.339465910901892e+200,
         "zmin": -1076.3999999999996
        },
        {
         "colorbar": {
          "title": ""
         },
         "legendgroup": "",
         "marker": {
          "color": "rgba(0, 0, 0, 0.000)",
          "line": {
           "color": "rgba(0, 0, 0, 1.000)",
           "width": 0
          },
          "size": 2,
          "symbol": "circle"
         },
         "mode": "markers",
         "name": "",
         "showlegend": false,
         "type": "scatter",
         "x": [
          5
         ],
         "xaxis": "x",
         "y": [
          18
         ],
         "yaxis": "y",
         "zmax": 6.339465910901892e+200,
         "zmin": -1076.3999999999996
        },
        {
         "colorbar": {
          "title": ""
         },
         "legendgroup": "",
         "marker": {
          "color": "rgba(0, 0, 0, 0.000)",
          "line": {
           "color": "rgba(0, 0, 0, 1.000)",
           "width": 0
          },
          "size": 2,
          "symbol": "circle"
         },
         "mode": "markers",
         "name": "",
         "showlegend": false,
         "type": "scatter",
         "x": [
          5
         ],
         "xaxis": "x",
         "y": [
          19
         ],
         "yaxis": "y",
         "zmax": 6.339465910901892e+200,
         "zmin": -1076.3999999999996
        },
        {
         "colorbar": {
          "title": ""
         },
         "legendgroup": "",
         "marker": {
          "color": "rgba(0, 0, 0, 0.000)",
          "line": {
           "color": "rgba(0, 0, 0, 1.000)",
           "width": 0
          },
          "size": 2,
          "symbol": "circle"
         },
         "mode": "markers",
         "name": "",
         "showlegend": false,
         "type": "scatter",
         "x": [
          5
         ],
         "xaxis": "x",
         "y": [
          20
         ],
         "yaxis": "y",
         "zmax": 6.339465910901892e+200,
         "zmin": -1076.3999999999996
        },
        {
         "colorbar": {
          "title": ""
         },
         "legendgroup": "",
         "marker": {
          "color": "rgba(0, 0, 0, 0.000)",
          "line": {
           "color": "rgba(0, 0, 0, 1.000)",
           "width": 0
          },
          "size": 2,
          "symbol": "circle"
         },
         "mode": "markers",
         "name": "",
         "showlegend": false,
         "type": "scatter",
         "x": [
          5
         ],
         "xaxis": "x",
         "y": [
          21
         ],
         "yaxis": "y",
         "zmax": 6.339465910901892e+200,
         "zmin": -1076.3999999999996
        },
        {
         "colorbar": {
          "title": ""
         },
         "legendgroup": "",
         "marker": {
          "color": "rgba(0, 0, 0, 0.000)",
          "line": {
           "color": "rgba(0, 0, 0, 1.000)",
           "width": 0
          },
          "size": 2,
          "symbol": "circle"
         },
         "mode": "markers",
         "name": "",
         "showlegend": false,
         "type": "scatter",
         "x": [
          5
         ],
         "xaxis": "x",
         "y": [
          22
         ],
         "yaxis": "y",
         "zmax": 6.339465910901892e+200,
         "zmin": -1076.3999999999996
        },
        {
         "colorbar": {
          "title": ""
         },
         "legendgroup": "",
         "marker": {
          "color": "rgba(0, 0, 0, 0.000)",
          "line": {
           "color": "rgba(0, 0, 0, 1.000)",
           "width": 0
          },
          "size": 2,
          "symbol": "circle"
         },
         "mode": "markers",
         "name": "",
         "showlegend": false,
         "type": "scatter",
         "x": [
          5
         ],
         "xaxis": "x",
         "y": [
          23
         ],
         "yaxis": "y",
         "zmax": 6.339465910901892e+200,
         "zmin": -1076.3999999999996
        },
        {
         "colorbar": {
          "title": ""
         },
         "legendgroup": "",
         "marker": {
          "color": "rgba(0, 0, 0, 0.000)",
          "line": {
           "color": "rgba(0, 0, 0, 1.000)",
           "width": 0
          },
          "size": 2,
          "symbol": "circle"
         },
         "mode": "markers",
         "name": "",
         "showlegend": false,
         "type": "scatter",
         "x": [
          5
         ],
         "xaxis": "x",
         "y": [
          24
         ],
         "yaxis": "y",
         "zmax": 6.339465910901892e+200,
         "zmin": -1076.3999999999996
        },
        {
         "colorbar": {
          "title": ""
         },
         "legendgroup": "",
         "marker": {
          "color": "rgba(0, 0, 0, 0.000)",
          "line": {
           "color": "rgba(0, 0, 0, 1.000)",
           "width": 0
          },
          "size": 2,
          "symbol": "circle"
         },
         "mode": "markers",
         "name": "",
         "showlegend": false,
         "type": "scatter",
         "x": [
          5
         ],
         "xaxis": "x",
         "y": [
          25
         ],
         "yaxis": "y",
         "zmax": 6.339465910901892e+200,
         "zmin": -1076.3999999999996
        },
        {
         "colorbar": {
          "title": ""
         },
         "legendgroup": "",
         "marker": {
          "color": "rgba(0, 0, 0, 0.000)",
          "line": {
           "color": "rgba(0, 0, 0, 1.000)",
           "width": 0
          },
          "size": 2,
          "symbol": "circle"
         },
         "mode": "markers",
         "name": "",
         "showlegend": false,
         "type": "scatter",
         "x": [
          5
         ],
         "xaxis": "x",
         "y": [
          26
         ],
         "yaxis": "y",
         "zmax": 6.339465910901892e+200,
         "zmin": -1076.3999999999996
        },
        {
         "colorbar": {
          "title": ""
         },
         "legendgroup": "",
         "marker": {
          "color": "rgba(0, 0, 4, 1.000)",
          "line": {
           "color": "rgba(0, 0, 0, 1.000)",
           "width": 0
          },
          "size": 2,
          "symbol": "circle"
         },
         "mode": "markers",
         "name": "",
         "showlegend": false,
         "type": "scatter",
         "x": [
          6
         ],
         "xaxis": "x",
         "y": [
          1
         ],
         "yaxis": "y",
         "zmax": 6.339465910901892e+200,
         "zmin": -1076.3999999999996
        },
        {
         "colorbar": {
          "title": ""
         },
         "legendgroup": "",
         "marker": {
          "color": "rgba(0, 0, 4, 1.000)",
          "line": {
           "color": "rgba(0, 0, 0, 1.000)",
           "width": 0
          },
          "size": 2,
          "symbol": "circle"
         },
         "mode": "markers",
         "name": "",
         "showlegend": false,
         "type": "scatter",
         "x": [
          6
         ],
         "xaxis": "x",
         "y": [
          2
         ],
         "yaxis": "y",
         "zmax": 6.339465910901892e+200,
         "zmin": -1076.3999999999996
        },
        {
         "colorbar": {
          "title": ""
         },
         "legendgroup": "",
         "marker": {
          "color": "rgba(0, 0, 4, 1.000)",
          "line": {
           "color": "rgba(0, 0, 0, 1.000)",
           "width": 0
          },
          "size": 2,
          "symbol": "circle"
         },
         "mode": "markers",
         "name": "",
         "showlegend": false,
         "type": "scatter",
         "x": [
          6
         ],
         "xaxis": "x",
         "y": [
          3
         ],
         "yaxis": "y",
         "zmax": 6.339465910901892e+200,
         "zmin": -1076.3999999999996
        },
        {
         "colorbar": {
          "title": ""
         },
         "legendgroup": "",
         "marker": {
          "color": "rgba(0, 0, 4, 1.000)",
          "line": {
           "color": "rgba(0, 0, 0, 1.000)",
           "width": 0
          },
          "size": 2,
          "symbol": "circle"
         },
         "mode": "markers",
         "name": "",
         "showlegend": false,
         "type": "scatter",
         "x": [
          6
         ],
         "xaxis": "x",
         "y": [
          4
         ],
         "yaxis": "y",
         "zmax": 6.339465910901892e+200,
         "zmin": -1076.3999999999996
        },
        {
         "colorbar": {
          "title": ""
         },
         "legendgroup": "",
         "marker": {
          "color": "rgba(0, 0, 4, 1.000)",
          "line": {
           "color": "rgba(0, 0, 0, 1.000)",
           "width": 0
          },
          "size": 2,
          "symbol": "circle"
         },
         "mode": "markers",
         "name": "",
         "showlegend": false,
         "type": "scatter",
         "x": [
          6
         ],
         "xaxis": "x",
         "y": [
          5
         ],
         "yaxis": "y",
         "zmax": 6.339465910901892e+200,
         "zmin": -1076.3999999999996
        },
        {
         "colorbar": {
          "title": ""
         },
         "legendgroup": "",
         "marker": {
          "color": "rgba(0, 0, 4, 1.000)",
          "line": {
           "color": "rgba(0, 0, 0, 1.000)",
           "width": 0
          },
          "size": 2,
          "symbol": "circle"
         },
         "mode": "markers",
         "name": "",
         "showlegend": false,
         "type": "scatter",
         "x": [
          6
         ],
         "xaxis": "x",
         "y": [
          6
         ],
         "yaxis": "y",
         "zmax": 6.339465910901892e+200,
         "zmin": -1076.3999999999996
        },
        {
         "colorbar": {
          "title": ""
         },
         "legendgroup": "",
         "marker": {
          "color": "rgba(0, 0, 4, 1.000)",
          "line": {
           "color": "rgba(0, 0, 0, 1.000)",
           "width": 0
          },
          "size": 2,
          "symbol": "circle"
         },
         "mode": "markers",
         "name": "",
         "showlegend": false,
         "type": "scatter",
         "x": [
          6
         ],
         "xaxis": "x",
         "y": [
          7
         ],
         "yaxis": "y",
         "zmax": 6.339465910901892e+200,
         "zmin": -1076.3999999999996
        },
        {
         "colorbar": {
          "title": ""
         },
         "legendgroup": "",
         "marker": {
          "color": "rgba(0, 0, 0, 0.000)",
          "line": {
           "color": "rgba(0, 0, 0, 1.000)",
           "width": 0
          },
          "size": 2,
          "symbol": "circle"
         },
         "mode": "markers",
         "name": "",
         "showlegend": false,
         "type": "scatter",
         "x": [
          6
         ],
         "xaxis": "x",
         "y": [
          8
         ],
         "yaxis": "y",
         "zmax": 6.339465910901892e+200,
         "zmin": -1076.3999999999996
        },
        {
         "colorbar": {
          "title": ""
         },
         "legendgroup": "",
         "marker": {
          "color": "rgba(0, 0, 0, 0.000)",
          "line": {
           "color": "rgba(0, 0, 0, 1.000)",
           "width": 0
          },
          "size": 2,
          "symbol": "circle"
         },
         "mode": "markers",
         "name": "",
         "showlegend": false,
         "type": "scatter",
         "x": [
          6
         ],
         "xaxis": "x",
         "y": [
          9
         ],
         "yaxis": "y",
         "zmax": 6.339465910901892e+200,
         "zmin": -1076.3999999999996
        },
        {
         "colorbar": {
          "title": ""
         },
         "legendgroup": "",
         "marker": {
          "color": "rgba(0, 0, 0, 0.000)",
          "line": {
           "color": "rgba(0, 0, 0, 1.000)",
           "width": 0
          },
          "size": 2,
          "symbol": "circle"
         },
         "mode": "markers",
         "name": "",
         "showlegend": false,
         "type": "scatter",
         "x": [
          6
         ],
         "xaxis": "x",
         "y": [
          10
         ],
         "yaxis": "y",
         "zmax": 6.339465910901892e+200,
         "zmin": -1076.3999999999996
        },
        {
         "colorbar": {
          "title": ""
         },
         "legendgroup": "",
         "marker": {
          "color": "rgba(0, 0, 0, 0.000)",
          "line": {
           "color": "rgba(0, 0, 0, 1.000)",
           "width": 0
          },
          "size": 2,
          "symbol": "circle"
         },
         "mode": "markers",
         "name": "",
         "showlegend": false,
         "type": "scatter",
         "x": [
          6
         ],
         "xaxis": "x",
         "y": [
          11
         ],
         "yaxis": "y",
         "zmax": 6.339465910901892e+200,
         "zmin": -1076.3999999999996
        },
        {
         "colorbar": {
          "title": ""
         },
         "legendgroup": "",
         "marker": {
          "color": "rgba(0, 0, 0, 0.000)",
          "line": {
           "color": "rgba(0, 0, 0, 1.000)",
           "width": 0
          },
          "size": 2,
          "symbol": "circle"
         },
         "mode": "markers",
         "name": "",
         "showlegend": false,
         "type": "scatter",
         "x": [
          6
         ],
         "xaxis": "x",
         "y": [
          12
         ],
         "yaxis": "y",
         "zmax": 6.339465910901892e+200,
         "zmin": -1076.3999999999996
        },
        {
         "colorbar": {
          "title": ""
         },
         "legendgroup": "",
         "marker": {
          "color": "rgba(0, 0, 0, 0.000)",
          "line": {
           "color": "rgba(0, 0, 0, 1.000)",
           "width": 0
          },
          "size": 2,
          "symbol": "circle"
         },
         "mode": "markers",
         "name": "",
         "showlegend": false,
         "type": "scatter",
         "x": [
          6
         ],
         "xaxis": "x",
         "y": [
          13
         ],
         "yaxis": "y",
         "zmax": 6.339465910901892e+200,
         "zmin": -1076.3999999999996
        },
        {
         "colorbar": {
          "title": ""
         },
         "legendgroup": "",
         "marker": {
          "color": "rgba(0, 0, 0, 0.000)",
          "line": {
           "color": "rgba(0, 0, 0, 1.000)",
           "width": 0
          },
          "size": 2,
          "symbol": "circle"
         },
         "mode": "markers",
         "name": "",
         "showlegend": false,
         "type": "scatter",
         "x": [
          6
         ],
         "xaxis": "x",
         "y": [
          14
         ],
         "yaxis": "y",
         "zmax": 6.339465910901892e+200,
         "zmin": -1076.3999999999996
        },
        {
         "colorbar": {
          "title": ""
         },
         "legendgroup": "",
         "marker": {
          "color": "rgba(0, 0, 0, 0.000)",
          "line": {
           "color": "rgba(0, 0, 0, 1.000)",
           "width": 0
          },
          "size": 2,
          "symbol": "circle"
         },
         "mode": "markers",
         "name": "",
         "showlegend": false,
         "type": "scatter",
         "x": [
          6
         ],
         "xaxis": "x",
         "y": [
          15
         ],
         "yaxis": "y",
         "zmax": 6.339465910901892e+200,
         "zmin": -1076.3999999999996
        },
        {
         "colorbar": {
          "title": ""
         },
         "legendgroup": "",
         "marker": {
          "color": "rgba(0, 0, 0, 0.000)",
          "line": {
           "color": "rgba(0, 0, 0, 1.000)",
           "width": 0
          },
          "size": 2,
          "symbol": "circle"
         },
         "mode": "markers",
         "name": "",
         "showlegend": false,
         "type": "scatter",
         "x": [
          6
         ],
         "xaxis": "x",
         "y": [
          16
         ],
         "yaxis": "y",
         "zmax": 6.339465910901892e+200,
         "zmin": -1076.3999999999996
        },
        {
         "colorbar": {
          "title": ""
         },
         "legendgroup": "",
         "marker": {
          "color": "rgba(0, 0, 0, 0.000)",
          "line": {
           "color": "rgba(0, 0, 0, 1.000)",
           "width": 0
          },
          "size": 2,
          "symbol": "circle"
         },
         "mode": "markers",
         "name": "",
         "showlegend": false,
         "type": "scatter",
         "x": [
          6
         ],
         "xaxis": "x",
         "y": [
          17
         ],
         "yaxis": "y",
         "zmax": 6.339465910901892e+200,
         "zmin": -1076.3999999999996
        },
        {
         "colorbar": {
          "title": ""
         },
         "legendgroup": "",
         "marker": {
          "color": "rgba(0, 0, 0, 0.000)",
          "line": {
           "color": "rgba(0, 0, 0, 1.000)",
           "width": 0
          },
          "size": 2,
          "symbol": "circle"
         },
         "mode": "markers",
         "name": "",
         "showlegend": false,
         "type": "scatter",
         "x": [
          6
         ],
         "xaxis": "x",
         "y": [
          18
         ],
         "yaxis": "y",
         "zmax": 6.339465910901892e+200,
         "zmin": -1076.3999999999996
        },
        {
         "colorbar": {
          "title": ""
         },
         "legendgroup": "",
         "marker": {
          "color": "rgba(0, 0, 0, 0.000)",
          "line": {
           "color": "rgba(0, 0, 0, 1.000)",
           "width": 0
          },
          "size": 2,
          "symbol": "circle"
         },
         "mode": "markers",
         "name": "",
         "showlegend": false,
         "type": "scatter",
         "x": [
          6
         ],
         "xaxis": "x",
         "y": [
          19
         ],
         "yaxis": "y",
         "zmax": 6.339465910901892e+200,
         "zmin": -1076.3999999999996
        },
        {
         "colorbar": {
          "title": ""
         },
         "legendgroup": "",
         "marker": {
          "color": "rgba(0, 0, 0, 0.000)",
          "line": {
           "color": "rgba(0, 0, 0, 1.000)",
           "width": 0
          },
          "size": 2,
          "symbol": "circle"
         },
         "mode": "markers",
         "name": "",
         "showlegend": false,
         "type": "scatter",
         "x": [
          6
         ],
         "xaxis": "x",
         "y": [
          20
         ],
         "yaxis": "y",
         "zmax": 6.339465910901892e+200,
         "zmin": -1076.3999999999996
        },
        {
         "colorbar": {
          "title": ""
         },
         "legendgroup": "",
         "marker": {
          "color": "rgba(0, 0, 0, 0.000)",
          "line": {
           "color": "rgba(0, 0, 0, 1.000)",
           "width": 0
          },
          "size": 2,
          "symbol": "circle"
         },
         "mode": "markers",
         "name": "",
         "showlegend": false,
         "type": "scatter",
         "x": [
          6
         ],
         "xaxis": "x",
         "y": [
          21
         ],
         "yaxis": "y",
         "zmax": 6.339465910901892e+200,
         "zmin": -1076.3999999999996
        },
        {
         "colorbar": {
          "title": ""
         },
         "legendgroup": "",
         "marker": {
          "color": "rgba(0, 0, 0, 0.000)",
          "line": {
           "color": "rgba(0, 0, 0, 1.000)",
           "width": 0
          },
          "size": 2,
          "symbol": "circle"
         },
         "mode": "markers",
         "name": "",
         "showlegend": false,
         "type": "scatter",
         "x": [
          6
         ],
         "xaxis": "x",
         "y": [
          22
         ],
         "yaxis": "y",
         "zmax": 6.339465910901892e+200,
         "zmin": -1076.3999999999996
        },
        {
         "colorbar": {
          "title": ""
         },
         "legendgroup": "",
         "marker": {
          "color": "rgba(0, 0, 0, 0.000)",
          "line": {
           "color": "rgba(0, 0, 0, 1.000)",
           "width": 0
          },
          "size": 2,
          "symbol": "circle"
         },
         "mode": "markers",
         "name": "",
         "showlegend": false,
         "type": "scatter",
         "x": [
          6
         ],
         "xaxis": "x",
         "y": [
          23
         ],
         "yaxis": "y",
         "zmax": 6.339465910901892e+200,
         "zmin": -1076.3999999999996
        },
        {
         "colorbar": {
          "title": ""
         },
         "legendgroup": "",
         "marker": {
          "color": "rgba(0, 0, 0, 0.000)",
          "line": {
           "color": "rgba(0, 0, 0, 1.000)",
           "width": 0
          },
          "size": 2,
          "symbol": "circle"
         },
         "mode": "markers",
         "name": "",
         "showlegend": false,
         "type": "scatter",
         "x": [
          6
         ],
         "xaxis": "x",
         "y": [
          24
         ],
         "yaxis": "y",
         "zmax": 6.339465910901892e+200,
         "zmin": -1076.3999999999996
        },
        {
         "colorbar": {
          "title": ""
         },
         "legendgroup": "",
         "marker": {
          "color": "rgba(0, 0, 0, 0.000)",
          "line": {
           "color": "rgba(0, 0, 0, 1.000)",
           "width": 0
          },
          "size": 2,
          "symbol": "circle"
         },
         "mode": "markers",
         "name": "",
         "showlegend": false,
         "type": "scatter",
         "x": [
          6
         ],
         "xaxis": "x",
         "y": [
          25
         ],
         "yaxis": "y",
         "zmax": 6.339465910901892e+200,
         "zmin": -1076.3999999999996
        },
        {
         "colorbar": {
          "title": ""
         },
         "legendgroup": "",
         "marker": {
          "color": "rgba(0, 0, 0, 0.000)",
          "line": {
           "color": "rgba(0, 0, 0, 1.000)",
           "width": 0
          },
          "size": 2,
          "symbol": "circle"
         },
         "mode": "markers",
         "name": "",
         "showlegend": false,
         "type": "scatter",
         "x": [
          6
         ],
         "xaxis": "x",
         "y": [
          26
         ],
         "yaxis": "y",
         "zmax": 6.339465910901892e+200,
         "zmin": -1076.3999999999996
        },
        {
         "colorbar": {
          "title": ""
         },
         "legendgroup": "",
         "marker": {
          "color": "rgba(0, 0, 4, 1.000)",
          "line": {
           "color": "rgba(0, 0, 0, 1.000)",
           "width": 0
          },
          "size": 2,
          "symbol": "circle"
         },
         "mode": "markers",
         "name": "",
         "showlegend": false,
         "type": "scatter",
         "x": [
          7
         ],
         "xaxis": "x",
         "y": [
          1
         ],
         "yaxis": "y",
         "zmax": 6.339465910901892e+200,
         "zmin": -1076.3999999999996
        },
        {
         "colorbar": {
          "title": ""
         },
         "legendgroup": "",
         "marker": {
          "color": "rgba(0, 0, 4, 1.000)",
          "line": {
           "color": "rgba(0, 0, 0, 1.000)",
           "width": 0
          },
          "size": 2,
          "symbol": "circle"
         },
         "mode": "markers",
         "name": "",
         "showlegend": false,
         "type": "scatter",
         "x": [
          7
         ],
         "xaxis": "x",
         "y": [
          2
         ],
         "yaxis": "y",
         "zmax": 6.339465910901892e+200,
         "zmin": -1076.3999999999996
        },
        {
         "colorbar": {
          "title": ""
         },
         "legendgroup": "",
         "marker": {
          "color": "rgba(0, 0, 4, 1.000)",
          "line": {
           "color": "rgba(0, 0, 0, 1.000)",
           "width": 0
          },
          "size": 2,
          "symbol": "circle"
         },
         "mode": "markers",
         "name": "",
         "showlegend": false,
         "type": "scatter",
         "x": [
          7
         ],
         "xaxis": "x",
         "y": [
          3
         ],
         "yaxis": "y",
         "zmax": 6.339465910901892e+200,
         "zmin": -1076.3999999999996
        },
        {
         "colorbar": {
          "title": ""
         },
         "legendgroup": "",
         "marker": {
          "color": "rgba(0, 0, 4, 1.000)",
          "line": {
           "color": "rgba(0, 0, 0, 1.000)",
           "width": 0
          },
          "size": 2,
          "symbol": "circle"
         },
         "mode": "markers",
         "name": "",
         "showlegend": false,
         "type": "scatter",
         "x": [
          7
         ],
         "xaxis": "x",
         "y": [
          4
         ],
         "yaxis": "y",
         "zmax": 6.339465910901892e+200,
         "zmin": -1076.3999999999996
        },
        {
         "colorbar": {
          "title": ""
         },
         "legendgroup": "",
         "marker": {
          "color": "rgba(0, 0, 4, 1.000)",
          "line": {
           "color": "rgba(0, 0, 0, 1.000)",
           "width": 0
          },
          "size": 2,
          "symbol": "circle"
         },
         "mode": "markers",
         "name": "",
         "showlegend": false,
         "type": "scatter",
         "x": [
          7
         ],
         "xaxis": "x",
         "y": [
          5
         ],
         "yaxis": "y",
         "zmax": 6.339465910901892e+200,
         "zmin": -1076.3999999999996
        },
        {
         "colorbar": {
          "title": ""
         },
         "legendgroup": "",
         "marker": {
          "color": "rgba(0, 0, 4, 1.000)",
          "line": {
           "color": "rgba(0, 0, 0, 1.000)",
           "width": 0
          },
          "size": 2,
          "symbol": "circle"
         },
         "mode": "markers",
         "name": "",
         "showlegend": false,
         "type": "scatter",
         "x": [
          7
         ],
         "xaxis": "x",
         "y": [
          6
         ],
         "yaxis": "y",
         "zmax": 6.339465910901892e+200,
         "zmin": -1076.3999999999996
        },
        {
         "colorbar": {
          "title": ""
         },
         "legendgroup": "",
         "marker": {
          "color": "rgba(0, 0, 4, 1.000)",
          "line": {
           "color": "rgba(0, 0, 0, 1.000)",
           "width": 0
          },
          "size": 2,
          "symbol": "circle"
         },
         "mode": "markers",
         "name": "",
         "showlegend": false,
         "type": "scatter",
         "x": [
          7
         ],
         "xaxis": "x",
         "y": [
          7
         ],
         "yaxis": "y",
         "zmax": 6.339465910901892e+200,
         "zmin": -1076.3999999999996
        },
        {
         "colorbar": {
          "title": ""
         },
         "legendgroup": "",
         "marker": {
          "color": "rgba(0, 0, 0, 0.000)",
          "line": {
           "color": "rgba(0, 0, 0, 1.000)",
           "width": 0
          },
          "size": 2,
          "symbol": "circle"
         },
         "mode": "markers",
         "name": "",
         "showlegend": false,
         "type": "scatter",
         "x": [
          7
         ],
         "xaxis": "x",
         "y": [
          8
         ],
         "yaxis": "y",
         "zmax": 6.339465910901892e+200,
         "zmin": -1076.3999999999996
        },
        {
         "colorbar": {
          "title": ""
         },
         "legendgroup": "",
         "marker": {
          "color": "rgba(0, 0, 0, 0.000)",
          "line": {
           "color": "rgba(0, 0, 0, 1.000)",
           "width": 0
          },
          "size": 2,
          "symbol": "circle"
         },
         "mode": "markers",
         "name": "",
         "showlegend": false,
         "type": "scatter",
         "x": [
          7
         ],
         "xaxis": "x",
         "y": [
          9
         ],
         "yaxis": "y",
         "zmax": 6.339465910901892e+200,
         "zmin": -1076.3999999999996
        },
        {
         "colorbar": {
          "title": ""
         },
         "legendgroup": "",
         "marker": {
          "color": "rgba(0, 0, 0, 0.000)",
          "line": {
           "color": "rgba(0, 0, 0, 1.000)",
           "width": 0
          },
          "size": 2,
          "symbol": "circle"
         },
         "mode": "markers",
         "name": "",
         "showlegend": false,
         "type": "scatter",
         "x": [
          7
         ],
         "xaxis": "x",
         "y": [
          10
         ],
         "yaxis": "y",
         "zmax": 6.339465910901892e+200,
         "zmin": -1076.3999999999996
        },
        {
         "colorbar": {
          "title": ""
         },
         "legendgroup": "",
         "marker": {
          "color": "rgba(0, 0, 0, 0.000)",
          "line": {
           "color": "rgba(0, 0, 0, 1.000)",
           "width": 0
          },
          "size": 2,
          "symbol": "circle"
         },
         "mode": "markers",
         "name": "",
         "showlegend": false,
         "type": "scatter",
         "x": [
          7
         ],
         "xaxis": "x",
         "y": [
          11
         ],
         "yaxis": "y",
         "zmax": 6.339465910901892e+200,
         "zmin": -1076.3999999999996
        },
        {
         "colorbar": {
          "title": ""
         },
         "legendgroup": "",
         "marker": {
          "color": "rgba(0, 0, 0, 0.000)",
          "line": {
           "color": "rgba(0, 0, 0, 1.000)",
           "width": 0
          },
          "size": 2,
          "symbol": "circle"
         },
         "mode": "markers",
         "name": "",
         "showlegend": false,
         "type": "scatter",
         "x": [
          7
         ],
         "xaxis": "x",
         "y": [
          12
         ],
         "yaxis": "y",
         "zmax": 6.339465910901892e+200,
         "zmin": -1076.3999999999996
        },
        {
         "colorbar": {
          "title": ""
         },
         "legendgroup": "",
         "marker": {
          "color": "rgba(0, 0, 0, 0.000)",
          "line": {
           "color": "rgba(0, 0, 0, 1.000)",
           "width": 0
          },
          "size": 2,
          "symbol": "circle"
         },
         "mode": "markers",
         "name": "",
         "showlegend": false,
         "type": "scatter",
         "x": [
          7
         ],
         "xaxis": "x",
         "y": [
          13
         ],
         "yaxis": "y",
         "zmax": 6.339465910901892e+200,
         "zmin": -1076.3999999999996
        },
        {
         "colorbar": {
          "title": ""
         },
         "legendgroup": "",
         "marker": {
          "color": "rgba(0, 0, 0, 0.000)",
          "line": {
           "color": "rgba(0, 0, 0, 1.000)",
           "width": 0
          },
          "size": 2,
          "symbol": "circle"
         },
         "mode": "markers",
         "name": "",
         "showlegend": false,
         "type": "scatter",
         "x": [
          7
         ],
         "xaxis": "x",
         "y": [
          14
         ],
         "yaxis": "y",
         "zmax": 6.339465910901892e+200,
         "zmin": -1076.3999999999996
        },
        {
         "colorbar": {
          "title": ""
         },
         "legendgroup": "",
         "marker": {
          "color": "rgba(0, 0, 0, 0.000)",
          "line": {
           "color": "rgba(0, 0, 0, 1.000)",
           "width": 0
          },
          "size": 2,
          "symbol": "circle"
         },
         "mode": "markers",
         "name": "",
         "showlegend": false,
         "type": "scatter",
         "x": [
          7
         ],
         "xaxis": "x",
         "y": [
          15
         ],
         "yaxis": "y",
         "zmax": 6.339465910901892e+200,
         "zmin": -1076.3999999999996
        },
        {
         "colorbar": {
          "title": ""
         },
         "legendgroup": "",
         "marker": {
          "color": "rgba(0, 0, 0, 0.000)",
          "line": {
           "color": "rgba(0, 0, 0, 1.000)",
           "width": 0
          },
          "size": 2,
          "symbol": "circle"
         },
         "mode": "markers",
         "name": "",
         "showlegend": false,
         "type": "scatter",
         "x": [
          7
         ],
         "xaxis": "x",
         "y": [
          16
         ],
         "yaxis": "y",
         "zmax": 6.339465910901892e+200,
         "zmin": -1076.3999999999996
        },
        {
         "colorbar": {
          "title": ""
         },
         "legendgroup": "",
         "marker": {
          "color": "rgba(0, 0, 0, 0.000)",
          "line": {
           "color": "rgba(0, 0, 0, 1.000)",
           "width": 0
          },
          "size": 2,
          "symbol": "circle"
         },
         "mode": "markers",
         "name": "",
         "showlegend": false,
         "type": "scatter",
         "x": [
          7
         ],
         "xaxis": "x",
         "y": [
          17
         ],
         "yaxis": "y",
         "zmax": 6.339465910901892e+200,
         "zmin": -1076.3999999999996
        },
        {
         "colorbar": {
          "title": ""
         },
         "legendgroup": "",
         "marker": {
          "color": "rgba(0, 0, 0, 0.000)",
          "line": {
           "color": "rgba(0, 0, 0, 1.000)",
           "width": 0
          },
          "size": 2,
          "symbol": "circle"
         },
         "mode": "markers",
         "name": "",
         "showlegend": false,
         "type": "scatter",
         "x": [
          7
         ],
         "xaxis": "x",
         "y": [
          18
         ],
         "yaxis": "y",
         "zmax": 6.339465910901892e+200,
         "zmin": -1076.3999999999996
        },
        {
         "colorbar": {
          "title": ""
         },
         "legendgroup": "",
         "marker": {
          "color": "rgba(0, 0, 0, 0.000)",
          "line": {
           "color": "rgba(0, 0, 0, 1.000)",
           "width": 0
          },
          "size": 2,
          "symbol": "circle"
         },
         "mode": "markers",
         "name": "",
         "showlegend": false,
         "type": "scatter",
         "x": [
          7
         ],
         "xaxis": "x",
         "y": [
          19
         ],
         "yaxis": "y",
         "zmax": 6.339465910901892e+200,
         "zmin": -1076.3999999999996
        },
        {
         "colorbar": {
          "title": ""
         },
         "legendgroup": "",
         "marker": {
          "color": "rgba(0, 0, 0, 0.000)",
          "line": {
           "color": "rgba(0, 0, 0, 1.000)",
           "width": 0
          },
          "size": 2,
          "symbol": "circle"
         },
         "mode": "markers",
         "name": "",
         "showlegend": false,
         "type": "scatter",
         "x": [
          7
         ],
         "xaxis": "x",
         "y": [
          20
         ],
         "yaxis": "y",
         "zmax": 6.339465910901892e+200,
         "zmin": -1076.3999999999996
        },
        {
         "colorbar": {
          "title": ""
         },
         "legendgroup": "",
         "marker": {
          "color": "rgba(0, 0, 0, 0.000)",
          "line": {
           "color": "rgba(0, 0, 0, 1.000)",
           "width": 0
          },
          "size": 2,
          "symbol": "circle"
         },
         "mode": "markers",
         "name": "",
         "showlegend": false,
         "type": "scatter",
         "x": [
          7
         ],
         "xaxis": "x",
         "y": [
          21
         ],
         "yaxis": "y",
         "zmax": 6.339465910901892e+200,
         "zmin": -1076.3999999999996
        },
        {
         "colorbar": {
          "title": ""
         },
         "legendgroup": "",
         "marker": {
          "color": "rgba(0, 0, 0, 0.000)",
          "line": {
           "color": "rgba(0, 0, 0, 1.000)",
           "width": 0
          },
          "size": 2,
          "symbol": "circle"
         },
         "mode": "markers",
         "name": "",
         "showlegend": false,
         "type": "scatter",
         "x": [
          7
         ],
         "xaxis": "x",
         "y": [
          22
         ],
         "yaxis": "y",
         "zmax": 6.339465910901892e+200,
         "zmin": -1076.3999999999996
        },
        {
         "colorbar": {
          "title": ""
         },
         "legendgroup": "",
         "marker": {
          "color": "rgba(0, 0, 0, 0.000)",
          "line": {
           "color": "rgba(0, 0, 0, 1.000)",
           "width": 0
          },
          "size": 2,
          "symbol": "circle"
         },
         "mode": "markers",
         "name": "",
         "showlegend": false,
         "type": "scatter",
         "x": [
          7
         ],
         "xaxis": "x",
         "y": [
          23
         ],
         "yaxis": "y",
         "zmax": 6.339465910901892e+200,
         "zmin": -1076.3999999999996
        },
        {
         "colorbar": {
          "title": ""
         },
         "legendgroup": "",
         "marker": {
          "color": "rgba(0, 0, 0, 0.000)",
          "line": {
           "color": "rgba(0, 0, 0, 1.000)",
           "width": 0
          },
          "size": 2,
          "symbol": "circle"
         },
         "mode": "markers",
         "name": "",
         "showlegend": false,
         "type": "scatter",
         "x": [
          7
         ],
         "xaxis": "x",
         "y": [
          24
         ],
         "yaxis": "y",
         "zmax": 6.339465910901892e+200,
         "zmin": -1076.3999999999996
        },
        {
         "colorbar": {
          "title": ""
         },
         "legendgroup": "",
         "marker": {
          "color": "rgba(0, 0, 0, 0.000)",
          "line": {
           "color": "rgba(0, 0, 0, 1.000)",
           "width": 0
          },
          "size": 2,
          "symbol": "circle"
         },
         "mode": "markers",
         "name": "",
         "showlegend": false,
         "type": "scatter",
         "x": [
          7
         ],
         "xaxis": "x",
         "y": [
          25
         ],
         "yaxis": "y",
         "zmax": 6.339465910901892e+200,
         "zmin": -1076.3999999999996
        },
        {
         "colorbar": {
          "title": ""
         },
         "legendgroup": "",
         "marker": {
          "color": "rgba(0, 0, 0, 0.000)",
          "line": {
           "color": "rgba(0, 0, 0, 1.000)",
           "width": 0
          },
          "size": 2,
          "symbol": "circle"
         },
         "mode": "markers",
         "name": "",
         "showlegend": false,
         "type": "scatter",
         "x": [
          7
         ],
         "xaxis": "x",
         "y": [
          26
         ],
         "yaxis": "y",
         "zmax": 6.339465910901892e+200,
         "zmin": -1076.3999999999996
        },
        {
         "colorbar": {
          "title": ""
         },
         "legendgroup": "",
         "marker": {
          "color": "rgba(0, 0, 4, 1.000)",
          "line": {
           "color": "rgba(0, 0, 0, 1.000)",
           "width": 0
          },
          "size": 2,
          "symbol": "circle"
         },
         "mode": "markers",
         "name": "",
         "showlegend": false,
         "type": "scatter",
         "x": [
          8
         ],
         "xaxis": "x",
         "y": [
          1
         ],
         "yaxis": "y",
         "zmax": 6.339465910901892e+200,
         "zmin": -1076.3999999999996
        },
        {
         "colorbar": {
          "title": ""
         },
         "legendgroup": "",
         "marker": {
          "color": "rgba(0, 0, 4, 1.000)",
          "line": {
           "color": "rgba(0, 0, 0, 1.000)",
           "width": 0
          },
          "size": 2,
          "symbol": "circle"
         },
         "mode": "markers",
         "name": "",
         "showlegend": false,
         "type": "scatter",
         "x": [
          8
         ],
         "xaxis": "x",
         "y": [
          2
         ],
         "yaxis": "y",
         "zmax": 6.339465910901892e+200,
         "zmin": -1076.3999999999996
        },
        {
         "colorbar": {
          "title": ""
         },
         "legendgroup": "",
         "marker": {
          "color": "rgba(0, 0, 4, 1.000)",
          "line": {
           "color": "rgba(0, 0, 0, 1.000)",
           "width": 0
          },
          "size": 2,
          "symbol": "circle"
         },
         "mode": "markers",
         "name": "",
         "showlegend": false,
         "type": "scatter",
         "x": [
          8
         ],
         "xaxis": "x",
         "y": [
          3
         ],
         "yaxis": "y",
         "zmax": 6.339465910901892e+200,
         "zmin": -1076.3999999999996
        },
        {
         "colorbar": {
          "title": ""
         },
         "legendgroup": "",
         "marker": {
          "color": "rgba(0, 0, 4, 1.000)",
          "line": {
           "color": "rgba(0, 0, 0, 1.000)",
           "width": 0
          },
          "size": 2,
          "symbol": "circle"
         },
         "mode": "markers",
         "name": "",
         "showlegend": false,
         "type": "scatter",
         "x": [
          8
         ],
         "xaxis": "x",
         "y": [
          4
         ],
         "yaxis": "y",
         "zmax": 6.339465910901892e+200,
         "zmin": -1076.3999999999996
        },
        {
         "colorbar": {
          "title": ""
         },
         "legendgroup": "",
         "marker": {
          "color": "rgba(0, 0, 4, 1.000)",
          "line": {
           "color": "rgba(0, 0, 0, 1.000)",
           "width": 0
          },
          "size": 2,
          "symbol": "circle"
         },
         "mode": "markers",
         "name": "",
         "showlegend": false,
         "type": "scatter",
         "x": [
          8
         ],
         "xaxis": "x",
         "y": [
          5
         ],
         "yaxis": "y",
         "zmax": 6.339465910901892e+200,
         "zmin": -1076.3999999999996
        },
        {
         "colorbar": {
          "title": ""
         },
         "legendgroup": "",
         "marker": {
          "color": "rgba(0, 0, 4, 1.000)",
          "line": {
           "color": "rgba(0, 0, 0, 1.000)",
           "width": 0
          },
          "size": 2,
          "symbol": "circle"
         },
         "mode": "markers",
         "name": "",
         "showlegend": false,
         "type": "scatter",
         "x": [
          8
         ],
         "xaxis": "x",
         "y": [
          6
         ],
         "yaxis": "y",
         "zmax": 6.339465910901892e+200,
         "zmin": -1076.3999999999996
        },
        {
         "colorbar": {
          "title": ""
         },
         "legendgroup": "",
         "marker": {
          "color": "rgba(0, 0, 4, 1.000)",
          "line": {
           "color": "rgba(0, 0, 0, 1.000)",
           "width": 0
          },
          "size": 2,
          "symbol": "circle"
         },
         "mode": "markers",
         "name": "",
         "showlegend": false,
         "type": "scatter",
         "x": [
          8
         ],
         "xaxis": "x",
         "y": [
          7
         ],
         "yaxis": "y",
         "zmax": 6.339465910901892e+200,
         "zmin": -1076.3999999999996
        },
        {
         "colorbar": {
          "title": ""
         },
         "legendgroup": "",
         "marker": {
          "color": "rgba(0, 0, 0, 0.000)",
          "line": {
           "color": "rgba(0, 0, 0, 1.000)",
           "width": 0
          },
          "size": 2,
          "symbol": "circle"
         },
         "mode": "markers",
         "name": "",
         "showlegend": false,
         "type": "scatter",
         "x": [
          8
         ],
         "xaxis": "x",
         "y": [
          8
         ],
         "yaxis": "y",
         "zmax": 6.339465910901892e+200,
         "zmin": -1076.3999999999996
        },
        {
         "colorbar": {
          "title": ""
         },
         "legendgroup": "",
         "marker": {
          "color": "rgba(0, 0, 0, 0.000)",
          "line": {
           "color": "rgba(0, 0, 0, 1.000)",
           "width": 0
          },
          "size": 2,
          "symbol": "circle"
         },
         "mode": "markers",
         "name": "",
         "showlegend": false,
         "type": "scatter",
         "x": [
          8
         ],
         "xaxis": "x",
         "y": [
          9
         ],
         "yaxis": "y",
         "zmax": 6.339465910901892e+200,
         "zmin": -1076.3999999999996
        },
        {
         "colorbar": {
          "title": ""
         },
         "legendgroup": "",
         "marker": {
          "color": "rgba(0, 0, 0, 0.000)",
          "line": {
           "color": "rgba(0, 0, 0, 1.000)",
           "width": 0
          },
          "size": 2,
          "symbol": "circle"
         },
         "mode": "markers",
         "name": "",
         "showlegend": false,
         "type": "scatter",
         "x": [
          8
         ],
         "xaxis": "x",
         "y": [
          10
         ],
         "yaxis": "y",
         "zmax": 6.339465910901892e+200,
         "zmin": -1076.3999999999996
        },
        {
         "colorbar": {
          "title": ""
         },
         "legendgroup": "",
         "marker": {
          "color": "rgba(0, 0, 0, 0.000)",
          "line": {
           "color": "rgba(0, 0, 0, 1.000)",
           "width": 0
          },
          "size": 2,
          "symbol": "circle"
         },
         "mode": "markers",
         "name": "",
         "showlegend": false,
         "type": "scatter",
         "x": [
          8
         ],
         "xaxis": "x",
         "y": [
          11
         ],
         "yaxis": "y",
         "zmax": 6.339465910901892e+200,
         "zmin": -1076.3999999999996
        },
        {
         "colorbar": {
          "title": ""
         },
         "legendgroup": "",
         "marker": {
          "color": "rgba(0, 0, 0, 0.000)",
          "line": {
           "color": "rgba(0, 0, 0, 1.000)",
           "width": 0
          },
          "size": 2,
          "symbol": "circle"
         },
         "mode": "markers",
         "name": "",
         "showlegend": false,
         "type": "scatter",
         "x": [
          8
         ],
         "xaxis": "x",
         "y": [
          12
         ],
         "yaxis": "y",
         "zmax": 6.339465910901892e+200,
         "zmin": -1076.3999999999996
        },
        {
         "colorbar": {
          "title": ""
         },
         "legendgroup": "",
         "marker": {
          "color": "rgba(0, 0, 0, 0.000)",
          "line": {
           "color": "rgba(0, 0, 0, 1.000)",
           "width": 0
          },
          "size": 2,
          "symbol": "circle"
         },
         "mode": "markers",
         "name": "",
         "showlegend": false,
         "type": "scatter",
         "x": [
          8
         ],
         "xaxis": "x",
         "y": [
          13
         ],
         "yaxis": "y",
         "zmax": 6.339465910901892e+200,
         "zmin": -1076.3999999999996
        },
        {
         "colorbar": {
          "title": ""
         },
         "legendgroup": "",
         "marker": {
          "color": "rgba(0, 0, 0, 0.000)",
          "line": {
           "color": "rgba(0, 0, 0, 1.000)",
           "width": 0
          },
          "size": 2,
          "symbol": "circle"
         },
         "mode": "markers",
         "name": "",
         "showlegend": false,
         "type": "scatter",
         "x": [
          8
         ],
         "xaxis": "x",
         "y": [
          14
         ],
         "yaxis": "y",
         "zmax": 6.339465910901892e+200,
         "zmin": -1076.3999999999996
        },
        {
         "colorbar": {
          "title": ""
         },
         "legendgroup": "",
         "marker": {
          "color": "rgba(0, 0, 0, 0.000)",
          "line": {
           "color": "rgba(0, 0, 0, 1.000)",
           "width": 0
          },
          "size": 2,
          "symbol": "circle"
         },
         "mode": "markers",
         "name": "",
         "showlegend": false,
         "type": "scatter",
         "x": [
          8
         ],
         "xaxis": "x",
         "y": [
          15
         ],
         "yaxis": "y",
         "zmax": 6.339465910901892e+200,
         "zmin": -1076.3999999999996
        },
        {
         "colorbar": {
          "title": ""
         },
         "legendgroup": "",
         "marker": {
          "color": "rgba(0, 0, 0, 0.000)",
          "line": {
           "color": "rgba(0, 0, 0, 1.000)",
           "width": 0
          },
          "size": 2,
          "symbol": "circle"
         },
         "mode": "markers",
         "name": "",
         "showlegend": false,
         "type": "scatter",
         "x": [
          8
         ],
         "xaxis": "x",
         "y": [
          16
         ],
         "yaxis": "y",
         "zmax": 6.339465910901892e+200,
         "zmin": -1076.3999999999996
        },
        {
         "colorbar": {
          "title": ""
         },
         "legendgroup": "",
         "marker": {
          "color": "rgba(0, 0, 0, 0.000)",
          "line": {
           "color": "rgba(0, 0, 0, 1.000)",
           "width": 0
          },
          "size": 2,
          "symbol": "circle"
         },
         "mode": "markers",
         "name": "",
         "showlegend": false,
         "type": "scatter",
         "x": [
          8
         ],
         "xaxis": "x",
         "y": [
          17
         ],
         "yaxis": "y",
         "zmax": 6.339465910901892e+200,
         "zmin": -1076.3999999999996
        },
        {
         "colorbar": {
          "title": ""
         },
         "legendgroup": "",
         "marker": {
          "color": "rgba(0, 0, 0, 0.000)",
          "line": {
           "color": "rgba(0, 0, 0, 1.000)",
           "width": 0
          },
          "size": 2,
          "symbol": "circle"
         },
         "mode": "markers",
         "name": "",
         "showlegend": false,
         "type": "scatter",
         "x": [
          8
         ],
         "xaxis": "x",
         "y": [
          18
         ],
         "yaxis": "y",
         "zmax": 6.339465910901892e+200,
         "zmin": -1076.3999999999996
        },
        {
         "colorbar": {
          "title": ""
         },
         "legendgroup": "",
         "marker": {
          "color": "rgba(0, 0, 0, 0.000)",
          "line": {
           "color": "rgba(0, 0, 0, 1.000)",
           "width": 0
          },
          "size": 2,
          "symbol": "circle"
         },
         "mode": "markers",
         "name": "",
         "showlegend": false,
         "type": "scatter",
         "x": [
          8
         ],
         "xaxis": "x",
         "y": [
          19
         ],
         "yaxis": "y",
         "zmax": 6.339465910901892e+200,
         "zmin": -1076.3999999999996
        },
        {
         "colorbar": {
          "title": ""
         },
         "legendgroup": "",
         "marker": {
          "color": "rgba(0, 0, 0, 0.000)",
          "line": {
           "color": "rgba(0, 0, 0, 1.000)",
           "width": 0
          },
          "size": 2,
          "symbol": "circle"
         },
         "mode": "markers",
         "name": "",
         "showlegend": false,
         "type": "scatter",
         "x": [
          8
         ],
         "xaxis": "x",
         "y": [
          20
         ],
         "yaxis": "y",
         "zmax": 6.339465910901892e+200,
         "zmin": -1076.3999999999996
        },
        {
         "colorbar": {
          "title": ""
         },
         "legendgroup": "",
         "marker": {
          "color": "rgba(0, 0, 0, 0.000)",
          "line": {
           "color": "rgba(0, 0, 0, 1.000)",
           "width": 0
          },
          "size": 2,
          "symbol": "circle"
         },
         "mode": "markers",
         "name": "",
         "showlegend": false,
         "type": "scatter",
         "x": [
          8
         ],
         "xaxis": "x",
         "y": [
          21
         ],
         "yaxis": "y",
         "zmax": 6.339465910901892e+200,
         "zmin": -1076.3999999999996
        },
        {
         "colorbar": {
          "title": ""
         },
         "legendgroup": "",
         "marker": {
          "color": "rgba(0, 0, 0, 0.000)",
          "line": {
           "color": "rgba(0, 0, 0, 1.000)",
           "width": 0
          },
          "size": 2,
          "symbol": "circle"
         },
         "mode": "markers",
         "name": "",
         "showlegend": false,
         "type": "scatter",
         "x": [
          8
         ],
         "xaxis": "x",
         "y": [
          22
         ],
         "yaxis": "y",
         "zmax": 6.339465910901892e+200,
         "zmin": -1076.3999999999996
        },
        {
         "colorbar": {
          "title": ""
         },
         "legendgroup": "",
         "marker": {
          "color": "rgba(0, 0, 0, 0.000)",
          "line": {
           "color": "rgba(0, 0, 0, 1.000)",
           "width": 0
          },
          "size": 2,
          "symbol": "circle"
         },
         "mode": "markers",
         "name": "",
         "showlegend": false,
         "type": "scatter",
         "x": [
          8
         ],
         "xaxis": "x",
         "y": [
          23
         ],
         "yaxis": "y",
         "zmax": 6.339465910901892e+200,
         "zmin": -1076.3999999999996
        },
        {
         "colorbar": {
          "title": ""
         },
         "legendgroup": "",
         "marker": {
          "color": "rgba(0, 0, 0, 0.000)",
          "line": {
           "color": "rgba(0, 0, 0, 1.000)",
           "width": 0
          },
          "size": 2,
          "symbol": "circle"
         },
         "mode": "markers",
         "name": "",
         "showlegend": false,
         "type": "scatter",
         "x": [
          8
         ],
         "xaxis": "x",
         "y": [
          24
         ],
         "yaxis": "y",
         "zmax": 6.339465910901892e+200,
         "zmin": -1076.3999999999996
        },
        {
         "colorbar": {
          "title": ""
         },
         "legendgroup": "",
         "marker": {
          "color": "rgba(0, 0, 0, 0.000)",
          "line": {
           "color": "rgba(0, 0, 0, 1.000)",
           "width": 0
          },
          "size": 2,
          "symbol": "circle"
         },
         "mode": "markers",
         "name": "",
         "showlegend": false,
         "type": "scatter",
         "x": [
          8
         ],
         "xaxis": "x",
         "y": [
          25
         ],
         "yaxis": "y",
         "zmax": 6.339465910901892e+200,
         "zmin": -1076.3999999999996
        },
        {
         "colorbar": {
          "title": ""
         },
         "legendgroup": "",
         "marker": {
          "color": "rgba(0, 0, 0, 0.000)",
          "line": {
           "color": "rgba(0, 0, 0, 1.000)",
           "width": 0
          },
          "size": 2,
          "symbol": "circle"
         },
         "mode": "markers",
         "name": "",
         "showlegend": false,
         "type": "scatter",
         "x": [
          8
         ],
         "xaxis": "x",
         "y": [
          26
         ],
         "yaxis": "y",
         "zmax": 6.339465910901892e+200,
         "zmin": -1076.3999999999996
        },
        {
         "colorbar": {
          "title": ""
         },
         "legendgroup": "",
         "marker": {
          "color": "rgba(0, 0, 4, 1.000)",
          "line": {
           "color": "rgba(0, 0, 0, 1.000)",
           "width": 0
          },
          "size": 2,
          "symbol": "circle"
         },
         "mode": "markers",
         "name": "",
         "showlegend": false,
         "type": "scatter",
         "x": [
          9
         ],
         "xaxis": "x",
         "y": [
          1
         ],
         "yaxis": "y",
         "zmax": 6.339465910901892e+200,
         "zmin": -1076.3999999999996
        },
        {
         "colorbar": {
          "title": ""
         },
         "legendgroup": "",
         "marker": {
          "color": "rgba(0, 0, 4, 1.000)",
          "line": {
           "color": "rgba(0, 0, 0, 1.000)",
           "width": 0
          },
          "size": 2,
          "symbol": "circle"
         },
         "mode": "markers",
         "name": "",
         "showlegend": false,
         "type": "scatter",
         "x": [
          9
         ],
         "xaxis": "x",
         "y": [
          2
         ],
         "yaxis": "y",
         "zmax": 6.339465910901892e+200,
         "zmin": -1076.3999999999996
        },
        {
         "colorbar": {
          "title": ""
         },
         "legendgroup": "",
         "marker": {
          "color": "rgba(0, 0, 4, 1.000)",
          "line": {
           "color": "rgba(0, 0, 0, 1.000)",
           "width": 0
          },
          "size": 2,
          "symbol": "circle"
         },
         "mode": "markers",
         "name": "",
         "showlegend": false,
         "type": "scatter",
         "x": [
          9
         ],
         "xaxis": "x",
         "y": [
          3
         ],
         "yaxis": "y",
         "zmax": 6.339465910901892e+200,
         "zmin": -1076.3999999999996
        },
        {
         "colorbar": {
          "title": ""
         },
         "legendgroup": "",
         "marker": {
          "color": "rgba(0, 0, 4, 1.000)",
          "line": {
           "color": "rgba(0, 0, 0, 1.000)",
           "width": 0
          },
          "size": 2,
          "symbol": "circle"
         },
         "mode": "markers",
         "name": "",
         "showlegend": false,
         "type": "scatter",
         "x": [
          9
         ],
         "xaxis": "x",
         "y": [
          4
         ],
         "yaxis": "y",
         "zmax": 6.339465910901892e+200,
         "zmin": -1076.3999999999996
        },
        {
         "colorbar": {
          "title": ""
         },
         "legendgroup": "",
         "marker": {
          "color": "rgba(0, 0, 4, 1.000)",
          "line": {
           "color": "rgba(0, 0, 0, 1.000)",
           "width": 0
          },
          "size": 2,
          "symbol": "circle"
         },
         "mode": "markers",
         "name": "",
         "showlegend": false,
         "type": "scatter",
         "x": [
          9
         ],
         "xaxis": "x",
         "y": [
          5
         ],
         "yaxis": "y",
         "zmax": 6.339465910901892e+200,
         "zmin": -1076.3999999999996
        },
        {
         "colorbar": {
          "title": ""
         },
         "legendgroup": "",
         "marker": {
          "color": "rgba(0, 0, 4, 1.000)",
          "line": {
           "color": "rgba(0, 0, 0, 1.000)",
           "width": 0
          },
          "size": 2,
          "symbol": "circle"
         },
         "mode": "markers",
         "name": "",
         "showlegend": false,
         "type": "scatter",
         "x": [
          9
         ],
         "xaxis": "x",
         "y": [
          6
         ],
         "yaxis": "y",
         "zmax": 6.339465910901892e+200,
         "zmin": -1076.3999999999996
        },
        {
         "colorbar": {
          "title": ""
         },
         "legendgroup": "",
         "marker": {
          "color": "rgba(0, 0, 4, 1.000)",
          "line": {
           "color": "rgba(0, 0, 0, 1.000)",
           "width": 0
          },
          "size": 2,
          "symbol": "circle"
         },
         "mode": "markers",
         "name": "",
         "showlegend": false,
         "type": "scatter",
         "x": [
          9
         ],
         "xaxis": "x",
         "y": [
          7
         ],
         "yaxis": "y",
         "zmax": 6.339465910901892e+200,
         "zmin": -1076.3999999999996
        },
        {
         "colorbar": {
          "title": ""
         },
         "legendgroup": "",
         "marker": {
          "color": "rgba(0, 0, 0, 0.000)",
          "line": {
           "color": "rgba(0, 0, 0, 1.000)",
           "width": 0
          },
          "size": 2,
          "symbol": "circle"
         },
         "mode": "markers",
         "name": "",
         "showlegend": false,
         "type": "scatter",
         "x": [
          9
         ],
         "xaxis": "x",
         "y": [
          8
         ],
         "yaxis": "y",
         "zmax": 6.339465910901892e+200,
         "zmin": -1076.3999999999996
        },
        {
         "colorbar": {
          "title": ""
         },
         "legendgroup": "",
         "marker": {
          "color": "rgba(0, 0, 0, 0.000)",
          "line": {
           "color": "rgba(0, 0, 0, 1.000)",
           "width": 0
          },
          "size": 2,
          "symbol": "circle"
         },
         "mode": "markers",
         "name": "",
         "showlegend": false,
         "type": "scatter",
         "x": [
          9
         ],
         "xaxis": "x",
         "y": [
          9
         ],
         "yaxis": "y",
         "zmax": 6.339465910901892e+200,
         "zmin": -1076.3999999999996
        },
        {
         "colorbar": {
          "title": ""
         },
         "legendgroup": "",
         "marker": {
          "color": "rgba(0, 0, 0, 0.000)",
          "line": {
           "color": "rgba(0, 0, 0, 1.000)",
           "width": 0
          },
          "size": 2,
          "symbol": "circle"
         },
         "mode": "markers",
         "name": "",
         "showlegend": false,
         "type": "scatter",
         "x": [
          9
         ],
         "xaxis": "x",
         "y": [
          10
         ],
         "yaxis": "y",
         "zmax": 6.339465910901892e+200,
         "zmin": -1076.3999999999996
        },
        {
         "colorbar": {
          "title": ""
         },
         "legendgroup": "",
         "marker": {
          "color": "rgba(0, 0, 0, 0.000)",
          "line": {
           "color": "rgba(0, 0, 0, 1.000)",
           "width": 0
          },
          "size": 2,
          "symbol": "circle"
         },
         "mode": "markers",
         "name": "",
         "showlegend": false,
         "type": "scatter",
         "x": [
          9
         ],
         "xaxis": "x",
         "y": [
          11
         ],
         "yaxis": "y",
         "zmax": 6.339465910901892e+200,
         "zmin": -1076.3999999999996
        },
        {
         "colorbar": {
          "title": ""
         },
         "legendgroup": "",
         "marker": {
          "color": "rgba(0, 0, 0, 0.000)",
          "line": {
           "color": "rgba(0, 0, 0, 1.000)",
           "width": 0
          },
          "size": 2,
          "symbol": "circle"
         },
         "mode": "markers",
         "name": "",
         "showlegend": false,
         "type": "scatter",
         "x": [
          9
         ],
         "xaxis": "x",
         "y": [
          12
         ],
         "yaxis": "y",
         "zmax": 6.339465910901892e+200,
         "zmin": -1076.3999999999996
        },
        {
         "colorbar": {
          "title": ""
         },
         "legendgroup": "",
         "marker": {
          "color": "rgba(0, 0, 0, 0.000)",
          "line": {
           "color": "rgba(0, 0, 0, 1.000)",
           "width": 0
          },
          "size": 2,
          "symbol": "circle"
         },
         "mode": "markers",
         "name": "",
         "showlegend": false,
         "type": "scatter",
         "x": [
          9
         ],
         "xaxis": "x",
         "y": [
          13
         ],
         "yaxis": "y",
         "zmax": 6.339465910901892e+200,
         "zmin": -1076.3999999999996
        },
        {
         "colorbar": {
          "title": ""
         },
         "legendgroup": "",
         "marker": {
          "color": "rgba(0, 0, 0, 0.000)",
          "line": {
           "color": "rgba(0, 0, 0, 1.000)",
           "width": 0
          },
          "size": 2,
          "symbol": "circle"
         },
         "mode": "markers",
         "name": "",
         "showlegend": false,
         "type": "scatter",
         "x": [
          9
         ],
         "xaxis": "x",
         "y": [
          14
         ],
         "yaxis": "y",
         "zmax": 6.339465910901892e+200,
         "zmin": -1076.3999999999996
        },
        {
         "colorbar": {
          "title": ""
         },
         "legendgroup": "",
         "marker": {
          "color": "rgba(0, 0, 0, 0.000)",
          "line": {
           "color": "rgba(0, 0, 0, 1.000)",
           "width": 0
          },
          "size": 2,
          "symbol": "circle"
         },
         "mode": "markers",
         "name": "",
         "showlegend": false,
         "type": "scatter",
         "x": [
          9
         ],
         "xaxis": "x",
         "y": [
          15
         ],
         "yaxis": "y",
         "zmax": 6.339465910901892e+200,
         "zmin": -1076.3999999999996
        },
        {
         "colorbar": {
          "title": ""
         },
         "legendgroup": "",
         "marker": {
          "color": "rgba(0, 0, 0, 0.000)",
          "line": {
           "color": "rgba(0, 0, 0, 1.000)",
           "width": 0
          },
          "size": 2,
          "symbol": "circle"
         },
         "mode": "markers",
         "name": "",
         "showlegend": false,
         "type": "scatter",
         "x": [
          9
         ],
         "xaxis": "x",
         "y": [
          16
         ],
         "yaxis": "y",
         "zmax": 6.339465910901892e+200,
         "zmin": -1076.3999999999996
        },
        {
         "colorbar": {
          "title": ""
         },
         "legendgroup": "",
         "marker": {
          "color": "rgba(0, 0, 0, 0.000)",
          "line": {
           "color": "rgba(0, 0, 0, 1.000)",
           "width": 0
          },
          "size": 2,
          "symbol": "circle"
         },
         "mode": "markers",
         "name": "",
         "showlegend": false,
         "type": "scatter",
         "x": [
          9
         ],
         "xaxis": "x",
         "y": [
          17
         ],
         "yaxis": "y",
         "zmax": 6.339465910901892e+200,
         "zmin": -1076.3999999999996
        },
        {
         "colorbar": {
          "title": ""
         },
         "legendgroup": "",
         "marker": {
          "color": "rgba(0, 0, 0, 0.000)",
          "line": {
           "color": "rgba(0, 0, 0, 1.000)",
           "width": 0
          },
          "size": 2,
          "symbol": "circle"
         },
         "mode": "markers",
         "name": "",
         "showlegend": false,
         "type": "scatter",
         "x": [
          9
         ],
         "xaxis": "x",
         "y": [
          18
         ],
         "yaxis": "y",
         "zmax": 6.339465910901892e+200,
         "zmin": -1076.3999999999996
        },
        {
         "colorbar": {
          "title": ""
         },
         "legendgroup": "",
         "marker": {
          "color": "rgba(0, 0, 0, 0.000)",
          "line": {
           "color": "rgba(0, 0, 0, 1.000)",
           "width": 0
          },
          "size": 2,
          "symbol": "circle"
         },
         "mode": "markers",
         "name": "",
         "showlegend": false,
         "type": "scatter",
         "x": [
          9
         ],
         "xaxis": "x",
         "y": [
          19
         ],
         "yaxis": "y",
         "zmax": 6.339465910901892e+200,
         "zmin": -1076.3999999999996
        },
        {
         "colorbar": {
          "title": ""
         },
         "legendgroup": "",
         "marker": {
          "color": "rgba(0, 0, 0, 0.000)",
          "line": {
           "color": "rgba(0, 0, 0, 1.000)",
           "width": 0
          },
          "size": 2,
          "symbol": "circle"
         },
         "mode": "markers",
         "name": "",
         "showlegend": false,
         "type": "scatter",
         "x": [
          9
         ],
         "xaxis": "x",
         "y": [
          20
         ],
         "yaxis": "y",
         "zmax": 6.339465910901892e+200,
         "zmin": -1076.3999999999996
        },
        {
         "colorbar": {
          "title": ""
         },
         "legendgroup": "",
         "marker": {
          "color": "rgba(0, 0, 0, 0.000)",
          "line": {
           "color": "rgba(0, 0, 0, 1.000)",
           "width": 0
          },
          "size": 2,
          "symbol": "circle"
         },
         "mode": "markers",
         "name": "",
         "showlegend": false,
         "type": "scatter",
         "x": [
          9
         ],
         "xaxis": "x",
         "y": [
          21
         ],
         "yaxis": "y",
         "zmax": 6.339465910901892e+200,
         "zmin": -1076.3999999999996
        },
        {
         "colorbar": {
          "title": ""
         },
         "legendgroup": "",
         "marker": {
          "color": "rgba(0, 0, 0, 0.000)",
          "line": {
           "color": "rgba(0, 0, 0, 1.000)",
           "width": 0
          },
          "size": 2,
          "symbol": "circle"
         },
         "mode": "markers",
         "name": "",
         "showlegend": false,
         "type": "scatter",
         "x": [
          9
         ],
         "xaxis": "x",
         "y": [
          22
         ],
         "yaxis": "y",
         "zmax": 6.339465910901892e+200,
         "zmin": -1076.3999999999996
        },
        {
         "colorbar": {
          "title": ""
         },
         "legendgroup": "",
         "marker": {
          "color": "rgba(0, 0, 0, 0.000)",
          "line": {
           "color": "rgba(0, 0, 0, 1.000)",
           "width": 0
          },
          "size": 2,
          "symbol": "circle"
         },
         "mode": "markers",
         "name": "",
         "showlegend": false,
         "type": "scatter",
         "x": [
          9
         ],
         "xaxis": "x",
         "y": [
          23
         ],
         "yaxis": "y",
         "zmax": 6.339465910901892e+200,
         "zmin": -1076.3999999999996
        },
        {
         "colorbar": {
          "title": ""
         },
         "legendgroup": "",
         "marker": {
          "color": "rgba(0, 0, 0, 0.000)",
          "line": {
           "color": "rgba(0, 0, 0, 1.000)",
           "width": 0
          },
          "size": 2,
          "symbol": "circle"
         },
         "mode": "markers",
         "name": "",
         "showlegend": false,
         "type": "scatter",
         "x": [
          9
         ],
         "xaxis": "x",
         "y": [
          24
         ],
         "yaxis": "y",
         "zmax": 6.339465910901892e+200,
         "zmin": -1076.3999999999996
        },
        {
         "colorbar": {
          "title": ""
         },
         "legendgroup": "",
         "marker": {
          "color": "rgba(0, 0, 0, 0.000)",
          "line": {
           "color": "rgba(0, 0, 0, 1.000)",
           "width": 0
          },
          "size": 2,
          "symbol": "circle"
         },
         "mode": "markers",
         "name": "",
         "showlegend": false,
         "type": "scatter",
         "x": [
          9
         ],
         "xaxis": "x",
         "y": [
          25
         ],
         "yaxis": "y",
         "zmax": 6.339465910901892e+200,
         "zmin": -1076.3999999999996
        },
        {
         "colorbar": {
          "title": ""
         },
         "legendgroup": "",
         "marker": {
          "color": "rgba(0, 0, 0, 0.000)",
          "line": {
           "color": "rgba(0, 0, 0, 1.000)",
           "width": 0
          },
          "size": 2,
          "symbol": "circle"
         },
         "mode": "markers",
         "name": "",
         "showlegend": false,
         "type": "scatter",
         "x": [
          9
         ],
         "xaxis": "x",
         "y": [
          26
         ],
         "yaxis": "y",
         "zmax": 6.339465910901892e+200,
         "zmin": -1076.3999999999996
        },
        {
         "colorbar": {
          "title": ""
         },
         "legendgroup": "",
         "marker": {
          "color": "rgba(0, 0, 4, 1.000)",
          "line": {
           "color": "rgba(0, 0, 0, 1.000)",
           "width": 0
          },
          "size": 2,
          "symbol": "circle"
         },
         "mode": "markers",
         "name": "",
         "showlegend": false,
         "type": "scatter",
         "x": [
          10
         ],
         "xaxis": "x",
         "y": [
          1
         ],
         "yaxis": "y",
         "zmax": 6.339465910901892e+200,
         "zmin": -1076.3999999999996
        },
        {
         "colorbar": {
          "title": ""
         },
         "legendgroup": "",
         "marker": {
          "color": "rgba(0, 0, 4, 1.000)",
          "line": {
           "color": "rgba(0, 0, 0, 1.000)",
           "width": 0
          },
          "size": 2,
          "symbol": "circle"
         },
         "mode": "markers",
         "name": "",
         "showlegend": false,
         "type": "scatter",
         "x": [
          10
         ],
         "xaxis": "x",
         "y": [
          2
         ],
         "yaxis": "y",
         "zmax": 6.339465910901892e+200,
         "zmin": -1076.3999999999996
        },
        {
         "colorbar": {
          "title": ""
         },
         "legendgroup": "",
         "marker": {
          "color": "rgba(0, 0, 4, 1.000)",
          "line": {
           "color": "rgba(0, 0, 0, 1.000)",
           "width": 0
          },
          "size": 2,
          "symbol": "circle"
         },
         "mode": "markers",
         "name": "",
         "showlegend": false,
         "type": "scatter",
         "x": [
          10
         ],
         "xaxis": "x",
         "y": [
          3
         ],
         "yaxis": "y",
         "zmax": 6.339465910901892e+200,
         "zmin": -1076.3999999999996
        },
        {
         "colorbar": {
          "title": ""
         },
         "legendgroup": "",
         "marker": {
          "color": "rgba(0, 0, 4, 1.000)",
          "line": {
           "color": "rgba(0, 0, 0, 1.000)",
           "width": 0
          },
          "size": 2,
          "symbol": "circle"
         },
         "mode": "markers",
         "name": "",
         "showlegend": false,
         "type": "scatter",
         "x": [
          10
         ],
         "xaxis": "x",
         "y": [
          4
         ],
         "yaxis": "y",
         "zmax": 6.339465910901892e+200,
         "zmin": -1076.3999999999996
        },
        {
         "colorbar": {
          "title": ""
         },
         "legendgroup": "",
         "marker": {
          "color": "rgba(0, 0, 4, 1.000)",
          "line": {
           "color": "rgba(0, 0, 0, 1.000)",
           "width": 0
          },
          "size": 2,
          "symbol": "circle"
         },
         "mode": "markers",
         "name": "",
         "showlegend": false,
         "type": "scatter",
         "x": [
          10
         ],
         "xaxis": "x",
         "y": [
          5
         ],
         "yaxis": "y",
         "zmax": 6.339465910901892e+200,
         "zmin": -1076.3999999999996
        },
        {
         "colorbar": {
          "title": ""
         },
         "legendgroup": "",
         "marker": {
          "color": "rgba(0, 0, 4, 1.000)",
          "line": {
           "color": "rgba(0, 0, 0, 1.000)",
           "width": 0
          },
          "size": 2,
          "symbol": "circle"
         },
         "mode": "markers",
         "name": "",
         "showlegend": false,
         "type": "scatter",
         "x": [
          10
         ],
         "xaxis": "x",
         "y": [
          6
         ],
         "yaxis": "y",
         "zmax": 6.339465910901892e+200,
         "zmin": -1076.3999999999996
        },
        {
         "colorbar": {
          "title": ""
         },
         "legendgroup": "",
         "marker": {
          "color": "rgba(0, 0, 4, 1.000)",
          "line": {
           "color": "rgba(0, 0, 0, 1.000)",
           "width": 0
          },
          "size": 2,
          "symbol": "circle"
         },
         "mode": "markers",
         "name": "",
         "showlegend": false,
         "type": "scatter",
         "x": [
          10
         ],
         "xaxis": "x",
         "y": [
          7
         ],
         "yaxis": "y",
         "zmax": 6.339465910901892e+200,
         "zmin": -1076.3999999999996
        },
        {
         "colorbar": {
          "title": ""
         },
         "legendgroup": "",
         "marker": {
          "color": "rgba(0, 0, 0, 0.000)",
          "line": {
           "color": "rgba(0, 0, 0, 1.000)",
           "width": 0
          },
          "size": 2,
          "symbol": "circle"
         },
         "mode": "markers",
         "name": "",
         "showlegend": false,
         "type": "scatter",
         "x": [
          10
         ],
         "xaxis": "x",
         "y": [
          8
         ],
         "yaxis": "y",
         "zmax": 6.339465910901892e+200,
         "zmin": -1076.3999999999996
        },
        {
         "colorbar": {
          "title": ""
         },
         "legendgroup": "",
         "marker": {
          "color": "rgba(0, 0, 0, 0.000)",
          "line": {
           "color": "rgba(0, 0, 0, 1.000)",
           "width": 0
          },
          "size": 2,
          "symbol": "circle"
         },
         "mode": "markers",
         "name": "",
         "showlegend": false,
         "type": "scatter",
         "x": [
          10
         ],
         "xaxis": "x",
         "y": [
          9
         ],
         "yaxis": "y",
         "zmax": 6.339465910901892e+200,
         "zmin": -1076.3999999999996
        },
        {
         "colorbar": {
          "title": ""
         },
         "legendgroup": "",
         "marker": {
          "color": "rgba(0, 0, 0, 0.000)",
          "line": {
           "color": "rgba(0, 0, 0, 1.000)",
           "width": 0
          },
          "size": 2,
          "symbol": "circle"
         },
         "mode": "markers",
         "name": "",
         "showlegend": false,
         "type": "scatter",
         "x": [
          10
         ],
         "xaxis": "x",
         "y": [
          10
         ],
         "yaxis": "y",
         "zmax": 6.339465910901892e+200,
         "zmin": -1076.3999999999996
        },
        {
         "colorbar": {
          "title": ""
         },
         "legendgroup": "",
         "marker": {
          "color": "rgba(0, 0, 0, 0.000)",
          "line": {
           "color": "rgba(0, 0, 0, 1.000)",
           "width": 0
          },
          "size": 2,
          "symbol": "circle"
         },
         "mode": "markers",
         "name": "",
         "showlegend": false,
         "type": "scatter",
         "x": [
          10
         ],
         "xaxis": "x",
         "y": [
          11
         ],
         "yaxis": "y",
         "zmax": 6.339465910901892e+200,
         "zmin": -1076.3999999999996
        },
        {
         "colorbar": {
          "title": ""
         },
         "legendgroup": "",
         "marker": {
          "color": "rgba(0, 0, 0, 0.000)",
          "line": {
           "color": "rgba(0, 0, 0, 1.000)",
           "width": 0
          },
          "size": 2,
          "symbol": "circle"
         },
         "mode": "markers",
         "name": "",
         "showlegend": false,
         "type": "scatter",
         "x": [
          10
         ],
         "xaxis": "x",
         "y": [
          12
         ],
         "yaxis": "y",
         "zmax": 6.339465910901892e+200,
         "zmin": -1076.3999999999996
        },
        {
         "colorbar": {
          "title": ""
         },
         "legendgroup": "",
         "marker": {
          "color": "rgba(0, 0, 0, 0.000)",
          "line": {
           "color": "rgba(0, 0, 0, 1.000)",
           "width": 0
          },
          "size": 2,
          "symbol": "circle"
         },
         "mode": "markers",
         "name": "",
         "showlegend": false,
         "type": "scatter",
         "x": [
          10
         ],
         "xaxis": "x",
         "y": [
          13
         ],
         "yaxis": "y",
         "zmax": 6.339465910901892e+200,
         "zmin": -1076.3999999999996
        },
        {
         "colorbar": {
          "title": ""
         },
         "legendgroup": "",
         "marker": {
          "color": "rgba(0, 0, 0, 0.000)",
          "line": {
           "color": "rgba(0, 0, 0, 1.000)",
           "width": 0
          },
          "size": 2,
          "symbol": "circle"
         },
         "mode": "markers",
         "name": "",
         "showlegend": false,
         "type": "scatter",
         "x": [
          10
         ],
         "xaxis": "x",
         "y": [
          14
         ],
         "yaxis": "y",
         "zmax": 6.339465910901892e+200,
         "zmin": -1076.3999999999996
        },
        {
         "colorbar": {
          "title": ""
         },
         "legendgroup": "",
         "marker": {
          "color": "rgba(0, 0, 0, 0.000)",
          "line": {
           "color": "rgba(0, 0, 0, 1.000)",
           "width": 0
          },
          "size": 2,
          "symbol": "circle"
         },
         "mode": "markers",
         "name": "",
         "showlegend": false,
         "type": "scatter",
         "x": [
          10
         ],
         "xaxis": "x",
         "y": [
          15
         ],
         "yaxis": "y",
         "zmax": 6.339465910901892e+200,
         "zmin": -1076.3999999999996
        },
        {
         "colorbar": {
          "title": ""
         },
         "legendgroup": "",
         "marker": {
          "color": "rgba(0, 0, 0, 0.000)",
          "line": {
           "color": "rgba(0, 0, 0, 1.000)",
           "width": 0
          },
          "size": 2,
          "symbol": "circle"
         },
         "mode": "markers",
         "name": "",
         "showlegend": false,
         "type": "scatter",
         "x": [
          10
         ],
         "xaxis": "x",
         "y": [
          16
         ],
         "yaxis": "y",
         "zmax": 6.339465910901892e+200,
         "zmin": -1076.3999999999996
        },
        {
         "colorbar": {
          "title": ""
         },
         "legendgroup": "",
         "marker": {
          "color": "rgba(0, 0, 0, 0.000)",
          "line": {
           "color": "rgba(0, 0, 0, 1.000)",
           "width": 0
          },
          "size": 2,
          "symbol": "circle"
         },
         "mode": "markers",
         "name": "",
         "showlegend": false,
         "type": "scatter",
         "x": [
          10
         ],
         "xaxis": "x",
         "y": [
          17
         ],
         "yaxis": "y",
         "zmax": 6.339465910901892e+200,
         "zmin": -1076.3999999999996
        },
        {
         "colorbar": {
          "title": ""
         },
         "legendgroup": "",
         "marker": {
          "color": "rgba(0, 0, 0, 0.000)",
          "line": {
           "color": "rgba(0, 0, 0, 1.000)",
           "width": 0
          },
          "size": 2,
          "symbol": "circle"
         },
         "mode": "markers",
         "name": "",
         "showlegend": false,
         "type": "scatter",
         "x": [
          10
         ],
         "xaxis": "x",
         "y": [
          18
         ],
         "yaxis": "y",
         "zmax": 6.339465910901892e+200,
         "zmin": -1076.3999999999996
        },
        {
         "colorbar": {
          "title": ""
         },
         "legendgroup": "",
         "marker": {
          "color": "rgba(0, 0, 0, 0.000)",
          "line": {
           "color": "rgba(0, 0, 0, 1.000)",
           "width": 0
          },
          "size": 2,
          "symbol": "circle"
         },
         "mode": "markers",
         "name": "",
         "showlegend": false,
         "type": "scatter",
         "x": [
          10
         ],
         "xaxis": "x",
         "y": [
          19
         ],
         "yaxis": "y",
         "zmax": 6.339465910901892e+200,
         "zmin": -1076.3999999999996
        },
        {
         "colorbar": {
          "title": ""
         },
         "legendgroup": "",
         "marker": {
          "color": "rgba(0, 0, 0, 0.000)",
          "line": {
           "color": "rgba(0, 0, 0, 1.000)",
           "width": 0
          },
          "size": 2,
          "symbol": "circle"
         },
         "mode": "markers",
         "name": "",
         "showlegend": false,
         "type": "scatter",
         "x": [
          10
         ],
         "xaxis": "x",
         "y": [
          20
         ],
         "yaxis": "y",
         "zmax": 6.339465910901892e+200,
         "zmin": -1076.3999999999996
        },
        {
         "colorbar": {
          "title": ""
         },
         "legendgroup": "",
         "marker": {
          "color": "rgba(0, 0, 0, 0.000)",
          "line": {
           "color": "rgba(0, 0, 0, 1.000)",
           "width": 0
          },
          "size": 2,
          "symbol": "circle"
         },
         "mode": "markers",
         "name": "",
         "showlegend": false,
         "type": "scatter",
         "x": [
          10
         ],
         "xaxis": "x",
         "y": [
          21
         ],
         "yaxis": "y",
         "zmax": 6.339465910901892e+200,
         "zmin": -1076.3999999999996
        },
        {
         "colorbar": {
          "title": ""
         },
         "legendgroup": "",
         "marker": {
          "color": "rgba(0, 0, 0, 0.000)",
          "line": {
           "color": "rgba(0, 0, 0, 1.000)",
           "width": 0
          },
          "size": 2,
          "symbol": "circle"
         },
         "mode": "markers",
         "name": "",
         "showlegend": false,
         "type": "scatter",
         "x": [
          10
         ],
         "xaxis": "x",
         "y": [
          22
         ],
         "yaxis": "y",
         "zmax": 6.339465910901892e+200,
         "zmin": -1076.3999999999996
        },
        {
         "colorbar": {
          "title": ""
         },
         "legendgroup": "",
         "marker": {
          "color": "rgba(0, 0, 0, 0.000)",
          "line": {
           "color": "rgba(0, 0, 0, 1.000)",
           "width": 0
          },
          "size": 2,
          "symbol": "circle"
         },
         "mode": "markers",
         "name": "",
         "showlegend": false,
         "type": "scatter",
         "x": [
          10
         ],
         "xaxis": "x",
         "y": [
          23
         ],
         "yaxis": "y",
         "zmax": 6.339465910901892e+200,
         "zmin": -1076.3999999999996
        },
        {
         "colorbar": {
          "title": ""
         },
         "legendgroup": "",
         "marker": {
          "color": "rgba(0, 0, 0, 0.000)",
          "line": {
           "color": "rgba(0, 0, 0, 1.000)",
           "width": 0
          },
          "size": 2,
          "symbol": "circle"
         },
         "mode": "markers",
         "name": "",
         "showlegend": false,
         "type": "scatter",
         "x": [
          10
         ],
         "xaxis": "x",
         "y": [
          24
         ],
         "yaxis": "y",
         "zmax": 6.339465910901892e+200,
         "zmin": -1076.3999999999996
        },
        {
         "colorbar": {
          "title": ""
         },
         "legendgroup": "",
         "marker": {
          "color": "rgba(0, 0, 0, 0.000)",
          "line": {
           "color": "rgba(0, 0, 0, 1.000)",
           "width": 0
          },
          "size": 2,
          "symbol": "circle"
         },
         "mode": "markers",
         "name": "",
         "showlegend": false,
         "type": "scatter",
         "x": [
          10
         ],
         "xaxis": "x",
         "y": [
          25
         ],
         "yaxis": "y",
         "zmax": 6.339465910901892e+200,
         "zmin": -1076.3999999999996
        },
        {
         "colorbar": {
          "title": ""
         },
         "legendgroup": "",
         "marker": {
          "color": "rgba(0, 0, 0, 0.000)",
          "line": {
           "color": "rgba(0, 0, 0, 1.000)",
           "width": 0
          },
          "size": 2,
          "symbol": "circle"
         },
         "mode": "markers",
         "name": "",
         "showlegend": false,
         "type": "scatter",
         "x": [
          10
         ],
         "xaxis": "x",
         "y": [
          26
         ],
         "yaxis": "y",
         "zmax": 6.339465910901892e+200,
         "zmin": -1076.3999999999996
        },
        {
         "colorbar": {
          "title": ""
         },
         "hoverinfo": "none",
         "marker": {
          "cmax": 6.339465910901892e+200,
          "cmin": -1076.3999999999996,
          "color": [
           0.5
          ],
          "colorscale": [
           [
            0,
            "rgba(0, 0, 4, 1.000)"
           ],
           [
            0.00392156862745098,
            "rgba(1, 0, 5, 1.000)"
           ],
           [
            0.00784313725490196,
            "rgba(1, 1, 6, 1.000)"
           ],
           [
            0.011764705882352941,
            "rgba(1, 1, 8, 1.000)"
           ],
           [
            0.01568627450980392,
            "rgba(2, 1, 10, 1.000)"
           ],
           [
            0.0196078431372549,
            "rgba(2, 2, 12, 1.000)"
           ],
           [
            0.023529411764705882,
            "rgba(2, 2, 14, 1.000)"
           ],
           [
            0.027450980392156862,
            "rgba(3, 2, 16, 1.000)"
           ],
           [
            0.03137254901960784,
            "rgba(4, 3, 18, 1.000)"
           ],
           [
            0.03529411764705882,
            "rgba(4, 3, 20, 1.000)"
           ],
           [
            0.0392156862745098,
            "rgba(5, 4, 23, 1.000)"
           ],
           [
            0.043137254901960784,
            "rgba(6, 4, 25, 1.000)"
           ],
           [
            0.047058823529411764,
            "rgba(7, 5, 27, 1.000)"
           ],
           [
            0.050980392156862744,
            "rgba(8, 5, 29, 1.000)"
           ],
           [
            0.054901960784313725,
            "rgba(9, 6, 31, 1.000)"
           ],
           [
            0.058823529411764705,
            "rgba(10, 7, 34, 1.000)"
           ],
           [
            0.06274509803921569,
            "rgba(11, 7, 36, 1.000)"
           ],
           [
            0.06666666666666667,
            "rgba(12, 8, 38, 1.000)"
           ],
           [
            0.07058823529411765,
            "rgba(13, 8, 41, 1.000)"
           ],
           [
            0.07450980392156863,
            "rgba(14, 9, 43, 1.000)"
           ],
           [
            0.0784313725490196,
            "rgba(16, 9, 45, 1.000)"
           ],
           [
            0.08235294117647059,
            "rgba(17, 10, 48, 1.000)"
           ],
           [
            0.08627450980392157,
            "rgba(18, 10, 50, 1.000)"
           ],
           [
            0.09019607843137255,
            "rgba(20, 11, 52, 1.000)"
           ],
           [
            0.09411764705882353,
            "rgba(21, 11, 55, 1.000)"
           ],
           [
            0.09803921568627451,
            "rgba(22, 11, 57, 1.000)"
           ],
           [
            0.10196078431372549,
            "rgba(24, 12, 60, 1.000)"
           ],
           [
            0.10588235294117647,
            "rgba(25, 12, 62, 1.000)"
           ],
           [
            0.10980392156862745,
            "rgba(27, 12, 65, 1.000)"
           ],
           [
            0.11372549019607843,
            "rgba(28, 12, 67, 1.000)"
           ],
           [
            0.11764705882352941,
            "rgba(30, 12, 69, 1.000)"
           ],
           [
            0.12156862745098039,
            "rgba(31, 12, 72, 1.000)"
           ],
           [
            0.12549019607843137,
            "rgba(33, 12, 74, 1.000)"
           ],
           [
            0.12941176470588237,
            "rgba(35, 12, 76, 1.000)"
           ],
           [
            0.13333333333333333,
            "rgba(36, 12, 79, 1.000)"
           ],
           [
            0.13725490196078433,
            "rgba(38, 12, 81, 1.000)"
           ],
           [
            0.1411764705882353,
            "rgba(40, 11, 83, 1.000)"
           ],
           [
            0.1450980392156863,
            "rgba(41, 11, 85, 1.000)"
           ],
           [
            0.14901960784313725,
            "rgba(43, 11, 87, 1.000)"
           ],
           [
            0.15294117647058825,
            "rgba(45, 11, 89, 1.000)"
           ],
           [
            0.1568627450980392,
            "rgba(47, 10, 91, 1.000)"
           ],
           [
            0.1607843137254902,
            "rgba(49, 10, 92, 1.000)"
           ],
           [
            0.16470588235294117,
            "rgba(50, 10, 94, 1.000)"
           ],
           [
            0.16862745098039217,
            "rgba(52, 10, 95, 1.000)"
           ],
           [
            0.17254901960784313,
            "rgba(54, 9, 97, 1.000)"
           ],
           [
            0.17647058823529413,
            "rgba(56, 9, 98, 1.000)"
           ],
           [
            0.1803921568627451,
            "rgba(57, 9, 99, 1.000)"
           ],
           [
            0.1843137254901961,
            "rgba(59, 9, 100, 1.000)"
           ],
           [
            0.18823529411764706,
            "rgba(61, 9, 101, 1.000)"
           ],
           [
            0.19215686274509805,
            "rgba(62, 9, 102, 1.000)"
           ],
           [
            0.19607843137254902,
            "rgba(64, 10, 103, 1.000)"
           ],
           [
            0.2,
            "rgba(66, 10, 104, 1.000)"
           ],
           [
            0.20392156862745098,
            "rgba(68, 10, 104, 1.000)"
           ],
           [
            0.20784313725490197,
            "rgba(69, 10, 105, 1.000)"
           ],
           [
            0.21176470588235294,
            "rgba(71, 11, 106, 1.000)"
           ],
           [
            0.21568627450980393,
            "rgba(73, 11, 106, 1.000)"
           ],
           [
            0.2196078431372549,
            "rgba(74, 12, 107, 1.000)"
           ],
           [
            0.2235294117647059,
            "rgba(76, 12, 107, 1.000)"
           ],
           [
            0.22745098039215686,
            "rgba(77, 13, 108, 1.000)"
           ],
           [
            0.23137254901960785,
            "rgba(79, 13, 108, 1.000)"
           ],
           [
            0.23529411764705882,
            "rgba(81, 14, 108, 1.000)"
           ],
           [
            0.23921568627450981,
            "rgba(82, 14, 109, 1.000)"
           ],
           [
            0.24313725490196078,
            "rgba(84, 15, 109, 1.000)"
           ],
           [
            0.24705882352941178,
            "rgba(85, 15, 109, 1.000)"
           ],
           [
            0.25098039215686274,
            "rgba(87, 16, 110, 1.000)"
           ],
           [
            0.2549019607843137,
            "rgba(89, 16, 110, 1.000)"
           ],
           [
            0.25882352941176473,
            "rgba(90, 17, 110, 1.000)"
           ],
           [
            0.2627450980392157,
            "rgba(92, 18, 110, 1.000)"
           ],
           [
            0.26666666666666666,
            "rgba(93, 18, 110, 1.000)"
           ],
           [
            0.27058823529411763,
            "rgba(95, 19, 110, 1.000)"
           ],
           [
            0.27450980392156865,
            "rgba(97, 19, 110, 1.000)"
           ],
           [
            0.2784313725490196,
            "rgba(98, 20, 110, 1.000)"
           ],
           [
            0.2823529411764706,
            "rgba(100, 21, 110, 1.000)"
           ],
           [
            0.28627450980392155,
            "rgba(101, 21, 110, 1.000)"
           ],
           [
            0.2901960784313726,
            "rgba(103, 22, 110, 1.000)"
           ],
           [
            0.29411764705882354,
            "rgba(105, 22, 110, 1.000)"
           ],
           [
            0.2980392156862745,
            "rgba(106, 23, 110, 1.000)"
           ],
           [
            0.30196078431372547,
            "rgba(108, 24, 110, 1.000)"
           ],
           [
            0.3058823529411765,
            "rgba(109, 24, 110, 1.000)"
           ],
           [
            0.30980392156862746,
            "rgba(111, 25, 110, 1.000)"
           ],
           [
            0.3137254901960784,
            "rgba(113, 25, 110, 1.000)"
           ],
           [
            0.3176470588235294,
            "rgba(114, 26, 110, 1.000)"
           ],
           [
            0.3215686274509804,
            "rgba(116, 26, 110, 1.000)"
           ],
           [
            0.3254901960784314,
            "rgba(117, 27, 110, 1.000)"
           ],
           [
            0.32941176470588235,
            "rgba(119, 28, 109, 1.000)"
           ],
           [
            0.3333333333333333,
            "rgba(120, 28, 109, 1.000)"
           ],
           [
            0.33725490196078434,
            "rgba(122, 29, 109, 1.000)"
           ],
           [
            0.3411764705882353,
            "rgba(124, 29, 109, 1.000)"
           ],
           [
            0.34509803921568627,
            "rgba(125, 30, 109, 1.000)"
           ],
           [
            0.34901960784313724,
            "rgba(127, 30, 108, 1.000)"
           ],
           [
            0.35294117647058826,
            "rgba(128, 31, 108, 1.000)"
           ],
           [
            0.3568627450980392,
            "rgba(130, 32, 108, 1.000)"
           ],
           [
            0.3607843137254902,
            "rgba(132, 32, 107, 1.000)"
           ],
           [
            0.36470588235294116,
            "rgba(133, 33, 107, 1.000)"
           ],
           [
            0.3686274509803922,
            "rgba(135, 33, 107, 1.000)"
           ],
           [
            0.37254901960784315,
            "rgba(136, 34, 106, 1.000)"
           ],
           [
            0.3764705882352941,
            "rgba(138, 34, 106, 1.000)"
           ],
           [
            0.3803921568627451,
            "rgba(140, 35, 105, 1.000)"
           ],
           [
            0.3843137254901961,
            "rgba(141, 35, 105, 1.000)"
           ],
           [
            0.38823529411764707,
            "rgba(143, 36, 105, 1.000)"
           ],
           [
            0.39215686274509803,
            "rgba(144, 37, 104, 1.000)"
           ],
           [
            0.396078431372549,
            "rgba(146, 37, 104, 1.000)"
           ],
           [
            0.4,
            "rgba(147, 38, 103, 1.000)"
           ],
           [
            0.403921568627451,
            "rgba(149, 38, 103, 1.000)"
           ],
           [
            0.40784313725490196,
            "rgba(151, 39, 102, 1.000)"
           ],
           [
            0.4117647058823529,
            "rgba(152, 39, 102, 1.000)"
           ],
           [
            0.41568627450980394,
            "rgba(154, 40, 101, 1.000)"
           ],
           [
            0.4196078431372549,
            "rgba(155, 41, 100, 1.000)"
           ],
           [
            0.4235294117647059,
            "rgba(157, 41, 100, 1.000)"
           ],
           [
            0.42745098039215684,
            "rgba(159, 42, 99, 1.000)"
           ],
           [
            0.43137254901960786,
            "rgba(160, 42, 99, 1.000)"
           ],
           [
            0.43529411764705883,
            "rgba(162, 43, 98, 1.000)"
           ],
           [
            0.4392156862745098,
            "rgba(163, 44, 97, 1.000)"
           ],
           [
            0.44313725490196076,
            "rgba(165, 44, 96, 1.000)"
           ],
           [
            0.4470588235294118,
            "rgba(166, 45, 96, 1.000)"
           ],
           [
            0.45098039215686275,
            "rgba(168, 46, 95, 1.000)"
           ],
           [
            0.4549019607843137,
            "rgba(169, 46, 94, 1.000)"
           ],
           [
            0.4588235294117647,
            "rgba(171, 47, 94, 1.000)"
           ],
           [
            0.4627450980392157,
            "rgba(173, 48, 93, 1.000)"
           ],
           [
            0.4666666666666667,
            "rgba(174, 48, 92, 1.000)"
           ],
           [
            0.47058823529411764,
            "rgba(176, 49, 91, 1.000)"
           ],
           [
            0.4745098039215686,
            "rgba(177, 50, 90, 1.000)"
           ],
           [
            0.47843137254901963,
            "rgba(179, 50, 90, 1.000)"
           ],
           [
            0.4823529411764706,
            "rgba(180, 51, 89, 1.000)"
           ],
           [
            0.48627450980392156,
            "rgba(182, 52, 88, 1.000)"
           ],
           [
            0.49019607843137253,
            "rgba(183, 53, 87, 1.000)"
           ],
           [
            0.49411764705882355,
            "rgba(185, 53, 86, 1.000)"
           ],
           [
            0.4980392156862745,
            "rgba(186, 54, 85, 1.000)"
           ],
           [
            0.5019607843137255,
            "rgba(188, 55, 84, 1.000)"
           ],
           [
            0.5058823529411764,
            "rgba(189, 56, 83, 1.000)"
           ],
           [
            0.5098039215686274,
            "rgba(191, 57, 82, 1.000)"
           ],
           [
            0.5137254901960784,
            "rgba(192, 58, 81, 1.000)"
           ],
           [
            0.5176470588235295,
            "rgba(193, 58, 80, 1.000)"
           ],
           [
            0.5215686274509804,
            "rgba(195, 59, 79, 1.000)"
           ],
           [
            0.5254901960784314,
            "rgba(196, 60, 78, 1.000)"
           ],
           [
            0.5294117647058824,
            "rgba(198, 61, 77, 1.000)"
           ],
           [
            0.5333333333333333,
            "rgba(199, 62, 76, 1.000)"
           ],
           [
            0.5372549019607843,
            "rgba(200, 63, 75, 1.000)"
           ],
           [
            0.5411764705882353,
            "rgba(202, 64, 74, 1.000)"
           ],
           [
            0.5450980392156862,
            "rgba(203, 65, 73, 1.000)"
           ],
           [
            0.5490196078431373,
            "rgba(204, 66, 72, 1.000)"
           ],
           [
            0.5529411764705883,
            "rgba(206, 67, 71, 1.000)"
           ],
           [
            0.5568627450980392,
            "rgba(207, 68, 70, 1.000)"
           ],
           [
            0.5607843137254902,
            "rgba(208, 69, 69, 1.000)"
           ],
           [
            0.5647058823529412,
            "rgba(210, 70, 68, 1.000)"
           ],
           [
            0.5686274509803921,
            "rgba(211, 71, 67, 1.000)"
           ],
           [
            0.5725490196078431,
            "rgba(212, 72, 66, 1.000)"
           ],
           [
            0.5764705882352941,
            "rgba(213, 74, 65, 1.000)"
           ],
           [
            0.5803921568627451,
            "rgba(215, 75, 63, 1.000)"
           ],
           [
            0.5843137254901961,
            "rgba(216, 76, 62, 1.000)"
           ],
           [
            0.5882352941176471,
            "rgba(217, 77, 61, 1.000)"
           ],
           [
            0.592156862745098,
            "rgba(218, 78, 60, 1.000)"
           ],
           [
            0.596078431372549,
            "rgba(219, 80, 59, 1.000)"
           ],
           [
            0.6,
            "rgba(221, 81, 58, 1.000)"
           ],
           [
            0.6039215686274509,
            "rgba(222, 82, 56, 1.000)"
           ],
           [
            0.6078431372549019,
            "rgba(223, 83, 55, 1.000)"
           ],
           [
            0.611764705882353,
            "rgba(224, 85, 54, 1.000)"
           ],
           [
            0.615686274509804,
            "rgba(225, 86, 53, 1.000)"
           ],
           [
            0.6196078431372549,
            "rgba(226, 87, 52, 1.000)"
           ],
           [
            0.6235294117647059,
            "rgba(227, 89, 51, 1.000)"
           ],
           [
            0.6274509803921569,
            "rgba(228, 90, 49, 1.000)"
           ],
           [
            0.6313725490196078,
            "rgba(229, 92, 48, 1.000)"
           ],
           [
            0.6352941176470588,
            "rgba(230, 93, 47, 1.000)"
           ],
           [
            0.6392156862745098,
            "rgba(231, 94, 46, 1.000)"
           ],
           [
            0.6431372549019608,
            "rgba(232, 96, 45, 1.000)"
           ],
           [
            0.6470588235294118,
            "rgba(233, 97, 43, 1.000)"
           ],
           [
            0.6509803921568628,
            "rgba(234, 99, 42, 1.000)"
           ],
           [
            0.6549019607843137,
            "rgba(235, 100, 41, 1.000)"
           ],
           [
            0.6588235294117647,
            "rgba(235, 102, 40, 1.000)"
           ],
           [
            0.6627450980392157,
            "rgba(236, 103, 38, 1.000)"
           ],
           [
            0.6666666666666666,
            "rgba(237, 105, 37, 1.000)"
           ],
           [
            0.6705882352941176,
            "rgba(238, 106, 36, 1.000)"
           ],
           [
            0.6745098039215687,
            "rgba(239, 108, 35, 1.000)"
           ],
           [
            0.6784313725490196,
            "rgba(239, 110, 33, 1.000)"
           ],
           [
            0.6823529411764706,
            "rgba(240, 111, 32, 1.000)"
           ],
           [
            0.6862745098039216,
            "rgba(241, 113, 31, 1.000)"
           ],
           [
            0.6901960784313725,
            "rgba(241, 115, 29, 1.000)"
           ],
           [
            0.6941176470588235,
            "rgba(242, 116, 28, 1.000)"
           ],
           [
            0.6980392156862745,
            "rgba(243, 118, 27, 1.000)"
           ],
           [
            0.7019607843137254,
            "rgba(243, 120, 25, 1.000)"
           ],
           [
            0.7058823529411765,
            "rgba(244, 121, 24, 1.000)"
           ],
           [
            0.7098039215686275,
            "rgba(245, 123, 23, 1.000)"
           ],
           [
            0.7137254901960784,
            "rgba(245, 125, 21, 1.000)"
           ],
           [
            0.7176470588235294,
            "rgba(246, 126, 20, 1.000)"
           ],
           [
            0.7215686274509804,
            "rgba(246, 128, 19, 1.000)"
           ],
           [
            0.7254901960784313,
            "rgba(247, 130, 18, 1.000)"
           ],
           [
            0.7294117647058823,
            "rgba(247, 132, 16, 1.000)"
           ],
           [
            0.7333333333333333,
            "rgba(248, 133, 15, 1.000)"
           ],
           [
            0.7372549019607844,
            "rgba(248, 135, 14, 1.000)"
           ],
           [
            0.7411764705882353,
            "rgba(248, 137, 12, 1.000)"
           ],
           [
            0.7450980392156863,
            "rgba(249, 139, 11, 1.000)"
           ],
           [
            0.7490196078431373,
            "rgba(249, 140, 10, 1.000)"
           ],
           [
            0.7529411764705882,
            "rgba(249, 142, 9, 1.000)"
           ],
           [
            0.7568627450980392,
            "rgba(250, 144, 8, 1.000)"
           ],
           [
            0.7607843137254902,
            "rgba(250, 146, 7, 1.000)"
           ],
           [
            0.7647058823529411,
            "rgba(250, 148, 7, 1.000)"
           ],
           [
            0.7686274509803922,
            "rgba(251, 150, 6, 1.000)"
           ],
           [
            0.7725490196078432,
            "rgba(251, 151, 6, 1.000)"
           ],
           [
            0.7764705882352941,
            "rgba(251, 153, 6, 1.000)"
           ],
           [
            0.7803921568627451,
            "rgba(251, 155, 6, 1.000)"
           ],
           [
            0.7843137254901961,
            "rgba(251, 157, 7, 1.000)"
           ],
           [
            0.788235294117647,
            "rgba(252, 159, 7, 1.000)"
           ],
           [
            0.792156862745098,
            "rgba(252, 161, 8, 1.000)"
           ],
           [
            0.796078431372549,
            "rgba(252, 163, 9, 1.000)"
           ],
           [
            0.8,
            "rgba(252, 165, 10, 1.000)"
           ],
           [
            0.803921568627451,
            "rgba(252, 166, 12, 1.000)"
           ],
           [
            0.807843137254902,
            "rgba(252, 168, 13, 1.000)"
           ],
           [
            0.8117647058823529,
            "rgba(252, 170, 15, 1.000)"
           ],
           [
            0.8156862745098039,
            "rgba(252, 172, 17, 1.000)"
           ],
           [
            0.8196078431372549,
            "rgba(252, 174, 18, 1.000)"
           ],
           [
            0.8235294117647058,
            "rgba(252, 176, 20, 1.000)"
           ],
           [
            0.8274509803921568,
            "rgba(252, 178, 22, 1.000)"
           ],
           [
            0.8313725490196079,
            "rgba(252, 180, 24, 1.000)"
           ],
           [
            0.8352941176470589,
            "rgba(251, 182, 26, 1.000)"
           ],
           [
            0.8392156862745098,
            "rgba(251, 184, 29, 1.000)"
           ],
           [
            0.8431372549019608,
            "rgba(251, 186, 31, 1.000)"
           ],
           [
            0.8470588235294118,
            "rgba(251, 188, 33, 1.000)"
           ],
           [
            0.8509803921568627,
            "rgba(251, 190, 35, 1.000)"
           ],
           [
            0.8549019607843137,
            "rgba(250, 192, 38, 1.000)"
           ],
           [
            0.8588235294117647,
            "rgba(250, 194, 40, 1.000)"
           ],
           [
            0.8627450980392157,
            "rgba(250, 196, 42, 1.000)"
           ],
           [
            0.8666666666666667,
            "rgba(250, 198, 45, 1.000)"
           ],
           [
            0.8705882352941177,
            "rgba(249, 199, 47, 1.000)"
           ],
           [
            0.8745098039215686,
            "rgba(249, 201, 50, 1.000)"
           ],
           [
            0.8784313725490196,
            "rgba(249, 203, 53, 1.000)"
           ],
           [
            0.8823529411764706,
            "rgba(248, 205, 55, 1.000)"
           ],
           [
            0.8862745098039215,
            "rgba(248, 207, 58, 1.000)"
           ],
           [
            0.8901960784313725,
            "rgba(247, 209, 61, 1.000)"
           ],
           [
            0.8941176470588236,
            "rgba(247, 211, 64, 1.000)"
           ],
           [
            0.8980392156862745,
            "rgba(246, 213, 67, 1.000)"
           ],
           [
            0.9019607843137255,
            "rgba(246, 215, 70, 1.000)"
           ],
           [
            0.9058823529411765,
            "rgba(245, 217, 73, 1.000)"
           ],
           [
            0.9098039215686274,
            "rgba(245, 219, 76, 1.000)"
           ],
           [
            0.9137254901960784,
            "rgba(244, 221, 79, 1.000)"
           ],
           [
            0.9176470588235294,
            "rgba(244, 223, 83, 1.000)"
           ],
           [
            0.9215686274509803,
            "rgba(244, 225, 86, 1.000)"
           ],
           [
            0.9254901960784314,
            "rgba(243, 227, 90, 1.000)"
           ],
           [
            0.9294117647058824,
            "rgba(243, 229, 93, 1.000)"
           ],
           [
            0.9333333333333333,
            "rgba(242, 230, 97, 1.000)"
           ],
           [
            0.9372549019607843,
            "rgba(242, 232, 101, 1.000)"
           ],
           [
            0.9411764705882353,
            "rgba(242, 234, 105, 1.000)"
           ],
           [
            0.9450980392156862,
            "rgba(241, 236, 109, 1.000)"
           ],
           [
            0.9490196078431372,
            "rgba(241, 237, 113, 1.000)"
           ],
           [
            0.9529411764705882,
            "rgba(241, 239, 117, 1.000)"
           ],
           [
            0.9568627450980393,
            "rgba(241, 241, 121, 1.000)"
           ],
           [
            0.9607843137254902,
            "rgba(242, 242, 125, 1.000)"
           ],
           [
            0.9647058823529412,
            "rgba(242, 244, 130, 1.000)"
           ],
           [
            0.9686274509803922,
            "rgba(243, 245, 134, 1.000)"
           ],
           [
            0.9725490196078431,
            "rgba(243, 246, 138, 1.000)"
           ],
           [
            0.9764705882352941,
            "rgba(244, 248, 142, 1.000)"
           ],
           [
            0.9803921568627451,
            "rgba(245, 249, 146, 1.000)"
           ],
           [
            0.984313725490196,
            "rgba(246, 250, 150, 1.000)"
           ],
           [
            0.9882352941176471,
            "rgba(248, 251, 154, 1.000)"
           ],
           [
            0.9921568627450981,
            "rgba(249, 252, 157, 1.000)"
           ],
           [
            0.996078431372549,
            "rgba(250, 253, 161, 1.000)"
           ],
           [
            1,
            "rgba(252, 255, 164, 1.000)"
           ]
          ],
          "opacity": 1e-10,
          "showscale": false,
          "size": 1e-10
         },
         "mode": "markers",
         "name": "",
         "showlegend": false,
         "type": "scatter",
         "x": [
          1
         ],
         "xaxis": "x",
         "y": [
          1
         ],
         "yaxis": "y",
         "zmax": 6.339465910901892e+200,
         "zmin": -1076.3999999999996
        }
       ],
       "layout": {
        "annotations": [],
        "height": 400,
        "margin": {
         "b": 20,
         "l": 0,
         "r": 0,
         "t": 20
        },
        "paper_bgcolor": "rgba(255, 255, 255, 1.000)",
        "plot_bgcolor": "rgba(255, 255, 255, 1.000)",
        "showlegend": false,
        "width": 600,
        "xaxis": {
         "anchor": "y",
         "domain": [
          0.40051035287255765,
          0.629119276757072
         ],
         "gridcolor": "rgba(0, 0, 0, 0.100)",
         "gridwidth": 0.5,
         "linecolor": "rgba(0, 0, 0, 1.000)",
         "mirror": false,
         "range": [
          0.73,
          10.27
         ],
         "showgrid": false,
         "showline": true,
         "showticklabels": true,
         "tickangle": 0,
         "tickcolor": "rgb(0, 0, 0)",
         "tickfont": {
          "color": "rgba(0, 0, 0, 1.000)",
          "family": "sans-serif",
          "size": 11
         },
         "tickmode": "array",
         "ticks": "inside",
         "ticktext": [
          "2",
          "4",
          "6",
          "8",
          "10"
         ],
         "tickvals": [
          2,
          4,
          6,
          8,
          10
         ],
         "title": "",
         "titlefont": {
          "color": "rgba(0, 0, 0, 1.000)",
          "family": "sans-serif",
          "size": 15
         },
         "type": "-",
         "visible": true,
         "zeroline": false,
         "zerolinecolor": "rgba(0, 0, 0, 1.000)"
        },
        "yaxis": {
         "anchor": "x",
         "domain": [
          0.03762029746281716,
          0.9901574803149606
         ],
         "gridcolor": "rgba(0, 0, 0, 0.100)",
         "gridwidth": 0.5,
         "linecolor": "rgba(0, 0, 0, 1.000)",
         "mirror": false,
         "range": [
          26.75,
          0.25
         ],
         "showgrid": false,
         "showline": true,
         "showticklabels": true,
         "tickangle": 0,
         "tickcolor": "rgb(0, 0, 0)",
         "tickfont": {
          "color": "rgba(0, 0, 0, 1.000)",
          "family": "sans-serif",
          "size": 11
         },
         "tickmode": "array",
         "ticks": "inside",
         "ticktext": [
          "5",
          "10",
          "15",
          "20",
          "25"
         ],
         "tickvals": [
          5,
          10,
          15,
          20,
          25
         ],
         "title": "",
         "titlefont": {
          "color": "rgba(0, 0, 0, 1.000)",
          "family": "sans-serif",
          "size": 15
         },
         "type": "-",
         "visible": true,
         "zeroline": false,
         "zerolinecolor": "rgba(0, 0, 0, 1.000)"
        }
       }
      },
      "text/html": [
       "<!DOCTYPE html>\n",
       "<html>\n",
       "    <head>\n",
       "        <title>Plots.jl</title>\n",
       "        <meta http-equiv=\"content-type\" content=\"text/html; charset=UTF-8\">\n",
       "        \n",
       "    </head>\n",
       "    <body>\n",
       "            <div id=\"1fa9324f-8820-4705-86c6-d76a975de6d3\" style=\"width:600px;height:400px;\"></div>\n",
       "    <script>\n",
       "        requirejs.config({\n",
       "        paths: {\n",
       "            Plotly: 'https://cdn.plot.ly/plotly-1.57.1.min'\n",
       "        }\n",
       "    });\n",
       "    require(['Plotly'], function (Plotly) {\n",
       "\n",
       "        var PLOT = document.getElementById('1fa9324f-8820-4705-86c6-d76a975de6d3');\n",
       "    Plotly.plot(PLOT, [\n",
       "    {\n",
       "        \"xaxis\": \"x\",\n",
       "        \"colorbar\": {\n",
       "            \"title\": \"\"\n",
       "        },\n",
       "        \"yaxis\": \"y\",\n",
       "        \"x\": [\n",
       "            1\n",
       "        ],\n",
       "        \"showlegend\": false,\n",
       "        \"mode\": \"markers\",\n",
       "        \"name\": \"\",\n",
       "        \"zmin\": -1076.3999999999996,\n",
       "        \"legendgroup\": \"\",\n",
       "        \"marker\": {\n",
       "            \"symbol\": \"circle\",\n",
       "            \"color\": \"rgba(0, 0, 4, 1.000)\",\n",
       "            \"line\": {\n",
       "                \"color\": \"rgba(0, 0, 0, 1.000)\",\n",
       "                \"width\": 0\n",
       "            },\n",
       "            \"size\": 2\n",
       "        },\n",
       "        \"zmax\": 6.339465910901892e200,\n",
       "        \"y\": [\n",
       "            1\n",
       "        ],\n",
       "        \"type\": \"scatter\"\n",
       "    },\n",
       "    {\n",
       "        \"xaxis\": \"x\",\n",
       "        \"colorbar\": {\n",
       "            \"title\": \"\"\n",
       "        },\n",
       "        \"yaxis\": \"y\",\n",
       "        \"x\": [\n",
       "            1\n",
       "        ],\n",
       "        \"showlegend\": false,\n",
       "        \"mode\": \"markers\",\n",
       "        \"name\": \"\",\n",
       "        \"zmin\": -1076.3999999999996,\n",
       "        \"legendgroup\": \"\",\n",
       "        \"marker\": {\n",
       "            \"symbol\": \"circle\",\n",
       "            \"color\": \"rgba(0, 0, 4, 1.000)\",\n",
       "            \"line\": {\n",
       "                \"color\": \"rgba(0, 0, 0, 1.000)\",\n",
       "                \"width\": 0\n",
       "            },\n",
       "            \"size\": 2\n",
       "        },\n",
       "        \"zmax\": 6.339465910901892e200,\n",
       "        \"y\": [\n",
       "            2\n",
       "        ],\n",
       "        \"type\": \"scatter\"\n",
       "    },\n",
       "    {\n",
       "        \"xaxis\": \"x\",\n",
       "        \"colorbar\": {\n",
       "            \"title\": \"\"\n",
       "        },\n",
       "        \"yaxis\": \"y\",\n",
       "        \"x\": [\n",
       "            1\n",
       "        ],\n",
       "        \"showlegend\": false,\n",
       "        \"mode\": \"markers\",\n",
       "        \"name\": \"\",\n",
       "        \"zmin\": -1076.3999999999996,\n",
       "        \"legendgroup\": \"\",\n",
       "        \"marker\": {\n",
       "            \"symbol\": \"circle\",\n",
       "            \"color\": \"rgba(0, 0, 4, 1.000)\",\n",
       "            \"line\": {\n",
       "                \"color\": \"rgba(0, 0, 0, 1.000)\",\n",
       "                \"width\": 0\n",
       "            },\n",
       "            \"size\": 2\n",
       "        },\n",
       "        \"zmax\": 6.339465910901892e200,\n",
       "        \"y\": [\n",
       "            3\n",
       "        ],\n",
       "        \"type\": \"scatter\"\n",
       "    },\n",
       "    {\n",
       "        \"xaxis\": \"x\",\n",
       "        \"colorbar\": {\n",
       "            \"title\": \"\"\n",
       "        },\n",
       "        \"yaxis\": \"y\",\n",
       "        \"x\": [\n",
       "            1\n",
       "        ],\n",
       "        \"showlegend\": false,\n",
       "        \"mode\": \"markers\",\n",
       "        \"name\": \"\",\n",
       "        \"zmin\": -1076.3999999999996,\n",
       "        \"legendgroup\": \"\",\n",
       "        \"marker\": {\n",
       "            \"symbol\": \"circle\",\n",
       "            \"color\": \"rgba(0, 0, 4, 1.000)\",\n",
       "            \"line\": {\n",
       "                \"color\": \"rgba(0, 0, 0, 1.000)\",\n",
       "                \"width\": 0\n",
       "            },\n",
       "            \"size\": 2\n",
       "        },\n",
       "        \"zmax\": 6.339465910901892e200,\n",
       "        \"y\": [\n",
       "            4\n",
       "        ],\n",
       "        \"type\": \"scatter\"\n",
       "    },\n",
       "    {\n",
       "        \"xaxis\": \"x\",\n",
       "        \"colorbar\": {\n",
       "            \"title\": \"\"\n",
       "        },\n",
       "        \"yaxis\": \"y\",\n",
       "        \"x\": [\n",
       "            1\n",
       "        ],\n",
       "        \"showlegend\": false,\n",
       "        \"mode\": \"markers\",\n",
       "        \"name\": \"\",\n",
       "        \"zmin\": -1076.3999999999996,\n",
       "        \"legendgroup\": \"\",\n",
       "        \"marker\": {\n",
       "            \"symbol\": \"circle\",\n",
       "            \"color\": \"rgba(0, 0, 4, 1.000)\",\n",
       "            \"line\": {\n",
       "                \"color\": \"rgba(0, 0, 0, 1.000)\",\n",
       "                \"width\": 0\n",
       "            },\n",
       "            \"size\": 2\n",
       "        },\n",
       "        \"zmax\": 6.339465910901892e200,\n",
       "        \"y\": [\n",
       "            5\n",
       "        ],\n",
       "        \"type\": \"scatter\"\n",
       "    },\n",
       "    {\n",
       "        \"xaxis\": \"x\",\n",
       "        \"colorbar\": {\n",
       "            \"title\": \"\"\n",
       "        },\n",
       "        \"yaxis\": \"y\",\n",
       "        \"x\": [\n",
       "            1\n",
       "        ],\n",
       "        \"showlegend\": false,\n",
       "        \"mode\": \"markers\",\n",
       "        \"name\": \"\",\n",
       "        \"zmin\": -1076.3999999999996,\n",
       "        \"legendgroup\": \"\",\n",
       "        \"marker\": {\n",
       "            \"symbol\": \"circle\",\n",
       "            \"color\": \"rgba(0, 0, 4, 1.000)\",\n",
       "            \"line\": {\n",
       "                \"color\": \"rgba(0, 0, 0, 1.000)\",\n",
       "                \"width\": 0\n",
       "            },\n",
       "            \"size\": 2\n",
       "        },\n",
       "        \"zmax\": 6.339465910901892e200,\n",
       "        \"y\": [\n",
       "            6\n",
       "        ],\n",
       "        \"type\": \"scatter\"\n",
       "    },\n",
       "    {\n",
       "        \"xaxis\": \"x\",\n",
       "        \"colorbar\": {\n",
       "            \"title\": \"\"\n",
       "        },\n",
       "        \"yaxis\": \"y\",\n",
       "        \"x\": [\n",
       "            1\n",
       "        ],\n",
       "        \"showlegend\": false,\n",
       "        \"mode\": \"markers\",\n",
       "        \"name\": \"\",\n",
       "        \"zmin\": -1076.3999999999996,\n",
       "        \"legendgroup\": \"\",\n",
       "        \"marker\": {\n",
       "            \"symbol\": \"circle\",\n",
       "            \"color\": \"rgba(0, 0, 4, 1.000)\",\n",
       "            \"line\": {\n",
       "                \"color\": \"rgba(0, 0, 0, 1.000)\",\n",
       "                \"width\": 0\n",
       "            },\n",
       "            \"size\": 2\n",
       "        },\n",
       "        \"zmax\": 6.339465910901892e200,\n",
       "        \"y\": [\n",
       "            7\n",
       "        ],\n",
       "        \"type\": \"scatter\"\n",
       "    },\n",
       "    {\n",
       "        \"xaxis\": \"x\",\n",
       "        \"colorbar\": {\n",
       "            \"title\": \"\"\n",
       "        },\n",
       "        \"yaxis\": \"y\",\n",
       "        \"x\": [\n",
       "            1\n",
       "        ],\n",
       "        \"showlegend\": false,\n",
       "        \"mode\": \"markers\",\n",
       "        \"name\": \"\",\n",
       "        \"zmin\": -1076.3999999999996,\n",
       "        \"legendgroup\": \"\",\n",
       "        \"marker\": {\n",
       "            \"symbol\": \"circle\",\n",
       "            \"color\": \"rgba(0, 0, 4, 1.000)\",\n",
       "            \"line\": {\n",
       "                \"color\": \"rgba(0, 0, 0, 1.000)\",\n",
       "                \"width\": 0\n",
       "            },\n",
       "            \"size\": 2\n",
       "        },\n",
       "        \"zmax\": 6.339465910901892e200,\n",
       "        \"y\": [\n",
       "            8\n",
       "        ],\n",
       "        \"type\": \"scatter\"\n",
       "    },\n",
       "    {\n",
       "        \"xaxis\": \"x\",\n",
       "        \"colorbar\": {\n",
       "            \"title\": \"\"\n",
       "        },\n",
       "        \"yaxis\": \"y\",\n",
       "        \"x\": [\n",
       "            1\n",
       "        ],\n",
       "        \"showlegend\": false,\n",
       "        \"mode\": \"markers\",\n",
       "        \"name\": \"\",\n",
       "        \"zmin\": -1076.3999999999996,\n",
       "        \"legendgroup\": \"\",\n",
       "        \"marker\": {\n",
       "            \"symbol\": \"circle\",\n",
       "            \"color\": \"rgba(0, 0, 0, 0.000)\",\n",
       "            \"line\": {\n",
       "                \"color\": \"rgba(0, 0, 0, 1.000)\",\n",
       "                \"width\": 0\n",
       "            },\n",
       "            \"size\": 2\n",
       "        },\n",
       "        \"zmax\": 6.339465910901892e200,\n",
       "        \"y\": [\n",
       "            9\n",
       "        ],\n",
       "        \"type\": \"scatter\"\n",
       "    },\n",
       "    {\n",
       "        \"xaxis\": \"x\",\n",
       "        \"colorbar\": {\n",
       "            \"title\": \"\"\n",
       "        },\n",
       "        \"yaxis\": \"y\",\n",
       "        \"x\": [\n",
       "            1\n",
       "        ],\n",
       "        \"showlegend\": false,\n",
       "        \"mode\": \"markers\",\n",
       "        \"name\": \"\",\n",
       "        \"zmin\": -1076.3999999999996,\n",
       "        \"legendgroup\": \"\",\n",
       "        \"marker\": {\n",
       "            \"symbol\": \"circle\",\n",
       "            \"color\": \"rgba(0, 0, 0, 0.000)\",\n",
       "            \"line\": {\n",
       "                \"color\": \"rgba(0, 0, 0, 1.000)\",\n",
       "                \"width\": 0\n",
       "            },\n",
       "            \"size\": 2\n",
       "        },\n",
       "        \"zmax\": 6.339465910901892e200,\n",
       "        \"y\": [\n",
       "            10\n",
       "        ],\n",
       "        \"type\": \"scatter\"\n",
       "    },\n",
       "    {\n",
       "        \"xaxis\": \"x\",\n",
       "        \"colorbar\": {\n",
       "            \"title\": \"\"\n",
       "        },\n",
       "        \"yaxis\": \"y\",\n",
       "        \"x\": [\n",
       "            1\n",
       "        ],\n",
       "        \"showlegend\": false,\n",
       "        \"mode\": \"markers\",\n",
       "        \"name\": \"\",\n",
       "        \"zmin\": -1076.3999999999996,\n",
       "        \"legendgroup\": \"\",\n",
       "        \"marker\": {\n",
       "            \"symbol\": \"circle\",\n",
       "            \"color\": \"rgba(0, 0, 0, 0.000)\",\n",
       "            \"line\": {\n",
       "                \"color\": \"rgba(0, 0, 0, 1.000)\",\n",
       "                \"width\": 0\n",
       "            },\n",
       "            \"size\": 2\n",
       "        },\n",
       "        \"zmax\": 6.339465910901892e200,\n",
       "        \"y\": [\n",
       "            11\n",
       "        ],\n",
       "        \"type\": \"scatter\"\n",
       "    },\n",
       "    {\n",
       "        \"xaxis\": \"x\",\n",
       "        \"colorbar\": {\n",
       "            \"title\": \"\"\n",
       "        },\n",
       "        \"yaxis\": \"y\",\n",
       "        \"x\": [\n",
       "            1\n",
       "        ],\n",
       "        \"showlegend\": false,\n",
       "        \"mode\": \"markers\",\n",
       "        \"name\": \"\",\n",
       "        \"zmin\": -1076.3999999999996,\n",
       "        \"legendgroup\": \"\",\n",
       "        \"marker\": {\n",
       "            \"symbol\": \"circle\",\n",
       "            \"color\": \"rgba(0, 0, 0, 0.000)\",\n",
       "            \"line\": {\n",
       "                \"color\": \"rgba(0, 0, 0, 1.000)\",\n",
       "                \"width\": 0\n",
       "            },\n",
       "            \"size\": 2\n",
       "        },\n",
       "        \"zmax\": 6.339465910901892e200,\n",
       "        \"y\": [\n",
       "            12\n",
       "        ],\n",
       "        \"type\": \"scatter\"\n",
       "    },\n",
       "    {\n",
       "        \"xaxis\": \"x\",\n",
       "        \"colorbar\": {\n",
       "            \"title\": \"\"\n",
       "        },\n",
       "        \"yaxis\": \"y\",\n",
       "        \"x\": [\n",
       "            1\n",
       "        ],\n",
       "        \"showlegend\": false,\n",
       "        \"mode\": \"markers\",\n",
       "        \"name\": \"\",\n",
       "        \"zmin\": -1076.3999999999996,\n",
       "        \"legendgroup\": \"\",\n",
       "        \"marker\": {\n",
       "            \"symbol\": \"circle\",\n",
       "            \"color\": \"rgba(0, 0, 0, 0.000)\",\n",
       "            \"line\": {\n",
       "                \"color\": \"rgba(0, 0, 0, 1.000)\",\n",
       "                \"width\": 0\n",
       "            },\n",
       "            \"size\": 2\n",
       "        },\n",
       "        \"zmax\": 6.339465910901892e200,\n",
       "        \"y\": [\n",
       "            13\n",
       "        ],\n",
       "        \"type\": \"scatter\"\n",
       "    },\n",
       "    {\n",
       "        \"xaxis\": \"x\",\n",
       "        \"colorbar\": {\n",
       "            \"title\": \"\"\n",
       "        },\n",
       "        \"yaxis\": \"y\",\n",
       "        \"x\": [\n",
       "            1\n",
       "        ],\n",
       "        \"showlegend\": false,\n",
       "        \"mode\": \"markers\",\n",
       "        \"name\": \"\",\n",
       "        \"zmin\": -1076.3999999999996,\n",
       "        \"legendgroup\": \"\",\n",
       "        \"marker\": {\n",
       "            \"symbol\": \"circle\",\n",
       "            \"color\": \"rgba(0, 0, 0, 0.000)\",\n",
       "            \"line\": {\n",
       "                \"color\": \"rgba(0, 0, 0, 1.000)\",\n",
       "                \"width\": 0\n",
       "            },\n",
       "            \"size\": 2\n",
       "        },\n",
       "        \"zmax\": 6.339465910901892e200,\n",
       "        \"y\": [\n",
       "            14\n",
       "        ],\n",
       "        \"type\": \"scatter\"\n",
       "    },\n",
       "    {\n",
       "        \"xaxis\": \"x\",\n",
       "        \"colorbar\": {\n",
       "            \"title\": \"\"\n",
       "        },\n",
       "        \"yaxis\": \"y\",\n",
       "        \"x\": [\n",
       "            1\n",
       "        ],\n",
       "        \"showlegend\": false,\n",
       "        \"mode\": \"markers\",\n",
       "        \"name\": \"\",\n",
       "        \"zmin\": -1076.3999999999996,\n",
       "        \"legendgroup\": \"\",\n",
       "        \"marker\": {\n",
       "            \"symbol\": \"circle\",\n",
       "            \"color\": \"rgba(0, 0, 0, 0.000)\",\n",
       "            \"line\": {\n",
       "                \"color\": \"rgba(0, 0, 0, 1.000)\",\n",
       "                \"width\": 0\n",
       "            },\n",
       "            \"size\": 2\n",
       "        },\n",
       "        \"zmax\": 6.339465910901892e200,\n",
       "        \"y\": [\n",
       "            15\n",
       "        ],\n",
       "        \"type\": \"scatter\"\n",
       "    },\n",
       "    {\n",
       "        \"xaxis\": \"x\",\n",
       "        \"colorbar\": {\n",
       "            \"title\": \"\"\n",
       "        },\n",
       "        \"yaxis\": \"y\",\n",
       "        \"x\": [\n",
       "            1\n",
       "        ],\n",
       "        \"showlegend\": false,\n",
       "        \"mode\": \"markers\",\n",
       "        \"name\": \"\",\n",
       "        \"zmin\": -1076.3999999999996,\n",
       "        \"legendgroup\": \"\",\n",
       "        \"marker\": {\n",
       "            \"symbol\": \"circle\",\n",
       "            \"color\": \"rgba(0, 0, 0, 0.000)\",\n",
       "            \"line\": {\n",
       "                \"color\": \"rgba(0, 0, 0, 1.000)\",\n",
       "                \"width\": 0\n",
       "            },\n",
       "            \"size\": 2\n",
       "        },\n",
       "        \"zmax\": 6.339465910901892e200,\n",
       "        \"y\": [\n",
       "            16\n",
       "        ],\n",
       "        \"type\": \"scatter\"\n",
       "    },\n",
       "    {\n",
       "        \"xaxis\": \"x\",\n",
       "        \"colorbar\": {\n",
       "            \"title\": \"\"\n",
       "        },\n",
       "        \"yaxis\": \"y\",\n",
       "        \"x\": [\n",
       "            1\n",
       "        ],\n",
       "        \"showlegend\": false,\n",
       "        \"mode\": \"markers\",\n",
       "        \"name\": \"\",\n",
       "        \"zmin\": -1076.3999999999996,\n",
       "        \"legendgroup\": \"\",\n",
       "        \"marker\": {\n",
       "            \"symbol\": \"circle\",\n",
       "            \"color\": \"rgba(0, 0, 0, 0.000)\",\n",
       "            \"line\": {\n",
       "                \"color\": \"rgba(0, 0, 0, 1.000)\",\n",
       "                \"width\": 0\n",
       "            },\n",
       "            \"size\": 2\n",
       "        },\n",
       "        \"zmax\": 6.339465910901892e200,\n",
       "        \"y\": [\n",
       "            17\n",
       "        ],\n",
       "        \"type\": \"scatter\"\n",
       "    },\n",
       "    {\n",
       "        \"xaxis\": \"x\",\n",
       "        \"colorbar\": {\n",
       "            \"title\": \"\"\n",
       "        },\n",
       "        \"yaxis\": \"y\",\n",
       "        \"x\": [\n",
       "            1\n",
       "        ],\n",
       "        \"showlegend\": false,\n",
       "        \"mode\": \"markers\",\n",
       "        \"name\": \"\",\n",
       "        \"zmin\": -1076.3999999999996,\n",
       "        \"legendgroup\": \"\",\n",
       "        \"marker\": {\n",
       "            \"symbol\": \"circle\",\n",
       "            \"color\": \"rgba(0, 0, 0, 0.000)\",\n",
       "            \"line\": {\n",
       "                \"color\": \"rgba(0, 0, 0, 1.000)\",\n",
       "                \"width\": 0\n",
       "            },\n",
       "            \"size\": 2\n",
       "        },\n",
       "        \"zmax\": 6.339465910901892e200,\n",
       "        \"y\": [\n",
       "            18\n",
       "        ],\n",
       "        \"type\": \"scatter\"\n",
       "    },\n",
       "    {\n",
       "        \"xaxis\": \"x\",\n",
       "        \"colorbar\": {\n",
       "            \"title\": \"\"\n",
       "        },\n",
       "        \"yaxis\": \"y\",\n",
       "        \"x\": [\n",
       "            1\n",
       "        ],\n",
       "        \"showlegend\": false,\n",
       "        \"mode\": \"markers\",\n",
       "        \"name\": \"\",\n",
       "        \"zmin\": -1076.3999999999996,\n",
       "        \"legendgroup\": \"\",\n",
       "        \"marker\": {\n",
       "            \"symbol\": \"circle\",\n",
       "            \"color\": \"rgba(0, 0, 0, 0.000)\",\n",
       "            \"line\": {\n",
       "                \"color\": \"rgba(0, 0, 0, 1.000)\",\n",
       "                \"width\": 0\n",
       "            },\n",
       "            \"size\": 2\n",
       "        },\n",
       "        \"zmax\": 6.339465910901892e200,\n",
       "        \"y\": [\n",
       "            19\n",
       "        ],\n",
       "        \"type\": \"scatter\"\n",
       "    },\n",
       "    {\n",
       "        \"xaxis\": \"x\",\n",
       "        \"colorbar\": {\n",
       "            \"title\": \"\"\n",
       "        },\n",
       "        \"yaxis\": \"y\",\n",
       "        \"x\": [\n",
       "            1\n",
       "        ],\n",
       "        \"showlegend\": false,\n",
       "        \"mode\": \"markers\",\n",
       "        \"name\": \"\",\n",
       "        \"zmin\": -1076.3999999999996,\n",
       "        \"legendgroup\": \"\",\n",
       "        \"marker\": {\n",
       "            \"symbol\": \"circle\",\n",
       "            \"color\": \"rgba(0, 0, 0, 0.000)\",\n",
       "            \"line\": {\n",
       "                \"color\": \"rgba(0, 0, 0, 1.000)\",\n",
       "                \"width\": 0\n",
       "            },\n",
       "            \"size\": 2\n",
       "        },\n",
       "        \"zmax\": 6.339465910901892e200,\n",
       "        \"y\": [\n",
       "            20\n",
       "        ],\n",
       "        \"type\": \"scatter\"\n",
       "    },\n",
       "    {\n",
       "        \"xaxis\": \"x\",\n",
       "        \"colorbar\": {\n",
       "            \"title\": \"\"\n",
       "        },\n",
       "        \"yaxis\": \"y\",\n",
       "        \"x\": [\n",
       "            1\n",
       "        ],\n",
       "        \"showlegend\": false,\n",
       "        \"mode\": \"markers\",\n",
       "        \"name\": \"\",\n",
       "        \"zmin\": -1076.3999999999996,\n",
       "        \"legendgroup\": \"\",\n",
       "        \"marker\": {\n",
       "            \"symbol\": \"circle\",\n",
       "            \"color\": \"rgba(0, 0, 0, 0.000)\",\n",
       "            \"line\": {\n",
       "                \"color\": \"rgba(0, 0, 0, 1.000)\",\n",
       "                \"width\": 0\n",
       "            },\n",
       "            \"size\": 2\n",
       "        },\n",
       "        \"zmax\": 6.339465910901892e200,\n",
       "        \"y\": [\n",
       "            21\n",
       "        ],\n",
       "        \"type\": \"scatter\"\n",
       "    },\n",
       "    {\n",
       "        \"xaxis\": \"x\",\n",
       "        \"colorbar\": {\n",
       "            \"title\": \"\"\n",
       "        },\n",
       "        \"yaxis\": \"y\",\n",
       "        \"x\": [\n",
       "            1\n",
       "        ],\n",
       "        \"showlegend\": false,\n",
       "        \"mode\": \"markers\",\n",
       "        \"name\": \"\",\n",
       "        \"zmin\": -1076.3999999999996,\n",
       "        \"legendgroup\": \"\",\n",
       "        \"marker\": {\n",
       "            \"symbol\": \"circle\",\n",
       "            \"color\": \"rgba(0, 0, 0, 0.000)\",\n",
       "            \"line\": {\n",
       "                \"color\": \"rgba(0, 0, 0, 1.000)\",\n",
       "                \"width\": 0\n",
       "            },\n",
       "            \"size\": 2\n",
       "        },\n",
       "        \"zmax\": 6.339465910901892e200,\n",
       "        \"y\": [\n",
       "            22\n",
       "        ],\n",
       "        \"type\": \"scatter\"\n",
       "    },\n",
       "    {\n",
       "        \"xaxis\": \"x\",\n",
       "        \"colorbar\": {\n",
       "            \"title\": \"\"\n",
       "        },\n",
       "        \"yaxis\": \"y\",\n",
       "        \"x\": [\n",
       "            1\n",
       "        ],\n",
       "        \"showlegend\": false,\n",
       "        \"mode\": \"markers\",\n",
       "        \"name\": \"\",\n",
       "        \"zmin\": -1076.3999999999996,\n",
       "        \"legendgroup\": \"\",\n",
       "        \"marker\": {\n",
       "            \"symbol\": \"circle\",\n",
       "            \"color\": \"rgba(0, 0, 0, 0.000)\",\n",
       "            \"line\": {\n",
       "                \"color\": \"rgba(0, 0, 0, 1.000)\",\n",
       "                \"width\": 0\n",
       "            },\n",
       "            \"size\": 2\n",
       "        },\n",
       "        \"zmax\": 6.339465910901892e200,\n",
       "        \"y\": [\n",
       "            23\n",
       "        ],\n",
       "        \"type\": \"scatter\"\n",
       "    },\n",
       "    {\n",
       "        \"xaxis\": \"x\",\n",
       "        \"colorbar\": {\n",
       "            \"title\": \"\"\n",
       "        },\n",
       "        \"yaxis\": \"y\",\n",
       "        \"x\": [\n",
       "            1\n",
       "        ],\n",
       "        \"showlegend\": false,\n",
       "        \"mode\": \"markers\",\n",
       "        \"name\": \"\",\n",
       "        \"zmin\": -1076.3999999999996,\n",
       "        \"legendgroup\": \"\",\n",
       "        \"marker\": {\n",
       "            \"symbol\": \"circle\",\n",
       "            \"color\": \"rgba(0, 0, 0, 0.000)\",\n",
       "            \"line\": {\n",
       "                \"color\": \"rgba(0, 0, 0, 1.000)\",\n",
       "                \"width\": 0\n",
       "            },\n",
       "            \"size\": 2\n",
       "        },\n",
       "        \"zmax\": 6.339465910901892e200,\n",
       "        \"y\": [\n",
       "            24\n",
       "        ],\n",
       "        \"type\": \"scatter\"\n",
       "    },\n",
       "    {\n",
       "        \"xaxis\": \"x\",\n",
       "        \"colorbar\": {\n",
       "            \"title\": \"\"\n",
       "        },\n",
       "        \"yaxis\": \"y\",\n",
       "        \"x\": [\n",
       "            1\n",
       "        ],\n",
       "        \"showlegend\": false,\n",
       "        \"mode\": \"markers\",\n",
       "        \"name\": \"\",\n",
       "        \"zmin\": -1076.3999999999996,\n",
       "        \"legendgroup\": \"\",\n",
       "        \"marker\": {\n",
       "            \"symbol\": \"circle\",\n",
       "            \"color\": \"rgba(0, 0, 0, 0.000)\",\n",
       "            \"line\": {\n",
       "                \"color\": \"rgba(0, 0, 0, 1.000)\",\n",
       "                \"width\": 0\n",
       "            },\n",
       "            \"size\": 2\n",
       "        },\n",
       "        \"zmax\": 6.339465910901892e200,\n",
       "        \"y\": [\n",
       "            25\n",
       "        ],\n",
       "        \"type\": \"scatter\"\n",
       "    },\n",
       "    {\n",
       "        \"xaxis\": \"x\",\n",
       "        \"colorbar\": {\n",
       "            \"title\": \"\"\n",
       "        },\n",
       "        \"yaxis\": \"y\",\n",
       "        \"x\": [\n",
       "            1\n",
       "        ],\n",
       "        \"showlegend\": false,\n",
       "        \"mode\": \"markers\",\n",
       "        \"name\": \"\",\n",
       "        \"zmin\": -1076.3999999999996,\n",
       "        \"legendgroup\": \"\",\n",
       "        \"marker\": {\n",
       "            \"symbol\": \"circle\",\n",
       "            \"color\": \"rgba(0, 0, 0, 0.000)\",\n",
       "            \"line\": {\n",
       "                \"color\": \"rgba(0, 0, 0, 1.000)\",\n",
       "                \"width\": 0\n",
       "            },\n",
       "            \"size\": 2\n",
       "        },\n",
       "        \"zmax\": 6.339465910901892e200,\n",
       "        \"y\": [\n",
       "            26\n",
       "        ],\n",
       "        \"type\": \"scatter\"\n",
       "    },\n",
       "    {\n",
       "        \"xaxis\": \"x\",\n",
       "        \"colorbar\": {\n",
       "            \"title\": \"\"\n",
       "        },\n",
       "        \"yaxis\": \"y\",\n",
       "        \"x\": [\n",
       "            2\n",
       "        ],\n",
       "        \"showlegend\": false,\n",
       "        \"mode\": \"markers\",\n",
       "        \"name\": \"\",\n",
       "        \"zmin\": -1076.3999999999996,\n",
       "        \"legendgroup\": \"\",\n",
       "        \"marker\": {\n",
       "            \"symbol\": \"circle\",\n",
       "            \"color\": \"rgba(0, 0, 4, 1.000)\",\n",
       "            \"line\": {\n",
       "                \"color\": \"rgba(0, 0, 0, 1.000)\",\n",
       "                \"width\": 0\n",
       "            },\n",
       "            \"size\": 2\n",
       "        },\n",
       "        \"zmax\": 6.339465910901892e200,\n",
       "        \"y\": [\n",
       "            1\n",
       "        ],\n",
       "        \"type\": \"scatter\"\n",
       "    },\n",
       "    {\n",
       "        \"xaxis\": \"x\",\n",
       "        \"colorbar\": {\n",
       "            \"title\": \"\"\n",
       "        },\n",
       "        \"yaxis\": \"y\",\n",
       "        \"x\": [\n",
       "            2\n",
       "        ],\n",
       "        \"showlegend\": false,\n",
       "        \"mode\": \"markers\",\n",
       "        \"name\": \"\",\n",
       "        \"zmin\": -1076.3999999999996,\n",
       "        \"legendgroup\": \"\",\n",
       "        \"marker\": {\n",
       "            \"symbol\": \"circle\",\n",
       "            \"color\": \"rgba(0, 0, 4, 1.000)\",\n",
       "            \"line\": {\n",
       "                \"color\": \"rgba(0, 0, 0, 1.000)\",\n",
       "                \"width\": 0\n",
       "            },\n",
       "            \"size\": 2\n",
       "        },\n",
       "        \"zmax\": 6.339465910901892e200,\n",
       "        \"y\": [\n",
       "            2\n",
       "        ],\n",
       "        \"type\": \"scatter\"\n",
       "    },\n",
       "    {\n",
       "        \"xaxis\": \"x\",\n",
       "        \"colorbar\": {\n",
       "            \"title\": \"\"\n",
       "        },\n",
       "        \"yaxis\": \"y\",\n",
       "        \"x\": [\n",
       "            2\n",
       "        ],\n",
       "        \"showlegend\": false,\n",
       "        \"mode\": \"markers\",\n",
       "        \"name\": \"\",\n",
       "        \"zmin\": -1076.3999999999996,\n",
       "        \"legendgroup\": \"\",\n",
       "        \"marker\": {\n",
       "            \"symbol\": \"circle\",\n",
       "            \"color\": \"rgba(0, 0, 4, 1.000)\",\n",
       "            \"line\": {\n",
       "                \"color\": \"rgba(0, 0, 0, 1.000)\",\n",
       "                \"width\": 0\n",
       "            },\n",
       "            \"size\": 2\n",
       "        },\n",
       "        \"zmax\": 6.339465910901892e200,\n",
       "        \"y\": [\n",
       "            3\n",
       "        ],\n",
       "        \"type\": \"scatter\"\n",
       "    },\n",
       "    {\n",
       "        \"xaxis\": \"x\",\n",
       "        \"colorbar\": {\n",
       "            \"title\": \"\"\n",
       "        },\n",
       "        \"yaxis\": \"y\",\n",
       "        \"x\": [\n",
       "            2\n",
       "        ],\n",
       "        \"showlegend\": false,\n",
       "        \"mode\": \"markers\",\n",
       "        \"name\": \"\",\n",
       "        \"zmin\": -1076.3999999999996,\n",
       "        \"legendgroup\": \"\",\n",
       "        \"marker\": {\n",
       "            \"symbol\": \"circle\",\n",
       "            \"color\": \"rgba(0, 0, 4, 1.000)\",\n",
       "            \"line\": {\n",
       "                \"color\": \"rgba(0, 0, 0, 1.000)\",\n",
       "                \"width\": 0\n",
       "            },\n",
       "            \"size\": 2\n",
       "        },\n",
       "        \"zmax\": 6.339465910901892e200,\n",
       "        \"y\": [\n",
       "            4\n",
       "        ],\n",
       "        \"type\": \"scatter\"\n",
       "    },\n",
       "    {\n",
       "        \"xaxis\": \"x\",\n",
       "        \"colorbar\": {\n",
       "            \"title\": \"\"\n",
       "        },\n",
       "        \"yaxis\": \"y\",\n",
       "        \"x\": [\n",
       "            2\n",
       "        ],\n",
       "        \"showlegend\": false,\n",
       "        \"mode\": \"markers\",\n",
       "        \"name\": \"\",\n",
       "        \"zmin\": -1076.3999999999996,\n",
       "        \"legendgroup\": \"\",\n",
       "        \"marker\": {\n",
       "            \"symbol\": \"circle\",\n",
       "            \"color\": \"rgba(0, 0, 4, 1.000)\",\n",
       "            \"line\": {\n",
       "                \"color\": \"rgba(0, 0, 0, 1.000)\",\n",
       "                \"width\": 0\n",
       "            },\n",
       "            \"size\": 2\n",
       "        },\n",
       "        \"zmax\": 6.339465910901892e200,\n",
       "        \"y\": [\n",
       "            5\n",
       "        ],\n",
       "        \"type\": \"scatter\"\n",
       "    },\n",
       "    {\n",
       "        \"xaxis\": \"x\",\n",
       "        \"colorbar\": {\n",
       "            \"title\": \"\"\n",
       "        },\n",
       "        \"yaxis\": \"y\",\n",
       "        \"x\": [\n",
       "            2\n",
       "        ],\n",
       "        \"showlegend\": false,\n",
       "        \"mode\": \"markers\",\n",
       "        \"name\": \"\",\n",
       "        \"zmin\": -1076.3999999999996,\n",
       "        \"legendgroup\": \"\",\n",
       "        \"marker\": {\n",
       "            \"symbol\": \"circle\",\n",
       "            \"color\": \"rgba(0, 0, 4, 1.000)\",\n",
       "            \"line\": {\n",
       "                \"color\": \"rgba(0, 0, 0, 1.000)\",\n",
       "                \"width\": 0\n",
       "            },\n",
       "            \"size\": 2\n",
       "        },\n",
       "        \"zmax\": 6.339465910901892e200,\n",
       "        \"y\": [\n",
       "            6\n",
       "        ],\n",
       "        \"type\": \"scatter\"\n",
       "    },\n",
       "    {\n",
       "        \"xaxis\": \"x\",\n",
       "        \"colorbar\": {\n",
       "            \"title\": \"\"\n",
       "        },\n",
       "        \"yaxis\": \"y\",\n",
       "        \"x\": [\n",
       "            2\n",
       "        ],\n",
       "        \"showlegend\": false,\n",
       "        \"mode\": \"markers\",\n",
       "        \"name\": \"\",\n",
       "        \"zmin\": -1076.3999999999996,\n",
       "        \"legendgroup\": \"\",\n",
       "        \"marker\": {\n",
       "            \"symbol\": \"circle\",\n",
       "            \"color\": \"rgba(0, 0, 4, 1.000)\",\n",
       "            \"line\": {\n",
       "                \"color\": \"rgba(0, 0, 0, 1.000)\",\n",
       "                \"width\": 0\n",
       "            },\n",
       "            \"size\": 2\n",
       "        },\n",
       "        \"zmax\": 6.339465910901892e200,\n",
       "        \"y\": [\n",
       "            7\n",
       "        ],\n",
       "        \"type\": \"scatter\"\n",
       "    },\n",
       "    {\n",
       "        \"xaxis\": \"x\",\n",
       "        \"colorbar\": {\n",
       "            \"title\": \"\"\n",
       "        },\n",
       "        \"yaxis\": \"y\",\n",
       "        \"x\": [\n",
       "            2\n",
       "        ],\n",
       "        \"showlegend\": false,\n",
       "        \"mode\": \"markers\",\n",
       "        \"name\": \"\",\n",
       "        \"zmin\": -1076.3999999999996,\n",
       "        \"legendgroup\": \"\",\n",
       "        \"marker\": {\n",
       "            \"symbol\": \"circle\",\n",
       "            \"color\": \"rgba(252, 255, 164, 1.000)\",\n",
       "            \"line\": {\n",
       "                \"color\": \"rgba(0, 0, 0, 1.000)\",\n",
       "                \"width\": 0\n",
       "            },\n",
       "            \"size\": 2\n",
       "        },\n",
       "        \"zmax\": 6.339465910901892e200,\n",
       "        \"y\": [\n",
       "            8\n",
       "        ],\n",
       "        \"type\": \"scatter\"\n",
       "    },\n",
       "    {\n",
       "        \"xaxis\": \"x\",\n",
       "        \"colorbar\": {\n",
       "            \"title\": \"\"\n",
       "        },\n",
       "        \"yaxis\": \"y\",\n",
       "        \"x\": [\n",
       "            2\n",
       "        ],\n",
       "        \"showlegend\": false,\n",
       "        \"mode\": \"markers\",\n",
       "        \"name\": \"\",\n",
       "        \"zmin\": -1076.3999999999996,\n",
       "        \"legendgroup\": \"\",\n",
       "        \"marker\": {\n",
       "            \"symbol\": \"circle\",\n",
       "            \"color\": \"rgba(0, 0, 0, 0.000)\",\n",
       "            \"line\": {\n",
       "                \"color\": \"rgba(0, 0, 0, 1.000)\",\n",
       "                \"width\": 0\n",
       "            },\n",
       "            \"size\": 2\n",
       "        },\n",
       "        \"zmax\": 6.339465910901892e200,\n",
       "        \"y\": [\n",
       "            9\n",
       "        ],\n",
       "        \"type\": \"scatter\"\n",
       "    },\n",
       "    {\n",
       "        \"xaxis\": \"x\",\n",
       "        \"colorbar\": {\n",
       "            \"title\": \"\"\n",
       "        },\n",
       "        \"yaxis\": \"y\",\n",
       "        \"x\": [\n",
       "            2\n",
       "        ],\n",
       "        \"showlegend\": false,\n",
       "        \"mode\": \"markers\",\n",
       "        \"name\": \"\",\n",
       "        \"zmin\": -1076.3999999999996,\n",
       "        \"legendgroup\": \"\",\n",
       "        \"marker\": {\n",
       "            \"symbol\": \"circle\",\n",
       "            \"color\": \"rgba(0, 0, 0, 0.000)\",\n",
       "            \"line\": {\n",
       "                \"color\": \"rgba(0, 0, 0, 1.000)\",\n",
       "                \"width\": 0\n",
       "            },\n",
       "            \"size\": 2\n",
       "        },\n",
       "        \"zmax\": 6.339465910901892e200,\n",
       "        \"y\": [\n",
       "            10\n",
       "        ],\n",
       "        \"type\": \"scatter\"\n",
       "    },\n",
       "    {\n",
       "        \"xaxis\": \"x\",\n",
       "        \"colorbar\": {\n",
       "            \"title\": \"\"\n",
       "        },\n",
       "        \"yaxis\": \"y\",\n",
       "        \"x\": [\n",
       "            2\n",
       "        ],\n",
       "        \"showlegend\": false,\n",
       "        \"mode\": \"markers\",\n",
       "        \"name\": \"\",\n",
       "        \"zmin\": -1076.3999999999996,\n",
       "        \"legendgroup\": \"\",\n",
       "        \"marker\": {\n",
       "            \"symbol\": \"circle\",\n",
       "            \"color\": \"rgba(0, 0, 0, 0.000)\",\n",
       "            \"line\": {\n",
       "                \"color\": \"rgba(0, 0, 0, 1.000)\",\n",
       "                \"width\": 0\n",
       "            },\n",
       "            \"size\": 2\n",
       "        },\n",
       "        \"zmax\": 6.339465910901892e200,\n",
       "        \"y\": [\n",
       "            11\n",
       "        ],\n",
       "        \"type\": \"scatter\"\n",
       "    },\n",
       "    {\n",
       "        \"xaxis\": \"x\",\n",
       "        \"colorbar\": {\n",
       "            \"title\": \"\"\n",
       "        },\n",
       "        \"yaxis\": \"y\",\n",
       "        \"x\": [\n",
       "            2\n",
       "        ],\n",
       "        \"showlegend\": false,\n",
       "        \"mode\": \"markers\",\n",
       "        \"name\": \"\",\n",
       "        \"zmin\": -1076.3999999999996,\n",
       "        \"legendgroup\": \"\",\n",
       "        \"marker\": {\n",
       "            \"symbol\": \"circle\",\n",
       "            \"color\": \"rgba(0, 0, 0, 0.000)\",\n",
       "            \"line\": {\n",
       "                \"color\": \"rgba(0, 0, 0, 1.000)\",\n",
       "                \"width\": 0\n",
       "            },\n",
       "            \"size\": 2\n",
       "        },\n",
       "        \"zmax\": 6.339465910901892e200,\n",
       "        \"y\": [\n",
       "            12\n",
       "        ],\n",
       "        \"type\": \"scatter\"\n",
       "    },\n",
       "    {\n",
       "        \"xaxis\": \"x\",\n",
       "        \"colorbar\": {\n",
       "            \"title\": \"\"\n",
       "        },\n",
       "        \"yaxis\": \"y\",\n",
       "        \"x\": [\n",
       "            2\n",
       "        ],\n",
       "        \"showlegend\": false,\n",
       "        \"mode\": \"markers\",\n",
       "        \"name\": \"\",\n",
       "        \"zmin\": -1076.3999999999996,\n",
       "        \"legendgroup\": \"\",\n",
       "        \"marker\": {\n",
       "            \"symbol\": \"circle\",\n",
       "            \"color\": \"rgba(0, 0, 0, 0.000)\",\n",
       "            \"line\": {\n",
       "                \"color\": \"rgba(0, 0, 0, 1.000)\",\n",
       "                \"width\": 0\n",
       "            },\n",
       "            \"size\": 2\n",
       "        },\n",
       "        \"zmax\": 6.339465910901892e200,\n",
       "        \"y\": [\n",
       "            13\n",
       "        ],\n",
       "        \"type\": \"scatter\"\n",
       "    },\n",
       "    {\n",
       "        \"xaxis\": \"x\",\n",
       "        \"colorbar\": {\n",
       "            \"title\": \"\"\n",
       "        },\n",
       "        \"yaxis\": \"y\",\n",
       "        \"x\": [\n",
       "            2\n",
       "        ],\n",
       "        \"showlegend\": false,\n",
       "        \"mode\": \"markers\",\n",
       "        \"name\": \"\",\n",
       "        \"zmin\": -1076.3999999999996,\n",
       "        \"legendgroup\": \"\",\n",
       "        \"marker\": {\n",
       "            \"symbol\": \"circle\",\n",
       "            \"color\": \"rgba(0, 0, 0, 0.000)\",\n",
       "            \"line\": {\n",
       "                \"color\": \"rgba(0, 0, 0, 1.000)\",\n",
       "                \"width\": 0\n",
       "            },\n",
       "            \"size\": 2\n",
       "        },\n",
       "        \"zmax\": 6.339465910901892e200,\n",
       "        \"y\": [\n",
       "            14\n",
       "        ],\n",
       "        \"type\": \"scatter\"\n",
       "    },\n",
       "    {\n",
       "        \"xaxis\": \"x\",\n",
       "        \"colorbar\": {\n",
       "            \"title\": \"\"\n",
       "        },\n",
       "        \"yaxis\": \"y\",\n",
       "        \"x\": [\n",
       "            2\n",
       "        ],\n",
       "        \"showlegend\": false,\n",
       "        \"mode\": \"markers\",\n",
       "        \"name\": \"\",\n",
       "        \"zmin\": -1076.3999999999996,\n",
       "        \"legendgroup\": \"\",\n",
       "        \"marker\": {\n",
       "            \"symbol\": \"circle\",\n",
       "            \"color\": \"rgba(0, 0, 0, 0.000)\",\n",
       "            \"line\": {\n",
       "                \"color\": \"rgba(0, 0, 0, 1.000)\",\n",
       "                \"width\": 0\n",
       "            },\n",
       "            \"size\": 2\n",
       "        },\n",
       "        \"zmax\": 6.339465910901892e200,\n",
       "        \"y\": [\n",
       "            15\n",
       "        ],\n",
       "        \"type\": \"scatter\"\n",
       "    },\n",
       "    {\n",
       "        \"xaxis\": \"x\",\n",
       "        \"colorbar\": {\n",
       "            \"title\": \"\"\n",
       "        },\n",
       "        \"yaxis\": \"y\",\n",
       "        \"x\": [\n",
       "            2\n",
       "        ],\n",
       "        \"showlegend\": false,\n",
       "        \"mode\": \"markers\",\n",
       "        \"name\": \"\",\n",
       "        \"zmin\": -1076.3999999999996,\n",
       "        \"legendgroup\": \"\",\n",
       "        \"marker\": {\n",
       "            \"symbol\": \"circle\",\n",
       "            \"color\": \"rgba(0, 0, 0, 0.000)\",\n",
       "            \"line\": {\n",
       "                \"color\": \"rgba(0, 0, 0, 1.000)\",\n",
       "                \"width\": 0\n",
       "            },\n",
       "            \"size\": 2\n",
       "        },\n",
       "        \"zmax\": 6.339465910901892e200,\n",
       "        \"y\": [\n",
       "            16\n",
       "        ],\n",
       "        \"type\": \"scatter\"\n",
       "    },\n",
       "    {\n",
       "        \"xaxis\": \"x\",\n",
       "        \"colorbar\": {\n",
       "            \"title\": \"\"\n",
       "        },\n",
       "        \"yaxis\": \"y\",\n",
       "        \"x\": [\n",
       "            2\n",
       "        ],\n",
       "        \"showlegend\": false,\n",
       "        \"mode\": \"markers\",\n",
       "        \"name\": \"\",\n",
       "        \"zmin\": -1076.3999999999996,\n",
       "        \"legendgroup\": \"\",\n",
       "        \"marker\": {\n",
       "            \"symbol\": \"circle\",\n",
       "            \"color\": \"rgba(0, 0, 0, 0.000)\",\n",
       "            \"line\": {\n",
       "                \"color\": \"rgba(0, 0, 0, 1.000)\",\n",
       "                \"width\": 0\n",
       "            },\n",
       "            \"size\": 2\n",
       "        },\n",
       "        \"zmax\": 6.339465910901892e200,\n",
       "        \"y\": [\n",
       "            17\n",
       "        ],\n",
       "        \"type\": \"scatter\"\n",
       "    },\n",
       "    {\n",
       "        \"xaxis\": \"x\",\n",
       "        \"colorbar\": {\n",
       "            \"title\": \"\"\n",
       "        },\n",
       "        \"yaxis\": \"y\",\n",
       "        \"x\": [\n",
       "            2\n",
       "        ],\n",
       "        \"showlegend\": false,\n",
       "        \"mode\": \"markers\",\n",
       "        \"name\": \"\",\n",
       "        \"zmin\": -1076.3999999999996,\n",
       "        \"legendgroup\": \"\",\n",
       "        \"marker\": {\n",
       "            \"symbol\": \"circle\",\n",
       "            \"color\": \"rgba(0, 0, 0, 0.000)\",\n",
       "            \"line\": {\n",
       "                \"color\": \"rgba(0, 0, 0, 1.000)\",\n",
       "                \"width\": 0\n",
       "            },\n",
       "            \"size\": 2\n",
       "        },\n",
       "        \"zmax\": 6.339465910901892e200,\n",
       "        \"y\": [\n",
       "            18\n",
       "        ],\n",
       "        \"type\": \"scatter\"\n",
       "    },\n",
       "    {\n",
       "        \"xaxis\": \"x\",\n",
       "        \"colorbar\": {\n",
       "            \"title\": \"\"\n",
       "        },\n",
       "        \"yaxis\": \"y\",\n",
       "        \"x\": [\n",
       "            2\n",
       "        ],\n",
       "        \"showlegend\": false,\n",
       "        \"mode\": \"markers\",\n",
       "        \"name\": \"\",\n",
       "        \"zmin\": -1076.3999999999996,\n",
       "        \"legendgroup\": \"\",\n",
       "        \"marker\": {\n",
       "            \"symbol\": \"circle\",\n",
       "            \"color\": \"rgba(0, 0, 0, 0.000)\",\n",
       "            \"line\": {\n",
       "                \"color\": \"rgba(0, 0, 0, 1.000)\",\n",
       "                \"width\": 0\n",
       "            },\n",
       "            \"size\": 2\n",
       "        },\n",
       "        \"zmax\": 6.339465910901892e200,\n",
       "        \"y\": [\n",
       "            19\n",
       "        ],\n",
       "        \"type\": \"scatter\"\n",
       "    },\n",
       "    {\n",
       "        \"xaxis\": \"x\",\n",
       "        \"colorbar\": {\n",
       "            \"title\": \"\"\n",
       "        },\n",
       "        \"yaxis\": \"y\",\n",
       "        \"x\": [\n",
       "            2\n",
       "        ],\n",
       "        \"showlegend\": false,\n",
       "        \"mode\": \"markers\",\n",
       "        \"name\": \"\",\n",
       "        \"zmin\": -1076.3999999999996,\n",
       "        \"legendgroup\": \"\",\n",
       "        \"marker\": {\n",
       "            \"symbol\": \"circle\",\n",
       "            \"color\": \"rgba(0, 0, 0, 0.000)\",\n",
       "            \"line\": {\n",
       "                \"color\": \"rgba(0, 0, 0, 1.000)\",\n",
       "                \"width\": 0\n",
       "            },\n",
       "            \"size\": 2\n",
       "        },\n",
       "        \"zmax\": 6.339465910901892e200,\n",
       "        \"y\": [\n",
       "            20\n",
       "        ],\n",
       "        \"type\": \"scatter\"\n",
       "    },\n",
       "    {\n",
       "        \"xaxis\": \"x\",\n",
       "        \"colorbar\": {\n",
       "            \"title\": \"\"\n",
       "        },\n",
       "        \"yaxis\": \"y\",\n",
       "        \"x\": [\n",
       "            2\n",
       "        ],\n",
       "        \"showlegend\": false,\n",
       "        \"mode\": \"markers\",\n",
       "        \"name\": \"\",\n",
       "        \"zmin\": -1076.3999999999996,\n",
       "        \"legendgroup\": \"\",\n",
       "        \"marker\": {\n",
       "            \"symbol\": \"circle\",\n",
       "            \"color\": \"rgba(0, 0, 0, 0.000)\",\n",
       "            \"line\": {\n",
       "                \"color\": \"rgba(0, 0, 0, 1.000)\",\n",
       "                \"width\": 0\n",
       "            },\n",
       "            \"size\": 2\n",
       "        },\n",
       "        \"zmax\": 6.339465910901892e200,\n",
       "        \"y\": [\n",
       "            21\n",
       "        ],\n",
       "        \"type\": \"scatter\"\n",
       "    },\n",
       "    {\n",
       "        \"xaxis\": \"x\",\n",
       "        \"colorbar\": {\n",
       "            \"title\": \"\"\n",
       "        },\n",
       "        \"yaxis\": \"y\",\n",
       "        \"x\": [\n",
       "            2\n",
       "        ],\n",
       "        \"showlegend\": false,\n",
       "        \"mode\": \"markers\",\n",
       "        \"name\": \"\",\n",
       "        \"zmin\": -1076.3999999999996,\n",
       "        \"legendgroup\": \"\",\n",
       "        \"marker\": {\n",
       "            \"symbol\": \"circle\",\n",
       "            \"color\": \"rgba(0, 0, 0, 0.000)\",\n",
       "            \"line\": {\n",
       "                \"color\": \"rgba(0, 0, 0, 1.000)\",\n",
       "                \"width\": 0\n",
       "            },\n",
       "            \"size\": 2\n",
       "        },\n",
       "        \"zmax\": 6.339465910901892e200,\n",
       "        \"y\": [\n",
       "            22\n",
       "        ],\n",
       "        \"type\": \"scatter\"\n",
       "    },\n",
       "    {\n",
       "        \"xaxis\": \"x\",\n",
       "        \"colorbar\": {\n",
       "            \"title\": \"\"\n",
       "        },\n",
       "        \"yaxis\": \"y\",\n",
       "        \"x\": [\n",
       "            2\n",
       "        ],\n",
       "        \"showlegend\": false,\n",
       "        \"mode\": \"markers\",\n",
       "        \"name\": \"\",\n",
       "        \"zmin\": -1076.3999999999996,\n",
       "        \"legendgroup\": \"\",\n",
       "        \"marker\": {\n",
       "            \"symbol\": \"circle\",\n",
       "            \"color\": \"rgba(0, 0, 0, 0.000)\",\n",
       "            \"line\": {\n",
       "                \"color\": \"rgba(0, 0, 0, 1.000)\",\n",
       "                \"width\": 0\n",
       "            },\n",
       "            \"size\": 2\n",
       "        },\n",
       "        \"zmax\": 6.339465910901892e200,\n",
       "        \"y\": [\n",
       "            23\n",
       "        ],\n",
       "        \"type\": \"scatter\"\n",
       "    },\n",
       "    {\n",
       "        \"xaxis\": \"x\",\n",
       "        \"colorbar\": {\n",
       "            \"title\": \"\"\n",
       "        },\n",
       "        \"yaxis\": \"y\",\n",
       "        \"x\": [\n",
       "            2\n",
       "        ],\n",
       "        \"showlegend\": false,\n",
       "        \"mode\": \"markers\",\n",
       "        \"name\": \"\",\n",
       "        \"zmin\": -1076.3999999999996,\n",
       "        \"legendgroup\": \"\",\n",
       "        \"marker\": {\n",
       "            \"symbol\": \"circle\",\n",
       "            \"color\": \"rgba(0, 0, 0, 0.000)\",\n",
       "            \"line\": {\n",
       "                \"color\": \"rgba(0, 0, 0, 1.000)\",\n",
       "                \"width\": 0\n",
       "            },\n",
       "            \"size\": 2\n",
       "        },\n",
       "        \"zmax\": 6.339465910901892e200,\n",
       "        \"y\": [\n",
       "            24\n",
       "        ],\n",
       "        \"type\": \"scatter\"\n",
       "    },\n",
       "    {\n",
       "        \"xaxis\": \"x\",\n",
       "        \"colorbar\": {\n",
       "            \"title\": \"\"\n",
       "        },\n",
       "        \"yaxis\": \"y\",\n",
       "        \"x\": [\n",
       "            2\n",
       "        ],\n",
       "        \"showlegend\": false,\n",
       "        \"mode\": \"markers\",\n",
       "        \"name\": \"\",\n",
       "        \"zmin\": -1076.3999999999996,\n",
       "        \"legendgroup\": \"\",\n",
       "        \"marker\": {\n",
       "            \"symbol\": \"circle\",\n",
       "            \"color\": \"rgba(0, 0, 0, 0.000)\",\n",
       "            \"line\": {\n",
       "                \"color\": \"rgba(0, 0, 0, 1.000)\",\n",
       "                \"width\": 0\n",
       "            },\n",
       "            \"size\": 2\n",
       "        },\n",
       "        \"zmax\": 6.339465910901892e200,\n",
       "        \"y\": [\n",
       "            25\n",
       "        ],\n",
       "        \"type\": \"scatter\"\n",
       "    },\n",
       "    {\n",
       "        \"xaxis\": \"x\",\n",
       "        \"colorbar\": {\n",
       "            \"title\": \"\"\n",
       "        },\n",
       "        \"yaxis\": \"y\",\n",
       "        \"x\": [\n",
       "            2\n",
       "        ],\n",
       "        \"showlegend\": false,\n",
       "        \"mode\": \"markers\",\n",
       "        \"name\": \"\",\n",
       "        \"zmin\": -1076.3999999999996,\n",
       "        \"legendgroup\": \"\",\n",
       "        \"marker\": {\n",
       "            \"symbol\": \"circle\",\n",
       "            \"color\": \"rgba(0, 0, 0, 0.000)\",\n",
       "            \"line\": {\n",
       "                \"color\": \"rgba(0, 0, 0, 1.000)\",\n",
       "                \"width\": 0\n",
       "            },\n",
       "            \"size\": 2\n",
       "        },\n",
       "        \"zmax\": 6.339465910901892e200,\n",
       "        \"y\": [\n",
       "            26\n",
       "        ],\n",
       "        \"type\": \"scatter\"\n",
       "    },\n",
       "    {\n",
       "        \"xaxis\": \"x\",\n",
       "        \"colorbar\": {\n",
       "            \"title\": \"\"\n",
       "        },\n",
       "        \"yaxis\": \"y\",\n",
       "        \"x\": [\n",
       "            3\n",
       "        ],\n",
       "        \"showlegend\": false,\n",
       "        \"mode\": \"markers\",\n",
       "        \"name\": \"\",\n",
       "        \"zmin\": -1076.3999999999996,\n",
       "        \"legendgroup\": \"\",\n",
       "        \"marker\": {\n",
       "            \"symbol\": \"circle\",\n",
       "            \"color\": \"rgba(0, 0, 4, 1.000)\",\n",
       "            \"line\": {\n",
       "                \"color\": \"rgba(0, 0, 0, 1.000)\",\n",
       "                \"width\": 0\n",
       "            },\n",
       "            \"size\": 2\n",
       "        },\n",
       "        \"zmax\": 6.339465910901892e200,\n",
       "        \"y\": [\n",
       "            1\n",
       "        ],\n",
       "        \"type\": \"scatter\"\n",
       "    },\n",
       "    {\n",
       "        \"xaxis\": \"x\",\n",
       "        \"colorbar\": {\n",
       "            \"title\": \"\"\n",
       "        },\n",
       "        \"yaxis\": \"y\",\n",
       "        \"x\": [\n",
       "            3\n",
       "        ],\n",
       "        \"showlegend\": false,\n",
       "        \"mode\": \"markers\",\n",
       "        \"name\": \"\",\n",
       "        \"zmin\": -1076.3999999999996,\n",
       "        \"legendgroup\": \"\",\n",
       "        \"marker\": {\n",
       "            \"symbol\": \"circle\",\n",
       "            \"color\": \"rgba(0, 0, 4, 1.000)\",\n",
       "            \"line\": {\n",
       "                \"color\": \"rgba(0, 0, 0, 1.000)\",\n",
       "                \"width\": 0\n",
       "            },\n",
       "            \"size\": 2\n",
       "        },\n",
       "        \"zmax\": 6.339465910901892e200,\n",
       "        \"y\": [\n",
       "            2\n",
       "        ],\n",
       "        \"type\": \"scatter\"\n",
       "    },\n",
       "    {\n",
       "        \"xaxis\": \"x\",\n",
       "        \"colorbar\": {\n",
       "            \"title\": \"\"\n",
       "        },\n",
       "        \"yaxis\": \"y\",\n",
       "        \"x\": [\n",
       "            3\n",
       "        ],\n",
       "        \"showlegend\": false,\n",
       "        \"mode\": \"markers\",\n",
       "        \"name\": \"\",\n",
       "        \"zmin\": -1076.3999999999996,\n",
       "        \"legendgroup\": \"\",\n",
       "        \"marker\": {\n",
       "            \"symbol\": \"circle\",\n",
       "            \"color\": \"rgba(0, 0, 4, 1.000)\",\n",
       "            \"line\": {\n",
       "                \"color\": \"rgba(0, 0, 0, 1.000)\",\n",
       "                \"width\": 0\n",
       "            },\n",
       "            \"size\": 2\n",
       "        },\n",
       "        \"zmax\": 6.339465910901892e200,\n",
       "        \"y\": [\n",
       "            3\n",
       "        ],\n",
       "        \"type\": \"scatter\"\n",
       "    },\n",
       "    {\n",
       "        \"xaxis\": \"x\",\n",
       "        \"colorbar\": {\n",
       "            \"title\": \"\"\n",
       "        },\n",
       "        \"yaxis\": \"y\",\n",
       "        \"x\": [\n",
       "            3\n",
       "        ],\n",
       "        \"showlegend\": false,\n",
       "        \"mode\": \"markers\",\n",
       "        \"name\": \"\",\n",
       "        \"zmin\": -1076.3999999999996,\n",
       "        \"legendgroup\": \"\",\n",
       "        \"marker\": {\n",
       "            \"symbol\": \"circle\",\n",
       "            \"color\": \"rgba(0, 0, 4, 1.000)\",\n",
       "            \"line\": {\n",
       "                \"color\": \"rgba(0, 0, 0, 1.000)\",\n",
       "                \"width\": 0\n",
       "            },\n",
       "            \"size\": 2\n",
       "        },\n",
       "        \"zmax\": 6.339465910901892e200,\n",
       "        \"y\": [\n",
       "            4\n",
       "        ],\n",
       "        \"type\": \"scatter\"\n",
       "    },\n",
       "    {\n",
       "        \"xaxis\": \"x\",\n",
       "        \"colorbar\": {\n",
       "            \"title\": \"\"\n",
       "        },\n",
       "        \"yaxis\": \"y\",\n",
       "        \"x\": [\n",
       "            3\n",
       "        ],\n",
       "        \"showlegend\": false,\n",
       "        \"mode\": \"markers\",\n",
       "        \"name\": \"\",\n",
       "        \"zmin\": -1076.3999999999996,\n",
       "        \"legendgroup\": \"\",\n",
       "        \"marker\": {\n",
       "            \"symbol\": \"circle\",\n",
       "            \"color\": \"rgba(0, 0, 4, 1.000)\",\n",
       "            \"line\": {\n",
       "                \"color\": \"rgba(0, 0, 0, 1.000)\",\n",
       "                \"width\": 0\n",
       "            },\n",
       "            \"size\": 2\n",
       "        },\n",
       "        \"zmax\": 6.339465910901892e200,\n",
       "        \"y\": [\n",
       "            5\n",
       "        ],\n",
       "        \"type\": \"scatter\"\n",
       "    },\n",
       "    {\n",
       "        \"xaxis\": \"x\",\n",
       "        \"colorbar\": {\n",
       "            \"title\": \"\"\n",
       "        },\n",
       "        \"yaxis\": \"y\",\n",
       "        \"x\": [\n",
       "            3\n",
       "        ],\n",
       "        \"showlegend\": false,\n",
       "        \"mode\": \"markers\",\n",
       "        \"name\": \"\",\n",
       "        \"zmin\": -1076.3999999999996,\n",
       "        \"legendgroup\": \"\",\n",
       "        \"marker\": {\n",
       "            \"symbol\": \"circle\",\n",
       "            \"color\": \"rgba(0, 0, 4, 1.000)\",\n",
       "            \"line\": {\n",
       "                \"color\": \"rgba(0, 0, 0, 1.000)\",\n",
       "                \"width\": 0\n",
       "            },\n",
       "            \"size\": 2\n",
       "        },\n",
       "        \"zmax\": 6.339465910901892e200,\n",
       "        \"y\": [\n",
       "            6\n",
       "        ],\n",
       "        \"type\": \"scatter\"\n",
       "    },\n",
       "    {\n",
       "        \"xaxis\": \"x\",\n",
       "        \"colorbar\": {\n",
       "            \"title\": \"\"\n",
       "        },\n",
       "        \"yaxis\": \"y\",\n",
       "        \"x\": [\n",
       "            3\n",
       "        ],\n",
       "        \"showlegend\": false,\n",
       "        \"mode\": \"markers\",\n",
       "        \"name\": \"\",\n",
       "        \"zmin\": -1076.3999999999996,\n",
       "        \"legendgroup\": \"\",\n",
       "        \"marker\": {\n",
       "            \"symbol\": \"circle\",\n",
       "            \"color\": \"rgba(0, 0, 4, 1.000)\",\n",
       "            \"line\": {\n",
       "                \"color\": \"rgba(0, 0, 0, 1.000)\",\n",
       "                \"width\": 0\n",
       "            },\n",
       "            \"size\": 2\n",
       "        },\n",
       "        \"zmax\": 6.339465910901892e200,\n",
       "        \"y\": [\n",
       "            7\n",
       "        ],\n",
       "        \"type\": \"scatter\"\n",
       "    },\n",
       "    {\n",
       "        \"xaxis\": \"x\",\n",
       "        \"colorbar\": {\n",
       "            \"title\": \"\"\n",
       "        },\n",
       "        \"yaxis\": \"y\",\n",
       "        \"x\": [\n",
       "            3\n",
       "        ],\n",
       "        \"showlegend\": false,\n",
       "        \"mode\": \"markers\",\n",
       "        \"name\": \"\",\n",
       "        \"zmin\": -1076.3999999999996,\n",
       "        \"legendgroup\": \"\",\n",
       "        \"marker\": {\n",
       "            \"symbol\": \"circle\",\n",
       "            \"color\": \"rgba(0, 0, 0, 0.000)\",\n",
       "            \"line\": {\n",
       "                \"color\": \"rgba(0, 0, 0, 1.000)\",\n",
       "                \"width\": 0\n",
       "            },\n",
       "            \"size\": 2\n",
       "        },\n",
       "        \"zmax\": 6.339465910901892e200,\n",
       "        \"y\": [\n",
       "            8\n",
       "        ],\n",
       "        \"type\": \"scatter\"\n",
       "    },\n",
       "    {\n",
       "        \"xaxis\": \"x\",\n",
       "        \"colorbar\": {\n",
       "            \"title\": \"\"\n",
       "        },\n",
       "        \"yaxis\": \"y\",\n",
       "        \"x\": [\n",
       "            3\n",
       "        ],\n",
       "        \"showlegend\": false,\n",
       "        \"mode\": \"markers\",\n",
       "        \"name\": \"\",\n",
       "        \"zmin\": -1076.3999999999996,\n",
       "        \"legendgroup\": \"\",\n",
       "        \"marker\": {\n",
       "            \"symbol\": \"circle\",\n",
       "            \"color\": \"rgba(0, 0, 0, 0.000)\",\n",
       "            \"line\": {\n",
       "                \"color\": \"rgba(0, 0, 0, 1.000)\",\n",
       "                \"width\": 0\n",
       "            },\n",
       "            \"size\": 2\n",
       "        },\n",
       "        \"zmax\": 6.339465910901892e200,\n",
       "        \"y\": [\n",
       "            9\n",
       "        ],\n",
       "        \"type\": \"scatter\"\n",
       "    },\n",
       "    {\n",
       "        \"xaxis\": \"x\",\n",
       "        \"colorbar\": {\n",
       "            \"title\": \"\"\n",
       "        },\n",
       "        \"yaxis\": \"y\",\n",
       "        \"x\": [\n",
       "            3\n",
       "        ],\n",
       "        \"showlegend\": false,\n",
       "        \"mode\": \"markers\",\n",
       "        \"name\": \"\",\n",
       "        \"zmin\": -1076.3999999999996,\n",
       "        \"legendgroup\": \"\",\n",
       "        \"marker\": {\n",
       "            \"symbol\": \"circle\",\n",
       "            \"color\": \"rgba(0, 0, 0, 0.000)\",\n",
       "            \"line\": {\n",
       "                \"color\": \"rgba(0, 0, 0, 1.000)\",\n",
       "                \"width\": 0\n",
       "            },\n",
       "            \"size\": 2\n",
       "        },\n",
       "        \"zmax\": 6.339465910901892e200,\n",
       "        \"y\": [\n",
       "            10\n",
       "        ],\n",
       "        \"type\": \"scatter\"\n",
       "    },\n",
       "    {\n",
       "        \"xaxis\": \"x\",\n",
       "        \"colorbar\": {\n",
       "            \"title\": \"\"\n",
       "        },\n",
       "        \"yaxis\": \"y\",\n",
       "        \"x\": [\n",
       "            3\n",
       "        ],\n",
       "        \"showlegend\": false,\n",
       "        \"mode\": \"markers\",\n",
       "        \"name\": \"\",\n",
       "        \"zmin\": -1076.3999999999996,\n",
       "        \"legendgroup\": \"\",\n",
       "        \"marker\": {\n",
       "            \"symbol\": \"circle\",\n",
       "            \"color\": \"rgba(0, 0, 0, 0.000)\",\n",
       "            \"line\": {\n",
       "                \"color\": \"rgba(0, 0, 0, 1.000)\",\n",
       "                \"width\": 0\n",
       "            },\n",
       "            \"size\": 2\n",
       "        },\n",
       "        \"zmax\": 6.339465910901892e200,\n",
       "        \"y\": [\n",
       "            11\n",
       "        ],\n",
       "        \"type\": \"scatter\"\n",
       "    },\n",
       "    {\n",
       "        \"xaxis\": \"x\",\n",
       "        \"colorbar\": {\n",
       "            \"title\": \"\"\n",
       "        },\n",
       "        \"yaxis\": \"y\",\n",
       "        \"x\": [\n",
       "            3\n",
       "        ],\n",
       "        \"showlegend\": false,\n",
       "        \"mode\": \"markers\",\n",
       "        \"name\": \"\",\n",
       "        \"zmin\": -1076.3999999999996,\n",
       "        \"legendgroup\": \"\",\n",
       "        \"marker\": {\n",
       "            \"symbol\": \"circle\",\n",
       "            \"color\": \"rgba(0, 0, 0, 0.000)\",\n",
       "            \"line\": {\n",
       "                \"color\": \"rgba(0, 0, 0, 1.000)\",\n",
       "                \"width\": 0\n",
       "            },\n",
       "            \"size\": 2\n",
       "        },\n",
       "        \"zmax\": 6.339465910901892e200,\n",
       "        \"y\": [\n",
       "            12\n",
       "        ],\n",
       "        \"type\": \"scatter\"\n",
       "    },\n",
       "    {\n",
       "        \"xaxis\": \"x\",\n",
       "        \"colorbar\": {\n",
       "            \"title\": \"\"\n",
       "        },\n",
       "        \"yaxis\": \"y\",\n",
       "        \"x\": [\n",
       "            3\n",
       "        ],\n",
       "        \"showlegend\": false,\n",
       "        \"mode\": \"markers\",\n",
       "        \"name\": \"\",\n",
       "        \"zmin\": -1076.3999999999996,\n",
       "        \"legendgroup\": \"\",\n",
       "        \"marker\": {\n",
       "            \"symbol\": \"circle\",\n",
       "            \"color\": \"rgba(0, 0, 0, 0.000)\",\n",
       "            \"line\": {\n",
       "                \"color\": \"rgba(0, 0, 0, 1.000)\",\n",
       "                \"width\": 0\n",
       "            },\n",
       "            \"size\": 2\n",
       "        },\n",
       "        \"zmax\": 6.339465910901892e200,\n",
       "        \"y\": [\n",
       "            13\n",
       "        ],\n",
       "        \"type\": \"scatter\"\n",
       "    },\n",
       "    {\n",
       "        \"xaxis\": \"x\",\n",
       "        \"colorbar\": {\n",
       "            \"title\": \"\"\n",
       "        },\n",
       "        \"yaxis\": \"y\",\n",
       "        \"x\": [\n",
       "            3\n",
       "        ],\n",
       "        \"showlegend\": false,\n",
       "        \"mode\": \"markers\",\n",
       "        \"name\": \"\",\n",
       "        \"zmin\": -1076.3999999999996,\n",
       "        \"legendgroup\": \"\",\n",
       "        \"marker\": {\n",
       "            \"symbol\": \"circle\",\n",
       "            \"color\": \"rgba(0, 0, 0, 0.000)\",\n",
       "            \"line\": {\n",
       "                \"color\": \"rgba(0, 0, 0, 1.000)\",\n",
       "                \"width\": 0\n",
       "            },\n",
       "            \"size\": 2\n",
       "        },\n",
       "        \"zmax\": 6.339465910901892e200,\n",
       "        \"y\": [\n",
       "            14\n",
       "        ],\n",
       "        \"type\": \"scatter\"\n",
       "    },\n",
       "    {\n",
       "        \"xaxis\": \"x\",\n",
       "        \"colorbar\": {\n",
       "            \"title\": \"\"\n",
       "        },\n",
       "        \"yaxis\": \"y\",\n",
       "        \"x\": [\n",
       "            3\n",
       "        ],\n",
       "        \"showlegend\": false,\n",
       "        \"mode\": \"markers\",\n",
       "        \"name\": \"\",\n",
       "        \"zmin\": -1076.3999999999996,\n",
       "        \"legendgroup\": \"\",\n",
       "        \"marker\": {\n",
       "            \"symbol\": \"circle\",\n",
       "            \"color\": \"rgba(0, 0, 0, 0.000)\",\n",
       "            \"line\": {\n",
       "                \"color\": \"rgba(0, 0, 0, 1.000)\",\n",
       "                \"width\": 0\n",
       "            },\n",
       "            \"size\": 2\n",
       "        },\n",
       "        \"zmax\": 6.339465910901892e200,\n",
       "        \"y\": [\n",
       "            15\n",
       "        ],\n",
       "        \"type\": \"scatter\"\n",
       "    },\n",
       "    {\n",
       "        \"xaxis\": \"x\",\n",
       "        \"colorbar\": {\n",
       "            \"title\": \"\"\n",
       "        },\n",
       "        \"yaxis\": \"y\",\n",
       "        \"x\": [\n",
       "            3\n",
       "        ],\n",
       "        \"showlegend\": false,\n",
       "        \"mode\": \"markers\",\n",
       "        \"name\": \"\",\n",
       "        \"zmin\": -1076.3999999999996,\n",
       "        \"legendgroup\": \"\",\n",
       "        \"marker\": {\n",
       "            \"symbol\": \"circle\",\n",
       "            \"color\": \"rgba(0, 0, 0, 0.000)\",\n",
       "            \"line\": {\n",
       "                \"color\": \"rgba(0, 0, 0, 1.000)\",\n",
       "                \"width\": 0\n",
       "            },\n",
       "            \"size\": 2\n",
       "        },\n",
       "        \"zmax\": 6.339465910901892e200,\n",
       "        \"y\": [\n",
       "            16\n",
       "        ],\n",
       "        \"type\": \"scatter\"\n",
       "    },\n",
       "    {\n",
       "        \"xaxis\": \"x\",\n",
       "        \"colorbar\": {\n",
       "            \"title\": \"\"\n",
       "        },\n",
       "        \"yaxis\": \"y\",\n",
       "        \"x\": [\n",
       "            3\n",
       "        ],\n",
       "        \"showlegend\": false,\n",
       "        \"mode\": \"markers\",\n",
       "        \"name\": \"\",\n",
       "        \"zmin\": -1076.3999999999996,\n",
       "        \"legendgroup\": \"\",\n",
       "        \"marker\": {\n",
       "            \"symbol\": \"circle\",\n",
       "            \"color\": \"rgba(0, 0, 0, 0.000)\",\n",
       "            \"line\": {\n",
       "                \"color\": \"rgba(0, 0, 0, 1.000)\",\n",
       "                \"width\": 0\n",
       "            },\n",
       "            \"size\": 2\n",
       "        },\n",
       "        \"zmax\": 6.339465910901892e200,\n",
       "        \"y\": [\n",
       "            17\n",
       "        ],\n",
       "        \"type\": \"scatter\"\n",
       "    },\n",
       "    {\n",
       "        \"xaxis\": \"x\",\n",
       "        \"colorbar\": {\n",
       "            \"title\": \"\"\n",
       "        },\n",
       "        \"yaxis\": \"y\",\n",
       "        \"x\": [\n",
       "            3\n",
       "        ],\n",
       "        \"showlegend\": false,\n",
       "        \"mode\": \"markers\",\n",
       "        \"name\": \"\",\n",
       "        \"zmin\": -1076.3999999999996,\n",
       "        \"legendgroup\": \"\",\n",
       "        \"marker\": {\n",
       "            \"symbol\": \"circle\",\n",
       "            \"color\": \"rgba(0, 0, 0, 0.000)\",\n",
       "            \"line\": {\n",
       "                \"color\": \"rgba(0, 0, 0, 1.000)\",\n",
       "                \"width\": 0\n",
       "            },\n",
       "            \"size\": 2\n",
       "        },\n",
       "        \"zmax\": 6.339465910901892e200,\n",
       "        \"y\": [\n",
       "            18\n",
       "        ],\n",
       "        \"type\": \"scatter\"\n",
       "    },\n",
       "    {\n",
       "        \"xaxis\": \"x\",\n",
       "        \"colorbar\": {\n",
       "            \"title\": \"\"\n",
       "        },\n",
       "        \"yaxis\": \"y\",\n",
       "        \"x\": [\n",
       "            3\n",
       "        ],\n",
       "        \"showlegend\": false,\n",
       "        \"mode\": \"markers\",\n",
       "        \"name\": \"\",\n",
       "        \"zmin\": -1076.3999999999996,\n",
       "        \"legendgroup\": \"\",\n",
       "        \"marker\": {\n",
       "            \"symbol\": \"circle\",\n",
       "            \"color\": \"rgba(0, 0, 0, 0.000)\",\n",
       "            \"line\": {\n",
       "                \"color\": \"rgba(0, 0, 0, 1.000)\",\n",
       "                \"width\": 0\n",
       "            },\n",
       "            \"size\": 2\n",
       "        },\n",
       "        \"zmax\": 6.339465910901892e200,\n",
       "        \"y\": [\n",
       "            19\n",
       "        ],\n",
       "        \"type\": \"scatter\"\n",
       "    },\n",
       "    {\n",
       "        \"xaxis\": \"x\",\n",
       "        \"colorbar\": {\n",
       "            \"title\": \"\"\n",
       "        },\n",
       "        \"yaxis\": \"y\",\n",
       "        \"x\": [\n",
       "            3\n",
       "        ],\n",
       "        \"showlegend\": false,\n",
       "        \"mode\": \"markers\",\n",
       "        \"name\": \"\",\n",
       "        \"zmin\": -1076.3999999999996,\n",
       "        \"legendgroup\": \"\",\n",
       "        \"marker\": {\n",
       "            \"symbol\": \"circle\",\n",
       "            \"color\": \"rgba(0, 0, 0, 0.000)\",\n",
       "            \"line\": {\n",
       "                \"color\": \"rgba(0, 0, 0, 1.000)\",\n",
       "                \"width\": 0\n",
       "            },\n",
       "            \"size\": 2\n",
       "        },\n",
       "        \"zmax\": 6.339465910901892e200,\n",
       "        \"y\": [\n",
       "            20\n",
       "        ],\n",
       "        \"type\": \"scatter\"\n",
       "    },\n",
       "    {\n",
       "        \"xaxis\": \"x\",\n",
       "        \"colorbar\": {\n",
       "            \"title\": \"\"\n",
       "        },\n",
       "        \"yaxis\": \"y\",\n",
       "        \"x\": [\n",
       "            3\n",
       "        ],\n",
       "        \"showlegend\": false,\n",
       "        \"mode\": \"markers\",\n",
       "        \"name\": \"\",\n",
       "        \"zmin\": -1076.3999999999996,\n",
       "        \"legendgroup\": \"\",\n",
       "        \"marker\": {\n",
       "            \"symbol\": \"circle\",\n",
       "            \"color\": \"rgba(0, 0, 0, 0.000)\",\n",
       "            \"line\": {\n",
       "                \"color\": \"rgba(0, 0, 0, 1.000)\",\n",
       "                \"width\": 0\n",
       "            },\n",
       "            \"size\": 2\n",
       "        },\n",
       "        \"zmax\": 6.339465910901892e200,\n",
       "        \"y\": [\n",
       "            21\n",
       "        ],\n",
       "        \"type\": \"scatter\"\n",
       "    },\n",
       "    {\n",
       "        \"xaxis\": \"x\",\n",
       "        \"colorbar\": {\n",
       "            \"title\": \"\"\n",
       "        },\n",
       "        \"yaxis\": \"y\",\n",
       "        \"x\": [\n",
       "            3\n",
       "        ],\n",
       "        \"showlegend\": false,\n",
       "        \"mode\": \"markers\",\n",
       "        \"name\": \"\",\n",
       "        \"zmin\": -1076.3999999999996,\n",
       "        \"legendgroup\": \"\",\n",
       "        \"marker\": {\n",
       "            \"symbol\": \"circle\",\n",
       "            \"color\": \"rgba(0, 0, 0, 0.000)\",\n",
       "            \"line\": {\n",
       "                \"color\": \"rgba(0, 0, 0, 1.000)\",\n",
       "                \"width\": 0\n",
       "            },\n",
       "            \"size\": 2\n",
       "        },\n",
       "        \"zmax\": 6.339465910901892e200,\n",
       "        \"y\": [\n",
       "            22\n",
       "        ],\n",
       "        \"type\": \"scatter\"\n",
       "    },\n",
       "    {\n",
       "        \"xaxis\": \"x\",\n",
       "        \"colorbar\": {\n",
       "            \"title\": \"\"\n",
       "        },\n",
       "        \"yaxis\": \"y\",\n",
       "        \"x\": [\n",
       "            3\n",
       "        ],\n",
       "        \"showlegend\": false,\n",
       "        \"mode\": \"markers\",\n",
       "        \"name\": \"\",\n",
       "        \"zmin\": -1076.3999999999996,\n",
       "        \"legendgroup\": \"\",\n",
       "        \"marker\": {\n",
       "            \"symbol\": \"circle\",\n",
       "            \"color\": \"rgba(0, 0, 0, 0.000)\",\n",
       "            \"line\": {\n",
       "                \"color\": \"rgba(0, 0, 0, 1.000)\",\n",
       "                \"width\": 0\n",
       "            },\n",
       "            \"size\": 2\n",
       "        },\n",
       "        \"zmax\": 6.339465910901892e200,\n",
       "        \"y\": [\n",
       "            23\n",
       "        ],\n",
       "        \"type\": \"scatter\"\n",
       "    },\n",
       "    {\n",
       "        \"xaxis\": \"x\",\n",
       "        \"colorbar\": {\n",
       "            \"title\": \"\"\n",
       "        },\n",
       "        \"yaxis\": \"y\",\n",
       "        \"x\": [\n",
       "            3\n",
       "        ],\n",
       "        \"showlegend\": false,\n",
       "        \"mode\": \"markers\",\n",
       "        \"name\": \"\",\n",
       "        \"zmin\": -1076.3999999999996,\n",
       "        \"legendgroup\": \"\",\n",
       "        \"marker\": {\n",
       "            \"symbol\": \"circle\",\n",
       "            \"color\": \"rgba(0, 0, 0, 0.000)\",\n",
       "            \"line\": {\n",
       "                \"color\": \"rgba(0, 0, 0, 1.000)\",\n",
       "                \"width\": 0\n",
       "            },\n",
       "            \"size\": 2\n",
       "        },\n",
       "        \"zmax\": 6.339465910901892e200,\n",
       "        \"y\": [\n",
       "            24\n",
       "        ],\n",
       "        \"type\": \"scatter\"\n",
       "    },\n",
       "    {\n",
       "        \"xaxis\": \"x\",\n",
       "        \"colorbar\": {\n",
       "            \"title\": \"\"\n",
       "        },\n",
       "        \"yaxis\": \"y\",\n",
       "        \"x\": [\n",
       "            3\n",
       "        ],\n",
       "        \"showlegend\": false,\n",
       "        \"mode\": \"markers\",\n",
       "        \"name\": \"\",\n",
       "        \"zmin\": -1076.3999999999996,\n",
       "        \"legendgroup\": \"\",\n",
       "        \"marker\": {\n",
       "            \"symbol\": \"circle\",\n",
       "            \"color\": \"rgba(0, 0, 0, 0.000)\",\n",
       "            \"line\": {\n",
       "                \"color\": \"rgba(0, 0, 0, 1.000)\",\n",
       "                \"width\": 0\n",
       "            },\n",
       "            \"size\": 2\n",
       "        },\n",
       "        \"zmax\": 6.339465910901892e200,\n",
       "        \"y\": [\n",
       "            25\n",
       "        ],\n",
       "        \"type\": \"scatter\"\n",
       "    },\n",
       "    {\n",
       "        \"xaxis\": \"x\",\n",
       "        \"colorbar\": {\n",
       "            \"title\": \"\"\n",
       "        },\n",
       "        \"yaxis\": \"y\",\n",
       "        \"x\": [\n",
       "            3\n",
       "        ],\n",
       "        \"showlegend\": false,\n",
       "        \"mode\": \"markers\",\n",
       "        \"name\": \"\",\n",
       "        \"zmin\": -1076.3999999999996,\n",
       "        \"legendgroup\": \"\",\n",
       "        \"marker\": {\n",
       "            \"symbol\": \"circle\",\n",
       "            \"color\": \"rgba(0, 0, 0, 0.000)\",\n",
       "            \"line\": {\n",
       "                \"color\": \"rgba(0, 0, 0, 1.000)\",\n",
       "                \"width\": 0\n",
       "            },\n",
       "            \"size\": 2\n",
       "        },\n",
       "        \"zmax\": 6.339465910901892e200,\n",
       "        \"y\": [\n",
       "            26\n",
       "        ],\n",
       "        \"type\": \"scatter\"\n",
       "    },\n",
       "    {\n",
       "        \"xaxis\": \"x\",\n",
       "        \"colorbar\": {\n",
       "            \"title\": \"\"\n",
       "        },\n",
       "        \"yaxis\": \"y\",\n",
       "        \"x\": [\n",
       "            4\n",
       "        ],\n",
       "        \"showlegend\": false,\n",
       "        \"mode\": \"markers\",\n",
       "        \"name\": \"\",\n",
       "        \"zmin\": -1076.3999999999996,\n",
       "        \"legendgroup\": \"\",\n",
       "        \"marker\": {\n",
       "            \"symbol\": \"circle\",\n",
       "            \"color\": \"rgba(0, 0, 4, 1.000)\",\n",
       "            \"line\": {\n",
       "                \"color\": \"rgba(0, 0, 0, 1.000)\",\n",
       "                \"width\": 0\n",
       "            },\n",
       "            \"size\": 2\n",
       "        },\n",
       "        \"zmax\": 6.339465910901892e200,\n",
       "        \"y\": [\n",
       "            1\n",
       "        ],\n",
       "        \"type\": \"scatter\"\n",
       "    },\n",
       "    {\n",
       "        \"xaxis\": \"x\",\n",
       "        \"colorbar\": {\n",
       "            \"title\": \"\"\n",
       "        },\n",
       "        \"yaxis\": \"y\",\n",
       "        \"x\": [\n",
       "            4\n",
       "        ],\n",
       "        \"showlegend\": false,\n",
       "        \"mode\": \"markers\",\n",
       "        \"name\": \"\",\n",
       "        \"zmin\": -1076.3999999999996,\n",
       "        \"legendgroup\": \"\",\n",
       "        \"marker\": {\n",
       "            \"symbol\": \"circle\",\n",
       "            \"color\": \"rgba(0, 0, 4, 1.000)\",\n",
       "            \"line\": {\n",
       "                \"color\": \"rgba(0, 0, 0, 1.000)\",\n",
       "                \"width\": 0\n",
       "            },\n",
       "            \"size\": 2\n",
       "        },\n",
       "        \"zmax\": 6.339465910901892e200,\n",
       "        \"y\": [\n",
       "            2\n",
       "        ],\n",
       "        \"type\": \"scatter\"\n",
       "    },\n",
       "    {\n",
       "        \"xaxis\": \"x\",\n",
       "        \"colorbar\": {\n",
       "            \"title\": \"\"\n",
       "        },\n",
       "        \"yaxis\": \"y\",\n",
       "        \"x\": [\n",
       "            4\n",
       "        ],\n",
       "        \"showlegend\": false,\n",
       "        \"mode\": \"markers\",\n",
       "        \"name\": \"\",\n",
       "        \"zmin\": -1076.3999999999996,\n",
       "        \"legendgroup\": \"\",\n",
       "        \"marker\": {\n",
       "            \"symbol\": \"circle\",\n",
       "            \"color\": \"rgba(0, 0, 4, 1.000)\",\n",
       "            \"line\": {\n",
       "                \"color\": \"rgba(0, 0, 0, 1.000)\",\n",
       "                \"width\": 0\n",
       "            },\n",
       "            \"size\": 2\n",
       "        },\n",
       "        \"zmax\": 6.339465910901892e200,\n",
       "        \"y\": [\n",
       "            3\n",
       "        ],\n",
       "        \"type\": \"scatter\"\n",
       "    },\n",
       "    {\n",
       "        \"xaxis\": \"x\",\n",
       "        \"colorbar\": {\n",
       "            \"title\": \"\"\n",
       "        },\n",
       "        \"yaxis\": \"y\",\n",
       "        \"x\": [\n",
       "            4\n",
       "        ],\n",
       "        \"showlegend\": false,\n",
       "        \"mode\": \"markers\",\n",
       "        \"name\": \"\",\n",
       "        \"zmin\": -1076.3999999999996,\n",
       "        \"legendgroup\": \"\",\n",
       "        \"marker\": {\n",
       "            \"symbol\": \"circle\",\n",
       "            \"color\": \"rgba(0, 0, 4, 1.000)\",\n",
       "            \"line\": {\n",
       "                \"color\": \"rgba(0, 0, 0, 1.000)\",\n",
       "                \"width\": 0\n",
       "            },\n",
       "            \"size\": 2\n",
       "        },\n",
       "        \"zmax\": 6.339465910901892e200,\n",
       "        \"y\": [\n",
       "            4\n",
       "        ],\n",
       "        \"type\": \"scatter\"\n",
       "    },\n",
       "    {\n",
       "        \"xaxis\": \"x\",\n",
       "        \"colorbar\": {\n",
       "            \"title\": \"\"\n",
       "        },\n",
       "        \"yaxis\": \"y\",\n",
       "        \"x\": [\n",
       "            4\n",
       "        ],\n",
       "        \"showlegend\": false,\n",
       "        \"mode\": \"markers\",\n",
       "        \"name\": \"\",\n",
       "        \"zmin\": -1076.3999999999996,\n",
       "        \"legendgroup\": \"\",\n",
       "        \"marker\": {\n",
       "            \"symbol\": \"circle\",\n",
       "            \"color\": \"rgba(0, 0, 4, 1.000)\",\n",
       "            \"line\": {\n",
       "                \"color\": \"rgba(0, 0, 0, 1.000)\",\n",
       "                \"width\": 0\n",
       "            },\n",
       "            \"size\": 2\n",
       "        },\n",
       "        \"zmax\": 6.339465910901892e200,\n",
       "        \"y\": [\n",
       "            5\n",
       "        ],\n",
       "        \"type\": \"scatter\"\n",
       "    },\n",
       "    {\n",
       "        \"xaxis\": \"x\",\n",
       "        \"colorbar\": {\n",
       "            \"title\": \"\"\n",
       "        },\n",
       "        \"yaxis\": \"y\",\n",
       "        \"x\": [\n",
       "            4\n",
       "        ],\n",
       "        \"showlegend\": false,\n",
       "        \"mode\": \"markers\",\n",
       "        \"name\": \"\",\n",
       "        \"zmin\": -1076.3999999999996,\n",
       "        \"legendgroup\": \"\",\n",
       "        \"marker\": {\n",
       "            \"symbol\": \"circle\",\n",
       "            \"color\": \"rgba(0, 0, 4, 1.000)\",\n",
       "            \"line\": {\n",
       "                \"color\": \"rgba(0, 0, 0, 1.000)\",\n",
       "                \"width\": 0\n",
       "            },\n",
       "            \"size\": 2\n",
       "        },\n",
       "        \"zmax\": 6.339465910901892e200,\n",
       "        \"y\": [\n",
       "            6\n",
       "        ],\n",
       "        \"type\": \"scatter\"\n",
       "    },\n",
       "    {\n",
       "        \"xaxis\": \"x\",\n",
       "        \"colorbar\": {\n",
       "            \"title\": \"\"\n",
       "        },\n",
       "        \"yaxis\": \"y\",\n",
       "        \"x\": [\n",
       "            4\n",
       "        ],\n",
       "        \"showlegend\": false,\n",
       "        \"mode\": \"markers\",\n",
       "        \"name\": \"\",\n",
       "        \"zmin\": -1076.3999999999996,\n",
       "        \"legendgroup\": \"\",\n",
       "        \"marker\": {\n",
       "            \"symbol\": \"circle\",\n",
       "            \"color\": \"rgba(0, 0, 4, 1.000)\",\n",
       "            \"line\": {\n",
       "                \"color\": \"rgba(0, 0, 0, 1.000)\",\n",
       "                \"width\": 0\n",
       "            },\n",
       "            \"size\": 2\n",
       "        },\n",
       "        \"zmax\": 6.339465910901892e200,\n",
       "        \"y\": [\n",
       "            7\n",
       "        ],\n",
       "        \"type\": \"scatter\"\n",
       "    },\n",
       "    {\n",
       "        \"xaxis\": \"x\",\n",
       "        \"colorbar\": {\n",
       "            \"title\": \"\"\n",
       "        },\n",
       "        \"yaxis\": \"y\",\n",
       "        \"x\": [\n",
       "            4\n",
       "        ],\n",
       "        \"showlegend\": false,\n",
       "        \"mode\": \"markers\",\n",
       "        \"name\": \"\",\n",
       "        \"zmin\": -1076.3999999999996,\n",
       "        \"legendgroup\": \"\",\n",
       "        \"marker\": {\n",
       "            \"symbol\": \"circle\",\n",
       "            \"color\": \"rgba(0, 0, 0, 0.000)\",\n",
       "            \"line\": {\n",
       "                \"color\": \"rgba(0, 0, 0, 1.000)\",\n",
       "                \"width\": 0\n",
       "            },\n",
       "            \"size\": 2\n",
       "        },\n",
       "        \"zmax\": 6.339465910901892e200,\n",
       "        \"y\": [\n",
       "            8\n",
       "        ],\n",
       "        \"type\": \"scatter\"\n",
       "    },\n",
       "    {\n",
       "        \"xaxis\": \"x\",\n",
       "        \"colorbar\": {\n",
       "            \"title\": \"\"\n",
       "        },\n",
       "        \"yaxis\": \"y\",\n",
       "        \"x\": [\n",
       "            4\n",
       "        ],\n",
       "        \"showlegend\": false,\n",
       "        \"mode\": \"markers\",\n",
       "        \"name\": \"\",\n",
       "        \"zmin\": -1076.3999999999996,\n",
       "        \"legendgroup\": \"\",\n",
       "        \"marker\": {\n",
       "            \"symbol\": \"circle\",\n",
       "            \"color\": \"rgba(0, 0, 0, 0.000)\",\n",
       "            \"line\": {\n",
       "                \"color\": \"rgba(0, 0, 0, 1.000)\",\n",
       "                \"width\": 0\n",
       "            },\n",
       "            \"size\": 2\n",
       "        },\n",
       "        \"zmax\": 6.339465910901892e200,\n",
       "        \"y\": [\n",
       "            9\n",
       "        ],\n",
       "        \"type\": \"scatter\"\n",
       "    },\n",
       "    {\n",
       "        \"xaxis\": \"x\",\n",
       "        \"colorbar\": {\n",
       "            \"title\": \"\"\n",
       "        },\n",
       "        \"yaxis\": \"y\",\n",
       "        \"x\": [\n",
       "            4\n",
       "        ],\n",
       "        \"showlegend\": false,\n",
       "        \"mode\": \"markers\",\n",
       "        \"name\": \"\",\n",
       "        \"zmin\": -1076.3999999999996,\n",
       "        \"legendgroup\": \"\",\n",
       "        \"marker\": {\n",
       "            \"symbol\": \"circle\",\n",
       "            \"color\": \"rgba(0, 0, 0, 0.000)\",\n",
       "            \"line\": {\n",
       "                \"color\": \"rgba(0, 0, 0, 1.000)\",\n",
       "                \"width\": 0\n",
       "            },\n",
       "            \"size\": 2\n",
       "        },\n",
       "        \"zmax\": 6.339465910901892e200,\n",
       "        \"y\": [\n",
       "            10\n",
       "        ],\n",
       "        \"type\": \"scatter\"\n",
       "    },\n",
       "    {\n",
       "        \"xaxis\": \"x\",\n",
       "        \"colorbar\": {\n",
       "            \"title\": \"\"\n",
       "        },\n",
       "        \"yaxis\": \"y\",\n",
       "        \"x\": [\n",
       "            4\n",
       "        ],\n",
       "        \"showlegend\": false,\n",
       "        \"mode\": \"markers\",\n",
       "        \"name\": \"\",\n",
       "        \"zmin\": -1076.3999999999996,\n",
       "        \"legendgroup\": \"\",\n",
       "        \"marker\": {\n",
       "            \"symbol\": \"circle\",\n",
       "            \"color\": \"rgba(0, 0, 0, 0.000)\",\n",
       "            \"line\": {\n",
       "                \"color\": \"rgba(0, 0, 0, 1.000)\",\n",
       "                \"width\": 0\n",
       "            },\n",
       "            \"size\": 2\n",
       "        },\n",
       "        \"zmax\": 6.339465910901892e200,\n",
       "        \"y\": [\n",
       "            11\n",
       "        ],\n",
       "        \"type\": \"scatter\"\n",
       "    },\n",
       "    {\n",
       "        \"xaxis\": \"x\",\n",
       "        \"colorbar\": {\n",
       "            \"title\": \"\"\n",
       "        },\n",
       "        \"yaxis\": \"y\",\n",
       "        \"x\": [\n",
       "            4\n",
       "        ],\n",
       "        \"showlegend\": false,\n",
       "        \"mode\": \"markers\",\n",
       "        \"name\": \"\",\n",
       "        \"zmin\": -1076.3999999999996,\n",
       "        \"legendgroup\": \"\",\n",
       "        \"marker\": {\n",
       "            \"symbol\": \"circle\",\n",
       "            \"color\": \"rgba(0, 0, 0, 0.000)\",\n",
       "            \"line\": {\n",
       "                \"color\": \"rgba(0, 0, 0, 1.000)\",\n",
       "                \"width\": 0\n",
       "            },\n",
       "            \"size\": 2\n",
       "        },\n",
       "        \"zmax\": 6.339465910901892e200,\n",
       "        \"y\": [\n",
       "            12\n",
       "        ],\n",
       "        \"type\": \"scatter\"\n",
       "    },\n",
       "    {\n",
       "        \"xaxis\": \"x\",\n",
       "        \"colorbar\": {\n",
       "            \"title\": \"\"\n",
       "        },\n",
       "        \"yaxis\": \"y\",\n",
       "        \"x\": [\n",
       "            4\n",
       "        ],\n",
       "        \"showlegend\": false,\n",
       "        \"mode\": \"markers\",\n",
       "        \"name\": \"\",\n",
       "        \"zmin\": -1076.3999999999996,\n",
       "        \"legendgroup\": \"\",\n",
       "        \"marker\": {\n",
       "            \"symbol\": \"circle\",\n",
       "            \"color\": \"rgba(0, 0, 0, 0.000)\",\n",
       "            \"line\": {\n",
       "                \"color\": \"rgba(0, 0, 0, 1.000)\",\n",
       "                \"width\": 0\n",
       "            },\n",
       "            \"size\": 2\n",
       "        },\n",
       "        \"zmax\": 6.339465910901892e200,\n",
       "        \"y\": [\n",
       "            13\n",
       "        ],\n",
       "        \"type\": \"scatter\"\n",
       "    },\n",
       "    {\n",
       "        \"xaxis\": \"x\",\n",
       "        \"colorbar\": {\n",
       "            \"title\": \"\"\n",
       "        },\n",
       "        \"yaxis\": \"y\",\n",
       "        \"x\": [\n",
       "            4\n",
       "        ],\n",
       "        \"showlegend\": false,\n",
       "        \"mode\": \"markers\",\n",
       "        \"name\": \"\",\n",
       "        \"zmin\": -1076.3999999999996,\n",
       "        \"legendgroup\": \"\",\n",
       "        \"marker\": {\n",
       "            \"symbol\": \"circle\",\n",
       "            \"color\": \"rgba(0, 0, 0, 0.000)\",\n",
       "            \"line\": {\n",
       "                \"color\": \"rgba(0, 0, 0, 1.000)\",\n",
       "                \"width\": 0\n",
       "            },\n",
       "            \"size\": 2\n",
       "        },\n",
       "        \"zmax\": 6.339465910901892e200,\n",
       "        \"y\": [\n",
       "            14\n",
       "        ],\n",
       "        \"type\": \"scatter\"\n",
       "    },\n",
       "    {\n",
       "        \"xaxis\": \"x\",\n",
       "        \"colorbar\": {\n",
       "            \"title\": \"\"\n",
       "        },\n",
       "        \"yaxis\": \"y\",\n",
       "        \"x\": [\n",
       "            4\n",
       "        ],\n",
       "        \"showlegend\": false,\n",
       "        \"mode\": \"markers\",\n",
       "        \"name\": \"\",\n",
       "        \"zmin\": -1076.3999999999996,\n",
       "        \"legendgroup\": \"\",\n",
       "        \"marker\": {\n",
       "            \"symbol\": \"circle\",\n",
       "            \"color\": \"rgba(0, 0, 0, 0.000)\",\n",
       "            \"line\": {\n",
       "                \"color\": \"rgba(0, 0, 0, 1.000)\",\n",
       "                \"width\": 0\n",
       "            },\n",
       "            \"size\": 2\n",
       "        },\n",
       "        \"zmax\": 6.339465910901892e200,\n",
       "        \"y\": [\n",
       "            15\n",
       "        ],\n",
       "        \"type\": \"scatter\"\n",
       "    },\n",
       "    {\n",
       "        \"xaxis\": \"x\",\n",
       "        \"colorbar\": {\n",
       "            \"title\": \"\"\n",
       "        },\n",
       "        \"yaxis\": \"y\",\n",
       "        \"x\": [\n",
       "            4\n",
       "        ],\n",
       "        \"showlegend\": false,\n",
       "        \"mode\": \"markers\",\n",
       "        \"name\": \"\",\n",
       "        \"zmin\": -1076.3999999999996,\n",
       "        \"legendgroup\": \"\",\n",
       "        \"marker\": {\n",
       "            \"symbol\": \"circle\",\n",
       "            \"color\": \"rgba(0, 0, 0, 0.000)\",\n",
       "            \"line\": {\n",
       "                \"color\": \"rgba(0, 0, 0, 1.000)\",\n",
       "                \"width\": 0\n",
       "            },\n",
       "            \"size\": 2\n",
       "        },\n",
       "        \"zmax\": 6.339465910901892e200,\n",
       "        \"y\": [\n",
       "            16\n",
       "        ],\n",
       "        \"type\": \"scatter\"\n",
       "    },\n",
       "    {\n",
       "        \"xaxis\": \"x\",\n",
       "        \"colorbar\": {\n",
       "            \"title\": \"\"\n",
       "        },\n",
       "        \"yaxis\": \"y\",\n",
       "        \"x\": [\n",
       "            4\n",
       "        ],\n",
       "        \"showlegend\": false,\n",
       "        \"mode\": \"markers\",\n",
       "        \"name\": \"\",\n",
       "        \"zmin\": -1076.3999999999996,\n",
       "        \"legendgroup\": \"\",\n",
       "        \"marker\": {\n",
       "            \"symbol\": \"circle\",\n",
       "            \"color\": \"rgba(0, 0, 0, 0.000)\",\n",
       "            \"line\": {\n",
       "                \"color\": \"rgba(0, 0, 0, 1.000)\",\n",
       "                \"width\": 0\n",
       "            },\n",
       "            \"size\": 2\n",
       "        },\n",
       "        \"zmax\": 6.339465910901892e200,\n",
       "        \"y\": [\n",
       "            17\n",
       "        ],\n",
       "        \"type\": \"scatter\"\n",
       "    },\n",
       "    {\n",
       "        \"xaxis\": \"x\",\n",
       "        \"colorbar\": {\n",
       "            \"title\": \"\"\n",
       "        },\n",
       "        \"yaxis\": \"y\",\n",
       "        \"x\": [\n",
       "            4\n",
       "        ],\n",
       "        \"showlegend\": false,\n",
       "        \"mode\": \"markers\",\n",
       "        \"name\": \"\",\n",
       "        \"zmin\": -1076.3999999999996,\n",
       "        \"legendgroup\": \"\",\n",
       "        \"marker\": {\n",
       "            \"symbol\": \"circle\",\n",
       "            \"color\": \"rgba(0, 0, 0, 0.000)\",\n",
       "            \"line\": {\n",
       "                \"color\": \"rgba(0, 0, 0, 1.000)\",\n",
       "                \"width\": 0\n",
       "            },\n",
       "            \"size\": 2\n",
       "        },\n",
       "        \"zmax\": 6.339465910901892e200,\n",
       "        \"y\": [\n",
       "            18\n",
       "        ],\n",
       "        \"type\": \"scatter\"\n",
       "    },\n",
       "    {\n",
       "        \"xaxis\": \"x\",\n",
       "        \"colorbar\": {\n",
       "            \"title\": \"\"\n",
       "        },\n",
       "        \"yaxis\": \"y\",\n",
       "        \"x\": [\n",
       "            4\n",
       "        ],\n",
       "        \"showlegend\": false,\n",
       "        \"mode\": \"markers\",\n",
       "        \"name\": \"\",\n",
       "        \"zmin\": -1076.3999999999996,\n",
       "        \"legendgroup\": \"\",\n",
       "        \"marker\": {\n",
       "            \"symbol\": \"circle\",\n",
       "            \"color\": \"rgba(0, 0, 0, 0.000)\",\n",
       "            \"line\": {\n",
       "                \"color\": \"rgba(0, 0, 0, 1.000)\",\n",
       "                \"width\": 0\n",
       "            },\n",
       "            \"size\": 2\n",
       "        },\n",
       "        \"zmax\": 6.339465910901892e200,\n",
       "        \"y\": [\n",
       "            19\n",
       "        ],\n",
       "        \"type\": \"scatter\"\n",
       "    },\n",
       "    {\n",
       "        \"xaxis\": \"x\",\n",
       "        \"colorbar\": {\n",
       "            \"title\": \"\"\n",
       "        },\n",
       "        \"yaxis\": \"y\",\n",
       "        \"x\": [\n",
       "            4\n",
       "        ],\n",
       "        \"showlegend\": false,\n",
       "        \"mode\": \"markers\",\n",
       "        \"name\": \"\",\n",
       "        \"zmin\": -1076.3999999999996,\n",
       "        \"legendgroup\": \"\",\n",
       "        \"marker\": {\n",
       "            \"symbol\": \"circle\",\n",
       "            \"color\": \"rgba(0, 0, 0, 0.000)\",\n",
       "            \"line\": {\n",
       "                \"color\": \"rgba(0, 0, 0, 1.000)\",\n",
       "                \"width\": 0\n",
       "            },\n",
       "            \"size\": 2\n",
       "        },\n",
       "        \"zmax\": 6.339465910901892e200,\n",
       "        \"y\": [\n",
       "            20\n",
       "        ],\n",
       "        \"type\": \"scatter\"\n",
       "    },\n",
       "    {\n",
       "        \"xaxis\": \"x\",\n",
       "        \"colorbar\": {\n",
       "            \"title\": \"\"\n",
       "        },\n",
       "        \"yaxis\": \"y\",\n",
       "        \"x\": [\n",
       "            4\n",
       "        ],\n",
       "        \"showlegend\": false,\n",
       "        \"mode\": \"markers\",\n",
       "        \"name\": \"\",\n",
       "        \"zmin\": -1076.3999999999996,\n",
       "        \"legendgroup\": \"\",\n",
       "        \"marker\": {\n",
       "            \"symbol\": \"circle\",\n",
       "            \"color\": \"rgba(0, 0, 0, 0.000)\",\n",
       "            \"line\": {\n",
       "                \"color\": \"rgba(0, 0, 0, 1.000)\",\n",
       "                \"width\": 0\n",
       "            },\n",
       "            \"size\": 2\n",
       "        },\n",
       "        \"zmax\": 6.339465910901892e200,\n",
       "        \"y\": [\n",
       "            21\n",
       "        ],\n",
       "        \"type\": \"scatter\"\n",
       "    },\n",
       "    {\n",
       "        \"xaxis\": \"x\",\n",
       "        \"colorbar\": {\n",
       "            \"title\": \"\"\n",
       "        },\n",
       "        \"yaxis\": \"y\",\n",
       "        \"x\": [\n",
       "            4\n",
       "        ],\n",
       "        \"showlegend\": false,\n",
       "        \"mode\": \"markers\",\n",
       "        \"name\": \"\",\n",
       "        \"zmin\": -1076.3999999999996,\n",
       "        \"legendgroup\": \"\",\n",
       "        \"marker\": {\n",
       "            \"symbol\": \"circle\",\n",
       "            \"color\": \"rgba(0, 0, 0, 0.000)\",\n",
       "            \"line\": {\n",
       "                \"color\": \"rgba(0, 0, 0, 1.000)\",\n",
       "                \"width\": 0\n",
       "            },\n",
       "            \"size\": 2\n",
       "        },\n",
       "        \"zmax\": 6.339465910901892e200,\n",
       "        \"y\": [\n",
       "            22\n",
       "        ],\n",
       "        \"type\": \"scatter\"\n",
       "    },\n",
       "    {\n",
       "        \"xaxis\": \"x\",\n",
       "        \"colorbar\": {\n",
       "            \"title\": \"\"\n",
       "        },\n",
       "        \"yaxis\": \"y\",\n",
       "        \"x\": [\n",
       "            4\n",
       "        ],\n",
       "        \"showlegend\": false,\n",
       "        \"mode\": \"markers\",\n",
       "        \"name\": \"\",\n",
       "        \"zmin\": -1076.3999999999996,\n",
       "        \"legendgroup\": \"\",\n",
       "        \"marker\": {\n",
       "            \"symbol\": \"circle\",\n",
       "            \"color\": \"rgba(0, 0, 0, 0.000)\",\n",
       "            \"line\": {\n",
       "                \"color\": \"rgba(0, 0, 0, 1.000)\",\n",
       "                \"width\": 0\n",
       "            },\n",
       "            \"size\": 2\n",
       "        },\n",
       "        \"zmax\": 6.339465910901892e200,\n",
       "        \"y\": [\n",
       "            23\n",
       "        ],\n",
       "        \"type\": \"scatter\"\n",
       "    },\n",
       "    {\n",
       "        \"xaxis\": \"x\",\n",
       "        \"colorbar\": {\n",
       "            \"title\": \"\"\n",
       "        },\n",
       "        \"yaxis\": \"y\",\n",
       "        \"x\": [\n",
       "            4\n",
       "        ],\n",
       "        \"showlegend\": false,\n",
       "        \"mode\": \"markers\",\n",
       "        \"name\": \"\",\n",
       "        \"zmin\": -1076.3999999999996,\n",
       "        \"legendgroup\": \"\",\n",
       "        \"marker\": {\n",
       "            \"symbol\": \"circle\",\n",
       "            \"color\": \"rgba(0, 0, 0, 0.000)\",\n",
       "            \"line\": {\n",
       "                \"color\": \"rgba(0, 0, 0, 1.000)\",\n",
       "                \"width\": 0\n",
       "            },\n",
       "            \"size\": 2\n",
       "        },\n",
       "        \"zmax\": 6.339465910901892e200,\n",
       "        \"y\": [\n",
       "            24\n",
       "        ],\n",
       "        \"type\": \"scatter\"\n",
       "    },\n",
       "    {\n",
       "        \"xaxis\": \"x\",\n",
       "        \"colorbar\": {\n",
       "            \"title\": \"\"\n",
       "        },\n",
       "        \"yaxis\": \"y\",\n",
       "        \"x\": [\n",
       "            4\n",
       "        ],\n",
       "        \"showlegend\": false,\n",
       "        \"mode\": \"markers\",\n",
       "        \"name\": \"\",\n",
       "        \"zmin\": -1076.3999999999996,\n",
       "        \"legendgroup\": \"\",\n",
       "        \"marker\": {\n",
       "            \"symbol\": \"circle\",\n",
       "            \"color\": \"rgba(0, 0, 0, 0.000)\",\n",
       "            \"line\": {\n",
       "                \"color\": \"rgba(0, 0, 0, 1.000)\",\n",
       "                \"width\": 0\n",
       "            },\n",
       "            \"size\": 2\n",
       "        },\n",
       "        \"zmax\": 6.339465910901892e200,\n",
       "        \"y\": [\n",
       "            25\n",
       "        ],\n",
       "        \"type\": \"scatter\"\n",
       "    },\n",
       "    {\n",
       "        \"xaxis\": \"x\",\n",
       "        \"colorbar\": {\n",
       "            \"title\": \"\"\n",
       "        },\n",
       "        \"yaxis\": \"y\",\n",
       "        \"x\": [\n",
       "            4\n",
       "        ],\n",
       "        \"showlegend\": false,\n",
       "        \"mode\": \"markers\",\n",
       "        \"name\": \"\",\n",
       "        \"zmin\": -1076.3999999999996,\n",
       "        \"legendgroup\": \"\",\n",
       "        \"marker\": {\n",
       "            \"symbol\": \"circle\",\n",
       "            \"color\": \"rgba(0, 0, 0, 0.000)\",\n",
       "            \"line\": {\n",
       "                \"color\": \"rgba(0, 0, 0, 1.000)\",\n",
       "                \"width\": 0\n",
       "            },\n",
       "            \"size\": 2\n",
       "        },\n",
       "        \"zmax\": 6.339465910901892e200,\n",
       "        \"y\": [\n",
       "            26\n",
       "        ],\n",
       "        \"type\": \"scatter\"\n",
       "    },\n",
       "    {\n",
       "        \"xaxis\": \"x\",\n",
       "        \"colorbar\": {\n",
       "            \"title\": \"\"\n",
       "        },\n",
       "        \"yaxis\": \"y\",\n",
       "        \"x\": [\n",
       "            5\n",
       "        ],\n",
       "        \"showlegend\": false,\n",
       "        \"mode\": \"markers\",\n",
       "        \"name\": \"\",\n",
       "        \"zmin\": -1076.3999999999996,\n",
       "        \"legendgroup\": \"\",\n",
       "        \"marker\": {\n",
       "            \"symbol\": \"circle\",\n",
       "            \"color\": \"rgba(0, 0, 4, 1.000)\",\n",
       "            \"line\": {\n",
       "                \"color\": \"rgba(0, 0, 0, 1.000)\",\n",
       "                \"width\": 0\n",
       "            },\n",
       "            \"size\": 2\n",
       "        },\n",
       "        \"zmax\": 6.339465910901892e200,\n",
       "        \"y\": [\n",
       "            1\n",
       "        ],\n",
       "        \"type\": \"scatter\"\n",
       "    },\n",
       "    {\n",
       "        \"xaxis\": \"x\",\n",
       "        \"colorbar\": {\n",
       "            \"title\": \"\"\n",
       "        },\n",
       "        \"yaxis\": \"y\",\n",
       "        \"x\": [\n",
       "            5\n",
       "        ],\n",
       "        \"showlegend\": false,\n",
       "        \"mode\": \"markers\",\n",
       "        \"name\": \"\",\n",
       "        \"zmin\": -1076.3999999999996,\n",
       "        \"legendgroup\": \"\",\n",
       "        \"marker\": {\n",
       "            \"symbol\": \"circle\",\n",
       "            \"color\": \"rgba(0, 0, 4, 1.000)\",\n",
       "            \"line\": {\n",
       "                \"color\": \"rgba(0, 0, 0, 1.000)\",\n",
       "                \"width\": 0\n",
       "            },\n",
       "            \"size\": 2\n",
       "        },\n",
       "        \"zmax\": 6.339465910901892e200,\n",
       "        \"y\": [\n",
       "            2\n",
       "        ],\n",
       "        \"type\": \"scatter\"\n",
       "    },\n",
       "    {\n",
       "        \"xaxis\": \"x\",\n",
       "        \"colorbar\": {\n",
       "            \"title\": \"\"\n",
       "        },\n",
       "        \"yaxis\": \"y\",\n",
       "        \"x\": [\n",
       "            5\n",
       "        ],\n",
       "        \"showlegend\": false,\n",
       "        \"mode\": \"markers\",\n",
       "        \"name\": \"\",\n",
       "        \"zmin\": -1076.3999999999996,\n",
       "        \"legendgroup\": \"\",\n",
       "        \"marker\": {\n",
       "            \"symbol\": \"circle\",\n",
       "            \"color\": \"rgba(0, 0, 4, 1.000)\",\n",
       "            \"line\": {\n",
       "                \"color\": \"rgba(0, 0, 0, 1.000)\",\n",
       "                \"width\": 0\n",
       "            },\n",
       "            \"size\": 2\n",
       "        },\n",
       "        \"zmax\": 6.339465910901892e200,\n",
       "        \"y\": [\n",
       "            3\n",
       "        ],\n",
       "        \"type\": \"scatter\"\n",
       "    },\n",
       "    {\n",
       "        \"xaxis\": \"x\",\n",
       "        \"colorbar\": {\n",
       "            \"title\": \"\"\n",
       "        },\n",
       "        \"yaxis\": \"y\",\n",
       "        \"x\": [\n",
       "            5\n",
       "        ],\n",
       "        \"showlegend\": false,\n",
       "        \"mode\": \"markers\",\n",
       "        \"name\": \"\",\n",
       "        \"zmin\": -1076.3999999999996,\n",
       "        \"legendgroup\": \"\",\n",
       "        \"marker\": {\n",
       "            \"symbol\": \"circle\",\n",
       "            \"color\": \"rgba(0, 0, 4, 1.000)\",\n",
       "            \"line\": {\n",
       "                \"color\": \"rgba(0, 0, 0, 1.000)\",\n",
       "                \"width\": 0\n",
       "            },\n",
       "            \"size\": 2\n",
       "        },\n",
       "        \"zmax\": 6.339465910901892e200,\n",
       "        \"y\": [\n",
       "            4\n",
       "        ],\n",
       "        \"type\": \"scatter\"\n",
       "    },\n",
       "    {\n",
       "        \"xaxis\": \"x\",\n",
       "        \"colorbar\": {\n",
       "            \"title\": \"\"\n",
       "        },\n",
       "        \"yaxis\": \"y\",\n",
       "        \"x\": [\n",
       "            5\n",
       "        ],\n",
       "        \"showlegend\": false,\n",
       "        \"mode\": \"markers\",\n",
       "        \"name\": \"\",\n",
       "        \"zmin\": -1076.3999999999996,\n",
       "        \"legendgroup\": \"\",\n",
       "        \"marker\": {\n",
       "            \"symbol\": \"circle\",\n",
       "            \"color\": \"rgba(0, 0, 4, 1.000)\",\n",
       "            \"line\": {\n",
       "                \"color\": \"rgba(0, 0, 0, 1.000)\",\n",
       "                \"width\": 0\n",
       "            },\n",
       "            \"size\": 2\n",
       "        },\n",
       "        \"zmax\": 6.339465910901892e200,\n",
       "        \"y\": [\n",
       "            5\n",
       "        ],\n",
       "        \"type\": \"scatter\"\n",
       "    },\n",
       "    {\n",
       "        \"xaxis\": \"x\",\n",
       "        \"colorbar\": {\n",
       "            \"title\": \"\"\n",
       "        },\n",
       "        \"yaxis\": \"y\",\n",
       "        \"x\": [\n",
       "            5\n",
       "        ],\n",
       "        \"showlegend\": false,\n",
       "        \"mode\": \"markers\",\n",
       "        \"name\": \"\",\n",
       "        \"zmin\": -1076.3999999999996,\n",
       "        \"legendgroup\": \"\",\n",
       "        \"marker\": {\n",
       "            \"symbol\": \"circle\",\n",
       "            \"color\": \"rgba(0, 0, 4, 1.000)\",\n",
       "            \"line\": {\n",
       "                \"color\": \"rgba(0, 0, 0, 1.000)\",\n",
       "                \"width\": 0\n",
       "            },\n",
       "            \"size\": 2\n",
       "        },\n",
       "        \"zmax\": 6.339465910901892e200,\n",
       "        \"y\": [\n",
       "            6\n",
       "        ],\n",
       "        \"type\": \"scatter\"\n",
       "    },\n",
       "    {\n",
       "        \"xaxis\": \"x\",\n",
       "        \"colorbar\": {\n",
       "            \"title\": \"\"\n",
       "        },\n",
       "        \"yaxis\": \"y\",\n",
       "        \"x\": [\n",
       "            5\n",
       "        ],\n",
       "        \"showlegend\": false,\n",
       "        \"mode\": \"markers\",\n",
       "        \"name\": \"\",\n",
       "        \"zmin\": -1076.3999999999996,\n",
       "        \"legendgroup\": \"\",\n",
       "        \"marker\": {\n",
       "            \"symbol\": \"circle\",\n",
       "            \"color\": \"rgba(0, 0, 4, 1.000)\",\n",
       "            \"line\": {\n",
       "                \"color\": \"rgba(0, 0, 0, 1.000)\",\n",
       "                \"width\": 0\n",
       "            },\n",
       "            \"size\": 2\n",
       "        },\n",
       "        \"zmax\": 6.339465910901892e200,\n",
       "        \"y\": [\n",
       "            7\n",
       "        ],\n",
       "        \"type\": \"scatter\"\n",
       "    },\n",
       "    {\n",
       "        \"xaxis\": \"x\",\n",
       "        \"colorbar\": {\n",
       "            \"title\": \"\"\n",
       "        },\n",
       "        \"yaxis\": \"y\",\n",
       "        \"x\": [\n",
       "            5\n",
       "        ],\n",
       "        \"showlegend\": false,\n",
       "        \"mode\": \"markers\",\n",
       "        \"name\": \"\",\n",
       "        \"zmin\": -1076.3999999999996,\n",
       "        \"legendgroup\": \"\",\n",
       "        \"marker\": {\n",
       "            \"symbol\": \"circle\",\n",
       "            \"color\": \"rgba(0, 0, 0, 0.000)\",\n",
       "            \"line\": {\n",
       "                \"color\": \"rgba(0, 0, 0, 1.000)\",\n",
       "                \"width\": 0\n",
       "            },\n",
       "            \"size\": 2\n",
       "        },\n",
       "        \"zmax\": 6.339465910901892e200,\n",
       "        \"y\": [\n",
       "            8\n",
       "        ],\n",
       "        \"type\": \"scatter\"\n",
       "    },\n",
       "    {\n",
       "        \"xaxis\": \"x\",\n",
       "        \"colorbar\": {\n",
       "            \"title\": \"\"\n",
       "        },\n",
       "        \"yaxis\": \"y\",\n",
       "        \"x\": [\n",
       "            5\n",
       "        ],\n",
       "        \"showlegend\": false,\n",
       "        \"mode\": \"markers\",\n",
       "        \"name\": \"\",\n",
       "        \"zmin\": -1076.3999999999996,\n",
       "        \"legendgroup\": \"\",\n",
       "        \"marker\": {\n",
       "            \"symbol\": \"circle\",\n",
       "            \"color\": \"rgba(0, 0, 0, 0.000)\",\n",
       "            \"line\": {\n",
       "                \"color\": \"rgba(0, 0, 0, 1.000)\",\n",
       "                \"width\": 0\n",
       "            },\n",
       "            \"size\": 2\n",
       "        },\n",
       "        \"zmax\": 6.339465910901892e200,\n",
       "        \"y\": [\n",
       "            9\n",
       "        ],\n",
       "        \"type\": \"scatter\"\n",
       "    },\n",
       "    {\n",
       "        \"xaxis\": \"x\",\n",
       "        \"colorbar\": {\n",
       "            \"title\": \"\"\n",
       "        },\n",
       "        \"yaxis\": \"y\",\n",
       "        \"x\": [\n",
       "            5\n",
       "        ],\n",
       "        \"showlegend\": false,\n",
       "        \"mode\": \"markers\",\n",
       "        \"name\": \"\",\n",
       "        \"zmin\": -1076.3999999999996,\n",
       "        \"legendgroup\": \"\",\n",
       "        \"marker\": {\n",
       "            \"symbol\": \"circle\",\n",
       "            \"color\": \"rgba(0, 0, 0, 0.000)\",\n",
       "            \"line\": {\n",
       "                \"color\": \"rgba(0, 0, 0, 1.000)\",\n",
       "                \"width\": 0\n",
       "            },\n",
       "            \"size\": 2\n",
       "        },\n",
       "        \"zmax\": 6.339465910901892e200,\n",
       "        \"y\": [\n",
       "            10\n",
       "        ],\n",
       "        \"type\": \"scatter\"\n",
       "    },\n",
       "    {\n",
       "        \"xaxis\": \"x\",\n",
       "        \"colorbar\": {\n",
       "            \"title\": \"\"\n",
       "        },\n",
       "        \"yaxis\": \"y\",\n",
       "        \"x\": [\n",
       "            5\n",
       "        ],\n",
       "        \"showlegend\": false,\n",
       "        \"mode\": \"markers\",\n",
       "        \"name\": \"\",\n",
       "        \"zmin\": -1076.3999999999996,\n",
       "        \"legendgroup\": \"\",\n",
       "        \"marker\": {\n",
       "            \"symbol\": \"circle\",\n",
       "            \"color\": \"rgba(0, 0, 0, 0.000)\",\n",
       "            \"line\": {\n",
       "                \"color\": \"rgba(0, 0, 0, 1.000)\",\n",
       "                \"width\": 0\n",
       "            },\n",
       "            \"size\": 2\n",
       "        },\n",
       "        \"zmax\": 6.339465910901892e200,\n",
       "        \"y\": [\n",
       "            11\n",
       "        ],\n",
       "        \"type\": \"scatter\"\n",
       "    },\n",
       "    {\n",
       "        \"xaxis\": \"x\",\n",
       "        \"colorbar\": {\n",
       "            \"title\": \"\"\n",
       "        },\n",
       "        \"yaxis\": \"y\",\n",
       "        \"x\": [\n",
       "            5\n",
       "        ],\n",
       "        \"showlegend\": false,\n",
       "        \"mode\": \"markers\",\n",
       "        \"name\": \"\",\n",
       "        \"zmin\": -1076.3999999999996,\n",
       "        \"legendgroup\": \"\",\n",
       "        \"marker\": {\n",
       "            \"symbol\": \"circle\",\n",
       "            \"color\": \"rgba(0, 0, 0, 0.000)\",\n",
       "            \"line\": {\n",
       "                \"color\": \"rgba(0, 0, 0, 1.000)\",\n",
       "                \"width\": 0\n",
       "            },\n",
       "            \"size\": 2\n",
       "        },\n",
       "        \"zmax\": 6.339465910901892e200,\n",
       "        \"y\": [\n",
       "            12\n",
       "        ],\n",
       "        \"type\": \"scatter\"\n",
       "    },\n",
       "    {\n",
       "        \"xaxis\": \"x\",\n",
       "        \"colorbar\": {\n",
       "            \"title\": \"\"\n",
       "        },\n",
       "        \"yaxis\": \"y\",\n",
       "        \"x\": [\n",
       "            5\n",
       "        ],\n",
       "        \"showlegend\": false,\n",
       "        \"mode\": \"markers\",\n",
       "        \"name\": \"\",\n",
       "        \"zmin\": -1076.3999999999996,\n",
       "        \"legendgroup\": \"\",\n",
       "        \"marker\": {\n",
       "            \"symbol\": \"circle\",\n",
       "            \"color\": \"rgba(0, 0, 0, 0.000)\",\n",
       "            \"line\": {\n",
       "                \"color\": \"rgba(0, 0, 0, 1.000)\",\n",
       "                \"width\": 0\n",
       "            },\n",
       "            \"size\": 2\n",
       "        },\n",
       "        \"zmax\": 6.339465910901892e200,\n",
       "        \"y\": [\n",
       "            13\n",
       "        ],\n",
       "        \"type\": \"scatter\"\n",
       "    },\n",
       "    {\n",
       "        \"xaxis\": \"x\",\n",
       "        \"colorbar\": {\n",
       "            \"title\": \"\"\n",
       "        },\n",
       "        \"yaxis\": \"y\",\n",
       "        \"x\": [\n",
       "            5\n",
       "        ],\n",
       "        \"showlegend\": false,\n",
       "        \"mode\": \"markers\",\n",
       "        \"name\": \"\",\n",
       "        \"zmin\": -1076.3999999999996,\n",
       "        \"legendgroup\": \"\",\n",
       "        \"marker\": {\n",
       "            \"symbol\": \"circle\",\n",
       "            \"color\": \"rgba(0, 0, 0, 0.000)\",\n",
       "            \"line\": {\n",
       "                \"color\": \"rgba(0, 0, 0, 1.000)\",\n",
       "                \"width\": 0\n",
       "            },\n",
       "            \"size\": 2\n",
       "        },\n",
       "        \"zmax\": 6.339465910901892e200,\n",
       "        \"y\": [\n",
       "            14\n",
       "        ],\n",
       "        \"type\": \"scatter\"\n",
       "    },\n",
       "    {\n",
       "        \"xaxis\": \"x\",\n",
       "        \"colorbar\": {\n",
       "            \"title\": \"\"\n",
       "        },\n",
       "        \"yaxis\": \"y\",\n",
       "        \"x\": [\n",
       "            5\n",
       "        ],\n",
       "        \"showlegend\": false,\n",
       "        \"mode\": \"markers\",\n",
       "        \"name\": \"\",\n",
       "        \"zmin\": -1076.3999999999996,\n",
       "        \"legendgroup\": \"\",\n",
       "        \"marker\": {\n",
       "            \"symbol\": \"circle\",\n",
       "            \"color\": \"rgba(0, 0, 0, 0.000)\",\n",
       "            \"line\": {\n",
       "                \"color\": \"rgba(0, 0, 0, 1.000)\",\n",
       "                \"width\": 0\n",
       "            },\n",
       "            \"size\": 2\n",
       "        },\n",
       "        \"zmax\": 6.339465910901892e200,\n",
       "        \"y\": [\n",
       "            15\n",
       "        ],\n",
       "        \"type\": \"scatter\"\n",
       "    },\n",
       "    {\n",
       "        \"xaxis\": \"x\",\n",
       "        \"colorbar\": {\n",
       "            \"title\": \"\"\n",
       "        },\n",
       "        \"yaxis\": \"y\",\n",
       "        \"x\": [\n",
       "            5\n",
       "        ],\n",
       "        \"showlegend\": false,\n",
       "        \"mode\": \"markers\",\n",
       "        \"name\": \"\",\n",
       "        \"zmin\": -1076.3999999999996,\n",
       "        \"legendgroup\": \"\",\n",
       "        \"marker\": {\n",
       "            \"symbol\": \"circle\",\n",
       "            \"color\": \"rgba(0, 0, 0, 0.000)\",\n",
       "            \"line\": {\n",
       "                \"color\": \"rgba(0, 0, 0, 1.000)\",\n",
       "                \"width\": 0\n",
       "            },\n",
       "            \"size\": 2\n",
       "        },\n",
       "        \"zmax\": 6.339465910901892e200,\n",
       "        \"y\": [\n",
       "            16\n",
       "        ],\n",
       "        \"type\": \"scatter\"\n",
       "    },\n",
       "    {\n",
       "        \"xaxis\": \"x\",\n",
       "        \"colorbar\": {\n",
       "            \"title\": \"\"\n",
       "        },\n",
       "        \"yaxis\": \"y\",\n",
       "        \"x\": [\n",
       "            5\n",
       "        ],\n",
       "        \"showlegend\": false,\n",
       "        \"mode\": \"markers\",\n",
       "        \"name\": \"\",\n",
       "        \"zmin\": -1076.3999999999996,\n",
       "        \"legendgroup\": \"\",\n",
       "        \"marker\": {\n",
       "            \"symbol\": \"circle\",\n",
       "            \"color\": \"rgba(0, 0, 0, 0.000)\",\n",
       "            \"line\": {\n",
       "                \"color\": \"rgba(0, 0, 0, 1.000)\",\n",
       "                \"width\": 0\n",
       "            },\n",
       "            \"size\": 2\n",
       "        },\n",
       "        \"zmax\": 6.339465910901892e200,\n",
       "        \"y\": [\n",
       "            17\n",
       "        ],\n",
       "        \"type\": \"scatter\"\n",
       "    },\n",
       "    {\n",
       "        \"xaxis\": \"x\",\n",
       "        \"colorbar\": {\n",
       "            \"title\": \"\"\n",
       "        },\n",
       "        \"yaxis\": \"y\",\n",
       "        \"x\": [\n",
       "            5\n",
       "        ],\n",
       "        \"showlegend\": false,\n",
       "        \"mode\": \"markers\",\n",
       "        \"name\": \"\",\n",
       "        \"zmin\": -1076.3999999999996,\n",
       "        \"legendgroup\": \"\",\n",
       "        \"marker\": {\n",
       "            \"symbol\": \"circle\",\n",
       "            \"color\": \"rgba(0, 0, 0, 0.000)\",\n",
       "            \"line\": {\n",
       "                \"color\": \"rgba(0, 0, 0, 1.000)\",\n",
       "                \"width\": 0\n",
       "            },\n",
       "            \"size\": 2\n",
       "        },\n",
       "        \"zmax\": 6.339465910901892e200,\n",
       "        \"y\": [\n",
       "            18\n",
       "        ],\n",
       "        \"type\": \"scatter\"\n",
       "    },\n",
       "    {\n",
       "        \"xaxis\": \"x\",\n",
       "        \"colorbar\": {\n",
       "            \"title\": \"\"\n",
       "        },\n",
       "        \"yaxis\": \"y\",\n",
       "        \"x\": [\n",
       "            5\n",
       "        ],\n",
       "        \"showlegend\": false,\n",
       "        \"mode\": \"markers\",\n",
       "        \"name\": \"\",\n",
       "        \"zmin\": -1076.3999999999996,\n",
       "        \"legendgroup\": \"\",\n",
       "        \"marker\": {\n",
       "            \"symbol\": \"circle\",\n",
       "            \"color\": \"rgba(0, 0, 0, 0.000)\",\n",
       "            \"line\": {\n",
       "                \"color\": \"rgba(0, 0, 0, 1.000)\",\n",
       "                \"width\": 0\n",
       "            },\n",
       "            \"size\": 2\n",
       "        },\n",
       "        \"zmax\": 6.339465910901892e200,\n",
       "        \"y\": [\n",
       "            19\n",
       "        ],\n",
       "        \"type\": \"scatter\"\n",
       "    },\n",
       "    {\n",
       "        \"xaxis\": \"x\",\n",
       "        \"colorbar\": {\n",
       "            \"title\": \"\"\n",
       "        },\n",
       "        \"yaxis\": \"y\",\n",
       "        \"x\": [\n",
       "            5\n",
       "        ],\n",
       "        \"showlegend\": false,\n",
       "        \"mode\": \"markers\",\n",
       "        \"name\": \"\",\n",
       "        \"zmin\": -1076.3999999999996,\n",
       "        \"legendgroup\": \"\",\n",
       "        \"marker\": {\n",
       "            \"symbol\": \"circle\",\n",
       "            \"color\": \"rgba(0, 0, 0, 0.000)\",\n",
       "            \"line\": {\n",
       "                \"color\": \"rgba(0, 0, 0, 1.000)\",\n",
       "                \"width\": 0\n",
       "            },\n",
       "            \"size\": 2\n",
       "        },\n",
       "        \"zmax\": 6.339465910901892e200,\n",
       "        \"y\": [\n",
       "            20\n",
       "        ],\n",
       "        \"type\": \"scatter\"\n",
       "    },\n",
       "    {\n",
       "        \"xaxis\": \"x\",\n",
       "        \"colorbar\": {\n",
       "            \"title\": \"\"\n",
       "        },\n",
       "        \"yaxis\": \"y\",\n",
       "        \"x\": [\n",
       "            5\n",
       "        ],\n",
       "        \"showlegend\": false,\n",
       "        \"mode\": \"markers\",\n",
       "        \"name\": \"\",\n",
       "        \"zmin\": -1076.3999999999996,\n",
       "        \"legendgroup\": \"\",\n",
       "        \"marker\": {\n",
       "            \"symbol\": \"circle\",\n",
       "            \"color\": \"rgba(0, 0, 0, 0.000)\",\n",
       "            \"line\": {\n",
       "                \"color\": \"rgba(0, 0, 0, 1.000)\",\n",
       "                \"width\": 0\n",
       "            },\n",
       "            \"size\": 2\n",
       "        },\n",
       "        \"zmax\": 6.339465910901892e200,\n",
       "        \"y\": [\n",
       "            21\n",
       "        ],\n",
       "        \"type\": \"scatter\"\n",
       "    },\n",
       "    {\n",
       "        \"xaxis\": \"x\",\n",
       "        \"colorbar\": {\n",
       "            \"title\": \"\"\n",
       "        },\n",
       "        \"yaxis\": \"y\",\n",
       "        \"x\": [\n",
       "            5\n",
       "        ],\n",
       "        \"showlegend\": false,\n",
       "        \"mode\": \"markers\",\n",
       "        \"name\": \"\",\n",
       "        \"zmin\": -1076.3999999999996,\n",
       "        \"legendgroup\": \"\",\n",
       "        \"marker\": {\n",
       "            \"symbol\": \"circle\",\n",
       "            \"color\": \"rgba(0, 0, 0, 0.000)\",\n",
       "            \"line\": {\n",
       "                \"color\": \"rgba(0, 0, 0, 1.000)\",\n",
       "                \"width\": 0\n",
       "            },\n",
       "            \"size\": 2\n",
       "        },\n",
       "        \"zmax\": 6.339465910901892e200,\n",
       "        \"y\": [\n",
       "            22\n",
       "        ],\n",
       "        \"type\": \"scatter\"\n",
       "    },\n",
       "    {\n",
       "        \"xaxis\": \"x\",\n",
       "        \"colorbar\": {\n",
       "            \"title\": \"\"\n",
       "        },\n",
       "        \"yaxis\": \"y\",\n",
       "        \"x\": [\n",
       "            5\n",
       "        ],\n",
       "        \"showlegend\": false,\n",
       "        \"mode\": \"markers\",\n",
       "        \"name\": \"\",\n",
       "        \"zmin\": -1076.3999999999996,\n",
       "        \"legendgroup\": \"\",\n",
       "        \"marker\": {\n",
       "            \"symbol\": \"circle\",\n",
       "            \"color\": \"rgba(0, 0, 0, 0.000)\",\n",
       "            \"line\": {\n",
       "                \"color\": \"rgba(0, 0, 0, 1.000)\",\n",
       "                \"width\": 0\n",
       "            },\n",
       "            \"size\": 2\n",
       "        },\n",
       "        \"zmax\": 6.339465910901892e200,\n",
       "        \"y\": [\n",
       "            23\n",
       "        ],\n",
       "        \"type\": \"scatter\"\n",
       "    },\n",
       "    {\n",
       "        \"xaxis\": \"x\",\n",
       "        \"colorbar\": {\n",
       "            \"title\": \"\"\n",
       "        },\n",
       "        \"yaxis\": \"y\",\n",
       "        \"x\": [\n",
       "            5\n",
       "        ],\n",
       "        \"showlegend\": false,\n",
       "        \"mode\": \"markers\",\n",
       "        \"name\": \"\",\n",
       "        \"zmin\": -1076.3999999999996,\n",
       "        \"legendgroup\": \"\",\n",
       "        \"marker\": {\n",
       "            \"symbol\": \"circle\",\n",
       "            \"color\": \"rgba(0, 0, 0, 0.000)\",\n",
       "            \"line\": {\n",
       "                \"color\": \"rgba(0, 0, 0, 1.000)\",\n",
       "                \"width\": 0\n",
       "            },\n",
       "            \"size\": 2\n",
       "        },\n",
       "        \"zmax\": 6.339465910901892e200,\n",
       "        \"y\": [\n",
       "            24\n",
       "        ],\n",
       "        \"type\": \"scatter\"\n",
       "    },\n",
       "    {\n",
       "        \"xaxis\": \"x\",\n",
       "        \"colorbar\": {\n",
       "            \"title\": \"\"\n",
       "        },\n",
       "        \"yaxis\": \"y\",\n",
       "        \"x\": [\n",
       "            5\n",
       "        ],\n",
       "        \"showlegend\": false,\n",
       "        \"mode\": \"markers\",\n",
       "        \"name\": \"\",\n",
       "        \"zmin\": -1076.3999999999996,\n",
       "        \"legendgroup\": \"\",\n",
       "        \"marker\": {\n",
       "            \"symbol\": \"circle\",\n",
       "            \"color\": \"rgba(0, 0, 0, 0.000)\",\n",
       "            \"line\": {\n",
       "                \"color\": \"rgba(0, 0, 0, 1.000)\",\n",
       "                \"width\": 0\n",
       "            },\n",
       "            \"size\": 2\n",
       "        },\n",
       "        \"zmax\": 6.339465910901892e200,\n",
       "        \"y\": [\n",
       "            25\n",
       "        ],\n",
       "        \"type\": \"scatter\"\n",
       "    },\n",
       "    {\n",
       "        \"xaxis\": \"x\",\n",
       "        \"colorbar\": {\n",
       "            \"title\": \"\"\n",
       "        },\n",
       "        \"yaxis\": \"y\",\n",
       "        \"x\": [\n",
       "            5\n",
       "        ],\n",
       "        \"showlegend\": false,\n",
       "        \"mode\": \"markers\",\n",
       "        \"name\": \"\",\n",
       "        \"zmin\": -1076.3999999999996,\n",
       "        \"legendgroup\": \"\",\n",
       "        \"marker\": {\n",
       "            \"symbol\": \"circle\",\n",
       "            \"color\": \"rgba(0, 0, 0, 0.000)\",\n",
       "            \"line\": {\n",
       "                \"color\": \"rgba(0, 0, 0, 1.000)\",\n",
       "                \"width\": 0\n",
       "            },\n",
       "            \"size\": 2\n",
       "        },\n",
       "        \"zmax\": 6.339465910901892e200,\n",
       "        \"y\": [\n",
       "            26\n",
       "        ],\n",
       "        \"type\": \"scatter\"\n",
       "    },\n",
       "    {\n",
       "        \"xaxis\": \"x\",\n",
       "        \"colorbar\": {\n",
       "            \"title\": \"\"\n",
       "        },\n",
       "        \"yaxis\": \"y\",\n",
       "        \"x\": [\n",
       "            6\n",
       "        ],\n",
       "        \"showlegend\": false,\n",
       "        \"mode\": \"markers\",\n",
       "        \"name\": \"\",\n",
       "        \"zmin\": -1076.3999999999996,\n",
       "        \"legendgroup\": \"\",\n",
       "        \"marker\": {\n",
       "            \"symbol\": \"circle\",\n",
       "            \"color\": \"rgba(0, 0, 4, 1.000)\",\n",
       "            \"line\": {\n",
       "                \"color\": \"rgba(0, 0, 0, 1.000)\",\n",
       "                \"width\": 0\n",
       "            },\n",
       "            \"size\": 2\n",
       "        },\n",
       "        \"zmax\": 6.339465910901892e200,\n",
       "        \"y\": [\n",
       "            1\n",
       "        ],\n",
       "        \"type\": \"scatter\"\n",
       "    },\n",
       "    {\n",
       "        \"xaxis\": \"x\",\n",
       "        \"colorbar\": {\n",
       "            \"title\": \"\"\n",
       "        },\n",
       "        \"yaxis\": \"y\",\n",
       "        \"x\": [\n",
       "            6\n",
       "        ],\n",
       "        \"showlegend\": false,\n",
       "        \"mode\": \"markers\",\n",
       "        \"name\": \"\",\n",
       "        \"zmin\": -1076.3999999999996,\n",
       "        \"legendgroup\": \"\",\n",
       "        \"marker\": {\n",
       "            \"symbol\": \"circle\",\n",
       "            \"color\": \"rgba(0, 0, 4, 1.000)\",\n",
       "            \"line\": {\n",
       "                \"color\": \"rgba(0, 0, 0, 1.000)\",\n",
       "                \"width\": 0\n",
       "            },\n",
       "            \"size\": 2\n",
       "        },\n",
       "        \"zmax\": 6.339465910901892e200,\n",
       "        \"y\": [\n",
       "            2\n",
       "        ],\n",
       "        \"type\": \"scatter\"\n",
       "    },\n",
       "    {\n",
       "        \"xaxis\": \"x\",\n",
       "        \"colorbar\": {\n",
       "            \"title\": \"\"\n",
       "        },\n",
       "        \"yaxis\": \"y\",\n",
       "        \"x\": [\n",
       "            6\n",
       "        ],\n",
       "        \"showlegend\": false,\n",
       "        \"mode\": \"markers\",\n",
       "        \"name\": \"\",\n",
       "        \"zmin\": -1076.3999999999996,\n",
       "        \"legendgroup\": \"\",\n",
       "        \"marker\": {\n",
       "            \"symbol\": \"circle\",\n",
       "            \"color\": \"rgba(0, 0, 4, 1.000)\",\n",
       "            \"line\": {\n",
       "                \"color\": \"rgba(0, 0, 0, 1.000)\",\n",
       "                \"width\": 0\n",
       "            },\n",
       "            \"size\": 2\n",
       "        },\n",
       "        \"zmax\": 6.339465910901892e200,\n",
       "        \"y\": [\n",
       "            3\n",
       "        ],\n",
       "        \"type\": \"scatter\"\n",
       "    },\n",
       "    {\n",
       "        \"xaxis\": \"x\",\n",
       "        \"colorbar\": {\n",
       "            \"title\": \"\"\n",
       "        },\n",
       "        \"yaxis\": \"y\",\n",
       "        \"x\": [\n",
       "            6\n",
       "        ],\n",
       "        \"showlegend\": false,\n",
       "        \"mode\": \"markers\",\n",
       "        \"name\": \"\",\n",
       "        \"zmin\": -1076.3999999999996,\n",
       "        \"legendgroup\": \"\",\n",
       "        \"marker\": {\n",
       "            \"symbol\": \"circle\",\n",
       "            \"color\": \"rgba(0, 0, 4, 1.000)\",\n",
       "            \"line\": {\n",
       "                \"color\": \"rgba(0, 0, 0, 1.000)\",\n",
       "                \"width\": 0\n",
       "            },\n",
       "            \"size\": 2\n",
       "        },\n",
       "        \"zmax\": 6.339465910901892e200,\n",
       "        \"y\": [\n",
       "            4\n",
       "        ],\n",
       "        \"type\": \"scatter\"\n",
       "    },\n",
       "    {\n",
       "        \"xaxis\": \"x\",\n",
       "        \"colorbar\": {\n",
       "            \"title\": \"\"\n",
       "        },\n",
       "        \"yaxis\": \"y\",\n",
       "        \"x\": [\n",
       "            6\n",
       "        ],\n",
       "        \"showlegend\": false,\n",
       "        \"mode\": \"markers\",\n",
       "        \"name\": \"\",\n",
       "        \"zmin\": -1076.3999999999996,\n",
       "        \"legendgroup\": \"\",\n",
       "        \"marker\": {\n",
       "            \"symbol\": \"circle\",\n",
       "            \"color\": \"rgba(0, 0, 4, 1.000)\",\n",
       "            \"line\": {\n",
       "                \"color\": \"rgba(0, 0, 0, 1.000)\",\n",
       "                \"width\": 0\n",
       "            },\n",
       "            \"size\": 2\n",
       "        },\n",
       "        \"zmax\": 6.339465910901892e200,\n",
       "        \"y\": [\n",
       "            5\n",
       "        ],\n",
       "        \"type\": \"scatter\"\n",
       "    },\n",
       "    {\n",
       "        \"xaxis\": \"x\",\n",
       "        \"colorbar\": {\n",
       "            \"title\": \"\"\n",
       "        },\n",
       "        \"yaxis\": \"y\",\n",
       "        \"x\": [\n",
       "            6\n",
       "        ],\n",
       "        \"showlegend\": false,\n",
       "        \"mode\": \"markers\",\n",
       "        \"name\": \"\",\n",
       "        \"zmin\": -1076.3999999999996,\n",
       "        \"legendgroup\": \"\",\n",
       "        \"marker\": {\n",
       "            \"symbol\": \"circle\",\n",
       "            \"color\": \"rgba(0, 0, 4, 1.000)\",\n",
       "            \"line\": {\n",
       "                \"color\": \"rgba(0, 0, 0, 1.000)\",\n",
       "                \"width\": 0\n",
       "            },\n",
       "            \"size\": 2\n",
       "        },\n",
       "        \"zmax\": 6.339465910901892e200,\n",
       "        \"y\": [\n",
       "            6\n",
       "        ],\n",
       "        \"type\": \"scatter\"\n",
       "    },\n",
       "    {\n",
       "        \"xaxis\": \"x\",\n",
       "        \"colorbar\": {\n",
       "            \"title\": \"\"\n",
       "        },\n",
       "        \"yaxis\": \"y\",\n",
       "        \"x\": [\n",
       "            6\n",
       "        ],\n",
       "        \"showlegend\": false,\n",
       "        \"mode\": \"markers\",\n",
       "        \"name\": \"\",\n",
       "        \"zmin\": -1076.3999999999996,\n",
       "        \"legendgroup\": \"\",\n",
       "        \"marker\": {\n",
       "            \"symbol\": \"circle\",\n",
       "            \"color\": \"rgba(0, 0, 4, 1.000)\",\n",
       "            \"line\": {\n",
       "                \"color\": \"rgba(0, 0, 0, 1.000)\",\n",
       "                \"width\": 0\n",
       "            },\n",
       "            \"size\": 2\n",
       "        },\n",
       "        \"zmax\": 6.339465910901892e200,\n",
       "        \"y\": [\n",
       "            7\n",
       "        ],\n",
       "        \"type\": \"scatter\"\n",
       "    },\n",
       "    {\n",
       "        \"xaxis\": \"x\",\n",
       "        \"colorbar\": {\n",
       "            \"title\": \"\"\n",
       "        },\n",
       "        \"yaxis\": \"y\",\n",
       "        \"x\": [\n",
       "            6\n",
       "        ],\n",
       "        \"showlegend\": false,\n",
       "        \"mode\": \"markers\",\n",
       "        \"name\": \"\",\n",
       "        \"zmin\": -1076.3999999999996,\n",
       "        \"legendgroup\": \"\",\n",
       "        \"marker\": {\n",
       "            \"symbol\": \"circle\",\n",
       "            \"color\": \"rgba(0, 0, 0, 0.000)\",\n",
       "            \"line\": {\n",
       "                \"color\": \"rgba(0, 0, 0, 1.000)\",\n",
       "                \"width\": 0\n",
       "            },\n",
       "            \"size\": 2\n",
       "        },\n",
       "        \"zmax\": 6.339465910901892e200,\n",
       "        \"y\": [\n",
       "            8\n",
       "        ],\n",
       "        \"type\": \"scatter\"\n",
       "    },\n",
       "    {\n",
       "        \"xaxis\": \"x\",\n",
       "        \"colorbar\": {\n",
       "            \"title\": \"\"\n",
       "        },\n",
       "        \"yaxis\": \"y\",\n",
       "        \"x\": [\n",
       "            6\n",
       "        ],\n",
       "        \"showlegend\": false,\n",
       "        \"mode\": \"markers\",\n",
       "        \"name\": \"\",\n",
       "        \"zmin\": -1076.3999999999996,\n",
       "        \"legendgroup\": \"\",\n",
       "        \"marker\": {\n",
       "            \"symbol\": \"circle\",\n",
       "            \"color\": \"rgba(0, 0, 0, 0.000)\",\n",
       "            \"line\": {\n",
       "                \"color\": \"rgba(0, 0, 0, 1.000)\",\n",
       "                \"width\": 0\n",
       "            },\n",
       "            \"size\": 2\n",
       "        },\n",
       "        \"zmax\": 6.339465910901892e200,\n",
       "        \"y\": [\n",
       "            9\n",
       "        ],\n",
       "        \"type\": \"scatter\"\n",
       "    },\n",
       "    {\n",
       "        \"xaxis\": \"x\",\n",
       "        \"colorbar\": {\n",
       "            \"title\": \"\"\n",
       "        },\n",
       "        \"yaxis\": \"y\",\n",
       "        \"x\": [\n",
       "            6\n",
       "        ],\n",
       "        \"showlegend\": false,\n",
       "        \"mode\": \"markers\",\n",
       "        \"name\": \"\",\n",
       "        \"zmin\": -1076.3999999999996,\n",
       "        \"legendgroup\": \"\",\n",
       "        \"marker\": {\n",
       "            \"symbol\": \"circle\",\n",
       "            \"color\": \"rgba(0, 0, 0, 0.000)\",\n",
       "            \"line\": {\n",
       "                \"color\": \"rgba(0, 0, 0, 1.000)\",\n",
       "                \"width\": 0\n",
       "            },\n",
       "            \"size\": 2\n",
       "        },\n",
       "        \"zmax\": 6.339465910901892e200,\n",
       "        \"y\": [\n",
       "            10\n",
       "        ],\n",
       "        \"type\": \"scatter\"\n",
       "    },\n",
       "    {\n",
       "        \"xaxis\": \"x\",\n",
       "        \"colorbar\": {\n",
       "            \"title\": \"\"\n",
       "        },\n",
       "        \"yaxis\": \"y\",\n",
       "        \"x\": [\n",
       "            6\n",
       "        ],\n",
       "        \"showlegend\": false,\n",
       "        \"mode\": \"markers\",\n",
       "        \"name\": \"\",\n",
       "        \"zmin\": -1076.3999999999996,\n",
       "        \"legendgroup\": \"\",\n",
       "        \"marker\": {\n",
       "            \"symbol\": \"circle\",\n",
       "            \"color\": \"rgba(0, 0, 0, 0.000)\",\n",
       "            \"line\": {\n",
       "                \"color\": \"rgba(0, 0, 0, 1.000)\",\n",
       "                \"width\": 0\n",
       "            },\n",
       "            \"size\": 2\n",
       "        },\n",
       "        \"zmax\": 6.339465910901892e200,\n",
       "        \"y\": [\n",
       "            11\n",
       "        ],\n",
       "        \"type\": \"scatter\"\n",
       "    },\n",
       "    {\n",
       "        \"xaxis\": \"x\",\n",
       "        \"colorbar\": {\n",
       "            \"title\": \"\"\n",
       "        },\n",
       "        \"yaxis\": \"y\",\n",
       "        \"x\": [\n",
       "            6\n",
       "        ],\n",
       "        \"showlegend\": false,\n",
       "        \"mode\": \"markers\",\n",
       "        \"name\": \"\",\n",
       "        \"zmin\": -1076.3999999999996,\n",
       "        \"legendgroup\": \"\",\n",
       "        \"marker\": {\n",
       "            \"symbol\": \"circle\",\n",
       "            \"color\": \"rgba(0, 0, 0, 0.000)\",\n",
       "            \"line\": {\n",
       "                \"color\": \"rgba(0, 0, 0, 1.000)\",\n",
       "                \"width\": 0\n",
       "            },\n",
       "            \"size\": 2\n",
       "        },\n",
       "        \"zmax\": 6.339465910901892e200,\n",
       "        \"y\": [\n",
       "            12\n",
       "        ],\n",
       "        \"type\": \"scatter\"\n",
       "    },\n",
       "    {\n",
       "        \"xaxis\": \"x\",\n",
       "        \"colorbar\": {\n",
       "            \"title\": \"\"\n",
       "        },\n",
       "        \"yaxis\": \"y\",\n",
       "        \"x\": [\n",
       "            6\n",
       "        ],\n",
       "        \"showlegend\": false,\n",
       "        \"mode\": \"markers\",\n",
       "        \"name\": \"\",\n",
       "        \"zmin\": -1076.3999999999996,\n",
       "        \"legendgroup\": \"\",\n",
       "        \"marker\": {\n",
       "            \"symbol\": \"circle\",\n",
       "            \"color\": \"rgba(0, 0, 0, 0.000)\",\n",
       "            \"line\": {\n",
       "                \"color\": \"rgba(0, 0, 0, 1.000)\",\n",
       "                \"width\": 0\n",
       "            },\n",
       "            \"size\": 2\n",
       "        },\n",
       "        \"zmax\": 6.339465910901892e200,\n",
       "        \"y\": [\n",
       "            13\n",
       "        ],\n",
       "        \"type\": \"scatter\"\n",
       "    },\n",
       "    {\n",
       "        \"xaxis\": \"x\",\n",
       "        \"colorbar\": {\n",
       "            \"title\": \"\"\n",
       "        },\n",
       "        \"yaxis\": \"y\",\n",
       "        \"x\": [\n",
       "            6\n",
       "        ],\n",
       "        \"showlegend\": false,\n",
       "        \"mode\": \"markers\",\n",
       "        \"name\": \"\",\n",
       "        \"zmin\": -1076.3999999999996,\n",
       "        \"legendgroup\": \"\",\n",
       "        \"marker\": {\n",
       "            \"symbol\": \"circle\",\n",
       "            \"color\": \"rgba(0, 0, 0, 0.000)\",\n",
       "            \"line\": {\n",
       "                \"color\": \"rgba(0, 0, 0, 1.000)\",\n",
       "                \"width\": 0\n",
       "            },\n",
       "            \"size\": 2\n",
       "        },\n",
       "        \"zmax\": 6.339465910901892e200,\n",
       "        \"y\": [\n",
       "            14\n",
       "        ],\n",
       "        \"type\": \"scatter\"\n",
       "    },\n",
       "    {\n",
       "        \"xaxis\": \"x\",\n",
       "        \"colorbar\": {\n",
       "            \"title\": \"\"\n",
       "        },\n",
       "        \"yaxis\": \"y\",\n",
       "        \"x\": [\n",
       "            6\n",
       "        ],\n",
       "        \"showlegend\": false,\n",
       "        \"mode\": \"markers\",\n",
       "        \"name\": \"\",\n",
       "        \"zmin\": -1076.3999999999996,\n",
       "        \"legendgroup\": \"\",\n",
       "        \"marker\": {\n",
       "            \"symbol\": \"circle\",\n",
       "            \"color\": \"rgba(0, 0, 0, 0.000)\",\n",
       "            \"line\": {\n",
       "                \"color\": \"rgba(0, 0, 0, 1.000)\",\n",
       "                \"width\": 0\n",
       "            },\n",
       "            \"size\": 2\n",
       "        },\n",
       "        \"zmax\": 6.339465910901892e200,\n",
       "        \"y\": [\n",
       "            15\n",
       "        ],\n",
       "        \"type\": \"scatter\"\n",
       "    },\n",
       "    {\n",
       "        \"xaxis\": \"x\",\n",
       "        \"colorbar\": {\n",
       "            \"title\": \"\"\n",
       "        },\n",
       "        \"yaxis\": \"y\",\n",
       "        \"x\": [\n",
       "            6\n",
       "        ],\n",
       "        \"showlegend\": false,\n",
       "        \"mode\": \"markers\",\n",
       "        \"name\": \"\",\n",
       "        \"zmin\": -1076.3999999999996,\n",
       "        \"legendgroup\": \"\",\n",
       "        \"marker\": {\n",
       "            \"symbol\": \"circle\",\n",
       "            \"color\": \"rgba(0, 0, 0, 0.000)\",\n",
       "            \"line\": {\n",
       "                \"color\": \"rgba(0, 0, 0, 1.000)\",\n",
       "                \"width\": 0\n",
       "            },\n",
       "            \"size\": 2\n",
       "        },\n",
       "        \"zmax\": 6.339465910901892e200,\n",
       "        \"y\": [\n",
       "            16\n",
       "        ],\n",
       "        \"type\": \"scatter\"\n",
       "    },\n",
       "    {\n",
       "        \"xaxis\": \"x\",\n",
       "        \"colorbar\": {\n",
       "            \"title\": \"\"\n",
       "        },\n",
       "        \"yaxis\": \"y\",\n",
       "        \"x\": [\n",
       "            6\n",
       "        ],\n",
       "        \"showlegend\": false,\n",
       "        \"mode\": \"markers\",\n",
       "        \"name\": \"\",\n",
       "        \"zmin\": -1076.3999999999996,\n",
       "        \"legendgroup\": \"\",\n",
       "        \"marker\": {\n",
       "            \"symbol\": \"circle\",\n",
       "            \"color\": \"rgba(0, 0, 0, 0.000)\",\n",
       "            \"line\": {\n",
       "                \"color\": \"rgba(0, 0, 0, 1.000)\",\n",
       "                \"width\": 0\n",
       "            },\n",
       "            \"size\": 2\n",
       "        },\n",
       "        \"zmax\": 6.339465910901892e200,\n",
       "        \"y\": [\n",
       "            17\n",
       "        ],\n",
       "        \"type\": \"scatter\"\n",
       "    },\n",
       "    {\n",
       "        \"xaxis\": \"x\",\n",
       "        \"colorbar\": {\n",
       "            \"title\": \"\"\n",
       "        },\n",
       "        \"yaxis\": \"y\",\n",
       "        \"x\": [\n",
       "            6\n",
       "        ],\n",
       "        \"showlegend\": false,\n",
       "        \"mode\": \"markers\",\n",
       "        \"name\": \"\",\n",
       "        \"zmin\": -1076.3999999999996,\n",
       "        \"legendgroup\": \"\",\n",
       "        \"marker\": {\n",
       "            \"symbol\": \"circle\",\n",
       "            \"color\": \"rgba(0, 0, 0, 0.000)\",\n",
       "            \"line\": {\n",
       "                \"color\": \"rgba(0, 0, 0, 1.000)\",\n",
       "                \"width\": 0\n",
       "            },\n",
       "            \"size\": 2\n",
       "        },\n",
       "        \"zmax\": 6.339465910901892e200,\n",
       "        \"y\": [\n",
       "            18\n",
       "        ],\n",
       "        \"type\": \"scatter\"\n",
       "    },\n",
       "    {\n",
       "        \"xaxis\": \"x\",\n",
       "        \"colorbar\": {\n",
       "            \"title\": \"\"\n",
       "        },\n",
       "        \"yaxis\": \"y\",\n",
       "        \"x\": [\n",
       "            6\n",
       "        ],\n",
       "        \"showlegend\": false,\n",
       "        \"mode\": \"markers\",\n",
       "        \"name\": \"\",\n",
       "        \"zmin\": -1076.3999999999996,\n",
       "        \"legendgroup\": \"\",\n",
       "        \"marker\": {\n",
       "            \"symbol\": \"circle\",\n",
       "            \"color\": \"rgba(0, 0, 0, 0.000)\",\n",
       "            \"line\": {\n",
       "                \"color\": \"rgba(0, 0, 0, 1.000)\",\n",
       "                \"width\": 0\n",
       "            },\n",
       "            \"size\": 2\n",
       "        },\n",
       "        \"zmax\": 6.339465910901892e200,\n",
       "        \"y\": [\n",
       "            19\n",
       "        ],\n",
       "        \"type\": \"scatter\"\n",
       "    },\n",
       "    {\n",
       "        \"xaxis\": \"x\",\n",
       "        \"colorbar\": {\n",
       "            \"title\": \"\"\n",
       "        },\n",
       "        \"yaxis\": \"y\",\n",
       "        \"x\": [\n",
       "            6\n",
       "        ],\n",
       "        \"showlegend\": false,\n",
       "        \"mode\": \"markers\",\n",
       "        \"name\": \"\",\n",
       "        \"zmin\": -1076.3999999999996,\n",
       "        \"legendgroup\": \"\",\n",
       "        \"marker\": {\n",
       "            \"symbol\": \"circle\",\n",
       "            \"color\": \"rgba(0, 0, 0, 0.000)\",\n",
       "            \"line\": {\n",
       "                \"color\": \"rgba(0, 0, 0, 1.000)\",\n",
       "                \"width\": 0\n",
       "            },\n",
       "            \"size\": 2\n",
       "        },\n",
       "        \"zmax\": 6.339465910901892e200,\n",
       "        \"y\": [\n",
       "            20\n",
       "        ],\n",
       "        \"type\": \"scatter\"\n",
       "    },\n",
       "    {\n",
       "        \"xaxis\": \"x\",\n",
       "        \"colorbar\": {\n",
       "            \"title\": \"\"\n",
       "        },\n",
       "        \"yaxis\": \"y\",\n",
       "        \"x\": [\n",
       "            6\n",
       "        ],\n",
       "        \"showlegend\": false,\n",
       "        \"mode\": \"markers\",\n",
       "        \"name\": \"\",\n",
       "        \"zmin\": -1076.3999999999996,\n",
       "        \"legendgroup\": \"\",\n",
       "        \"marker\": {\n",
       "            \"symbol\": \"circle\",\n",
       "            \"color\": \"rgba(0, 0, 0, 0.000)\",\n",
       "            \"line\": {\n",
       "                \"color\": \"rgba(0, 0, 0, 1.000)\",\n",
       "                \"width\": 0\n",
       "            },\n",
       "            \"size\": 2\n",
       "        },\n",
       "        \"zmax\": 6.339465910901892e200,\n",
       "        \"y\": [\n",
       "            21\n",
       "        ],\n",
       "        \"type\": \"scatter\"\n",
       "    },\n",
       "    {\n",
       "        \"xaxis\": \"x\",\n",
       "        \"colorbar\": {\n",
       "            \"title\": \"\"\n",
       "        },\n",
       "        \"yaxis\": \"y\",\n",
       "        \"x\": [\n",
       "            6\n",
       "        ],\n",
       "        \"showlegend\": false,\n",
       "        \"mode\": \"markers\",\n",
       "        \"name\": \"\",\n",
       "        \"zmin\": -1076.3999999999996,\n",
       "        \"legendgroup\": \"\",\n",
       "        \"marker\": {\n",
       "            \"symbol\": \"circle\",\n",
       "            \"color\": \"rgba(0, 0, 0, 0.000)\",\n",
       "            \"line\": {\n",
       "                \"color\": \"rgba(0, 0, 0, 1.000)\",\n",
       "                \"width\": 0\n",
       "            },\n",
       "            \"size\": 2\n",
       "        },\n",
       "        \"zmax\": 6.339465910901892e200,\n",
       "        \"y\": [\n",
       "            22\n",
       "        ],\n",
       "        \"type\": \"scatter\"\n",
       "    },\n",
       "    {\n",
       "        \"xaxis\": \"x\",\n",
       "        \"colorbar\": {\n",
       "            \"title\": \"\"\n",
       "        },\n",
       "        \"yaxis\": \"y\",\n",
       "        \"x\": [\n",
       "            6\n",
       "        ],\n",
       "        \"showlegend\": false,\n",
       "        \"mode\": \"markers\",\n",
       "        \"name\": \"\",\n",
       "        \"zmin\": -1076.3999999999996,\n",
       "        \"legendgroup\": \"\",\n",
       "        \"marker\": {\n",
       "            \"symbol\": \"circle\",\n",
       "            \"color\": \"rgba(0, 0, 0, 0.000)\",\n",
       "            \"line\": {\n",
       "                \"color\": \"rgba(0, 0, 0, 1.000)\",\n",
       "                \"width\": 0\n",
       "            },\n",
       "            \"size\": 2\n",
       "        },\n",
       "        \"zmax\": 6.339465910901892e200,\n",
       "        \"y\": [\n",
       "            23\n",
       "        ],\n",
       "        \"type\": \"scatter\"\n",
       "    },\n",
       "    {\n",
       "        \"xaxis\": \"x\",\n",
       "        \"colorbar\": {\n",
       "            \"title\": \"\"\n",
       "        },\n",
       "        \"yaxis\": \"y\",\n",
       "        \"x\": [\n",
       "            6\n",
       "        ],\n",
       "        \"showlegend\": false,\n",
       "        \"mode\": \"markers\",\n",
       "        \"name\": \"\",\n",
       "        \"zmin\": -1076.3999999999996,\n",
       "        \"legendgroup\": \"\",\n",
       "        \"marker\": {\n",
       "            \"symbol\": \"circle\",\n",
       "            \"color\": \"rgba(0, 0, 0, 0.000)\",\n",
       "            \"line\": {\n",
       "                \"color\": \"rgba(0, 0, 0, 1.000)\",\n",
       "                \"width\": 0\n",
       "            },\n",
       "            \"size\": 2\n",
       "        },\n",
       "        \"zmax\": 6.339465910901892e200,\n",
       "        \"y\": [\n",
       "            24\n",
       "        ],\n",
       "        \"type\": \"scatter\"\n",
       "    },\n",
       "    {\n",
       "        \"xaxis\": \"x\",\n",
       "        \"colorbar\": {\n",
       "            \"title\": \"\"\n",
       "        },\n",
       "        \"yaxis\": \"y\",\n",
       "        \"x\": [\n",
       "            6\n",
       "        ],\n",
       "        \"showlegend\": false,\n",
       "        \"mode\": \"markers\",\n",
       "        \"name\": \"\",\n",
       "        \"zmin\": -1076.3999999999996,\n",
       "        \"legendgroup\": \"\",\n",
       "        \"marker\": {\n",
       "            \"symbol\": \"circle\",\n",
       "            \"color\": \"rgba(0, 0, 0, 0.000)\",\n",
       "            \"line\": {\n",
       "                \"color\": \"rgba(0, 0, 0, 1.000)\",\n",
       "                \"width\": 0\n",
       "            },\n",
       "            \"size\": 2\n",
       "        },\n",
       "        \"zmax\": 6.339465910901892e200,\n",
       "        \"y\": [\n",
       "            25\n",
       "        ],\n",
       "        \"type\": \"scatter\"\n",
       "    },\n",
       "    {\n",
       "        \"xaxis\": \"x\",\n",
       "        \"colorbar\": {\n",
       "            \"title\": \"\"\n",
       "        },\n",
       "        \"yaxis\": \"y\",\n",
       "        \"x\": [\n",
       "            6\n",
       "        ],\n",
       "        \"showlegend\": false,\n",
       "        \"mode\": \"markers\",\n",
       "        \"name\": \"\",\n",
       "        \"zmin\": -1076.3999999999996,\n",
       "        \"legendgroup\": \"\",\n",
       "        \"marker\": {\n",
       "            \"symbol\": \"circle\",\n",
       "            \"color\": \"rgba(0, 0, 0, 0.000)\",\n",
       "            \"line\": {\n",
       "                \"color\": \"rgba(0, 0, 0, 1.000)\",\n",
       "                \"width\": 0\n",
       "            },\n",
       "            \"size\": 2\n",
       "        },\n",
       "        \"zmax\": 6.339465910901892e200,\n",
       "        \"y\": [\n",
       "            26\n",
       "        ],\n",
       "        \"type\": \"scatter\"\n",
       "    },\n",
       "    {\n",
       "        \"xaxis\": \"x\",\n",
       "        \"colorbar\": {\n",
       "            \"title\": \"\"\n",
       "        },\n",
       "        \"yaxis\": \"y\",\n",
       "        \"x\": [\n",
       "            7\n",
       "        ],\n",
       "        \"showlegend\": false,\n",
       "        \"mode\": \"markers\",\n",
       "        \"name\": \"\",\n",
       "        \"zmin\": -1076.3999999999996,\n",
       "        \"legendgroup\": \"\",\n",
       "        \"marker\": {\n",
       "            \"symbol\": \"circle\",\n",
       "            \"color\": \"rgba(0, 0, 4, 1.000)\",\n",
       "            \"line\": {\n",
       "                \"color\": \"rgba(0, 0, 0, 1.000)\",\n",
       "                \"width\": 0\n",
       "            },\n",
       "            \"size\": 2\n",
       "        },\n",
       "        \"zmax\": 6.339465910901892e200,\n",
       "        \"y\": [\n",
       "            1\n",
       "        ],\n",
       "        \"type\": \"scatter\"\n",
       "    },\n",
       "    {\n",
       "        \"xaxis\": \"x\",\n",
       "        \"colorbar\": {\n",
       "            \"title\": \"\"\n",
       "        },\n",
       "        \"yaxis\": \"y\",\n",
       "        \"x\": [\n",
       "            7\n",
       "        ],\n",
       "        \"showlegend\": false,\n",
       "        \"mode\": \"markers\",\n",
       "        \"name\": \"\",\n",
       "        \"zmin\": -1076.3999999999996,\n",
       "        \"legendgroup\": \"\",\n",
       "        \"marker\": {\n",
       "            \"symbol\": \"circle\",\n",
       "            \"color\": \"rgba(0, 0, 4, 1.000)\",\n",
       "            \"line\": {\n",
       "                \"color\": \"rgba(0, 0, 0, 1.000)\",\n",
       "                \"width\": 0\n",
       "            },\n",
       "            \"size\": 2\n",
       "        },\n",
       "        \"zmax\": 6.339465910901892e200,\n",
       "        \"y\": [\n",
       "            2\n",
       "        ],\n",
       "        \"type\": \"scatter\"\n",
       "    },\n",
       "    {\n",
       "        \"xaxis\": \"x\",\n",
       "        \"colorbar\": {\n",
       "            \"title\": \"\"\n",
       "        },\n",
       "        \"yaxis\": \"y\",\n",
       "        \"x\": [\n",
       "            7\n",
       "        ],\n",
       "        \"showlegend\": false,\n",
       "        \"mode\": \"markers\",\n",
       "        \"name\": \"\",\n",
       "        \"zmin\": -1076.3999999999996,\n",
       "        \"legendgroup\": \"\",\n",
       "        \"marker\": {\n",
       "            \"symbol\": \"circle\",\n",
       "            \"color\": \"rgba(0, 0, 4, 1.000)\",\n",
       "            \"line\": {\n",
       "                \"color\": \"rgba(0, 0, 0, 1.000)\",\n",
       "                \"width\": 0\n",
       "            },\n",
       "            \"size\": 2\n",
       "        },\n",
       "        \"zmax\": 6.339465910901892e200,\n",
       "        \"y\": [\n",
       "            3\n",
       "        ],\n",
       "        \"type\": \"scatter\"\n",
       "    },\n",
       "    {\n",
       "        \"xaxis\": \"x\",\n",
       "        \"colorbar\": {\n",
       "            \"title\": \"\"\n",
       "        },\n",
       "        \"yaxis\": \"y\",\n",
       "        \"x\": [\n",
       "            7\n",
       "        ],\n",
       "        \"showlegend\": false,\n",
       "        \"mode\": \"markers\",\n",
       "        \"name\": \"\",\n",
       "        \"zmin\": -1076.3999999999996,\n",
       "        \"legendgroup\": \"\",\n",
       "        \"marker\": {\n",
       "            \"symbol\": \"circle\",\n",
       "            \"color\": \"rgba(0, 0, 4, 1.000)\",\n",
       "            \"line\": {\n",
       "                \"color\": \"rgba(0, 0, 0, 1.000)\",\n",
       "                \"width\": 0\n",
       "            },\n",
       "            \"size\": 2\n",
       "        },\n",
       "        \"zmax\": 6.339465910901892e200,\n",
       "        \"y\": [\n",
       "            4\n",
       "        ],\n",
       "        \"type\": \"scatter\"\n",
       "    },\n",
       "    {\n",
       "        \"xaxis\": \"x\",\n",
       "        \"colorbar\": {\n",
       "            \"title\": \"\"\n",
       "        },\n",
       "        \"yaxis\": \"y\",\n",
       "        \"x\": [\n",
       "            7\n",
       "        ],\n",
       "        \"showlegend\": false,\n",
       "        \"mode\": \"markers\",\n",
       "        \"name\": \"\",\n",
       "        \"zmin\": -1076.3999999999996,\n",
       "        \"legendgroup\": \"\",\n",
       "        \"marker\": {\n",
       "            \"symbol\": \"circle\",\n",
       "            \"color\": \"rgba(0, 0, 4, 1.000)\",\n",
       "            \"line\": {\n",
       "                \"color\": \"rgba(0, 0, 0, 1.000)\",\n",
       "                \"width\": 0\n",
       "            },\n",
       "            \"size\": 2\n",
       "        },\n",
       "        \"zmax\": 6.339465910901892e200,\n",
       "        \"y\": [\n",
       "            5\n",
       "        ],\n",
       "        \"type\": \"scatter\"\n",
       "    },\n",
       "    {\n",
       "        \"xaxis\": \"x\",\n",
       "        \"colorbar\": {\n",
       "            \"title\": \"\"\n",
       "        },\n",
       "        \"yaxis\": \"y\",\n",
       "        \"x\": [\n",
       "            7\n",
       "        ],\n",
       "        \"showlegend\": false,\n",
       "        \"mode\": \"markers\",\n",
       "        \"name\": \"\",\n",
       "        \"zmin\": -1076.3999999999996,\n",
       "        \"legendgroup\": \"\",\n",
       "        \"marker\": {\n",
       "            \"symbol\": \"circle\",\n",
       "            \"color\": \"rgba(0, 0, 4, 1.000)\",\n",
       "            \"line\": {\n",
       "                \"color\": \"rgba(0, 0, 0, 1.000)\",\n",
       "                \"width\": 0\n",
       "            },\n",
       "            \"size\": 2\n",
       "        },\n",
       "        \"zmax\": 6.339465910901892e200,\n",
       "        \"y\": [\n",
       "            6\n",
       "        ],\n",
       "        \"type\": \"scatter\"\n",
       "    },\n",
       "    {\n",
       "        \"xaxis\": \"x\",\n",
       "        \"colorbar\": {\n",
       "            \"title\": \"\"\n",
       "        },\n",
       "        \"yaxis\": \"y\",\n",
       "        \"x\": [\n",
       "            7\n",
       "        ],\n",
       "        \"showlegend\": false,\n",
       "        \"mode\": \"markers\",\n",
       "        \"name\": \"\",\n",
       "        \"zmin\": -1076.3999999999996,\n",
       "        \"legendgroup\": \"\",\n",
       "        \"marker\": {\n",
       "            \"symbol\": \"circle\",\n",
       "            \"color\": \"rgba(0, 0, 4, 1.000)\",\n",
       "            \"line\": {\n",
       "                \"color\": \"rgba(0, 0, 0, 1.000)\",\n",
       "                \"width\": 0\n",
       "            },\n",
       "            \"size\": 2\n",
       "        },\n",
       "        \"zmax\": 6.339465910901892e200,\n",
       "        \"y\": [\n",
       "            7\n",
       "        ],\n",
       "        \"type\": \"scatter\"\n",
       "    },\n",
       "    {\n",
       "        \"xaxis\": \"x\",\n",
       "        \"colorbar\": {\n",
       "            \"title\": \"\"\n",
       "        },\n",
       "        \"yaxis\": \"y\",\n",
       "        \"x\": [\n",
       "            7\n",
       "        ],\n",
       "        \"showlegend\": false,\n",
       "        \"mode\": \"markers\",\n",
       "        \"name\": \"\",\n",
       "        \"zmin\": -1076.3999999999996,\n",
       "        \"legendgroup\": \"\",\n",
       "        \"marker\": {\n",
       "            \"symbol\": \"circle\",\n",
       "            \"color\": \"rgba(0, 0, 0, 0.000)\",\n",
       "            \"line\": {\n",
       "                \"color\": \"rgba(0, 0, 0, 1.000)\",\n",
       "                \"width\": 0\n",
       "            },\n",
       "            \"size\": 2\n",
       "        },\n",
       "        \"zmax\": 6.339465910901892e200,\n",
       "        \"y\": [\n",
       "            8\n",
       "        ],\n",
       "        \"type\": \"scatter\"\n",
       "    },\n",
       "    {\n",
       "        \"xaxis\": \"x\",\n",
       "        \"colorbar\": {\n",
       "            \"title\": \"\"\n",
       "        },\n",
       "        \"yaxis\": \"y\",\n",
       "        \"x\": [\n",
       "            7\n",
       "        ],\n",
       "        \"showlegend\": false,\n",
       "        \"mode\": \"markers\",\n",
       "        \"name\": \"\",\n",
       "        \"zmin\": -1076.3999999999996,\n",
       "        \"legendgroup\": \"\",\n",
       "        \"marker\": {\n",
       "            \"symbol\": \"circle\",\n",
       "            \"color\": \"rgba(0, 0, 0, 0.000)\",\n",
       "            \"line\": {\n",
       "                \"color\": \"rgba(0, 0, 0, 1.000)\",\n",
       "                \"width\": 0\n",
       "            },\n",
       "            \"size\": 2\n",
       "        },\n",
       "        \"zmax\": 6.339465910901892e200,\n",
       "        \"y\": [\n",
       "            9\n",
       "        ],\n",
       "        \"type\": \"scatter\"\n",
       "    },\n",
       "    {\n",
       "        \"xaxis\": \"x\",\n",
       "        \"colorbar\": {\n",
       "            \"title\": \"\"\n",
       "        },\n",
       "        \"yaxis\": \"y\",\n",
       "        \"x\": [\n",
       "            7\n",
       "        ],\n",
       "        \"showlegend\": false,\n",
       "        \"mode\": \"markers\",\n",
       "        \"name\": \"\",\n",
       "        \"zmin\": -1076.3999999999996,\n",
       "        \"legendgroup\": \"\",\n",
       "        \"marker\": {\n",
       "            \"symbol\": \"circle\",\n",
       "            \"color\": \"rgba(0, 0, 0, 0.000)\",\n",
       "            \"line\": {\n",
       "                \"color\": \"rgba(0, 0, 0, 1.000)\",\n",
       "                \"width\": 0\n",
       "            },\n",
       "            \"size\": 2\n",
       "        },\n",
       "        \"zmax\": 6.339465910901892e200,\n",
       "        \"y\": [\n",
       "            10\n",
       "        ],\n",
       "        \"type\": \"scatter\"\n",
       "    },\n",
       "    {\n",
       "        \"xaxis\": \"x\",\n",
       "        \"colorbar\": {\n",
       "            \"title\": \"\"\n",
       "        },\n",
       "        \"yaxis\": \"y\",\n",
       "        \"x\": [\n",
       "            7\n",
       "        ],\n",
       "        \"showlegend\": false,\n",
       "        \"mode\": \"markers\",\n",
       "        \"name\": \"\",\n",
       "        \"zmin\": -1076.3999999999996,\n",
       "        \"legendgroup\": \"\",\n",
       "        \"marker\": {\n",
       "            \"symbol\": \"circle\",\n",
       "            \"color\": \"rgba(0, 0, 0, 0.000)\",\n",
       "            \"line\": {\n",
       "                \"color\": \"rgba(0, 0, 0, 1.000)\",\n",
       "                \"width\": 0\n",
       "            },\n",
       "            \"size\": 2\n",
       "        },\n",
       "        \"zmax\": 6.339465910901892e200,\n",
       "        \"y\": [\n",
       "            11\n",
       "        ],\n",
       "        \"type\": \"scatter\"\n",
       "    },\n",
       "    {\n",
       "        \"xaxis\": \"x\",\n",
       "        \"colorbar\": {\n",
       "            \"title\": \"\"\n",
       "        },\n",
       "        \"yaxis\": \"y\",\n",
       "        \"x\": [\n",
       "            7\n",
       "        ],\n",
       "        \"showlegend\": false,\n",
       "        \"mode\": \"markers\",\n",
       "        \"name\": \"\",\n",
       "        \"zmin\": -1076.3999999999996,\n",
       "        \"legendgroup\": \"\",\n",
       "        \"marker\": {\n",
       "            \"symbol\": \"circle\",\n",
       "            \"color\": \"rgba(0, 0, 0, 0.000)\",\n",
       "            \"line\": {\n",
       "                \"color\": \"rgba(0, 0, 0, 1.000)\",\n",
       "                \"width\": 0\n",
       "            },\n",
       "            \"size\": 2\n",
       "        },\n",
       "        \"zmax\": 6.339465910901892e200,\n",
       "        \"y\": [\n",
       "            12\n",
       "        ],\n",
       "        \"type\": \"scatter\"\n",
       "    },\n",
       "    {\n",
       "        \"xaxis\": \"x\",\n",
       "        \"colorbar\": {\n",
       "            \"title\": \"\"\n",
       "        },\n",
       "        \"yaxis\": \"y\",\n",
       "        \"x\": [\n",
       "            7\n",
       "        ],\n",
       "        \"showlegend\": false,\n",
       "        \"mode\": \"markers\",\n",
       "        \"name\": \"\",\n",
       "        \"zmin\": -1076.3999999999996,\n",
       "        \"legendgroup\": \"\",\n",
       "        \"marker\": {\n",
       "            \"symbol\": \"circle\",\n",
       "            \"color\": \"rgba(0, 0, 0, 0.000)\",\n",
       "            \"line\": {\n",
       "                \"color\": \"rgba(0, 0, 0, 1.000)\",\n",
       "                \"width\": 0\n",
       "            },\n",
       "            \"size\": 2\n",
       "        },\n",
       "        \"zmax\": 6.339465910901892e200,\n",
       "        \"y\": [\n",
       "            13\n",
       "        ],\n",
       "        \"type\": \"scatter\"\n",
       "    },\n",
       "    {\n",
       "        \"xaxis\": \"x\",\n",
       "        \"colorbar\": {\n",
       "            \"title\": \"\"\n",
       "        },\n",
       "        \"yaxis\": \"y\",\n",
       "        \"x\": [\n",
       "            7\n",
       "        ],\n",
       "        \"showlegend\": false,\n",
       "        \"mode\": \"markers\",\n",
       "        \"name\": \"\",\n",
       "        \"zmin\": -1076.3999999999996,\n",
       "        \"legendgroup\": \"\",\n",
       "        \"marker\": {\n",
       "            \"symbol\": \"circle\",\n",
       "            \"color\": \"rgba(0, 0, 0, 0.000)\",\n",
       "            \"line\": {\n",
       "                \"color\": \"rgba(0, 0, 0, 1.000)\",\n",
       "                \"width\": 0\n",
       "            },\n",
       "            \"size\": 2\n",
       "        },\n",
       "        \"zmax\": 6.339465910901892e200,\n",
       "        \"y\": [\n",
       "            14\n",
       "        ],\n",
       "        \"type\": \"scatter\"\n",
       "    },\n",
       "    {\n",
       "        \"xaxis\": \"x\",\n",
       "        \"colorbar\": {\n",
       "            \"title\": \"\"\n",
       "        },\n",
       "        \"yaxis\": \"y\",\n",
       "        \"x\": [\n",
       "            7\n",
       "        ],\n",
       "        \"showlegend\": false,\n",
       "        \"mode\": \"markers\",\n",
       "        \"name\": \"\",\n",
       "        \"zmin\": -1076.3999999999996,\n",
       "        \"legendgroup\": \"\",\n",
       "        \"marker\": {\n",
       "            \"symbol\": \"circle\",\n",
       "            \"color\": \"rgba(0, 0, 0, 0.000)\",\n",
       "            \"line\": {\n",
       "                \"color\": \"rgba(0, 0, 0, 1.000)\",\n",
       "                \"width\": 0\n",
       "            },\n",
       "            \"size\": 2\n",
       "        },\n",
       "        \"zmax\": 6.339465910901892e200,\n",
       "        \"y\": [\n",
       "            15\n",
       "        ],\n",
       "        \"type\": \"scatter\"\n",
       "    },\n",
       "    {\n",
       "        \"xaxis\": \"x\",\n",
       "        \"colorbar\": {\n",
       "            \"title\": \"\"\n",
       "        },\n",
       "        \"yaxis\": \"y\",\n",
       "        \"x\": [\n",
       "            7\n",
       "        ],\n",
       "        \"showlegend\": false,\n",
       "        \"mode\": \"markers\",\n",
       "        \"name\": \"\",\n",
       "        \"zmin\": -1076.3999999999996,\n",
       "        \"legendgroup\": \"\",\n",
       "        \"marker\": {\n",
       "            \"symbol\": \"circle\",\n",
       "            \"color\": \"rgba(0, 0, 0, 0.000)\",\n",
       "            \"line\": {\n",
       "                \"color\": \"rgba(0, 0, 0, 1.000)\",\n",
       "                \"width\": 0\n",
       "            },\n",
       "            \"size\": 2\n",
       "        },\n",
       "        \"zmax\": 6.339465910901892e200,\n",
       "        \"y\": [\n",
       "            16\n",
       "        ],\n",
       "        \"type\": \"scatter\"\n",
       "    },\n",
       "    {\n",
       "        \"xaxis\": \"x\",\n",
       "        \"colorbar\": {\n",
       "            \"title\": \"\"\n",
       "        },\n",
       "        \"yaxis\": \"y\",\n",
       "        \"x\": [\n",
       "            7\n",
       "        ],\n",
       "        \"showlegend\": false,\n",
       "        \"mode\": \"markers\",\n",
       "        \"name\": \"\",\n",
       "        \"zmin\": -1076.3999999999996,\n",
       "        \"legendgroup\": \"\",\n",
       "        \"marker\": {\n",
       "            \"symbol\": \"circle\",\n",
       "            \"color\": \"rgba(0, 0, 0, 0.000)\",\n",
       "            \"line\": {\n",
       "                \"color\": \"rgba(0, 0, 0, 1.000)\",\n",
       "                \"width\": 0\n",
       "            },\n",
       "            \"size\": 2\n",
       "        },\n",
       "        \"zmax\": 6.339465910901892e200,\n",
       "        \"y\": [\n",
       "            17\n",
       "        ],\n",
       "        \"type\": \"scatter\"\n",
       "    },\n",
       "    {\n",
       "        \"xaxis\": \"x\",\n",
       "        \"colorbar\": {\n",
       "            \"title\": \"\"\n",
       "        },\n",
       "        \"yaxis\": \"y\",\n",
       "        \"x\": [\n",
       "            7\n",
       "        ],\n",
       "        \"showlegend\": false,\n",
       "        \"mode\": \"markers\",\n",
       "        \"name\": \"\",\n",
       "        \"zmin\": -1076.3999999999996,\n",
       "        \"legendgroup\": \"\",\n",
       "        \"marker\": {\n",
       "            \"symbol\": \"circle\",\n",
       "            \"color\": \"rgba(0, 0, 0, 0.000)\",\n",
       "            \"line\": {\n",
       "                \"color\": \"rgba(0, 0, 0, 1.000)\",\n",
       "                \"width\": 0\n",
       "            },\n",
       "            \"size\": 2\n",
       "        },\n",
       "        \"zmax\": 6.339465910901892e200,\n",
       "        \"y\": [\n",
       "            18\n",
       "        ],\n",
       "        \"type\": \"scatter\"\n",
       "    },\n",
       "    {\n",
       "        \"xaxis\": \"x\",\n",
       "        \"colorbar\": {\n",
       "            \"title\": \"\"\n",
       "        },\n",
       "        \"yaxis\": \"y\",\n",
       "        \"x\": [\n",
       "            7\n",
       "        ],\n",
       "        \"showlegend\": false,\n",
       "        \"mode\": \"markers\",\n",
       "        \"name\": \"\",\n",
       "        \"zmin\": -1076.3999999999996,\n",
       "        \"legendgroup\": \"\",\n",
       "        \"marker\": {\n",
       "            \"symbol\": \"circle\",\n",
       "            \"color\": \"rgba(0, 0, 0, 0.000)\",\n",
       "            \"line\": {\n",
       "                \"color\": \"rgba(0, 0, 0, 1.000)\",\n",
       "                \"width\": 0\n",
       "            },\n",
       "            \"size\": 2\n",
       "        },\n",
       "        \"zmax\": 6.339465910901892e200,\n",
       "        \"y\": [\n",
       "            19\n",
       "        ],\n",
       "        \"type\": \"scatter\"\n",
       "    },\n",
       "    {\n",
       "        \"xaxis\": \"x\",\n",
       "        \"colorbar\": {\n",
       "            \"title\": \"\"\n",
       "        },\n",
       "        \"yaxis\": \"y\",\n",
       "        \"x\": [\n",
       "            7\n",
       "        ],\n",
       "        \"showlegend\": false,\n",
       "        \"mode\": \"markers\",\n",
       "        \"name\": \"\",\n",
       "        \"zmin\": -1076.3999999999996,\n",
       "        \"legendgroup\": \"\",\n",
       "        \"marker\": {\n",
       "            \"symbol\": \"circle\",\n",
       "            \"color\": \"rgba(0, 0, 0, 0.000)\",\n",
       "            \"line\": {\n",
       "                \"color\": \"rgba(0, 0, 0, 1.000)\",\n",
       "                \"width\": 0\n",
       "            },\n",
       "            \"size\": 2\n",
       "        },\n",
       "        \"zmax\": 6.339465910901892e200,\n",
       "        \"y\": [\n",
       "            20\n",
       "        ],\n",
       "        \"type\": \"scatter\"\n",
       "    },\n",
       "    {\n",
       "        \"xaxis\": \"x\",\n",
       "        \"colorbar\": {\n",
       "            \"title\": \"\"\n",
       "        },\n",
       "        \"yaxis\": \"y\",\n",
       "        \"x\": [\n",
       "            7\n",
       "        ],\n",
       "        \"showlegend\": false,\n",
       "        \"mode\": \"markers\",\n",
       "        \"name\": \"\",\n",
       "        \"zmin\": -1076.3999999999996,\n",
       "        \"legendgroup\": \"\",\n",
       "        \"marker\": {\n",
       "            \"symbol\": \"circle\",\n",
       "            \"color\": \"rgba(0, 0, 0, 0.000)\",\n",
       "            \"line\": {\n",
       "                \"color\": \"rgba(0, 0, 0, 1.000)\",\n",
       "                \"width\": 0\n",
       "            },\n",
       "            \"size\": 2\n",
       "        },\n",
       "        \"zmax\": 6.339465910901892e200,\n",
       "        \"y\": [\n",
       "            21\n",
       "        ],\n",
       "        \"type\": \"scatter\"\n",
       "    },\n",
       "    {\n",
       "        \"xaxis\": \"x\",\n",
       "        \"colorbar\": {\n",
       "            \"title\": \"\"\n",
       "        },\n",
       "        \"yaxis\": \"y\",\n",
       "        \"x\": [\n",
       "            7\n",
       "        ],\n",
       "        \"showlegend\": false,\n",
       "        \"mode\": \"markers\",\n",
       "        \"name\": \"\",\n",
       "        \"zmin\": -1076.3999999999996,\n",
       "        \"legendgroup\": \"\",\n",
       "        \"marker\": {\n",
       "            \"symbol\": \"circle\",\n",
       "            \"color\": \"rgba(0, 0, 0, 0.000)\",\n",
       "            \"line\": {\n",
       "                \"color\": \"rgba(0, 0, 0, 1.000)\",\n",
       "                \"width\": 0\n",
       "            },\n",
       "            \"size\": 2\n",
       "        },\n",
       "        \"zmax\": 6.339465910901892e200,\n",
       "        \"y\": [\n",
       "            22\n",
       "        ],\n",
       "        \"type\": \"scatter\"\n",
       "    },\n",
       "    {\n",
       "        \"xaxis\": \"x\",\n",
       "        \"colorbar\": {\n",
       "            \"title\": \"\"\n",
       "        },\n",
       "        \"yaxis\": \"y\",\n",
       "        \"x\": [\n",
       "            7\n",
       "        ],\n",
       "        \"showlegend\": false,\n",
       "        \"mode\": \"markers\",\n",
       "        \"name\": \"\",\n",
       "        \"zmin\": -1076.3999999999996,\n",
       "        \"legendgroup\": \"\",\n",
       "        \"marker\": {\n",
       "            \"symbol\": \"circle\",\n",
       "            \"color\": \"rgba(0, 0, 0, 0.000)\",\n",
       "            \"line\": {\n",
       "                \"color\": \"rgba(0, 0, 0, 1.000)\",\n",
       "                \"width\": 0\n",
       "            },\n",
       "            \"size\": 2\n",
       "        },\n",
       "        \"zmax\": 6.339465910901892e200,\n",
       "        \"y\": [\n",
       "            23\n",
       "        ],\n",
       "        \"type\": \"scatter\"\n",
       "    },\n",
       "    {\n",
       "        \"xaxis\": \"x\",\n",
       "        \"colorbar\": {\n",
       "            \"title\": \"\"\n",
       "        },\n",
       "        \"yaxis\": \"y\",\n",
       "        \"x\": [\n",
       "            7\n",
       "        ],\n",
       "        \"showlegend\": false,\n",
       "        \"mode\": \"markers\",\n",
       "        \"name\": \"\",\n",
       "        \"zmin\": -1076.3999999999996,\n",
       "        \"legendgroup\": \"\",\n",
       "        \"marker\": {\n",
       "            \"symbol\": \"circle\",\n",
       "            \"color\": \"rgba(0, 0, 0, 0.000)\",\n",
       "            \"line\": {\n",
       "                \"color\": \"rgba(0, 0, 0, 1.000)\",\n",
       "                \"width\": 0\n",
       "            },\n",
       "            \"size\": 2\n",
       "        },\n",
       "        \"zmax\": 6.339465910901892e200,\n",
       "        \"y\": [\n",
       "            24\n",
       "        ],\n",
       "        \"type\": \"scatter\"\n",
       "    },\n",
       "    {\n",
       "        \"xaxis\": \"x\",\n",
       "        \"colorbar\": {\n",
       "            \"title\": \"\"\n",
       "        },\n",
       "        \"yaxis\": \"y\",\n",
       "        \"x\": [\n",
       "            7\n",
       "        ],\n",
       "        \"showlegend\": false,\n",
       "        \"mode\": \"markers\",\n",
       "        \"name\": \"\",\n",
       "        \"zmin\": -1076.3999999999996,\n",
       "        \"legendgroup\": \"\",\n",
       "        \"marker\": {\n",
       "            \"symbol\": \"circle\",\n",
       "            \"color\": \"rgba(0, 0, 0, 0.000)\",\n",
       "            \"line\": {\n",
       "                \"color\": \"rgba(0, 0, 0, 1.000)\",\n",
       "                \"width\": 0\n",
       "            },\n",
       "            \"size\": 2\n",
       "        },\n",
       "        \"zmax\": 6.339465910901892e200,\n",
       "        \"y\": [\n",
       "            25\n",
       "        ],\n",
       "        \"type\": \"scatter\"\n",
       "    },\n",
       "    {\n",
       "        \"xaxis\": \"x\",\n",
       "        \"colorbar\": {\n",
       "            \"title\": \"\"\n",
       "        },\n",
       "        \"yaxis\": \"y\",\n",
       "        \"x\": [\n",
       "            7\n",
       "        ],\n",
       "        \"showlegend\": false,\n",
       "        \"mode\": \"markers\",\n",
       "        \"name\": \"\",\n",
       "        \"zmin\": -1076.3999999999996,\n",
       "        \"legendgroup\": \"\",\n",
       "        \"marker\": {\n",
       "            \"symbol\": \"circle\",\n",
       "            \"color\": \"rgba(0, 0, 0, 0.000)\",\n",
       "            \"line\": {\n",
       "                \"color\": \"rgba(0, 0, 0, 1.000)\",\n",
       "                \"width\": 0\n",
       "            },\n",
       "            \"size\": 2\n",
       "        },\n",
       "        \"zmax\": 6.339465910901892e200,\n",
       "        \"y\": [\n",
       "            26\n",
       "        ],\n",
       "        \"type\": \"scatter\"\n",
       "    },\n",
       "    {\n",
       "        \"xaxis\": \"x\",\n",
       "        \"colorbar\": {\n",
       "            \"title\": \"\"\n",
       "        },\n",
       "        \"yaxis\": \"y\",\n",
       "        \"x\": [\n",
       "            8\n",
       "        ],\n",
       "        \"showlegend\": false,\n",
       "        \"mode\": \"markers\",\n",
       "        \"name\": \"\",\n",
       "        \"zmin\": -1076.3999999999996,\n",
       "        \"legendgroup\": \"\",\n",
       "        \"marker\": {\n",
       "            \"symbol\": \"circle\",\n",
       "            \"color\": \"rgba(0, 0, 4, 1.000)\",\n",
       "            \"line\": {\n",
       "                \"color\": \"rgba(0, 0, 0, 1.000)\",\n",
       "                \"width\": 0\n",
       "            },\n",
       "            \"size\": 2\n",
       "        },\n",
       "        \"zmax\": 6.339465910901892e200,\n",
       "        \"y\": [\n",
       "            1\n",
       "        ],\n",
       "        \"type\": \"scatter\"\n",
       "    },\n",
       "    {\n",
       "        \"xaxis\": \"x\",\n",
       "        \"colorbar\": {\n",
       "            \"title\": \"\"\n",
       "        },\n",
       "        \"yaxis\": \"y\",\n",
       "        \"x\": [\n",
       "            8\n",
       "        ],\n",
       "        \"showlegend\": false,\n",
       "        \"mode\": \"markers\",\n",
       "        \"name\": \"\",\n",
       "        \"zmin\": -1076.3999999999996,\n",
       "        \"legendgroup\": \"\",\n",
       "        \"marker\": {\n",
       "            \"symbol\": \"circle\",\n",
       "            \"color\": \"rgba(0, 0, 4, 1.000)\",\n",
       "            \"line\": {\n",
       "                \"color\": \"rgba(0, 0, 0, 1.000)\",\n",
       "                \"width\": 0\n",
       "            },\n",
       "            \"size\": 2\n",
       "        },\n",
       "        \"zmax\": 6.339465910901892e200,\n",
       "        \"y\": [\n",
       "            2\n",
       "        ],\n",
       "        \"type\": \"scatter\"\n",
       "    },\n",
       "    {\n",
       "        \"xaxis\": \"x\",\n",
       "        \"colorbar\": {\n",
       "            \"title\": \"\"\n",
       "        },\n",
       "        \"yaxis\": \"y\",\n",
       "        \"x\": [\n",
       "            8\n",
       "        ],\n",
       "        \"showlegend\": false,\n",
       "        \"mode\": \"markers\",\n",
       "        \"name\": \"\",\n",
       "        \"zmin\": -1076.3999999999996,\n",
       "        \"legendgroup\": \"\",\n",
       "        \"marker\": {\n",
       "            \"symbol\": \"circle\",\n",
       "            \"color\": \"rgba(0, 0, 4, 1.000)\",\n",
       "            \"line\": {\n",
       "                \"color\": \"rgba(0, 0, 0, 1.000)\",\n",
       "                \"width\": 0\n",
       "            },\n",
       "            \"size\": 2\n",
       "        },\n",
       "        \"zmax\": 6.339465910901892e200,\n",
       "        \"y\": [\n",
       "            3\n",
       "        ],\n",
       "        \"type\": \"scatter\"\n",
       "    },\n",
       "    {\n",
       "        \"xaxis\": \"x\",\n",
       "        \"colorbar\": {\n",
       "            \"title\": \"\"\n",
       "        },\n",
       "        \"yaxis\": \"y\",\n",
       "        \"x\": [\n",
       "            8\n",
       "        ],\n",
       "        \"showlegend\": false,\n",
       "        \"mode\": \"markers\",\n",
       "        \"name\": \"\",\n",
       "        \"zmin\": -1076.3999999999996,\n",
       "        \"legendgroup\": \"\",\n",
       "        \"marker\": {\n",
       "            \"symbol\": \"circle\",\n",
       "            \"color\": \"rgba(0, 0, 4, 1.000)\",\n",
       "            \"line\": {\n",
       "                \"color\": \"rgba(0, 0, 0, 1.000)\",\n",
       "                \"width\": 0\n",
       "            },\n",
       "            \"size\": 2\n",
       "        },\n",
       "        \"zmax\": 6.339465910901892e200,\n",
       "        \"y\": [\n",
       "            4\n",
       "        ],\n",
       "        \"type\": \"scatter\"\n",
       "    },\n",
       "    {\n",
       "        \"xaxis\": \"x\",\n",
       "        \"colorbar\": {\n",
       "            \"title\": \"\"\n",
       "        },\n",
       "        \"yaxis\": \"y\",\n",
       "        \"x\": [\n",
       "            8\n",
       "        ],\n",
       "        \"showlegend\": false,\n",
       "        \"mode\": \"markers\",\n",
       "        \"name\": \"\",\n",
       "        \"zmin\": -1076.3999999999996,\n",
       "        \"legendgroup\": \"\",\n",
       "        \"marker\": {\n",
       "            \"symbol\": \"circle\",\n",
       "            \"color\": \"rgba(0, 0, 4, 1.000)\",\n",
       "            \"line\": {\n",
       "                \"color\": \"rgba(0, 0, 0, 1.000)\",\n",
       "                \"width\": 0\n",
       "            },\n",
       "            \"size\": 2\n",
       "        },\n",
       "        \"zmax\": 6.339465910901892e200,\n",
       "        \"y\": [\n",
       "            5\n",
       "        ],\n",
       "        \"type\": \"scatter\"\n",
       "    },\n",
       "    {\n",
       "        \"xaxis\": \"x\",\n",
       "        \"colorbar\": {\n",
       "            \"title\": \"\"\n",
       "        },\n",
       "        \"yaxis\": \"y\",\n",
       "        \"x\": [\n",
       "            8\n",
       "        ],\n",
       "        \"showlegend\": false,\n",
       "        \"mode\": \"markers\",\n",
       "        \"name\": \"\",\n",
       "        \"zmin\": -1076.3999999999996,\n",
       "        \"legendgroup\": \"\",\n",
       "        \"marker\": {\n",
       "            \"symbol\": \"circle\",\n",
       "            \"color\": \"rgba(0, 0, 4, 1.000)\",\n",
       "            \"line\": {\n",
       "                \"color\": \"rgba(0, 0, 0, 1.000)\",\n",
       "                \"width\": 0\n",
       "            },\n",
       "            \"size\": 2\n",
       "        },\n",
       "        \"zmax\": 6.339465910901892e200,\n",
       "        \"y\": [\n",
       "            6\n",
       "        ],\n",
       "        \"type\": \"scatter\"\n",
       "    },\n",
       "    {\n",
       "        \"xaxis\": \"x\",\n",
       "        \"colorbar\": {\n",
       "            \"title\": \"\"\n",
       "        },\n",
       "        \"yaxis\": \"y\",\n",
       "        \"x\": [\n",
       "            8\n",
       "        ],\n",
       "        \"showlegend\": false,\n",
       "        \"mode\": \"markers\",\n",
       "        \"name\": \"\",\n",
       "        \"zmin\": -1076.3999999999996,\n",
       "        \"legendgroup\": \"\",\n",
       "        \"marker\": {\n",
       "            \"symbol\": \"circle\",\n",
       "            \"color\": \"rgba(0, 0, 4, 1.000)\",\n",
       "            \"line\": {\n",
       "                \"color\": \"rgba(0, 0, 0, 1.000)\",\n",
       "                \"width\": 0\n",
       "            },\n",
       "            \"size\": 2\n",
       "        },\n",
       "        \"zmax\": 6.339465910901892e200,\n",
       "        \"y\": [\n",
       "            7\n",
       "        ],\n",
       "        \"type\": \"scatter\"\n",
       "    },\n",
       "    {\n",
       "        \"xaxis\": \"x\",\n",
       "        \"colorbar\": {\n",
       "            \"title\": \"\"\n",
       "        },\n",
       "        \"yaxis\": \"y\",\n",
       "        \"x\": [\n",
       "            8\n",
       "        ],\n",
       "        \"showlegend\": false,\n",
       "        \"mode\": \"markers\",\n",
       "        \"name\": \"\",\n",
       "        \"zmin\": -1076.3999999999996,\n",
       "        \"legendgroup\": \"\",\n",
       "        \"marker\": {\n",
       "            \"symbol\": \"circle\",\n",
       "            \"color\": \"rgba(0, 0, 0, 0.000)\",\n",
       "            \"line\": {\n",
       "                \"color\": \"rgba(0, 0, 0, 1.000)\",\n",
       "                \"width\": 0\n",
       "            },\n",
       "            \"size\": 2\n",
       "        },\n",
       "        \"zmax\": 6.339465910901892e200,\n",
       "        \"y\": [\n",
       "            8\n",
       "        ],\n",
       "        \"type\": \"scatter\"\n",
       "    },\n",
       "    {\n",
       "        \"xaxis\": \"x\",\n",
       "        \"colorbar\": {\n",
       "            \"title\": \"\"\n",
       "        },\n",
       "        \"yaxis\": \"y\",\n",
       "        \"x\": [\n",
       "            8\n",
       "        ],\n",
       "        \"showlegend\": false,\n",
       "        \"mode\": \"markers\",\n",
       "        \"name\": \"\",\n",
       "        \"zmin\": -1076.3999999999996,\n",
       "        \"legendgroup\": \"\",\n",
       "        \"marker\": {\n",
       "            \"symbol\": \"circle\",\n",
       "            \"color\": \"rgba(0, 0, 0, 0.000)\",\n",
       "            \"line\": {\n",
       "                \"color\": \"rgba(0, 0, 0, 1.000)\",\n",
       "                \"width\": 0\n",
       "            },\n",
       "            \"size\": 2\n",
       "        },\n",
       "        \"zmax\": 6.339465910901892e200,\n",
       "        \"y\": [\n",
       "            9\n",
       "        ],\n",
       "        \"type\": \"scatter\"\n",
       "    },\n",
       "    {\n",
       "        \"xaxis\": \"x\",\n",
       "        \"colorbar\": {\n",
       "            \"title\": \"\"\n",
       "        },\n",
       "        \"yaxis\": \"y\",\n",
       "        \"x\": [\n",
       "            8\n",
       "        ],\n",
       "        \"showlegend\": false,\n",
       "        \"mode\": \"markers\",\n",
       "        \"name\": \"\",\n",
       "        \"zmin\": -1076.3999999999996,\n",
       "        \"legendgroup\": \"\",\n",
       "        \"marker\": {\n",
       "            \"symbol\": \"circle\",\n",
       "            \"color\": \"rgba(0, 0, 0, 0.000)\",\n",
       "            \"line\": {\n",
       "                \"color\": \"rgba(0, 0, 0, 1.000)\",\n",
       "                \"width\": 0\n",
       "            },\n",
       "            \"size\": 2\n",
       "        },\n",
       "        \"zmax\": 6.339465910901892e200,\n",
       "        \"y\": [\n",
       "            10\n",
       "        ],\n",
       "        \"type\": \"scatter\"\n",
       "    },\n",
       "    {\n",
       "        \"xaxis\": \"x\",\n",
       "        \"colorbar\": {\n",
       "            \"title\": \"\"\n",
       "        },\n",
       "        \"yaxis\": \"y\",\n",
       "        \"x\": [\n",
       "            8\n",
       "        ],\n",
       "        \"showlegend\": false,\n",
       "        \"mode\": \"markers\",\n",
       "        \"name\": \"\",\n",
       "        \"zmin\": -1076.3999999999996,\n",
       "        \"legendgroup\": \"\",\n",
       "        \"marker\": {\n",
       "            \"symbol\": \"circle\",\n",
       "            \"color\": \"rgba(0, 0, 0, 0.000)\",\n",
       "            \"line\": {\n",
       "                \"color\": \"rgba(0, 0, 0, 1.000)\",\n",
       "                \"width\": 0\n",
       "            },\n",
       "            \"size\": 2\n",
       "        },\n",
       "        \"zmax\": 6.339465910901892e200,\n",
       "        \"y\": [\n",
       "            11\n",
       "        ],\n",
       "        \"type\": \"scatter\"\n",
       "    },\n",
       "    {\n",
       "        \"xaxis\": \"x\",\n",
       "        \"colorbar\": {\n",
       "            \"title\": \"\"\n",
       "        },\n",
       "        \"yaxis\": \"y\",\n",
       "        \"x\": [\n",
       "            8\n",
       "        ],\n",
       "        \"showlegend\": false,\n",
       "        \"mode\": \"markers\",\n",
       "        \"name\": \"\",\n",
       "        \"zmin\": -1076.3999999999996,\n",
       "        \"legendgroup\": \"\",\n",
       "        \"marker\": {\n",
       "            \"symbol\": \"circle\",\n",
       "            \"color\": \"rgba(0, 0, 0, 0.000)\",\n",
       "            \"line\": {\n",
       "                \"color\": \"rgba(0, 0, 0, 1.000)\",\n",
       "                \"width\": 0\n",
       "            },\n",
       "            \"size\": 2\n",
       "        },\n",
       "        \"zmax\": 6.339465910901892e200,\n",
       "        \"y\": [\n",
       "            12\n",
       "        ],\n",
       "        \"type\": \"scatter\"\n",
       "    },\n",
       "    {\n",
       "        \"xaxis\": \"x\",\n",
       "        \"colorbar\": {\n",
       "            \"title\": \"\"\n",
       "        },\n",
       "        \"yaxis\": \"y\",\n",
       "        \"x\": [\n",
       "            8\n",
       "        ],\n",
       "        \"showlegend\": false,\n",
       "        \"mode\": \"markers\",\n",
       "        \"name\": \"\",\n",
       "        \"zmin\": -1076.3999999999996,\n",
       "        \"legendgroup\": \"\",\n",
       "        \"marker\": {\n",
       "            \"symbol\": \"circle\",\n",
       "            \"color\": \"rgba(0, 0, 0, 0.000)\",\n",
       "            \"line\": {\n",
       "                \"color\": \"rgba(0, 0, 0, 1.000)\",\n",
       "                \"width\": 0\n",
       "            },\n",
       "            \"size\": 2\n",
       "        },\n",
       "        \"zmax\": 6.339465910901892e200,\n",
       "        \"y\": [\n",
       "            13\n",
       "        ],\n",
       "        \"type\": \"scatter\"\n",
       "    },\n",
       "    {\n",
       "        \"xaxis\": \"x\",\n",
       "        \"colorbar\": {\n",
       "            \"title\": \"\"\n",
       "        },\n",
       "        \"yaxis\": \"y\",\n",
       "        \"x\": [\n",
       "            8\n",
       "        ],\n",
       "        \"showlegend\": false,\n",
       "        \"mode\": \"markers\",\n",
       "        \"name\": \"\",\n",
       "        \"zmin\": -1076.3999999999996,\n",
       "        \"legendgroup\": \"\",\n",
       "        \"marker\": {\n",
       "            \"symbol\": \"circle\",\n",
       "            \"color\": \"rgba(0, 0, 0, 0.000)\",\n",
       "            \"line\": {\n",
       "                \"color\": \"rgba(0, 0, 0, 1.000)\",\n",
       "                \"width\": 0\n",
       "            },\n",
       "            \"size\": 2\n",
       "        },\n",
       "        \"zmax\": 6.339465910901892e200,\n",
       "        \"y\": [\n",
       "            14\n",
       "        ],\n",
       "        \"type\": \"scatter\"\n",
       "    },\n",
       "    {\n",
       "        \"xaxis\": \"x\",\n",
       "        \"colorbar\": {\n",
       "            \"title\": \"\"\n",
       "        },\n",
       "        \"yaxis\": \"y\",\n",
       "        \"x\": [\n",
       "            8\n",
       "        ],\n",
       "        \"showlegend\": false,\n",
       "        \"mode\": \"markers\",\n",
       "        \"name\": \"\",\n",
       "        \"zmin\": -1076.3999999999996,\n",
       "        \"legendgroup\": \"\",\n",
       "        \"marker\": {\n",
       "            \"symbol\": \"circle\",\n",
       "            \"color\": \"rgba(0, 0, 0, 0.000)\",\n",
       "            \"line\": {\n",
       "                \"color\": \"rgba(0, 0, 0, 1.000)\",\n",
       "                \"width\": 0\n",
       "            },\n",
       "            \"size\": 2\n",
       "        },\n",
       "        \"zmax\": 6.339465910901892e200,\n",
       "        \"y\": [\n",
       "            15\n",
       "        ],\n",
       "        \"type\": \"scatter\"\n",
       "    },\n",
       "    {\n",
       "        \"xaxis\": \"x\",\n",
       "        \"colorbar\": {\n",
       "            \"title\": \"\"\n",
       "        },\n",
       "        \"yaxis\": \"y\",\n",
       "        \"x\": [\n",
       "            8\n",
       "        ],\n",
       "        \"showlegend\": false,\n",
       "        \"mode\": \"markers\",\n",
       "        \"name\": \"\",\n",
       "        \"zmin\": -1076.3999999999996,\n",
       "        \"legendgroup\": \"\",\n",
       "        \"marker\": {\n",
       "            \"symbol\": \"circle\",\n",
       "            \"color\": \"rgba(0, 0, 0, 0.000)\",\n",
       "            \"line\": {\n",
       "                \"color\": \"rgba(0, 0, 0, 1.000)\",\n",
       "                \"width\": 0\n",
       "            },\n",
       "            \"size\": 2\n",
       "        },\n",
       "        \"zmax\": 6.339465910901892e200,\n",
       "        \"y\": [\n",
       "            16\n",
       "        ],\n",
       "        \"type\": \"scatter\"\n",
       "    },\n",
       "    {\n",
       "        \"xaxis\": \"x\",\n",
       "        \"colorbar\": {\n",
       "            \"title\": \"\"\n",
       "        },\n",
       "        \"yaxis\": \"y\",\n",
       "        \"x\": [\n",
       "            8\n",
       "        ],\n",
       "        \"showlegend\": false,\n",
       "        \"mode\": \"markers\",\n",
       "        \"name\": \"\",\n",
       "        \"zmin\": -1076.3999999999996,\n",
       "        \"legendgroup\": \"\",\n",
       "        \"marker\": {\n",
       "            \"symbol\": \"circle\",\n",
       "            \"color\": \"rgba(0, 0, 0, 0.000)\",\n",
       "            \"line\": {\n",
       "                \"color\": \"rgba(0, 0, 0, 1.000)\",\n",
       "                \"width\": 0\n",
       "            },\n",
       "            \"size\": 2\n",
       "        },\n",
       "        \"zmax\": 6.339465910901892e200,\n",
       "        \"y\": [\n",
       "            17\n",
       "        ],\n",
       "        \"type\": \"scatter\"\n",
       "    },\n",
       "    {\n",
       "        \"xaxis\": \"x\",\n",
       "        \"colorbar\": {\n",
       "            \"title\": \"\"\n",
       "        },\n",
       "        \"yaxis\": \"y\",\n",
       "        \"x\": [\n",
       "            8\n",
       "        ],\n",
       "        \"showlegend\": false,\n",
       "        \"mode\": \"markers\",\n",
       "        \"name\": \"\",\n",
       "        \"zmin\": -1076.3999999999996,\n",
       "        \"legendgroup\": \"\",\n",
       "        \"marker\": {\n",
       "            \"symbol\": \"circle\",\n",
       "            \"color\": \"rgba(0, 0, 0, 0.000)\",\n",
       "            \"line\": {\n",
       "                \"color\": \"rgba(0, 0, 0, 1.000)\",\n",
       "                \"width\": 0\n",
       "            },\n",
       "            \"size\": 2\n",
       "        },\n",
       "        \"zmax\": 6.339465910901892e200,\n",
       "        \"y\": [\n",
       "            18\n",
       "        ],\n",
       "        \"type\": \"scatter\"\n",
       "    },\n",
       "    {\n",
       "        \"xaxis\": \"x\",\n",
       "        \"colorbar\": {\n",
       "            \"title\": \"\"\n",
       "        },\n",
       "        \"yaxis\": \"y\",\n",
       "        \"x\": [\n",
       "            8\n",
       "        ],\n",
       "        \"showlegend\": false,\n",
       "        \"mode\": \"markers\",\n",
       "        \"name\": \"\",\n",
       "        \"zmin\": -1076.3999999999996,\n",
       "        \"legendgroup\": \"\",\n",
       "        \"marker\": {\n",
       "            \"symbol\": \"circle\",\n",
       "            \"color\": \"rgba(0, 0, 0, 0.000)\",\n",
       "            \"line\": {\n",
       "                \"color\": \"rgba(0, 0, 0, 1.000)\",\n",
       "                \"width\": 0\n",
       "            },\n",
       "            \"size\": 2\n",
       "        },\n",
       "        \"zmax\": 6.339465910901892e200,\n",
       "        \"y\": [\n",
       "            19\n",
       "        ],\n",
       "        \"type\": \"scatter\"\n",
       "    },\n",
       "    {\n",
       "        \"xaxis\": \"x\",\n",
       "        \"colorbar\": {\n",
       "            \"title\": \"\"\n",
       "        },\n",
       "        \"yaxis\": \"y\",\n",
       "        \"x\": [\n",
       "            8\n",
       "        ],\n",
       "        \"showlegend\": false,\n",
       "        \"mode\": \"markers\",\n",
       "        \"name\": \"\",\n",
       "        \"zmin\": -1076.3999999999996,\n",
       "        \"legendgroup\": \"\",\n",
       "        \"marker\": {\n",
       "            \"symbol\": \"circle\",\n",
       "            \"color\": \"rgba(0, 0, 0, 0.000)\",\n",
       "            \"line\": {\n",
       "                \"color\": \"rgba(0, 0, 0, 1.000)\",\n",
       "                \"width\": 0\n",
       "            },\n",
       "            \"size\": 2\n",
       "        },\n",
       "        \"zmax\": 6.339465910901892e200,\n",
       "        \"y\": [\n",
       "            20\n",
       "        ],\n",
       "        \"type\": \"scatter\"\n",
       "    },\n",
       "    {\n",
       "        \"xaxis\": \"x\",\n",
       "        \"colorbar\": {\n",
       "            \"title\": \"\"\n",
       "        },\n",
       "        \"yaxis\": \"y\",\n",
       "        \"x\": [\n",
       "            8\n",
       "        ],\n",
       "        \"showlegend\": false,\n",
       "        \"mode\": \"markers\",\n",
       "        \"name\": \"\",\n",
       "        \"zmin\": -1076.3999999999996,\n",
       "        \"legendgroup\": \"\",\n",
       "        \"marker\": {\n",
       "            \"symbol\": \"circle\",\n",
       "            \"color\": \"rgba(0, 0, 0, 0.000)\",\n",
       "            \"line\": {\n",
       "                \"color\": \"rgba(0, 0, 0, 1.000)\",\n",
       "                \"width\": 0\n",
       "            },\n",
       "            \"size\": 2\n",
       "        },\n",
       "        \"zmax\": 6.339465910901892e200,\n",
       "        \"y\": [\n",
       "            21\n",
       "        ],\n",
       "        \"type\": \"scatter\"\n",
       "    },\n",
       "    {\n",
       "        \"xaxis\": \"x\",\n",
       "        \"colorbar\": {\n",
       "            \"title\": \"\"\n",
       "        },\n",
       "        \"yaxis\": \"y\",\n",
       "        \"x\": [\n",
       "            8\n",
       "        ],\n",
       "        \"showlegend\": false,\n",
       "        \"mode\": \"markers\",\n",
       "        \"name\": \"\",\n",
       "        \"zmin\": -1076.3999999999996,\n",
       "        \"legendgroup\": \"\",\n",
       "        \"marker\": {\n",
       "            \"symbol\": \"circle\",\n",
       "            \"color\": \"rgba(0, 0, 0, 0.000)\",\n",
       "            \"line\": {\n",
       "                \"color\": \"rgba(0, 0, 0, 1.000)\",\n",
       "                \"width\": 0\n",
       "            },\n",
       "            \"size\": 2\n",
       "        },\n",
       "        \"zmax\": 6.339465910901892e200,\n",
       "        \"y\": [\n",
       "            22\n",
       "        ],\n",
       "        \"type\": \"scatter\"\n",
       "    },\n",
       "    {\n",
       "        \"xaxis\": \"x\",\n",
       "        \"colorbar\": {\n",
       "            \"title\": \"\"\n",
       "        },\n",
       "        \"yaxis\": \"y\",\n",
       "        \"x\": [\n",
       "            8\n",
       "        ],\n",
       "        \"showlegend\": false,\n",
       "        \"mode\": \"markers\",\n",
       "        \"name\": \"\",\n",
       "        \"zmin\": -1076.3999999999996,\n",
       "        \"legendgroup\": \"\",\n",
       "        \"marker\": {\n",
       "            \"symbol\": \"circle\",\n",
       "            \"color\": \"rgba(0, 0, 0, 0.000)\",\n",
       "            \"line\": {\n",
       "                \"color\": \"rgba(0, 0, 0, 1.000)\",\n",
       "                \"width\": 0\n",
       "            },\n",
       "            \"size\": 2\n",
       "        },\n",
       "        \"zmax\": 6.339465910901892e200,\n",
       "        \"y\": [\n",
       "            23\n",
       "        ],\n",
       "        \"type\": \"scatter\"\n",
       "    },\n",
       "    {\n",
       "        \"xaxis\": \"x\",\n",
       "        \"colorbar\": {\n",
       "            \"title\": \"\"\n",
       "        },\n",
       "        \"yaxis\": \"y\",\n",
       "        \"x\": [\n",
       "            8\n",
       "        ],\n",
       "        \"showlegend\": false,\n",
       "        \"mode\": \"markers\",\n",
       "        \"name\": \"\",\n",
       "        \"zmin\": -1076.3999999999996,\n",
       "        \"legendgroup\": \"\",\n",
       "        \"marker\": {\n",
       "            \"symbol\": \"circle\",\n",
       "            \"color\": \"rgba(0, 0, 0, 0.000)\",\n",
       "            \"line\": {\n",
       "                \"color\": \"rgba(0, 0, 0, 1.000)\",\n",
       "                \"width\": 0\n",
       "            },\n",
       "            \"size\": 2\n",
       "        },\n",
       "        \"zmax\": 6.339465910901892e200,\n",
       "        \"y\": [\n",
       "            24\n",
       "        ],\n",
       "        \"type\": \"scatter\"\n",
       "    },\n",
       "    {\n",
       "        \"xaxis\": \"x\",\n",
       "        \"colorbar\": {\n",
       "            \"title\": \"\"\n",
       "        },\n",
       "        \"yaxis\": \"y\",\n",
       "        \"x\": [\n",
       "            8\n",
       "        ],\n",
       "        \"showlegend\": false,\n",
       "        \"mode\": \"markers\",\n",
       "        \"name\": \"\",\n",
       "        \"zmin\": -1076.3999999999996,\n",
       "        \"legendgroup\": \"\",\n",
       "        \"marker\": {\n",
       "            \"symbol\": \"circle\",\n",
       "            \"color\": \"rgba(0, 0, 0, 0.000)\",\n",
       "            \"line\": {\n",
       "                \"color\": \"rgba(0, 0, 0, 1.000)\",\n",
       "                \"width\": 0\n",
       "            },\n",
       "            \"size\": 2\n",
       "        },\n",
       "        \"zmax\": 6.339465910901892e200,\n",
       "        \"y\": [\n",
       "            25\n",
       "        ],\n",
       "        \"type\": \"scatter\"\n",
       "    },\n",
       "    {\n",
       "        \"xaxis\": \"x\",\n",
       "        \"colorbar\": {\n",
       "            \"title\": \"\"\n",
       "        },\n",
       "        \"yaxis\": \"y\",\n",
       "        \"x\": [\n",
       "            8\n",
       "        ],\n",
       "        \"showlegend\": false,\n",
       "        \"mode\": \"markers\",\n",
       "        \"name\": \"\",\n",
       "        \"zmin\": -1076.3999999999996,\n",
       "        \"legendgroup\": \"\",\n",
       "        \"marker\": {\n",
       "            \"symbol\": \"circle\",\n",
       "            \"color\": \"rgba(0, 0, 0, 0.000)\",\n",
       "            \"line\": {\n",
       "                \"color\": \"rgba(0, 0, 0, 1.000)\",\n",
       "                \"width\": 0\n",
       "            },\n",
       "            \"size\": 2\n",
       "        },\n",
       "        \"zmax\": 6.339465910901892e200,\n",
       "        \"y\": [\n",
       "            26\n",
       "        ],\n",
       "        \"type\": \"scatter\"\n",
       "    },\n",
       "    {\n",
       "        \"xaxis\": \"x\",\n",
       "        \"colorbar\": {\n",
       "            \"title\": \"\"\n",
       "        },\n",
       "        \"yaxis\": \"y\",\n",
       "        \"x\": [\n",
       "            9\n",
       "        ],\n",
       "        \"showlegend\": false,\n",
       "        \"mode\": \"markers\",\n",
       "        \"name\": \"\",\n",
       "        \"zmin\": -1076.3999999999996,\n",
       "        \"legendgroup\": \"\",\n",
       "        \"marker\": {\n",
       "            \"symbol\": \"circle\",\n",
       "            \"color\": \"rgba(0, 0, 4, 1.000)\",\n",
       "            \"line\": {\n",
       "                \"color\": \"rgba(0, 0, 0, 1.000)\",\n",
       "                \"width\": 0\n",
       "            },\n",
       "            \"size\": 2\n",
       "        },\n",
       "        \"zmax\": 6.339465910901892e200,\n",
       "        \"y\": [\n",
       "            1\n",
       "        ],\n",
       "        \"type\": \"scatter\"\n",
       "    },\n",
       "    {\n",
       "        \"xaxis\": \"x\",\n",
       "        \"colorbar\": {\n",
       "            \"title\": \"\"\n",
       "        },\n",
       "        \"yaxis\": \"y\",\n",
       "        \"x\": [\n",
       "            9\n",
       "        ],\n",
       "        \"showlegend\": false,\n",
       "        \"mode\": \"markers\",\n",
       "        \"name\": \"\",\n",
       "        \"zmin\": -1076.3999999999996,\n",
       "        \"legendgroup\": \"\",\n",
       "        \"marker\": {\n",
       "            \"symbol\": \"circle\",\n",
       "            \"color\": \"rgba(0, 0, 4, 1.000)\",\n",
       "            \"line\": {\n",
       "                \"color\": \"rgba(0, 0, 0, 1.000)\",\n",
       "                \"width\": 0\n",
       "            },\n",
       "            \"size\": 2\n",
       "        },\n",
       "        \"zmax\": 6.339465910901892e200,\n",
       "        \"y\": [\n",
       "            2\n",
       "        ],\n",
       "        \"type\": \"scatter\"\n",
       "    },\n",
       "    {\n",
       "        \"xaxis\": \"x\",\n",
       "        \"colorbar\": {\n",
       "            \"title\": \"\"\n",
       "        },\n",
       "        \"yaxis\": \"y\",\n",
       "        \"x\": [\n",
       "            9\n",
       "        ],\n",
       "        \"showlegend\": false,\n",
       "        \"mode\": \"markers\",\n",
       "        \"name\": \"\",\n",
       "        \"zmin\": -1076.3999999999996,\n",
       "        \"legendgroup\": \"\",\n",
       "        \"marker\": {\n",
       "            \"symbol\": \"circle\",\n",
       "            \"color\": \"rgba(0, 0, 4, 1.000)\",\n",
       "            \"line\": {\n",
       "                \"color\": \"rgba(0, 0, 0, 1.000)\",\n",
       "                \"width\": 0\n",
       "            },\n",
       "            \"size\": 2\n",
       "        },\n",
       "        \"zmax\": 6.339465910901892e200,\n",
       "        \"y\": [\n",
       "            3\n",
       "        ],\n",
       "        \"type\": \"scatter\"\n",
       "    },\n",
       "    {\n",
       "        \"xaxis\": \"x\",\n",
       "        \"colorbar\": {\n",
       "            \"title\": \"\"\n",
       "        },\n",
       "        \"yaxis\": \"y\",\n",
       "        \"x\": [\n",
       "            9\n",
       "        ],\n",
       "        \"showlegend\": false,\n",
       "        \"mode\": \"markers\",\n",
       "        \"name\": \"\",\n",
       "        \"zmin\": -1076.3999999999996,\n",
       "        \"legendgroup\": \"\",\n",
       "        \"marker\": {\n",
       "            \"symbol\": \"circle\",\n",
       "            \"color\": \"rgba(0, 0, 4, 1.000)\",\n",
       "            \"line\": {\n",
       "                \"color\": \"rgba(0, 0, 0, 1.000)\",\n",
       "                \"width\": 0\n",
       "            },\n",
       "            \"size\": 2\n",
       "        },\n",
       "        \"zmax\": 6.339465910901892e200,\n",
       "        \"y\": [\n",
       "            4\n",
       "        ],\n",
       "        \"type\": \"scatter\"\n",
       "    },\n",
       "    {\n",
       "        \"xaxis\": \"x\",\n",
       "        \"colorbar\": {\n",
       "            \"title\": \"\"\n",
       "        },\n",
       "        \"yaxis\": \"y\",\n",
       "        \"x\": [\n",
       "            9\n",
       "        ],\n",
       "        \"showlegend\": false,\n",
       "        \"mode\": \"markers\",\n",
       "        \"name\": \"\",\n",
       "        \"zmin\": -1076.3999999999996,\n",
       "        \"legendgroup\": \"\",\n",
       "        \"marker\": {\n",
       "            \"symbol\": \"circle\",\n",
       "            \"color\": \"rgba(0, 0, 4, 1.000)\",\n",
       "            \"line\": {\n",
       "                \"color\": \"rgba(0, 0, 0, 1.000)\",\n",
       "                \"width\": 0\n",
       "            },\n",
       "            \"size\": 2\n",
       "        },\n",
       "        \"zmax\": 6.339465910901892e200,\n",
       "        \"y\": [\n",
       "            5\n",
       "        ],\n",
       "        \"type\": \"scatter\"\n",
       "    },\n",
       "    {\n",
       "        \"xaxis\": \"x\",\n",
       "        \"colorbar\": {\n",
       "            \"title\": \"\"\n",
       "        },\n",
       "        \"yaxis\": \"y\",\n",
       "        \"x\": [\n",
       "            9\n",
       "        ],\n",
       "        \"showlegend\": false,\n",
       "        \"mode\": \"markers\",\n",
       "        \"name\": \"\",\n",
       "        \"zmin\": -1076.3999999999996,\n",
       "        \"legendgroup\": \"\",\n",
       "        \"marker\": {\n",
       "            \"symbol\": \"circle\",\n",
       "            \"color\": \"rgba(0, 0, 4, 1.000)\",\n",
       "            \"line\": {\n",
       "                \"color\": \"rgba(0, 0, 0, 1.000)\",\n",
       "                \"width\": 0\n",
       "            },\n",
       "            \"size\": 2\n",
       "        },\n",
       "        \"zmax\": 6.339465910901892e200,\n",
       "        \"y\": [\n",
       "            6\n",
       "        ],\n",
       "        \"type\": \"scatter\"\n",
       "    },\n",
       "    {\n",
       "        \"xaxis\": \"x\",\n",
       "        \"colorbar\": {\n",
       "            \"title\": \"\"\n",
       "        },\n",
       "        \"yaxis\": \"y\",\n",
       "        \"x\": [\n",
       "            9\n",
       "        ],\n",
       "        \"showlegend\": false,\n",
       "        \"mode\": \"markers\",\n",
       "        \"name\": \"\",\n",
       "        \"zmin\": -1076.3999999999996,\n",
       "        \"legendgroup\": \"\",\n",
       "        \"marker\": {\n",
       "            \"symbol\": \"circle\",\n",
       "            \"color\": \"rgba(0, 0, 4, 1.000)\",\n",
       "            \"line\": {\n",
       "                \"color\": \"rgba(0, 0, 0, 1.000)\",\n",
       "                \"width\": 0\n",
       "            },\n",
       "            \"size\": 2\n",
       "        },\n",
       "        \"zmax\": 6.339465910901892e200,\n",
       "        \"y\": [\n",
       "            7\n",
       "        ],\n",
       "        \"type\": \"scatter\"\n",
       "    },\n",
       "    {\n",
       "        \"xaxis\": \"x\",\n",
       "        \"colorbar\": {\n",
       "            \"title\": \"\"\n",
       "        },\n",
       "        \"yaxis\": \"y\",\n",
       "        \"x\": [\n",
       "            9\n",
       "        ],\n",
       "        \"showlegend\": false,\n",
       "        \"mode\": \"markers\",\n",
       "        \"name\": \"\",\n",
       "        \"zmin\": -1076.3999999999996,\n",
       "        \"legendgroup\": \"\",\n",
       "        \"marker\": {\n",
       "            \"symbol\": \"circle\",\n",
       "            \"color\": \"rgba(0, 0, 0, 0.000)\",\n",
       "            \"line\": {\n",
       "                \"color\": \"rgba(0, 0, 0, 1.000)\",\n",
       "                \"width\": 0\n",
       "            },\n",
       "            \"size\": 2\n",
       "        },\n",
       "        \"zmax\": 6.339465910901892e200,\n",
       "        \"y\": [\n",
       "            8\n",
       "        ],\n",
       "        \"type\": \"scatter\"\n",
       "    },\n",
       "    {\n",
       "        \"xaxis\": \"x\",\n",
       "        \"colorbar\": {\n",
       "            \"title\": \"\"\n",
       "        },\n",
       "        \"yaxis\": \"y\",\n",
       "        \"x\": [\n",
       "            9\n",
       "        ],\n",
       "        \"showlegend\": false,\n",
       "        \"mode\": \"markers\",\n",
       "        \"name\": \"\",\n",
       "        \"zmin\": -1076.3999999999996,\n",
       "        \"legendgroup\": \"\",\n",
       "        \"marker\": {\n",
       "            \"symbol\": \"circle\",\n",
       "            \"color\": \"rgba(0, 0, 0, 0.000)\",\n",
       "            \"line\": {\n",
       "                \"color\": \"rgba(0, 0, 0, 1.000)\",\n",
       "                \"width\": 0\n",
       "            },\n",
       "            \"size\": 2\n",
       "        },\n",
       "        \"zmax\": 6.339465910901892e200,\n",
       "        \"y\": [\n",
       "            9\n",
       "        ],\n",
       "        \"type\": \"scatter\"\n",
       "    },\n",
       "    {\n",
       "        \"xaxis\": \"x\",\n",
       "        \"colorbar\": {\n",
       "            \"title\": \"\"\n",
       "        },\n",
       "        \"yaxis\": \"y\",\n",
       "        \"x\": [\n",
       "            9\n",
       "        ],\n",
       "        \"showlegend\": false,\n",
       "        \"mode\": \"markers\",\n",
       "        \"name\": \"\",\n",
       "        \"zmin\": -1076.3999999999996,\n",
       "        \"legendgroup\": \"\",\n",
       "        \"marker\": {\n",
       "            \"symbol\": \"circle\",\n",
       "            \"color\": \"rgba(0, 0, 0, 0.000)\",\n",
       "            \"line\": {\n",
       "                \"color\": \"rgba(0, 0, 0, 1.000)\",\n",
       "                \"width\": 0\n",
       "            },\n",
       "            \"size\": 2\n",
       "        },\n",
       "        \"zmax\": 6.339465910901892e200,\n",
       "        \"y\": [\n",
       "            10\n",
       "        ],\n",
       "        \"type\": \"scatter\"\n",
       "    },\n",
       "    {\n",
       "        \"xaxis\": \"x\",\n",
       "        \"colorbar\": {\n",
       "            \"title\": \"\"\n",
       "        },\n",
       "        \"yaxis\": \"y\",\n",
       "        \"x\": [\n",
       "            9\n",
       "        ],\n",
       "        \"showlegend\": false,\n",
       "        \"mode\": \"markers\",\n",
       "        \"name\": \"\",\n",
       "        \"zmin\": -1076.3999999999996,\n",
       "        \"legendgroup\": \"\",\n",
       "        \"marker\": {\n",
       "            \"symbol\": \"circle\",\n",
       "            \"color\": \"rgba(0, 0, 0, 0.000)\",\n",
       "            \"line\": {\n",
       "                \"color\": \"rgba(0, 0, 0, 1.000)\",\n",
       "                \"width\": 0\n",
       "            },\n",
       "            \"size\": 2\n",
       "        },\n",
       "        \"zmax\": 6.339465910901892e200,\n",
       "        \"y\": [\n",
       "            11\n",
       "        ],\n",
       "        \"type\": \"scatter\"\n",
       "    },\n",
       "    {\n",
       "        \"xaxis\": \"x\",\n",
       "        \"colorbar\": {\n",
       "            \"title\": \"\"\n",
       "        },\n",
       "        \"yaxis\": \"y\",\n",
       "        \"x\": [\n",
       "            9\n",
       "        ],\n",
       "        \"showlegend\": false,\n",
       "        \"mode\": \"markers\",\n",
       "        \"name\": \"\",\n",
       "        \"zmin\": -1076.3999999999996,\n",
       "        \"legendgroup\": \"\",\n",
       "        \"marker\": {\n",
       "            \"symbol\": \"circle\",\n",
       "            \"color\": \"rgba(0, 0, 0, 0.000)\",\n",
       "            \"line\": {\n",
       "                \"color\": \"rgba(0, 0, 0, 1.000)\",\n",
       "                \"width\": 0\n",
       "            },\n",
       "            \"size\": 2\n",
       "        },\n",
       "        \"zmax\": 6.339465910901892e200,\n",
       "        \"y\": [\n",
       "            12\n",
       "        ],\n",
       "        \"type\": \"scatter\"\n",
       "    },\n",
       "    {\n",
       "        \"xaxis\": \"x\",\n",
       "        \"colorbar\": {\n",
       "            \"title\": \"\"\n",
       "        },\n",
       "        \"yaxis\": \"y\",\n",
       "        \"x\": [\n",
       "            9\n",
       "        ],\n",
       "        \"showlegend\": false,\n",
       "        \"mode\": \"markers\",\n",
       "        \"name\": \"\",\n",
       "        \"zmin\": -1076.3999999999996,\n",
       "        \"legendgroup\": \"\",\n",
       "        \"marker\": {\n",
       "            \"symbol\": \"circle\",\n",
       "            \"color\": \"rgba(0, 0, 0, 0.000)\",\n",
       "            \"line\": {\n",
       "                \"color\": \"rgba(0, 0, 0, 1.000)\",\n",
       "                \"width\": 0\n",
       "            },\n",
       "            \"size\": 2\n",
       "        },\n",
       "        \"zmax\": 6.339465910901892e200,\n",
       "        \"y\": [\n",
       "            13\n",
       "        ],\n",
       "        \"type\": \"scatter\"\n",
       "    },\n",
       "    {\n",
       "        \"xaxis\": \"x\",\n",
       "        \"colorbar\": {\n",
       "            \"title\": \"\"\n",
       "        },\n",
       "        \"yaxis\": \"y\",\n",
       "        \"x\": [\n",
       "            9\n",
       "        ],\n",
       "        \"showlegend\": false,\n",
       "        \"mode\": \"markers\",\n",
       "        \"name\": \"\",\n",
       "        \"zmin\": -1076.3999999999996,\n",
       "        \"legendgroup\": \"\",\n",
       "        \"marker\": {\n",
       "            \"symbol\": \"circle\",\n",
       "            \"color\": \"rgba(0, 0, 0, 0.000)\",\n",
       "            \"line\": {\n",
       "                \"color\": \"rgba(0, 0, 0, 1.000)\",\n",
       "                \"width\": 0\n",
       "            },\n",
       "            \"size\": 2\n",
       "        },\n",
       "        \"zmax\": 6.339465910901892e200,\n",
       "        \"y\": [\n",
       "            14\n",
       "        ],\n",
       "        \"type\": \"scatter\"\n",
       "    },\n",
       "    {\n",
       "        \"xaxis\": \"x\",\n",
       "        \"colorbar\": {\n",
       "            \"title\": \"\"\n",
       "        },\n",
       "        \"yaxis\": \"y\",\n",
       "        \"x\": [\n",
       "            9\n",
       "        ],\n",
       "        \"showlegend\": false,\n",
       "        \"mode\": \"markers\",\n",
       "        \"name\": \"\",\n",
       "        \"zmin\": -1076.3999999999996,\n",
       "        \"legendgroup\": \"\",\n",
       "        \"marker\": {\n",
       "            \"symbol\": \"circle\",\n",
       "            \"color\": \"rgba(0, 0, 0, 0.000)\",\n",
       "            \"line\": {\n",
       "                \"color\": \"rgba(0, 0, 0, 1.000)\",\n",
       "                \"width\": 0\n",
       "            },\n",
       "            \"size\": 2\n",
       "        },\n",
       "        \"zmax\": 6.339465910901892e200,\n",
       "        \"y\": [\n",
       "            15\n",
       "        ],\n",
       "        \"type\": \"scatter\"\n",
       "    },\n",
       "    {\n",
       "        \"xaxis\": \"x\",\n",
       "        \"colorbar\": {\n",
       "            \"title\": \"\"\n",
       "        },\n",
       "        \"yaxis\": \"y\",\n",
       "        \"x\": [\n",
       "            9\n",
       "        ],\n",
       "        \"showlegend\": false,\n",
       "        \"mode\": \"markers\",\n",
       "        \"name\": \"\",\n",
       "        \"zmin\": -1076.3999999999996,\n",
       "        \"legendgroup\": \"\",\n",
       "        \"marker\": {\n",
       "            \"symbol\": \"circle\",\n",
       "            \"color\": \"rgba(0, 0, 0, 0.000)\",\n",
       "            \"line\": {\n",
       "                \"color\": \"rgba(0, 0, 0, 1.000)\",\n",
       "                \"width\": 0\n",
       "            },\n",
       "            \"size\": 2\n",
       "        },\n",
       "        \"zmax\": 6.339465910901892e200,\n",
       "        \"y\": [\n",
       "            16\n",
       "        ],\n",
       "        \"type\": \"scatter\"\n",
       "    },\n",
       "    {\n",
       "        \"xaxis\": \"x\",\n",
       "        \"colorbar\": {\n",
       "            \"title\": \"\"\n",
       "        },\n",
       "        \"yaxis\": \"y\",\n",
       "        \"x\": [\n",
       "            9\n",
       "        ],\n",
       "        \"showlegend\": false,\n",
       "        \"mode\": \"markers\",\n",
       "        \"name\": \"\",\n",
       "        \"zmin\": -1076.3999999999996,\n",
       "        \"legendgroup\": \"\",\n",
       "        \"marker\": {\n",
       "            \"symbol\": \"circle\",\n",
       "            \"color\": \"rgba(0, 0, 0, 0.000)\",\n",
       "            \"line\": {\n",
       "                \"color\": \"rgba(0, 0, 0, 1.000)\",\n",
       "                \"width\": 0\n",
       "            },\n",
       "            \"size\": 2\n",
       "        },\n",
       "        \"zmax\": 6.339465910901892e200,\n",
       "        \"y\": [\n",
       "            17\n",
       "        ],\n",
       "        \"type\": \"scatter\"\n",
       "    },\n",
       "    {\n",
       "        \"xaxis\": \"x\",\n",
       "        \"colorbar\": {\n",
       "            \"title\": \"\"\n",
       "        },\n",
       "        \"yaxis\": \"y\",\n",
       "        \"x\": [\n",
       "            9\n",
       "        ],\n",
       "        \"showlegend\": false,\n",
       "        \"mode\": \"markers\",\n",
       "        \"name\": \"\",\n",
       "        \"zmin\": -1076.3999999999996,\n",
       "        \"legendgroup\": \"\",\n",
       "        \"marker\": {\n",
       "            \"symbol\": \"circle\",\n",
       "            \"color\": \"rgba(0, 0, 0, 0.000)\",\n",
       "            \"line\": {\n",
       "                \"color\": \"rgba(0, 0, 0, 1.000)\",\n",
       "                \"width\": 0\n",
       "            },\n",
       "            \"size\": 2\n",
       "        },\n",
       "        \"zmax\": 6.339465910901892e200,\n",
       "        \"y\": [\n",
       "            18\n",
       "        ],\n",
       "        \"type\": \"scatter\"\n",
       "    },\n",
       "    {\n",
       "        \"xaxis\": \"x\",\n",
       "        \"colorbar\": {\n",
       "            \"title\": \"\"\n",
       "        },\n",
       "        \"yaxis\": \"y\",\n",
       "        \"x\": [\n",
       "            9\n",
       "        ],\n",
       "        \"showlegend\": false,\n",
       "        \"mode\": \"markers\",\n",
       "        \"name\": \"\",\n",
       "        \"zmin\": -1076.3999999999996,\n",
       "        \"legendgroup\": \"\",\n",
       "        \"marker\": {\n",
       "            \"symbol\": \"circle\",\n",
       "            \"color\": \"rgba(0, 0, 0, 0.000)\",\n",
       "            \"line\": {\n",
       "                \"color\": \"rgba(0, 0, 0, 1.000)\",\n",
       "                \"width\": 0\n",
       "            },\n",
       "            \"size\": 2\n",
       "        },\n",
       "        \"zmax\": 6.339465910901892e200,\n",
       "        \"y\": [\n",
       "            19\n",
       "        ],\n",
       "        \"type\": \"scatter\"\n",
       "    },\n",
       "    {\n",
       "        \"xaxis\": \"x\",\n",
       "        \"colorbar\": {\n",
       "            \"title\": \"\"\n",
       "        },\n",
       "        \"yaxis\": \"y\",\n",
       "        \"x\": [\n",
       "            9\n",
       "        ],\n",
       "        \"showlegend\": false,\n",
       "        \"mode\": \"markers\",\n",
       "        \"name\": \"\",\n",
       "        \"zmin\": -1076.3999999999996,\n",
       "        \"legendgroup\": \"\",\n",
       "        \"marker\": {\n",
       "            \"symbol\": \"circle\",\n",
       "            \"color\": \"rgba(0, 0, 0, 0.000)\",\n",
       "            \"line\": {\n",
       "                \"color\": \"rgba(0, 0, 0, 1.000)\",\n",
       "                \"width\": 0\n",
       "            },\n",
       "            \"size\": 2\n",
       "        },\n",
       "        \"zmax\": 6.339465910901892e200,\n",
       "        \"y\": [\n",
       "            20\n",
       "        ],\n",
       "        \"type\": \"scatter\"\n",
       "    },\n",
       "    {\n",
       "        \"xaxis\": \"x\",\n",
       "        \"colorbar\": {\n",
       "            \"title\": \"\"\n",
       "        },\n",
       "        \"yaxis\": \"y\",\n",
       "        \"x\": [\n",
       "            9\n",
       "        ],\n",
       "        \"showlegend\": false,\n",
       "        \"mode\": \"markers\",\n",
       "        \"name\": \"\",\n",
       "        \"zmin\": -1076.3999999999996,\n",
       "        \"legendgroup\": \"\",\n",
       "        \"marker\": {\n",
       "            \"symbol\": \"circle\",\n",
       "            \"color\": \"rgba(0, 0, 0, 0.000)\",\n",
       "            \"line\": {\n",
       "                \"color\": \"rgba(0, 0, 0, 1.000)\",\n",
       "                \"width\": 0\n",
       "            },\n",
       "            \"size\": 2\n",
       "        },\n",
       "        \"zmax\": 6.339465910901892e200,\n",
       "        \"y\": [\n",
       "            21\n",
       "        ],\n",
       "        \"type\": \"scatter\"\n",
       "    },\n",
       "    {\n",
       "        \"xaxis\": \"x\",\n",
       "        \"colorbar\": {\n",
       "            \"title\": \"\"\n",
       "        },\n",
       "        \"yaxis\": \"y\",\n",
       "        \"x\": [\n",
       "            9\n",
       "        ],\n",
       "        \"showlegend\": false,\n",
       "        \"mode\": \"markers\",\n",
       "        \"name\": \"\",\n",
       "        \"zmin\": -1076.3999999999996,\n",
       "        \"legendgroup\": \"\",\n",
       "        \"marker\": {\n",
       "            \"symbol\": \"circle\",\n",
       "            \"color\": \"rgba(0, 0, 0, 0.000)\",\n",
       "            \"line\": {\n",
       "                \"color\": \"rgba(0, 0, 0, 1.000)\",\n",
       "                \"width\": 0\n",
       "            },\n",
       "            \"size\": 2\n",
       "        },\n",
       "        \"zmax\": 6.339465910901892e200,\n",
       "        \"y\": [\n",
       "            22\n",
       "        ],\n",
       "        \"type\": \"scatter\"\n",
       "    },\n",
       "    {\n",
       "        \"xaxis\": \"x\",\n",
       "        \"colorbar\": {\n",
       "            \"title\": \"\"\n",
       "        },\n",
       "        \"yaxis\": \"y\",\n",
       "        \"x\": [\n",
       "            9\n",
       "        ],\n",
       "        \"showlegend\": false,\n",
       "        \"mode\": \"markers\",\n",
       "        \"name\": \"\",\n",
       "        \"zmin\": -1076.3999999999996,\n",
       "        \"legendgroup\": \"\",\n",
       "        \"marker\": {\n",
       "            \"symbol\": \"circle\",\n",
       "            \"color\": \"rgba(0, 0, 0, 0.000)\",\n",
       "            \"line\": {\n",
       "                \"color\": \"rgba(0, 0, 0, 1.000)\",\n",
       "                \"width\": 0\n",
       "            },\n",
       "            \"size\": 2\n",
       "        },\n",
       "        \"zmax\": 6.339465910901892e200,\n",
       "        \"y\": [\n",
       "            23\n",
       "        ],\n",
       "        \"type\": \"scatter\"\n",
       "    },\n",
       "    {\n",
       "        \"xaxis\": \"x\",\n",
       "        \"colorbar\": {\n",
       "            \"title\": \"\"\n",
       "        },\n",
       "        \"yaxis\": \"y\",\n",
       "        \"x\": [\n",
       "            9\n",
       "        ],\n",
       "        \"showlegend\": false,\n",
       "        \"mode\": \"markers\",\n",
       "        \"name\": \"\",\n",
       "        \"zmin\": -1076.3999999999996,\n",
       "        \"legendgroup\": \"\",\n",
       "        \"marker\": {\n",
       "            \"symbol\": \"circle\",\n",
       "            \"color\": \"rgba(0, 0, 0, 0.000)\",\n",
       "            \"line\": {\n",
       "                \"color\": \"rgba(0, 0, 0, 1.000)\",\n",
       "                \"width\": 0\n",
       "            },\n",
       "            \"size\": 2\n",
       "        },\n",
       "        \"zmax\": 6.339465910901892e200,\n",
       "        \"y\": [\n",
       "            24\n",
       "        ],\n",
       "        \"type\": \"scatter\"\n",
       "    },\n",
       "    {\n",
       "        \"xaxis\": \"x\",\n",
       "        \"colorbar\": {\n",
       "            \"title\": \"\"\n",
       "        },\n",
       "        \"yaxis\": \"y\",\n",
       "        \"x\": [\n",
       "            9\n",
       "        ],\n",
       "        \"showlegend\": false,\n",
       "        \"mode\": \"markers\",\n",
       "        \"name\": \"\",\n",
       "        \"zmin\": -1076.3999999999996,\n",
       "        \"legendgroup\": \"\",\n",
       "        \"marker\": {\n",
       "            \"symbol\": \"circle\",\n",
       "            \"color\": \"rgba(0, 0, 0, 0.000)\",\n",
       "            \"line\": {\n",
       "                \"color\": \"rgba(0, 0, 0, 1.000)\",\n",
       "                \"width\": 0\n",
       "            },\n",
       "            \"size\": 2\n",
       "        },\n",
       "        \"zmax\": 6.339465910901892e200,\n",
       "        \"y\": [\n",
       "            25\n",
       "        ],\n",
       "        \"type\": \"scatter\"\n",
       "    },\n",
       "    {\n",
       "        \"xaxis\": \"x\",\n",
       "        \"colorbar\": {\n",
       "            \"title\": \"\"\n",
       "        },\n",
       "        \"yaxis\": \"y\",\n",
       "        \"x\": [\n",
       "            9\n",
       "        ],\n",
       "        \"showlegend\": false,\n",
       "        \"mode\": \"markers\",\n",
       "        \"name\": \"\",\n",
       "        \"zmin\": -1076.3999999999996,\n",
       "        \"legendgroup\": \"\",\n",
       "        \"marker\": {\n",
       "            \"symbol\": \"circle\",\n",
       "            \"color\": \"rgba(0, 0, 0, 0.000)\",\n",
       "            \"line\": {\n",
       "                \"color\": \"rgba(0, 0, 0, 1.000)\",\n",
       "                \"width\": 0\n",
       "            },\n",
       "            \"size\": 2\n",
       "        },\n",
       "        \"zmax\": 6.339465910901892e200,\n",
       "        \"y\": [\n",
       "            26\n",
       "        ],\n",
       "        \"type\": \"scatter\"\n",
       "    },\n",
       "    {\n",
       "        \"xaxis\": \"x\",\n",
       "        \"colorbar\": {\n",
       "            \"title\": \"\"\n",
       "        },\n",
       "        \"yaxis\": \"y\",\n",
       "        \"x\": [\n",
       "            10\n",
       "        ],\n",
       "        \"showlegend\": false,\n",
       "        \"mode\": \"markers\",\n",
       "        \"name\": \"\",\n",
       "        \"zmin\": -1076.3999999999996,\n",
       "        \"legendgroup\": \"\",\n",
       "        \"marker\": {\n",
       "            \"symbol\": \"circle\",\n",
       "            \"color\": \"rgba(0, 0, 4, 1.000)\",\n",
       "            \"line\": {\n",
       "                \"color\": \"rgba(0, 0, 0, 1.000)\",\n",
       "                \"width\": 0\n",
       "            },\n",
       "            \"size\": 2\n",
       "        },\n",
       "        \"zmax\": 6.339465910901892e200,\n",
       "        \"y\": [\n",
       "            1\n",
       "        ],\n",
       "        \"type\": \"scatter\"\n",
       "    },\n",
       "    {\n",
       "        \"xaxis\": \"x\",\n",
       "        \"colorbar\": {\n",
       "            \"title\": \"\"\n",
       "        },\n",
       "        \"yaxis\": \"y\",\n",
       "        \"x\": [\n",
       "            10\n",
       "        ],\n",
       "        \"showlegend\": false,\n",
       "        \"mode\": \"markers\",\n",
       "        \"name\": \"\",\n",
       "        \"zmin\": -1076.3999999999996,\n",
       "        \"legendgroup\": \"\",\n",
       "        \"marker\": {\n",
       "            \"symbol\": \"circle\",\n",
       "            \"color\": \"rgba(0, 0, 4, 1.000)\",\n",
       "            \"line\": {\n",
       "                \"color\": \"rgba(0, 0, 0, 1.000)\",\n",
       "                \"width\": 0\n",
       "            },\n",
       "            \"size\": 2\n",
       "        },\n",
       "        \"zmax\": 6.339465910901892e200,\n",
       "        \"y\": [\n",
       "            2\n",
       "        ],\n",
       "        \"type\": \"scatter\"\n",
       "    },\n",
       "    {\n",
       "        \"xaxis\": \"x\",\n",
       "        \"colorbar\": {\n",
       "            \"title\": \"\"\n",
       "        },\n",
       "        \"yaxis\": \"y\",\n",
       "        \"x\": [\n",
       "            10\n",
       "        ],\n",
       "        \"showlegend\": false,\n",
       "        \"mode\": \"markers\",\n",
       "        \"name\": \"\",\n",
       "        \"zmin\": -1076.3999999999996,\n",
       "        \"legendgroup\": \"\",\n",
       "        \"marker\": {\n",
       "            \"symbol\": \"circle\",\n",
       "            \"color\": \"rgba(0, 0, 4, 1.000)\",\n",
       "            \"line\": {\n",
       "                \"color\": \"rgba(0, 0, 0, 1.000)\",\n",
       "                \"width\": 0\n",
       "            },\n",
       "            \"size\": 2\n",
       "        },\n",
       "        \"zmax\": 6.339465910901892e200,\n",
       "        \"y\": [\n",
       "            3\n",
       "        ],\n",
       "        \"type\": \"scatter\"\n",
       "    },\n",
       "    {\n",
       "        \"xaxis\": \"x\",\n",
       "        \"colorbar\": {\n",
       "            \"title\": \"\"\n",
       "        },\n",
       "        \"yaxis\": \"y\",\n",
       "        \"x\": [\n",
       "            10\n",
       "        ],\n",
       "        \"showlegend\": false,\n",
       "        \"mode\": \"markers\",\n",
       "        \"name\": \"\",\n",
       "        \"zmin\": -1076.3999999999996,\n",
       "        \"legendgroup\": \"\",\n",
       "        \"marker\": {\n",
       "            \"symbol\": \"circle\",\n",
       "            \"color\": \"rgba(0, 0, 4, 1.000)\",\n",
       "            \"line\": {\n",
       "                \"color\": \"rgba(0, 0, 0, 1.000)\",\n",
       "                \"width\": 0\n",
       "            },\n",
       "            \"size\": 2\n",
       "        },\n",
       "        \"zmax\": 6.339465910901892e200,\n",
       "        \"y\": [\n",
       "            4\n",
       "        ],\n",
       "        \"type\": \"scatter\"\n",
       "    },\n",
       "    {\n",
       "        \"xaxis\": \"x\",\n",
       "        \"colorbar\": {\n",
       "            \"title\": \"\"\n",
       "        },\n",
       "        \"yaxis\": \"y\",\n",
       "        \"x\": [\n",
       "            10\n",
       "        ],\n",
       "        \"showlegend\": false,\n",
       "        \"mode\": \"markers\",\n",
       "        \"name\": \"\",\n",
       "        \"zmin\": -1076.3999999999996,\n",
       "        \"legendgroup\": \"\",\n",
       "        \"marker\": {\n",
       "            \"symbol\": \"circle\",\n",
       "            \"color\": \"rgba(0, 0, 4, 1.000)\",\n",
       "            \"line\": {\n",
       "                \"color\": \"rgba(0, 0, 0, 1.000)\",\n",
       "                \"width\": 0\n",
       "            },\n",
       "            \"size\": 2\n",
       "        },\n",
       "        \"zmax\": 6.339465910901892e200,\n",
       "        \"y\": [\n",
       "            5\n",
       "        ],\n",
       "        \"type\": \"scatter\"\n",
       "    },\n",
       "    {\n",
       "        \"xaxis\": \"x\",\n",
       "        \"colorbar\": {\n",
       "            \"title\": \"\"\n",
       "        },\n",
       "        \"yaxis\": \"y\",\n",
       "        \"x\": [\n",
       "            10\n",
       "        ],\n",
       "        \"showlegend\": false,\n",
       "        \"mode\": \"markers\",\n",
       "        \"name\": \"\",\n",
       "        \"zmin\": -1076.3999999999996,\n",
       "        \"legendgroup\": \"\",\n",
       "        \"marker\": {\n",
       "            \"symbol\": \"circle\",\n",
       "            \"color\": \"rgba(0, 0, 4, 1.000)\",\n",
       "            \"line\": {\n",
       "                \"color\": \"rgba(0, 0, 0, 1.000)\",\n",
       "                \"width\": 0\n",
       "            },\n",
       "            \"size\": 2\n",
       "        },\n",
       "        \"zmax\": 6.339465910901892e200,\n",
       "        \"y\": [\n",
       "            6\n",
       "        ],\n",
       "        \"type\": \"scatter\"\n",
       "    },\n",
       "    {\n",
       "        \"xaxis\": \"x\",\n",
       "        \"colorbar\": {\n",
       "            \"title\": \"\"\n",
       "        },\n",
       "        \"yaxis\": \"y\",\n",
       "        \"x\": [\n",
       "            10\n",
       "        ],\n",
       "        \"showlegend\": false,\n",
       "        \"mode\": \"markers\",\n",
       "        \"name\": \"\",\n",
       "        \"zmin\": -1076.3999999999996,\n",
       "        \"legendgroup\": \"\",\n",
       "        \"marker\": {\n",
       "            \"symbol\": \"circle\",\n",
       "            \"color\": \"rgba(0, 0, 4, 1.000)\",\n",
       "            \"line\": {\n",
       "                \"color\": \"rgba(0, 0, 0, 1.000)\",\n",
       "                \"width\": 0\n",
       "            },\n",
       "            \"size\": 2\n",
       "        },\n",
       "        \"zmax\": 6.339465910901892e200,\n",
       "        \"y\": [\n",
       "            7\n",
       "        ],\n",
       "        \"type\": \"scatter\"\n",
       "    },\n",
       "    {\n",
       "        \"xaxis\": \"x\",\n",
       "        \"colorbar\": {\n",
       "            \"title\": \"\"\n",
       "        },\n",
       "        \"yaxis\": \"y\",\n",
       "        \"x\": [\n",
       "            10\n",
       "        ],\n",
       "        \"showlegend\": false,\n",
       "        \"mode\": \"markers\",\n",
       "        \"name\": \"\",\n",
       "        \"zmin\": -1076.3999999999996,\n",
       "        \"legendgroup\": \"\",\n",
       "        \"marker\": {\n",
       "            \"symbol\": \"circle\",\n",
       "            \"color\": \"rgba(0, 0, 0, 0.000)\",\n",
       "            \"line\": {\n",
       "                \"color\": \"rgba(0, 0, 0, 1.000)\",\n",
       "                \"width\": 0\n",
       "            },\n",
       "            \"size\": 2\n",
       "        },\n",
       "        \"zmax\": 6.339465910901892e200,\n",
       "        \"y\": [\n",
       "            8\n",
       "        ],\n",
       "        \"type\": \"scatter\"\n",
       "    },\n",
       "    {\n",
       "        \"xaxis\": \"x\",\n",
       "        \"colorbar\": {\n",
       "            \"title\": \"\"\n",
       "        },\n",
       "        \"yaxis\": \"y\",\n",
       "        \"x\": [\n",
       "            10\n",
       "        ],\n",
       "        \"showlegend\": false,\n",
       "        \"mode\": \"markers\",\n",
       "        \"name\": \"\",\n",
       "        \"zmin\": -1076.3999999999996,\n",
       "        \"legendgroup\": \"\",\n",
       "        \"marker\": {\n",
       "            \"symbol\": \"circle\",\n",
       "            \"color\": \"rgba(0, 0, 0, 0.000)\",\n",
       "            \"line\": {\n",
       "                \"color\": \"rgba(0, 0, 0, 1.000)\",\n",
       "                \"width\": 0\n",
       "            },\n",
       "            \"size\": 2\n",
       "        },\n",
       "        \"zmax\": 6.339465910901892e200,\n",
       "        \"y\": [\n",
       "            9\n",
       "        ],\n",
       "        \"type\": \"scatter\"\n",
       "    },\n",
       "    {\n",
       "        \"xaxis\": \"x\",\n",
       "        \"colorbar\": {\n",
       "            \"title\": \"\"\n",
       "        },\n",
       "        \"yaxis\": \"y\",\n",
       "        \"x\": [\n",
       "            10\n",
       "        ],\n",
       "        \"showlegend\": false,\n",
       "        \"mode\": \"markers\",\n",
       "        \"name\": \"\",\n",
       "        \"zmin\": -1076.3999999999996,\n",
       "        \"legendgroup\": \"\",\n",
       "        \"marker\": {\n",
       "            \"symbol\": \"circle\",\n",
       "            \"color\": \"rgba(0, 0, 0, 0.000)\",\n",
       "            \"line\": {\n",
       "                \"color\": \"rgba(0, 0, 0, 1.000)\",\n",
       "                \"width\": 0\n",
       "            },\n",
       "            \"size\": 2\n",
       "        },\n",
       "        \"zmax\": 6.339465910901892e200,\n",
       "        \"y\": [\n",
       "            10\n",
       "        ],\n",
       "        \"type\": \"scatter\"\n",
       "    },\n",
       "    {\n",
       "        \"xaxis\": \"x\",\n",
       "        \"colorbar\": {\n",
       "            \"title\": \"\"\n",
       "        },\n",
       "        \"yaxis\": \"y\",\n",
       "        \"x\": [\n",
       "            10\n",
       "        ],\n",
       "        \"showlegend\": false,\n",
       "        \"mode\": \"markers\",\n",
       "        \"name\": \"\",\n",
       "        \"zmin\": -1076.3999999999996,\n",
       "        \"legendgroup\": \"\",\n",
       "        \"marker\": {\n",
       "            \"symbol\": \"circle\",\n",
       "            \"color\": \"rgba(0, 0, 0, 0.000)\",\n",
       "            \"line\": {\n",
       "                \"color\": \"rgba(0, 0, 0, 1.000)\",\n",
       "                \"width\": 0\n",
       "            },\n",
       "            \"size\": 2\n",
       "        },\n",
       "        \"zmax\": 6.339465910901892e200,\n",
       "        \"y\": [\n",
       "            11\n",
       "        ],\n",
       "        \"type\": \"scatter\"\n",
       "    },\n",
       "    {\n",
       "        \"xaxis\": \"x\",\n",
       "        \"colorbar\": {\n",
       "            \"title\": \"\"\n",
       "        },\n",
       "        \"yaxis\": \"y\",\n",
       "        \"x\": [\n",
       "            10\n",
       "        ],\n",
       "        \"showlegend\": false,\n",
       "        \"mode\": \"markers\",\n",
       "        \"name\": \"\",\n",
       "        \"zmin\": -1076.3999999999996,\n",
       "        \"legendgroup\": \"\",\n",
       "        \"marker\": {\n",
       "            \"symbol\": \"circle\",\n",
       "            \"color\": \"rgba(0, 0, 0, 0.000)\",\n",
       "            \"line\": {\n",
       "                \"color\": \"rgba(0, 0, 0, 1.000)\",\n",
       "                \"width\": 0\n",
       "            },\n",
       "            \"size\": 2\n",
       "        },\n",
       "        \"zmax\": 6.339465910901892e200,\n",
       "        \"y\": [\n",
       "            12\n",
       "        ],\n",
       "        \"type\": \"scatter\"\n",
       "    },\n",
       "    {\n",
       "        \"xaxis\": \"x\",\n",
       "        \"colorbar\": {\n",
       "            \"title\": \"\"\n",
       "        },\n",
       "        \"yaxis\": \"y\",\n",
       "        \"x\": [\n",
       "            10\n",
       "        ],\n",
       "        \"showlegend\": false,\n",
       "        \"mode\": \"markers\",\n",
       "        \"name\": \"\",\n",
       "        \"zmin\": -1076.3999999999996,\n",
       "        \"legendgroup\": \"\",\n",
       "        \"marker\": {\n",
       "            \"symbol\": \"circle\",\n",
       "            \"color\": \"rgba(0, 0, 0, 0.000)\",\n",
       "            \"line\": {\n",
       "                \"color\": \"rgba(0, 0, 0, 1.000)\",\n",
       "                \"width\": 0\n",
       "            },\n",
       "            \"size\": 2\n",
       "        },\n",
       "        \"zmax\": 6.339465910901892e200,\n",
       "        \"y\": [\n",
       "            13\n",
       "        ],\n",
       "        \"type\": \"scatter\"\n",
       "    },\n",
       "    {\n",
       "        \"xaxis\": \"x\",\n",
       "        \"colorbar\": {\n",
       "            \"title\": \"\"\n",
       "        },\n",
       "        \"yaxis\": \"y\",\n",
       "        \"x\": [\n",
       "            10\n",
       "        ],\n",
       "        \"showlegend\": false,\n",
       "        \"mode\": \"markers\",\n",
       "        \"name\": \"\",\n",
       "        \"zmin\": -1076.3999999999996,\n",
       "        \"legendgroup\": \"\",\n",
       "        \"marker\": {\n",
       "            \"symbol\": \"circle\",\n",
       "            \"color\": \"rgba(0, 0, 0, 0.000)\",\n",
       "            \"line\": {\n",
       "                \"color\": \"rgba(0, 0, 0, 1.000)\",\n",
       "                \"width\": 0\n",
       "            },\n",
       "            \"size\": 2\n",
       "        },\n",
       "        \"zmax\": 6.339465910901892e200,\n",
       "        \"y\": [\n",
       "            14\n",
       "        ],\n",
       "        \"type\": \"scatter\"\n",
       "    },\n",
       "    {\n",
       "        \"xaxis\": \"x\",\n",
       "        \"colorbar\": {\n",
       "            \"title\": \"\"\n",
       "        },\n",
       "        \"yaxis\": \"y\",\n",
       "        \"x\": [\n",
       "            10\n",
       "        ],\n",
       "        \"showlegend\": false,\n",
       "        \"mode\": \"markers\",\n",
       "        \"name\": \"\",\n",
       "        \"zmin\": -1076.3999999999996,\n",
       "        \"legendgroup\": \"\",\n",
       "        \"marker\": {\n",
       "            \"symbol\": \"circle\",\n",
       "            \"color\": \"rgba(0, 0, 0, 0.000)\",\n",
       "            \"line\": {\n",
       "                \"color\": \"rgba(0, 0, 0, 1.000)\",\n",
       "                \"width\": 0\n",
       "            },\n",
       "            \"size\": 2\n",
       "        },\n",
       "        \"zmax\": 6.339465910901892e200,\n",
       "        \"y\": [\n",
       "            15\n",
       "        ],\n",
       "        \"type\": \"scatter\"\n",
       "    },\n",
       "    {\n",
       "        \"xaxis\": \"x\",\n",
       "        \"colorbar\": {\n",
       "            \"title\": \"\"\n",
       "        },\n",
       "        \"yaxis\": \"y\",\n",
       "        \"x\": [\n",
       "            10\n",
       "        ],\n",
       "        \"showlegend\": false,\n",
       "        \"mode\": \"markers\",\n",
       "        \"name\": \"\",\n",
       "        \"zmin\": -1076.3999999999996,\n",
       "        \"legendgroup\": \"\",\n",
       "        \"marker\": {\n",
       "            \"symbol\": \"circle\",\n",
       "            \"color\": \"rgba(0, 0, 0, 0.000)\",\n",
       "            \"line\": {\n",
       "                \"color\": \"rgba(0, 0, 0, 1.000)\",\n",
       "                \"width\": 0\n",
       "            },\n",
       "            \"size\": 2\n",
       "        },\n",
       "        \"zmax\": 6.339465910901892e200,\n",
       "        \"y\": [\n",
       "            16\n",
       "        ],\n",
       "        \"type\": \"scatter\"\n",
       "    },\n",
       "    {\n",
       "        \"xaxis\": \"x\",\n",
       "        \"colorbar\": {\n",
       "            \"title\": \"\"\n",
       "        },\n",
       "        \"yaxis\": \"y\",\n",
       "        \"x\": [\n",
       "            10\n",
       "        ],\n",
       "        \"showlegend\": false,\n",
       "        \"mode\": \"markers\",\n",
       "        \"name\": \"\",\n",
       "        \"zmin\": -1076.3999999999996,\n",
       "        \"legendgroup\": \"\",\n",
       "        \"marker\": {\n",
       "            \"symbol\": \"circle\",\n",
       "            \"color\": \"rgba(0, 0, 0, 0.000)\",\n",
       "            \"line\": {\n",
       "                \"color\": \"rgba(0, 0, 0, 1.000)\",\n",
       "                \"width\": 0\n",
       "            },\n",
       "            \"size\": 2\n",
       "        },\n",
       "        \"zmax\": 6.339465910901892e200,\n",
       "        \"y\": [\n",
       "            17\n",
       "        ],\n",
       "        \"type\": \"scatter\"\n",
       "    },\n",
       "    {\n",
       "        \"xaxis\": \"x\",\n",
       "        \"colorbar\": {\n",
       "            \"title\": \"\"\n",
       "        },\n",
       "        \"yaxis\": \"y\",\n",
       "        \"x\": [\n",
       "            10\n",
       "        ],\n",
       "        \"showlegend\": false,\n",
       "        \"mode\": \"markers\",\n",
       "        \"name\": \"\",\n",
       "        \"zmin\": -1076.3999999999996,\n",
       "        \"legendgroup\": \"\",\n",
       "        \"marker\": {\n",
       "            \"symbol\": \"circle\",\n",
       "            \"color\": \"rgba(0, 0, 0, 0.000)\",\n",
       "            \"line\": {\n",
       "                \"color\": \"rgba(0, 0, 0, 1.000)\",\n",
       "                \"width\": 0\n",
       "            },\n",
       "            \"size\": 2\n",
       "        },\n",
       "        \"zmax\": 6.339465910901892e200,\n",
       "        \"y\": [\n",
       "            18\n",
       "        ],\n",
       "        \"type\": \"scatter\"\n",
       "    },\n",
       "    {\n",
       "        \"xaxis\": \"x\",\n",
       "        \"colorbar\": {\n",
       "            \"title\": \"\"\n",
       "        },\n",
       "        \"yaxis\": \"y\",\n",
       "        \"x\": [\n",
       "            10\n",
       "        ],\n",
       "        \"showlegend\": false,\n",
       "        \"mode\": \"markers\",\n",
       "        \"name\": \"\",\n",
       "        \"zmin\": -1076.3999999999996,\n",
       "        \"legendgroup\": \"\",\n",
       "        \"marker\": {\n",
       "            \"symbol\": \"circle\",\n",
       "            \"color\": \"rgba(0, 0, 0, 0.000)\",\n",
       "            \"line\": {\n",
       "                \"color\": \"rgba(0, 0, 0, 1.000)\",\n",
       "                \"width\": 0\n",
       "            },\n",
       "            \"size\": 2\n",
       "        },\n",
       "        \"zmax\": 6.339465910901892e200,\n",
       "        \"y\": [\n",
       "            19\n",
       "        ],\n",
       "        \"type\": \"scatter\"\n",
       "    },\n",
       "    {\n",
       "        \"xaxis\": \"x\",\n",
       "        \"colorbar\": {\n",
       "            \"title\": \"\"\n",
       "        },\n",
       "        \"yaxis\": \"y\",\n",
       "        \"x\": [\n",
       "            10\n",
       "        ],\n",
       "        \"showlegend\": false,\n",
       "        \"mode\": \"markers\",\n",
       "        \"name\": \"\",\n",
       "        \"zmin\": -1076.3999999999996,\n",
       "        \"legendgroup\": \"\",\n",
       "        \"marker\": {\n",
       "            \"symbol\": \"circle\",\n",
       "            \"color\": \"rgba(0, 0, 0, 0.000)\",\n",
       "            \"line\": {\n",
       "                \"color\": \"rgba(0, 0, 0, 1.000)\",\n",
       "                \"width\": 0\n",
       "            },\n",
       "            \"size\": 2\n",
       "        },\n",
       "        \"zmax\": 6.339465910901892e200,\n",
       "        \"y\": [\n",
       "            20\n",
       "        ],\n",
       "        \"type\": \"scatter\"\n",
       "    },\n",
       "    {\n",
       "        \"xaxis\": \"x\",\n",
       "        \"colorbar\": {\n",
       "            \"title\": \"\"\n",
       "        },\n",
       "        \"yaxis\": \"y\",\n",
       "        \"x\": [\n",
       "            10\n",
       "        ],\n",
       "        \"showlegend\": false,\n",
       "        \"mode\": \"markers\",\n",
       "        \"name\": \"\",\n",
       "        \"zmin\": -1076.3999999999996,\n",
       "        \"legendgroup\": \"\",\n",
       "        \"marker\": {\n",
       "            \"symbol\": \"circle\",\n",
       "            \"color\": \"rgba(0, 0, 0, 0.000)\",\n",
       "            \"line\": {\n",
       "                \"color\": \"rgba(0, 0, 0, 1.000)\",\n",
       "                \"width\": 0\n",
       "            },\n",
       "            \"size\": 2\n",
       "        },\n",
       "        \"zmax\": 6.339465910901892e200,\n",
       "        \"y\": [\n",
       "            21\n",
       "        ],\n",
       "        \"type\": \"scatter\"\n",
       "    },\n",
       "    {\n",
       "        \"xaxis\": \"x\",\n",
       "        \"colorbar\": {\n",
       "            \"title\": \"\"\n",
       "        },\n",
       "        \"yaxis\": \"y\",\n",
       "        \"x\": [\n",
       "            10\n",
       "        ],\n",
       "        \"showlegend\": false,\n",
       "        \"mode\": \"markers\",\n",
       "        \"name\": \"\",\n",
       "        \"zmin\": -1076.3999999999996,\n",
       "        \"legendgroup\": \"\",\n",
       "        \"marker\": {\n",
       "            \"symbol\": \"circle\",\n",
       "            \"color\": \"rgba(0, 0, 0, 0.000)\",\n",
       "            \"line\": {\n",
       "                \"color\": \"rgba(0, 0, 0, 1.000)\",\n",
       "                \"width\": 0\n",
       "            },\n",
       "            \"size\": 2\n",
       "        },\n",
       "        \"zmax\": 6.339465910901892e200,\n",
       "        \"y\": [\n",
       "            22\n",
       "        ],\n",
       "        \"type\": \"scatter\"\n",
       "    },\n",
       "    {\n",
       "        \"xaxis\": \"x\",\n",
       "        \"colorbar\": {\n",
       "            \"title\": \"\"\n",
       "        },\n",
       "        \"yaxis\": \"y\",\n",
       "        \"x\": [\n",
       "            10\n",
       "        ],\n",
       "        \"showlegend\": false,\n",
       "        \"mode\": \"markers\",\n",
       "        \"name\": \"\",\n",
       "        \"zmin\": -1076.3999999999996,\n",
       "        \"legendgroup\": \"\",\n",
       "        \"marker\": {\n",
       "            \"symbol\": \"circle\",\n",
       "            \"color\": \"rgba(0, 0, 0, 0.000)\",\n",
       "            \"line\": {\n",
       "                \"color\": \"rgba(0, 0, 0, 1.000)\",\n",
       "                \"width\": 0\n",
       "            },\n",
       "            \"size\": 2\n",
       "        },\n",
       "        \"zmax\": 6.339465910901892e200,\n",
       "        \"y\": [\n",
       "            23\n",
       "        ],\n",
       "        \"type\": \"scatter\"\n",
       "    },\n",
       "    {\n",
       "        \"xaxis\": \"x\",\n",
       "        \"colorbar\": {\n",
       "            \"title\": \"\"\n",
       "        },\n",
       "        \"yaxis\": \"y\",\n",
       "        \"x\": [\n",
       "            10\n",
       "        ],\n",
       "        \"showlegend\": false,\n",
       "        \"mode\": \"markers\",\n",
       "        \"name\": \"\",\n",
       "        \"zmin\": -1076.3999999999996,\n",
       "        \"legendgroup\": \"\",\n",
       "        \"marker\": {\n",
       "            \"symbol\": \"circle\",\n",
       "            \"color\": \"rgba(0, 0, 0, 0.000)\",\n",
       "            \"line\": {\n",
       "                \"color\": \"rgba(0, 0, 0, 1.000)\",\n",
       "                \"width\": 0\n",
       "            },\n",
       "            \"size\": 2\n",
       "        },\n",
       "        \"zmax\": 6.339465910901892e200,\n",
       "        \"y\": [\n",
       "            24\n",
       "        ],\n",
       "        \"type\": \"scatter\"\n",
       "    },\n",
       "    {\n",
       "        \"xaxis\": \"x\",\n",
       "        \"colorbar\": {\n",
       "            \"title\": \"\"\n",
       "        },\n",
       "        \"yaxis\": \"y\",\n",
       "        \"x\": [\n",
       "            10\n",
       "        ],\n",
       "        \"showlegend\": false,\n",
       "        \"mode\": \"markers\",\n",
       "        \"name\": \"\",\n",
       "        \"zmin\": -1076.3999999999996,\n",
       "        \"legendgroup\": \"\",\n",
       "        \"marker\": {\n",
       "            \"symbol\": \"circle\",\n",
       "            \"color\": \"rgba(0, 0, 0, 0.000)\",\n",
       "            \"line\": {\n",
       "                \"color\": \"rgba(0, 0, 0, 1.000)\",\n",
       "                \"width\": 0\n",
       "            },\n",
       "            \"size\": 2\n",
       "        },\n",
       "        \"zmax\": 6.339465910901892e200,\n",
       "        \"y\": [\n",
       "            25\n",
       "        ],\n",
       "        \"type\": \"scatter\"\n",
       "    },\n",
       "    {\n",
       "        \"xaxis\": \"x\",\n",
       "        \"colorbar\": {\n",
       "            \"title\": \"\"\n",
       "        },\n",
       "        \"yaxis\": \"y\",\n",
       "        \"x\": [\n",
       "            10\n",
       "        ],\n",
       "        \"showlegend\": false,\n",
       "        \"mode\": \"markers\",\n",
       "        \"name\": \"\",\n",
       "        \"zmin\": -1076.3999999999996,\n",
       "        \"legendgroup\": \"\",\n",
       "        \"marker\": {\n",
       "            \"symbol\": \"circle\",\n",
       "            \"color\": \"rgba(0, 0, 0, 0.000)\",\n",
       "            \"line\": {\n",
       "                \"color\": \"rgba(0, 0, 0, 1.000)\",\n",
       "                \"width\": 0\n",
       "            },\n",
       "            \"size\": 2\n",
       "        },\n",
       "        \"zmax\": 6.339465910901892e200,\n",
       "        \"y\": [\n",
       "            26\n",
       "        ],\n",
       "        \"type\": \"scatter\"\n",
       "    },\n",
       "    {\n",
       "        \"xaxis\": \"x\",\n",
       "        \"colorbar\": {\n",
       "            \"title\": \"\"\n",
       "        },\n",
       "        \"yaxis\": \"y\",\n",
       "        \"x\": [\n",
       "            1\n",
       "        ],\n",
       "        \"showlegend\": false,\n",
       "        \"mode\": \"markers\",\n",
       "        \"name\": \"\",\n",
       "        \"zmin\": -1076.3999999999996,\n",
       "        \"marker\": {\n",
       "            \"color\": [\n",
       "                0.5\n",
       "            ],\n",
       "            \"cmin\": -1076.3999999999996,\n",
       "            \"opacity\": 1.0e-10,\n",
       "            \"size\": 1.0e-10,\n",
       "            \"colorscale\": [\n",
       "                [\n",
       "                    0.0,\n",
       "                    \"rgba(0, 0, 4, 1.000)\"\n",
       "                ],\n",
       "                [\n",
       "                    0.00392156862745098,\n",
       "                    \"rgba(1, 0, 5, 1.000)\"\n",
       "                ],\n",
       "                [\n",
       "                    0.00784313725490196,\n",
       "                    \"rgba(1, 1, 6, 1.000)\"\n",
       "                ],\n",
       "                [\n",
       "                    0.011764705882352941,\n",
       "                    \"rgba(1, 1, 8, 1.000)\"\n",
       "                ],\n",
       "                [\n",
       "                    0.01568627450980392,\n",
       "                    \"rgba(2, 1, 10, 1.000)\"\n",
       "                ],\n",
       "                [\n",
       "                    0.0196078431372549,\n",
       "                    \"rgba(2, 2, 12, 1.000)\"\n",
       "                ],\n",
       "                [\n",
       "                    0.023529411764705882,\n",
       "                    \"rgba(2, 2, 14, 1.000)\"\n",
       "                ],\n",
       "                [\n",
       "                    0.027450980392156862,\n",
       "                    \"rgba(3, 2, 16, 1.000)\"\n",
       "                ],\n",
       "                [\n",
       "                    0.03137254901960784,\n",
       "                    \"rgba(4, 3, 18, 1.000)\"\n",
       "                ],\n",
       "                [\n",
       "                    0.03529411764705882,\n",
       "                    \"rgba(4, 3, 20, 1.000)\"\n",
       "                ],\n",
       "                [\n",
       "                    0.0392156862745098,\n",
       "                    \"rgba(5, 4, 23, 1.000)\"\n",
       "                ],\n",
       "                [\n",
       "                    0.043137254901960784,\n",
       "                    \"rgba(6, 4, 25, 1.000)\"\n",
       "                ],\n",
       "                [\n",
       "                    0.047058823529411764,\n",
       "                    \"rgba(7, 5, 27, 1.000)\"\n",
       "                ],\n",
       "                [\n",
       "                    0.050980392156862744,\n",
       "                    \"rgba(8, 5, 29, 1.000)\"\n",
       "                ],\n",
       "                [\n",
       "                    0.054901960784313725,\n",
       "                    \"rgba(9, 6, 31, 1.000)\"\n",
       "                ],\n",
       "                [\n",
       "                    0.058823529411764705,\n",
       "                    \"rgba(10, 7, 34, 1.000)\"\n",
       "                ],\n",
       "                [\n",
       "                    0.06274509803921569,\n",
       "                    \"rgba(11, 7, 36, 1.000)\"\n",
       "                ],\n",
       "                [\n",
       "                    0.06666666666666667,\n",
       "                    \"rgba(12, 8, 38, 1.000)\"\n",
       "                ],\n",
       "                [\n",
       "                    0.07058823529411765,\n",
       "                    \"rgba(13, 8, 41, 1.000)\"\n",
       "                ],\n",
       "                [\n",
       "                    0.07450980392156863,\n",
       "                    \"rgba(14, 9, 43, 1.000)\"\n",
       "                ],\n",
       "                [\n",
       "                    0.0784313725490196,\n",
       "                    \"rgba(16, 9, 45, 1.000)\"\n",
       "                ],\n",
       "                [\n",
       "                    0.08235294117647059,\n",
       "                    \"rgba(17, 10, 48, 1.000)\"\n",
       "                ],\n",
       "                [\n",
       "                    0.08627450980392157,\n",
       "                    \"rgba(18, 10, 50, 1.000)\"\n",
       "                ],\n",
       "                [\n",
       "                    0.09019607843137255,\n",
       "                    \"rgba(20, 11, 52, 1.000)\"\n",
       "                ],\n",
       "                [\n",
       "                    0.09411764705882353,\n",
       "                    \"rgba(21, 11, 55, 1.000)\"\n",
       "                ],\n",
       "                [\n",
       "                    0.09803921568627451,\n",
       "                    \"rgba(22, 11, 57, 1.000)\"\n",
       "                ],\n",
       "                [\n",
       "                    0.10196078431372549,\n",
       "                    \"rgba(24, 12, 60, 1.000)\"\n",
       "                ],\n",
       "                [\n",
       "                    0.10588235294117647,\n",
       "                    \"rgba(25, 12, 62, 1.000)\"\n",
       "                ],\n",
       "                [\n",
       "                    0.10980392156862745,\n",
       "                    \"rgba(27, 12, 65, 1.000)\"\n",
       "                ],\n",
       "                [\n",
       "                    0.11372549019607843,\n",
       "                    \"rgba(28, 12, 67, 1.000)\"\n",
       "                ],\n",
       "                [\n",
       "                    0.11764705882352941,\n",
       "                    \"rgba(30, 12, 69, 1.000)\"\n",
       "                ],\n",
       "                [\n",
       "                    0.12156862745098039,\n",
       "                    \"rgba(31, 12, 72, 1.000)\"\n",
       "                ],\n",
       "                [\n",
       "                    0.12549019607843137,\n",
       "                    \"rgba(33, 12, 74, 1.000)\"\n",
       "                ],\n",
       "                [\n",
       "                    0.12941176470588237,\n",
       "                    \"rgba(35, 12, 76, 1.000)\"\n",
       "                ],\n",
       "                [\n",
       "                    0.13333333333333333,\n",
       "                    \"rgba(36, 12, 79, 1.000)\"\n",
       "                ],\n",
       "                [\n",
       "                    0.13725490196078433,\n",
       "                    \"rgba(38, 12, 81, 1.000)\"\n",
       "                ],\n",
       "                [\n",
       "                    0.1411764705882353,\n",
       "                    \"rgba(40, 11, 83, 1.000)\"\n",
       "                ],\n",
       "                [\n",
       "                    0.1450980392156863,\n",
       "                    \"rgba(41, 11, 85, 1.000)\"\n",
       "                ],\n",
       "                [\n",
       "                    0.14901960784313725,\n",
       "                    \"rgba(43, 11, 87, 1.000)\"\n",
       "                ],\n",
       "                [\n",
       "                    0.15294117647058825,\n",
       "                    \"rgba(45, 11, 89, 1.000)\"\n",
       "                ],\n",
       "                [\n",
       "                    0.1568627450980392,\n",
       "                    \"rgba(47, 10, 91, 1.000)\"\n",
       "                ],\n",
       "                [\n",
       "                    0.1607843137254902,\n",
       "                    \"rgba(49, 10, 92, 1.000)\"\n",
       "                ],\n",
       "                [\n",
       "                    0.16470588235294117,\n",
       "                    \"rgba(50, 10, 94, 1.000)\"\n",
       "                ],\n",
       "                [\n",
       "                    0.16862745098039217,\n",
       "                    \"rgba(52, 10, 95, 1.000)\"\n",
       "                ],\n",
       "                [\n",
       "                    0.17254901960784313,\n",
       "                    \"rgba(54, 9, 97, 1.000)\"\n",
       "                ],\n",
       "                [\n",
       "                    0.17647058823529413,\n",
       "                    \"rgba(56, 9, 98, 1.000)\"\n",
       "                ],\n",
       "                [\n",
       "                    0.1803921568627451,\n",
       "                    \"rgba(57, 9, 99, 1.000)\"\n",
       "                ],\n",
       "                [\n",
       "                    0.1843137254901961,\n",
       "                    \"rgba(59, 9, 100, 1.000)\"\n",
       "                ],\n",
       "                [\n",
       "                    0.18823529411764706,\n",
       "                    \"rgba(61, 9, 101, 1.000)\"\n",
       "                ],\n",
       "                [\n",
       "                    0.19215686274509805,\n",
       "                    \"rgba(62, 9, 102, 1.000)\"\n",
       "                ],\n",
       "                [\n",
       "                    0.19607843137254902,\n",
       "                    \"rgba(64, 10, 103, 1.000)\"\n",
       "                ],\n",
       "                [\n",
       "                    0.2,\n",
       "                    \"rgba(66, 10, 104, 1.000)\"\n",
       "                ],\n",
       "                [\n",
       "                    0.20392156862745098,\n",
       "                    \"rgba(68, 10, 104, 1.000)\"\n",
       "                ],\n",
       "                [\n",
       "                    0.20784313725490197,\n",
       "                    \"rgba(69, 10, 105, 1.000)\"\n",
       "                ],\n",
       "                [\n",
       "                    0.21176470588235294,\n",
       "                    \"rgba(71, 11, 106, 1.000)\"\n",
       "                ],\n",
       "                [\n",
       "                    0.21568627450980393,\n",
       "                    \"rgba(73, 11, 106, 1.000)\"\n",
       "                ],\n",
       "                [\n",
       "                    0.2196078431372549,\n",
       "                    \"rgba(74, 12, 107, 1.000)\"\n",
       "                ],\n",
       "                [\n",
       "                    0.2235294117647059,\n",
       "                    \"rgba(76, 12, 107, 1.000)\"\n",
       "                ],\n",
       "                [\n",
       "                    0.22745098039215686,\n",
       "                    \"rgba(77, 13, 108, 1.000)\"\n",
       "                ],\n",
       "                [\n",
       "                    0.23137254901960785,\n",
       "                    \"rgba(79, 13, 108, 1.000)\"\n",
       "                ],\n",
       "                [\n",
       "                    0.23529411764705882,\n",
       "                    \"rgba(81, 14, 108, 1.000)\"\n",
       "                ],\n",
       "                [\n",
       "                    0.23921568627450981,\n",
       "                    \"rgba(82, 14, 109, 1.000)\"\n",
       "                ],\n",
       "                [\n",
       "                    0.24313725490196078,\n",
       "                    \"rgba(84, 15, 109, 1.000)\"\n",
       "                ],\n",
       "                [\n",
       "                    0.24705882352941178,\n",
       "                    \"rgba(85, 15, 109, 1.000)\"\n",
       "                ],\n",
       "                [\n",
       "                    0.25098039215686274,\n",
       "                    \"rgba(87, 16, 110, 1.000)\"\n",
       "                ],\n",
       "                [\n",
       "                    0.2549019607843137,\n",
       "                    \"rgba(89, 16, 110, 1.000)\"\n",
       "                ],\n",
       "                [\n",
       "                    0.25882352941176473,\n",
       "                    \"rgba(90, 17, 110, 1.000)\"\n",
       "                ],\n",
       "                [\n",
       "                    0.2627450980392157,\n",
       "                    \"rgba(92, 18, 110, 1.000)\"\n",
       "                ],\n",
       "                [\n",
       "                    0.26666666666666666,\n",
       "                    \"rgba(93, 18, 110, 1.000)\"\n",
       "                ],\n",
       "                [\n",
       "                    0.27058823529411763,\n",
       "                    \"rgba(95, 19, 110, 1.000)\"\n",
       "                ],\n",
       "                [\n",
       "                    0.27450980392156865,\n",
       "                    \"rgba(97, 19, 110, 1.000)\"\n",
       "                ],\n",
       "                [\n",
       "                    0.2784313725490196,\n",
       "                    \"rgba(98, 20, 110, 1.000)\"\n",
       "                ],\n",
       "                [\n",
       "                    0.2823529411764706,\n",
       "                    \"rgba(100, 21, 110, 1.000)\"\n",
       "                ],\n",
       "                [\n",
       "                    0.28627450980392155,\n",
       "                    \"rgba(101, 21, 110, 1.000)\"\n",
       "                ],\n",
       "                [\n",
       "                    0.2901960784313726,\n",
       "                    \"rgba(103, 22, 110, 1.000)\"\n",
       "                ],\n",
       "                [\n",
       "                    0.29411764705882354,\n",
       "                    \"rgba(105, 22, 110, 1.000)\"\n",
       "                ],\n",
       "                [\n",
       "                    0.2980392156862745,\n",
       "                    \"rgba(106, 23, 110, 1.000)\"\n",
       "                ],\n",
       "                [\n",
       "                    0.30196078431372547,\n",
       "                    \"rgba(108, 24, 110, 1.000)\"\n",
       "                ],\n",
       "                [\n",
       "                    0.3058823529411765,\n",
       "                    \"rgba(109, 24, 110, 1.000)\"\n",
       "                ],\n",
       "                [\n",
       "                    0.30980392156862746,\n",
       "                    \"rgba(111, 25, 110, 1.000)\"\n",
       "                ],\n",
       "                [\n",
       "                    0.3137254901960784,\n",
       "                    \"rgba(113, 25, 110, 1.000)\"\n",
       "                ],\n",
       "                [\n",
       "                    0.3176470588235294,\n",
       "                    \"rgba(114, 26, 110, 1.000)\"\n",
       "                ],\n",
       "                [\n",
       "                    0.3215686274509804,\n",
       "                    \"rgba(116, 26, 110, 1.000)\"\n",
       "                ],\n",
       "                [\n",
       "                    0.3254901960784314,\n",
       "                    \"rgba(117, 27, 110, 1.000)\"\n",
       "                ],\n",
       "                [\n",
       "                    0.32941176470588235,\n",
       "                    \"rgba(119, 28, 109, 1.000)\"\n",
       "                ],\n",
       "                [\n",
       "                    0.3333333333333333,\n",
       "                    \"rgba(120, 28, 109, 1.000)\"\n",
       "                ],\n",
       "                [\n",
       "                    0.33725490196078434,\n",
       "                    \"rgba(122, 29, 109, 1.000)\"\n",
       "                ],\n",
       "                [\n",
       "                    0.3411764705882353,\n",
       "                    \"rgba(124, 29, 109, 1.000)\"\n",
       "                ],\n",
       "                [\n",
       "                    0.34509803921568627,\n",
       "                    \"rgba(125, 30, 109, 1.000)\"\n",
       "                ],\n",
       "                [\n",
       "                    0.34901960784313724,\n",
       "                    \"rgba(127, 30, 108, 1.000)\"\n",
       "                ],\n",
       "                [\n",
       "                    0.35294117647058826,\n",
       "                    \"rgba(128, 31, 108, 1.000)\"\n",
       "                ],\n",
       "                [\n",
       "                    0.3568627450980392,\n",
       "                    \"rgba(130, 32, 108, 1.000)\"\n",
       "                ],\n",
       "                [\n",
       "                    0.3607843137254902,\n",
       "                    \"rgba(132, 32, 107, 1.000)\"\n",
       "                ],\n",
       "                [\n",
       "                    0.36470588235294116,\n",
       "                    \"rgba(133, 33, 107, 1.000)\"\n",
       "                ],\n",
       "                [\n",
       "                    0.3686274509803922,\n",
       "                    \"rgba(135, 33, 107, 1.000)\"\n",
       "                ],\n",
       "                [\n",
       "                    0.37254901960784315,\n",
       "                    \"rgba(136, 34, 106, 1.000)\"\n",
       "                ],\n",
       "                [\n",
       "                    0.3764705882352941,\n",
       "                    \"rgba(138, 34, 106, 1.000)\"\n",
       "                ],\n",
       "                [\n",
       "                    0.3803921568627451,\n",
       "                    \"rgba(140, 35, 105, 1.000)\"\n",
       "                ],\n",
       "                [\n",
       "                    0.3843137254901961,\n",
       "                    \"rgba(141, 35, 105, 1.000)\"\n",
       "                ],\n",
       "                [\n",
       "                    0.38823529411764707,\n",
       "                    \"rgba(143, 36, 105, 1.000)\"\n",
       "                ],\n",
       "                [\n",
       "                    0.39215686274509803,\n",
       "                    \"rgba(144, 37, 104, 1.000)\"\n",
       "                ],\n",
       "                [\n",
       "                    0.396078431372549,\n",
       "                    \"rgba(146, 37, 104, 1.000)\"\n",
       "                ],\n",
       "                [\n",
       "                    0.4,\n",
       "                    \"rgba(147, 38, 103, 1.000)\"\n",
       "                ],\n",
       "                [\n",
       "                    0.403921568627451,\n",
       "                    \"rgba(149, 38, 103, 1.000)\"\n",
       "                ],\n",
       "                [\n",
       "                    0.40784313725490196,\n",
       "                    \"rgba(151, 39, 102, 1.000)\"\n",
       "                ],\n",
       "                [\n",
       "                    0.4117647058823529,\n",
       "                    \"rgba(152, 39, 102, 1.000)\"\n",
       "                ],\n",
       "                [\n",
       "                    0.41568627450980394,\n",
       "                    \"rgba(154, 40, 101, 1.000)\"\n",
       "                ],\n",
       "                [\n",
       "                    0.4196078431372549,\n",
       "                    \"rgba(155, 41, 100, 1.000)\"\n",
       "                ],\n",
       "                [\n",
       "                    0.4235294117647059,\n",
       "                    \"rgba(157, 41, 100, 1.000)\"\n",
       "                ],\n",
       "                [\n",
       "                    0.42745098039215684,\n",
       "                    \"rgba(159, 42, 99, 1.000)\"\n",
       "                ],\n",
       "                [\n",
       "                    0.43137254901960786,\n",
       "                    \"rgba(160, 42, 99, 1.000)\"\n",
       "                ],\n",
       "                [\n",
       "                    0.43529411764705883,\n",
       "                    \"rgba(162, 43, 98, 1.000)\"\n",
       "                ],\n",
       "                [\n",
       "                    0.4392156862745098,\n",
       "                    \"rgba(163, 44, 97, 1.000)\"\n",
       "                ],\n",
       "                [\n",
       "                    0.44313725490196076,\n",
       "                    \"rgba(165, 44, 96, 1.000)\"\n",
       "                ],\n",
       "                [\n",
       "                    0.4470588235294118,\n",
       "                    \"rgba(166, 45, 96, 1.000)\"\n",
       "                ],\n",
       "                [\n",
       "                    0.45098039215686275,\n",
       "                    \"rgba(168, 46, 95, 1.000)\"\n",
       "                ],\n",
       "                [\n",
       "                    0.4549019607843137,\n",
       "                    \"rgba(169, 46, 94, 1.000)\"\n",
       "                ],\n",
       "                [\n",
       "                    0.4588235294117647,\n",
       "                    \"rgba(171, 47, 94, 1.000)\"\n",
       "                ],\n",
       "                [\n",
       "                    0.4627450980392157,\n",
       "                    \"rgba(173, 48, 93, 1.000)\"\n",
       "                ],\n",
       "                [\n",
       "                    0.4666666666666667,\n",
       "                    \"rgba(174, 48, 92, 1.000)\"\n",
       "                ],\n",
       "                [\n",
       "                    0.47058823529411764,\n",
       "                    \"rgba(176, 49, 91, 1.000)\"\n",
       "                ],\n",
       "                [\n",
       "                    0.4745098039215686,\n",
       "                    \"rgba(177, 50, 90, 1.000)\"\n",
       "                ],\n",
       "                [\n",
       "                    0.47843137254901963,\n",
       "                    \"rgba(179, 50, 90, 1.000)\"\n",
       "                ],\n",
       "                [\n",
       "                    0.4823529411764706,\n",
       "                    \"rgba(180, 51, 89, 1.000)\"\n",
       "                ],\n",
       "                [\n",
       "                    0.48627450980392156,\n",
       "                    \"rgba(182, 52, 88, 1.000)\"\n",
       "                ],\n",
       "                [\n",
       "                    0.49019607843137253,\n",
       "                    \"rgba(183, 53, 87, 1.000)\"\n",
       "                ],\n",
       "                [\n",
       "                    0.49411764705882355,\n",
       "                    \"rgba(185, 53, 86, 1.000)\"\n",
       "                ],\n",
       "                [\n",
       "                    0.4980392156862745,\n",
       "                    \"rgba(186, 54, 85, 1.000)\"\n",
       "                ],\n",
       "                [\n",
       "                    0.5019607843137255,\n",
       "                    \"rgba(188, 55, 84, 1.000)\"\n",
       "                ],\n",
       "                [\n",
       "                    0.5058823529411764,\n",
       "                    \"rgba(189, 56, 83, 1.000)\"\n",
       "                ],\n",
       "                [\n",
       "                    0.5098039215686274,\n",
       "                    \"rgba(191, 57, 82, 1.000)\"\n",
       "                ],\n",
       "                [\n",
       "                    0.5137254901960784,\n",
       "                    \"rgba(192, 58, 81, 1.000)\"\n",
       "                ],\n",
       "                [\n",
       "                    0.5176470588235295,\n",
       "                    \"rgba(193, 58, 80, 1.000)\"\n",
       "                ],\n",
       "                [\n",
       "                    0.5215686274509804,\n",
       "                    \"rgba(195, 59, 79, 1.000)\"\n",
       "                ],\n",
       "                [\n",
       "                    0.5254901960784314,\n",
       "                    \"rgba(196, 60, 78, 1.000)\"\n",
       "                ],\n",
       "                [\n",
       "                    0.5294117647058824,\n",
       "                    \"rgba(198, 61, 77, 1.000)\"\n",
       "                ],\n",
       "                [\n",
       "                    0.5333333333333333,\n",
       "                    \"rgba(199, 62, 76, 1.000)\"\n",
       "                ],\n",
       "                [\n",
       "                    0.5372549019607843,\n",
       "                    \"rgba(200, 63, 75, 1.000)\"\n",
       "                ],\n",
       "                [\n",
       "                    0.5411764705882353,\n",
       "                    \"rgba(202, 64, 74, 1.000)\"\n",
       "                ],\n",
       "                [\n",
       "                    0.5450980392156862,\n",
       "                    \"rgba(203, 65, 73, 1.000)\"\n",
       "                ],\n",
       "                [\n",
       "                    0.5490196078431373,\n",
       "                    \"rgba(204, 66, 72, 1.000)\"\n",
       "                ],\n",
       "                [\n",
       "                    0.5529411764705883,\n",
       "                    \"rgba(206, 67, 71, 1.000)\"\n",
       "                ],\n",
       "                [\n",
       "                    0.5568627450980392,\n",
       "                    \"rgba(207, 68, 70, 1.000)\"\n",
       "                ],\n",
       "                [\n",
       "                    0.5607843137254902,\n",
       "                    \"rgba(208, 69, 69, 1.000)\"\n",
       "                ],\n",
       "                [\n",
       "                    0.5647058823529412,\n",
       "                    \"rgba(210, 70, 68, 1.000)\"\n",
       "                ],\n",
       "                [\n",
       "                    0.5686274509803921,\n",
       "                    \"rgba(211, 71, 67, 1.000)\"\n",
       "                ],\n",
       "                [\n",
       "                    0.5725490196078431,\n",
       "                    \"rgba(212, 72, 66, 1.000)\"\n",
       "                ],\n",
       "                [\n",
       "                    0.5764705882352941,\n",
       "                    \"rgba(213, 74, 65, 1.000)\"\n",
       "                ],\n",
       "                [\n",
       "                    0.5803921568627451,\n",
       "                    \"rgba(215, 75, 63, 1.000)\"\n",
       "                ],\n",
       "                [\n",
       "                    0.5843137254901961,\n",
       "                    \"rgba(216, 76, 62, 1.000)\"\n",
       "                ],\n",
       "                [\n",
       "                    0.5882352941176471,\n",
       "                    \"rgba(217, 77, 61, 1.000)\"\n",
       "                ],\n",
       "                [\n",
       "                    0.592156862745098,\n",
       "                    \"rgba(218, 78, 60, 1.000)\"\n",
       "                ],\n",
       "                [\n",
       "                    0.596078431372549,\n",
       "                    \"rgba(219, 80, 59, 1.000)\"\n",
       "                ],\n",
       "                [\n",
       "                    0.6,\n",
       "                    \"rgba(221, 81, 58, 1.000)\"\n",
       "                ],\n",
       "                [\n",
       "                    0.6039215686274509,\n",
       "                    \"rgba(222, 82, 56, 1.000)\"\n",
       "                ],\n",
       "                [\n",
       "                    0.6078431372549019,\n",
       "                    \"rgba(223, 83, 55, 1.000)\"\n",
       "                ],\n",
       "                [\n",
       "                    0.611764705882353,\n",
       "                    \"rgba(224, 85, 54, 1.000)\"\n",
       "                ],\n",
       "                [\n",
       "                    0.615686274509804,\n",
       "                    \"rgba(225, 86, 53, 1.000)\"\n",
       "                ],\n",
       "                [\n",
       "                    0.6196078431372549,\n",
       "                    \"rgba(226, 87, 52, 1.000)\"\n",
       "                ],\n",
       "                [\n",
       "                    0.6235294117647059,\n",
       "                    \"rgba(227, 89, 51, 1.000)\"\n",
       "                ],\n",
       "                [\n",
       "                    0.6274509803921569,\n",
       "                    \"rgba(228, 90, 49, 1.000)\"\n",
       "                ],\n",
       "                [\n",
       "                    0.6313725490196078,\n",
       "                    \"rgba(229, 92, 48, 1.000)\"\n",
       "                ],\n",
       "                [\n",
       "                    0.6352941176470588,\n",
       "                    \"rgba(230, 93, 47, 1.000)\"\n",
       "                ],\n",
       "                [\n",
       "                    0.6392156862745098,\n",
       "                    \"rgba(231, 94, 46, 1.000)\"\n",
       "                ],\n",
       "                [\n",
       "                    0.6431372549019608,\n",
       "                    \"rgba(232, 96, 45, 1.000)\"\n",
       "                ],\n",
       "                [\n",
       "                    0.6470588235294118,\n",
       "                    \"rgba(233, 97, 43, 1.000)\"\n",
       "                ],\n",
       "                [\n",
       "                    0.6509803921568628,\n",
       "                    \"rgba(234, 99, 42, 1.000)\"\n",
       "                ],\n",
       "                [\n",
       "                    0.6549019607843137,\n",
       "                    \"rgba(235, 100, 41, 1.000)\"\n",
       "                ],\n",
       "                [\n",
       "                    0.6588235294117647,\n",
       "                    \"rgba(235, 102, 40, 1.000)\"\n",
       "                ],\n",
       "                [\n",
       "                    0.6627450980392157,\n",
       "                    \"rgba(236, 103, 38, 1.000)\"\n",
       "                ],\n",
       "                [\n",
       "                    0.6666666666666666,\n",
       "                    \"rgba(237, 105, 37, 1.000)\"\n",
       "                ],\n",
       "                [\n",
       "                    0.6705882352941176,\n",
       "                    \"rgba(238, 106, 36, 1.000)\"\n",
       "                ],\n",
       "                [\n",
       "                    0.6745098039215687,\n",
       "                    \"rgba(239, 108, 35, 1.000)\"\n",
       "                ],\n",
       "                [\n",
       "                    0.6784313725490196,\n",
       "                    \"rgba(239, 110, 33, 1.000)\"\n",
       "                ],\n",
       "                [\n",
       "                    0.6823529411764706,\n",
       "                    \"rgba(240, 111, 32, 1.000)\"\n",
       "                ],\n",
       "                [\n",
       "                    0.6862745098039216,\n",
       "                    \"rgba(241, 113, 31, 1.000)\"\n",
       "                ],\n",
       "                [\n",
       "                    0.6901960784313725,\n",
       "                    \"rgba(241, 115, 29, 1.000)\"\n",
       "                ],\n",
       "                [\n",
       "                    0.6941176470588235,\n",
       "                    \"rgba(242, 116, 28, 1.000)\"\n",
       "                ],\n",
       "                [\n",
       "                    0.6980392156862745,\n",
       "                    \"rgba(243, 118, 27, 1.000)\"\n",
       "                ],\n",
       "                [\n",
       "                    0.7019607843137254,\n",
       "                    \"rgba(243, 120, 25, 1.000)\"\n",
       "                ],\n",
       "                [\n",
       "                    0.7058823529411765,\n",
       "                    \"rgba(244, 121, 24, 1.000)\"\n",
       "                ],\n",
       "                [\n",
       "                    0.7098039215686275,\n",
       "                    \"rgba(245, 123, 23, 1.000)\"\n",
       "                ],\n",
       "                [\n",
       "                    0.7137254901960784,\n",
       "                    \"rgba(245, 125, 21, 1.000)\"\n",
       "                ],\n",
       "                [\n",
       "                    0.7176470588235294,\n",
       "                    \"rgba(246, 126, 20, 1.000)\"\n",
       "                ],\n",
       "                [\n",
       "                    0.7215686274509804,\n",
       "                    \"rgba(246, 128, 19, 1.000)\"\n",
       "                ],\n",
       "                [\n",
       "                    0.7254901960784313,\n",
       "                    \"rgba(247, 130, 18, 1.000)\"\n",
       "                ],\n",
       "                [\n",
       "                    0.7294117647058823,\n",
       "                    \"rgba(247, 132, 16, 1.000)\"\n",
       "                ],\n",
       "                [\n",
       "                    0.7333333333333333,\n",
       "                    \"rgba(248, 133, 15, 1.000)\"\n",
       "                ],\n",
       "                [\n",
       "                    0.7372549019607844,\n",
       "                    \"rgba(248, 135, 14, 1.000)\"\n",
       "                ],\n",
       "                [\n",
       "                    0.7411764705882353,\n",
       "                    \"rgba(248, 137, 12, 1.000)\"\n",
       "                ],\n",
       "                [\n",
       "                    0.7450980392156863,\n",
       "                    \"rgba(249, 139, 11, 1.000)\"\n",
       "                ],\n",
       "                [\n",
       "                    0.7490196078431373,\n",
       "                    \"rgba(249, 140, 10, 1.000)\"\n",
       "                ],\n",
       "                [\n",
       "                    0.7529411764705882,\n",
       "                    \"rgba(249, 142, 9, 1.000)\"\n",
       "                ],\n",
       "                [\n",
       "                    0.7568627450980392,\n",
       "                    \"rgba(250, 144, 8, 1.000)\"\n",
       "                ],\n",
       "                [\n",
       "                    0.7607843137254902,\n",
       "                    \"rgba(250, 146, 7, 1.000)\"\n",
       "                ],\n",
       "                [\n",
       "                    0.7647058823529411,\n",
       "                    \"rgba(250, 148, 7, 1.000)\"\n",
       "                ],\n",
       "                [\n",
       "                    0.7686274509803922,\n",
       "                    \"rgba(251, 150, 6, 1.000)\"\n",
       "                ],\n",
       "                [\n",
       "                    0.7725490196078432,\n",
       "                    \"rgba(251, 151, 6, 1.000)\"\n",
       "                ],\n",
       "                [\n",
       "                    0.7764705882352941,\n",
       "                    \"rgba(251, 153, 6, 1.000)\"\n",
       "                ],\n",
       "                [\n",
       "                    0.7803921568627451,\n",
       "                    \"rgba(251, 155, 6, 1.000)\"\n",
       "                ],\n",
       "                [\n",
       "                    0.7843137254901961,\n",
       "                    \"rgba(251, 157, 7, 1.000)\"\n",
       "                ],\n",
       "                [\n",
       "                    0.788235294117647,\n",
       "                    \"rgba(252, 159, 7, 1.000)\"\n",
       "                ],\n",
       "                [\n",
       "                    0.792156862745098,\n",
       "                    \"rgba(252, 161, 8, 1.000)\"\n",
       "                ],\n",
       "                [\n",
       "                    0.796078431372549,\n",
       "                    \"rgba(252, 163, 9, 1.000)\"\n",
       "                ],\n",
       "                [\n",
       "                    0.8,\n",
       "                    \"rgba(252, 165, 10, 1.000)\"\n",
       "                ],\n",
       "                [\n",
       "                    0.803921568627451,\n",
       "                    \"rgba(252, 166, 12, 1.000)\"\n",
       "                ],\n",
       "                [\n",
       "                    0.807843137254902,\n",
       "                    \"rgba(252, 168, 13, 1.000)\"\n",
       "                ],\n",
       "                [\n",
       "                    0.8117647058823529,\n",
       "                    \"rgba(252, 170, 15, 1.000)\"\n",
       "                ],\n",
       "                [\n",
       "                    0.8156862745098039,\n",
       "                    \"rgba(252, 172, 17, 1.000)\"\n",
       "                ],\n",
       "                [\n",
       "                    0.8196078431372549,\n",
       "                    \"rgba(252, 174, 18, 1.000)\"\n",
       "                ],\n",
       "                [\n",
       "                    0.8235294117647058,\n",
       "                    \"rgba(252, 176, 20, 1.000)\"\n",
       "                ],\n",
       "                [\n",
       "                    0.8274509803921568,\n",
       "                    \"rgba(252, 178, 22, 1.000)\"\n",
       "                ],\n",
       "                [\n",
       "                    0.8313725490196079,\n",
       "                    \"rgba(252, 180, 24, 1.000)\"\n",
       "                ],\n",
       "                [\n",
       "                    0.8352941176470589,\n",
       "                    \"rgba(251, 182, 26, 1.000)\"\n",
       "                ],\n",
       "                [\n",
       "                    0.8392156862745098,\n",
       "                    \"rgba(251, 184, 29, 1.000)\"\n",
       "                ],\n",
       "                [\n",
       "                    0.8431372549019608,\n",
       "                    \"rgba(251, 186, 31, 1.000)\"\n",
       "                ],\n",
       "                [\n",
       "                    0.8470588235294118,\n",
       "                    \"rgba(251, 188, 33, 1.000)\"\n",
       "                ],\n",
       "                [\n",
       "                    0.8509803921568627,\n",
       "                    \"rgba(251, 190, 35, 1.000)\"\n",
       "                ],\n",
       "                [\n",
       "                    0.8549019607843137,\n",
       "                    \"rgba(250, 192, 38, 1.000)\"\n",
       "                ],\n",
       "                [\n",
       "                    0.8588235294117647,\n",
       "                    \"rgba(250, 194, 40, 1.000)\"\n",
       "                ],\n",
       "                [\n",
       "                    0.8627450980392157,\n",
       "                    \"rgba(250, 196, 42, 1.000)\"\n",
       "                ],\n",
       "                [\n",
       "                    0.8666666666666667,\n",
       "                    \"rgba(250, 198, 45, 1.000)\"\n",
       "                ],\n",
       "                [\n",
       "                    0.8705882352941177,\n",
       "                    \"rgba(249, 199, 47, 1.000)\"\n",
       "                ],\n",
       "                [\n",
       "                    0.8745098039215686,\n",
       "                    \"rgba(249, 201, 50, 1.000)\"\n",
       "                ],\n",
       "                [\n",
       "                    0.8784313725490196,\n",
       "                    \"rgba(249, 203, 53, 1.000)\"\n",
       "                ],\n",
       "                [\n",
       "                    0.8823529411764706,\n",
       "                    \"rgba(248, 205, 55, 1.000)\"\n",
       "                ],\n",
       "                [\n",
       "                    0.8862745098039215,\n",
       "                    \"rgba(248, 207, 58, 1.000)\"\n",
       "                ],\n",
       "                [\n",
       "                    0.8901960784313725,\n",
       "                    \"rgba(247, 209, 61, 1.000)\"\n",
       "                ],\n",
       "                [\n",
       "                    0.8941176470588236,\n",
       "                    \"rgba(247, 211, 64, 1.000)\"\n",
       "                ],\n",
       "                [\n",
       "                    0.8980392156862745,\n",
       "                    \"rgba(246, 213, 67, 1.000)\"\n",
       "                ],\n",
       "                [\n",
       "                    0.9019607843137255,\n",
       "                    \"rgba(246, 215, 70, 1.000)\"\n",
       "                ],\n",
       "                [\n",
       "                    0.9058823529411765,\n",
       "                    \"rgba(245, 217, 73, 1.000)\"\n",
       "                ],\n",
       "                [\n",
       "                    0.9098039215686274,\n",
       "                    \"rgba(245, 219, 76, 1.000)\"\n",
       "                ],\n",
       "                [\n",
       "                    0.9137254901960784,\n",
       "                    \"rgba(244, 221, 79, 1.000)\"\n",
       "                ],\n",
       "                [\n",
       "                    0.9176470588235294,\n",
       "                    \"rgba(244, 223, 83, 1.000)\"\n",
       "                ],\n",
       "                [\n",
       "                    0.9215686274509803,\n",
       "                    \"rgba(244, 225, 86, 1.000)\"\n",
       "                ],\n",
       "                [\n",
       "                    0.9254901960784314,\n",
       "                    \"rgba(243, 227, 90, 1.000)\"\n",
       "                ],\n",
       "                [\n",
       "                    0.9294117647058824,\n",
       "                    \"rgba(243, 229, 93, 1.000)\"\n",
       "                ],\n",
       "                [\n",
       "                    0.9333333333333333,\n",
       "                    \"rgba(242, 230, 97, 1.000)\"\n",
       "                ],\n",
       "                [\n",
       "                    0.9372549019607843,\n",
       "                    \"rgba(242, 232, 101, 1.000)\"\n",
       "                ],\n",
       "                [\n",
       "                    0.9411764705882353,\n",
       "                    \"rgba(242, 234, 105, 1.000)\"\n",
       "                ],\n",
       "                [\n",
       "                    0.9450980392156862,\n",
       "                    \"rgba(241, 236, 109, 1.000)\"\n",
       "                ],\n",
       "                [\n",
       "                    0.9490196078431372,\n",
       "                    \"rgba(241, 237, 113, 1.000)\"\n",
       "                ],\n",
       "                [\n",
       "                    0.9529411764705882,\n",
       "                    \"rgba(241, 239, 117, 1.000)\"\n",
       "                ],\n",
       "                [\n",
       "                    0.9568627450980393,\n",
       "                    \"rgba(241, 241, 121, 1.000)\"\n",
       "                ],\n",
       "                [\n",
       "                    0.9607843137254902,\n",
       "                    \"rgba(242, 242, 125, 1.000)\"\n",
       "                ],\n",
       "                [\n",
       "                    0.9647058823529412,\n",
       "                    \"rgba(242, 244, 130, 1.000)\"\n",
       "                ],\n",
       "                [\n",
       "                    0.9686274509803922,\n",
       "                    \"rgba(243, 245, 134, 1.000)\"\n",
       "                ],\n",
       "                [\n",
       "                    0.9725490196078431,\n",
       "                    \"rgba(243, 246, 138, 1.000)\"\n",
       "                ],\n",
       "                [\n",
       "                    0.9764705882352941,\n",
       "                    \"rgba(244, 248, 142, 1.000)\"\n",
       "                ],\n",
       "                [\n",
       "                    0.9803921568627451,\n",
       "                    \"rgba(245, 249, 146, 1.000)\"\n",
       "                ],\n",
       "                [\n",
       "                    0.984313725490196,\n",
       "                    \"rgba(246, 250, 150, 1.000)\"\n",
       "                ],\n",
       "                [\n",
       "                    0.9882352941176471,\n",
       "                    \"rgba(248, 251, 154, 1.000)\"\n",
       "                ],\n",
       "                [\n",
       "                    0.9921568627450981,\n",
       "                    \"rgba(249, 252, 157, 1.000)\"\n",
       "                ],\n",
       "                [\n",
       "                    0.996078431372549,\n",
       "                    \"rgba(250, 253, 161, 1.000)\"\n",
       "                ],\n",
       "                [\n",
       "                    1.0,\n",
       "                    \"rgba(252, 255, 164, 1.000)\"\n",
       "                ]\n",
       "            ],\n",
       "            \"cmax\": 6.339465910901892e200,\n",
       "            \"showscale\": false\n",
       "        },\n",
       "        \"zmax\": 6.339465910901892e200,\n",
       "        \"y\": [\n",
       "            1\n",
       "        ],\n",
       "        \"type\": \"scatter\",\n",
       "        \"hoverinfo\": \"none\"\n",
       "    }\n",
       "]\n",
       ", {\n",
       "    \"showlegend\": false,\n",
       "    \"xaxis\": {\n",
       "        \"showticklabels\": true,\n",
       "        \"gridwidth\": 0.5,\n",
       "        \"tickvals\": [\n",
       "            2.0,\n",
       "            4.0,\n",
       "            6.0,\n",
       "            8.0,\n",
       "            10.0\n",
       "        ],\n",
       "        \"range\": [\n",
       "            0.73,\n",
       "            10.27\n",
       "        ],\n",
       "        \"domain\": [\n",
       "            0.40051035287255765,\n",
       "            0.629119276757072\n",
       "        ],\n",
       "        \"mirror\": false,\n",
       "        \"tickangle\": 0,\n",
       "        \"showline\": true,\n",
       "        \"ticktext\": [\n",
       "            \"2\",\n",
       "            \"4\",\n",
       "            \"6\",\n",
       "            \"8\",\n",
       "            \"10\"\n",
       "        ],\n",
       "        \"zeroline\": false,\n",
       "        \"tickfont\": {\n",
       "            \"color\": \"rgba(0, 0, 0, 1.000)\",\n",
       "            \"family\": \"sans-serif\",\n",
       "            \"size\": 11\n",
       "        },\n",
       "        \"zerolinecolor\": \"rgba(0, 0, 0, 1.000)\",\n",
       "        \"anchor\": \"y\",\n",
       "        \"visible\": true,\n",
       "        \"ticks\": \"inside\",\n",
       "        \"tickmode\": \"array\",\n",
       "        \"linecolor\": \"rgba(0, 0, 0, 1.000)\",\n",
       "        \"showgrid\": false,\n",
       "        \"title\": \"\",\n",
       "        \"gridcolor\": \"rgba(0, 0, 0, 0.100)\",\n",
       "        \"titlefont\": {\n",
       "            \"color\": \"rgba(0, 0, 0, 1.000)\",\n",
       "            \"family\": \"sans-serif\",\n",
       "            \"size\": 15\n",
       "        },\n",
       "        \"tickcolor\": \"rgb(0, 0, 0)\",\n",
       "        \"type\": \"-\"\n",
       "    },\n",
       "    \"paper_bgcolor\": \"rgba(255, 255, 255, 1.000)\",\n",
       "    \"annotations\": [],\n",
       "    \"height\": 400,\n",
       "    \"margin\": {\n",
       "        \"l\": 0,\n",
       "        \"b\": 20,\n",
       "        \"r\": 0,\n",
       "        \"t\": 20\n",
       "    },\n",
       "    \"plot_bgcolor\": \"rgba(255, 255, 255, 1.000)\",\n",
       "    \"yaxis\": {\n",
       "        \"showticklabels\": true,\n",
       "        \"gridwidth\": 0.5,\n",
       "        \"tickvals\": [\n",
       "            5.0,\n",
       "            10.0,\n",
       "            15.0,\n",
       "            20.0,\n",
       "            25.0\n",
       "        ],\n",
       "        \"range\": [\n",
       "            26.75,\n",
       "            0.25\n",
       "        ],\n",
       "        \"domain\": [\n",
       "            0.03762029746281716,\n",
       "            0.9901574803149606\n",
       "        ],\n",
       "        \"mirror\": false,\n",
       "        \"tickangle\": 0,\n",
       "        \"showline\": true,\n",
       "        \"ticktext\": [\n",
       "            \"5\",\n",
       "            \"10\",\n",
       "            \"15\",\n",
       "            \"20\",\n",
       "            \"25\"\n",
       "        ],\n",
       "        \"zeroline\": false,\n",
       "        \"tickfont\": {\n",
       "            \"color\": \"rgba(0, 0, 0, 1.000)\",\n",
       "            \"family\": \"sans-serif\",\n",
       "            \"size\": 11\n",
       "        },\n",
       "        \"zerolinecolor\": \"rgba(0, 0, 0, 1.000)\",\n",
       "        \"anchor\": \"x\",\n",
       "        \"visible\": true,\n",
       "        \"ticks\": \"inside\",\n",
       "        \"tickmode\": \"array\",\n",
       "        \"linecolor\": \"rgba(0, 0, 0, 1.000)\",\n",
       "        \"showgrid\": false,\n",
       "        \"title\": \"\",\n",
       "        \"gridcolor\": \"rgba(0, 0, 0, 0.100)\",\n",
       "        \"titlefont\": {\n",
       "            \"color\": \"rgba(0, 0, 0, 1.000)\",\n",
       "            \"family\": \"sans-serif\",\n",
       "            \"size\": 15\n",
       "        },\n",
       "        \"tickcolor\": \"rgb(0, 0, 0)\",\n",
       "        \"type\": \"-\"\n",
       "    },\n",
       "    \"width\": 600\n",
       "}\n",
       ");\n",
       "\n",
       "    });\n",
       "    </script>\n",
       "\n",
       "    </body>\n",
       "</html>\n"
      ]
     },
     "execution_count": 42,
     "metadata": {},
     "output_type": "execute_result"
    }
   ],
   "source": [
    "# Solve and plot!\n",
    "\n",
    "# initial coundition\n",
    "a = Any[1., 2., 3., 4., 5., 6., 7., 8. ,9., 10.]\n",
    "u0 = convert(Array{Float64,1}, a) \n",
    "\n",
    "\n",
    "# boundary condition\n",
    "xs = Any[1.0, 1.0, 1.0, 1.0, 1.0, 1.0, 1.0, 1.0, 1.0, 1.0, 1.0, 1.0, 1.0, 1.0, 1.0, 1.0, 1.0, 1.0, 1.0, 1.0, 0.0, 0.0]\n",
    "xs = convert(Array{Float64,1}, xs)\n",
    "\n",
    "\n",
    "# parameters\n",
    "P = 9e6; # load, N\n",
    "E = 5e6 # Young's modulus, N/m^2\n",
    "I = 1/12 # second moment of area, m^4\n",
    "\n",
    "length = 10 # beam length, m\n",
    "gamma = P/(6*E*I) # just used to collect all the constants in one variable aside from length\n",
    "\n",
    "params = LVector(γ = gamma, L = length)\n",
    "nsteps = 25\n",
    "\n",
    "# find the trajectory\n",
    "traj = trajectory(displacement_eq, u0, xs, params, nsteps)\n",
    "spy(Matrix(traj), legend = nothing)\n",
    "\n",
    "# matshow(Matrix(traj))\n",
    "# #save plot as PNG\n",
    "# png(\"C:\\\\Users\\mgatlin3\\GitHub\\AlgebraicDynamics.jl\\notebooks\\matshow_traj\")"
   ]
  },
  {
   "cell_type": "code",
   "execution_count": 15,
   "id": "cb345e40",
   "metadata": {
    "scrolled": true
   },
   "outputs": [
    {
     "data": {
      "application/vnd.plotly.v1+json": {
       "data": [
        {
         "colorbar": {
          "title": ""
         },
         "legendgroup": "first timestep",
         "line": {
          "color": "rgba(0, 154, 250, 1.000)",
          "dash": "solid",
          "shape": "linear",
          "width": 3
         },
         "mode": "lines",
         "name": "first timestep",
         "showlegend": true,
         "type": "scatter",
         "x": [
          1,
          2,
          3,
          4,
          5,
          6,
          7,
          8,
          9,
          10
         ],
         "xaxis": "x",
         "y": [
          -104.4,
          -298.79999999999995,
          -471.59999999999997,
          -622.8000000000002,
          -752.3999999999999,
          -860.3999999999996,
          -946.8000000000006,
          -1011.5999999999999,
          -1054.8000000000002,
          -1076.3999999999996
         ],
         "yaxis": "y",
         "zmax": null,
         "zmin": null
        }
       ],
       "layout": {
        "annotations": [],
        "height": 400,
        "legend": {
         "bgcolor": "rgba(255, 255, 255, 1.000)",
         "bordercolor": "rgba(0, 0, 0, 1.000)",
         "borderwidth": 1,
         "font": {
          "color": "rgba(0, 0, 0, 1.000)",
          "family": "sans-serif",
          "size": 11
         },
         "title": {
          "font": {
           "color": "rgba(0, 0, 0, 1.000)",
           "family": "sans-serif",
           "size": 15
          },
          "text": ""
         },
         "tracegroupgap": 0,
         "traceorder": "normal",
         "x": 1,
         "xanchor": "auto",
         "y": 1,
         "yanchor": "auto"
        },
        "margin": {
         "b": 20,
         "l": 0,
         "r": 0,
         "t": 20
        },
        "paper_bgcolor": "rgba(255, 255, 255, 1.000)",
        "plot_bgcolor": "rgba(255, 255, 255, 1.000)",
        "showlegend": true,
        "width": 600,
        "xaxis": {
         "anchor": "y",
         "domain": [
          0.10609871682706327,
          0.9934383202099737
         ],
         "gridcolor": "rgba(0, 0, 0, 0.100)",
         "gridwidth": 0.5,
         "linecolor": "rgba(0, 0, 0, 1.000)",
         "mirror": false,
         "range": [
          0.73,
          10.27
         ],
         "showgrid": true,
         "showline": true,
         "showticklabels": true,
         "tickangle": 0,
         "tickcolor": "rgb(0, 0, 0)",
         "tickfont": {
          "color": "rgba(0, 0, 0, 1.000)",
          "family": "sans-serif",
          "size": 11
         },
         "tickmode": "array",
         "ticks": "inside",
         "ticktext": [
          "2",
          "4",
          "6",
          "8",
          "10"
         ],
         "tickvals": [
          2,
          4,
          6,
          8,
          10
         ],
         "title": "longitudinal beam axis",
         "titlefont": {
          "color": "rgba(0, 0, 0, 1.000)",
          "family": "sans-serif",
          "size": 15
         },
         "type": "-",
         "visible": true,
         "zeroline": false,
         "zerolinecolor": "rgba(0, 0, 0, 1.000)"
        },
        "yaxis": {
         "anchor": "x",
         "domain": [
          0.07581474190726165,
          0.9901574803149606
         ],
         "gridcolor": "rgba(0, 0, 0, 0.100)",
         "gridwidth": 0.5,
         "linecolor": "rgba(0, 0, 0, 1.000)",
         "mirror": false,
         "range": [
          -1105.5599999999997,
          -75.24000000000001
         ],
         "showgrid": true,
         "showline": true,
         "showticklabels": true,
         "tickangle": 0,
         "tickcolor": "rgb(0, 0, 0)",
         "tickfont": {
          "color": "rgba(0, 0, 0, 1.000)",
          "family": "sans-serif",
          "size": 11
         },
         "tickmode": "array",
         "ticks": "inside",
         "ticktext": [
          "−1000",
          "−800",
          "−600",
          "−400",
          "−200"
         ],
         "tickvals": [
          -1000,
          -800,
          -600,
          -400,
          -200
         ],
         "title": "beam displacement",
         "titlefont": {
          "color": "rgba(0, 0, 0, 1.000)",
          "family": "sans-serif",
          "size": 15
         },
         "type": "-",
         "visible": true,
         "zeroline": false,
         "zerolinecolor": "rgba(0, 0, 0, 1.000)"
        }
       }
      },
      "text/html": [
       "<!DOCTYPE html>\n",
       "<html>\n",
       "    <head>\n",
       "        <title>Plots.jl</title>\n",
       "        <meta http-equiv=\"content-type\" content=\"text/html; charset=UTF-8\">\n",
       "        \n",
       "    </head>\n",
       "    <body>\n",
       "            <div id=\"0a5a6e5d-419b-4fe1-ba23-dd675e0b8257\" style=\"width:600px;height:400px;\"></div>\n",
       "    <script>\n",
       "        requirejs.config({\n",
       "        paths: {\n",
       "            Plotly: 'https://cdn.plot.ly/plotly-1.57.1.min'\n",
       "        }\n",
       "    });\n",
       "    require(['Plotly'], function (Plotly) {\n",
       "\n",
       "        var PLOT = document.getElementById('0a5a6e5d-419b-4fe1-ba23-dd675e0b8257');\n",
       "    Plotly.plot(PLOT, [\n",
       "    {\n",
       "        \"xaxis\": \"x\",\n",
       "        \"colorbar\": {\n",
       "            \"title\": \"\"\n",
       "        },\n",
       "        \"yaxis\": \"y\",\n",
       "        \"x\": [\n",
       "            1,\n",
       "            2,\n",
       "            3,\n",
       "            4,\n",
       "            5,\n",
       "            6,\n",
       "            7,\n",
       "            8,\n",
       "            9,\n",
       "            10\n",
       "        ],\n",
       "        \"showlegend\": true,\n",
       "        \"mode\": \"lines\",\n",
       "        \"name\": \"first timestep\",\n",
       "        \"zmin\": null,\n",
       "        \"legendgroup\": \"first timestep\",\n",
       "        \"zmax\": null,\n",
       "        \"line\": {\n",
       "            \"color\": \"rgba(0, 154, 250, 1.000)\",\n",
       "            \"shape\": \"linear\",\n",
       "            \"dash\": \"solid\",\n",
       "            \"width\": 3\n",
       "        },\n",
       "        \"y\": [\n",
       "            -104.4,\n",
       "            -298.79999999999995,\n",
       "            -471.59999999999997,\n",
       "            -622.8000000000002,\n",
       "            -752.3999999999999,\n",
       "            -860.3999999999996,\n",
       "            -946.8000000000006,\n",
       "            -1011.5999999999999,\n",
       "            -1054.8000000000002,\n",
       "            -1076.3999999999996\n",
       "        ],\n",
       "        \"type\": \"scatter\"\n",
       "    }\n",
       "]\n",
       ", {\n",
       "    \"showlegend\": true,\n",
       "    \"xaxis\": {\n",
       "        \"showticklabels\": true,\n",
       "        \"gridwidth\": 0.5,\n",
       "        \"tickvals\": [\n",
       "            2.0,\n",
       "            4.0,\n",
       "            6.0,\n",
       "            8.0,\n",
       "            10.0\n",
       "        ],\n",
       "        \"range\": [\n",
       "            0.73,\n",
       "            10.27\n",
       "        ],\n",
       "        \"domain\": [\n",
       "            0.10609871682706327,\n",
       "            0.9934383202099737\n",
       "        ],\n",
       "        \"mirror\": false,\n",
       "        \"tickangle\": 0,\n",
       "        \"showline\": true,\n",
       "        \"ticktext\": [\n",
       "            \"2\",\n",
       "            \"4\",\n",
       "            \"6\",\n",
       "            \"8\",\n",
       "            \"10\"\n",
       "        ],\n",
       "        \"zeroline\": false,\n",
       "        \"tickfont\": {\n",
       "            \"color\": \"rgba(0, 0, 0, 1.000)\",\n",
       "            \"family\": \"sans-serif\",\n",
       "            \"size\": 11\n",
       "        },\n",
       "        \"zerolinecolor\": \"rgba(0, 0, 0, 1.000)\",\n",
       "        \"anchor\": \"y\",\n",
       "        \"visible\": true,\n",
       "        \"ticks\": \"inside\",\n",
       "        \"tickmode\": \"array\",\n",
       "        \"linecolor\": \"rgba(0, 0, 0, 1.000)\",\n",
       "        \"showgrid\": true,\n",
       "        \"title\": \"longitudinal beam axis\",\n",
       "        \"gridcolor\": \"rgba(0, 0, 0, 0.100)\",\n",
       "        \"titlefont\": {\n",
       "            \"color\": \"rgba(0, 0, 0, 1.000)\",\n",
       "            \"family\": \"sans-serif\",\n",
       "            \"size\": 15\n",
       "        },\n",
       "        \"tickcolor\": \"rgb(0, 0, 0)\",\n",
       "        \"type\": \"-\"\n",
       "    },\n",
       "    \"paper_bgcolor\": \"rgba(255, 255, 255, 1.000)\",\n",
       "    \"annotations\": [],\n",
       "    \"height\": 400,\n",
       "    \"margin\": {\n",
       "        \"l\": 0,\n",
       "        \"b\": 20,\n",
       "        \"r\": 0,\n",
       "        \"t\": 20\n",
       "    },\n",
       "    \"plot_bgcolor\": \"rgba(255, 255, 255, 1.000)\",\n",
       "    \"yaxis\": {\n",
       "        \"showticklabels\": true,\n",
       "        \"gridwidth\": 0.5,\n",
       "        \"tickvals\": [\n",
       "            -1000.0,\n",
       "            -800.0,\n",
       "            -600.0,\n",
       "            -400.0,\n",
       "            -200.0\n",
       "        ],\n",
       "        \"range\": [\n",
       "            -1105.5599999999997,\n",
       "            -75.24000000000001\n",
       "        ],\n",
       "        \"domain\": [\n",
       "            0.07581474190726165,\n",
       "            0.9901574803149606\n",
       "        ],\n",
       "        \"mirror\": false,\n",
       "        \"tickangle\": 0,\n",
       "        \"showline\": true,\n",
       "        \"ticktext\": [\n",
       "            \"−1000\",\n",
       "            \"−800\",\n",
       "            \"−600\",\n",
       "            \"−400\",\n",
       "            \"−200\"\n",
       "        ],\n",
       "        \"zeroline\": false,\n",
       "        \"tickfont\": {\n",
       "            \"color\": \"rgba(0, 0, 0, 1.000)\",\n",
       "            \"family\": \"sans-serif\",\n",
       "            \"size\": 11\n",
       "        },\n",
       "        \"zerolinecolor\": \"rgba(0, 0, 0, 1.000)\",\n",
       "        \"anchor\": \"x\",\n",
       "        \"visible\": true,\n",
       "        \"ticks\": \"inside\",\n",
       "        \"tickmode\": \"array\",\n",
       "        \"linecolor\": \"rgba(0, 0, 0, 1.000)\",\n",
       "        \"showgrid\": true,\n",
       "        \"title\": \"beam displacement\",\n",
       "        \"gridcolor\": \"rgba(0, 0, 0, 0.100)\",\n",
       "        \"titlefont\": {\n",
       "            \"color\": \"rgba(0, 0, 0, 1.000)\",\n",
       "            \"family\": \"sans-serif\",\n",
       "            \"size\": 15\n",
       "        },\n",
       "        \"tickcolor\": \"rgb(0, 0, 0)\",\n",
       "        \"type\": \"-\"\n",
       "    },\n",
       "    \"legend\": {\n",
       "        \"yanchor\": \"auto\",\n",
       "        \"xanchor\": \"auto\",\n",
       "        \"bordercolor\": \"rgba(0, 0, 0, 1.000)\",\n",
       "        \"bgcolor\": \"rgba(255, 255, 255, 1.000)\",\n",
       "        \"borderwidth\": 1,\n",
       "        \"tracegroupgap\": 0,\n",
       "        \"y\": 1.0,\n",
       "        \"font\": {\n",
       "            \"color\": \"rgba(0, 0, 0, 1.000)\",\n",
       "            \"family\": \"sans-serif\",\n",
       "            \"size\": 11\n",
       "        },\n",
       "        \"title\": {\n",
       "            \"font\": {\n",
       "                \"color\": \"rgba(0, 0, 0, 1.000)\",\n",
       "                \"family\": \"sans-serif\",\n",
       "                \"size\": 15\n",
       "            },\n",
       "            \"text\": \"\"\n",
       "        },\n",
       "        \"traceorder\": \"normal\",\n",
       "        \"x\": 1.0\n",
       "    },\n",
       "    \"width\": 600\n",
       "}\n",
       ");\n",
       "\n",
       "    });\n",
       "    </script>\n",
       "\n",
       "    </body>\n",
       "</html>\n"
      ]
     },
     "execution_count": 15,
     "metadata": {},
     "output_type": "execute_result"
    }
   ],
   "source": [
    "plot(traj[:2], label = \"first timestep\", linewidth=3)\n",
    "\n",
    "xlabel!(\"longitudinal beam axis\")\n",
    "ylabel!(\"beam displacement\")"
   ]
  },
  {
   "cell_type": "code",
   "execution_count": 70,
   "id": "fc702676",
   "metadata": {},
   "outputs": [
    {
     "data": {
      "application/vnd.plotly.v1+json": {
       "data": [
        {
         "colorbar": {
          "title": ""
         },
         "legendgroup": "second timestep",
         "line": {
          "color": "rgba(0, 154, 250, 1.000)",
          "dash": "solid",
          "shape": "linear",
          "width": 3
         },
         "mode": "lines",
         "name": "second timestep",
         "showlegend": true,
         "type": "scatter",
         "x": [
          1,
          2,
          3,
          4,
          5,
          6,
          7,
          8,
          9,
          10
         ],
         "xaxis": "x",
         "y": [
          50512.896,
          516497.4719999999,
          1712570.6879999998,
          3372591.168000001,
          5269810.752000001,
          7207714.367999992,
          9020020.032000002,
          10570678.848000009,
          11753875.007999996,
          12494025.792000035
         ],
         "yaxis": "y",
         "zmax": null,
         "zmin": null
        }
       ],
       "layout": {
        "annotations": [],
        "height": 400,
        "legend": {
         "bgcolor": "rgba(255, 255, 255, 1.000)",
         "bordercolor": "rgba(0, 0, 0, 1.000)",
         "borderwidth": 1,
         "font": {
          "color": "rgba(0, 0, 0, 1.000)",
          "family": "sans-serif",
          "size": 11
         },
         "title": {
          "font": {
           "color": "rgba(0, 0, 0, 1.000)",
           "family": "sans-serif",
           "size": 15
          },
          "text": ""
         },
         "tracegroupgap": 0,
         "traceorder": "normal",
         "x": 1,
         "xanchor": "auto",
         "y": 1,
         "yanchor": "auto"
        },
        "margin": {
         "b": 20,
         "l": 0,
         "r": 0,
         "t": 20
        },
        "paper_bgcolor": "rgba(255, 255, 255, 1.000)",
        "plot_bgcolor": "rgba(255, 255, 255, 1.000)",
        "showlegend": true,
        "width": 600,
        "xaxis": {
         "anchor": "y",
         "domain": [
          0.31350612423447066,
          0.9934383202099737
         ],
         "gridcolor": "rgba(0, 0, 0, 0.100)",
         "gridwidth": 0.5,
         "linecolor": "rgba(0, 0, 0, 1.000)",
         "mirror": false,
         "range": [
          0.73,
          10.27
         ],
         "showgrid": true,
         "showline": true,
         "showticklabels": true,
         "tickangle": 0,
         "tickcolor": "rgb(0, 0, 0)",
         "tickfont": {
          "color": "rgba(0, 0, 0, 1.000)",
          "family": "sans-serif",
          "size": 11
         },
         "tickmode": "array",
         "ticks": "inside",
         "ticktext": [
          "2",
          "4",
          "6",
          "8",
          "10"
         ],
         "tickvals": [
          2,
          4,
          6,
          8,
          10
         ],
         "title": "longitudinal beam axis",
         "titlefont": {
          "color": "rgba(0, 0, 0, 1.000)",
          "family": "sans-serif",
          "size": 15
         },
         "type": "-",
         "visible": true,
         "zeroline": false,
         "zerolinecolor": "rgba(0, 0, 0, 1.000)"
        },
        "yaxis": {
         "anchor": "x",
         "domain": [
          0.07581474190726165,
          0.9901574803149606
         ],
         "gridcolor": "rgba(0, 0, 0, 0.100)",
         "gridwidth": 0.5,
         "linecolor": "rgba(0, 0, 0, 1.000)",
         "mirror": false,
         "range": [
          -322792.49088000105,
          12867331.178880036
         ],
         "showgrid": true,
         "showline": true,
         "showticklabels": true,
         "tickangle": 0,
         "tickcolor": "rgb(0, 0, 0)",
         "tickfont": {
          "color": "rgba(0, 0, 0, 1.000)",
          "family": "sans-serif",
          "size": 11
         },
         "tickmode": "array",
         "ticks": "inside",
         "ticktext": [
          "0",
          "2.00×10<sup>6</sup>",
          "4.00×10<sup>6</sup>",
          "6.00×10<sup>6</sup>",
          "8.00×10<sup>6</sup>",
          "1.00×10<sup>7</sup>",
          "1.20×10<sup>7</sup>"
         ],
         "tickvals": [
          0,
          2000000,
          4000000,
          6000000,
          8000000,
          10000000,
          12000000
         ],
         "title": "beam displacement",
         "titlefont": {
          "color": "rgba(0, 0, 0, 1.000)",
          "family": "sans-serif",
          "size": 15
         },
         "type": "-",
         "visible": true,
         "zeroline": false,
         "zerolinecolor": "rgba(0, 0, 0, 1.000)"
        }
       }
      },
      "text/html": [
       "<!DOCTYPE html>\n",
       "<html>\n",
       "    <head>\n",
       "        <title>Plots.jl</title>\n",
       "        <meta http-equiv=\"content-type\" content=\"text/html; charset=UTF-8\">\n",
       "        \n",
       "    </head>\n",
       "    <body>\n",
       "            <div id=\"6686eeaa-d144-4068-9a3e-4ea349fc2295\" style=\"width:600px;height:400px;\"></div>\n",
       "    <script>\n",
       "        requirejs.config({\n",
       "        paths: {\n",
       "            Plotly: 'https://cdn.plot.ly/plotly-1.57.1.min'\n",
       "        }\n",
       "    });\n",
       "    require(['Plotly'], function (Plotly) {\n",
       "\n",
       "        var PLOT = document.getElementById('6686eeaa-d144-4068-9a3e-4ea349fc2295');\n",
       "    Plotly.plot(PLOT, [\n",
       "    {\n",
       "        \"xaxis\": \"x\",\n",
       "        \"colorbar\": {\n",
       "            \"title\": \"\"\n",
       "        },\n",
       "        \"yaxis\": \"y\",\n",
       "        \"x\": [\n",
       "            1,\n",
       "            2,\n",
       "            3,\n",
       "            4,\n",
       "            5,\n",
       "            6,\n",
       "            7,\n",
       "            8,\n",
       "            9,\n",
       "            10\n",
       "        ],\n",
       "        \"showlegend\": true,\n",
       "        \"mode\": \"lines\",\n",
       "        \"name\": \"second timestep\",\n",
       "        \"zmin\": null,\n",
       "        \"legendgroup\": \"second timestep\",\n",
       "        \"zmax\": null,\n",
       "        \"line\": {\n",
       "            \"color\": \"rgba(0, 154, 250, 1.000)\",\n",
       "            \"shape\": \"linear\",\n",
       "            \"dash\": \"solid\",\n",
       "            \"width\": 3\n",
       "        },\n",
       "        \"y\": [\n",
       "            50512.896,\n",
       "            516497.4719999999,\n",
       "            1.7125706879999998e6,\n",
       "            3.372591168000001e6,\n",
       "            5.269810752000001e6,\n",
       "            7.207714367999992e6,\n",
       "            9.020020032000002e6,\n",
       "            1.0570678848000009e7,\n",
       "            1.1753875007999996e7,\n",
       "            1.2494025792000035e7\n",
       "        ],\n",
       "        \"type\": \"scatter\"\n",
       "    }\n",
       "]\n",
       ", {\n",
       "    \"showlegend\": true,\n",
       "    \"xaxis\": {\n",
       "        \"showticklabels\": true,\n",
       "        \"gridwidth\": 0.5,\n",
       "        \"tickvals\": [\n",
       "            2.0,\n",
       "            4.0,\n",
       "            6.0,\n",
       "            8.0,\n",
       "            10.0\n",
       "        ],\n",
       "        \"range\": [\n",
       "            0.73,\n",
       "            10.27\n",
       "        ],\n",
       "        \"domain\": [\n",
       "            0.31350612423447066,\n",
       "            0.9934383202099737\n",
       "        ],\n",
       "        \"mirror\": false,\n",
       "        \"tickangle\": 0,\n",
       "        \"showline\": true,\n",
       "        \"ticktext\": [\n",
       "            \"2\",\n",
       "            \"4\",\n",
       "            \"6\",\n",
       "            \"8\",\n",
       "            \"10\"\n",
       "        ],\n",
       "        \"zeroline\": false,\n",
       "        \"tickfont\": {\n",
       "            \"color\": \"rgba(0, 0, 0, 1.000)\",\n",
       "            \"family\": \"sans-serif\",\n",
       "            \"size\": 11\n",
       "        },\n",
       "        \"zerolinecolor\": \"rgba(0, 0, 0, 1.000)\",\n",
       "        \"anchor\": \"y\",\n",
       "        \"visible\": true,\n",
       "        \"ticks\": \"inside\",\n",
       "        \"tickmode\": \"array\",\n",
       "        \"linecolor\": \"rgba(0, 0, 0, 1.000)\",\n",
       "        \"showgrid\": true,\n",
       "        \"title\": \"longitudinal beam axis\",\n",
       "        \"gridcolor\": \"rgba(0, 0, 0, 0.100)\",\n",
       "        \"titlefont\": {\n",
       "            \"color\": \"rgba(0, 0, 0, 1.000)\",\n",
       "            \"family\": \"sans-serif\",\n",
       "            \"size\": 15\n",
       "        },\n",
       "        \"tickcolor\": \"rgb(0, 0, 0)\",\n",
       "        \"type\": \"-\"\n",
       "    },\n",
       "    \"paper_bgcolor\": \"rgba(255, 255, 255, 1.000)\",\n",
       "    \"annotations\": [],\n",
       "    \"height\": 400,\n",
       "    \"margin\": {\n",
       "        \"l\": 0,\n",
       "        \"b\": 20,\n",
       "        \"r\": 0,\n",
       "        \"t\": 20\n",
       "    },\n",
       "    \"plot_bgcolor\": \"rgba(255, 255, 255, 1.000)\",\n",
       "    \"yaxis\": {\n",
       "        \"showticklabels\": true,\n",
       "        \"gridwidth\": 0.5,\n",
       "        \"tickvals\": [\n",
       "            0.0,\n",
       "            2.0e6,\n",
       "            4.0e6,\n",
       "            6.0e6,\n",
       "            8.0e6,\n",
       "            1.0e7,\n",
       "            1.2e7\n",
       "        ],\n",
       "        \"range\": [\n",
       "            -322792.49088000105,\n",
       "            1.2867331178880036e7\n",
       "        ],\n",
       "        \"domain\": [\n",
       "            0.07581474190726165,\n",
       "            0.9901574803149606\n",
       "        ],\n",
       "        \"mirror\": false,\n",
       "        \"tickangle\": 0,\n",
       "        \"showline\": true,\n",
       "        \"ticktext\": [\n",
       "            \"0\",\n",
       "            \"2.00×10<sup>6</sup>\",\n",
       "            \"4.00×10<sup>6</sup>\",\n",
       "            \"6.00×10<sup>6</sup>\",\n",
       "            \"8.00×10<sup>6</sup>\",\n",
       "            \"1.00×10<sup>7</sup>\",\n",
       "            \"1.20×10<sup>7</sup>\"\n",
       "        ],\n",
       "        \"zeroline\": false,\n",
       "        \"tickfont\": {\n",
       "            \"color\": \"rgba(0, 0, 0, 1.000)\",\n",
       "            \"family\": \"sans-serif\",\n",
       "            \"size\": 11\n",
       "        },\n",
       "        \"zerolinecolor\": \"rgba(0, 0, 0, 1.000)\",\n",
       "        \"anchor\": \"x\",\n",
       "        \"visible\": true,\n",
       "        \"ticks\": \"inside\",\n",
       "        \"tickmode\": \"array\",\n",
       "        \"linecolor\": \"rgba(0, 0, 0, 1.000)\",\n",
       "        \"showgrid\": true,\n",
       "        \"title\": \"beam displacement\",\n",
       "        \"gridcolor\": \"rgba(0, 0, 0, 0.100)\",\n",
       "        \"titlefont\": {\n",
       "            \"color\": \"rgba(0, 0, 0, 1.000)\",\n",
       "            \"family\": \"sans-serif\",\n",
       "            \"size\": 15\n",
       "        },\n",
       "        \"tickcolor\": \"rgb(0, 0, 0)\",\n",
       "        \"type\": \"-\"\n",
       "    },\n",
       "    \"legend\": {\n",
       "        \"yanchor\": \"auto\",\n",
       "        \"xanchor\": \"auto\",\n",
       "        \"bordercolor\": \"rgba(0, 0, 0, 1.000)\",\n",
       "        \"bgcolor\": \"rgba(255, 255, 255, 1.000)\",\n",
       "        \"borderwidth\": 1,\n",
       "        \"tracegroupgap\": 0,\n",
       "        \"y\": 1.0,\n",
       "        \"font\": {\n",
       "            \"color\": \"rgba(0, 0, 0, 1.000)\",\n",
       "            \"family\": \"sans-serif\",\n",
       "            \"size\": 11\n",
       "        },\n",
       "        \"title\": {\n",
       "            \"font\": {\n",
       "                \"color\": \"rgba(0, 0, 0, 1.000)\",\n",
       "                \"family\": \"sans-serif\",\n",
       "                \"size\": 15\n",
       "            },\n",
       "            \"text\": \"\"\n",
       "        },\n",
       "        \"traceorder\": \"normal\",\n",
       "        \"x\": 1.0\n",
       "    },\n",
       "    \"width\": 600\n",
       "}\n",
       ");\n",
       "\n",
       "    });\n",
       "    </script>\n",
       "\n",
       "    </body>\n",
       "</html>\n"
      ]
     },
     "execution_count": 70,
     "metadata": {},
     "output_type": "execute_result"
    }
   ],
   "source": [
    "plot(traj[:3], label = \"second timestep\", linewidth=3)\n",
    "\n",
    "xlabel!(\"longitudinal beam axis\")\n",
    "ylabel!(\"beam displacement\")"
   ]
  },
  {
   "cell_type": "code",
   "execution_count": null,
   "id": "f3f63ff1",
   "metadata": {},
   "outputs": [],
   "source": []
  }
 ],
 "metadata": {
  "kernelspec": {
   "display_name": "Julia 1.6.1",
   "language": "julia",
   "name": "julia-1.6"
  },
  "language_info": {
   "file_extension": ".jl",
   "mimetype": "application/julia",
   "name": "julia",
   "version": "1.6.1"
  }
 },
 "nbformat": 4,
 "nbformat_minor": 5
}
