{
 "cells": [
  {
   "cell_type": "code",
   "execution_count": 11,
   "metadata": {},
   "outputs": [],
   "source": [
    "# install PyGmsh\n",
    "import sys\n",
    "!{sys.executable} -m pip install -q -U gmsh\n"
   ]
  },
  {
   "cell_type": "code",
   "execution_count": 8,
   "metadata": {},
   "outputs": [
    {
     "name": "stdout",
     "output_type": "stream",
     "text": [
      "Mesh Points:\n",
      "0 [0.0, 0.0, 0.0]\n",
      "1 [2.0, 0.0, 0.0]\n",
      "2 [2.0, 2.0, 0.0]\n",
      "3 [0.0, 2.0, 0.0]\n",
      "4 [0.0, 0.0, 12.0]\n",
      "5 [2.0, 0.0, 12.0]\n",
      "6 [2.0, 2.0, 12.0]\n",
      "7 [0.0, 2.0, 12.0]\n",
      "8 [2.0, 2.0, 6.0]\n",
      "9 [0.0, 0.0, 6.0]\n",
      "10 [0.0, 2.0, 6.0]\n",
      "11 [2.0, 0.0, 6.0]\n",
      "Point numbers in tetrahedra:\n",
      "0 [2, 10, 0, 8]\n",
      "1 [2, 0, 1, 8]\n",
      "2 [4, 11, 9, 8]\n",
      "3 [0, 10, 9, 8]\n",
      "4 [6, 10, 4, 7]\n",
      "5 [4, 11, 8, 5]\n",
      "6 [0, 11, 1, 8]\n",
      "7 [2, 10, 3, 0]\n",
      "8 [6, 10, 8, 4]\n",
      "9 [5, 4, 6, 8]\n",
      "10 [0, 11, 8, 9]\n",
      "11 [4, 10, 8, 9]\n"
     ]
    },
    {
     "ename": "AttributeError",
     "evalue": "'MeshInfo' object has no attribute 'write_stl'",
     "output_type": "error",
     "traceback": [
      "\u001b[1;31m---------------------------------------------------------------------------\u001b[0m",
      "\u001b[1;31mAttributeError\u001b[0m                            Traceback (most recent call last)",
      "\u001b[1;32m<ipython-input-8-56da10b436dd>\u001b[0m in \u001b[0;36m<module>\u001b[1;34m\u001b[0m\n\u001b[0;32m     19\u001b[0m \u001b[1;32mfor\u001b[0m \u001b[0mi\u001b[0m\u001b[1;33m,\u001b[0m \u001b[0mt\u001b[0m \u001b[1;32min\u001b[0m \u001b[0menumerate\u001b[0m\u001b[1;33m(\u001b[0m\u001b[0mmesh\u001b[0m\u001b[1;33m.\u001b[0m\u001b[0melements\u001b[0m\u001b[1;33m)\u001b[0m\u001b[1;33m:\u001b[0m\u001b[1;33m\u001b[0m\u001b[1;33m\u001b[0m\u001b[0m\n\u001b[0;32m     20\u001b[0m     \u001b[0mprint\u001b[0m\u001b[1;33m(\u001b[0m\u001b[0mi\u001b[0m\u001b[1;33m,\u001b[0m \u001b[0mt\u001b[0m\u001b[1;33m)\u001b[0m\u001b[1;33m\u001b[0m\u001b[1;33m\u001b[0m\u001b[0m\n\u001b[1;32m---> 21\u001b[1;33m \u001b[0mmesh\u001b[0m\u001b[1;33m.\u001b[0m\u001b[0mwrite_stl\u001b[0m\u001b[1;33m(\u001b[0m\u001b[1;34m\"test.stl\"\u001b[0m\u001b[1;33m)\u001b[0m\u001b[1;33m\u001b[0m\u001b[1;33m\u001b[0m\u001b[0m\n\u001b[0m",
      "\u001b[1;31mAttributeError\u001b[0m: 'MeshInfo' object has no attribute 'write_stl'"
     ]
    }
   ],
   "source": [
    "!{sys.executable} -m pip install -q -U pygmsh\n",
    "import pygmsh"
   ]
  },
  {
   "cell_type": "code",
   "execution_count": null,
   "metadata": {},
   "outputs": [],
   "source": []
  }
 ],
 "metadata": {
  "kernelspec": {
   "display_name": "Python 3",
   "language": "python",
   "name": "python3"
  },
  "language_info": {
   "codemirror_mode": {
    "name": "ipython",
    "version": 3
   },
   "file_extension": ".py",
   "mimetype": "text/x-python",
   "name": "python",
   "nbconvert_exporter": "python",
   "pygments_lexer": "ipython3",
   "version": "3.7.6"
  }
 },
 "nbformat": 4,
 "nbformat_minor": 4
}
