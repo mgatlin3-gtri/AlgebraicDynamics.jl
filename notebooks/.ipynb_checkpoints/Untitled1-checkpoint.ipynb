{
 "cells": [
  {
   "cell_type": "code",
   "execution_count": 1,
   "metadata": {},
   "outputs": [],
   "source": [
    "#== Import required libraries ==#\n",
    "using Catlab.Graphs\n",
    "using Catlab.Graphics\n",
    "using Catlab.CategoricalAlgebra\n",
    "using CombinatorialSpaces\n",
    "using Distributions\n",
    "using CairoMakie\n",
    "using DifferentialEquations\n",
    "using AlgebraicDynamics.TontiDiagrams"
   ]
  },
  {
   "cell_type": "code",
   "execution_count": 2,
   "metadata": {},
   "outputs": [
    {
     "data": {
      "text/plain": [
       "gen_form (generic function with 1 method)"
      ]
     },
     "execution_count": 2,
     "metadata": {},
     "output_type": "execute_result"
    }
   ],
   "source": [
    "# helper function for setting initial conditions\n",
    "function gen_form(s::EmbeddedDeltaSet2D, f::Function)\n",
    "  map(f, point(s))\n",
    "end"
   ]
  },
  {
   "cell_type": "code",
   "execution_count": null,
   "metadata": {},
   "outputs": [],
   "source": [
    "s = EmbeddedDeltaSet2D(\"../notebooks/out.stl\");\n",
    "sp = Space(s)\n",
    "sd = sp.sd;\n",
    "figure, axis, ob = wireframe(s)\n",
    "axis.aspect = AxisAspect(100.0/30.0)\n",
    "figure"
   ]
  }
 ],
 "metadata": {
  "kernelspec": {
   "display_name": "Julia 1.6.1",
   "language": "julia",
   "name": "julia-1.6"
  },
  "language_info": {
   "file_extension": ".jl",
   "mimetype": "application/julia",
   "name": "julia",
   "version": "1.6.1"
  }
 },
 "nbformat": 4,
 "nbformat_minor": 4
}
