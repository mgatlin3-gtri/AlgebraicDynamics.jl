{
 "cells": [
  {
   "cell_type": "code",
   "execution_count": 35,
   "id": "e5462132",
   "metadata": {},
   "outputs": [
    {
     "name": "stdout",
     "output_type": "stream",
     "text": [
      "Requirement already satisfied: trusspy in c:\\users\\mgatlin3\\anaconda3\\lib\\site-packages (20180816.post11)\n",
      "\n",
      "         _____                  ______      \n",
      "        |_   _|                 | ___ \\     \n",
      "          | |_ __ _   _ ___ ___ | |_/ /   _ \n",
      "          | | '__| | | / __/ __||  __/ | | |\n",
      "          | | |  | |_| \\__ \\__ \\| |  | |_| |\n",
      "          \\_/_|   \\__,_|___/___/\\_|   \\__, |\n",
      "                                       __/ |\n",
      "                                      |___/ \n",
      "        \n",
      "        TrussPy - Object Oriented Truss Solver for Python\n",
      "                  Version 2018.08 (Build 20180829)\n",
      "\n",
      "        Author: Dutzler A.\n",
      "                Graz University of Technology, 2018\n",
      "                \n",
      "        TrussPy  Copyright (C) 2018  Andreas Dutzler\n",
      "        This program comes with ABSOLUTELY NO WARRANTY; \n",
      "        for details type `trusspy.show_w()'.\n",
      "        This is free software, and you are welcome to redistribute it\n",
      "        under certain conditions; type `trusspy.show_c()' for details.\n",
      "        \n",
      "\n",
      "# Initialize Model\n",
      "* loading Managers\n",
      "\n",
      "    - finished.\n",
      "\n"
     ]
    }
   ],
   "source": [
    "# Install a pip package in the current Jupyter kernel\n",
    "import sys\n",
    "!{sys.executable} -m pip install trusspy\n",
    "import trusspy as tp\n",
    "\n",
    "# init model\n",
    "M = tp.Model()"
   ]
  },
  {
   "cell_type": "code",
   "execution_count": 36,
   "id": "ba04e262",
   "metadata": {},
   "outputs": [],
   "source": [
    "# create nodes\n",
    "#\n",
    "#    tp.Node( label,  coord  )\n",
    "# ----------------------------\n",
    "N1 = tp.Node(     1, (0,0,0) )\n",
    "N2 = tp.Node(     2, (10,0,0) )\n",
    "\n",
    "# create nodes\n",
    "#\n",
    "#    tp.Node( label,  coord  )\n",
    "# ----------------------------\n",
    "N1 = tp.Node(     1, (0,0,0) )\n",
    "N2 = tp.Node(     2, (1,0,0) )\n",
    "\n",
    "# create element\n",
    "young = 1\n",
    "area  = 1\n",
    "E1 = tp.Element( 1, [1,2], material_properties=[young], geometric_properties=[area] )\n",
    "\n",
    "# # create element\n",
    "# young = 5e6\n",
    "# area  = 1\n",
    "# E1 = tp.Element( 1, [1,2], material_properties=[young], geometric_properties=[area] )"
   ]
  },
  {
   "cell_type": "code",
   "execution_count": 37,
   "id": "ac6a0a36",
   "metadata": {},
   "outputs": [],
   "source": [
    "# create displacement (U) boundary conditions\n",
    "B1 = tp.BoundaryU( 1, (0,0,0) )\n",
    "B2 = tp.BoundaryU( 2, (0,0,1) )\n",
    "\n",
    "# create external forces\n",
    "# F1 = tp.ExternalForce( 1, (0,0,0) ) # not necessary\n",
    "F2 = tp.ExternalForce( 2, (0,0,1) )\n",
    "\n",
    "\n",
    "\n",
    "# # create displacement (U) boundary conditions\n",
    "# B1 = tp.BoundaryU( 1, (0,0,0) )\n",
    "# B2 = tp.BoundaryU( 2, (1,1,1) )\n",
    "\n",
    "# # create external forces\n",
    "# F1 = tp.ExternalForce( 1, (0,0,0) ) # not necessary\n",
    "# F2 = tp.ExternalForce( 2, (0,0,1) )\n",
    "\n"
   ]
  },
  {
   "cell_type": "code",
   "execution_count": 38,
   "id": "b885e671",
   "metadata": {},
   "outputs": [],
   "source": [
    "M.Settings.dlpf = 0.02 # maximum allowed incremental load-proportionality-factor\n",
    "M.Settings.du   = 0.02 # maximum allowed incremental displacement component\n",
    "M.Settings.incs = 50   # maximum number of increments"
   ]
  },
  {
   "cell_type": "code",
   "execution_count": 39,
   "id": "e5e64494",
   "metadata": {},
   "outputs": [
    {
     "name": "stdout",
     "output_type": "stream",
     "text": [
      "\n",
      "# Model Summary\n",
      "    Analysis Dimension      \"ndim\": 3\n",
      "    Number of Nodes       \"nnodes\": 2\n",
      "    Number of Elements    \"nelems\": 1\n",
      " \n",
      "    System DOF              \"ndof\": 6\n",
      "    active DOF             \"ndof1\": 3\n",
      "    locked DOF             \"ndof2\": 3\n",
      " \n",
      "    active DOF          \"nproDOF1\": [3 4 5]\n",
      "    fixed  DOF          \"nproDOF0\": [0 1 2]\n",
      "\\pagebreak\n",
      " \n",
      "# Run Simulation\n",
      "\n",
      "## Summary of Analysis Parameters\n",
      "|Description                          |Parameter|Value|\n",
      "|:------------------------------------|:--------|:--|\n",
      "|Maximum increments                   |   `incs`| 50 |\n",
      "|Maximum increment recycles           |   `cycl`| 4 |\n",
      "|Maximum Newton-Rhapson iterations    |   `nfev`| 8 |\n",
      "|Maximum incremental displacement     |     `du`| 0.02 |\n",
      "|Maximum incremental LPF              |   `dlpf`| 0.02 |\n",
      "|Initial control component            |     `j0`| LPF|\n",
      "|Locked control component             |`j_fixed`| False |\n",
      "|Maximum incremental overshoot        |  `dxtol`| 1.000001 |\n",
      "|Tolerance for x                      |   `xtol`| 8 |\n",
      "|Tolerance for f                      |   `ftol`| 8 |\n",
      "\n",
      "\n",
      "## Step 1\n",
      "* i(1) is index with 1st-biggest component in abs(Dx/Dx,max).\n",
      "* i(2) is index with 2nd-biggest component in abs(Dx/Dx,max).\n",
      "* i(3) is index with 3rd-biggest component in abs(Dx/Dx,max).\n",
      "* i(4) is index with 4th-biggest component in abs(Dx/Dx,max).\n",
      "* Value(i) is value of i-th component in abs(Dx/Dx,max).\n",
      "$$\\text{Value}_i = \\left|\\frac{D_x}{D_{x,max}}\\right|_i$$\n",
      "\n",
      "### Increment 1\n",
      "|Cycle|NR-It.|Control| Norm(g) |i(1)|Value   |i(2)|Value   |i(3)|Value   |\n",
      "|:---:|:----:|:-----:|:-------:|:--:|:------:|:--:|:------:|:--:|:------:|\n"
     ]
    },
    {
     "ename": "ValueError",
     "evalue": "cannot convert float NaN to integer",
     "output_type": "error",
     "traceback": [
      "\u001b[1;31m---------------------------------------------------------------------------\u001b[0m",
      "\u001b[1;31mValueError\u001b[0m                                Traceback (most recent call last)",
      "\u001b[1;32m<ipython-input-39-a70a466bcb21>\u001b[0m in \u001b[0;36m<module>\u001b[1;34m\u001b[0m\n\u001b[0;32m      7\u001b[0m \u001b[1;31m# build model and run job\u001b[0m\u001b[1;33m\u001b[0m\u001b[1;33m\u001b[0m\u001b[1;33m\u001b[0m\u001b[0m\n\u001b[0;32m      8\u001b[0m \u001b[0mM\u001b[0m\u001b[1;33m.\u001b[0m\u001b[0mbuild\u001b[0m\u001b[1;33m(\u001b[0m\u001b[1;33m)\u001b[0m\u001b[1;33m\u001b[0m\u001b[1;33m\u001b[0m\u001b[0m\n\u001b[1;32m----> 9\u001b[1;33m \u001b[0mM\u001b[0m\u001b[1;33m.\u001b[0m\u001b[0mrun\u001b[0m\u001b[1;33m(\u001b[0m\u001b[1;33m)\u001b[0m\u001b[1;33m\u001b[0m\u001b[1;33m\u001b[0m\u001b[0m\n\u001b[0m",
      "\u001b[1;32m~\\Anaconda3\\lib\\site-packages\\trusspy\\model.py\u001b[0m in \u001b[0;36mrun\u001b[1;34m(self)\u001b[0m\n\u001b[0;32m    351\u001b[0m             \u001b[0mself\u001b[0m\u001b[1;33m.\u001b[0m\u001b[0mAnalysis\u001b[0m\u001b[1;33m.\u001b[0m\u001b[0mstep\u001b[0m \u001b[1;33m=\u001b[0m \u001b[1;36m1\u001b[0m\u001b[1;33m+\u001b[0m\u001b[0mstep\u001b[0m\u001b[1;33m\u001b[0m\u001b[1;33m\u001b[0m\u001b[0m\n\u001b[0;32m    352\u001b[0m \u001b[1;33m\u001b[0m\u001b[0m\n\u001b[1;32m--> 353\u001b[1;33m             res_V,res_a = pathfollow(self.equilibrium,self.stiffness, \n\u001b[0m\u001b[0;32m    354\u001b[0m                                      \u001b[0mself\u001b[0m\u001b[1;33m.\u001b[0m\u001b[0mAnalysis\u001b[0m\u001b[1;33m.\u001b[0m\u001b[0mUred\u001b[0m\u001b[1;33m,\u001b[0m \u001b[0mself\u001b[0m\u001b[1;33m.\u001b[0m\u001b[0mAnalysis\u001b[0m\u001b[1;33m,\u001b[0m\u001b[1;33m\u001b[0m\u001b[1;33m\u001b[0m\u001b[0m\n\u001b[0;32m    355\u001b[0m                                      \u001b[0mdxmax\u001b[0m\u001b[1;33m=\u001b[0m\u001b[1;33m[\u001b[0m\u001b[0mself\u001b[0m\u001b[1;33m.\u001b[0m\u001b[0mSettings\u001b[0m\u001b[1;33m.\u001b[0m\u001b[0mdu\u001b[0m\u001b[1;33m,\u001b[0m\u001b[0mself\u001b[0m\u001b[1;33m.\u001b[0m\u001b[0mSettings\u001b[0m\u001b[1;33m.\u001b[0m\u001b[0mdlpf\u001b[0m\u001b[1;33m]\u001b[0m\u001b[1;33m,\u001b[0m\u001b[1;33m\u001b[0m\u001b[1;33m\u001b[0m\u001b[0m\n",
      "\u001b[1;32m~\\Anaconda3\\lib\\site-packages\\trusspy\\solvers\\tpsolver.py\u001b[0m in \u001b[0;36mpathfollow\u001b[1;34m(g, dgdx, x, analysis, dxmax, j, j_fixed, j_pre, xlimit, incs, nfev, cycl, ftol, xtol, stepcontrol, maxfac, minfac, reduce, increase, dxtol, verbose)\u001b[0m\n\u001b[0;32m    343\u001b[0m             \u001b[0mDxs_pre\u001b[0m \u001b[1;33m=\u001b[0m \u001b[0mnp\u001b[0m\u001b[1;33m.\u001b[0m\u001b[0msort\u001b[0m\u001b[1;33m(\u001b[0m\u001b[0mabs\u001b[0m\u001b[1;33m(\u001b[0m\u001b[0mDx_pre\u001b[0m\u001b[1;33m/\u001b[0m\u001b[0mdxmax\u001b[0m\u001b[1;33m)\u001b[0m\u001b[1;33m)\u001b[0m\u001b[1;33m*\u001b[0m\u001b[0mnp\u001b[0m\u001b[1;33m.\u001b[0m\u001b[0msign\u001b[0m\u001b[1;33m(\u001b[0m \u001b[1;33m(\u001b[0m\u001b[0mDx_pre\u001b[0m\u001b[1;33m/\u001b[0m\u001b[0mdxmax\u001b[0m\u001b[1;33m)\u001b[0m\u001b[1;33m.\u001b[0m\u001b[0mT\u001b[0m\u001b[1;33m[\u001b[0m\u001b[0mDxi_pre\u001b[0m\u001b[1;33m-\u001b[0m\u001b[1;36m1\u001b[0m\u001b[1;33m]\u001b[0m \u001b[1;33m)\u001b[0m\u001b[1;33m\u001b[0m\u001b[1;33m\u001b[0m\u001b[0m\n\u001b[0;32m    344\u001b[0m             \u001b[0mi1\u001b[0m\u001b[1;33m,\u001b[0m\u001b[0mv1\u001b[0m \u001b[1;33m=\u001b[0m \u001b[0mDxi_pre\u001b[0m\u001b[1;33m[\u001b[0m\u001b[1;33m-\u001b[0m\u001b[1;36m1\u001b[0m\u001b[1;33m]\u001b[0m\u001b[1;33m,\u001b[0m \u001b[0mDxs_pre\u001b[0m\u001b[1;33m[\u001b[0m\u001b[1;33m-\u001b[0m\u001b[1;36m1\u001b[0m\u001b[1;33m]\u001b[0m\u001b[1;33m\u001b[0m\u001b[1;33m\u001b[0m\u001b[0m\n\u001b[1;32m--> 345\u001b[1;33m             \u001b[0mj_pre\u001b[0m \u001b[1;33m=\u001b[0m \u001b[0mint\u001b[0m\u001b[1;33m(\u001b[0m\u001b[0mi1\u001b[0m\u001b[1;33m*\u001b[0m\u001b[0mnp\u001b[0m\u001b[1;33m.\u001b[0m\u001b[0msign\u001b[0m\u001b[1;33m(\u001b[0m\u001b[0mv1\u001b[0m\u001b[1;33m)\u001b[0m\u001b[1;33m)\u001b[0m\u001b[1;33m\u001b[0m\u001b[1;33m\u001b[0m\u001b[0m\n\u001b[0m\u001b[0;32m    346\u001b[0m             \u001b[1;32mif\u001b[0m \u001b[0mverbose\u001b[0m \u001b[1;33m>\u001b[0m \u001b[1;36m1\u001b[0m\u001b[1;33m:\u001b[0m\u001b[1;33m\u001b[0m\u001b[1;33m\u001b[0m\u001b[0m\n\u001b[0;32m    347\u001b[0m                 print('| {0:2d}  |  {1:2d}  |  {2:2d}   |{3:1.3e}|{4:4d}|{5:8.1g}|    |        |    |        |'.format(\n",
      "\u001b[1;31mValueError\u001b[0m: cannot convert float NaN to integer"
     ]
    }
   ],
   "source": [
    "# add items to the model\n",
    "M.Nodes.add_nodes([N1,N2])\n",
    "M.Elements.add_element(E1)\n",
    "M.Boundaries.add_bounds_U([B1,B2])\n",
    "M.ExtForces.add_forces([F2])\n",
    "\n",
    "# build model and run job\n",
    "M.build()\n",
    "M.run()"
   ]
  },
  {
   "cell_type": "code",
   "execution_count": 29,
   "id": "88cecde5",
   "metadata": {},
   "outputs": [
    {
     "ename": "AttributeError",
     "evalue": "'Analysis' object has no attribute 'ExtForces'",
     "output_type": "error",
     "traceback": [
      "\u001b[1;31m---------------------------------------------------------------------------\u001b[0m",
      "\u001b[1;31mAttributeError\u001b[0m                            Traceback (most recent call last)",
      "\u001b[1;32m<ipython-input-29-51089de02b5f>\u001b[0m in \u001b[0;36m<module>\u001b[1;34m\u001b[0m\n\u001b[0;32m      1\u001b[0m \u001b[1;31m# show results\u001b[0m\u001b[1;33m\u001b[0m\u001b[1;33m\u001b[0m\u001b[1;33m\u001b[0m\u001b[0m\n\u001b[1;32m----> 2\u001b[1;33m M.plot_model(config=['deformed'],\n\u001b[0m\u001b[0;32m      3\u001b[0m              \u001b[0mview\u001b[0m\u001b[1;33m=\u001b[0m\u001b[1;34m'xz'\u001b[0m\u001b[1;33m,\u001b[0m\u001b[1;33m\u001b[0m\u001b[1;33m\u001b[0m\u001b[0m\n\u001b[0;32m      4\u001b[0m              \u001b[0mcontour\u001b[0m\u001b[1;33m=\u001b[0m\u001b[1;34m'force'\u001b[0m\u001b[1;33m,\u001b[0m\u001b[1;33m\u001b[0m\u001b[1;33m\u001b[0m\u001b[0m\n\u001b[0;32m      5\u001b[0m              \u001b[0mlim_scale\u001b[0m\u001b[1;33m=\u001b[0m\u001b[1;33m(\u001b[0m\u001b[1;33m-\u001b[0m\u001b[1;36m0.5\u001b[0m\u001b[1;33m,\u001b[0m\u001b[1;36m11\u001b[0m\u001b[1;33m,\u001b[0m\u001b[1;33m-\u001b[0m\u001b[1;36m10e6\u001b[0m\u001b[1;33m,\u001b[0m\u001b[1;36m10e6\u001b[0m\u001b[1;33m)\u001b[0m\u001b[1;33m,\u001b[0m\u001b[1;33m\u001b[0m\u001b[1;33m\u001b[0m\u001b[0m\n",
      "\u001b[1;32m~\\Anaconda3\\lib\\site-packages\\trusspy\\model.py\u001b[0m in \u001b[0;36mplot_model\u001b[1;34m(self, config, view, contour, lim_scale, force_scale, nodesize, cbar_limits, inc)\u001b[0m\n\u001b[0;32m    549\u001b[0m \u001b[1;33m\u001b[0m\u001b[0m\n\u001b[0;32m    550\u001b[0m     \u001b[1;32mdef\u001b[0m \u001b[0mplot_model\u001b[0m\u001b[1;33m(\u001b[0m\u001b[0mself\u001b[0m\u001b[1;33m,\u001b[0m\u001b[0mconfig\u001b[0m\u001b[1;33m=\u001b[0m\u001b[1;34m'both'\u001b[0m\u001b[1;33m,\u001b[0m\u001b[0mview\u001b[0m\u001b[1;33m=\u001b[0m\u001b[1;34m'xz'\u001b[0m\u001b[1;33m,\u001b[0m\u001b[0mcontour\u001b[0m\u001b[1;33m=\u001b[0m\u001b[1;32mNone\u001b[0m\u001b[1;33m,\u001b[0m\u001b[0mlim_scale\u001b[0m\u001b[1;33m=\u001b[0m\u001b[1;36m1.2\u001b[0m\u001b[1;33m,\u001b[0m\u001b[0mforce_scale\u001b[0m\u001b[1;33m=\u001b[0m\u001b[1;36m0.5\u001b[0m\u001b[1;33m,\u001b[0m\u001b[0mnodesize\u001b[0m\u001b[1;33m=\u001b[0m\u001b[1;36m10\u001b[0m\u001b[1;33m,\u001b[0m\u001b[0mcbar_limits\u001b[0m\u001b[1;33m=\u001b[0m\u001b[1;34m'auto'\u001b[0m\u001b[1;33m,\u001b[0m\u001b[0minc\u001b[0m\u001b[1;33m=\u001b[0m\u001b[1;33m-\u001b[0m\u001b[1;36m1\u001b[0m\u001b[1;33m)\u001b[0m\u001b[1;33m:\u001b[0m\u001b[1;33m\u001b[0m\u001b[1;33m\u001b[0m\u001b[0m\n\u001b[1;32m--> 551\u001b[1;33m         \u001b[0mfig\u001b[0m\u001b[1;33m,\u001b[0m \u001b[0max\u001b[0m \u001b[1;33m=\u001b[0m \u001b[0mp_model\u001b[0m\u001b[1;33m(\u001b[0m\u001b[0mself\u001b[0m\u001b[1;33m,\u001b[0m\u001b[0mconfig\u001b[0m\u001b[1;33m,\u001b[0m\u001b[0mview\u001b[0m\u001b[1;33m,\u001b[0m\u001b[0mcontour\u001b[0m\u001b[1;33m,\u001b[0m\u001b[0mlim_scale\u001b[0m\u001b[1;33m,\u001b[0m\u001b[0mforce_scale\u001b[0m\u001b[1;33m,\u001b[0m\u001b[0mnodesize\u001b[0m\u001b[1;33m,\u001b[0m\u001b[0mcbar_limits\u001b[0m\u001b[1;33m,\u001b[0m\u001b[0minc\u001b[0m\u001b[1;33m)\u001b[0m\u001b[1;33m\u001b[0m\u001b[1;33m\u001b[0m\u001b[0m\n\u001b[0m\u001b[0;32m    552\u001b[0m         \u001b[1;32mreturn\u001b[0m \u001b[0mfig\u001b[0m\u001b[1;33m,\u001b[0m \u001b[0max\u001b[0m\u001b[1;33m\u001b[0m\u001b[1;33m\u001b[0m\u001b[0m\n\u001b[0;32m    553\u001b[0m \u001b[1;33m\u001b[0m\u001b[0m\n",
      "\u001b[1;32m~\\Anaconda3\\lib\\site-packages\\trusspy\\tools\\plot_utilities.py\u001b[0m in \u001b[0;36mp_model\u001b[1;34m(self, config, view, contour, lim_scale, force_scale, nodesize, cbar_limits, inc, step)\u001b[0m\n\u001b[0;32m     84\u001b[0m         \u001b[1;32mif\u001b[0m \u001b[0mforce_scale\u001b[0m \u001b[1;32mis\u001b[0m \u001b[1;32mnot\u001b[0m \u001b[1;32mNone\u001b[0m\u001b[1;33m:\u001b[0m\u001b[1;33m\u001b[0m\u001b[1;33m\u001b[0m\u001b[0m\n\u001b[0;32m     85\u001b[0m             \u001b[0mtextstr\u001b[0m \u001b[1;33m=\u001b[0m \u001b[1;34mr'$\\mathbf{Plot}$ $\\mathbf{Scale}$ $\\lambda \\cdot [F_0] =$ '\u001b[0m\u001b[1;33m+\u001b[0m\u001b[1;34m'{:2.1g} '\u001b[0m\u001b[1;33m.\u001b[0m\u001b[0mformat\u001b[0m\u001b[1;33m(\u001b[0m\u001b[0mforce_scale\u001b[0m\u001b[1;33m)\u001b[0m\u001b[1;33m+\u001b[0m\u001b[1;34mr'$\\cdot [L]$'\u001b[0m\u001b[1;33m\u001b[0m\u001b[1;33m\u001b[0m\u001b[0m\n\u001b[1;32m---> 86\u001b[1;33m             \u001b[0mf0_const\u001b[0m \u001b[1;33m=\u001b[0m \u001b[0mself\u001b[0m\u001b[1;33m.\u001b[0m\u001b[0mResults\u001b[0m\u001b[1;33m.\u001b[0m\u001b[0mR\u001b[0m\u001b[1;33m[\u001b[0m\u001b[0minc\u001b[0m\u001b[1;33m]\u001b[0m\u001b[1;33m.\u001b[0m\u001b[0mExtForces\u001b[0m\u001b[1;33m.\u001b[0m\u001b[0mforces_const\u001b[0m\u001b[1;33m\u001b[0m\u001b[1;33m\u001b[0m\u001b[0m\n\u001b[0m\u001b[0;32m     87\u001b[0m             \u001b[0mstep\u001b[0m \u001b[1;33m=\u001b[0m \u001b[0mself\u001b[0m\u001b[1;33m.\u001b[0m\u001b[0mResults\u001b[0m\u001b[1;33m.\u001b[0m\u001b[0mR\u001b[0m\u001b[1;33m[\u001b[0m\u001b[0minc\u001b[0m\u001b[1;33m]\u001b[0m\u001b[1;33m.\u001b[0m\u001b[0mstep\u001b[0m\u001b[1;33m\u001b[0m\u001b[1;33m\u001b[0m\u001b[0m\n\u001b[0;32m     88\u001b[0m             fig,ax = plot_force(f0_const+self.Results.R[inc].lpf*self.ExtForces.forces[:,3*(step-1):3*step],\n",
      "\u001b[1;31mAttributeError\u001b[0m: 'Analysis' object has no attribute 'ExtForces'"
     ]
    },
    {
     "data": {
      "image/png": "[encoded data removed]",
      "text/plain": [
       "<Figure size 576x432 with 2 Axes>"
      ]
     },
     "metadata": {
      "needs_background": "light"
     },
     "output_type": "display_data"
    }
   ],
   "source": [
    "# show results\n",
    "M.plot_model(config=['deformed'],\n",
    "             view='xz',\n",
    "             contour='force',\n",
    "             lim_scale=(-0.5,3.5,-2,2),\n",
    "             force_scale=1.0,\n",
    "             inc=-1)\n",
    "M.plot_history(nodes=[2,2], X='Displacement X', Y='Force X')\n",
    "M.plot_show()\n",
    "\n",
    "\n",
    "# # show results\n",
    "# M.plot_model(config=['deformed'],\n",
    "#              view='xz',\n",
    "#              contour='force',\n",
    "#              lim_scale=(-0.5,11,-10e6,10e6),\n",
    "#              force_scale=-9e6,\n",
    "#              inc=-1)\n",
    "# M.plot_history(nodes=[2,2], X='Displacement X', Y='Force Z')\n",
    "# M.plot_show()\n"
   ]
  },
  {
   "cell_type": "code",
   "execution_count": null,
   "id": "b094b387",
   "metadata": {},
   "outputs": [],
   "source": []
  }
 ],
 "metadata": {
  "kernelspec": {
   "display_name": "Python 3",
   "language": "python",
   "name": "python3"
  },
  "language_info": {
   "codemirror_mode": {
    "name": "ipython",
    "version": 3
   },
   "file_extension": ".py",
   "mimetype": "text/x-python",
   "name": "python",
   "nbconvert_exporter": "python",
   "pygments_lexer": "ipython3",
   "version": "3.8.8"
  }
 },
 "nbformat": 4,
 "nbformat_minor": 5
}
