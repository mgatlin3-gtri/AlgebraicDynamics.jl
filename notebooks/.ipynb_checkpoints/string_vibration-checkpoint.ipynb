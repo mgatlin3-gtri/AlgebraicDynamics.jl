{
 "cells": [
  {
   "cell_type": "markdown",
   "id": "8a38dfec",
   "metadata": {},
   "source": [
    "# Benchmark for vibration of a string\n",
    "\n",
    "Assumptions made:\n",
    "- string is treated as perfectly flexible (no stiffness)\n",
    "- fixed-fixed condition so that reflections are perfectly inverted\n",
    "\n",
    "Goal: simulate the kink resulting from pluckign the string\n",
    "\n",
    "Constituitive equation: $\\frac{\\partial^2 y}{\\partial t^2} = c^2 \\frac{\\partial^2 y}{\\partial x^2}$"
   ]
  },
  {
   "cell_type": "code",
   "execution_count": null,
   "id": "51c26f94",
   "metadata": {},
   "outputs": [],
   "source": [
    "using CombinatorialSpaces\n",
    "using CombinatorialSpaces.DiscreteExteriorCalculus: inv_hodge_star\n",
    "using DifferentialEquations\n",
    "using CairoMakie\n",
    "\n",
    "# dual subdivision \n",
    "function dual(s::EmbeddedDeltaSet2D{O, P}) where {O, P}\n",
    "  sd = EmbeddedDeltaDualComplex2D{O, eltype(P), P}(s)\n",
    "  subdivide_duals!(sd, Circumcenter())\n",
    "  sd\n",
    "end"
   ]
  },
  {
   "cell_type": "markdown",
   "id": "32301ae4",
   "metadata": {},
   "source": []
  },
  {
   "cell_type": "code",
   "execution_count": null,
   "id": "85829f58",
   "metadata": {},
   "outputs": [],
   "source": []
  },
  {
   "cell_type": "markdown",
   "id": "842ea746",
   "metadata": {},
   "source": []
  }
 ],
 "metadata": {
  "kernelspec": {
   "display_name": "Julia 1.6.1",
   "language": "julia",
   "name": "julia-1.6"
  },
  "language_info": {
   "file_extension": ".jl",
   "mimetype": "application/julia",
   "name": "julia",
   "version": "1.6.1"
  }
 },
 "nbformat": 4,
 "nbformat_minor": 5
}
