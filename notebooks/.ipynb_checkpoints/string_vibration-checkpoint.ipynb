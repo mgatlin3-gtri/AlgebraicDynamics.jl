{
 "cells": [
  {
   "cell_type": "markdown",
   "id": "f071ee30",
   "metadata": {},
   "source": [
    "# Benchmark for vibration of a string\n",
    "\n",
    "Assumptions made:\n",
    "- string is treated as perfectly flexible (no stiffness)\n",
    "- fixed-fixed condition so that reflections are perfectly inverted\n",
    "\n",
    "Goal: simulate the kink resulting from pluckign the string\n",
    "\n",
    "Constituitive equation: $\\frac{\\partial^2 y}{\\partial t^2} = c^2 \\frac{\\partial^2 y}{\\partial x^2}$\n",
    "\n",
    "where,\n",
    "$\n",
    "y = dispalcement\\:of\\:the\\:string\\:from\\:equilibirum \\\\\n",
    "x = position\\:along\\:the\\:string \\\\\n",
    "t = time \\\\\n",
    "c = \\sqrt{\\frac{T}{\\mu}} = wave\\:speed \\\\\n",
    "T = tension \\\\\n",
    "\\mu = mass\\:per\\:unit\\:length \\\\\n",
    "$\n",
    "\n",
    "Citation(s):\n",
    "$@article\\:{giordano1998physics,\n",
    "  title={The physics of vibrating strings},\n",
    "  author={Giordano, Nicholas and Gould, Harvey and Tobochnik, Jan}, \n",
    "  journal={Computers in Physics}, \n",
    "  volume={12},\n",
    "  number={2}, \n",
    "  pages={138--145}, \n",
    "  year={1998},\n",
    "  publisher={American Institute of Physics}\n",
    "}$"
   ]
  },
  {
   "cell_type": "code",
   "execution_count": 5,
   "id": "af7e23cb",
   "metadata": {},
   "outputs": [
    {
     "data": {
      "text/plain": [
       "dual (generic function with 1 method)"
      ]
     },
     "execution_count": 5,
     "metadata": {},
     "output_type": "execute_result"
    }
   ],
   "source": [
    "using CombinatorialSpaces\n",
    "# using CombinatorialSpaces.DiscreteExteriorCalculus: inv_hodge_star\n",
    "using CombinatorialSpaces.DualSimplicialSets\n",
    "using DifferentialEquations\n",
    "using CairoMakie\n",
    "\n",
    "# dual subdivision \n",
    "function dual(s::EmbeddedDeltaSet2D{O, P}) where {O, P}\n",
    "  sd = EmbeddedDeltaDualComplex2D{O, eltype(P), P}(s)\n",
    "  subdivide_duals!(sd, Circumcenter())\n",
    "  sd\n",
    "end"
   ]
  },
  {
   "cell_type": "markdown",
   "id": "992c2164",
   "metadata": {},
   "source": [
    "## Define and plot mesh"
   ]
  },
  {
   "cell_type": "code",
   "execution_count": 6,
   "id": "20cf3947",
   "metadata": {},
   "outputs": [
    {
     "ename": "LoadError",
     "evalue": "MethodError: no method matching coordinates(::Catlab.CSetDataStructures.AttributedCSet{Catlab.Theories.CatDesc{(:V, :E, :Tri), (:src, :tgt, :∂e0, :∂e1, :∂e2), (2, 2, 3, 3, 3), (1, 1, 2, 2, 2)}, Catlab.Theories.AttrDesc{Catlab.Theories.CatDesc{(:V, :E, :Tri), (:src, :tgt, :∂e0, :∂e1, :∂e2), (2, 2, 3, 3, 3), (1, 1, 2, 2, 2)}, (:Orientation, :Point), (:edge_orientation, :tri_orientation, :point), (2, 3, 1), (1, 1, 2)}, Tuple{Bool, Point{3, Float32}}, (:src, :tgt, :∂e0, :∂e1, :∂e2), (), NamedTuple{(:V, :E, :Tri), Tuple{TypedTables.Table{NamedTuple{(:point,), Tuple{Point{3, Float32}}}, 1, NamedTuple{(:point,), Tuple{Vector{Point{3, Float32}}}}}, TypedTables.Table{NamedTuple{(:src, :tgt, :edge_orientation), Tuple{Int64, Int64, Bool}}, 1, NamedTuple{(:src, :tgt, :edge_orientation), Tuple{Vector{Int64}, Vector{Int64}, Vector{Bool}}}}, TypedTables.Table{NamedTuple{(:∂e0, :∂e1, :∂e2, :tri_orientation), Tuple{Int64, Int64, Int64, Bool}}, 1, NamedTuple{(:∂e0, :∂e1, :∂e2, :tri_orientation), Tuple{Vector{Int64}, Vector{Int64}, Vector{Int64}, Vector{Bool}}}}}}, NamedTuple{(:src, :tgt, :∂e0, :∂e1, :∂e2), NTuple{5, Vector{Vector{Int64}}}}})\n\u001b[0mClosest candidates are:\n\u001b[0m  coordinates(\u001b[91m::GeometryBasics.Ngon\u001b[39m) at C:\\Users\\mgatlin3\\.julia\\packages\\GeometryBasics\\pjtu1\\src\\basic_types.jl:73\n\u001b[0m  coordinates(\u001b[91m::GeometryBasics.Tesselation\u001b[39m) at C:\\Users\\mgatlin3\\.julia\\packages\\GeometryBasics\\pjtu1\\src\\interfaces.jl:74\n\u001b[0m  coordinates(\u001b[91m::GeometryBasics.Simplex\u001b[39m) at C:\\Users\\mgatlin3\\.julia\\packages\\GeometryBasics\\pjtu1\\src\\basic_types.jl:150\n\u001b[0m  ...",
     "output_type": "error",
     "traceback": [
      "MethodError: no method matching coordinates(::Catlab.CSetDataStructures.AttributedCSet{Catlab.Theories.CatDesc{(:V, :E, :Tri), (:src, :tgt, :∂e0, :∂e1, :∂e2), (2, 2, 3, 3, 3), (1, 1, 2, 2, 2)}, Catlab.Theories.AttrDesc{Catlab.Theories.CatDesc{(:V, :E, :Tri), (:src, :tgt, :∂e0, :∂e1, :∂e2), (2, 2, 3, 3, 3), (1, 1, 2, 2, 2)}, (:Orientation, :Point), (:edge_orientation, :tri_orientation, :point), (2, 3, 1), (1, 1, 2)}, Tuple{Bool, Point{3, Float32}}, (:src, :tgt, :∂e0, :∂e1, :∂e2), (), NamedTuple{(:V, :E, :Tri), Tuple{TypedTables.Table{NamedTuple{(:point,), Tuple{Point{3, Float32}}}, 1, NamedTuple{(:point,), Tuple{Vector{Point{3, Float32}}}}}, TypedTables.Table{NamedTuple{(:src, :tgt, :edge_orientation), Tuple{Int64, Int64, Bool}}, 1, NamedTuple{(:src, :tgt, :edge_orientation), Tuple{Vector{Int64}, Vector{Int64}, Vector{Bool}}}}, TypedTables.Table{NamedTuple{(:∂e0, :∂e1, :∂e2, :tri_orientation), Tuple{Int64, Int64, Int64, Bool}}, 1, NamedTuple{(:∂e0, :∂e1, :∂e2, :tri_orientation), Tuple{Vector{Int64}, Vector{Int64}, Vector{Int64}, Vector{Bool}}}}}}, NamedTuple{(:src, :tgt, :∂e0, :∂e1, :∂e2), NTuple{5, Vector{Vector{Int64}}}}})\n\u001b[0mClosest candidates are:\n\u001b[0m  coordinates(\u001b[91m::GeometryBasics.Ngon\u001b[39m) at C:\\Users\\mgatlin3\\.julia\\packages\\GeometryBasics\\pjtu1\\src\\basic_types.jl:73\n\u001b[0m  coordinates(\u001b[91m::GeometryBasics.Tesselation\u001b[39m) at C:\\Users\\mgatlin3\\.julia\\packages\\GeometryBasics\\pjtu1\\src\\interfaces.jl:74\n\u001b[0m  coordinates(\u001b[91m::GeometryBasics.Simplex\u001b[39m) at C:\\Users\\mgatlin3\\.julia\\packages\\GeometryBasics\\pjtu1\\src\\basic_types.jl:150\n\u001b[0m  ...",
      "",
      "Stacktrace:",
      "  [1] decompose(#unused#::Type{Point{3, Float32}}, primitive::Catlab.CSetDataStructures.AttributedCSet{Catlab.Theories.CatDesc{(:V, :E, :Tri), (:src, :tgt, :∂e0, :∂e1, :∂e2), (2, 2, 3, 3, 3), (1, 1, 2, 2, 2)}, Catlab.Theories.AttrDesc{Catlab.Theories.CatDesc{(:V, :E, :Tri), (:src, :tgt, :∂e0, :∂e1, :∂e2), (2, 2, 3, 3, 3), (1, 1, 2, 2, 2)}, (:Orientation, :Point), (:edge_orientation, :tri_orientation, :point), (2, 3, 1), (1, 1, 2)}, Tuple{Bool, Point{3, Float32}}, (:src, :tgt, :∂e0, :∂e1, :∂e2), (), NamedTuple{(:V, :E, :Tri), Tuple{TypedTables.Table{NamedTuple{(:point,), Tuple{Point{3, Float32}}}, 1, NamedTuple{(:point,), Tuple{Vector{Point{3, Float32}}}}}, TypedTables.Table{NamedTuple{(:src, :tgt, :edge_orientation), Tuple{Int64, Int64, Bool}}, 1, NamedTuple{(:src, :tgt, :edge_orientation), Tuple{Vector{Int64}, Vector{Int64}, Vector{Bool}}}}, TypedTables.Table{NamedTuple{(:∂e0, :∂e1, :∂e2, :tri_orientation), Tuple{Int64, Int64, Int64, Bool}}, 1, NamedTuple{(:∂e0, :∂e1, :∂e2, :tri_orientation), Tuple{Vector{Int64}, Vector{Int64}, Vector{Int64}, Vector{Bool}}}}}}, NamedTuple{(:src, :tgt, :∂e0, :∂e1, :∂e2), NTuple{5, Vector{Vector{Int64}}}}})",
      "    @ GeometryBasics C:\\Users\\mgatlin3\\.julia\\packages\\GeometryBasics\\pjtu1\\src\\interfaces.jl:109",
      "  [2] (::Makie.var\"#624#625\")(g::Catlab.CSetDataStructures.AttributedCSet{Catlab.Theories.CatDesc{(:V, :E, :Tri), (:src, :tgt, :∂e0, :∂e1, :∂e2), (2, 2, 3, 3, 3), (1, 1, 2, 2, 2)}, Catlab.Theories.AttrDesc{Catlab.Theories.CatDesc{(:V, :E, :Tri), (:src, :tgt, :∂e0, :∂e1, :∂e2), (2, 2, 3, 3, 3), (1, 1, 2, 2, 2)}, (:Orientation, :Point), (:edge_orientation, :tri_orientation, :point), (2, 3, 1), (1, 1, 2)}, Tuple{Bool, Point{3, Float32}}, (:src, :tgt, :∂e0, :∂e1, :∂e2), (), NamedTuple{(:V, :E, :Tri), Tuple{TypedTables.Table{NamedTuple{(:point,), Tuple{Point{3, Float32}}}, 1, NamedTuple{(:point,), Tuple{Vector{Point{3, Float32}}}}}, TypedTables.Table{NamedTuple{(:src, :tgt, :edge_orientation), Tuple{Int64, Int64, Bool}}, 1, NamedTuple{(:src, :tgt, :edge_orientation), Tuple{Vector{Int64}, Vector{Int64}, Vector{Bool}}}}, TypedTables.Table{NamedTuple{(:∂e0, :∂e1, :∂e2, :tri_orientation), Tuple{Int64, Int64, Int64, Bool}}, 1, NamedTuple{(:∂e0, :∂e1, :∂e2, :tri_orientation), Tuple{Vector{Int64}, Vector{Int64}, Vector{Int64}, Vector{Bool}}}}}}, NamedTuple{(:src, :tgt, :∂e0, :∂e1, :∂e2), NTuple{5, Vector{Vector{Int64}}}}})",
      "    @ Makie C:\\Users\\mgatlin3\\.julia\\packages\\Makie\\NL7Xw\\src\\basic_recipes\\wireframe.jl:43",
      "  [3] lift(::Function, ::Observable{Catlab.CSetDataStructures.AttributedCSet{Catlab.Theories.CatDesc{(:V, :E, :Tri), (:src, :tgt, :∂e0, :∂e1, :∂e2), (2, 2, 3, 3, 3), (1, 1, 2, 2, 2)}, Catlab.Theories.AttrDesc{Catlab.Theories.CatDesc{(:V, :E, :Tri), (:src, :tgt, :∂e0, :∂e1, :∂e2), (2, 2, 3, 3, 3), (1, 1, 2, 2, 2)}, (:Orientation, :Point), (:edge_orientation, :tri_orientation, :point), (2, 3, 1), (1, 1, 2)}, Tuple{Bool, Point{3, Float32}}, (:src, :tgt, :∂e0, :∂e1, :∂e2), (), NamedTuple{(:V, :E, :Tri), Tuple{TypedTables.Table{NamedTuple{(:point,), Tuple{Point{3, Float32}}}, 1, NamedTuple{(:point,), Tuple{Vector{Point{3, Float32}}}}}, TypedTables.Table{NamedTuple{(:src, :tgt, :edge_orientation), Tuple{Int64, Int64, Bool}}, 1, NamedTuple{(:src, :tgt, :edge_orientation), Tuple{Vector{Int64}, Vector{Int64}, Vector{Bool}}}}, TypedTables.Table{NamedTuple{(:∂e0, :∂e1, :∂e2, :tri_orientation), Tuple{Int64, Int64, Int64, Bool}}, 1, NamedTuple{(:∂e0, :∂e1, :∂e2, :tri_orientation), Tuple{Vector{Int64}, Vector{Int64}, Vector{Int64}, Vector{Bool}}}}}}, NamedTuple{(:src, :tgt, :∂e0, :∂e1, :∂e2), NTuple{5, Vector{Vector{Int64}}}}}}; kw::Base.Iterators.Pairs{Union{}, Union{}, Tuple{}, NamedTuple{(), Tuple{}}})",
      "    @ Makie C:\\Users\\mgatlin3\\.julia\\packages\\Makie\\NL7Xw\\src\\interaction\\nodes.jl:13",
      "  [4] lift(::Function, ::Observable{Catlab.CSetDataStructures.AttributedCSet{Catlab.Theories.CatDesc{(:V, :E, :Tri), (:src, :tgt, :∂e0, :∂e1, :∂e2), (2, 2, 3, 3, 3), (1, 1, 2, 2, 2)}, Catlab.Theories.AttrDesc{Catlab.Theories.CatDesc{(:V, :E, :Tri), (:src, :tgt, :∂e0, :∂e1, :∂e2), (2, 2, 3, 3, 3), (1, 1, 2, 2, 2)}, (:Orientation, :Point), (:edge_orientation, :tri_orientation, :point), (2, 3, 1), (1, 1, 2)}, Tuple{Bool, Point{3, Float32}}, (:src, :tgt, :∂e0, :∂e1, :∂e2), (), NamedTuple{(:V, :E, :Tri), Tuple{TypedTables.Table{NamedTuple{(:point,), Tuple{Point{3, Float32}}}, 1, NamedTuple{(:point,), Tuple{Vector{Point{3, Float32}}}}}, TypedTables.Table{NamedTuple{(:src, :tgt, :edge_orientation), Tuple{Int64, Int64, Bool}}, 1, NamedTuple{(:src, :tgt, :edge_orientation), Tuple{Vector{Int64}, Vector{Int64}, Vector{Bool}}}}, TypedTables.Table{NamedTuple{(:∂e0, :∂e1, :∂e2, :tri_orientation), Tuple{Int64, Int64, Int64, Bool}}, 1, NamedTuple{(:∂e0, :∂e1, :∂e2, :tri_orientation), Tuple{Vector{Int64}, Vector{Int64}, Vector{Int64}, Vector{Bool}}}}}}, NamedTuple{(:src, :tgt, :∂e0, :∂e1, :∂e2), NTuple{5, Vector{Vector{Int64}}}}}})",
      "    @ Makie C:\\Users\\mgatlin3\\.julia\\packages\\Makie\\NL7Xw\\src\\interaction\\nodes.jl:10",
      "  [5] plot!(plot::Combined{Makie.wireframe, Tuple{Catlab.CSetDataStructures.AttributedCSet{Catlab.Theories.CatDesc{(:V, :E, :Tri), (:src, :tgt, :∂e0, :∂e1, :∂e2), (2, 2, 3, 3, 3), (1, 1, 2, 2, 2)}, Catlab.Theories.AttrDesc{Catlab.Theories.CatDesc{(:V, :E, :Tri), (:src, :tgt, :∂e0, :∂e1, :∂e2), (2, 2, 3, 3, 3), (1, 1, 2, 2, 2)}, (:Orientation, :Point), (:edge_orientation, :tri_orientation, :point), (2, 3, 1), (1, 1, 2)}, Tuple{Bool, Point{3, Float32}}, (:src, :tgt, :∂e0, :∂e1, :∂e2), (), NamedTuple{(:V, :E, :Tri), Tuple{TypedTables.Table{NamedTuple{(:point,), Tuple{Point{3, Float32}}}, 1, NamedTuple{(:point,), Tuple{Vector{Point{3, Float32}}}}}, TypedTables.Table{NamedTuple{(:src, :tgt, :edge_orientation), Tuple{Int64, Int64, Bool}}, 1, NamedTuple{(:src, :tgt, :edge_orientation), Tuple{Vector{Int64}, Vector{Int64}, Vector{Bool}}}}, TypedTables.Table{NamedTuple{(:∂e0, :∂e1, :∂e2, :tri_orientation), Tuple{Int64, Int64, Int64, Bool}}, 1, NamedTuple{(:∂e0, :∂e1, :∂e2, :tri_orientation), Tuple{Vector{Int64}, Vector{Int64}, Vector{Int64}, Vector{Bool}}}}}}, NamedTuple{(:src, :tgt, :∂e0, :∂e1, :∂e2), NTuple{5, Vector{Vector{Int64}}}}}}})",
      "    @ Makie C:\\Users\\mgatlin3\\.julia\\packages\\Makie\\NL7Xw\\src\\basic_recipes\\wireframe.jl:40",
      "  [6] plot!(scene::Scene, P::Type{Combined{Makie.wireframe, Tuple{Catlab.CSetDataStructures.AttributedCSet{Catlab.Theories.CatDesc{(:V, :E, :Tri), (:src, :tgt, :∂e0, :∂e1, :∂e2), (2, 2, 3, 3, 3), (1, 1, 2, 2, 2)}, Catlab.Theories.AttrDesc{Catlab.Theories.CatDesc{(:V, :E, :Tri), (:src, :tgt, :∂e0, :∂e1, :∂e2), (2, 2, 3, 3, 3), (1, 1, 2, 2, 2)}, (:Orientation, :Point), (:edge_orientation, :tri_orientation, :point), (2, 3, 1), (1, 1, 2)}, Tuple{Bool, Point{3, Float32}}, (:src, :tgt, :∂e0, :∂e1, :∂e2), (), NamedTuple{(:V, :E, :Tri), Tuple{TypedTables.Table{NamedTuple{(:point,), Tuple{Point{3, Float32}}}, 1, NamedTuple{(:point,), Tuple{Vector{Point{3, Float32}}}}}, TypedTables.Table{NamedTuple{(:src, :tgt, :edge_orientation), Tuple{Int64, Int64, Bool}}, 1, NamedTuple{(:src, :tgt, :edge_orientation), Tuple{Vector{Int64}, Vector{Int64}, Vector{Bool}}}}, TypedTables.Table{NamedTuple{(:∂e0, :∂e1, :∂e2, :tri_orientation), Tuple{Int64, Int64, Int64, Bool}}, 1, NamedTuple{(:∂e0, :∂e1, :∂e2, :tri_orientation), Tuple{Vector{Int64}, Vector{Int64}, Vector{Int64}, Vector{Bool}}}}}}, NamedTuple{(:src, :tgt, :∂e0, :∂e1, :∂e2), NTuple{5, Vector{Vector{Int64}}}}}}}}, attributes::Attributes, input::Tuple{Observable{Catlab.CSetDataStructures.AttributedCSet{Catlab.Theories.CatDesc{(:V, :E, :Tri), (:src, :tgt, :∂e0, :∂e1, :∂e2), (2, 2, 3, 3, 3), (1, 1, 2, 2, 2)}, Catlab.Theories.AttrDesc{Catlab.Theories.CatDesc{(:V, :E, :Tri), (:src, :tgt, :∂e0, :∂e1, :∂e2), (2, 2, 3, 3, 3), (1, 1, 2, 2, 2)}, (:Orientation, :Point), (:edge_orientation, :tri_orientation, :point), (2, 3, 1), (1, 1, 2)}, Tuple{Bool, Point{3, Float32}}, (:src, :tgt, :∂e0, :∂e1, :∂e2), (), NamedTuple{(:V, :E, :Tri), Tuple{TypedTables.Table{NamedTuple{(:point,), Tuple{Point{3, Float32}}}, 1, NamedTuple{(:point,), Tuple{Vector{Point{3, Float32}}}}}, TypedTables.Table{NamedTuple{(:src, :tgt, :edge_orientation), Tuple{Int64, Int64, Bool}}, 1, NamedTuple{(:src, :tgt, :edge_orientation), Tuple{Vector{Int64}, Vector{Int64}, Vector{Bool}}}}, TypedTables.Table{NamedTuple{(:∂e0, :∂e1, :∂e2, :tri_orientation), Tuple{Int64, Int64, Int64, Bool}}, 1, NamedTuple{(:∂e0, :∂e1, :∂e2, :tri_orientation), Tuple{Vector{Int64}, Vector{Int64}, Vector{Int64}, Vector{Bool}}}}}}, NamedTuple{(:src, :tgt, :∂e0, :∂e1, :∂e2), NTuple{5, Vector{Vector{Int64}}}}}}}, args::Observable{Tuple{Catlab.CSetDataStructures.AttributedCSet{Catlab.Theories.CatDesc{(:V, :E, :Tri), (:src, :tgt, :∂e0, :∂e1, :∂e2), (2, 2, 3, 3, 3), (1, 1, 2, 2, 2)}, Catlab.Theories.AttrDesc{Catlab.Theories.CatDesc{(:V, :E, :Tri), (:src, :tgt, :∂e0, :∂e1, :∂e2), (2, 2, 3, 3, 3), (1, 1, 2, 2, 2)}, (:Orientation, :Point), (:edge_orientation, :tri_orientation, :point), (2, 3, 1), (1, 1, 2)}, Tuple{Bool, Point{3, Float32}}, (:src, :tgt, :∂e0, :∂e1, :∂e2), (), NamedTuple{(:V, :E, :Tri), Tuple{TypedTables.Table{NamedTuple{(:point,), Tuple{Point{3, Float32}}}, 1, NamedTuple{(:point,), Tuple{Vector{Point{3, Float32}}}}}, TypedTables.Table{NamedTuple{(:src, :tgt, :edge_orientation), Tuple{Int64, Int64, Bool}}, 1, NamedTuple{(:src, :tgt, :edge_orientation), Tuple{Vector{Int64}, Vector{Int64}, Vector{Bool}}}}, TypedTables.Table{NamedTuple{(:∂e0, :∂e1, :∂e2, :tri_orientation), Tuple{Int64, Int64, Int64, Bool}}, 1, NamedTuple{(:∂e0, :∂e1, :∂e2, :tri_orientation), Tuple{Vector{Int64}, Vector{Int64}, Vector{Int64}, Vector{Bool}}}}}}, NamedTuple{(:src, :tgt, :∂e0, :∂e1, :∂e2), NTuple{5, Vector{Vector{Int64}}}}}}})",
      "    @ Makie C:\\Users\\mgatlin3\\.julia\\packages\\Makie\\NL7Xw\\src\\interfaces.jl:428",
      "  [7] plot!(scene::Scene, P::Type{Combined{Makie.wireframe, ArgType} where ArgType}, attributes::Attributes, args::Catlab.CSetDataStructures.AttributedCSet{Catlab.Theories.CatDesc{(:V, :E, :Tri), (:src, :tgt, :∂e0, :∂e1, :∂e2), (2, 2, 3, 3, 3), (1, 1, 2, 2, 2)}, Catlab.Theories.AttrDesc{Catlab.Theories.CatDesc{(:V, :E, :Tri), (:src, :tgt, :∂e0, :∂e1, :∂e2), (2, 2, 3, 3, 3), (1, 1, 2, 2, 2)}, (:Orientation, :Point), (:edge_orientation, :tri_orientation, :point), (2, 3, 1), (1, 1, 2)}, Tuple{Bool, Point{3, Float32}}, (:src, :tgt, :∂e0, :∂e1, :∂e2), (), NamedTuple{(:V, :E, :Tri), Tuple{TypedTables.Table{NamedTuple{(:point,), Tuple{Point{3, Float32}}}, 1, NamedTuple{(:point,), Tuple{Vector{Point{3, Float32}}}}}, TypedTables.Table{NamedTuple{(:src, :tgt, :edge_orientation), Tuple{Int64, Int64, Bool}}, 1, NamedTuple{(:src, :tgt, :edge_orientation), Tuple{Vector{Int64}, Vector{Int64}, Vector{Bool}}}}, TypedTables.Table{NamedTuple{(:∂e0, :∂e1, :∂e2, :tri_orientation), Tuple{Int64, Int64, Int64, Bool}}, 1, NamedTuple{(:∂e0, :∂e1, :∂e2, :tri_orientation), Tuple{Vector{Int64}, Vector{Int64}, Vector{Int64}, Vector{Bool}}}}}}, NamedTuple{(:src, :tgt, :∂e0, :∂e1, :∂e2), NTuple{5, Vector{Vector{Int64}}}}}; kw_attributes::Base.Iterators.Pairs{Symbol, Bool, Tuple{Symbol}, NamedTuple{(:show_axis,), Tuple{Bool}}})",
      "    @ Makie C:\\Users\\mgatlin3\\.julia\\packages\\Makie\\NL7Xw\\src\\interfaces.jl:339",
      "  [8] plot(P::Type{Combined{Makie.wireframe, ArgType} where ArgType}, args::Catlab.CSetDataStructures.AttributedCSet{Catlab.Theories.CatDesc{(:V, :E, :Tri), (:src, :tgt, :∂e0, :∂e1, :∂e2), (2, 2, 3, 3, 3), (1, 1, 2, 2, 2)}, Catlab.Theories.AttrDesc{Catlab.Theories.CatDesc{(:V, :E, :Tri), (:src, :tgt, :∂e0, :∂e1, :∂e2), (2, 2, 3, 3, 3), (1, 1, 2, 2, 2)}, (:Orientation, :Point), (:edge_orientation, :tri_orientation, :point), (2, 3, 1), (1, 1, 2)}, Tuple{Bool, Point{3, Float32}}, (:src, :tgt, :∂e0, :∂e1, :∂e2), (), NamedTuple{(:V, :E, :Tri), Tuple{TypedTables.Table{NamedTuple{(:point,), Tuple{Point{3, Float32}}}, 1, NamedTuple{(:point,), Tuple{Vector{Point{3, Float32}}}}}, TypedTables.Table{NamedTuple{(:src, :tgt, :edge_orientation), Tuple{Int64, Int64, Bool}}, 1, NamedTuple{(:src, :tgt, :edge_orientation), Tuple{Vector{Int64}, Vector{Int64}, Vector{Bool}}}}, TypedTables.Table{NamedTuple{(:∂e0, :∂e1, :∂e2, :tri_orientation), Tuple{Int64, Int64, Int64, Bool}}, 1, NamedTuple{(:∂e0, :∂e1, :∂e2, :tri_orientation), Tuple{Vector{Int64}, Vector{Int64}, Vector{Int64}, Vector{Bool}}}}}}, NamedTuple{(:src, :tgt, :∂e0, :∂e1, :∂e2), NTuple{5, Vector{Vector{Int64}}}}}; axis::NamedTuple{(), Tuple{}}, figure::NamedTuple{(), Tuple{}}, kw_attributes::Base.Iterators.Pairs{Union{}, Union{}, Tuple{}, NamedTuple{(), Tuple{}}})",
      "    @ Makie C:\\Users\\mgatlin3\\.julia\\packages\\Makie\\NL7Xw\\src\\figureplotting.jl:28",
      "  [9] plot",
      "    @ C:\\Users\\mgatlin3\\.julia\\packages\\Makie\\NL7Xw\\src\\figureplotting.jl:18 [inlined]",
      " [10] wireframe(args::Catlab.CSetDataStructures.AttributedCSet{Catlab.Theories.CatDesc{(:V, :E, :Tri), (:src, :tgt, :∂e0, :∂e1, :∂e2), (2, 2, 3, 3, 3), (1, 1, 2, 2, 2)}, Catlab.Theories.AttrDesc{Catlab.Theories.CatDesc{(:V, :E, :Tri), (:src, :tgt, :∂e0, :∂e1, :∂e2), (2, 2, 3, 3, 3), (1, 1, 2, 2, 2)}, (:Orientation, :Point), (:edge_orientation, :tri_orientation, :point), (2, 3, 1), (1, 1, 2)}, Tuple{Bool, Point{3, Float32}}, (:src, :tgt, :∂e0, :∂e1, :∂e2), (), NamedTuple{(:V, :E, :Tri), Tuple{TypedTables.Table{NamedTuple{(:point,), Tuple{Point{3, Float32}}}, 1, NamedTuple{(:point,), Tuple{Vector{Point{3, Float32}}}}}, TypedTables.Table{NamedTuple{(:src, :tgt, :edge_orientation), Tuple{Int64, Int64, Bool}}, 1, NamedTuple{(:src, :tgt, :edge_orientation), Tuple{Vector{Int64}, Vector{Int64}, Vector{Bool}}}}, TypedTables.Table{NamedTuple{(:∂e0, :∂e1, :∂e2, :tri_orientation), Tuple{Int64, Int64, Int64, Bool}}, 1, NamedTuple{(:∂e0, :∂e1, :∂e2, :tri_orientation), Tuple{Vector{Int64}, Vector{Int64}, Vector{Int64}, Vector{Bool}}}}}}, NamedTuple{(:src, :tgt, :∂e0, :∂e1, :∂e2), NTuple{5, Vector{Vector{Int64}}}}}; attributes::Base.Iterators.Pairs{Union{}, Union{}, Tuple{}, NamedTuple{(), Tuple{}}})",
      "    @ Makie C:\\Users\\mgatlin3\\.julia\\packages\\MakieCore\\S8PkO\\src\\recipes.jl:31",
      " [11] wireframe(args::Catlab.CSetDataStructures.AttributedCSet{Catlab.Theories.CatDesc{(:V, :E, :Tri), (:src, :tgt, :∂e0, :∂e1, :∂e2), (2, 2, 3, 3, 3), (1, 1, 2, 2, 2)}, Catlab.Theories.AttrDesc{Catlab.Theories.CatDesc{(:V, :E, :Tri), (:src, :tgt, :∂e0, :∂e1, :∂e2), (2, 2, 3, 3, 3), (1, 1, 2, 2, 2)}, (:Orientation, :Point), (:edge_orientation, :tri_orientation, :point), (2, 3, 1), (1, 1, 2)}, Tuple{Bool, Point{3, Float32}}, (:src, :tgt, :∂e0, :∂e1, :∂e2), (), NamedTuple{(:V, :E, :Tri), Tuple{TypedTables.Table{NamedTuple{(:point,), Tuple{Point{3, Float32}}}, 1, NamedTuple{(:point,), Tuple{Vector{Point{3, Float32}}}}}, TypedTables.Table{NamedTuple{(:src, :tgt, :edge_orientation), Tuple{Int64, Int64, Bool}}, 1, NamedTuple{(:src, :tgt, :edge_orientation), Tuple{Vector{Int64}, Vector{Int64}, Vector{Bool}}}}, TypedTables.Table{NamedTuple{(:∂e0, :∂e1, :∂e2, :tri_orientation), Tuple{Int64, Int64, Int64, Bool}}, 1, NamedTuple{(:∂e0, :∂e1, :∂e2, :tri_orientation), Tuple{Vector{Int64}, Vector{Int64}, Vector{Int64}, Vector{Bool}}}}}}, NamedTuple{(:src, :tgt, :∂e0, :∂e1, :∂e2), NTuple{5, Vector{Vector{Int64}}}}})",
      "    @ Makie C:\\Users\\mgatlin3\\.julia\\packages\\MakieCore\\S8PkO\\src\\recipes.jl:31",
      " [12] top-level scope",
      "    @ In[6]:5",
      " [13] eval",
      "    @ .\\boot.jl:360 [inlined]",
      " [14] include_string(mapexpr::typeof(REPL.softscope), mod::Module, code::String, filename::String)",
      "    @ Base .\\loading.jl:1094"
     ]
    }
   ],
   "source": [
    "# Define mesh\n",
    "s = EmbeddedDeltaSet2D(\"meshes/string.obj\")\n",
    "sd = dual(s)\n",
    "\n",
    "figure, axis, ob = wireframe(s)\n",
    "# axis.aspect = AxisAspect(10/1)\n",
    "figure"
   ]
  },
  {
   "cell_type": "markdown",
   "id": "cd53b74a",
   "metadata": {},
   "source": []
  }
 ],
 "metadata": {
  "kernelspec": {
   "display_name": "Julia 1.6.1",
   "language": "julia",
   "name": "julia-1.6"
  },
  "language_info": {
   "file_extension": ".jl",
   "mimetype": "application/julia",
   "name": "julia",
   "version": "1.6.1"
  }
 },
 "nbformat": 4,
 "nbformat_minor": 5
}
