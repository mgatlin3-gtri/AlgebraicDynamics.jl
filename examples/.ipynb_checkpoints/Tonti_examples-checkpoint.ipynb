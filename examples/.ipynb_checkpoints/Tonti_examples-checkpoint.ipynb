{
 "cells": [
  {
   "cell_type": "code",
   "execution_count": null,
   "metadata": {},
   "outputs": [],
   "source": [
    "using Catlab.Graphs\n",
    "using Catlab.Graphics\n",
    "using Catlab.CategoricalAlgebra\n",
    "using CombinatorialSpaces\n",
    "using Distributions\n",
    "using CairoMakie\n",
    "using DifferentialEquations\n",
    "using AlgebraicDynamics.TontiDiagrams\n",
    "\n",
    "using Logging: global_logger\n",
    "using TerminalLoggers: TerminalLogger\n",
    "global_logger(TerminalLogger())"
   ]
  },
  {
   "cell_type": "code",
   "execution_count": null,
   "metadata": {},
   "outputs": [],
   "source": [
    "function gen_form(s::EmbeddedDeltaSet2D, f::Function)\n",
    "  map(f, point(s))\n",
    "end\n",
    "\n",
    "s = EmbeddedDeltaSet2D(\"meshes/naca0012_8.stl\");\n",
    "sp = Space(s)\n",
    "sd = sp.sd"
   ]
  },
  {
   "cell_type": "code",
   "execution_count": null,
   "metadata": {},
   "outputs": [],
   "source": [
    "# Get boundary masks for BCs\n",
    "boundary_e = findall(x -> x != 0, boundary(Val{2},s) * fill(1,ntriangles(s)))\n",
    "boundary_v = unique(vcat(s[boundary_e,:src],s[boundary_e,:tgt]))\n",
    "\n",
    "obj_v = filter(x->all((-15.0,-10.0,0.0) .<= s[x,:point] .<= (15.0,10.0,0.0)), boundary_v)\n",
    "obj_e = unique(vcat(incident(s, obj_v,:src)..., incident(s, obj_v,:tgt)...));\n",
    "\n",
    "left_v = filter(x->all((-50,-15.0,0.0) .<= s[x,:point] .<= (-50.0,15.0,0.0)), boundary_v)\n",
    "left_e = unique(vcat(incident(s, left_v,:src)..., incident(s, left_v,:tgt)...));\n",
    "\n",
    "right_v = filter(x->all((50,-15.0,0.0) .<= s[x,:point] .<= (50.0,15.0,0.0)), boundary_v)\n",
    "right_e = unique(vcat(incident(s, right_v,:src)..., incident(s, right_v,:tgt)...));\n",
    "\n",
    "top_v = filter(x->all((-50,15.0,0.0) .<= s[x,:point] .<= (50.0,15.0,0.0)), boundary_v)\n",
    "top_e = unique(vcat(incident(s, top_v,:src)..., incident(s, top_v,:tgt)...));\n",
    "\n",
    "bot_v = filter(x->all((-50,-15.0,0.0) .<= s[x,:point] .<= (50.0,-15.0,0.0)), boundary_v)\n",
    "bot_e = unique(vcat(incident(s, bot_v,:src)..., incident(s, bot_v,:tgt)...));\n",
    "\n",
    "center_v = filter(x->all((-15.0,-10.0,0.0) .<= s[x,:point] .<= (15.0,10.0,0.0)), 1:nv(s))\n",
    "\n",
    "# Define DEC operators (will be moved to TontiDiagram tooling)\n",
    "\n",
    "td = TontiDiagrams.TontiDiagram()"
   ]
  },
  {
   "cell_type": "code",
   "execution_count": null,
   "metadata": {},
   "outputs": [],
   "source": [
    "# Flow\n",
    "add_variables!(td, (:u,1,false),(:∂u,1,false), (:∂v,1,true))\n",
    "add_transition!(td, [:v], (u,v)->(u .= sp.hodge[1,2]*v) ,[:u])\n",
    "add_transition!(td, [:u,:v],\n",
    "  (∂u,u,v)->( (sp.hodge[1,2]*∧(Tuple{1,0},sd,v,sp.hodge[2,3]*sp.boundary[2,2]*u) .+ sp.boundary[2,1]*sp.hodge[1,3]*∧(Tuple{1,1},sd,v,sp.hodge[2,2]*u)))\n",
    "  ,[:∂u])\n",
    "add_transition!(td, [:∂u], (∂v, ∂u)->(∂v .= sp.hodge[2,2]*∂u) ,[:∂v])\n",
    "lap_arr = sp.boundary[1,1]*sp.hodge[2,3]*sp.boundary[2,2]*sp.hodge[1,2] + sp.hodge[2,2]*sp.boundary[2,1]*sp.hodge[1,3]*sp.boundary[1,2]\n",
    "add_laplacian!(td, sp, :v, :∂v; coef = 1)\n",
    "add_time_dep!(td, :∂v, :v)\n",
    "\n",
    "add_bc!(td, :∂v, v->(v[vcat(left_e,right_e)].=0))\n",
    "add_bc!(td, :v, v->(v[vcat(top_e,bot_e, obj_e)].=0))"
   ]
  }
 ],
 "metadata": {
  "kernelspec": {
   "display_name": "Julia 1.6.1",
   "language": "julia",
   "name": "julia-1.6"
  },
  "language_info": {
   "file_extension": ".jl",
   "mimetype": "application/julia",
   "name": "julia",
   "version": "1.6.1"
  }
 },
 "nbformat": 4,
 "nbformat_minor": 4
}
